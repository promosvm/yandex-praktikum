{
 "cells": [
  {
   "cell_type": "code",
   "execution_count": 1,
   "metadata": {},
   "outputs": [
    {
     "data": {
      "application/javascript": [
       "\n",
       "            setTimeout(function() {\n",
       "                var nbb_cell_id = 1;\n",
       "                var nbb_unformatted_code = \"%load_ext nb_black\";\n",
       "                var nbb_formatted_code = \"%load_ext nb_black\";\n",
       "                var nbb_cells = Jupyter.notebook.get_cells();\n",
       "                for (var i = 0; i < nbb_cells.length; ++i) {\n",
       "                    if (nbb_cells[i].input_prompt_number == nbb_cell_id) {\n",
       "                        if (nbb_cells[i].get_text() == nbb_unformatted_code) {\n",
       "                             nbb_cells[i].set_text(nbb_formatted_code);\n",
       "                        }\n",
       "                        break;\n",
       "                    }\n",
       "                }\n",
       "            }, 500);\n",
       "            "
      ],
      "text/plain": [
       "<IPython.core.display.Javascript object>"
      ]
     },
     "metadata": {},
     "output_type": "display_data"
    }
   ],
   "source": [
    "%load_ext nb_black"
   ]
  },
  {
   "cell_type": "markdown",
   "metadata": {},
   "source": [
    "# Анализ тарифных планов "
   ]
  },
  {
   "cell_type": "markdown",
   "metadata": {},
   "source": [
    "<p><b>Цель исследования</b> - выбор оптимального тарифа мобильного оператора.<p>"
   ]
  },
  {
   "cell_type": "markdown",
   "metadata": {},
   "source": [
    "<p><b>Задачи:</b><p>\n",
    "<p><b> 1. Провести анализ поведения абонентов мобильного оператора.</b>    \n",
    "<p>1.1 Определить сколько <b>каждый абонент</b> в месяц:\n",
    "<p>а) Совершает звонков.<p>\n",
    "<p>б) Расходует минут на разговоры.<p>\n",
    "<p>в) Отправляет сообщений.<p>\n",
    "<p>г) Расходует интернет-трафика.<p>\n",
    "<p>2.1 Определить выручку <b>на одного</b> клиента в месяц:    \n",
    "<p><b> 2. Провести анализ поведения абонентов на двух тарифных планах \"Смарт\", \"Ультра\".</b>    \n",
    "<p>1.1 Определить количество, необходимых клиенту в месяц, на тарифных планах \"Смарт\" и \"Ультра\":\n",
    "    <p>а) Минут. <p>\n",
    "    <p>б) Сообщений.<p>  \n",
    "    <p>в) Объема интернет-трафика.<p>\n",
    "<p>3. Провести анализ средней выручки пользователей на двух тарифах - \"Смарт\" и \"Ультра\":\n",
    "<p>4. Провести анализ средней выручки пользователей в Москве и других регионах.   "
   ]
  },
  {
   "cell_type": "markdown",
   "metadata": {},
   "source": [
    "<h1>Содержание<span class=\"tocSkip\"></span></h1>\n",
    "\n",
    "[1. Изучение данных из файла и обработка](#1)\n",
    "\n",
    "   - [1.1 Таблица users](#1.1)\n",
    "   - [1.2 Таблица calls](#1.2)\n",
    "   - [1.3 Таблица messages](#1.3)\n",
    "   - [1.4 Таблица internet](#1.4)\n",
    "   - [Вывод](#1.6) \n",
    "   \n",
    "[2. Анализ поведения абонентов мобильного оператора](#2)\n",
    "   - [2.1 Предварительная подготовка данных](#2.1)\n",
    "   - [2.2 Группировка данных](#2.2)\n",
    "   - [2.3 Расчет ежемесячной выручки](#2.3)\n",
    "\n",
    "[3. Анализ поведения абонентов мобильного оператора на тарифных планах \"Смарт\" и \"Ультра\"](#3)\n",
    "   - [3.1 Колличество минут необходимое абоненту](#3.1)\n",
    "   - [3.2 Статистические показатели по тарифным планам Смарт и Ультра ](#3.2)\n",
    "   - [3.3 Гистограммы распределения](#3.3)\n",
    "\n",
    "[4. Проверка гипотез](#4)\n",
    "   - [4.1 Гипотеза №1 \"Средняя выручка пользователей тарифов \"Ультра\" и \"Смарт\" различаются\"](#4.1)\n",
    "   - [4.2 Гипотеза №2\t\"Средняя выручка пользователей из Москвы отличается от выручки пользователей из других регионов\"](#4.2)\n",
    "   \n",
    "[5. Вывод](#5)\n"
   ]
  },
  {
   "cell_type": "markdown",
   "metadata": {},
   "source": [
    "<div class=\"alert alert-success\">\n",
    "<b>Комментарий ревьюера:</b> Молодец, что добавил цель исследования, расписал задачи и сделал содержание. </div>"
   ]
  },
  {
   "cell_type": "markdown",
   "metadata": {},
   "source": [
    "## 1. Изучение данных из файла и обработка <a class=\"anchor\" id=\"1\"></a>"
   ]
  },
  {
   "cell_type": "code",
   "execution_count": 1,
   "metadata": {
    "code_folding": []
   },
   "outputs": [],
   "source": [
    "# Импортируем библиотеки необходимые для работы\n",
    "import pandas as pd\n",
    "import numpy as np\n",
    "import statistics\n",
    "import matplotlib.pyplot as plt\n",
    "from scipy import stats as st\n",
    "from functools import reduce\n",
    "import seaborn as sns"
   ]
  },
  {
   "cell_type": "code",
   "execution_count": 3,
   "metadata": {},
   "outputs": [
    {
     "data": {
      "application/javascript": [
       "\n",
       "            setTimeout(function() {\n",
       "                var nbb_cell_id = 3;\n",
       "                var nbb_unformatted_code = \"# \\u0441\\u043e\\u0437\\u0434\\u0430\\u0434\\u0438\\u043c DataFrame\\nusers = pd.read_csv(\\n    \\\"users.csv\\\"\\n)  # \\u0432 \\u043f\\u0435\\u0440\\u0435\\u043c\\u0435\\u043d\\u043d\\u0443\\u044e users \\u043f\\u043e\\u043c\\u0435\\u0449\\u0430\\u0435\\u043c \\u0437\\u043d\\u0430\\u0447\\u0435\\u043d\\u0438\\u0435 \\u0442\\u0430\\u0431\\u043b\\u0438\\u0446\\u044b users.csv\\ncalls = pd.read_csv(\\n    \\\"calls.csv\\\"\\n)  # \\u0432 \\u043f\\u0435\\u0440\\u0435\\u043c\\u0435\\u043d\\u043d\\u0443\\u044e calls \\u043f\\u043e\\u043c\\u0435\\u0449\\u0430\\u0435\\u043c \\u0437\\u043d\\u0430\\u0447\\u0435\\u043d\\u0438\\u0435 \\u0442\\u0430\\u0431\\u043b\\u0438\\u0446\\u044b calls.csv\\nmessages = pd.read_csv(\\n    \\\"messages.csv\\\"\\n)  # \\u0432 \\u043f\\u0435\\u0440\\u0435\\u043c\\u0435\\u043d\\u043d\\u0443\\u044e messages \\u043f\\u043e\\u043c\\u0435\\u0449\\u0430\\u0435\\u043c \\u0437\\u043d\\u0430\\u0447\\u0435\\u043d\\u0438\\u0435 \\u0442\\u0430\\u0431\\u043b\\u0438\\u0446\\u044b messages.csv\\ninternet = pd.read_csv(\\n    \\\"internet.csv\\\", index_col=0\\n)  # \\u0432 \\u043f\\u0435\\u0440\\u0435\\u043c\\u0435\\u043d\\u043d\\u0443\\u044e internet \\u043f\\u043e\\u043c\\u0435\\u0449\\u0430\\u0435\\u043c \\u0437\\u043d\\u0430\\u0447\\u0435\\u043d\\u0438\\u0435 \\u0442\\u0430\\u0431\\u043b\\u0438\\u0446\\u044b internet.csv\\ntariffs = pd.read_csv(\\n    \\\"tariffs.csv\\\"\\n)  # \\u0432 \\u043f\\u0435\\u0440\\u0435\\u043c\\u0435\\u043d\\u043d\\u0443\\u044e tariffs \\u043f\\u043e\\u043c\\u0435\\u0449\\u0430\\u0435\\u043c \\u0437\\u043d\\u0430\\u0447\\u0435\\u043d\\u0438\\u0435 \\u0442\\u0430\\u0431\\u043b\\u0438\\u0446\\u044b tariffs.csv\";\n",
       "                var nbb_formatted_code = \"# \\u0441\\u043e\\u0437\\u0434\\u0430\\u0434\\u0438\\u043c DataFrame\\nusers = pd.read_csv(\\n    \\\"users.csv\\\"\\n)  # \\u0432 \\u043f\\u0435\\u0440\\u0435\\u043c\\u0435\\u043d\\u043d\\u0443\\u044e users \\u043f\\u043e\\u043c\\u0435\\u0449\\u0430\\u0435\\u043c \\u0437\\u043d\\u0430\\u0447\\u0435\\u043d\\u0438\\u0435 \\u0442\\u0430\\u0431\\u043b\\u0438\\u0446\\u044b users.csv\\ncalls = pd.read_csv(\\n    \\\"calls.csv\\\"\\n)  # \\u0432 \\u043f\\u0435\\u0440\\u0435\\u043c\\u0435\\u043d\\u043d\\u0443\\u044e calls \\u043f\\u043e\\u043c\\u0435\\u0449\\u0430\\u0435\\u043c \\u0437\\u043d\\u0430\\u0447\\u0435\\u043d\\u0438\\u0435 \\u0442\\u0430\\u0431\\u043b\\u0438\\u0446\\u044b calls.csv\\nmessages = pd.read_csv(\\n    \\\"messages.csv\\\"\\n)  # \\u0432 \\u043f\\u0435\\u0440\\u0435\\u043c\\u0435\\u043d\\u043d\\u0443\\u044e messages \\u043f\\u043e\\u043c\\u0435\\u0449\\u0430\\u0435\\u043c \\u0437\\u043d\\u0430\\u0447\\u0435\\u043d\\u0438\\u0435 \\u0442\\u0430\\u0431\\u043b\\u0438\\u0446\\u044b messages.csv\\ninternet = pd.read_csv(\\n    \\\"internet.csv\\\", index_col=0\\n)  # \\u0432 \\u043f\\u0435\\u0440\\u0435\\u043c\\u0435\\u043d\\u043d\\u0443\\u044e internet \\u043f\\u043e\\u043c\\u0435\\u0449\\u0430\\u0435\\u043c \\u0437\\u043d\\u0430\\u0447\\u0435\\u043d\\u0438\\u0435 \\u0442\\u0430\\u0431\\u043b\\u0438\\u0446\\u044b internet.csv\\ntariffs = pd.read_csv(\\n    \\\"tariffs.csv\\\"\\n)  # \\u0432 \\u043f\\u0435\\u0440\\u0435\\u043c\\u0435\\u043d\\u043d\\u0443\\u044e tariffs \\u043f\\u043e\\u043c\\u0435\\u0449\\u0430\\u0435\\u043c \\u0437\\u043d\\u0430\\u0447\\u0435\\u043d\\u0438\\u0435 \\u0442\\u0430\\u0431\\u043b\\u0438\\u0446\\u044b tariffs.csv\";\n",
       "                var nbb_cells = Jupyter.notebook.get_cells();\n",
       "                for (var i = 0; i < nbb_cells.length; ++i) {\n",
       "                    if (nbb_cells[i].input_prompt_number == nbb_cell_id) {\n",
       "                        if (nbb_cells[i].get_text() == nbb_unformatted_code) {\n",
       "                             nbb_cells[i].set_text(nbb_formatted_code);\n",
       "                        }\n",
       "                        break;\n",
       "                    }\n",
       "                }\n",
       "            }, 500);\n",
       "            "
      ],
      "text/plain": [
       "<IPython.core.display.Javascript object>"
      ]
     },
     "metadata": {},
     "output_type": "display_data"
    }
   ],
   "source": [
    "# создадим DataFrame\n",
    "users = pd.read_csv(\n",
    "    \"users.csv\"\n",
    ")  # в переменную users помещаем значение таблицы users.csv\n",
    "calls = pd.read_csv(\n",
    "    \"calls.csv\"\n",
    ")  # в переменную calls помещаем значение таблицы calls.csv\n",
    "messages = pd.read_csv(\n",
    "    \"messages.csv\"\n",
    ")  # в переменную messages помещаем значение таблицы messages.csv\n",
    "internet = pd.read_csv(\n",
    "    \"internet.csv\", index_col=0\n",
    ")  # в переменную internet помещаем значение таблицы internet.csv\n",
    "tariffs = pd.read_csv(\n",
    "    \"tariffs.csv\"\n",
    ")  # в переменную tariffs помещаем значение таблицы tariffs.csv"
   ]
  },
  {
   "cell_type": "markdown",
   "metadata": {},
   "source": [
    "### 1.1 Таблица users <a class=\"anchor\" id=\"1.1\"></a>"
   ]
  },
  {
   "cell_type": "code",
   "execution_count": 3,
   "metadata": {
    "scrolled": true
   },
   "outputs": [
    {
     "data": {
      "text/html": [
       "<div>\n",
       "<style scoped>\n",
       "    .dataframe tbody tr th:only-of-type {\n",
       "        vertical-align: middle;\n",
       "    }\n",
       "\n",
       "    .dataframe tbody tr th {\n",
       "        vertical-align: top;\n",
       "    }\n",
       "\n",
       "    .dataframe thead th {\n",
       "        text-align: right;\n",
       "    }\n",
       "</style>\n",
       "<table border=\"1\" class=\"dataframe\">\n",
       "  <thead>\n",
       "    <tr style=\"text-align: right;\">\n",
       "      <th></th>\n",
       "      <th>user_id</th>\n",
       "      <th>age</th>\n",
       "      <th>churn_date</th>\n",
       "      <th>city</th>\n",
       "      <th>first_name</th>\n",
       "      <th>last_name</th>\n",
       "      <th>reg_date</th>\n",
       "      <th>tariff</th>\n",
       "    </tr>\n",
       "  </thead>\n",
       "  <tbody>\n",
       "    <tr>\n",
       "      <th>0</th>\n",
       "      <td>1000</td>\n",
       "      <td>52</td>\n",
       "      <td>NaN</td>\n",
       "      <td>Краснодар</td>\n",
       "      <td>Рафаил</td>\n",
       "      <td>Верещагин</td>\n",
       "      <td>2018-05-25</td>\n",
       "      <td>ultra</td>\n",
       "    </tr>\n",
       "    <tr>\n",
       "      <th>1</th>\n",
       "      <td>1001</td>\n",
       "      <td>41</td>\n",
       "      <td>NaN</td>\n",
       "      <td>Москва</td>\n",
       "      <td>Иван</td>\n",
       "      <td>Ежов</td>\n",
       "      <td>2018-11-01</td>\n",
       "      <td>smart</td>\n",
       "    </tr>\n",
       "    <tr>\n",
       "      <th>2</th>\n",
       "      <td>1002</td>\n",
       "      <td>59</td>\n",
       "      <td>NaN</td>\n",
       "      <td>Стерлитамак</td>\n",
       "      <td>Евгений</td>\n",
       "      <td>Абрамович</td>\n",
       "      <td>2018-06-17</td>\n",
       "      <td>smart</td>\n",
       "    </tr>\n",
       "    <tr>\n",
       "      <th>3</th>\n",
       "      <td>1003</td>\n",
       "      <td>23</td>\n",
       "      <td>NaN</td>\n",
       "      <td>Москва</td>\n",
       "      <td>Белла</td>\n",
       "      <td>Белякова</td>\n",
       "      <td>2018-08-17</td>\n",
       "      <td>ultra</td>\n",
       "    </tr>\n",
       "    <tr>\n",
       "      <th>4</th>\n",
       "      <td>1004</td>\n",
       "      <td>68</td>\n",
       "      <td>NaN</td>\n",
       "      <td>Новокузнецк</td>\n",
       "      <td>Татьяна</td>\n",
       "      <td>Авдеенко</td>\n",
       "      <td>2018-05-14</td>\n",
       "      <td>ultra</td>\n",
       "    </tr>\n",
       "  </tbody>\n",
       "</table>\n",
       "</div>"
      ],
      "text/plain": [
       "   user_id  age churn_date         city first_name  last_name    reg_date  \\\n",
       "0     1000   52        NaN    Краснодар     Рафаил  Верещагин  2018-05-25   \n",
       "1     1001   41        NaN       Москва       Иван       Ежов  2018-11-01   \n",
       "2     1002   59        NaN  Стерлитамак    Евгений  Абрамович  2018-06-17   \n",
       "3     1003   23        NaN       Москва      Белла   Белякова  2018-08-17   \n",
       "4     1004   68        NaN  Новокузнецк    Татьяна   Авдеенко  2018-05-14   \n",
       "\n",
       "  tariff  \n",
       "0  ultra  \n",
       "1  smart  \n",
       "2  smart  \n",
       "3  ultra  \n",
       "4  ultra  "
      ]
     },
     "execution_count": 3,
     "metadata": {},
     "output_type": "execute_result"
    }
   ],
   "source": [
    "# выведем первые 5 строчек на экран\n",
    "users.head(5)"
   ]
  },
  {
   "cell_type": "code",
   "execution_count": 4,
   "metadata": {},
   "outputs": [
    {
     "name": "stdout",
     "output_type": "stream",
     "text": [
      "<class 'pandas.core.frame.DataFrame'>\n",
      "RangeIndex: 500 entries, 0 to 499\n",
      "Data columns (total 8 columns):\n",
      " #   Column      Non-Null Count  Dtype \n",
      "---  ------      --------------  ----- \n",
      " 0   user_id     500 non-null    int64 \n",
      " 1   age         500 non-null    int64 \n",
      " 2   churn_date  38 non-null     object\n",
      " 3   city        500 non-null    object\n",
      " 4   first_name  500 non-null    object\n",
      " 5   last_name   500 non-null    object\n",
      " 6   reg_date    500 non-null    object\n",
      " 7   tariff      500 non-null    object\n",
      "dtypes: int64(2), object(6)\n",
      "memory usage: 31.4+ KB\n"
     ]
    }
   ],
   "source": [
    "# выведем информацию о таблице\n",
    "users.info()"
   ]
  },
  {
   "cell_type": "code",
   "execution_count": 5,
   "metadata": {},
   "outputs": [
    {
     "data": {
      "text/plain": [
       "user_id       500\n",
       "age            58\n",
       "churn_date     33\n",
       "city           76\n",
       "first_name    246\n",
       "last_name     419\n",
       "reg_date      270\n",
       "tariff          2\n",
       "dtype: int64"
      ]
     },
     "execution_count": 5,
     "metadata": {},
     "output_type": "execute_result"
    }
   ],
   "source": [
    "# Проверю уникальные значения\n",
    "users.nunique()"
   ]
  },
  {
   "cell_type": "code",
   "execution_count": 6,
   "metadata": {
    "scrolled": true
   },
   "outputs": [
    {
     "data": {
      "text/plain": [
       "0"
      ]
     },
     "execution_count": 6,
     "metadata": {},
     "output_type": "execute_result"
    }
   ],
   "source": [
    "# Прверю дубликаты\n",
    "users.duplicated().sum()"
   ]
  },
  {
   "cell_type": "markdown",
   "metadata": {},
   "source": [
    "Вывод:\n",
    "\n",
    "В таблице users содержатся данные по абонентам, всего абонентов 500. \n",
    "\n",
    "Дубликатов нет. \n",
    "\n",
    "В столбце *churn_date* имеются пропущенные значения, но по условию задачи пропущенные значения - абнонет пользуется тарифом. \n",
    "\n",
    "В столбцах churn_date, reg_date надо изменить тип данных на date. "
   ]
  },
  {
   "cell_type": "markdown",
   "metadata": {},
   "source": [
    "Преобразуем данные"
   ]
  },
  {
   "cell_type": "code",
   "execution_count": 7,
   "metadata": {},
   "outputs": [],
   "source": [
    "users[\"churn_date\"] = pd.to_datetime(users[\"churn_date\"], format=\"%Y-%m-%dT\")\n",
    "users[\"reg_date\"] = pd.to_datetime(users[\"reg_date\"], format=\"%Y-%m-%dT\")"
   ]
  },
  {
   "cell_type": "markdown",
   "metadata": {},
   "source": [
    "### 1. 2 Таблица calls <a class=\"anchor\" id=\"1.2\"></a>"
   ]
  },
  {
   "cell_type": "code",
   "execution_count": 8,
   "metadata": {},
   "outputs": [
    {
     "data": {
      "text/html": [
       "<div>\n",
       "<style scoped>\n",
       "    .dataframe tbody tr th:only-of-type {\n",
       "        vertical-align: middle;\n",
       "    }\n",
       "\n",
       "    .dataframe tbody tr th {\n",
       "        vertical-align: top;\n",
       "    }\n",
       "\n",
       "    .dataframe thead th {\n",
       "        text-align: right;\n",
       "    }\n",
       "</style>\n",
       "<table border=\"1\" class=\"dataframe\">\n",
       "  <thead>\n",
       "    <tr style=\"text-align: right;\">\n",
       "      <th></th>\n",
       "      <th>id</th>\n",
       "      <th>call_date</th>\n",
       "      <th>duration</th>\n",
       "      <th>user_id</th>\n",
       "    </tr>\n",
       "  </thead>\n",
       "  <tbody>\n",
       "    <tr>\n",
       "      <th>0</th>\n",
       "      <td>1000_0</td>\n",
       "      <td>2018-07-25</td>\n",
       "      <td>0.00</td>\n",
       "      <td>1000</td>\n",
       "    </tr>\n",
       "    <tr>\n",
       "      <th>1</th>\n",
       "      <td>1000_1</td>\n",
       "      <td>2018-08-17</td>\n",
       "      <td>0.00</td>\n",
       "      <td>1000</td>\n",
       "    </tr>\n",
       "    <tr>\n",
       "      <th>2</th>\n",
       "      <td>1000_2</td>\n",
       "      <td>2018-06-11</td>\n",
       "      <td>2.85</td>\n",
       "      <td>1000</td>\n",
       "    </tr>\n",
       "    <tr>\n",
       "      <th>3</th>\n",
       "      <td>1000_3</td>\n",
       "      <td>2018-09-21</td>\n",
       "      <td>13.80</td>\n",
       "      <td>1000</td>\n",
       "    </tr>\n",
       "    <tr>\n",
       "      <th>4</th>\n",
       "      <td>1000_4</td>\n",
       "      <td>2018-12-15</td>\n",
       "      <td>5.18</td>\n",
       "      <td>1000</td>\n",
       "    </tr>\n",
       "  </tbody>\n",
       "</table>\n",
       "</div>"
      ],
      "text/plain": [
       "       id   call_date  duration  user_id\n",
       "0  1000_0  2018-07-25      0.00     1000\n",
       "1  1000_1  2018-08-17      0.00     1000\n",
       "2  1000_2  2018-06-11      2.85     1000\n",
       "3  1000_3  2018-09-21     13.80     1000\n",
       "4  1000_4  2018-12-15      5.18     1000"
      ]
     },
     "execution_count": 8,
     "metadata": {},
     "output_type": "execute_result"
    }
   ],
   "source": [
    "# выведем первые 5 строчек на экран\n",
    "calls.head(5)"
   ]
  },
  {
   "cell_type": "code",
   "execution_count": 9,
   "metadata": {
    "scrolled": true
   },
   "outputs": [
    {
     "name": "stdout",
     "output_type": "stream",
     "text": [
      "<class 'pandas.core.frame.DataFrame'>\n",
      "RangeIndex: 202607 entries, 0 to 202606\n",
      "Data columns (total 4 columns):\n",
      " #   Column     Non-Null Count   Dtype  \n",
      "---  ------     --------------   -----  \n",
      " 0   id         202607 non-null  object \n",
      " 1   call_date  202607 non-null  object \n",
      " 2   duration   202607 non-null  float64\n",
      " 3   user_id    202607 non-null  int64  \n",
      "dtypes: float64(1), int64(1), object(2)\n",
      "memory usage: 6.2+ MB\n"
     ]
    }
   ],
   "source": [
    "# выведем информацию о таблице\n",
    "calls.info()"
   ]
  },
  {
   "cell_type": "code",
   "execution_count": 10,
   "metadata": {},
   "outputs": [
    {
     "data": {
      "text/plain": [
       "id           202607\n",
       "call_date       365\n",
       "duration       2871\n",
       "user_id         492\n",
       "dtype: int64"
      ]
     },
     "execution_count": 10,
     "metadata": {},
     "output_type": "execute_result"
    }
   ],
   "source": [
    "# Проверю уникальные значения\n",
    "calls.nunique()"
   ]
  },
  {
   "cell_type": "code",
   "execution_count": 11,
   "metadata": {
    "scrolled": true
   },
   "outputs": [
    {
     "data": {
      "text/plain": [
       "0"
      ]
     },
     "execution_count": 11,
     "metadata": {},
     "output_type": "execute_result"
    }
   ],
   "source": [
    "# Проверю дубликаты\n",
    "calls.duplicated().sum()"
   ]
  },
  {
   "cell_type": "markdown",
   "metadata": {},
   "source": [
    "Вывод:\n",
    "\n",
    "В таблице пропущенных значений нет, всего 202607 значений. Данные по звонкам скорее всего предсттавлены за год, так как в столбце call_date 365 уникальных значений, но дальше мы это проверим. \n",
    "\n",
    "Колличесвто уникальных id абонентов здесь меньше, значит скорее всего 8 абонентов не совершает звонков. Дубликатов нет. \n",
    "\n",
    "Тип столбца call_date необходимо преоразовать из object в date, в столбцах duration, user_id можно заменить тип данных на 32 разярдный - будет занимать меньше места). "
   ]
  },
  {
   "cell_type": "markdown",
   "metadata": {},
   "source": [
    "Преобразуем данныe"
   ]
  },
  {
   "cell_type": "code",
   "execution_count": 12,
   "metadata": {},
   "outputs": [],
   "source": [
    "calls[\"call_date\"] = pd.to_datetime(calls[\"call_date\"], format=\"%Y-%m-%dT\")\n",
    "calls[\"duration\"] = calls[\"duration\"].astype(\"float32\")\n",
    "calls[\"user_id\"] = calls[\"user_id\"].astype(\"int32\")"
   ]
  },
  {
   "cell_type": "markdown",
   "metadata": {},
   "source": [
    "### 1.3 Таблица messages <a class=\"anchor\" id=\"1.3\"></a>"
   ]
  },
  {
   "cell_type": "code",
   "execution_count": 13,
   "metadata": {
    "scrolled": true
   },
   "outputs": [
    {
     "data": {
      "text/html": [
       "<div>\n",
       "<style scoped>\n",
       "    .dataframe tbody tr th:only-of-type {\n",
       "        vertical-align: middle;\n",
       "    }\n",
       "\n",
       "    .dataframe tbody tr th {\n",
       "        vertical-align: top;\n",
       "    }\n",
       "\n",
       "    .dataframe thead th {\n",
       "        text-align: right;\n",
       "    }\n",
       "</style>\n",
       "<table border=\"1\" class=\"dataframe\">\n",
       "  <thead>\n",
       "    <tr style=\"text-align: right;\">\n",
       "      <th></th>\n",
       "      <th>id</th>\n",
       "      <th>message_date</th>\n",
       "      <th>user_id</th>\n",
       "    </tr>\n",
       "  </thead>\n",
       "  <tbody>\n",
       "    <tr>\n",
       "      <th>0</th>\n",
       "      <td>1000_0</td>\n",
       "      <td>2018-06-27</td>\n",
       "      <td>1000</td>\n",
       "    </tr>\n",
       "    <tr>\n",
       "      <th>1</th>\n",
       "      <td>1000_1</td>\n",
       "      <td>2018-10-08</td>\n",
       "      <td>1000</td>\n",
       "    </tr>\n",
       "    <tr>\n",
       "      <th>2</th>\n",
       "      <td>1000_2</td>\n",
       "      <td>2018-08-04</td>\n",
       "      <td>1000</td>\n",
       "    </tr>\n",
       "    <tr>\n",
       "      <th>3</th>\n",
       "      <td>1000_3</td>\n",
       "      <td>2018-06-16</td>\n",
       "      <td>1000</td>\n",
       "    </tr>\n",
       "    <tr>\n",
       "      <th>4</th>\n",
       "      <td>1000_4</td>\n",
       "      <td>2018-12-05</td>\n",
       "      <td>1000</td>\n",
       "    </tr>\n",
       "  </tbody>\n",
       "</table>\n",
       "</div>"
      ],
      "text/plain": [
       "       id message_date  user_id\n",
       "0  1000_0   2018-06-27     1000\n",
       "1  1000_1   2018-10-08     1000\n",
       "2  1000_2   2018-08-04     1000\n",
       "3  1000_3   2018-06-16     1000\n",
       "4  1000_4   2018-12-05     1000"
      ]
     },
     "execution_count": 13,
     "metadata": {},
     "output_type": "execute_result"
    }
   ],
   "source": [
    "# выведем первые 5 строчек на экран\n",
    "messages.head(5)"
   ]
  },
  {
   "cell_type": "code",
   "execution_count": 14,
   "metadata": {},
   "outputs": [
    {
     "name": "stdout",
     "output_type": "stream",
     "text": [
      "<class 'pandas.core.frame.DataFrame'>\n",
      "RangeIndex: 123036 entries, 0 to 123035\n",
      "Data columns (total 3 columns):\n",
      " #   Column        Non-Null Count   Dtype \n",
      "---  ------        --------------   ----- \n",
      " 0   id            123036 non-null  object\n",
      " 1   message_date  123036 non-null  object\n",
      " 2   user_id       123036 non-null  int64 \n",
      "dtypes: int64(1), object(2)\n",
      "memory usage: 2.8+ MB\n"
     ]
    }
   ],
   "source": [
    "# выведем информацию о таблице\n",
    "messages.info()"
   ]
  },
  {
   "cell_type": "code",
   "execution_count": 15,
   "metadata": {},
   "outputs": [
    {
     "data": {
      "text/plain": [
       "id              123036\n",
       "message_date       364\n",
       "user_id            426\n",
       "dtype: int64"
      ]
     },
     "execution_count": 15,
     "metadata": {},
     "output_type": "execute_result"
    }
   ],
   "source": [
    "# Проверю уникальные значения\n",
    "messages.nunique()"
   ]
  },
  {
   "cell_type": "code",
   "execution_count": 16,
   "metadata": {},
   "outputs": [
    {
     "data": {
      "text/plain": [
       "0"
      ]
     },
     "execution_count": 16,
     "metadata": {},
     "output_type": "execute_result"
    }
   ],
   "source": [
    "# Проверю дубликаты\n",
    "messages.duplicated().sum()"
   ]
  },
  {
   "cell_type": "markdown",
   "metadata": {},
   "source": [
    "**Вывод:**\n",
    "\n",
    "В таблице пропущенных значений нет, всего 123036 записей. Данные по сообщениям скорее всего предсттавлены за год (но почему-то на один день меньше), так как в столбце message_date 364 уникальных значений. \n",
    "\n",
    "Колличесвто уникальных id абонентов здесь меньше, значит скорее всего 74 абонента не отправляет сообщений. Дубликатов нет. \n",
    "\n",
    "Тип столбца message_date необходимо преоразовать из object в date, в столбце user_id можно заменить тип данных на 32 разярдный. "
   ]
  },
  {
   "cell_type": "markdown",
   "metadata": {},
   "source": [
    "**Преобразуем данныe**"
   ]
  },
  {
   "cell_type": "code",
   "execution_count": 17,
   "metadata": {},
   "outputs": [],
   "source": [
    "messages[\"message_date\"] = pd.to_datetime(messages[\"message_date\"], format=\"%Y-%m-%dT\")\n",
    "messages[\"user_id\"] = messages[\"user_id\"].astype(\"int32\")"
   ]
  },
  {
   "cell_type": "markdown",
   "metadata": {},
   "source": [
    "### 1.4 Таблица internet <a class=\"anchor\" id=\"1.4\"></a>"
   ]
  },
  {
   "cell_type": "code",
   "execution_count": 18,
   "metadata": {
    "scrolled": true
   },
   "outputs": [
    {
     "data": {
      "text/html": [
       "<div>\n",
       "<style scoped>\n",
       "    .dataframe tbody tr th:only-of-type {\n",
       "        vertical-align: middle;\n",
       "    }\n",
       "\n",
       "    .dataframe tbody tr th {\n",
       "        vertical-align: top;\n",
       "    }\n",
       "\n",
       "    .dataframe thead th {\n",
       "        text-align: right;\n",
       "    }\n",
       "</style>\n",
       "<table border=\"1\" class=\"dataframe\">\n",
       "  <thead>\n",
       "    <tr style=\"text-align: right;\">\n",
       "      <th></th>\n",
       "      <th>Unnamed: 0</th>\n",
       "      <th>id</th>\n",
       "      <th>mb_used</th>\n",
       "      <th>session_date</th>\n",
       "      <th>user_id</th>\n",
       "    </tr>\n",
       "  </thead>\n",
       "  <tbody>\n",
       "    <tr>\n",
       "      <th>0</th>\n",
       "      <td>0</td>\n",
       "      <td>1000_0</td>\n",
       "      <td>112.95</td>\n",
       "      <td>2018-11-25</td>\n",
       "      <td>1000</td>\n",
       "    </tr>\n",
       "    <tr>\n",
       "      <th>1</th>\n",
       "      <td>1</td>\n",
       "      <td>1000_1</td>\n",
       "      <td>1052.81</td>\n",
       "      <td>2018-09-07</td>\n",
       "      <td>1000</td>\n",
       "    </tr>\n",
       "    <tr>\n",
       "      <th>2</th>\n",
       "      <td>2</td>\n",
       "      <td>1000_2</td>\n",
       "      <td>1197.26</td>\n",
       "      <td>2018-06-25</td>\n",
       "      <td>1000</td>\n",
       "    </tr>\n",
       "    <tr>\n",
       "      <th>3</th>\n",
       "      <td>3</td>\n",
       "      <td>1000_3</td>\n",
       "      <td>550.27</td>\n",
       "      <td>2018-08-22</td>\n",
       "      <td>1000</td>\n",
       "    </tr>\n",
       "    <tr>\n",
       "      <th>4</th>\n",
       "      <td>4</td>\n",
       "      <td>1000_4</td>\n",
       "      <td>302.56</td>\n",
       "      <td>2018-09-24</td>\n",
       "      <td>1000</td>\n",
       "    </tr>\n",
       "  </tbody>\n",
       "</table>\n",
       "</div>"
      ],
      "text/plain": [
       "   Unnamed: 0      id  mb_used session_date  user_id\n",
       "0           0  1000_0   112.95   2018-11-25     1000\n",
       "1           1  1000_1  1052.81   2018-09-07     1000\n",
       "2           2  1000_2  1197.26   2018-06-25     1000\n",
       "3           3  1000_3   550.27   2018-08-22     1000\n",
       "4           4  1000_4   302.56   2018-09-24     1000"
      ]
     },
     "execution_count": 18,
     "metadata": {},
     "output_type": "execute_result"
    }
   ],
   "source": [
    "# выведем первые 5 строчек на экран\n",
    "internet.head(5)"
   ]
  },
  {
   "cell_type": "code",
   "execution_count": 19,
   "metadata": {
    "scrolled": true
   },
   "outputs": [
    {
     "name": "stdout",
     "output_type": "stream",
     "text": [
      "<class 'pandas.core.frame.DataFrame'>\n",
      "RangeIndex: 149396 entries, 0 to 149395\n",
      "Data columns (total 5 columns):\n",
      " #   Column        Non-Null Count   Dtype  \n",
      "---  ------        --------------   -----  \n",
      " 0   Unnamed: 0    149396 non-null  int64  \n",
      " 1   id            149396 non-null  object \n",
      " 2   mb_used       149396 non-null  float64\n",
      " 3   session_date  149396 non-null  object \n",
      " 4   user_id       149396 non-null  int64  \n",
      "dtypes: float64(1), int64(2), object(2)\n",
      "memory usage: 5.7+ MB\n"
     ]
    }
   ],
   "source": [
    "# выведем информацию о таблице\n",
    "internet.info()"
   ]
  },
  {
   "cell_type": "code",
   "execution_count": 20,
   "metadata": {},
   "outputs": [
    {
     "data": {
      "text/plain": [
       "Unnamed: 0      149396\n",
       "id              149396\n",
       "mb_used          70003\n",
       "session_date       365\n",
       "user_id            497\n",
       "dtype: int64"
      ]
     },
     "execution_count": 20,
     "metadata": {},
     "output_type": "execute_result"
    }
   ],
   "source": [
    "# проверю уникальные значения\n",
    "internet.nunique()"
   ]
  },
  {
   "cell_type": "code",
   "execution_count": 21,
   "metadata": {},
   "outputs": [
    {
     "data": {
      "text/plain": [
       "0"
      ]
     },
     "execution_count": 21,
     "metadata": {},
     "output_type": "execute_result"
    }
   ],
   "source": [
    "# Проверю дубликаты\n",
    "internet.duplicated().sum()"
   ]
  },
  {
   "cell_type": "markdown",
   "metadata": {},
   "source": [
    "**Вывод:**\n",
    "\n",
    "В таблице пропущенных значений нет, всего 149396 записей. Данные по интернет трафику скорее всего предсттавлены за год, так как в столбце session_date 365 уникальных значений, но дальше мы это проверим. \n",
    "\n",
    "Колличесвто уникальных id абонентов здесь меньше, значит скорее всего 3 абонента не пользуются интернетом. Дубликатов нет. \n",
    "\n",
    "Тип столбца session_date необходимо преоразовать из object в date, в столбцах mb_used, user_id можно заменить тип данных на 32 разярдный - будет занимать меньше места). \n",
    "\n",
    "Столбец  Unnamed: 0 удалим так как данные в столбце дублируют значения индекса фрейма."
   ]
  },
  {
   "cell_type": "markdown",
   "metadata": {},
   "source": [
    "**Преобразуем данныe**"
   ]
  },
  {
   "cell_type": "code",
   "execution_count": 22,
   "metadata": {},
   "outputs": [],
   "source": [
    "internet[\"session_date\"] = pd.to_datetime(internet[\"session_date\"], format=\"%Y-%m-%dT\")\n",
    "internet[\"user_id\"] = internet[\"user_id\"].astype(\"int32\")\n",
    "internet[\"mb_used\"] = internet[\"mb_used\"].astype(\"float32\")"
   ]
  },
  {
   "cell_type": "markdown",
   "metadata": {},
   "source": [
    "### 1.5 Таблица tariffs <a class=\"anchor\" id=\"1.5\"></a>"
   ]
  },
  {
   "cell_type": "code",
   "execution_count": 23,
   "metadata": {
    "scrolled": true
   },
   "outputs": [
    {
     "data": {
      "text/html": [
       "<div>\n",
       "<style scoped>\n",
       "    .dataframe tbody tr th:only-of-type {\n",
       "        vertical-align: middle;\n",
       "    }\n",
       "\n",
       "    .dataframe tbody tr th {\n",
       "        vertical-align: top;\n",
       "    }\n",
       "\n",
       "    .dataframe thead th {\n",
       "        text-align: right;\n",
       "    }\n",
       "</style>\n",
       "<table border=\"1\" class=\"dataframe\">\n",
       "  <thead>\n",
       "    <tr style=\"text-align: right;\">\n",
       "      <th></th>\n",
       "      <th>messages_included</th>\n",
       "      <th>mb_per_month_included</th>\n",
       "      <th>minutes_included</th>\n",
       "      <th>rub_monthly_fee</th>\n",
       "      <th>rub_per_gb</th>\n",
       "      <th>rub_per_message</th>\n",
       "      <th>rub_per_minute</th>\n",
       "      <th>tariff_name</th>\n",
       "    </tr>\n",
       "  </thead>\n",
       "  <tbody>\n",
       "    <tr>\n",
       "      <th>0</th>\n",
       "      <td>50</td>\n",
       "      <td>15360</td>\n",
       "      <td>500</td>\n",
       "      <td>550</td>\n",
       "      <td>200</td>\n",
       "      <td>3</td>\n",
       "      <td>3</td>\n",
       "      <td>smart</td>\n",
       "    </tr>\n",
       "    <tr>\n",
       "      <th>1</th>\n",
       "      <td>1000</td>\n",
       "      <td>30720</td>\n",
       "      <td>3000</td>\n",
       "      <td>1950</td>\n",
       "      <td>150</td>\n",
       "      <td>1</td>\n",
       "      <td>1</td>\n",
       "      <td>ultra</td>\n",
       "    </tr>\n",
       "  </tbody>\n",
       "</table>\n",
       "</div>"
      ],
      "text/plain": [
       "   messages_included  mb_per_month_included  minutes_included  \\\n",
       "0                 50                  15360               500   \n",
       "1               1000                  30720              3000   \n",
       "\n",
       "   rub_monthly_fee  rub_per_gb  rub_per_message  rub_per_minute tariff_name  \n",
       "0              550         200                3               3       smart  \n",
       "1             1950         150                1               1       ultra  "
      ]
     },
     "execution_count": 23,
     "metadata": {},
     "output_type": "execute_result"
    }
   ],
   "source": [
    "# выведем значения на экран\n",
    "tariffs"
   ]
  },
  {
   "cell_type": "code",
   "execution_count": 24,
   "metadata": {},
   "outputs": [
    {
     "name": "stdout",
     "output_type": "stream",
     "text": [
      "<class 'pandas.core.frame.DataFrame'>\n",
      "RangeIndex: 2 entries, 0 to 1\n",
      "Data columns (total 8 columns):\n",
      " #   Column                 Non-Null Count  Dtype \n",
      "---  ------                 --------------  ----- \n",
      " 0   messages_included      2 non-null      int64 \n",
      " 1   mb_per_month_included  2 non-null      int64 \n",
      " 2   minutes_included       2 non-null      int64 \n",
      " 3   rub_monthly_fee        2 non-null      int64 \n",
      " 4   rub_per_gb             2 non-null      int64 \n",
      " 5   rub_per_message        2 non-null      int64 \n",
      " 6   rub_per_minute         2 non-null      int64 \n",
      " 7   tariff_name            2 non-null      object\n",
      "dtypes: int64(7), object(1)\n",
      "memory usage: 256.0+ bytes\n"
     ]
    }
   ],
   "source": [
    "# выведем информацию о таблице\n",
    "tariffs.info()"
   ]
  },
  {
   "cell_type": "code",
   "execution_count": 25,
   "metadata": {},
   "outputs": [
    {
     "data": {
      "text/plain": [
       "messages_included        2\n",
       "mb_per_month_included    2\n",
       "minutes_included         2\n",
       "rub_monthly_fee          2\n",
       "rub_per_gb               2\n",
       "rub_per_message          2\n",
       "rub_per_minute           2\n",
       "tariff_name              2\n",
       "dtype: int64"
      ]
     },
     "execution_count": 25,
     "metadata": {},
     "output_type": "execute_result"
    }
   ],
   "source": [
    "# Проверю уникальные значения\n",
    "tariffs.nunique()"
   ]
  },
  {
   "cell_type": "code",
   "execution_count": 26,
   "metadata": {},
   "outputs": [
    {
     "data": {
      "text/plain": [
       "0"
      ]
     },
     "execution_count": 26,
     "metadata": {},
     "output_type": "execute_result"
    }
   ],
   "source": [
    "# Проверю дубликаты\n",
    "tariffs.duplicated().sum()"
   ]
  },
  {
   "cell_type": "markdown",
   "metadata": {},
   "source": [
    "Вывод - в таблице пропущенных значений нет, всего 2 записи. которые содержат данные о тарифах. Данные преобработки не требуют. "
   ]
  },
  {
   "cell_type": "markdown",
   "metadata": {},
   "source": [
    "### Общий вывод:  <a class=\"anchor\" id=\"1.6\"></a>\n",
    "- Таблицы содержат данные по активности **500** абонентов мобильного оператора. Данные представлены за год. \n",
    "- В таблицах **users, calls, messages, internet** в столбцах, где указана дата, тип переменных следует заменить на date.\n",
    "- 8 абонентов не совершает звонков, 74 абонента не отправляют сообщений, а 3 не пользуются интернетом."
   ]
  },
  {
   "cell_type": "markdown",
   "metadata": {},
   "source": [
    "## 2. Анализ поведения абонентов мобильного оператора <a class=\"anchor\" id=\"2\"></a>"
   ]
  },
  {
   "cell_type": "markdown",
   "metadata": {},
   "source": [
    "### 2.1 Предварительная подготовка данных <a class=\"anchor\" id=\"2.1\"></a>"
   ]
  },
  {
   "cell_type": "markdown",
   "metadata": {},
   "source": [
    "В таблице calls округлим значения в столбце duration в большую сторону так как секунды в звонках округляются в большую сторону"
   ]
  },
  {
   "cell_type": "code",
   "execution_count": 27,
   "metadata": {},
   "outputs": [],
   "source": [
    "calls[\"duration\"] = np.ceil(calls[\"duration\"])\n",
    "# преобразуем значения в int\n",
    "calls[\"duration\"] = calls[\"duration\"].astype(\"int32\")"
   ]
  },
  {
   "cell_type": "markdown",
   "metadata": {},
   "source": [
    "К в таблицах calls, messages, internet добавим столбец с месяцем"
   ]
  },
  {
   "cell_type": "code",
   "execution_count": 28,
   "metadata": {},
   "outputs": [],
   "source": [
    "calls[\"months\"] = calls[\"call_date\"].astype(\"datetime64[M]\")\n",
    "messages[\"months\"] = messages[\"message_date\"].astype(\"datetime64[M]\")\n",
    "internet[\"months\"] = internet[\"session_date\"].astype(\"datetime64[M]\")"
   ]
  },
  {
   "cell_type": "markdown",
   "metadata": {},
   "source": [
    "                                            Звонки"
   ]
  },
  {
   "cell_type": "markdown",
   "metadata": {},
   "source": [
    "Посмотрим что это за абоненты, которые не звонят, есть ли какие-то аномалии, случайны ли звонки равные 0 или это ошибки. Для этого построим зависимость колличества звонков,где длительность равна 0 от общего числа звонков "
   ]
  },
  {
   "cell_type": "code",
   "execution_count": 29,
   "metadata": {},
   "outputs": [],
   "source": [
    "# Посчитаем колличество нулевых звонков в месяц для этого создадим столбец если звонка нет добавим 1\n",
    "calls.loc[calls[\"duration\"] == 0, \"nulls\"] = 1"
   ]
  },
  {
   "cell_type": "code",
   "execution_count": 30,
   "metadata": {},
   "outputs": [],
   "source": [
    "# Создадим сводную таблицу\n",
    "null_calls = calls.pivot_table(index=\"months\", values=[\"id\", \"nulls\"], aggfunc=\"count\")"
   ]
  },
  {
   "cell_type": "code",
   "execution_count": 31,
   "metadata": {},
   "outputs": [
    {
     "data": {
      "image/png": "[encoded data removed]",
      "text/plain": [
       "<Figure size 864x432 with 1 Axes>"
      ]
     },
     "metadata": {
      "needs_background": "light"
     },
     "output_type": "display_data"
    }
   ],
   "source": [
    "# построим график\n",
    "plt.figure(figsize=(12, 6))\n",
    "plt.scatter(null_calls[\"id\"], null_calls[\"nulls\"])\n",
    "plt.title(\n",
    "    \"Зависимость количества нулевых значений от общего числа звонков за каждый месяц\"\n",
    ")\n",
    "plt.xlabel(\"Общее число звонков по месяцам\")\n",
    "plt.ylabel(\"Число звонков где продолжительность 0\")\n",
    "plt.show()"
   ]
  },
  {
   "cell_type": "markdown",
   "metadata": {},
   "source": [
    "На графике видно, что колличество звонков продолжительностью 0 постоянно, случайных выбросов нет."
   ]
  },
  {
   "cell_type": "markdown",
   "metadata": {},
   "source": [
    "Создадим таблицу состоящюю из суммы длительности звонков"
   ]
  },
  {
   "cell_type": "code",
   "execution_count": 32,
   "metadata": {},
   "outputs": [],
   "source": [
    "pivot_calls = pd.pivot_table(\n",
    "    calls, index=[\"user_id\", \"months\"], values=\"duration\", aggfunc=[\"sum\", \"count\"],\n",
    ")"
   ]
  },
  {
   "cell_type": "code",
   "execution_count": 33,
   "metadata": {
    "scrolled": true
   },
   "outputs": [],
   "source": [
    "pivot_calls.columns = [\"sum\", \"count\"]"
   ]
  },
  {
   "cell_type": "code",
   "execution_count": 34,
   "metadata": {
    "scrolled": true
   },
   "outputs": [
    {
     "data": {
      "text/html": [
       "<div>\n",
       "<style scoped>\n",
       "    .dataframe tbody tr th:only-of-type {\n",
       "        vertical-align: middle;\n",
       "    }\n",
       "\n",
       "    .dataframe tbody tr th {\n",
       "        vertical-align: top;\n",
       "    }\n",
       "\n",
       "    .dataframe thead th {\n",
       "        text-align: right;\n",
       "    }\n",
       "</style>\n",
       "<table border=\"1\" class=\"dataframe\">\n",
       "  <thead>\n",
       "    <tr style=\"text-align: right;\">\n",
       "      <th></th>\n",
       "      <th></th>\n",
       "      <th>sum</th>\n",
       "      <th>count</th>\n",
       "    </tr>\n",
       "    <tr>\n",
       "      <th>user_id</th>\n",
       "      <th>months</th>\n",
       "      <th></th>\n",
       "      <th></th>\n",
       "    </tr>\n",
       "  </thead>\n",
       "  <tbody>\n",
       "    <tr>\n",
       "      <th rowspan=\"5\" valign=\"top\">1000</th>\n",
       "      <th>2018-05-01</th>\n",
       "      <td>159</td>\n",
       "      <td>22</td>\n",
       "    </tr>\n",
       "    <tr>\n",
       "      <th>2018-06-01</th>\n",
       "      <td>172</td>\n",
       "      <td>43</td>\n",
       "    </tr>\n",
       "    <tr>\n",
       "      <th>2018-07-01</th>\n",
       "      <td>340</td>\n",
       "      <td>47</td>\n",
       "    </tr>\n",
       "    <tr>\n",
       "      <th>2018-08-01</th>\n",
       "      <td>408</td>\n",
       "      <td>52</td>\n",
       "    </tr>\n",
       "    <tr>\n",
       "      <th>2018-09-01</th>\n",
       "      <td>466</td>\n",
       "      <td>58</td>\n",
       "    </tr>\n",
       "  </tbody>\n",
       "</table>\n",
       "</div>"
      ],
      "text/plain": [
       "                    sum  count\n",
       "user_id months                \n",
       "1000    2018-05-01  159     22\n",
       "        2018-06-01  172     43\n",
       "        2018-07-01  340     47\n",
       "        2018-08-01  408     52\n",
       "        2018-09-01  466     58"
      ]
     },
     "execution_count": 34,
     "metadata": {},
     "output_type": "execute_result"
    }
   ],
   "source": [
    "pivot_calls.head(5)"
   ]
  },
  {
   "cell_type": "markdown",
   "metadata": {},
   "source": [
    "                                            Сообщения"
   ]
  },
  {
   "cell_type": "markdown",
   "metadata": {},
   "source": [
    "\n",
    "\n",
    "Создадим таблицу состоящию из суммы отправленных сообщений"
   ]
  },
  {
   "cell_type": "code",
   "execution_count": 35,
   "metadata": {},
   "outputs": [],
   "source": [
    "pivot_messages = pd.pivot_table(\n",
    "    messages, index=[\"user_id\", \"months\"], values=\"id\", aggfunc=\"nunique\"\n",
    ")"
   ]
  },
  {
   "cell_type": "code",
   "execution_count": 36,
   "metadata": {
    "scrolled": true
   },
   "outputs": [
    {
     "data": {
      "text/html": [
       "<div>\n",
       "<style scoped>\n",
       "    .dataframe tbody tr th:only-of-type {\n",
       "        vertical-align: middle;\n",
       "    }\n",
       "\n",
       "    .dataframe tbody tr th {\n",
       "        vertical-align: top;\n",
       "    }\n",
       "\n",
       "    .dataframe thead th {\n",
       "        text-align: right;\n",
       "    }\n",
       "</style>\n",
       "<table border=\"1\" class=\"dataframe\">\n",
       "  <thead>\n",
       "    <tr style=\"text-align: right;\">\n",
       "      <th></th>\n",
       "      <th></th>\n",
       "      <th>id</th>\n",
       "    </tr>\n",
       "    <tr>\n",
       "      <th>user_id</th>\n",
       "      <th>months</th>\n",
       "      <th></th>\n",
       "    </tr>\n",
       "  </thead>\n",
       "  <tbody>\n",
       "    <tr>\n",
       "      <th rowspan=\"5\" valign=\"top\">1000</th>\n",
       "      <th>2018-05-01</th>\n",
       "      <td>22</td>\n",
       "    </tr>\n",
       "    <tr>\n",
       "      <th>2018-06-01</th>\n",
       "      <td>60</td>\n",
       "    </tr>\n",
       "    <tr>\n",
       "      <th>2018-07-01</th>\n",
       "      <td>75</td>\n",
       "    </tr>\n",
       "    <tr>\n",
       "      <th>2018-08-01</th>\n",
       "      <td>81</td>\n",
       "    </tr>\n",
       "    <tr>\n",
       "      <th>2018-09-01</th>\n",
       "      <td>57</td>\n",
       "    </tr>\n",
       "  </tbody>\n",
       "</table>\n",
       "</div>"
      ],
      "text/plain": [
       "                    id\n",
       "user_id months        \n",
       "1000    2018-05-01  22\n",
       "        2018-06-01  60\n",
       "        2018-07-01  75\n",
       "        2018-08-01  81\n",
       "        2018-09-01  57"
      ]
     },
     "execution_count": 36,
     "metadata": {},
     "output_type": "execute_result"
    }
   ],
   "source": [
    "pivot_messages.head(5)"
   ]
  },
  {
   "cell_type": "markdown",
   "metadata": {},
   "source": [
    "                                            Интернет трафик"
   ]
  },
  {
   "cell_type": "markdown",
   "metadata": {},
   "source": [
    "Посмотрим что это за абоненты, которые не пользуются интернетом, есть ли каке-то аномалии, случайны ли пропущенные значения или это ошибки. Для этого построим зависимость колличества интернет ссесий где длительность равна 0 мб от общего числа интернет сессий. "
   ]
  },
  {
   "cell_type": "code",
   "execution_count": 37,
   "metadata": {},
   "outputs": [],
   "source": [
    "# Посчитаем колличество нулевых сессий в месяц для этого создадим столбец если ссесии нет добавим 1\n",
    "internet.loc[internet[\"mb_used\"] == 0, \"nulls\"] = 1"
   ]
  },
  {
   "cell_type": "code",
   "execution_count": 38,
   "metadata": {},
   "outputs": [
    {
     "data": {
      "text/html": [
       "<div>\n",
       "<style scoped>\n",
       "    .dataframe tbody tr th:only-of-type {\n",
       "        vertical-align: middle;\n",
       "    }\n",
       "\n",
       "    .dataframe tbody tr th {\n",
       "        vertical-align: top;\n",
       "    }\n",
       "\n",
       "    .dataframe thead th {\n",
       "        text-align: right;\n",
       "    }\n",
       "</style>\n",
       "<table border=\"1\" class=\"dataframe\">\n",
       "  <thead>\n",
       "    <tr style=\"text-align: right;\">\n",
       "      <th></th>\n",
       "      <th>Unnamed: 0</th>\n",
       "      <th>id</th>\n",
       "      <th>mb_used</th>\n",
       "      <th>session_date</th>\n",
       "      <th>user_id</th>\n",
       "      <th>months</th>\n",
       "      <th>nulls</th>\n",
       "    </tr>\n",
       "  </thead>\n",
       "  <tbody>\n",
       "    <tr>\n",
       "      <th>0</th>\n",
       "      <td>0</td>\n",
       "      <td>1000_0</td>\n",
       "      <td>112.949997</td>\n",
       "      <td>2018-11-25</td>\n",
       "      <td>1000</td>\n",
       "      <td>2018-11-01</td>\n",
       "      <td>NaN</td>\n",
       "    </tr>\n",
       "    <tr>\n",
       "      <th>1</th>\n",
       "      <td>1</td>\n",
       "      <td>1000_1</td>\n",
       "      <td>1052.810059</td>\n",
       "      <td>2018-09-07</td>\n",
       "      <td>1000</td>\n",
       "      <td>2018-09-01</td>\n",
       "      <td>NaN</td>\n",
       "    </tr>\n",
       "    <tr>\n",
       "      <th>2</th>\n",
       "      <td>2</td>\n",
       "      <td>1000_2</td>\n",
       "      <td>1197.260010</td>\n",
       "      <td>2018-06-25</td>\n",
       "      <td>1000</td>\n",
       "      <td>2018-06-01</td>\n",
       "      <td>NaN</td>\n",
       "    </tr>\n",
       "    <tr>\n",
       "      <th>3</th>\n",
       "      <td>3</td>\n",
       "      <td>1000_3</td>\n",
       "      <td>550.270020</td>\n",
       "      <td>2018-08-22</td>\n",
       "      <td>1000</td>\n",
       "      <td>2018-08-01</td>\n",
       "      <td>NaN</td>\n",
       "    </tr>\n",
       "    <tr>\n",
       "      <th>4</th>\n",
       "      <td>4</td>\n",
       "      <td>1000_4</td>\n",
       "      <td>302.559998</td>\n",
       "      <td>2018-09-24</td>\n",
       "      <td>1000</td>\n",
       "      <td>2018-09-01</td>\n",
       "      <td>NaN</td>\n",
       "    </tr>\n",
       "    <tr>\n",
       "      <th>...</th>\n",
       "      <td>...</td>\n",
       "      <td>...</td>\n",
       "      <td>...</td>\n",
       "      <td>...</td>\n",
       "      <td>...</td>\n",
       "      <td>...</td>\n",
       "      <td>...</td>\n",
       "    </tr>\n",
       "    <tr>\n",
       "      <th>149391</th>\n",
       "      <td>149391</td>\n",
       "      <td>1499_152</td>\n",
       "      <td>318.899994</td>\n",
       "      <td>2018-10-03</td>\n",
       "      <td>1499</td>\n",
       "      <td>2018-10-01</td>\n",
       "      <td>NaN</td>\n",
       "    </tr>\n",
       "    <tr>\n",
       "      <th>149392</th>\n",
       "      <td>149392</td>\n",
       "      <td>1499_153</td>\n",
       "      <td>490.130005</td>\n",
       "      <td>2018-12-14</td>\n",
       "      <td>1499</td>\n",
       "      <td>2018-12-01</td>\n",
       "      <td>NaN</td>\n",
       "    </tr>\n",
       "    <tr>\n",
       "      <th>149393</th>\n",
       "      <td>149393</td>\n",
       "      <td>1499_154</td>\n",
       "      <td>0.000000</td>\n",
       "      <td>2018-10-27</td>\n",
       "      <td>1499</td>\n",
       "      <td>2018-10-01</td>\n",
       "      <td>1.0</td>\n",
       "    </tr>\n",
       "    <tr>\n",
       "      <th>149394</th>\n",
       "      <td>149394</td>\n",
       "      <td>1499_155</td>\n",
       "      <td>1246.319946</td>\n",
       "      <td>2018-11-26</td>\n",
       "      <td>1499</td>\n",
       "      <td>2018-11-01</td>\n",
       "      <td>NaN</td>\n",
       "    </tr>\n",
       "    <tr>\n",
       "      <th>149395</th>\n",
       "      <td>149395</td>\n",
       "      <td>1499_156</td>\n",
       "      <td>544.369995</td>\n",
       "      <td>2018-10-26</td>\n",
       "      <td>1499</td>\n",
       "      <td>2018-10-01</td>\n",
       "      <td>NaN</td>\n",
       "    </tr>\n",
       "  </tbody>\n",
       "</table>\n",
       "<p>149396 rows × 7 columns</p>\n",
       "</div>"
      ],
      "text/plain": [
       "        Unnamed: 0        id      mb_used session_date  user_id     months  \\\n",
       "0                0    1000_0   112.949997   2018-11-25     1000 2018-11-01   \n",
       "1                1    1000_1  1052.810059   2018-09-07     1000 2018-09-01   \n",
       "2                2    1000_2  1197.260010   2018-06-25     1000 2018-06-01   \n",
       "3                3    1000_3   550.270020   2018-08-22     1000 2018-08-01   \n",
       "4                4    1000_4   302.559998   2018-09-24     1000 2018-09-01   \n",
       "...            ...       ...          ...          ...      ...        ...   \n",
       "149391      149391  1499_152   318.899994   2018-10-03     1499 2018-10-01   \n",
       "149392      149392  1499_153   490.130005   2018-12-14     1499 2018-12-01   \n",
       "149393      149393  1499_154     0.000000   2018-10-27     1499 2018-10-01   \n",
       "149394      149394  1499_155  1246.319946   2018-11-26     1499 2018-11-01   \n",
       "149395      149395  1499_156   544.369995   2018-10-26     1499 2018-10-01   \n",
       "\n",
       "        nulls  \n",
       "0         NaN  \n",
       "1         NaN  \n",
       "2         NaN  \n",
       "3         NaN  \n",
       "4         NaN  \n",
       "...       ...  \n",
       "149391    NaN  \n",
       "149392    NaN  \n",
       "149393    1.0  \n",
       "149394    NaN  \n",
       "149395    NaN  \n",
       "\n",
       "[149396 rows x 7 columns]"
      ]
     },
     "execution_count": 38,
     "metadata": {},
     "output_type": "execute_result"
    }
   ],
   "source": [
    "internet"
   ]
  },
  {
   "cell_type": "code",
   "execution_count": 39,
   "metadata": {},
   "outputs": [],
   "source": [
    "# Создадим сводную таблицу\n",
    "null_internet = internet.pivot_table(\n",
    "    index=\"months\", values=[\"id\", \"mb_used\"], aggfunc=\"count\"\n",
    ")"
   ]
  },
  {
   "cell_type": "code",
   "execution_count": 40,
   "metadata": {},
   "outputs": [
    {
     "data": {
      "image/png": "[encoded data removed]",
      "text/plain": [
       "<Figure size 864x432 with 1 Axes>"
      ]
     },
     "metadata": {
      "needs_background": "light"
     },
     "output_type": "display_data"
    }
   ],
   "source": [
    "# построим график\n",
    "plt.figure(figsize=(12, 6))\n",
    "plt.scatter(null_internet[\"id\"], null_internet[\"mb_used\"])\n",
    "plt.title(\n",
    "    \"Зависимость колличества соединений где объем интернет трафика равен 0 от общего числа  соединений\"\n",
    ")\n",
    "plt.xlabel(\"Общее число соединений по месяцам\")\n",
    "plt.ylabel(\"Число интернет содинений где объем трафика равен 0\")\n",
    "plt.show()"
   ]
  },
  {
   "cell_type": "markdown",
   "metadata": {},
   "source": [
    "На графике видно, что колличество интернет соединений где объем трафика равен 0 постоянно, случайных выбросов нет."
   ]
  },
  {
   "cell_type": "markdown",
   "metadata": {},
   "source": [
    "Создадим таблицу состоящюю из суммы колличеством израсходонного интернет трафика"
   ]
  },
  {
   "cell_type": "code",
   "execution_count": 41,
   "metadata": {
    "code_folding": []
   },
   "outputs": [],
   "source": [
    "pivot_internet = pd.pivot_table(\n",
    "    internet, index=[\"user_id\", \"months\"], values=\"mb_used\", aggfunc=\"sum\"\n",
    ")"
   ]
  },
  {
   "cell_type": "code",
   "execution_count": 42,
   "metadata": {},
   "outputs": [],
   "source": [
    "pivot_internet[\"mb_used\"] = pivot_internet[\"mb_used\"] / 1024\n",
    "pivot_internet[\"mb_used\"] = pivot_internet[\"mb_used\"].apply(np.ceil)"
   ]
  },
  {
   "cell_type": "code",
   "execution_count": 43,
   "metadata": {},
   "outputs": [],
   "source": [
    "pivot_internet.columns = [\"gb_used\"]"
   ]
  },
  {
   "cell_type": "markdown",
   "metadata": {},
   "source": [
    "Избавися от вещественных данных"
   ]
  },
  {
   "cell_type": "code",
   "execution_count": 44,
   "metadata": {},
   "outputs": [],
   "source": [
    "pivot_internet = pivot_internet.astype(\"int32\")"
   ]
  },
  {
   "cell_type": "code",
   "execution_count": 45,
   "metadata": {},
   "outputs": [
    {
     "data": {
      "text/html": [
       "<div>\n",
       "<style scoped>\n",
       "    .dataframe tbody tr th:only-of-type {\n",
       "        vertical-align: middle;\n",
       "    }\n",
       "\n",
       "    .dataframe tbody tr th {\n",
       "        vertical-align: top;\n",
       "    }\n",
       "\n",
       "    .dataframe thead th {\n",
       "        text-align: right;\n",
       "    }\n",
       "</style>\n",
       "<table border=\"1\" class=\"dataframe\">\n",
       "  <thead>\n",
       "    <tr style=\"text-align: right;\">\n",
       "      <th></th>\n",
       "      <th></th>\n",
       "      <th>gb_used</th>\n",
       "    </tr>\n",
       "    <tr>\n",
       "      <th>user_id</th>\n",
       "      <th>months</th>\n",
       "      <th></th>\n",
       "    </tr>\n",
       "  </thead>\n",
       "  <tbody>\n",
       "    <tr>\n",
       "      <th rowspan=\"5\" valign=\"top\">1000</th>\n",
       "      <th>2018-05-01</th>\n",
       "      <td>3</td>\n",
       "    </tr>\n",
       "    <tr>\n",
       "      <th>2018-06-01</th>\n",
       "      <td>23</td>\n",
       "    </tr>\n",
       "    <tr>\n",
       "      <th>2018-07-01</th>\n",
       "      <td>14</td>\n",
       "    </tr>\n",
       "    <tr>\n",
       "      <th>2018-08-01</th>\n",
       "      <td>14</td>\n",
       "    </tr>\n",
       "    <tr>\n",
       "      <th>2018-09-01</th>\n",
       "      <td>15</td>\n",
       "    </tr>\n",
       "  </tbody>\n",
       "</table>\n",
       "</div>"
      ],
      "text/plain": [
       "                    gb_used\n",
       "user_id months             \n",
       "1000    2018-05-01        3\n",
       "        2018-06-01       23\n",
       "        2018-07-01       14\n",
       "        2018-08-01       14\n",
       "        2018-09-01       15"
      ]
     },
     "execution_count": 45,
     "metadata": {},
     "output_type": "execute_result"
    }
   ],
   "source": [
    "pivot_internet.head(5)"
   ]
  },
  {
   "cell_type": "markdown",
   "metadata": {},
   "source": [
    "### 2.2 Группировка данных <a class=\"anchor\" id=\"2.2\"></a>"
   ]
  },
  {
   "cell_type": "code",
   "execution_count": 46,
   "metadata": {
    "scrolled": true
   },
   "outputs": [],
   "source": [
    "table = [pivot_calls, pivot_messages, pivot_internet]\n",
    "grouped = reduce(\n",
    "    lambda left, right: pd.merge(left, right, on=[\"user_id\", \"months\"], how=\"outer\"),\n",
    "    table,\n",
    ")"
   ]
  },
  {
   "cell_type": "code",
   "execution_count": 47,
   "metadata": {},
   "outputs": [],
   "source": [
    "# поменяем название столбцов\n",
    "grouped.columns = [\"duration\", \"calls\", \"messages\", \"gb_used\"]"
   ]
  },
  {
   "cell_type": "code",
   "execution_count": 48,
   "metadata": {},
   "outputs": [],
   "source": [
    "# в пропущенных значениях поставми 0 так как абонент услугой не пользуется\n",
    "grouped = grouped.fillna(0)"
   ]
  },
  {
   "cell_type": "code",
   "execution_count": 49,
   "metadata": {},
   "outputs": [],
   "source": [
    "# преобразуем типы данных из object в int, почему-то reduce преоразует после себя все данные в object,\n",
    "for i in [\"duration\", \"calls\", \"messages\", \"gb_used\"]:\n",
    "    grouped[i] = grouped[i].astype(\"int32\")"
   ]
  },
  {
   "cell_type": "code",
   "execution_count": 50,
   "metadata": {
    "scrolled": true
   },
   "outputs": [
    {
     "name": "stdout",
     "output_type": "stream",
     "text": [
      "<class 'pandas.core.frame.DataFrame'>\n",
      "MultiIndex: 3214 entries, (1000, Timestamp('2018-05-01 00:00:00')) to (1476, Timestamp('2018-04-01 00:00:00'))\n",
      "Data columns (total 4 columns):\n",
      " #   Column    Non-Null Count  Dtype\n",
      "---  ------    --------------  -----\n",
      " 0   duration  3214 non-null   int32\n",
      " 1   calls     3214 non-null   int32\n",
      " 2   messages  3214 non-null   int32\n",
      " 3   gb_used   3214 non-null   int32\n",
      "dtypes: int32(4)\n",
      "memory usage: 80.2 KB\n"
     ]
    }
   ],
   "source": [
    "# проверим что все ок\n",
    "grouped.info()"
   ]
  },
  {
   "cell_type": "markdown",
   "metadata": {},
   "source": [
    "### 2.3 Расчет ежемесячной выручки <a class=\"anchor\" id=\"2.3\"></a>"
   ]
  },
  {
   "cell_type": "code",
   "execution_count": 51,
   "metadata": {},
   "outputs": [],
   "source": [
    "# добавим наименование используемого тарифа для каждого пользователя\n",
    "for user in grouped.index:\n",
    "    grouped.loc[user, \"tariff\"] = users.loc[user[0] - 1000, \"tariff\"]"
   ]
  },
  {
   "cell_type": "markdown",
   "metadata": {},
   "source": [
    "Создадим функцию для подсчета ежемесячной выручки "
   ]
  },
  {
   "cell_type": "code",
   "execution_count": 52,
   "metadata": {},
   "outputs": [
    {
     "data": {
      "text/html": [
       "<div>\n",
       "<style scoped>\n",
       "    .dataframe tbody tr th:only-of-type {\n",
       "        vertical-align: middle;\n",
       "    }\n",
       "\n",
       "    .dataframe tbody tr th {\n",
       "        vertical-align: top;\n",
       "    }\n",
       "\n",
       "    .dataframe thead th {\n",
       "        text-align: right;\n",
       "    }\n",
       "</style>\n",
       "<table border=\"1\" class=\"dataframe\">\n",
       "  <thead>\n",
       "    <tr style=\"text-align: right;\">\n",
       "      <th></th>\n",
       "      <th>messages_included</th>\n",
       "      <th>mb_per_month_included</th>\n",
       "      <th>minutes_included</th>\n",
       "      <th>rub_monthly_fee</th>\n",
       "      <th>rub_per_gb</th>\n",
       "      <th>rub_per_message</th>\n",
       "      <th>rub_per_minute</th>\n",
       "      <th>tariff_name</th>\n",
       "    </tr>\n",
       "  </thead>\n",
       "  <tbody>\n",
       "    <tr>\n",
       "      <th>0</th>\n",
       "      <td>50</td>\n",
       "      <td>15360</td>\n",
       "      <td>500</td>\n",
       "      <td>550</td>\n",
       "      <td>200</td>\n",
       "      <td>3</td>\n",
       "      <td>3</td>\n",
       "      <td>smart</td>\n",
       "    </tr>\n",
       "    <tr>\n",
       "      <th>1</th>\n",
       "      <td>1000</td>\n",
       "      <td>30720</td>\n",
       "      <td>3000</td>\n",
       "      <td>1950</td>\n",
       "      <td>150</td>\n",
       "      <td>1</td>\n",
       "      <td>1</td>\n",
       "      <td>ultra</td>\n",
       "    </tr>\n",
       "  </tbody>\n",
       "</table>\n",
       "</div>"
      ],
      "text/plain": [
       "   messages_included  mb_per_month_included  minutes_included  \\\n",
       "0                 50                  15360               500   \n",
       "1               1000                  30720              3000   \n",
       "\n",
       "   rub_monthly_fee  rub_per_gb  rub_per_message  rub_per_minute tariff_name  \n",
       "0              550         200                3               3       smart  \n",
       "1             1950         150                1               1       ultra  "
      ]
     },
     "execution_count": 52,
     "metadata": {},
     "output_type": "execute_result"
    }
   ],
   "source": [
    "tariffs"
   ]
  },
  {
   "cell_type": "code",
   "execution_count": 53,
   "metadata": {},
   "outputs": [],
   "source": [
    "def monthly_revenue(row):\n",
    "    messages = row[\"messages\"]\n",
    "    gb_used = row[\"gb_used\"]\n",
    "    tariff = row[\"tariff\"]\n",
    "    duration = row[\"duration\"]\n",
    "    calls = row[\"calls\"]\n",
    "\n",
    "    if tariff == \"smart\":\n",
    "        sum_duration = duration - tariffs.loc[0, \"minutes_included\"]\n",
    "        sum_gb = gb_used - (tariffs.loc[0, \"mb_per_month_included\"] / 1024)\n",
    "        sum_messages = messages - tariffs.loc[0, \"messages_included\"]\n",
    "\n",
    "        if sum_duration < 0:\n",
    "            sum_duration = 0\n",
    "        if sum_gb < 0:\n",
    "            sum_gb = 0\n",
    "        if sum_messages < 0:\n",
    "            sum_messages = 0\n",
    "\n",
    "        return (\n",
    "            tariffs.loc[0, \"rub_per_message\"] * sum_messages\n",
    "            + (tariffs.loc[0, \"rub_per_gb\"]) * sum_gb\n",
    "            + tariffs.loc[0, \"rub_per_minute\"] * sum_duration\n",
    "            + tariffs.loc[0, \"rub_monthly_fee\"]\n",
    "        )\n",
    "    else:\n",
    "        sum_duration = duration - tariffs.loc[1, \"minutes_included\"]\n",
    "        sum_gb = gb_used - (tariffs.loc[1, \"mb_per_month_included\"] / 1024)\n",
    "        sum_messages = messages - tariffs.loc[1, \"messages_included\"]\n",
    "\n",
    "        if sum_duration < 0:\n",
    "            sum_duration = 0\n",
    "        if sum_gb < 0:\n",
    "            sum_gb = 0\n",
    "        if sum_messages < 0:\n",
    "            sum_messages = 0\n",
    "\n",
    "        return (\n",
    "            tariffs.loc[1, \"rub_per_message\"] * sum_messages\n",
    "            + (tariffs.loc[1, \"rub_per_gb\"]) * sum_gb\n",
    "            + tariffs.loc[1, \"rub_per_minute\"] * sum_duration\n",
    "            + tariffs.loc[1, \"rub_monthly_fee\"]\n",
    "        )\n",
    "\n",
    "\n",
    "grouped[\"revenue\"] = grouped.apply(monthly_revenue, axis=1)"
   ]
  },
  {
   "cell_type": "code",
   "execution_count": 54,
   "metadata": {},
   "outputs": [
    {
     "data": {
      "text/html": [
       "<div>\n",
       "<style scoped>\n",
       "    .dataframe tbody tr th:only-of-type {\n",
       "        vertical-align: middle;\n",
       "    }\n",
       "\n",
       "    .dataframe tbody tr th {\n",
       "        vertical-align: top;\n",
       "    }\n",
       "\n",
       "    .dataframe thead th {\n",
       "        text-align: right;\n",
       "    }\n",
       "</style>\n",
       "<table border=\"1\" class=\"dataframe\">\n",
       "  <thead>\n",
       "    <tr style=\"text-align: right;\">\n",
       "      <th></th>\n",
       "      <th></th>\n",
       "      <th>duration</th>\n",
       "      <th>calls</th>\n",
       "      <th>messages</th>\n",
       "      <th>gb_used</th>\n",
       "      <th>tariff</th>\n",
       "      <th>revenue</th>\n",
       "    </tr>\n",
       "    <tr>\n",
       "      <th>user_id</th>\n",
       "      <th>months</th>\n",
       "      <th></th>\n",
       "      <th></th>\n",
       "      <th></th>\n",
       "      <th></th>\n",
       "      <th></th>\n",
       "      <th></th>\n",
       "    </tr>\n",
       "  </thead>\n",
       "  <tbody>\n",
       "    <tr>\n",
       "      <th rowspan=\"5\" valign=\"top\">1000</th>\n",
       "      <th>2018-05-01</th>\n",
       "      <td>159</td>\n",
       "      <td>22</td>\n",
       "      <td>22</td>\n",
       "      <td>3</td>\n",
       "      <td>ultra</td>\n",
       "      <td>1950.0</td>\n",
       "    </tr>\n",
       "    <tr>\n",
       "      <th>2018-06-01</th>\n",
       "      <td>172</td>\n",
       "      <td>43</td>\n",
       "      <td>60</td>\n",
       "      <td>23</td>\n",
       "      <td>ultra</td>\n",
       "      <td>1950.0</td>\n",
       "    </tr>\n",
       "    <tr>\n",
       "      <th>2018-07-01</th>\n",
       "      <td>340</td>\n",
       "      <td>47</td>\n",
       "      <td>75</td>\n",
       "      <td>14</td>\n",
       "      <td>ultra</td>\n",
       "      <td>1950.0</td>\n",
       "    </tr>\n",
       "    <tr>\n",
       "      <th>2018-08-01</th>\n",
       "      <td>408</td>\n",
       "      <td>52</td>\n",
       "      <td>81</td>\n",
       "      <td>14</td>\n",
       "      <td>ultra</td>\n",
       "      <td>1950.0</td>\n",
       "    </tr>\n",
       "    <tr>\n",
       "      <th>2018-09-01</th>\n",
       "      <td>466</td>\n",
       "      <td>58</td>\n",
       "      <td>57</td>\n",
       "      <td>15</td>\n",
       "      <td>ultra</td>\n",
       "      <td>1950.0</td>\n",
       "    </tr>\n",
       "  </tbody>\n",
       "</table>\n",
       "</div>"
      ],
      "text/plain": [
       "                    duration  calls  messages  gb_used tariff  revenue\n",
       "user_id months                                                        \n",
       "1000    2018-05-01       159     22        22        3  ultra   1950.0\n",
       "        2018-06-01       172     43        60       23  ultra   1950.0\n",
       "        2018-07-01       340     47        75       14  ultra   1950.0\n",
       "        2018-08-01       408     52        81       14  ultra   1950.0\n",
       "        2018-09-01       466     58        57       15  ultra   1950.0"
      ]
     },
     "execution_count": 54,
     "metadata": {},
     "output_type": "execute_result"
    }
   ],
   "source": [
    "grouped.head(5)"
   ]
  },
  {
   "cell_type": "markdown",
   "metadata": {},
   "source": [
    "## 3.3 Анализ поведения абонентов мобильного оператора на тарифных планах \"Смарт\" и \"Ультра\"<a class=\"anchor\" id=\"3\"></a>"
   ]
  },
  {
   "cell_type": "markdown",
   "metadata": {},
   "source": [
    "### 3.1 Колличество минут необходимое абоненту <a class=\"anchor\" id=\"3.1\"></a>"
   ]
  },
  {
   "cell_type": "code",
   "execution_count": 55,
   "metadata": {},
   "outputs": [],
   "source": [
    "median_value = grouped.pivot_table(\n",
    "    index=\"user_id\",\n",
    "    values=[\"duration\", \"messages\", \"gb_used\", \"revenue\"],\n",
    "    aggfunc=\"median\",\n",
    ")"
   ]
  },
  {
   "cell_type": "markdown",
   "metadata": {},
   "source": [
    "Добавим в таблицу тарифный план для того что-бы потом посчитать дисперсию и среднее значение"
   ]
  },
  {
   "cell_type": "code",
   "execution_count": 56,
   "metadata": {},
   "outputs": [
    {
     "data": {
      "text/html": [
       "<div>\n",
       "<style scoped>\n",
       "    .dataframe tbody tr th:only-of-type {\n",
       "        vertical-align: middle;\n",
       "    }\n",
       "\n",
       "    .dataframe tbody tr th {\n",
       "        vertical-align: top;\n",
       "    }\n",
       "\n",
       "    .dataframe thead th {\n",
       "        text-align: right;\n",
       "    }\n",
       "</style>\n",
       "<table border=\"1\" class=\"dataframe\">\n",
       "  <thead>\n",
       "    <tr style=\"text-align: right;\">\n",
       "      <th></th>\n",
       "      <th>duration</th>\n",
       "      <th>gb_used</th>\n",
       "      <th>messages</th>\n",
       "      <th>revenue</th>\n",
       "      <th>tariff</th>\n",
       "    </tr>\n",
       "    <tr>\n",
       "      <th>user_id</th>\n",
       "      <th></th>\n",
       "      <th></th>\n",
       "      <th></th>\n",
       "      <th></th>\n",
       "      <th></th>\n",
       "    </tr>\n",
       "  </thead>\n",
       "  <tbody>\n",
       "    <tr>\n",
       "      <th>1000</th>\n",
       "      <td>339.0</td>\n",
       "      <td>14.5</td>\n",
       "      <td>65.0</td>\n",
       "      <td>1950.0</td>\n",
       "      <td>ultra</td>\n",
       "    </tr>\n",
       "    <tr>\n",
       "      <th>1001</th>\n",
       "      <td>422.0</td>\n",
       "      <td>16.0</td>\n",
       "      <td>0.0</td>\n",
       "      <td>850.0</td>\n",
       "      <td>smart</td>\n",
       "    </tr>\n",
       "    <tr>\n",
       "      <th>1002</th>\n",
       "      <td>214.0</td>\n",
       "      <td>18.0</td>\n",
       "      <td>11.0</td>\n",
       "      <td>1150.0</td>\n",
       "      <td>smart</td>\n",
       "    </tr>\n",
       "    <tr>\n",
       "      <th>1003</th>\n",
       "      <td>824.0</td>\n",
       "      <td>12.0</td>\n",
       "      <td>83.0</td>\n",
       "      <td>1950.0</td>\n",
       "      <td>ultra</td>\n",
       "    </tr>\n",
       "    <tr>\n",
       "      <th>1004</th>\n",
       "      <td>132.5</td>\n",
       "      <td>18.0</td>\n",
       "      <td>154.5</td>\n",
       "      <td>1950.0</td>\n",
       "      <td>ultra</td>\n",
       "    </tr>\n",
       "  </tbody>\n",
       "</table>\n",
       "</div>"
      ],
      "text/plain": [
       "         duration  gb_used  messages  revenue tariff\n",
       "user_id                                             \n",
       "1000        339.0     14.5      65.0   1950.0  ultra\n",
       "1001        422.0     16.0       0.0    850.0  smart\n",
       "1002        214.0     18.0      11.0   1150.0  smart\n",
       "1003        824.0     12.0      83.0   1950.0  ultra\n",
       "1004        132.5     18.0     154.5   1950.0  ultra"
      ]
     },
     "execution_count": 56,
     "metadata": {},
     "output_type": "execute_result"
    }
   ],
   "source": [
    "for user_id in users[\"user_id\"]:\n",
    "    median_value.loc[user_id, \"tariff\"] = users.loc[user_id - 1000, \"tariff\"]\n",
    "median_value.head(5)"
   ]
  },
  {
   "cell_type": "markdown",
   "metadata": {},
   "source": [
    "### 3.2 Статистические показатели по тарифным планам \"Смарт\" и \"Ультра\" <a class=\"anchor\" id=\"3.2\"></a>"
   ]
  },
  {
   "cell_type": "code",
   "execution_count": 57,
   "metadata": {},
   "outputs": [
    {
     "data": {
      "text/html": [
       "<div>\n",
       "<style scoped>\n",
       "    .dataframe tbody tr th:only-of-type {\n",
       "        vertical-align: middle;\n",
       "    }\n",
       "\n",
       "    .dataframe tbody tr th {\n",
       "        vertical-align: top;\n",
       "    }\n",
       "\n",
       "    .dataframe thead tr th {\n",
       "        text-align: left;\n",
       "    }\n",
       "\n",
       "    .dataframe thead tr:last-of-type th {\n",
       "        text-align: right;\n",
       "    }\n",
       "</style>\n",
       "<table border=\"1\" class=\"dataframe\">\n",
       "  <thead>\n",
       "    <tr>\n",
       "      <th></th>\n",
       "      <th colspan=\"3\" halign=\"left\">duration</th>\n",
       "      <th colspan=\"3\" halign=\"left\">gb_used</th>\n",
       "      <th colspan=\"3\" halign=\"left\">messages</th>\n",
       "    </tr>\n",
       "    <tr>\n",
       "      <th></th>\n",
       "      <th>mean</th>\n",
       "      <th>std</th>\n",
       "      <th>var</th>\n",
       "      <th>mean</th>\n",
       "      <th>std</th>\n",
       "      <th>var</th>\n",
       "      <th>mean</th>\n",
       "      <th>std</th>\n",
       "      <th>var</th>\n",
       "    </tr>\n",
       "    <tr>\n",
       "      <th>tariff</th>\n",
       "      <th></th>\n",
       "      <th></th>\n",
       "      <th></th>\n",
       "      <th></th>\n",
       "      <th></th>\n",
       "      <th></th>\n",
       "      <th></th>\n",
       "      <th></th>\n",
       "      <th></th>\n",
       "    </tr>\n",
       "  </thead>\n",
       "  <tbody>\n",
       "    <tr>\n",
       "      <th>smart</th>\n",
       "      <td>437.468571</td>\n",
       "      <td>160.266622</td>\n",
       "      <td>25685.390127</td>\n",
       "      <td>16.927143</td>\n",
       "      <td>4.070437</td>\n",
       "      <td>16.568459</td>\n",
       "      <td>33.770000</td>\n",
       "      <td>28.010653</td>\n",
       "      <td>784.596662</td>\n",
       "    </tr>\n",
       "    <tr>\n",
       "      <th>ultra</th>\n",
       "      <td>557.503378</td>\n",
       "      <td>303.793641</td>\n",
       "      <td>92290.576519</td>\n",
       "      <td>20.317568</td>\n",
       "      <td>8.708653</td>\n",
       "      <td>75.840642</td>\n",
       "      <td>56.983108</td>\n",
       "      <td>49.236809</td>\n",
       "      <td>2424.263318</td>\n",
       "    </tr>\n",
       "  </tbody>\n",
       "</table>\n",
       "</div>"
      ],
      "text/plain": [
       "          duration                              gb_used                       \\\n",
       "              mean         std           var       mean       std        var   \n",
       "tariff                                                                         \n",
       "smart   437.468571  160.266622  25685.390127  16.927143  4.070437  16.568459   \n",
       "ultra   557.503378  303.793641  92290.576519  20.317568  8.708653  75.840642   \n",
       "\n",
       "         messages                          \n",
       "             mean        std          var  \n",
       "tariff                                     \n",
       "smart   33.770000  28.010653   784.596662  \n",
       "ultra   56.983108  49.236809  2424.263318  "
      ]
     },
     "execution_count": 57,
     "metadata": {},
     "output_type": "execute_result"
    }
   ],
   "source": [
    "value_tariff = median_value.pivot_table(\n",
    "    index=[\"tariff\"],\n",
    "    values=[\"duration\", \"gb_used\", \"messages\"],\n",
    "    aggfunc={\n",
    "        \"duration\": [np.mean, np.var, np.std],\n",
    "        \"gb_used\": [np.mean, np.var, np.std],\n",
    "        \"messages\": [np.mean, np.var, np.std],\n",
    "    },\n",
    ")\n",
    "\n",
    "value_tariff"
   ]
  },
  {
   "cell_type": "markdown",
   "metadata": {},
   "source": [
    "### 3.3 Гистограммы распределния <a class=\"anchor\" id=\"3.3\"></a>"
   ]
  },
  {
   "cell_type": "code",
   "execution_count": 58,
   "metadata": {},
   "outputs": [
    {
     "data": {
      "image/png": "[encoded data removed]",
      "text/plain": [
       "<Figure size 864x432 with 1 Axes>"
      ]
     },
     "metadata": {},
     "output_type": "display_data"
    }
   ],
   "source": [
    "sns.set(style=\"darkgrid\")\n",
    "plt.figure(figsize=(12, 6))\n",
    "sns.histplot(\n",
    "    median_value.query(\"tariff == 'smart'\")[\"duration\"],\n",
    "    color=\"skyblue\",\n",
    "    alpha=0.6,\n",
    "    kde=True,\n",
    "    stat=\"probability\",\n",
    ")\n",
    "sns.histplot(\n",
    "    median_value.query(\"tariff == 'ultra'\")[\"duration\"],\n",
    "    color=\"red\",\n",
    "    alpha=0.3,\n",
    "    kde=True,\n",
    "    stat=\"probability\",\n",
    ")\n",
    "plt.title(\"Гистограмма распределения минут разговора\")\n",
    "plt.xlabel(\"Колличество минут\")\n",
    "plt.ylabel(\"Процент\")\n",
    "plt.legend([\"smart\", \"ultra\"])\n",
    "plt.show()"
   ]
  },
  {
   "cell_type": "code",
   "execution_count": 59,
   "metadata": {},
   "outputs": [
    {
     "data": {
      "image/png": "[encoded data removed]",
      "text/plain": [
       "<Figure size 864x432 with 1 Axes>"
      ]
     },
     "metadata": {},
     "output_type": "display_data"
    }
   ],
   "source": [
    "sns.set(style=\"darkgrid\")\n",
    "plt.figure(figsize=(12, 6))\n",
    "sns.histplot(\n",
    "    median_value.query(\"tariff == 'smart'\")[\"gb_used\"],\n",
    "    color=\"skyblue\",\n",
    "    alpha=0.6,\n",
    "    kde=True,\n",
    "    stat=\"probability\",\n",
    ")\n",
    "sns.histplot(\n",
    "    median_value.query(\"tariff == 'ultra'\")[\"gb_used\"],\n",
    "    color=\"red\",\n",
    "    alpha=0.3,\n",
    "    kde=True,\n",
    "    stat=\"probability\",\n",
    ")\n",
    "plt.title(\"Гистограмма распределения интернет трафика\")\n",
    "plt.xlabel(\"Обьем интернет трафика\")\n",
    "plt.ylabel(\"Процент\")\n",
    "plt.legend([\"smart\", \"ultra\"])\n",
    "plt.show()"
   ]
  },
  {
   "cell_type": "code",
   "execution_count": 60,
   "metadata": {},
   "outputs": [
    {
     "data": {
      "image/png": "[encoded data removed]",
      "text/plain": [
       "<Figure size 864x432 with 1 Axes>"
      ]
     },
     "metadata": {},
     "output_type": "display_data"
    }
   ],
   "source": [
    "sns.set(style=\"darkgrid\")\n",
    "plt.figure(figsize=(12, 6))\n",
    "sns.histplot(\n",
    "    median_value.query(\"tariff == 'smart'\")[\"messages\"],\n",
    "    color=\"skyblue\",\n",
    "    alpha=0.6,\n",
    "    kde=True,\n",
    "    stat=\"probability\",\n",
    ")\n",
    "sns.histplot(\n",
    "    median_value.query(\"tariff == 'ultra'\")[\"messages\"],\n",
    "    color=\"red\",\n",
    "    alpha=0.3,\n",
    "    kde=True,\n",
    "    stat=\"probability\",\n",
    ")\n",
    "plt.title(\"Гистограмма распределения сообщений\")\n",
    "plt.xlabel(\"Колличество отправленных сообщений\")\n",
    "plt.ylabel(\"Процент\")\n",
    "plt.legend([\"smart\", \"ultra\"])\n",
    "plt.show()"
   ]
  },
  {
   "cell_type": "markdown",
   "metadata": {},
   "source": [
    "### Вывод <a class=\"anchor\" id=\"3.4\"></a>"
   ]
  },
  {
   "cell_type": "markdown",
   "metadata": {},
   "source": [
    "**Анализ минут и мегабайт**\n",
    "\n",
    "Средние значения минут, мегабайт и сообщений на тарифе  \"Смарт\" меньше соответствующих средних значений на тарифе \"Ультра\" это говорит нам о том что пользователи тарифа \"Ультра\" тратят больше минут, мегабайт и сообщений.\n",
    "\n",
    "На тарифе Смарт cреднее значение используемых минут, мегабайт, сообщений почти равно значениям включенным в тарифный план, за исключением сообщений. На тарифе **Ультра** средние значение используемых минут, мегабайт,  меньше соответствующих значений, включенных в тарифный план. Стандартное отклонение на тарифе \"Смарт\" меньше стандартного отклонения на тарифе \"Ультра\". Все это говорит нам о том, что пользователи на тарифе \"Ультра\" не следят за количеством истраченных минут, мегабайт, пользователи на тарифе \"Смарт\" стараются израсходовать все минуты, мегабайты включённые в пакет.\n",
    "\n",
    "\n",
    "**Анализ сообщений**\n",
    "\n",
    "Медиана равна стандартному отклонению это экспоненциальное распределение. Значит пользователи обоих тарифов не очень активно пользуются СМС. Пользователи на тарифе \"Смарт\" израсходуют сообщений больше чем предусмотренно тарифом. Пользователи тарифа \"Ультра\"  не израсходуют все сообщения включенные в тариф."
   ]
  },
  {
   "cell_type": "markdown",
   "metadata": {},
   "source": [
    "## 4. Проверка гипотез <a class=\"anchor\" id=\"4\"></a>"
   ]
  },
  {
   "cell_type": "markdown",
   "metadata": {},
   "source": [
    "### 4.1 Гипотеза №1 \"Средняя выручка пользователей тарифов «Ультра» и «Смарт» различаются\" <a class=\"anchor\" id=\"4.1\"></a>"
   ]
  },
  {
   "cell_type": "markdown",
   "metadata": {},
   "source": [
    "**Нулевая гипотеза** средняя выручка пользователей тарифов \"Ультра\" и \"Смарт\" равна.\n",
    "\n",
    "**Алтернативная гипотеза** средняя выручка пользователей тарифов \"Ультра\" и \"Смарт\" не равна.\n"
   ]
  },
  {
   "cell_type": "code",
   "execution_count": 61,
   "metadata": {},
   "outputs": [],
   "source": [
    "# создадим два DataFrame сгруппированных по тарифам\n",
    "smart = grouped.query('tariff == \"smart\"')[\"revenue\"]\n",
    "ultra = grouped.query('tariff == \"ultra\"')[\"revenue\"]"
   ]
  },
  {
   "cell_type": "code",
   "execution_count": 62,
   "metadata": {},
   "outputs": [
    {
     "name": "stdout",
     "output_type": "stream",
     "text": [
      "p-value: 1.4229814360764067e-160\n",
      "Отвергаем нулевую гипотезу\n"
     ]
    }
   ],
   "source": [
    "alpha = 0.05  # alpha выберем 0.5\n",
    "\n",
    "results = st.ttest_ind(ultra, smart)\n",
    "\n",
    "print(\"p-value:\", results.pvalue)\n",
    "\n",
    "if results.pvalue < alpha:\n",
    "    print(\"Отвергаем нулевую гипотезу\")\n",
    "else:\n",
    "    print(\"Не получилось отвергнуть нулевую гипотезу\")"
   ]
  },
  {
   "cell_type": "code",
   "execution_count": 63,
   "metadata": {
    "scrolled": true
   },
   "outputs": [
    {
     "name": "stdout",
     "output_type": "stream",
     "text": [
      "Средняя выручка на тарифе \"Cмарт\" 1023.0\n",
      "Средняя выручка на тарифе \"Ультра\" 1950.0\n"
     ]
    }
   ],
   "source": [
    "print('Средняя выручка на тарифе \"Cмарт\"', smart.median())\n",
    "print('Средняя выручка на тарифе \"Ультра\"', ultra.median())"
   ]
  },
  {
   "cell_type": "markdown",
   "metadata": {},
   "source": [
    "Значит средняя выручка на тарифах \"Смарт\" и \"Ультра\" не равна. Средняя выручка по тарифу \"Ультра\" превышает в два раза выручку по тарифу смарт. Но вот что интересно средняя выручка по тарифу \"Ультра\" равна абонентской плате, то средняя выручка по тарифу смарт превышает абонентскую плату, значит скорее всего абонентам не хватает пакетов услуг включенных в тарифный план."
   ]
  },
  {
   "cell_type": "markdown",
   "metadata": {},
   "source": [
    "### 4.2 Гипотеза №2\t\"Средняя выручка пользователей из Москвы отличается от выручки пользователей из других регионов\" <a class=\"anchor\" id=\"4.2\"></a>"
   ]
  },
  {
   "cell_type": "markdown",
   "metadata": {},
   "source": [
    "**Нулевая гипотеза** средняя выручка пользователей из Москвы равна средней выручки пользователей из других регионов\n",
    "\n",
    "**Альтернативная гипотеза** средняя выручка пользователей из Москвы не равна средней выручки пользователем из других регионов"
   ]
  },
  {
   "cell_type": "code",
   "execution_count": 64,
   "metadata": {},
   "outputs": [],
   "source": [
    "# в таблицу grouped добавим название населенных пунктов\n",
    "for user in grouped.index:\n",
    "    grouped.loc[user, \"city\"] = users.loc[user[0] - 1000, \"city\"]"
   ]
  },
  {
   "cell_type": "code",
   "execution_count": 65,
   "metadata": {},
   "outputs": [],
   "source": [
    "# создадим два DataFreym сгруппированных по городам\n",
    "moscow = grouped.query('city == \"Москва\"')[\"revenue\"]\n",
    "other_cities = grouped.query('city != \"Москва\"')[\"revenue\"]"
   ]
  },
  {
   "cell_type": "code",
   "execution_count": 66,
   "metadata": {},
   "outputs": [
    {
     "name": "stdout",
     "output_type": "stream",
     "text": [
      "p-value: 0.5440152911670224\n",
      "Не получилось отвергнуть нулевую гипотезу\n"
     ]
    }
   ],
   "source": [
    "alpha = 0.05  # alpha выберем 0.5\n",
    "\n",
    "results = st.ttest_ind(moscow, other_cities)\n",
    "\n",
    "print(\"p-value:\", results.pvalue)\n",
    "\n",
    "if results.pvalue < alpha:\n",
    "    print(\"Отвергаем нулевую гипотезу\")\n",
    "else:\n",
    "    print(\"Не получилось отвергнуть нулевую гипотезу\")"
   ]
  },
  {
   "cell_type": "code",
   "execution_count": 67,
   "metadata": {
    "scrolled": true
   },
   "outputs": [
    {
     "name": "stdout",
     "output_type": "stream",
     "text": [
      "Средняя выручка по Москве: 1750.0\n",
      "Средняя выручка по остальным регионам: 1583.0\n"
     ]
    }
   ],
   "source": [
    "print(\"Средняя выручка по Москве:\", moscow.median())\n",
    "print(\"Средняя выручка по остальным регионам:\", other_cities.median())"
   ]
  },
  {
   "cell_type": "markdown",
   "metadata": {},
   "source": [
    "Средняя выручка пользователей из Москвы почти равна средней выручке пользователей из других регионов."
   ]
  },
  {
   "cell_type": "markdown",
   "metadata": {},
   "source": [
    "## Вывод  <a class=\"anchor\" id=\"5\"></a>"
   ]
  },
  {
   "cell_type": "markdown",
   "metadata": {},
   "source": [
    "- Средняя выручка с тарифа \"Ультра\" превышает среднею выручку на тарифе \"Смарт\" почти в два раза.\n",
    "- Средняя выручка на тарифе \"Ультра\" равна ежемесячной плате за тариф, абоненты не расходуют сверх установленного на тарифе лимита по звонкам, сообщениям и интернет трафику.\n",
    "- Средняя выручка на тарифе \"Смарт\" превышает ежемесячный платеж по тарифному плану на 68%, так абонентам данного тарифного плана не хватает минут, сообщений и интернет трафика включенного в тариф, как следствие абоненты приобретают дополнительные минуты, сообщения и мегабайты.\n",
    "- Пользователи обоих тарифов не очень активно используют сообщения. 74 абонента (около 30%)  не отправляет сообщений.\n",
    "- Средняя выручка пользователей из Москвы почти равна средней выручке пользователей из других регионов."
   ]
  }
 ],
 "metadata": {
  "ExecuteTimeLog": [
   {
    "duration": 888,
    "start_time": "2022-05-11T18:56:09.267Z"
   },
   {
    "duration": 0,
    "start_time": "2022-05-11T18:56:10.163Z"
   },
   {
    "duration": 0,
    "start_time": "2022-05-11T18:56:10.165Z"
   },
   {
    "duration": 0,
    "start_time": "2022-05-11T18:56:10.167Z"
   },
   {
    "duration": 0,
    "start_time": "2022-05-11T18:56:10.169Z"
   },
   {
    "duration": 0,
    "start_time": "2022-05-11T18:56:10.171Z"
   },
   {
    "duration": 0,
    "start_time": "2022-05-11T18:56:10.173Z"
   },
   {
    "duration": 0,
    "start_time": "2022-05-11T18:56:10.175Z"
   },
   {
    "duration": 0,
    "start_time": "2022-05-11T18:56:10.177Z"
   },
   {
    "duration": 0,
    "start_time": "2022-05-11T18:56:10.179Z"
   },
   {
    "duration": 0,
    "start_time": "2022-05-11T18:56:10.181Z"
   },
   {
    "duration": 0,
    "start_time": "2022-05-11T18:56:10.184Z"
   },
   {
    "duration": 0,
    "start_time": "2022-05-11T18:56:10.187Z"
   },
   {
    "duration": 0,
    "start_time": "2022-05-11T18:56:10.189Z"
   },
   {
    "duration": 0,
    "start_time": "2022-05-11T18:56:10.191Z"
   },
   {
    "duration": 0,
    "start_time": "2022-05-11T18:56:10.194Z"
   },
   {
    "duration": 0,
    "start_time": "2022-05-11T18:56:10.196Z"
   },
   {
    "duration": 0,
    "start_time": "2022-05-11T18:56:10.199Z"
   },
   {
    "duration": 0,
    "start_time": "2022-05-11T18:56:10.201Z"
   },
   {
    "duration": 0,
    "start_time": "2022-05-11T18:56:10.203Z"
   },
   {
    "duration": 0,
    "start_time": "2022-05-11T18:56:10.206Z"
   },
   {
    "duration": 0,
    "start_time": "2022-05-11T18:56:10.208Z"
   },
   {
    "duration": 0,
    "start_time": "2022-05-11T18:56:10.210Z"
   },
   {
    "duration": 0,
    "start_time": "2022-05-11T18:56:10.212Z"
   },
   {
    "duration": 0,
    "start_time": "2022-05-11T18:56:10.214Z"
   },
   {
    "duration": 0,
    "start_time": "2022-05-11T18:56:10.216Z"
   },
   {
    "duration": 0,
    "start_time": "2022-05-11T18:56:10.218Z"
   },
   {
    "duration": 0,
    "start_time": "2022-05-11T18:56:10.220Z"
   },
   {
    "duration": 0,
    "start_time": "2022-05-11T18:56:10.223Z"
   },
   {
    "duration": 0,
    "start_time": "2022-05-11T18:56:10.225Z"
   },
   {
    "duration": 0,
    "start_time": "2022-05-11T18:56:10.227Z"
   },
   {
    "duration": 0,
    "start_time": "2022-05-11T18:56:10.229Z"
   },
   {
    "duration": 0,
    "start_time": "2022-05-11T18:56:10.231Z"
   },
   {
    "duration": 0,
    "start_time": "2022-05-11T18:56:10.233Z"
   },
   {
    "duration": 0,
    "start_time": "2022-05-11T18:56:10.235Z"
   },
   {
    "duration": 0,
    "start_time": "2022-05-11T18:56:10.237Z"
   },
   {
    "duration": 0,
    "start_time": "2022-05-11T18:56:10.239Z"
   },
   {
    "duration": 0,
    "start_time": "2022-05-11T18:56:10.241Z"
   },
   {
    "duration": 0,
    "start_time": "2022-05-11T18:56:10.244Z"
   },
   {
    "duration": 0,
    "start_time": "2022-05-11T18:56:10.246Z"
   },
   {
    "duration": 0,
    "start_time": "2022-05-11T18:56:10.248Z"
   },
   {
    "duration": 0,
    "start_time": "2022-05-11T18:56:10.251Z"
   },
   {
    "duration": 0,
    "start_time": "2022-05-11T18:56:10.253Z"
   },
   {
    "duration": 0,
    "start_time": "2022-05-11T18:56:10.255Z"
   },
   {
    "duration": 0,
    "start_time": "2022-05-11T18:56:10.257Z"
   },
   {
    "duration": 0,
    "start_time": "2022-05-11T18:56:10.292Z"
   },
   {
    "duration": 0,
    "start_time": "2022-05-11T18:56:10.295Z"
   },
   {
    "duration": 0,
    "start_time": "2022-05-11T18:56:10.297Z"
   },
   {
    "duration": 0,
    "start_time": "2022-05-11T18:56:10.299Z"
   },
   {
    "duration": 0,
    "start_time": "2022-05-11T18:56:10.301Z"
   },
   {
    "duration": 0,
    "start_time": "2022-05-11T18:56:10.303Z"
   },
   {
    "duration": 0,
    "start_time": "2022-05-11T18:56:10.305Z"
   },
   {
    "duration": 0,
    "start_time": "2022-05-11T18:56:10.306Z"
   },
   {
    "duration": 0,
    "start_time": "2022-05-11T18:56:10.308Z"
   },
   {
    "duration": 0,
    "start_time": "2022-05-11T18:56:10.310Z"
   },
   {
    "duration": 0,
    "start_time": "2022-05-11T18:56:10.311Z"
   },
   {
    "duration": 0,
    "start_time": "2022-05-11T18:56:10.313Z"
   },
   {
    "duration": 0,
    "start_time": "2022-05-11T18:56:10.315Z"
   },
   {
    "duration": 0,
    "start_time": "2022-05-11T18:56:10.316Z"
   },
   {
    "duration": 0,
    "start_time": "2022-05-11T18:56:10.318Z"
   },
   {
    "duration": 0,
    "start_time": "2022-05-11T18:56:10.320Z"
   },
   {
    "duration": 0,
    "start_time": "2022-05-11T18:56:10.321Z"
   },
   {
    "duration": 0,
    "start_time": "2022-05-11T18:56:10.323Z"
   },
   {
    "duration": 0,
    "start_time": "2022-05-11T18:56:10.325Z"
   },
   {
    "duration": 0,
    "start_time": "2022-05-11T18:56:10.326Z"
   },
   {
    "duration": 0,
    "start_time": "2022-05-11T18:56:10.328Z"
   },
   {
    "duration": 2144,
    "start_time": "2022-05-11T18:56:40.136Z"
   },
   {
    "duration": 263,
    "start_time": "2022-05-11T18:56:42.284Z"
   },
   {
    "duration": 0,
    "start_time": "2022-05-11T18:56:42.554Z"
   },
   {
    "duration": 0,
    "start_time": "2022-05-11T18:56:42.555Z"
   },
   {
    "duration": 0,
    "start_time": "2022-05-11T18:56:42.557Z"
   },
   {
    "duration": 0,
    "start_time": "2022-05-11T18:56:42.559Z"
   },
   {
    "duration": 0,
    "start_time": "2022-05-11T18:56:42.561Z"
   },
   {
    "duration": 0,
    "start_time": "2022-05-11T18:56:42.562Z"
   },
   {
    "duration": 0,
    "start_time": "2022-05-11T18:56:42.564Z"
   },
   {
    "duration": 0,
    "start_time": "2022-05-11T18:56:42.566Z"
   },
   {
    "duration": 0,
    "start_time": "2022-05-11T18:56:42.569Z"
   },
   {
    "duration": 0,
    "start_time": "2022-05-11T18:56:42.603Z"
   },
   {
    "duration": 0,
    "start_time": "2022-05-11T18:56:42.605Z"
   },
   {
    "duration": 0,
    "start_time": "2022-05-11T18:56:42.607Z"
   },
   {
    "duration": 0,
    "start_time": "2022-05-11T18:56:42.622Z"
   },
   {
    "duration": 0,
    "start_time": "2022-05-11T18:56:42.624Z"
   },
   {
    "duration": 0,
    "start_time": "2022-05-11T18:56:42.627Z"
   },
   {
    "duration": 0,
    "start_time": "2022-05-11T18:56:42.629Z"
   },
   {
    "duration": 0,
    "start_time": "2022-05-11T18:56:42.631Z"
   },
   {
    "duration": 0,
    "start_time": "2022-05-11T18:56:42.634Z"
   },
   {
    "duration": 0,
    "start_time": "2022-05-11T18:56:42.636Z"
   },
   {
    "duration": 0,
    "start_time": "2022-05-11T18:56:42.638Z"
   },
   {
    "duration": 0,
    "start_time": "2022-05-11T18:56:42.640Z"
   },
   {
    "duration": 0,
    "start_time": "2022-05-11T18:56:42.642Z"
   },
   {
    "duration": 0,
    "start_time": "2022-05-11T18:56:42.644Z"
   },
   {
    "duration": 0,
    "start_time": "2022-05-11T18:56:42.645Z"
   },
   {
    "duration": 1,
    "start_time": "2022-05-11T18:56:42.646Z"
   },
   {
    "duration": 0,
    "start_time": "2022-05-11T18:56:42.692Z"
   },
   {
    "duration": 0,
    "start_time": "2022-05-11T18:56:42.695Z"
   },
   {
    "duration": 0,
    "start_time": "2022-05-11T18:56:42.699Z"
   },
   {
    "duration": 0,
    "start_time": "2022-05-11T18:56:42.701Z"
   },
   {
    "duration": 0,
    "start_time": "2022-05-11T18:56:42.703Z"
   },
   {
    "duration": 0,
    "start_time": "2022-05-11T18:56:42.705Z"
   },
   {
    "duration": 0,
    "start_time": "2022-05-11T18:56:42.707Z"
   },
   {
    "duration": 0,
    "start_time": "2022-05-11T18:56:42.709Z"
   },
   {
    "duration": 0,
    "start_time": "2022-05-11T18:56:42.711Z"
   },
   {
    "duration": 0,
    "start_time": "2022-05-11T18:56:42.714Z"
   },
   {
    "duration": 0,
    "start_time": "2022-05-11T18:56:42.716Z"
   },
   {
    "duration": 0,
    "start_time": "2022-05-11T18:56:42.719Z"
   },
   {
    "duration": 0,
    "start_time": "2022-05-11T18:56:42.721Z"
   },
   {
    "duration": 0,
    "start_time": "2022-05-11T18:56:42.723Z"
   },
   {
    "duration": 0,
    "start_time": "2022-05-11T18:56:42.726Z"
   },
   {
    "duration": 0,
    "start_time": "2022-05-11T18:56:42.729Z"
   },
   {
    "duration": 0,
    "start_time": "2022-05-11T18:56:42.731Z"
   },
   {
    "duration": 0,
    "start_time": "2022-05-11T18:56:42.733Z"
   },
   {
    "duration": 0,
    "start_time": "2022-05-11T18:56:42.792Z"
   },
   {
    "duration": 0,
    "start_time": "2022-05-11T18:56:42.795Z"
   },
   {
    "duration": 0,
    "start_time": "2022-05-11T18:56:42.797Z"
   },
   {
    "duration": 0,
    "start_time": "2022-05-11T18:56:42.800Z"
   },
   {
    "duration": 0,
    "start_time": "2022-05-11T18:56:42.802Z"
   },
   {
    "duration": 0,
    "start_time": "2022-05-11T18:56:42.804Z"
   },
   {
    "duration": 0,
    "start_time": "2022-05-11T18:56:42.807Z"
   },
   {
    "duration": 0,
    "start_time": "2022-05-11T18:56:42.809Z"
   },
   {
    "duration": 0,
    "start_time": "2022-05-11T18:56:42.811Z"
   },
   {
    "duration": 0,
    "start_time": "2022-05-11T18:56:42.816Z"
   },
   {
    "duration": 0,
    "start_time": "2022-05-11T18:56:42.818Z"
   },
   {
    "duration": 0,
    "start_time": "2022-05-11T18:56:42.820Z"
   },
   {
    "duration": 0,
    "start_time": "2022-05-11T18:56:42.822Z"
   },
   {
    "duration": 0,
    "start_time": "2022-05-11T18:56:42.825Z"
   },
   {
    "duration": 0,
    "start_time": "2022-05-11T18:56:42.827Z"
   },
   {
    "duration": 0,
    "start_time": "2022-05-11T18:56:42.830Z"
   },
   {
    "duration": 0,
    "start_time": "2022-05-11T18:56:42.832Z"
   },
   {
    "duration": 0,
    "start_time": "2022-05-11T18:56:42.834Z"
   },
   {
    "duration": 0,
    "start_time": "2022-05-11T18:56:42.894Z"
   },
   {
    "duration": 0,
    "start_time": "2022-05-11T18:56:42.896Z"
   },
   {
    "duration": 2860,
    "start_time": "2022-05-11T19:07:15.207Z"
   },
   {
    "duration": 33,
    "start_time": "2022-05-11T19:07:18.072Z"
   },
   {
    "duration": 21,
    "start_time": "2022-05-11T19:07:18.108Z"
   },
   {
    "duration": 25,
    "start_time": "2022-05-11T19:07:18.133Z"
   },
   {
    "duration": 32,
    "start_time": "2022-05-11T19:07:18.163Z"
   },
   {
    "duration": 11,
    "start_time": "2022-05-11T19:07:18.198Z"
   },
   {
    "duration": 21,
    "start_time": "2022-05-11T19:07:18.212Z"
   },
   {
    "duration": 75,
    "start_time": "2022-05-11T19:07:18.237Z"
   },
   {
    "duration": 198,
    "start_time": "2022-05-11T19:07:18.315Z"
   },
   {
    "duration": 190,
    "start_time": "2022-05-11T19:07:18.516Z"
   },
   {
    "duration": 89,
    "start_time": "2022-05-11T19:07:18.709Z"
   },
   {
    "duration": 15,
    "start_time": "2022-05-11T19:07:18.801Z"
   },
   {
    "duration": 48,
    "start_time": "2022-05-11T19:07:18.819Z"
   },
   {
    "duration": 115,
    "start_time": "2022-05-11T19:07:18.895Z"
   },
   {
    "duration": 105,
    "start_time": "2022-05-11T19:07:19.012Z"
   },
   {
    "duration": 45,
    "start_time": "2022-05-11T19:07:19.120Z"
   },
   {
    "duration": 38,
    "start_time": "2022-05-11T19:07:19.168Z"
   },
   {
    "duration": 57,
    "start_time": "2022-05-11T19:07:19.209Z"
   },
   {
    "duration": 144,
    "start_time": "2022-05-11T19:07:19.269Z"
   },
   {
    "duration": 153,
    "start_time": "2022-05-11T19:07:19.416Z"
   },
   {
    "duration": 23,
    "start_time": "2022-05-11T19:07:19.572Z"
   },
   {
    "duration": 60,
    "start_time": "2022-05-11T19:07:19.598Z"
   },
   {
    "duration": 34,
    "start_time": "2022-05-11T19:07:19.661Z"
   },
   {
    "duration": 29,
    "start_time": "2022-05-11T19:07:19.698Z"
   },
   {
    "duration": 26,
    "start_time": "2022-05-11T19:07:19.730Z"
   },
   {
    "duration": 18,
    "start_time": "2022-05-11T19:07:19.758Z"
   },
   {
    "duration": 6,
    "start_time": "2022-05-11T19:07:19.794Z"
   },
   {
    "duration": 80,
    "start_time": "2022-05-11T19:07:19.802Z"
   },
   {
    "duration": 19,
    "start_time": "2022-05-11T19:07:19.886Z"
   },
   {
    "duration": 46,
    "start_time": "2022-05-11T19:07:19.908Z"
   },
   {
    "duration": 332,
    "start_time": "2022-05-11T19:07:19.956Z"
   },
   {
    "duration": 65,
    "start_time": "2022-05-11T19:07:20.294Z"
   },
   {
    "duration": 4,
    "start_time": "2022-05-11T19:07:20.361Z"
   },
   {
    "duration": 37,
    "start_time": "2022-05-11T19:07:20.367Z"
   },
   {
    "duration": 102,
    "start_time": "2022-05-11T19:07:20.407Z"
   },
   {
    "duration": 18,
    "start_time": "2022-05-11T19:07:20.511Z"
   },
   {
    "duration": 14,
    "start_time": "2022-05-11T19:07:20.531Z"
   },
   {
    "duration": 55,
    "start_time": "2022-05-11T19:07:20.548Z"
   },
   {
    "duration": 287,
    "start_time": "2022-05-11T19:07:20.606Z"
   },
   {
    "duration": 41,
    "start_time": "2022-05-11T19:07:20.896Z"
   },
   {
    "duration": 5,
    "start_time": "2022-05-11T19:07:20.945Z"
   },
   {
    "duration": 18,
    "start_time": "2022-05-11T19:07:20.953Z"
   },
   {
    "duration": 22,
    "start_time": "2022-05-11T19:07:20.993Z"
   },
   {
    "duration": 5,
    "start_time": "2022-05-11T19:07:21.018Z"
   },
   {
    "duration": 11,
    "start_time": "2022-05-11T19:07:21.025Z"
   },
   {
    "duration": 15,
    "start_time": "2022-05-11T19:07:21.039Z"
   },
   {
    "duration": 49,
    "start_time": "2022-05-11T19:07:21.057Z"
   },
   {
    "duration": 2371,
    "start_time": "2022-05-11T19:07:21.110Z"
   },
   {
    "duration": 622,
    "start_time": "2022-05-11T19:07:23.483Z"
   },
   {
    "duration": 23,
    "start_time": "2022-05-11T19:07:24.110Z"
   },
   {
    "duration": 300,
    "start_time": "2022-05-11T19:07:24.137Z"
   },
   {
    "duration": 66,
    "start_time": "2022-05-11T19:07:24.440Z"
   },
   {
    "duration": 699,
    "start_time": "2022-05-11T19:07:24.509Z"
   },
   {
    "duration": 656,
    "start_time": "2022-05-11T19:07:25.211Z"
   },
   {
    "duration": 539,
    "start_time": "2022-05-11T19:07:25.870Z"
   },
   {
    "duration": 20,
    "start_time": "2022-05-11T19:07:26.412Z"
   },
   {
    "duration": 19,
    "start_time": "2022-05-11T19:07:26.435Z"
   },
   {
    "duration": 36,
    "start_time": "2022-05-11T19:07:26.458Z"
   },
   {
    "duration": 25,
    "start_time": "2022-05-11T19:07:26.497Z"
   },
   {
    "duration": 2473,
    "start_time": "2022-05-11T19:07:26.525Z"
   },
   {
    "duration": 17,
    "start_time": "2022-05-11T19:07:29.001Z"
   },
   {
    "duration": 20,
    "start_time": "2022-05-11T19:07:29.021Z"
   },
   {
    "duration": 20,
    "start_time": "2022-05-11T19:07:29.044Z"
   },
   {
    "duration": 31,
    "start_time": "2022-05-11T19:07:29.066Z"
   },
   {
    "duration": 1308,
    "start_time": "2022-05-12T02:18:21.651Z"
   },
   {
    "duration": 2571,
    "start_time": "2022-05-12T02:18:33.299Z"
   },
   {
    "duration": 14,
    "start_time": "2022-05-12T02:18:35.872Z"
   },
   {
    "duration": 10,
    "start_time": "2022-05-12T02:18:35.888Z"
   },
   {
    "duration": 8,
    "start_time": "2022-05-12T02:18:35.901Z"
   },
   {
    "duration": 5,
    "start_time": "2022-05-12T02:18:35.911Z"
   },
   {
    "duration": 6,
    "start_time": "2022-05-12T02:18:35.918Z"
   },
   {
    "duration": 8,
    "start_time": "2022-05-12T02:18:35.926Z"
   },
   {
    "duration": 56,
    "start_time": "2022-05-12T02:18:35.936Z"
   },
   {
    "duration": 105,
    "start_time": "2022-05-12T02:18:35.994Z"
   },
   {
    "duration": 97,
    "start_time": "2022-05-12T02:18:36.102Z"
   },
   {
    "duration": 31,
    "start_time": "2022-05-12T02:18:36.201Z"
   },
   {
    "duration": 8,
    "start_time": "2022-05-12T02:18:36.233Z"
   },
   {
    "duration": 38,
    "start_time": "2022-05-12T02:18:36.243Z"
   },
   {
    "duration": 48,
    "start_time": "2022-05-12T02:18:36.283Z"
   },
   {
    "duration": 66,
    "start_time": "2022-05-12T02:18:36.333Z"
   },
   {
    "duration": 21,
    "start_time": "2022-05-12T02:18:36.401Z"
   },
   {
    "duration": 9,
    "start_time": "2022-05-12T02:18:36.423Z"
   },
   {
    "duration": 42,
    "start_time": "2022-05-12T02:18:36.434Z"
   },
   {
    "duration": 57,
    "start_time": "2022-05-12T02:18:36.478Z"
   },
   {
    "duration": 76,
    "start_time": "2022-05-12T02:18:36.537Z"
   },
   {
    "duration": 7,
    "start_time": "2022-05-12T02:18:36.616Z"
   },
   {
    "duration": 46,
    "start_time": "2022-05-12T02:18:36.625Z"
   },
   {
    "duration": 8,
    "start_time": "2022-05-12T02:18:36.673Z"
   },
   {
    "duration": 10,
    "start_time": "2022-05-12T02:18:36.683Z"
   },
   {
    "duration": 7,
    "start_time": "2022-05-12T02:18:36.695Z"
   },
   {
    "duration": 5,
    "start_time": "2022-05-12T02:18:36.704Z"
   },
   {
    "duration": 6,
    "start_time": "2022-05-12T02:18:36.711Z"
   },
   {
    "duration": 83,
    "start_time": "2022-05-12T02:18:36.721Z"
   },
   {
    "duration": 9,
    "start_time": "2022-05-12T02:18:36.806Z"
   },
   {
    "duration": 34,
    "start_time": "2022-05-12T02:18:36.817Z"
   },
   {
    "duration": 180,
    "start_time": "2022-05-12T02:18:36.853Z"
   },
   {
    "duration": 60,
    "start_time": "2022-05-12T02:18:37.035Z"
   },
   {
    "duration": 3,
    "start_time": "2022-05-12T02:18:37.096Z"
   },
   {
    "duration": 9,
    "start_time": "2022-05-12T02:18:37.101Z"
   },
   {
    "duration": 65,
    "start_time": "2022-05-12T02:18:37.112Z"
   },
   {
    "duration": 7,
    "start_time": "2022-05-12T02:18:37.179Z"
   },
   {
    "duration": 7,
    "start_time": "2022-05-12T02:18:37.188Z"
   },
   {
    "duration": 23,
    "start_time": "2022-05-12T02:18:37.196Z"
   },
   {
    "duration": 161,
    "start_time": "2022-05-12T02:18:37.221Z"
   },
   {
    "duration": 20,
    "start_time": "2022-05-12T02:18:37.384Z"
   },
   {
    "duration": 2,
    "start_time": "2022-05-12T02:18:37.406Z"
   },
   {
    "duration": 8,
    "start_time": "2022-05-12T02:18:37.410Z"
   },
   {
    "duration": 14,
    "start_time": "2022-05-12T02:18:37.420Z"
   },
   {
    "duration": 3,
    "start_time": "2022-05-12T02:18:37.435Z"
   },
   {
    "duration": 32,
    "start_time": "2022-05-12T02:18:37.439Z"
   },
   {
    "duration": 4,
    "start_time": "2022-05-12T02:18:37.473Z"
   },
   {
    "duration": 11,
    "start_time": "2022-05-12T02:18:37.479Z"
   },
   {
    "duration": 952,
    "start_time": "2022-05-12T02:18:37.492Z"
   },
   {
    "duration": 204,
    "start_time": "2022-05-12T02:18:38.445Z"
   },
   {
    "duration": 11,
    "start_time": "2022-05-12T02:18:38.651Z"
   },
   {
    "duration": 139,
    "start_time": "2022-05-12T02:18:38.671Z"
   },
   {
    "duration": 25,
    "start_time": "2022-05-12T02:18:38.811Z"
   },
   {
    "duration": 271,
    "start_time": "2022-05-12T02:18:38.838Z"
   },
   {
    "duration": 274,
    "start_time": "2022-05-12T02:18:39.110Z"
   },
   {
    "duration": 254,
    "start_time": "2022-05-12T02:18:39.385Z"
   },
   {
    "duration": 12,
    "start_time": "2022-05-12T02:18:39.641Z"
   },
   {
    "duration": 22,
    "start_time": "2022-05-12T02:18:39.655Z"
   },
   {
    "duration": 5,
    "start_time": "2022-05-12T02:18:39.679Z"
   },
   {
    "duration": 5,
    "start_time": "2022-05-12T02:18:39.686Z"
   },
   {
    "duration": 1011,
    "start_time": "2022-05-12T02:18:39.692Z"
   },
   {
    "duration": 9,
    "start_time": "2022-05-12T02:18:40.705Z"
   },
   {
    "duration": 10,
    "start_time": "2022-05-12T02:18:40.716Z"
   },
   {
    "duration": 5,
    "start_time": "2022-05-12T02:18:40.727Z"
   },
   {
    "duration": 6,
    "start_time": "2022-05-12T02:18:40.733Z"
   },
   {
    "duration": 7,
    "start_time": "2022-05-12T03:09:20.275Z"
   },
   {
    "duration": 12,
    "start_time": "2022-05-12T03:09:47.205Z"
   },
   {
    "duration": 13,
    "start_time": "2022-05-12T03:13:47.569Z"
   },
   {
    "duration": 16,
    "start_time": "2022-05-12T03:34:12.616Z"
   },
   {
    "duration": 14,
    "start_time": "2022-05-12T03:43:27.808Z"
   },
   {
    "duration": 17,
    "start_time": "2022-05-12T03:44:57.795Z"
   },
   {
    "duration": 1887,
    "start_time": "2022-05-12T03:45:14.767Z"
   },
   {
    "duration": 16,
    "start_time": "2022-05-12T03:45:33.754Z"
   },
   {
    "duration": 7,
    "start_time": "2022-05-12T03:47:09.613Z"
   },
   {
    "duration": 15,
    "start_time": "2022-05-12T03:49:47.171Z"
   },
   {
    "duration": 9,
    "start_time": "2022-05-12T03:54:57.170Z"
   },
   {
    "duration": 12,
    "start_time": "2022-05-12T03:55:11.205Z"
   },
   {
    "duration": 95,
    "start_time": "2022-05-12T04:33:34.193Z"
   },
   {
    "duration": 1121,
    "start_time": "2022-05-12T21:47:37.056Z"
   },
   {
    "duration": 959,
    "start_time": "2022-05-12T21:47:43.154Z"
   },
   {
    "duration": 17,
    "start_time": "2022-05-12T21:47:44.116Z"
   },
   {
    "duration": 14,
    "start_time": "2022-05-12T21:47:44.134Z"
   },
   {
    "duration": 17,
    "start_time": "2022-05-12T21:47:44.151Z"
   },
   {
    "duration": 8,
    "start_time": "2022-05-12T21:47:44.170Z"
   },
   {
    "duration": 10,
    "start_time": "2022-05-12T21:47:44.180Z"
   },
   {
    "duration": 14,
    "start_time": "2022-05-12T21:47:44.192Z"
   },
   {
    "duration": 56,
    "start_time": "2022-05-12T21:47:44.208Z"
   },
   {
    "duration": 149,
    "start_time": "2022-05-12T21:47:44.266Z"
   },
   {
    "duration": 146,
    "start_time": "2022-05-12T21:47:44.418Z"
   },
   {
    "duration": 34,
    "start_time": "2022-05-12T21:47:44.566Z"
   },
   {
    "duration": 8,
    "start_time": "2022-05-12T21:47:44.602Z"
   },
   {
    "duration": 23,
    "start_time": "2022-05-12T21:47:44.612Z"
   },
   {
    "duration": 74,
    "start_time": "2022-05-12T21:47:44.637Z"
   },
   {
    "duration": 59,
    "start_time": "2022-05-12T21:47:44.712Z"
   },
   {
    "duration": 20,
    "start_time": "2022-05-12T21:47:44.772Z"
   },
   {
    "duration": 8,
    "start_time": "2022-05-12T21:47:44.793Z"
   },
   {
    "duration": 23,
    "start_time": "2022-05-12T21:47:44.802Z"
   },
   {
    "duration": 78,
    "start_time": "2022-05-12T21:47:44.826Z"
   },
   {
    "duration": 65,
    "start_time": "2022-05-12T21:47:44.905Z"
   },
   {
    "duration": 23,
    "start_time": "2022-05-12T21:47:44.971Z"
   },
   {
    "duration": 7,
    "start_time": "2022-05-12T21:47:44.995Z"
   },
   {
    "duration": 22,
    "start_time": "2022-05-12T21:47:45.003Z"
   },
   {
    "duration": 22,
    "start_time": "2022-05-12T21:47:45.027Z"
   },
   {
    "duration": 7,
    "start_time": "2022-05-12T21:47:45.051Z"
   },
   {
    "duration": 8,
    "start_time": "2022-05-12T21:47:45.059Z"
   },
   {
    "duration": 44,
    "start_time": "2022-05-12T21:47:45.068Z"
   },
   {
    "duration": 11,
    "start_time": "2022-05-12T21:47:45.116Z"
   },
   {
    "duration": 49,
    "start_time": "2022-05-12T21:47:45.128Z"
   },
   {
    "duration": 164,
    "start_time": "2022-05-12T21:47:45.179Z"
   },
   {
    "duration": 55,
    "start_time": "2022-05-12T21:47:45.345Z"
   },
   {
    "duration": 3,
    "start_time": "2022-05-12T21:47:45.402Z"
   },
   {
    "duration": 9,
    "start_time": "2022-05-12T21:47:45.407Z"
   },
   {
    "duration": 76,
    "start_time": "2022-05-12T21:47:45.418Z"
   },
   {
    "duration": 7,
    "start_time": "2022-05-12T21:47:45.495Z"
   },
   {
    "duration": 7,
    "start_time": "2022-05-12T21:47:45.504Z"
   },
   {
    "duration": 21,
    "start_time": "2022-05-12T21:47:45.513Z"
   },
   {
    "duration": 54,
    "start_time": "2022-05-12T21:47:45.535Z"
   },
   {
    "duration": 215,
    "start_time": "2022-05-12T21:47:45.591Z"
   },
   {
    "duration": 23,
    "start_time": "2022-05-12T21:47:45.808Z"
   },
   {
    "duration": 5,
    "start_time": "2022-05-12T21:47:45.833Z"
   },
   {
    "duration": 7,
    "start_time": "2022-05-12T21:47:45.840Z"
   },
   {
    "duration": 3,
    "start_time": "2022-05-12T21:47:45.862Z"
   },
   {
    "duration": 11,
    "start_time": "2022-05-12T21:47:45.867Z"
   },
   {
    "duration": 14,
    "start_time": "2022-05-12T21:47:45.880Z"
   },
   {
    "duration": 2,
    "start_time": "2022-05-12T21:47:45.896Z"
   },
   {
    "duration": 5,
    "start_time": "2022-05-12T21:47:45.900Z"
   },
   {
    "duration": 6,
    "start_time": "2022-05-12T21:47:45.907Z"
   },
   {
    "duration": 14,
    "start_time": "2022-05-12T21:47:45.914Z"
   },
   {
    "duration": 1232,
    "start_time": "2022-05-12T21:47:45.930Z"
   },
   {
    "duration": 8,
    "start_time": "2022-05-12T21:47:47.163Z"
   },
   {
    "duration": 211,
    "start_time": "2022-05-12T21:47:47.172Z"
   },
   {
    "duration": 10,
    "start_time": "2022-05-12T21:47:47.384Z"
   },
   {
    "duration": 15,
    "start_time": "2022-05-12T21:47:47.396Z"
   },
   {
    "duration": 155,
    "start_time": "2022-05-12T21:47:47.413Z"
   },
   {
    "duration": 33,
    "start_time": "2022-05-12T21:47:47.570Z"
   },
   {
    "duration": 376,
    "start_time": "2022-05-12T21:47:47.605Z"
   },
   {
    "duration": 401,
    "start_time": "2022-05-12T21:47:47.983Z"
   },
   {
    "duration": 361,
    "start_time": "2022-05-12T21:47:48.387Z"
   },
   {
    "duration": 16,
    "start_time": "2022-05-12T21:47:48.750Z"
   },
   {
    "duration": 7,
    "start_time": "2022-05-12T21:47:48.768Z"
   },
   {
    "duration": 7,
    "start_time": "2022-05-12T21:47:48.776Z"
   },
   {
    "duration": 1310,
    "start_time": "2022-05-12T21:47:48.784Z"
   },
   {
    "duration": 8,
    "start_time": "2022-05-12T21:47:50.095Z"
   },
   {
    "duration": 4,
    "start_time": "2022-05-12T21:47:50.105Z"
   },
   {
    "duration": 6,
    "start_time": "2022-05-12T21:47:50.111Z"
   }
  ],
  "kernelspec": {
   "display_name": "Python 3 (ipykernel)",
   "language": "python",
   "name": "python3"
  },
  "language_info": {
   "codemirror_mode": {
    "name": "ipython",
    "version": 3
   },
   "file_extension": ".py",
   "mimetype": "text/x-python",
   "name": "python",
   "nbconvert_exporter": "python",
   "pygments_lexer": "ipython3",
   "version": "3.10.8"
  },
  "toc": {
   "base_numbering": 1,
   "nav_menu": {},
   "number_sections": true,
   "sideBar": true,
   "skip_h1_title": false,
   "title_cell": "Table of Contents",
   "title_sidebar": "Contents",
   "toc_cell": false,
   "toc_position": {},
   "toc_section_display": true,
   "toc_window_display": false
  },
  "varInspector": {
   "cols": {
    "lenName": 16,
    "lenType": 16,
    "lenVar": 40
   },
   "kernels_config": {
    "python": {
     "delete_cmd_postfix": "",
     "delete_cmd_prefix": "del ",
     "library": "var_list.py",
     "varRefreshCmd": "print(var_dic_list())"
    },
    "r": {
     "delete_cmd_postfix": ") ",
     "delete_cmd_prefix": "rm(",
     "library": "var_list.r",
     "varRefreshCmd": "cat(var_dic_list()) "
    }
   },
   "types_to_exclude": [
    "module",
    "function",
    "builtin_function_or_method",
    "instance",
    "_Feature"
   ],
   "window_display": false
  }
 },
 "nbformat": 4,
 "nbformat_minor": 4
}
