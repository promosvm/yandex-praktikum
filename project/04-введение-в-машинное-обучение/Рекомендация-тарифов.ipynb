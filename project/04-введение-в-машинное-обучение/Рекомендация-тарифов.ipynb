{
 "cells": [
  {
   "cell_type": "markdown",
   "id": "015c7566",
   "metadata": {
    "toc": true
   },
   "source": [
    "<h1>Table of Contents<span class=\"tocSkip\"></span></h1>\n",
    "<div class=\"toc\"><ul class=\"toc-item\"><li><span><a href=\"#Загрузка-исходных-данных-и-разделение-выборки\" data-toc-modified-id=\"Загрузка-исходных-данных-и-разделение-выборки-1\"><span class=\"toc-item-num\">1&nbsp;&nbsp;</span>Загрузка исходных данных и разделение выборки</a></span><ul class=\"toc-item\"><li><span><a href=\"#Загрузка-исходных-данных\" data-toc-modified-id=\"Загрузка-исходных-данных-1.1\"><span class=\"toc-item-num\">1.1&nbsp;&nbsp;</span>Загрузка исходных данных</a></span></li><li><span><a href=\"#Вывод\" data-toc-modified-id=\"Вывод-1.2\"><span class=\"toc-item-num\">1.2&nbsp;&nbsp;</span>Вывод</a></span></li><li><span><a href=\"#Разделение-выборки\" data-toc-modified-id=\"Разделение-выборки-1.3\"><span class=\"toc-item-num\">1.3&nbsp;&nbsp;</span>Разделение выборки</a></span></li></ul></li><li><span><a href=\"#Построение-модели-&quot;Решающее-древо&quot;\" data-toc-modified-id=\"Построение-модели-&quot;Решающее-древо&quot;-2\"><span class=\"toc-item-num\">2&nbsp;&nbsp;</span>Построение модели \"Решающее древо\"</a></span></li><li><span><a href=\"#Построение-модели-&quot;Случайный-лес&quot;\" data-toc-modified-id=\"Построение-модели-&quot;Случайный-лес&quot;-3\"><span class=\"toc-item-num\">3&nbsp;&nbsp;</span>Построение модели \"Случайный лес\"</a></span></li><li><span><a href=\"#Построение-модели-&quot;Логистическая-регрессия&quot;\" data-toc-modified-id=\"Построение-модели-&quot;Логистическая-регрессия&quot;-4\"><span class=\"toc-item-num\">4&nbsp;&nbsp;</span>Построение модели \"Логистическая регрессия\"</a></span></li><li><span><a href=\"#Проверка-модели-на--выборкe-test\" data-toc-modified-id=\"Проверка-модели-на--выборкe-test-5\"><span class=\"toc-item-num\">5&nbsp;&nbsp;</span>Проверка модели на  выборкe test</a></span></li><li><span><a href=\"#Вывод\" data-toc-modified-id=\"Вывод-6\"><span class=\"toc-item-num\">6&nbsp;&nbsp;</span>Вывод</a></span></li></ul></div>"
   ]
  },
  {
   "cell_type": "markdown",
   "id": "5dcc8f77",
   "metadata": {},
   "source": [
    "# Рекомендация тарифов"
   ]
  },
  {
   "cell_type": "markdown",
   "id": "843a8c2e",
   "metadata": {},
   "source": [
    "**Цель** - на основании данных о поведении клиентов построить модель которая выберет подходящий тариф. Доля правильных ответов (accuracy) предсказанная моделью должна превышать 75%.\n",
    "\n",
    "**Задачи:**\n",
    "\n",
    "1. Разделить исходные данные на обучающие, валидационные и тестовые.\n",
    "2. Построить модель \"Решающее дерево\"\n",
    "3. Построить модель \"Случайный лес\"\n",
    "4. Построить модель \"Логистическая регрессия\"\n",
    "5. На основании метрики качества accuracy выбрать наилучшую модель"
   ]
  },
  {
   "cell_type": "markdown",
   "id": "188efbf7",
   "metadata": {
    "tags": []
   },
   "source": [
    "## Загрузка исходных данных и разделение выборки"
   ]
  },
  {
   "cell_type": "markdown",
   "id": "31e194b0",
   "metadata": {},
   "source": [
    "### Загрузка исходных данных"
   ]
  },
  {
   "cell_type": "code",
   "execution_count": 1,
   "id": "10e69931",
   "metadata": {},
   "outputs": [],
   "source": [
    "# Импортируем библиотеки необходимые для работы\n",
    "import pandas as pd\n",
    "import numpy as np\n",
    "import seaborn as sns\n",
    "import matplotlib.pyplot as plt\n",
    "from sklearn.tree import DecisionTreeClassifier\n",
    "from sklearn.ensemble import RandomForestClassifier\n",
    "from sklearn.linear_model import LogisticRegression\n",
    "from sklearn.metrics import accuracy_score\n",
    "from sklearn.model_selection import train_test_split\n",
    "from sklearn.model_selection import GridSearchCV"
   ]
  },
  {
   "cell_type": "code",
   "execution_count": 2,
   "id": "bfbcaa7e",
   "metadata": {},
   "outputs": [],
   "source": [
    "# создадим DataFrame\n",
    "# df = pd.read_csv('users_behavior.csv')\n",
    "\n",
    "# код ревьюера\n",
    "try:\n",
    "    df = pd.read_csv('users_behavior.csv')\n",
    "except:\n",
    "    df = pd.read_csv('/datasets/users_behavior.csv')"
   ]
  },
  {
   "cell_type": "code",
   "execution_count": 3,
   "id": "a409582b",
   "metadata": {},
   "outputs": [
    {
     "data": {
      "text/html": [
       "<div>\n",
       "<style scoped>\n",
       "    .dataframe tbody tr th:only-of-type {\n",
       "        vertical-align: middle;\n",
       "    }\n",
       "\n",
       "    .dataframe tbody tr th {\n",
       "        vertical-align: top;\n",
       "    }\n",
       "\n",
       "    .dataframe thead th {\n",
       "        text-align: right;\n",
       "    }\n",
       "</style>\n",
       "<table border=\"1\" class=\"dataframe\">\n",
       "  <thead>\n",
       "    <tr style=\"text-align: right;\">\n",
       "      <th></th>\n",
       "      <th>calls</th>\n",
       "      <th>minutes</th>\n",
       "      <th>messages</th>\n",
       "      <th>mb_used</th>\n",
       "      <th>is_ultra</th>\n",
       "    </tr>\n",
       "  </thead>\n",
       "  <tbody>\n",
       "    <tr>\n",
       "      <th>0</th>\n",
       "      <td>40.0</td>\n",
       "      <td>311.90</td>\n",
       "      <td>83.0</td>\n",
       "      <td>19915.42</td>\n",
       "      <td>0</td>\n",
       "    </tr>\n",
       "    <tr>\n",
       "      <th>1</th>\n",
       "      <td>85.0</td>\n",
       "      <td>516.75</td>\n",
       "      <td>56.0</td>\n",
       "      <td>22696.96</td>\n",
       "      <td>0</td>\n",
       "    </tr>\n",
       "    <tr>\n",
       "      <th>2</th>\n",
       "      <td>77.0</td>\n",
       "      <td>467.66</td>\n",
       "      <td>86.0</td>\n",
       "      <td>21060.45</td>\n",
       "      <td>0</td>\n",
       "    </tr>\n",
       "    <tr>\n",
       "      <th>3</th>\n",
       "      <td>106.0</td>\n",
       "      <td>745.53</td>\n",
       "      <td>81.0</td>\n",
       "      <td>8437.39</td>\n",
       "      <td>1</td>\n",
       "    </tr>\n",
       "    <tr>\n",
       "      <th>4</th>\n",
       "      <td>66.0</td>\n",
       "      <td>418.74</td>\n",
       "      <td>1.0</td>\n",
       "      <td>14502.75</td>\n",
       "      <td>0</td>\n",
       "    </tr>\n",
       "  </tbody>\n",
       "</table>\n",
       "</div>"
      ],
      "text/plain": [
       "   calls  minutes  messages   mb_used  is_ultra\n",
       "0   40.0   311.90      83.0  19915.42         0\n",
       "1   85.0   516.75      56.0  22696.96         0\n",
       "2   77.0   467.66      86.0  21060.45         0\n",
       "3  106.0   745.53      81.0   8437.39         1\n",
       "4   66.0   418.74       1.0  14502.75         0"
      ]
     },
     "execution_count": 3,
     "metadata": {},
     "output_type": "execute_result"
    }
   ],
   "source": [
    "# посмотрим на данные\n",
    "df.head(5)"
   ]
  },
  {
   "cell_type": "markdown",
   "id": "ec3c6dd3",
   "metadata": {},
   "source": []
  },
  {
   "cell_type": "code",
   "execution_count": 4,
   "id": "ad2bbc0b",
   "metadata": {
    "scrolled": true
   },
   "outputs": [
    {
     "name": "stdout",
     "output_type": "stream",
     "text": [
      "<class 'pandas.core.frame.DataFrame'>\n",
      "RangeIndex: 3214 entries, 0 to 3213\n",
      "Data columns (total 5 columns):\n",
      " #   Column    Non-Null Count  Dtype  \n",
      "---  ------    --------------  -----  \n",
      " 0   calls     3214 non-null   float64\n",
      " 1   minutes   3214 non-null   float64\n",
      " 2   messages  3214 non-null   float64\n",
      " 3   mb_used   3214 non-null   float64\n",
      " 4   is_ultra  3214 non-null   int64  \n",
      "dtypes: float64(4), int64(1)\n",
      "memory usage: 125.7 KB\n"
     ]
    }
   ],
   "source": [
    "df.info()"
   ]
  },
  {
   "cell_type": "code",
   "execution_count": 5,
   "id": "beaa0499",
   "metadata": {},
   "outputs": [
    {
     "data": {
      "text/plain": [
       "calls       0.0\n",
       "minutes     0.0\n",
       "messages    0.0\n",
       "mb_used     0.0\n",
       "is_ultra    0.0\n",
       "dtype: float64"
      ]
     },
     "execution_count": 5,
     "metadata": {},
     "output_type": "execute_result"
    }
   ],
   "source": [
    "# Посмотрим на пропущенные значения\n",
    "df.isna().mean()"
   ]
  },
  {
   "cell_type": "markdown",
   "id": "3efbb3ba",
   "metadata": {},
   "source": [
    "Опишем данные:\n",
    "\n",
    "сalls — количество звонков,\n",
    "\n",
    "minutes — суммарная длительность звонков в минутах,\n",
    "\n",
    "messages — количество sms-сообщений,\n",
    "\n",
    "mb_used — израсходованный интернет-трафик в Мб,\n",
    "\n",
    "is_ultra — каким тарифом пользовался в течение месяца («Ультра» — 1, «Смарт» — 0)."
   ]
  },
  {
   "cell_type": "markdown",
   "id": "94aaee2c",
   "metadata": {},
   "source": [
    "На основании исходных данных **признаками** будем считать столбцы *calls, minutes, messages, mb_used* **целевым признаком** будем считать столбец  *is_ultra*"
   ]
  },
  {
   "cell_type": "markdown",
   "id": "ad767d7c",
   "metadata": {},
   "source": [
    "Посмотрим на распределение величин и на корреляцию признаков с целевым признаком."
   ]
  },
  {
   "cell_type": "code",
   "execution_count": 6,
   "id": "6fea09fa",
   "metadata": {
    "scrolled": true
   },
   "outputs": [
    {
     "data": {
      "image/png": "[encoded data removed]",
      "text/plain": [
       "<Figure size 1008x720 with 6 Axes>"
      ]
     },
     "metadata": {
      "needs_background": "light"
     },
     "output_type": "display_data"
    }
   ],
   "source": [
    "# Посмотрим на распредление величин\n",
    "df.hist(column=df.columns, figsize=(14, 10))\n",
    "None"
   ]
  },
  {
   "cell_type": "code",
   "execution_count": 7,
   "id": "736a4959",
   "metadata": {
    "scrolled": true
   },
   "outputs": [
    {
     "data": {
      "text/html": [
       "<style  type=\"text/css\" >\n",
       "#T_e89e9_row0_col0,#T_e89e9_row1_col1,#T_e89e9_row2_col2,#T_e89e9_row3_col3,#T_e89e9_row4_col4{\n",
       "            background-color:  #b40426;\n",
       "            color:  #f1f1f1;\n",
       "        }#T_e89e9_row0_col1,#T_e89e9_row1_col0{\n",
       "            background-color:  #bb1b2c;\n",
       "            color:  #f1f1f1;\n",
       "        }#T_e89e9_row0_col2,#T_e89e9_row2_col4{\n",
       "            background-color:  #3c4ec2;\n",
       "            color:  #f1f1f1;\n",
       "        }#T_e89e9_row0_col3{\n",
       "            background-color:  #5d7ce6;\n",
       "            color:  #000000;\n",
       "        }#T_e89e9_row0_col4,#T_e89e9_row1_col4{\n",
       "            background-color:  #3d50c3;\n",
       "            color:  #f1f1f1;\n",
       "        }#T_e89e9_row1_col2,#T_e89e9_row2_col0,#T_e89e9_row2_col1,#T_e89e9_row2_col3,#T_e89e9_row3_col4,#T_e89e9_row4_col3{\n",
       "            background-color:  #3b4cc0;\n",
       "            color:  #f1f1f1;\n",
       "        }#T_e89e9_row1_col3{\n",
       "            background-color:  #5b7ae5;\n",
       "            color:  #000000;\n",
       "        }#T_e89e9_row3_col0,#T_e89e9_row3_col1{\n",
       "            background-color:  #6384eb;\n",
       "            color:  #000000;\n",
       "        }#T_e89e9_row3_col2{\n",
       "            background-color:  #4358cb;\n",
       "            color:  #f1f1f1;\n",
       "        }#T_e89e9_row4_col0,#T_e89e9_row4_col2{\n",
       "            background-color:  #455cce;\n",
       "            color:  #f1f1f1;\n",
       "        }#T_e89e9_row4_col1{\n",
       "            background-color:  #465ecf;\n",
       "            color:  #f1f1f1;\n",
       "        }</style><table id=\"T_e89e9_\" ><thead>    <tr>        <th class=\"blank level0\" ></th>        <th class=\"col_heading level0 col0\" >calls</th>        <th class=\"col_heading level0 col1\" >minutes</th>        <th class=\"col_heading level0 col2\" >messages</th>        <th class=\"col_heading level0 col3\" >mb_used</th>        <th class=\"col_heading level0 col4\" >is_ultra</th>    </tr></thead><tbody>\n",
       "                <tr>\n",
       "                        <th id=\"T_e89e9_level0_row0\" class=\"row_heading level0 row0\" >calls</th>\n",
       "                        <td id=\"T_e89e9_row0_col0\" class=\"data row0 col0\" >1.00</td>\n",
       "                        <td id=\"T_e89e9_row0_col1\" class=\"data row0 col1\" >0.98</td>\n",
       "                        <td id=\"T_e89e9_row0_col2\" class=\"data row0 col2\" >0.18</td>\n",
       "                        <td id=\"T_e89e9_row0_col3\" class=\"data row0 col3\" >0.29</td>\n",
       "                        <td id=\"T_e89e9_row0_col4\" class=\"data row0 col4\" >0.21</td>\n",
       "            </tr>\n",
       "            <tr>\n",
       "                        <th id=\"T_e89e9_level0_row1\" class=\"row_heading level0 row1\" >minutes</th>\n",
       "                        <td id=\"T_e89e9_row1_col0\" class=\"data row1 col0\" >0.98</td>\n",
       "                        <td id=\"T_e89e9_row1_col1\" class=\"data row1 col1\" >1.00</td>\n",
       "                        <td id=\"T_e89e9_row1_col2\" class=\"data row1 col2\" >0.17</td>\n",
       "                        <td id=\"T_e89e9_row1_col3\" class=\"data row1 col3\" >0.28</td>\n",
       "                        <td id=\"T_e89e9_row1_col4\" class=\"data row1 col4\" >0.21</td>\n",
       "            </tr>\n",
       "            <tr>\n",
       "                        <th id=\"T_e89e9_level0_row2\" class=\"row_heading level0 row2\" >messages</th>\n",
       "                        <td id=\"T_e89e9_row2_col0\" class=\"data row2 col0\" >0.18</td>\n",
       "                        <td id=\"T_e89e9_row2_col1\" class=\"data row2 col1\" >0.17</td>\n",
       "                        <td id=\"T_e89e9_row2_col2\" class=\"data row2 col2\" >1.00</td>\n",
       "                        <td id=\"T_e89e9_row2_col3\" class=\"data row2 col3\" >0.20</td>\n",
       "                        <td id=\"T_e89e9_row2_col4\" class=\"data row2 col4\" >0.20</td>\n",
       "            </tr>\n",
       "            <tr>\n",
       "                        <th id=\"T_e89e9_level0_row3\" class=\"row_heading level0 row3\" >mb_used</th>\n",
       "                        <td id=\"T_e89e9_row3_col0\" class=\"data row3 col0\" >0.29</td>\n",
       "                        <td id=\"T_e89e9_row3_col1\" class=\"data row3 col1\" >0.28</td>\n",
       "                        <td id=\"T_e89e9_row3_col2\" class=\"data row3 col2\" >0.20</td>\n",
       "                        <td id=\"T_e89e9_row3_col3\" class=\"data row3 col3\" >1.00</td>\n",
       "                        <td id=\"T_e89e9_row3_col4\" class=\"data row3 col4\" >0.20</td>\n",
       "            </tr>\n",
       "            <tr>\n",
       "                        <th id=\"T_e89e9_level0_row4\" class=\"row_heading level0 row4\" >is_ultra</th>\n",
       "                        <td id=\"T_e89e9_row4_col0\" class=\"data row4 col0\" >0.21</td>\n",
       "                        <td id=\"T_e89e9_row4_col1\" class=\"data row4 col1\" >0.21</td>\n",
       "                        <td id=\"T_e89e9_row4_col2\" class=\"data row4 col2\" >0.20</td>\n",
       "                        <td id=\"T_e89e9_row4_col3\" class=\"data row4 col3\" >0.20</td>\n",
       "                        <td id=\"T_e89e9_row4_col4\" class=\"data row4 col4\" >1.00</td>\n",
       "            </tr>\n",
       "    </tbody></table>"
      ],
      "text/plain": [
       "<pandas.io.formats.style.Styler at 0x7f854bc60190>"
      ]
     },
     "execution_count": 7,
     "metadata": {},
     "output_type": "execute_result"
    }
   ],
   "source": [
    "#А теперь посмотрим на корреляции между фичами\n",
    "df.corr().style.background_gradient(cmap='coolwarm').set_precision(2)"
   ]
  },
  {
   "cell_type": "code",
   "execution_count": 8,
   "id": "930c07a3",
   "metadata": {},
   "outputs": [
    {
     "data": {
      "text/plain": [
       "0    2229\n",
       "1     985\n",
       "Name: is_ultra, dtype: int64"
      ]
     },
     "execution_count": 8,
     "metadata": {},
     "output_type": "execute_result"
    }
   ],
   "source": [
    "df['is_ultra'].value_counts()"
   ]
  },
  {
   "cell_type": "markdown",
   "id": "15fff2e1",
   "metadata": {},
   "source": [
    "### Вывод"
   ]
  },
  {
   "cell_type": "markdown",
   "id": "8fb2967e",
   "metadata": {},
   "source": [
    "Целевой признак (столбец \"is_ultra\") категориальный (принимает два значения 1 или 0), следовательно решается задача классификации. Так как категорий всего две то будкем решать задачу бинарной (двоичной) классификации.\n",
    "\n",
    "Мы видим что признаким распределены нормально, но мы наблюдаем слабую корреляцию между целевым признаком и остальными, так что хорошую модель вполне можно и не построить."
   ]
  },
  {
   "cell_type": "markdown",
   "id": "8881400c",
   "metadata": {},
   "source": [
    "### Разделение выборки"
   ]
  },
  {
   "cell_type": "markdown",
   "id": "2433d8ac",
   "metadata": {},
   "source": [
    "Сначала мы перетасуем весь набор данных (df.sample (frac = 1)), а затем разделим наш набор данных на следующие части:\n",
    "\n",
    "60% - поездный набор\n",
    "\n",
    "20% - проверочный набор\n",
    "\n",
    "20% - тестовый набор"
   ]
  },
  {
   "cell_type": "code",
   "execution_count": 9,
   "id": "3b5f2ee8",
   "metadata": {
    "scrolled": true
   },
   "outputs": [],
   "source": [
    "train, validate, test = np.split(df.sample(frac=1, random_state=42), \n",
    "                       [int(.6*len(df)), int(.8*len(df))])"
   ]
  },
  {
   "cell_type": "markdown",
   "id": "8e34d393",
   "metadata": {},
   "source": [
    "Проверим что все ОК"
   ]
  },
  {
   "cell_type": "code",
   "execution_count": 10,
   "id": "226a6fdc",
   "metadata": {
    "scrolled": true
   },
   "outputs": [
    {
     "data": {
      "text/plain": [
       "(1928, 5)"
      ]
     },
     "execution_count": 10,
     "metadata": {},
     "output_type": "execute_result"
    }
   ],
   "source": [
    "np.shape(train)"
   ]
  },
  {
   "cell_type": "code",
   "execution_count": 11,
   "id": "16a2c557",
   "metadata": {},
   "outputs": [
    {
     "data": {
      "text/plain": [
       "(643, 5)"
      ]
     },
     "execution_count": 11,
     "metadata": {},
     "output_type": "execute_result"
    }
   ],
   "source": [
    "np.shape(validate)"
   ]
  },
  {
   "cell_type": "code",
   "execution_count": 12,
   "id": "1bef4569",
   "metadata": {},
   "outputs": [
    {
     "data": {
      "text/plain": [
       "(643, 5)"
      ]
     },
     "execution_count": 12,
     "metadata": {},
     "output_type": "execute_result"
    }
   ],
   "source": [
    "np.shape(test)"
   ]
  },
  {
   "cell_type": "code",
   "execution_count": 13,
   "id": "8b38432a",
   "metadata": {},
   "outputs": [],
   "source": [
    "df_train, test = train_test_split(df, test_size=0.2, random_state=12345, stratify=df['is_ultra'])"
   ]
  },
  {
   "cell_type": "code",
   "execution_count": 14,
   "id": "0f8410fd",
   "metadata": {
    "scrolled": true
   },
   "outputs": [],
   "source": [
    "train, validate = train_test_split(df_train, test_size=0.2, random_state=12345, stratify=df_train['is_ultra'])"
   ]
  },
  {
   "cell_type": "markdown",
   "id": "21ca00e2",
   "metadata": {},
   "source": [
    "Извлеку признак и целевой признак"
   ]
  },
  {
   "cell_type": "code",
   "execution_count": 15,
   "id": "213cfdaf",
   "metadata": {},
   "outputs": [],
   "source": [
    "# Признак\n",
    "features_train = train.drop(['calls', 'is_ultra'], axis=1)\n",
    "features_validate = validate.drop(['calls', 'is_ultra'], axis=1)\n",
    "features_test = test.drop(['calls', 'is_ultra'], axis=1)\n",
    "# Целевой признак\n",
    "target_train = train['is_ultra']\n",
    "target_validate = validate['is_ultra']\n",
    "target_test = test['is_ultra']"
   ]
  },
  {
   "cell_type": "markdown",
   "id": "e1291d17",
   "metadata": {},
   "source": [
    "## Построение модели \"Решающее древо\""
   ]
  },
  {
   "cell_type": "code",
   "execution_count": 16,
   "id": "b9e1298b",
   "metadata": {
    "scrolled": true
   },
   "outputs": [
    {
     "name": "stdout",
     "output_type": "stream",
     "text": [
      "Accuracy лучшей модели: 0.8116504854368932\n",
      "Максимальная глубина дерева лучшей модели: 5\n"
     ]
    }
   ],
   "source": [
    "best_model_tree = None\n",
    "best_result_tree = 0\n",
    "list_result_validate = []\n",
    "list_result_train = []\n",
    "for depth in range(1, 30):\n",
    "    # обучаю модель с заданной глубиной дерева\n",
    "    model = DecisionTreeClassifier(random_state=12345, max_depth=depth)\n",
    "    # обучаю модель на тренировочной выборке\n",
    "    model.fit(features_train, target_train)\n",
    "    # получу предсказание модели на валидационной выборки\n",
    "    predictions_train = model.predict(features_train)\n",
    "    predictions_validate = model.predict(features_validate)\n",
    "    result_train = accuracy_score(target_train, predictions_train)\n",
    "    result_validate = accuracy_score(target_validate, predictions_validate) \n",
    "    list_result_validate.append(result_validate)\n",
    "    list_result_train.append(result_train)\n",
    "    if result_validate > best_result_tree:\n",
    "        best_model_tree = model\n",
    "        best_result_tree = result_validate\n",
    "        best_depth = depth\n",
    "print(\"Accuracy лучшей модели:\", best_result_tree)\n",
    "print(\"Максимальная глубина дерева лучшей модели:\", best_depth)"
   ]
  },
  {
   "cell_type": "code",
   "execution_count": 17,
   "id": "e5cf1afc",
   "metadata": {},
   "outputs": [],
   "source": [
    "result_list_validate = pd.Series(list_result_validate, index=np.arange(1, 30))\n",
    "result_list_train = pd.Series(list_result_train, index=np.arange(1, 30))"
   ]
  },
  {
   "cell_type": "code",
   "execution_count": 18,
   "id": "a92e825c",
   "metadata": {},
   "outputs": [
    {
     "data": {
      "image/png": "[encoded data removed]",
      "text/plain": [
       "<Figure size 1152x288 with 1 Axes>"
      ]
     },
     "metadata": {
      "needs_background": "light"
     },
     "output_type": "display_data"
    }
   ],
   "source": [
    "plt.figure(figsize=(16, 4))\n",
    "plt.plot(result_list_train)\n",
    "plt.grid()\n",
    "plt.title(\"Зависимость гиперпараметра от метрики Accuracy для тренировочной выборки\")\n",
    "plt.xlabel(\"Гиперпараметр max_depth\")\n",
    "plt.ylabel(\"Accuracy\")\n",
    "plt.show()"
   ]
  },
  {
   "cell_type": "code",
   "execution_count": 19,
   "id": "3964b03b",
   "metadata": {},
   "outputs": [
    {
     "data": {
      "image/png": "[encoded data removed]",
      "text/plain": [
       "<Figure size 1152x288 with 1 Axes>"
      ]
     },
     "metadata": {
      "needs_background": "light"
     },
     "output_type": "display_data"
    }
   ],
   "source": [
    "plt.figure(figsize=(16, 4))\n",
    "plt.plot(list_result_validate)\n",
    "plt.grid()\n",
    "plt.title(\"Зависимость гиперпараметра от метрики Accuracy для валидационной выборки\")\n",
    "plt.xlabel(\"Гиперпараметр max_depth\")\n",
    "plt.ylabel(\"Accuracy\")\n",
    "plt.show()"
   ]
  },
  {
   "cell_type": "markdown",
   "id": "24893cf0",
   "metadata": {},
   "source": [
    "1. На тренировочной выборке при изменении гиперпараметра метрика Accuracy увеличивается и в районе max_depth равное 25 стабилизируется. Здесь мы видим что наша модель начала обучатся и при значении гиперпараметра max_depth равное 25 наша модель дает стопроцентную долю правильных ответов. Модель слишком настроилось на тренировочную выборку. \n",
    "    \n",
    "2. На валлидационной выборке максимальное значение Accuracy достигается при max_depth равное 5 дальше по мере увеличения глубины начинает падать это вызвано тем что модель переобучилась. То-есть внизу дерева где-то на большой глубине начинают появляться разбиения по менее важным признакам и в конце концов мы можем получить так, что предположим 0 минут это уже тариф \"Ультра\". "
   ]
  },
  {
   "cell_type": "markdown",
   "id": "ef66edc8",
   "metadata": {},
   "source": [
    "## Построение модели \"Случайный лес\""
   ]
  },
  {
   "cell_type": "code",
   "execution_count": 20,
   "id": "af083a03",
   "metadata": {},
   "outputs": [
    {
     "name": "stdout",
     "output_type": "stream",
     "text": [
      "Accuracy лучшей модели: 0.7864077669902912\n",
      "Максимальная глубина дерева лучшей модели: 29\n",
      "Максимальное колличество деревьев лучшей модели: 50\n"
     ]
    }
   ],
   "source": [
    "best_model_Rtree = None\n",
    "best_result_tree = 0\n",
    "best_est = 0\n",
    "best_depth = 0\n",
    "#Kоличеством деревьев: от 10 до 50 с шагом 10\n",
    "for est in range(10, 51, 10):\n",
    "#Максимальная глубина от 1 до 10\n",
    "    for depth in range (1, 30):\n",
    "        model = RandomForestClassifier(random_state=12345, n_estimators=est, max_depth=depth)\n",
    "        #Обучу модель на тренировочной выборке\n",
    "        model.fit(features_train, target_train)\n",
    "        # получу предсказание модели на валидационной выборки\n",
    "        predictions = model.predict(features_validate)\n",
    "        # посчитаю качество модели на валидационной выборке\n",
    "        result = accuracy_score(target_validate, predictions)\n",
    "        if result > best_result_tree:\n",
    "            best_model_Rtree = model\n",
    "            best_result = result\n",
    "            best_depth = depth\n",
    "            best_est = est\n",
    "print(\"Accuracy лучшей модели:\", best_result)\n",
    "print(\"Максимальная глубина дерева лучшей модели:\", best_depth)\n",
    "print(\"Максимальное колличество деревьев лучшей модели:\", best_est)"
   ]
  },
  {
   "cell_type": "markdown",
   "id": "f94a2756",
   "metadata": {},
   "source": [
    "1. Значение n_estimators модели по дефолту равно 10 я почему-то не задумался что это оптимальное значение.\n",
    "    \n",
    "2. И найду лучшую модель методом GridSearch. "
   ]
  },
  {
   "cell_type": "markdown",
   "id": "40a6addb",
   "metadata": {},
   "source": [
    "Установим значение параметров:\n",
    "\n",
    "<b>n_estimators</b> - число деревьев в лесу, оно будет измеряться от значения по дефолту раное 10 до 50 с шагом 10.\n",
    "\n",
    "<b>max_depth</b> - глубина дерева, будет измерятся от 1 до 30 с шагом равным 2.\n",
    "\n",
    "<b>min_samples_leaf</b> - минимальное число образцов листа, будет изменятся от 1 до 7.\n",
    "\n",
    "<b>min_samples_spliat</b> - минимальное число образцов для сплита, будет измерятся от 2 до 9.\n"
   ]
  },
  {
   "cell_type": "code",
   "execution_count": 21,
   "id": "d901e71d",
   "metadata": {},
   "outputs": [],
   "source": [
    "parametrs = {'n_estimators': range(10, 51, 10),\n",
    "            'max_depth': range(1, 30, 2)}"
   ]
  },
  {
   "cell_type": "code",
   "execution_count": 22,
   "id": "78feb79b",
   "metadata": {},
   "outputs": [],
   "source": [
    "model = RandomForestClassifier(random_state=12345, n_jobs = -1)\n",
    "grid = GridSearchCV(model, parametrs, cv=5)"
   ]
  },
  {
   "cell_type": "markdown",
   "id": "e3d413a9",
   "metadata": {},
   "source": [
    "Выборка df_train это будет наша тренировочная выборка она получена в самом начале исследования путем деления исходного датасета на две выборки - тестовую и тренировочную. Выберу в df_train таргет и фичи."
   ]
  },
  {
   "cell_type": "code",
   "execution_count": 23,
   "id": "d3059353",
   "metadata": {},
   "outputs": [],
   "source": [
    "features_df_train = df_train.drop(['calls', 'is_ultra'], axis=1)\n",
    "target_df_train = df_train['is_ultra']"
   ]
  },
  {
   "cell_type": "code",
   "execution_count": 24,
   "id": "decad990",
   "metadata": {
    "code_folding": [],
    "scrolled": true
   },
   "outputs": [
    {
     "data": {
      "text/plain": [
       "GridSearchCV(cv=5,\n",
       "             estimator=RandomForestClassifier(n_jobs=-1, random_state=12345),\n",
       "             param_grid={'max_depth': range(1, 30, 2),\n",
       "                         'n_estimators': range(10, 51, 10)})"
      ]
     },
     "execution_count": 24,
     "metadata": {},
     "output_type": "execute_result"
    }
   ],
   "source": [
    "grid.fit(features_df_train, target_df_train)"
   ]
  },
  {
   "cell_type": "markdown",
   "id": "45e8e710",
   "metadata": {},
   "source": [
    "С поммощью grid.best_estimator_ посмотрим на оптимальные параметры для RandomForestClassifier"
   ]
  },
  {
   "cell_type": "code",
   "execution_count": 25,
   "id": "ce66ee1d",
   "metadata": {
    "scrolled": true
   },
   "outputs": [
    {
     "data": {
      "text/plain": [
       "RandomForestClassifier(max_depth=9, n_estimators=50, n_jobs=-1,\n",
       "                       random_state=12345)"
      ]
     },
     "execution_count": 25,
     "metadata": {},
     "output_type": "execute_result"
    }
   ],
   "source": [
    "grid.best_estimator_"
   ]
  },
  {
   "cell_type": "markdown",
   "id": "fe51f2fb",
   "metadata": {},
   "source": [
    "В best_model_Rtree положим оптимальную модель"
   ]
  },
  {
   "cell_type": "code",
   "execution_count": 26,
   "id": "9888fb86",
   "metadata": {},
   "outputs": [],
   "source": [
    "grid.best_score_ = best_model_Rtree"
   ]
  },
  {
   "cell_type": "code",
   "execution_count": 27,
   "id": "82762b84",
   "metadata": {},
   "outputs": [
    {
     "data": {
      "text/plain": [
       "0.7864077669902912"
      ]
     },
     "execution_count": 27,
     "metadata": {},
     "output_type": "execute_result"
    }
   ],
   "source": [
    "predictions = best_model_Rtree.predict(features_validate)\n",
    "result = accuracy_score(target_validate, predictions)\n",
    "result"
   ]
  },
  {
   "cell_type": "markdown",
   "id": "321d8df6",
   "metadata": {},
   "source": [
    "## Построение модели \"Логистическая регрессия\""
   ]
  },
  {
   "cell_type": "code",
   "execution_count": 28,
   "id": "d9bf69bb",
   "metadata": {
    "scrolled": true
   },
   "outputs": [
    {
     "name": "stdout",
     "output_type": "stream",
     "text": [
      "Accuracy: 0.7456310679611651\n"
     ]
    }
   ],
   "source": [
    "model_log = LogisticRegression(random_state=12345, solver='lbfgs', max_iter=1000)\n",
    "model_log.fit(features_train, target_train)\n",
    "predictions = model_log.predict(features_validate)\n",
    "result = accuracy_score(target_validate, predictions)\n",
    "print(\"Accuracy:\", result)"
   ]
  },
  {
   "cell_type": "markdown",
   "id": "ce3bdf2f",
   "metadata": {},
   "source": [
    "Основная идея логистической регрессии заключается в том, что пространство исходных значений может быть разделено линейной границей (т.е. прямой) на две соответствующих классам области. Если признаки  хоршошо коррелируют друг с другом то модель на тренировочной выборке может оптимально разделить исходное пространство на две области.  "
   ]
  },
  {
   "cell_type": "markdown",
   "id": "c3301096",
   "metadata": {},
   "source": [
    "Проанализировав три модели по показателю Accuracy лучшей моделью явилась модель \"Решающего дерева\" с показателем равным 0.811 и гиперпарраметром равным 5."
   ]
  },
  {
   "cell_type": "markdown",
   "id": "968ec397",
   "metadata": {},
   "source": [
    "## Проверка модели на  выборкe test "
   ]
  },
  {
   "cell_type": "markdown",
   "id": "b0592bc2",
   "metadata": {},
   "source": [
    "**Модель \"Решающее дерево\"**"
   ]
  },
  {
   "cell_type": "code",
   "execution_count": 29,
   "id": "20254b4b",
   "metadata": {},
   "outputs": [
    {
     "name": "stdout",
     "output_type": "stream",
     "text": [
      "Accuracy: 0.8055987558320373\n"
     ]
    }
   ],
   "source": [
    "predictions = best_model_tree.predict(features_test)\n",
    "result = accuracy_score(target_test, predictions)\n",
    "print(\"Accuracy:\", result)"
   ]
  },
  {
   "cell_type": "markdown",
   "id": "d0ed8380",
   "metadata": {},
   "source": [
    "На тестовой выборке модель предсказада долю правильных ответов в 80,5%"
   ]
  },
  {
   "cell_type": "markdown",
   "id": "299d6559",
   "metadata": {},
   "source": [
    "## Вывод "
   ]
  },
  {
   "cell_type": "markdown",
   "id": "769803fd",
   "metadata": {},
   "source": [
    "1. Построили три модели \"Рещающее дерево\", \"Случайный лес\", \"Логистическая регрессия\"\n",
    "2. Настроили модели на валидационном датасете. На основании метрики Accuracy (доля правильных ответов) расставили модели в порядке предсказания доли правильных данных на валидационной выборке 1 место - \"Решающее дерево\" (доля правильных ответов 81%, 2 место - \"Случайный лес\" (доля правильных ответов 78), 3 место - Логистическая регрессия (доля правильных ответов 70,1).\n",
    "3. Проверили наши модели на тестовой выборке (1 место - \"Случайный лес\" (доля правильных ответов 79,9%, 2 место - \"Решающее дерево\" (доля правильных ответов 79,6), 3 место - Логистическая регрессия (доля правильных ответов 74,5).\n",
    "4. В тестовой выборке модель \"Решающее дерево\" предсказала долю правильных ответов в 80,5% случаях."
   ]
  }
 ],
 "metadata": {
  "ExecuteTimeLog": [
   {
    "duration": 1293,
    "start_time": "2022-06-08T10:13:00.961Z"
   },
   {
    "duration": 128,
    "start_time": "2022-06-08T10:13:02.256Z"
   },
   {
    "duration": 0,
    "start_time": "2022-06-08T10:13:02.387Z"
   },
   {
    "duration": 0,
    "start_time": "2022-06-08T10:13:02.389Z"
   },
   {
    "duration": 0,
    "start_time": "2022-06-08T10:13:02.391Z"
   },
   {
    "duration": 0,
    "start_time": "2022-06-08T10:13:02.392Z"
   },
   {
    "duration": 0,
    "start_time": "2022-06-08T10:13:02.394Z"
   },
   {
    "duration": 0,
    "start_time": "2022-06-08T10:13:02.395Z"
   },
   {
    "duration": 0,
    "start_time": "2022-06-08T10:13:02.396Z"
   },
   {
    "duration": 0,
    "start_time": "2022-06-08T10:13:02.398Z"
   },
   {
    "duration": 0,
    "start_time": "2022-06-08T10:13:02.399Z"
   },
   {
    "duration": 0,
    "start_time": "2022-06-08T10:13:02.400Z"
   },
   {
    "duration": 0,
    "start_time": "2022-06-08T10:13:02.402Z"
   },
   {
    "duration": 0,
    "start_time": "2022-06-08T10:13:02.403Z"
   },
   {
    "duration": 0,
    "start_time": "2022-06-08T10:13:02.405Z"
   },
   {
    "duration": 1,
    "start_time": "2022-06-08T10:13:02.406Z"
   },
   {
    "duration": 0,
    "start_time": "2022-06-08T10:13:02.408Z"
   },
   {
    "duration": 0,
    "start_time": "2022-06-08T10:13:02.409Z"
   },
   {
    "duration": 0,
    "start_time": "2022-06-08T10:13:02.410Z"
   },
   {
    "duration": 0,
    "start_time": "2022-06-08T10:13:02.412Z"
   },
   {
    "duration": 0,
    "start_time": "2022-06-08T10:13:02.413Z"
   },
   {
    "duration": 0,
    "start_time": "2022-06-08T10:13:02.414Z"
   },
   {
    "duration": 0,
    "start_time": "2022-06-08T10:13:02.458Z"
   },
   {
    "duration": 0,
    "start_time": "2022-06-08T10:13:02.460Z"
   },
   {
    "duration": 0,
    "start_time": "2022-06-08T10:13:02.461Z"
   },
   {
    "duration": 0,
    "start_time": "2022-06-08T10:13:02.462Z"
   },
   {
    "duration": 0,
    "start_time": "2022-06-08T10:13:02.463Z"
   },
   {
    "duration": 0,
    "start_time": "2022-06-08T10:13:02.464Z"
   },
   {
    "duration": 0,
    "start_time": "2022-06-08T10:13:02.465Z"
   },
   {
    "duration": 40,
    "start_time": "2022-06-08T10:14:59.225Z"
   },
   {
    "duration": 30,
    "start_time": "2022-06-08T10:16:17.650Z"
   },
   {
    "duration": 1249,
    "start_time": "2022-06-08T10:16:24.580Z"
   },
   {
    "duration": 31,
    "start_time": "2022-06-08T10:16:25.830Z"
   },
   {
    "duration": 13,
    "start_time": "2022-06-08T10:16:25.862Z"
   },
   {
    "duration": 11,
    "start_time": "2022-06-08T10:16:25.877Z"
   },
   {
    "duration": 9,
    "start_time": "2022-06-08T10:16:25.889Z"
   },
   {
    "duration": 545,
    "start_time": "2022-06-08T10:16:25.899Z"
   },
   {
    "duration": 57,
    "start_time": "2022-06-08T10:16:26.445Z"
   },
   {
    "duration": 5,
    "start_time": "2022-06-08T10:16:26.504Z"
   },
   {
    "duration": 7,
    "start_time": "2022-06-08T10:16:26.510Z"
   },
   {
    "duration": 5,
    "start_time": "2022-06-08T10:16:26.519Z"
   },
   {
    "duration": 6,
    "start_time": "2022-06-08T10:16:26.525Z"
   },
   {
    "duration": 28,
    "start_time": "2022-06-08T10:16:26.533Z"
   },
   {
    "duration": 10,
    "start_time": "2022-06-08T10:16:26.563Z"
   },
   {
    "duration": 6,
    "start_time": "2022-06-08T10:16:26.575Z"
   },
   {
    "duration": 6,
    "start_time": "2022-06-08T10:16:26.583Z"
   },
   {
    "duration": 302,
    "start_time": "2022-06-08T10:16:26.591Z"
   },
   {
    "duration": 3,
    "start_time": "2022-06-08T10:16:26.895Z"
   },
   {
    "duration": 172,
    "start_time": "2022-06-08T10:16:26.900Z"
   },
   {
    "duration": 164,
    "start_time": "2022-06-08T10:16:27.074Z"
   },
   {
    "duration": 11470,
    "start_time": "2022-06-08T10:16:27.240Z"
   },
   {
    "duration": 3,
    "start_time": "2022-06-08T10:16:38.711Z"
   },
   {
    "duration": 7,
    "start_time": "2022-06-08T10:16:38.715Z"
   },
   {
    "duration": 8,
    "start_time": "2022-06-08T10:16:38.724Z"
   },
   {
    "duration": 29638,
    "start_time": "2022-06-08T10:16:38.734Z"
   },
   {
    "duration": 5,
    "start_time": "2022-06-08T10:17:08.374Z"
   },
   {
    "duration": 11,
    "start_time": "2022-06-08T10:17:08.380Z"
   },
   {
    "duration": 24,
    "start_time": "2022-06-08T10:17:08.392Z"
   },
   {
    "duration": 26,
    "start_time": "2022-06-08T10:17:08.419Z"
   },
   {
    "duration": 7,
    "start_time": "2022-06-08T10:17:08.458Z"
   }
  ],
  "kernelspec": {
   "display_name": "Python 3 (ipykernel)",
   "language": "python",
   "name": "python3"
  },
  "language_info": {
   "codemirror_mode": {
    "name": "ipython",
    "version": 3
   },
   "file_extension": ".py",
   "mimetype": "text/x-python",
   "name": "python",
   "nbconvert_exporter": "python",
   "pygments_lexer": "ipython3",
   "version": "3.10.8"
  },
  "toc": {
   "base_numbering": 1,
   "nav_menu": {},
   "number_sections": true,
   "sideBar": true,
   "skip_h1_title": true,
   "title_cell": "Table of Contents",
   "title_sidebar": "Contents",
   "toc_cell": true,
   "toc_position": {},
   "toc_section_display": true,
   "toc_window_display": false
  },
  "varInspector": {
   "cols": {
    "lenName": 16,
    "lenType": 16,
    "lenVar": 40
   },
   "kernels_config": {
    "python": {
     "delete_cmd_postfix": "",
     "delete_cmd_prefix": "del ",
     "library": "var_list.py",
     "varRefreshCmd": "print(var_dic_list())"
    },
    "r": {
     "delete_cmd_postfix": ") ",
     "delete_cmd_prefix": "rm(",
     "library": "var_list.r",
     "varRefreshCmd": "cat(var_dic_list()) "
    }
   },
   "types_to_exclude": [
    "module",
    "function",
    "builtin_function_or_method",
    "instance",
    "_Feature"
   ],
   "window_display": false
  }
 },
 "nbformat": 4,
 "nbformat_minor": 5
}
