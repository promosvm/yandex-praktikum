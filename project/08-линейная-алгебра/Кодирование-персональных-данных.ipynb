{
 "cells": [
  {
   "cell_type": "markdown",
   "id": "cf8b7dc2",
   "metadata": {
    "toc": true
   },
   "source": [
    "<h1>Table of Contents<span class=\"tocSkip\"></span></h1>\n",
    "<div class=\"toc\"><ul class=\"toc-item\"><li><span><a href=\"#Загрузка-и-анализ-исходных-данных\" data-toc-modified-id=\"Загрузка-и-анализ-исходных-данных-1\"><span class=\"toc-item-num\">1&nbsp;&nbsp;</span>Загрузка и анализ исходных данных</a></span><ul class=\"toc-item\"><li><span><a href=\"#Загрузка-данных\" data-toc-modified-id=\"Загрузка-данных-1.1\"><span class=\"toc-item-num\">1.1&nbsp;&nbsp;</span>Загрузка данных</a></span><ul class=\"toc-item\"><li><span><a href=\"#Вывод\" data-toc-modified-id=\"Вывод-1.1.1\"><span class=\"toc-item-num\">1.1.1&nbsp;&nbsp;</span>Вывод</a></span></li></ul></li><li><span><a href=\"#Исследовательский-анализ-данных\" data-toc-modified-id=\"Исследовательский-анализ-данных-1.2\"><span class=\"toc-item-num\">1.2&nbsp;&nbsp;</span>Исследовательский анализ данных</a></span></li><li><span><a href=\"#Вывод\" data-toc-modified-id=\"Вывод-1.3\"><span class=\"toc-item-num\">1.3&nbsp;&nbsp;</span>Вывод</a></span></li></ul></li><li><span><a href=\"#Умножение-матриц\" data-toc-modified-id=\"Умножение-матриц-2\"><span class=\"toc-item-num\">2&nbsp;&nbsp;</span>Умножение матриц</a></span></li><li><span><a href=\"#Алгоритм-преобразования\" data-toc-modified-id=\"Алгоритм-преобразования-3\"><span class=\"toc-item-num\">3&nbsp;&nbsp;</span>Алгоритм преобразования</a></span><ul class=\"toc-item\"><li><span><a href=\"#Вывод\" data-toc-modified-id=\"Вывод-3.1\"><span class=\"toc-item-num\">3.1&nbsp;&nbsp;</span>Вывод</a></span></li></ul></li><li><span><a href=\"#Общий-вывод\" data-toc-modified-id=\"Общий-вывод-4\"><span class=\"toc-item-num\">4&nbsp;&nbsp;</span>Общий вывод</a></span></li><li><span><a href=\"#Проверка-алгоритма\" data-toc-modified-id=\"Проверка-алгоритма-5\"><span class=\"toc-item-num\">5&nbsp;&nbsp;</span>Проверка алгоритма</a></span></li></ul></div>"
   ]
  },
  {
   "cell_type": "code",
   "execution_count": 1,
   "id": "880362c8",
   "metadata": {},
   "outputs": [],
   "source": [
    "#%load_ext lab_black"
   ]
  },
  {
   "cell_type": "markdown",
   "id": "10de4099",
   "metadata": {},
   "source": [
    "# Защита персональных данных клиентов"
   ]
  },
  {
   "cell_type": "markdown",
   "id": "4f2e3074",
   "metadata": {},
   "source": [
    "**Описание проекта**\n",
    "\n",
    "**Цель** - защитить данные клиентов страховой компании «Хоть потоп». \n",
    "\n",
    "**Задача** - разработать метод преобразования данных, по которому сложно восстановить персональную информацию. При преобразовании данных качество моделей машинного обучения ухудшится не должно."
   ]
  },
  {
   "cell_type": "markdown",
   "id": "64c77245",
   "metadata": {},
   "source": [
    "## Загрузка и анализ исходных данных"
   ]
  },
  {
   "cell_type": "markdown",
   "id": "cc74537e",
   "metadata": {},
   "source": [
    "### Загрузка данных"
   ]
  },
  {
   "cell_type": "code",
   "execution_count": 2,
   "id": "a66f2e85",
   "metadata": {},
   "outputs": [],
   "source": [
    "import pandas as pd\n",
    "import numpy as np\n",
    "\n",
    "import matplotlib.pyplot as plt\n",
    "import seaborn as sns\n",
    "\n",
    "from sklearn.linear_model import LinearRegression\n",
    "\n",
    "from sklearn.model_selection import train_test_split\n",
    "\n",
    "from sklearn.metrics import r2_score\n",
    "\n",
    "from sklearn.preprocessing import StandardScaler\n",
    "\n",
    "from sklearn.pipeline import Pipeline\n"
   ]
  },
  {
   "cell_type": "code",
   "execution_count": 3,
   "id": "32847155",
   "metadata": {},
   "outputs": [],
   "source": [
    "# создадим DataFrame\n",
    "try:\n",
    "    df = pd.read_csv(\"insurance.csv\")\n",
    "except:\n",
    "    df = pd.read_csv(\"/datasets/insurance.csv\")"
   ]
  },
  {
   "cell_type": "markdown",
   "id": "b5dc0e81",
   "metadata": {},
   "source": [
    "Посмотрим на данные в таблице"
   ]
  },
  {
   "cell_type": "code",
   "execution_count": 4,
   "id": "dcd57786",
   "metadata": {
    "scrolled": true
   },
   "outputs": [
    {
     "data": {
      "text/html": [
       "<div>\n",
       "<style scoped>\n",
       "    .dataframe tbody tr th:only-of-type {\n",
       "        vertical-align: middle;\n",
       "    }\n",
       "\n",
       "    .dataframe tbody tr th {\n",
       "        vertical-align: top;\n",
       "    }\n",
       "\n",
       "    .dataframe thead th {\n",
       "        text-align: right;\n",
       "    }\n",
       "</style>\n",
       "<table border=\"1\" class=\"dataframe\">\n",
       "  <thead>\n",
       "    <tr style=\"text-align: right;\">\n",
       "      <th></th>\n",
       "      <th>Пол</th>\n",
       "      <th>Возраст</th>\n",
       "      <th>Зарплата</th>\n",
       "      <th>Члены семьи</th>\n",
       "      <th>Страховые выплаты</th>\n",
       "    </tr>\n",
       "  </thead>\n",
       "  <tbody>\n",
       "    <tr>\n",
       "      <th>0</th>\n",
       "      <td>1</td>\n",
       "      <td>41.0</td>\n",
       "      <td>49600.0</td>\n",
       "      <td>1</td>\n",
       "      <td>0</td>\n",
       "    </tr>\n",
       "    <tr>\n",
       "      <th>1</th>\n",
       "      <td>0</td>\n",
       "      <td>46.0</td>\n",
       "      <td>38000.0</td>\n",
       "      <td>1</td>\n",
       "      <td>1</td>\n",
       "    </tr>\n",
       "    <tr>\n",
       "      <th>2</th>\n",
       "      <td>0</td>\n",
       "      <td>29.0</td>\n",
       "      <td>21000.0</td>\n",
       "      <td>0</td>\n",
       "      <td>0</td>\n",
       "    </tr>\n",
       "    <tr>\n",
       "      <th>3</th>\n",
       "      <td>0</td>\n",
       "      <td>21.0</td>\n",
       "      <td>41700.0</td>\n",
       "      <td>2</td>\n",
       "      <td>0</td>\n",
       "    </tr>\n",
       "    <tr>\n",
       "      <th>4</th>\n",
       "      <td>1</td>\n",
       "      <td>28.0</td>\n",
       "      <td>26100.0</td>\n",
       "      <td>0</td>\n",
       "      <td>0</td>\n",
       "    </tr>\n",
       "  </tbody>\n",
       "</table>\n",
       "</div>"
      ],
      "text/plain": [
       "   Пол  Возраст  Зарплата  Члены семьи  Страховые выплаты\n",
       "0    1     41.0   49600.0            1                  0\n",
       "1    0     46.0   38000.0            1                  1\n",
       "2    0     29.0   21000.0            0                  0\n",
       "3    0     21.0   41700.0            2                  0\n",
       "4    1     28.0   26100.0            0                  0"
      ]
     },
     "execution_count": 4,
     "metadata": {},
     "output_type": "execute_result"
    }
   ],
   "source": [
    "df.head(5)"
   ]
  },
  {
   "cell_type": "markdown",
   "id": "41ea15a2",
   "metadata": {},
   "source": [
    "Посмотрим на количество строк и столбцов"
   ]
  },
  {
   "cell_type": "code",
   "execution_count": 5,
   "id": "66a131d5",
   "metadata": {},
   "outputs": [
    {
     "data": {
      "text/plain": [
       "(5000, 5)"
      ]
     },
     "execution_count": 5,
     "metadata": {},
     "output_type": "execute_result"
    }
   ],
   "source": [
    "df.shape"
   ]
  },
  {
   "cell_type": "markdown",
   "id": "fb755e63",
   "metadata": {},
   "source": [
    "Посмотрим на типы переменных и есть ли пропущенные значения"
   ]
  },
  {
   "cell_type": "code",
   "execution_count": 6,
   "id": "8d18b932",
   "metadata": {
    "scrolled": true
   },
   "outputs": [
    {
     "name": "stdout",
     "output_type": "stream",
     "text": [
      "<class 'pandas.core.frame.DataFrame'>\n",
      "RangeIndex: 5000 entries, 0 to 4999\n",
      "Data columns (total 5 columns):\n",
      " #   Column             Non-Null Count  Dtype  \n",
      "---  ------             --------------  -----  \n",
      " 0   Пол                5000 non-null   int64  \n",
      " 1   Возраст            5000 non-null   float64\n",
      " 2   Зарплата           5000 non-null   float64\n",
      " 3   Члены семьи        5000 non-null   int64  \n",
      " 4   Страховые выплаты  5000 non-null   int64  \n",
      "dtypes: float64(2), int64(3)\n",
      "memory usage: 195.4 KB\n"
     ]
    }
   ],
   "source": [
    "df.info()"
   ]
  },
  {
   "cell_type": "markdown",
   "id": "73013093",
   "metadata": {},
   "source": [
    "Пропущенных значений нет, данные состоят из **пяти** столбцов и **пяти тысяч строк**. Столбцы \"Пол\", \"Члены семьи\", \"Страховые выплаты\" - содержат целочисленные переменные, \"Возраст\" и \"Зарплата\" - вещественные переменные."
   ]
  },
  {
   "cell_type": "markdown",
   "id": "8b9f1a1c",
   "metadata": {},
   "source": [
    "Мне не нравится названия столбцов: во вторых избавимся от верхнего регистра в названиях самих столбцов, запишем их на английском языке что-бы постоянно не переключать язык."
   ]
  },
  {
   "cell_type": "code",
   "execution_count": 7,
   "id": "c9e95ba5",
   "metadata": {},
   "outputs": [],
   "source": [
    "df.columns = ['gender', 'age', 'salary', 'family_member', 'insurance_payments']"
   ]
  },
  {
   "cell_type": "markdown",
   "id": "f91b1eaf",
   "metadata": {},
   "source": [
    "Проверим что все ОК."
   ]
  },
  {
   "cell_type": "code",
   "execution_count": 8,
   "id": "d0291a46",
   "metadata": {},
   "outputs": [
    {
     "data": {
      "text/plain": [
       "Index(['gender', 'age', 'salary', 'family_member', 'insurance_payments'], dtype='object')"
      ]
     },
     "execution_count": 8,
     "metadata": {},
     "output_type": "execute_result"
    }
   ],
   "source": [
    "df.columns"
   ]
  },
  {
   "cell_type": "markdown",
   "id": "a52540dd",
   "metadata": {},
   "source": [
    "#### Вывод"
   ]
  },
  {
   "cell_type": "markdown",
   "id": "d81c3d67",
   "metadata": {},
   "source": [
    "Данные состоят из **пяти** столбцов и **пяти тысяч строк**. Столбцы \"Пол\", \"Члены семьи\", \"Страховые выплаты\" - содержат целочисленные переменные, \"Возраст\" и \"Зарплата\" - вещественные переменные."
   ]
  },
  {
   "cell_type": "markdown",
   "id": "2ad3d1dc",
   "metadata": {},
   "source": [
    "### Исследовательский анализ данных"
   ]
  },
  {
   "cell_type": "markdown",
   "id": "7a845303",
   "metadata": {},
   "source": [
    "Проверим на отсутствие дубликатов"
   ]
  },
  {
   "cell_type": "code",
   "execution_count": 9,
   "id": "6306ff93",
   "metadata": {},
   "outputs": [
    {
     "data": {
      "text/plain": [
       "153"
      ]
     },
     "execution_count": 9,
     "metadata": {},
     "output_type": "execute_result"
    }
   ],
   "source": [
    "df.duplicated().sum()"
   ]
  },
  {
   "cell_type": "markdown",
   "id": "58f694ba",
   "metadata": {},
   "source": [
    "Данные содержат 153 дубликата"
   ]
  },
  {
   "cell_type": "markdown",
   "id": "c734fd9c",
   "metadata": {},
   "source": [
    "Удалим дубликаты, они оказывают плохое влияние на качество машинного обучения."
   ]
  },
  {
   "cell_type": "code",
   "execution_count": 10,
   "id": "a8380ecf",
   "metadata": {},
   "outputs": [],
   "source": [
    "df = df.drop_duplicates().reset_index(drop=True)"
   ]
  },
  {
   "cell_type": "markdown",
   "id": "637276c3",
   "metadata": {},
   "source": [
    "Проверим что все ОК."
   ]
  },
  {
   "cell_type": "code",
   "execution_count": 11,
   "id": "11f6d2e3",
   "metadata": {},
   "outputs": [
    {
     "data": {
      "text/plain": [
       "0"
      ]
     },
     "execution_count": 11,
     "metadata": {},
     "output_type": "execute_result"
    }
   ],
   "source": [
    "df.duplicated().sum()"
   ]
  },
  {
   "cell_type": "markdown",
   "id": "f74e294a",
   "metadata": {},
   "source": [
    "Проверим данные на наличие пропущенных значений. Хотя в методе info() уже видно что пропущенных значений нет."
   ]
  },
  {
   "cell_type": "code",
   "execution_count": 12,
   "id": "9d8676e3",
   "metadata": {},
   "outputs": [
    {
     "data": {
      "text/plain": [
       "gender                0.0\n",
       "age                   0.0\n",
       "salary                0.0\n",
       "family_member         0.0\n",
       "insurance_payments    0.0\n",
       "dtype: float64"
      ]
     },
     "execution_count": 12,
     "metadata": {},
     "output_type": "execute_result"
    }
   ],
   "source": [
    "df.isna().mean()"
   ]
  },
  {
   "cell_type": "markdown",
   "id": "e4e9e50e",
   "metadata": {},
   "source": [
    "Пропущенных значений нет."
   ]
  },
  {
   "cell_type": "markdown",
   "id": "48c93d21",
   "metadata": {},
   "source": [
    "Посмотрим как зависят страховые выплаты от пола клиента."
   ]
  },
  {
   "cell_type": "code",
   "execution_count": 13,
   "id": "da64f56e",
   "metadata": {},
   "outputs": [
    {
     "data": {
      "text/html": [
       "<div>\n",
       "<style scoped>\n",
       "    .dataframe tbody tr th:only-of-type {\n",
       "        vertical-align: middle;\n",
       "    }\n",
       "\n",
       "    .dataframe tbody tr th {\n",
       "        vertical-align: top;\n",
       "    }\n",
       "\n",
       "    .dataframe thead th {\n",
       "        text-align: right;\n",
       "    }\n",
       "</style>\n",
       "<table border=\"1\" class=\"dataframe\">\n",
       "  <thead>\n",
       "    <tr style=\"text-align: right;\">\n",
       "      <th></th>\n",
       "      <th>count</th>\n",
       "      <th>mean</th>\n",
       "    </tr>\n",
       "    <tr>\n",
       "      <th>gender</th>\n",
       "      <th></th>\n",
       "      <th></th>\n",
       "    </tr>\n",
       "  </thead>\n",
       "  <tbody>\n",
       "    <tr>\n",
       "      <th>1</th>\n",
       "      <td>2416</td>\n",
       "      <td>0.157699</td>\n",
       "    </tr>\n",
       "    <tr>\n",
       "      <th>0</th>\n",
       "      <td>2431</td>\n",
       "      <td>0.146853</td>\n",
       "    </tr>\n",
       "  </tbody>\n",
       "</table>\n",
       "</div>"
      ],
      "text/plain": [
       "        count      mean\n",
       "gender                 \n",
       "1        2416  0.157699\n",
       "0        2431  0.146853"
      ]
     },
     "execution_count": 13,
     "metadata": {},
     "output_type": "execute_result"
    }
   ],
   "source": [
    "df.groupby('gender', dropna=False)['insurance_payments'].agg(['count', 'mean']).sort_values(by='mean', ascending=False)"
   ]
  },
  {
   "cell_type": "markdown",
   "id": "945e6d20",
   "metadata": {},
   "source": [
    "Если учесть что 1 отображаются мужчины, а 0 женщины то больше страховых выплат получает мужчины. Но разница не большая."
   ]
  },
  {
   "cell_type": "markdown",
   "id": "203f452f",
   "metadata": {},
   "source": [
    "Посмотрим как зависят страховые выплаты от возраста клиента."
   ]
  },
  {
   "cell_type": "code",
   "execution_count": 14,
   "id": "6f87d0f6",
   "metadata": {
    "scrolled": true
   },
   "outputs": [
    {
     "data": {
      "text/plain": [
       "min    18.0\n",
       "max    65.0\n",
       "Name: age, dtype: float64"
      ]
     },
     "execution_count": 14,
     "metadata": {},
     "output_type": "execute_result"
    }
   ],
   "source": [
    "df['age'].agg(['min', 'max'])"
   ]
  },
  {
   "cell_type": "markdown",
   "id": "7fd0fc37",
   "metadata": {},
   "source": [
    "Посмотрим на разбивку клиентов по возрастам"
   ]
  },
  {
   "cell_type": "code",
   "execution_count": 15,
   "id": "526d39df",
   "metadata": {},
   "outputs": [
    {
     "data": {
      "image/png": "[encoded data removed]",
      "text/plain": [
       "<Figure size 1152x360 with 1 Axes>"
      ]
     },
     "metadata": {
      "needs_background": "light"
     },
     "output_type": "display_data"
    }
   ],
   "source": [
    "plt.figure(figsize=(16,5))\n",
    "plt.title('Количество клиентов по возрастам')\n",
    "plt.ylabel(\"Количество\")\n",
    "plt.xlabel(\"Возраст\")\n",
    "df['age'].hist();"
   ]
  },
  {
   "cell_type": "markdown",
   "id": "cc16127c",
   "metadata": {},
   "source": [
    "Минимальный возраст клиента 18 максимальный 65."
   ]
  },
  {
   "cell_type": "markdown",
   "id": "9ee07f07",
   "metadata": {},
   "source": [
    "Для лучшего анализа, я разобью сет на бины, предварительно создав его копию и работая с ней, что-бы не портить основные данные."
   ]
  },
  {
   "cell_type": "code",
   "execution_count": 16,
   "id": "629a3e3e",
   "metadata": {},
   "outputs": [],
   "source": [
    "df_w = df.copy()"
   ]
  },
  {
   "cell_type": "code",
   "execution_count": 17,
   "id": "aa93b039",
   "metadata": {},
   "outputs": [],
   "source": [
    "df_w['age_bin'] = pd.qcut(df_w['age'], 5)"
   ]
  },
  {
   "cell_type": "code",
   "execution_count": 18,
   "id": "394bae29",
   "metadata": {},
   "outputs": [
    {
     "data": {
      "text/html": [
       "<div>\n",
       "<style scoped>\n",
       "    .dataframe tbody tr th:only-of-type {\n",
       "        vertical-align: middle;\n",
       "    }\n",
       "\n",
       "    .dataframe tbody tr th {\n",
       "        vertical-align: top;\n",
       "    }\n",
       "\n",
       "    .dataframe thead th {\n",
       "        text-align: right;\n",
       "    }\n",
       "</style>\n",
       "<table border=\"1\" class=\"dataframe\">\n",
       "  <thead>\n",
       "    <tr style=\"text-align: right;\">\n",
       "      <th></th>\n",
       "      <th>count</th>\n",
       "      <th>mean</th>\n",
       "    </tr>\n",
       "    <tr>\n",
       "      <th>age_bin</th>\n",
       "      <th></th>\n",
       "      <th></th>\n",
       "    </tr>\n",
       "  </thead>\n",
       "  <tbody>\n",
       "    <tr>\n",
       "      <th>(39.0, 65.0]</th>\n",
       "      <td>834</td>\n",
       "      <td>0.884892</td>\n",
       "    </tr>\n",
       "    <tr>\n",
       "      <th>(17.999, 23.0]</th>\n",
       "      <td>1108</td>\n",
       "      <td>0.000000</td>\n",
       "    </tr>\n",
       "    <tr>\n",
       "      <th>(23.0, 28.0]</th>\n",
       "      <td>979</td>\n",
       "      <td>0.000000</td>\n",
       "    </tr>\n",
       "    <tr>\n",
       "      <th>(28.0, 33.0]</th>\n",
       "      <td>976</td>\n",
       "      <td>0.000000</td>\n",
       "    </tr>\n",
       "    <tr>\n",
       "      <th>(33.0, 39.0]</th>\n",
       "      <td>950</td>\n",
       "      <td>0.000000</td>\n",
       "    </tr>\n",
       "  </tbody>\n",
       "</table>\n",
       "</div>"
      ],
      "text/plain": [
       "                count      mean\n",
       "age_bin                        \n",
       "(39.0, 65.0]      834  0.884892\n",
       "(17.999, 23.0]   1108  0.000000\n",
       "(23.0, 28.0]      979  0.000000\n",
       "(28.0, 33.0]      976  0.000000\n",
       "(33.0, 39.0]      950  0.000000"
      ]
     },
     "execution_count": 18,
     "metadata": {},
     "output_type": "execute_result"
    }
   ],
   "source": [
    "df_w.groupby('age_bin', \n",
    "           dropna=False)['insurance_payments'].agg(['count', 'mean']).sort_values(by='mean', ascending=False)"
   ]
  },
  {
   "cell_type": "markdown",
   "id": "8ce87561",
   "metadata": {},
   "source": [
    "Посмотрим на графическую зависимость."
   ]
  },
  {
   "cell_type": "code",
   "execution_count": 19,
   "id": "5045d5a7",
   "metadata": {
    "scrolled": true
   },
   "outputs": [
    {
     "data": {
      "image/png": "[encoded data removed]",
      "text/plain": [
       "<Figure size 1152x360 with 1 Axes>"
      ]
     },
     "metadata": {
      "needs_background": "light"
     },
     "output_type": "display_data"
    }
   ],
   "source": [
    "plt.figure(figsize=(16,5))\n",
    "plt.title(\"Зависимость количества страховых выплат от возраста клиента\")\n",
    "plt.ylabel(\"Процент страховых выплат\")\n",
    "df_w.groupby('age_bin', dropna=False)['insurance_payments'].mean().plot();"
   ]
  },
  {
   "cell_type": "markdown",
   "id": "88cc4001",
   "metadata": {},
   "source": [
    "Как-то странно получается страховые выплаты выплачиваются только с 40 и до 65 лет, остальным они не нужны?"
   ]
  },
  {
   "cell_type": "markdown",
   "id": "acf91f8d",
   "metadata": {},
   "source": [
    "Посмотрим как зависят страховые выплаты от зарплаты клиентов."
   ]
  },
  {
   "cell_type": "code",
   "execution_count": 20,
   "id": "56a7e39e",
   "metadata": {},
   "outputs": [
    {
     "data": {
      "image/png": "[encoded data removed]",
      "text/plain": [
       "<Figure size 1152x360 with 1 Axes>"
      ]
     },
     "metadata": {
      "needs_background": "light"
     },
     "output_type": "display_data"
    }
   ],
   "source": [
    "plt.figure(figsize=(16,5))\n",
    "plt.title('Распределение зарплаты клиентов')\n",
    "plt.ylabel(\"Количество клиентов\")\n",
    "plt.xlabel(\"Зарплата\")\n",
    "df['salary'].hist();"
   ]
  },
  {
   "cell_type": "markdown",
   "id": "59a7a9ca",
   "metadata": {},
   "source": [
    "Для лучшего анализа, так-же разобью сет на бины, работаю с копией."
   ]
  },
  {
   "cell_type": "code",
   "execution_count": 21,
   "id": "2e6674f8",
   "metadata": {
    "scrolled": true
   },
   "outputs": [],
   "source": [
    "df_w['salary'] = pd.qcut(df_w['salary'], 8, duplicates='drop')"
   ]
  },
  {
   "cell_type": "code",
   "execution_count": 22,
   "id": "ed41ba82",
   "metadata": {},
   "outputs": [
    {
     "data": {
      "text/html": [
       "<div>\n",
       "<style scoped>\n",
       "    .dataframe tbody tr th:only-of-type {\n",
       "        vertical-align: middle;\n",
       "    }\n",
       "\n",
       "    .dataframe tbody tr th {\n",
       "        vertical-align: top;\n",
       "    }\n",
       "\n",
       "    .dataframe thead th {\n",
       "        text-align: right;\n",
       "    }\n",
       "</style>\n",
       "<table border=\"1\" class=\"dataframe\">\n",
       "  <thead>\n",
       "    <tr style=\"text-align: right;\">\n",
       "      <th></th>\n",
       "      <th>count</th>\n",
       "      <th>mean</th>\n",
       "    </tr>\n",
       "    <tr>\n",
       "      <th>salary</th>\n",
       "      <th></th>\n",
       "      <th></th>\n",
       "    </tr>\n",
       "  </thead>\n",
       "  <tbody>\n",
       "    <tr>\n",
       "      <th>(5299.999, 28300.0]</th>\n",
       "      <td>610</td>\n",
       "      <td>0.177049</td>\n",
       "    </tr>\n",
       "    <tr>\n",
       "      <th>(28300.0, 33200.0]</th>\n",
       "      <td>611</td>\n",
       "      <td>0.168576</td>\n",
       "    </tr>\n",
       "    <tr>\n",
       "      <th>(40200.0, 43200.0]</th>\n",
       "      <td>608</td>\n",
       "      <td>0.164474</td>\n",
       "    </tr>\n",
       "    <tr>\n",
       "      <th>(51300.0, 79000.0]</th>\n",
       "      <td>599</td>\n",
       "      <td>0.150250</td>\n",
       "    </tr>\n",
       "    <tr>\n",
       "      <th>(36700.0, 40200.0]</th>\n",
       "      <td>615</td>\n",
       "      <td>0.149593</td>\n",
       "    </tr>\n",
       "    <tr>\n",
       "      <th>(43200.0, 46600.0]</th>\n",
       "      <td>588</td>\n",
       "      <td>0.142857</td>\n",
       "    </tr>\n",
       "    <tr>\n",
       "      <th>(46600.0, 51300.0]</th>\n",
       "      <td>610</td>\n",
       "      <td>0.139344</td>\n",
       "    </tr>\n",
       "    <tr>\n",
       "      <th>(33200.0, 36700.0]</th>\n",
       "      <td>606</td>\n",
       "      <td>0.125413</td>\n",
       "    </tr>\n",
       "  </tbody>\n",
       "</table>\n",
       "</div>"
      ],
      "text/plain": [
       "                     count      mean\n",
       "salary                              \n",
       "(5299.999, 28300.0]    610  0.177049\n",
       "(28300.0, 33200.0]     611  0.168576\n",
       "(40200.0, 43200.0]     608  0.164474\n",
       "(51300.0, 79000.0]     599  0.150250\n",
       "(36700.0, 40200.0]     615  0.149593\n",
       "(43200.0, 46600.0]     588  0.142857\n",
       "(46600.0, 51300.0]     610  0.139344\n",
       "(33200.0, 36700.0]     606  0.125413"
      ]
     },
     "execution_count": 22,
     "metadata": {},
     "output_type": "execute_result"
    }
   ],
   "source": [
    "df_w.groupby('salary')['insurance_payments'].agg(['count', 'mean']).sort_values('mean', ascending=False)"
   ]
  },
  {
   "cell_type": "markdown",
   "id": "256e2f29",
   "metadata": {},
   "source": [
    "Посмотрим на графическую зависимость."
   ]
  },
  {
   "cell_type": "code",
   "execution_count": 23,
   "id": "924685dc",
   "metadata": {},
   "outputs": [
    {
     "data": {
      "image/png": "[encoded data removed]",
      "text/plain": [
       "<Figure size 1152x360 with 1 Axes>"
      ]
     },
     "metadata": {
      "needs_background": "light"
     },
     "output_type": "display_data"
    }
   ],
   "source": [
    "plt.figure(figsize=(16,5))\n",
    "plt.title(\"Зависимость количества страховых выплат от зарплаты клиента\")\n",
    "plt.ylabel(\"Процент страховых выплат\")\n",
    "df_w.groupby('salary', dropna=False)['insurance_payments'].mean().plot();\n",
    "plt.grid()"
   ]
  },
  {
   "cell_type": "markdown",
   "id": "0fe1f40d",
   "metadata": {},
   "source": [
    "Тут очень трудно проследить зависимость! Если аппроксимировать то больше похоже на функцию с гармоническими колебаниями."
   ]
  },
  {
   "cell_type": "markdown",
   "id": "50db735a",
   "metadata": {},
   "source": [
    "Посмотрим как зависят стразовые выплаты от количества членов семьи."
   ]
  },
  {
   "cell_type": "code",
   "execution_count": 24,
   "id": "cc05712d",
   "metadata": {},
   "outputs": [
    {
     "data": {
      "text/html": [
       "<div>\n",
       "<style scoped>\n",
       "    .dataframe tbody tr th:only-of-type {\n",
       "        vertical-align: middle;\n",
       "    }\n",
       "\n",
       "    .dataframe tbody tr th {\n",
       "        vertical-align: top;\n",
       "    }\n",
       "\n",
       "    .dataframe thead th {\n",
       "        text-align: right;\n",
       "    }\n",
       "</style>\n",
       "<table border=\"1\" class=\"dataframe\">\n",
       "  <thead>\n",
       "    <tr style=\"text-align: right;\">\n",
       "      <th></th>\n",
       "      <th>count</th>\n",
       "      <th>mean</th>\n",
       "    </tr>\n",
       "    <tr>\n",
       "      <th>family_member</th>\n",
       "      <th></th>\n",
       "      <th></th>\n",
       "    </tr>\n",
       "  </thead>\n",
       "  <tbody>\n",
       "    <tr>\n",
       "      <th>0</th>\n",
       "      <td>1461</td>\n",
       "      <td>0.165640</td>\n",
       "    </tr>\n",
       "    <tr>\n",
       "      <th>1</th>\n",
       "      <td>1748</td>\n",
       "      <td>0.164760</td>\n",
       "    </tr>\n",
       "    <tr>\n",
       "      <th>6</th>\n",
       "      <td>7</td>\n",
       "      <td>0.142857</td>\n",
       "    </tr>\n",
       "    <tr>\n",
       "      <th>2</th>\n",
       "      <td>1038</td>\n",
       "      <td>0.138728</td>\n",
       "    </tr>\n",
       "    <tr>\n",
       "      <th>5</th>\n",
       "      <td>32</td>\n",
       "      <td>0.125000</td>\n",
       "    </tr>\n",
       "    <tr>\n",
       "      <th>3</th>\n",
       "      <td>437</td>\n",
       "      <td>0.109840</td>\n",
       "    </tr>\n",
       "    <tr>\n",
       "      <th>4</th>\n",
       "      <td>124</td>\n",
       "      <td>0.088710</td>\n",
       "    </tr>\n",
       "  </tbody>\n",
       "</table>\n",
       "</div>"
      ],
      "text/plain": [
       "               count      mean\n",
       "family_member                 \n",
       "0               1461  0.165640\n",
       "1               1748  0.164760\n",
       "6                  7  0.142857\n",
       "2               1038  0.138728\n",
       "5                 32  0.125000\n",
       "3                437  0.109840\n",
       "4                124  0.088710"
      ]
     },
     "execution_count": 24,
     "metadata": {},
     "output_type": "execute_result"
    }
   ],
   "source": [
    "df.groupby('family_member', dropna=False)['insurance_payments'].agg(['count', 'mean']).sort_values(by='mean', ascending=False)"
   ]
  },
  {
   "cell_type": "markdown",
   "id": "815db6e2",
   "metadata": {},
   "source": [
    "Из данных видно, что больше всех страховые выплаты получают семьи где нет детей или один ребенок, меньше всех семьи имеющие троих и четверых детей соответственно."
   ]
  },
  {
   "cell_type": "markdown",
   "id": "9619c55d",
   "metadata": {},
   "source": [
    "И посмотрим на распределение нашего целевого признака."
   ]
  },
  {
   "cell_type": "code",
   "execution_count": 25,
   "id": "351d6086",
   "metadata": {},
   "outputs": [
    {
     "data": {
      "text/plain": [
       "0    4284\n",
       "1     423\n",
       "2     114\n",
       "3      18\n",
       "4       7\n",
       "5       1\n",
       "Name: insurance_payments, dtype: int64"
      ]
     },
     "execution_count": 25,
     "metadata": {},
     "output_type": "execute_result"
    }
   ],
   "source": [
    "df['insurance_payments'].value_counts()"
   ]
  },
  {
   "cell_type": "code",
   "execution_count": 26,
   "id": "db5cab26",
   "metadata": {},
   "outputs": [
    {
     "data": {
      "image/png": "[encoded data removed]",
      "text/plain": [
       "<Figure size 1152x360 with 1 Axes>"
      ]
     },
     "metadata": {
      "needs_background": "light"
     },
     "output_type": "display_data"
    }
   ],
   "source": [
    "plt.figure(figsize=(16,5))\n",
    "plt.title(\"Страховые выплаты\")\n",
    "plt.ylabel(\"Количество\")\n",
    "plt.xlabel(\"Количество выплат\")\n",
    "sns.histplot(df['insurance_payments']);"
   ]
  },
  {
   "cell_type": "markdown",
   "id": "df8d111a",
   "metadata": {},
   "source": [
    "Чем больше страховых выплат тем меньше их количество."
   ]
  },
  {
   "cell_type": "markdown",
   "id": "adb0d40d",
   "metadata": {},
   "source": [
    "Посмотрим на общую картину распределения величин в DataFrime"
   ]
  },
  {
   "cell_type": "code",
   "execution_count": 27,
   "id": "74950bda",
   "metadata": {},
   "outputs": [
    {
     "data": {
      "image/png": "[encoded data removed]",
      "text/plain": [
       "<Figure size 1008x720 with 6 Axes>"
      ]
     },
     "metadata": {
      "needs_background": "light"
     },
     "output_type": "display_data"
    }
   ],
   "source": [
    "df.hist(column=df.columns, figsize=(14, 10));"
   ]
  },
  {
   "cell_type": "markdown",
   "id": "11673245",
   "metadata": {},
   "source": [
    "Посмотрим как коррелируют между собой данные."
   ]
  },
  {
   "cell_type": "code",
   "execution_count": 28,
   "id": "cf565152",
   "metadata": {},
   "outputs": [
    {
     "name": "stderr",
     "output_type": "stream",
     "text": [
      "/tmp/ipykernel_30918/3129850035.py:1: FutureWarning: this method is deprecated in favour of `Styler.format(precision=..)`\n",
      "  df.corr().style.background_gradient(cmap='coolwarm').set_precision(2)\n"
     ]
    },
    {
     "data": {
      "text/html": [
       "<style type=\"text/css\">\n",
       "#T_cb7d0_row0_col0, #T_cb7d0_row1_col1, #T_cb7d0_row2_col2, #T_cb7d0_row3_col3, #T_cb7d0_row4_col4 {\n",
       "  background-color: #b40426;\n",
       "  color: #f1f1f1;\n",
       "}\n",
       "#T_cb7d0_row0_col1, #T_cb7d0_row4_col0, #T_cb7d0_row4_col2 {\n",
       "  background-color: #3f53c6;\n",
       "  color: #f1f1f1;\n",
       "}\n",
       "#T_cb7d0_row0_col2 {\n",
       "  background-color: #485fd1;\n",
       "  color: #f1f1f1;\n",
       "}\n",
       "#T_cb7d0_row0_col3, #T_cb7d0_row1_col3 {\n",
       "  background-color: #4358cb;\n",
       "  color: #f1f1f1;\n",
       "}\n",
       "#T_cb7d0_row0_col4 {\n",
       "  background-color: #4961d2;\n",
       "  color: #f1f1f1;\n",
       "}\n",
       "#T_cb7d0_row1_col0, #T_cb7d0_row3_col1 {\n",
       "  background-color: #3d50c3;\n",
       "  color: #f1f1f1;\n",
       "}\n",
       "#T_cb7d0_row1_col2 {\n",
       "  background-color: #3e51c5;\n",
       "  color: #f1f1f1;\n",
       "}\n",
       "#T_cb7d0_row1_col4 {\n",
       "  background-color: #f7b79b;\n",
       "  color: #000000;\n",
       "}\n",
       "#T_cb7d0_row2_col0 {\n",
       "  background-color: #4055c8;\n",
       "  color: #f1f1f1;\n",
       "}\n",
       "#T_cb7d0_row2_col1, #T_cb7d0_row3_col0, #T_cb7d0_row3_col2, #T_cb7d0_row3_col4, #T_cb7d0_row4_col3 {\n",
       "  background-color: #3b4cc0;\n",
       "  color: #f1f1f1;\n",
       "}\n",
       "#T_cb7d0_row2_col3 {\n",
       "  background-color: #3c4ec2;\n",
       "  color: #f1f1f1;\n",
       "}\n",
       "#T_cb7d0_row2_col4 {\n",
       "  background-color: #4257c9;\n",
       "  color: #f1f1f1;\n",
       "}\n",
       "#T_cb7d0_row4_col1 {\n",
       "  background-color: #f7b99e;\n",
       "  color: #000000;\n",
       "}\n",
       "</style>\n",
       "<table id=\"T_cb7d0_\">\n",
       "  <thead>\n",
       "    <tr>\n",
       "      <th class=\"blank level0\" >&nbsp;</th>\n",
       "      <th class=\"col_heading level0 col0\" >gender</th>\n",
       "      <th class=\"col_heading level0 col1\" >age</th>\n",
       "      <th class=\"col_heading level0 col2\" >salary</th>\n",
       "      <th class=\"col_heading level0 col3\" >family_member</th>\n",
       "      <th class=\"col_heading level0 col4\" >insurance_payments</th>\n",
       "    </tr>\n",
       "  </thead>\n",
       "  <tbody>\n",
       "    <tr>\n",
       "      <th id=\"T_cb7d0_level0_row0\" class=\"row_heading level0 row0\" >gender</th>\n",
       "      <td id=\"T_cb7d0_row0_col0\" class=\"data row0 col0\" >1.00</td>\n",
       "      <td id=\"T_cb7d0_row0_col1\" class=\"data row0 col1\" >0.00</td>\n",
       "      <td id=\"T_cb7d0_row0_col2\" class=\"data row0 col2\" >0.02</td>\n",
       "      <td id=\"T_cb7d0_row0_col3\" class=\"data row0 col3\" >-0.01</td>\n",
       "      <td id=\"T_cb7d0_row0_col4\" class=\"data row0 col4\" >0.01</td>\n",
       "    </tr>\n",
       "    <tr>\n",
       "      <th id=\"T_cb7d0_level0_row1\" class=\"row_heading level0 row1\" >age</th>\n",
       "      <td id=\"T_cb7d0_row1_col0\" class=\"data row1 col0\" >0.00</td>\n",
       "      <td id=\"T_cb7d0_row1_col1\" class=\"data row1 col1\" >1.00</td>\n",
       "      <td id=\"T_cb7d0_row1_col2\" class=\"data row1 col2\" >-0.02</td>\n",
       "      <td id=\"T_cb7d0_row1_col3\" class=\"data row1 col3\" >-0.01</td>\n",
       "      <td id=\"T_cb7d0_row1_col4\" class=\"data row1 col4\" >0.65</td>\n",
       "    </tr>\n",
       "    <tr>\n",
       "      <th id=\"T_cb7d0_level0_row2\" class=\"row_heading level0 row2\" >salary</th>\n",
       "      <td id=\"T_cb7d0_row2_col0\" class=\"data row2 col0\" >0.02</td>\n",
       "      <td id=\"T_cb7d0_row2_col1\" class=\"data row2 col1\" >-0.02</td>\n",
       "      <td id=\"T_cb7d0_row2_col2\" class=\"data row2 col2\" >1.00</td>\n",
       "      <td id=\"T_cb7d0_row2_col3\" class=\"data row2 col3\" >-0.03</td>\n",
       "      <td id=\"T_cb7d0_row2_col4\" class=\"data row2 col4\" >-0.01</td>\n",
       "    </tr>\n",
       "    <tr>\n",
       "      <th id=\"T_cb7d0_level0_row3\" class=\"row_heading level0 row3\" >family_member</th>\n",
       "      <td id=\"T_cb7d0_row3_col0\" class=\"data row3 col0\" >-0.01</td>\n",
       "      <td id=\"T_cb7d0_row3_col1\" class=\"data row3 col1\" >-0.01</td>\n",
       "      <td id=\"T_cb7d0_row3_col2\" class=\"data row3 col2\" >-0.03</td>\n",
       "      <td id=\"T_cb7d0_row3_col3\" class=\"data row3 col3\" >1.00</td>\n",
       "      <td id=\"T_cb7d0_row3_col4\" class=\"data row3 col4\" >-0.04</td>\n",
       "    </tr>\n",
       "    <tr>\n",
       "      <th id=\"T_cb7d0_level0_row4\" class=\"row_heading level0 row4\" >insurance_payments</th>\n",
       "      <td id=\"T_cb7d0_row4_col0\" class=\"data row4 col0\" >0.01</td>\n",
       "      <td id=\"T_cb7d0_row4_col1\" class=\"data row4 col1\" >0.65</td>\n",
       "      <td id=\"T_cb7d0_row4_col2\" class=\"data row4 col2\" >-0.01</td>\n",
       "      <td id=\"T_cb7d0_row4_col3\" class=\"data row4 col3\" >-0.04</td>\n",
       "      <td id=\"T_cb7d0_row4_col4\" class=\"data row4 col4\" >1.00</td>\n",
       "    </tr>\n",
       "  </tbody>\n",
       "</table>\n"
      ],
      "text/plain": [
       "<pandas.io.formats.style.Styler at 0x7f014d7ace80>"
      ]
     },
     "execution_count": 28,
     "metadata": {},
     "output_type": "execute_result"
    }
   ],
   "source": [
    "df.corr().style.background_gradient(cmap='coolwarm').set_precision(2)"
   ]
  },
  {
   "cell_type": "markdown",
   "id": "d2658bb9",
   "metadata": {},
   "source": [
    "Мы наблюдаем умеренную положительную корреляционную зависимость между возрастом клиента и количеством выплат."
   ]
  },
  {
   "cell_type": "markdown",
   "id": "748b268e",
   "metadata": {},
   "source": [
    "### Вывод"
   ]
  },
  {
   "cell_type": "markdown",
   "id": "455e3509",
   "metadata": {},
   "source": [
    "1. Данные состоят из **пяти** столбцов и **пяти тысяч строк**. Столбцы \"Пол\", \"Члены семьи\", \"Страховые выплаты\" - содержат целочисленные переменные, \"Возраст\" и \"Зарплата\" - вещественные переменные.\n",
    "2. Больше страховых выплат получает мужчины.\n",
    "3. Страховые выплаты выплачиваются клиентам возрастом с 40 и до 65 лет.\n",
    "4. Страховые выплаты не зависят от зарплаты клиента.\n",
    "5. Больше всех страховые выплаты получают семьи где нет детей или один ребенок, меньше всех семьи имеющие троих и четверых детей соответственно.\n",
    "6. Чем больше страховых выплат тем меньше их количество.\n",
    "7. Наблюдается умеренная положительная корреляционная зависимость между возрастом клиента и количеством выплат."
   ]
  },
  {
   "cell_type": "markdown",
   "id": "32f19af8",
   "metadata": {},
   "source": [
    "## Умножение матриц"
   ]
  },
  {
   "cell_type": "markdown",
   "id": "8dfa09cd",
   "metadata": {},
   "source": [
    "В этом задании вы можете записывать формулы в *Jupyter Notebook.*\n",
    "\n",
    "Чтобы записать формулу внутри текста, окружите её символами доллара \\\\$; если снаружи —  двойными символами \\\\$\\\\$. Эти формулы записываются на языке вёрстки *LaTeX.* \n",
    "\n",
    "Для примера мы записали формулы линейной регрессии. Можете их скопировать и отредактировать, чтобы решить задачу.\n",
    "\n",
    "Работать в *LaTeX* необязательно."
   ]
  },
  {
   "cell_type": "markdown",
   "id": "73ca909c",
   "metadata": {},
   "source": [
    "Обозначения:\n",
    "\n",
    "- $X$ — матрица признаков (нулевой столбец состоит из единиц)\n",
    "\n",
    "- $y$ — вектор целевого признака\n",
    "\n",
    "- $P$ — матрица, на которую умножаются признаки\n",
    "\n",
    "- $w$ — вектор весов линейной регрессии (нулевой элемент равен сдвигу)"
   ]
  },
  {
   "cell_type": "markdown",
   "id": "3a5a0712",
   "metadata": {},
   "source": [
    "Предсказания:\n",
    "\n",
    "$$\n",
    "a = Xw\n",
    "$$\n",
    "\n",
    "Задача обучения:\n",
    "\n",
    "$$\n",
    "w = \\arg\\min_w MSE(Xw, y)\n",
    "$$\n",
    "\n",
    "Формула обучения:\n",
    "\n",
    "$$\n",
    "w = (X^T X)^{-1} X^T y\n",
    "$$"
   ]
  },
  {
   "cell_type": "markdown",
   "id": "10e5341c",
   "metadata": {},
   "source": [
    "**Вопрос**: Признаки умножают на обратимую матрицу. Изменится ли качество линейной регрессии?"
   ]
  },
  {
   "cell_type": "markdown",
   "id": "4e0cabdb",
   "metadata": {},
   "source": [
    "**Обоснование:**"
   ]
  },
  {
   "cell_type": "markdown",
   "id": "bd0f293b",
   "metadata": {},
   "source": [
    "Разделим переменные на независимые и целевые. \n",
    "\n",
    "**Целевая переменная** (таргет) - столбец insurance_payments.\n",
    "\n",
    "**Признаки** (фичи) - все столбцы кроме столбца insurance_payments (это таргет)."
   ]
  },
  {
   "cell_type": "code",
   "execution_count": 29,
   "id": "8ba81fe7",
   "metadata": {
    "scrolled": true
   },
   "outputs": [],
   "source": [
    "target = df.loc[:, 'insurance_payments']\n",
    "features = df.drop(['insurance_payments'], axis=1)"
   ]
  },
  {
   "cell_type": "markdown",
   "id": "aa6415f2",
   "metadata": {},
   "source": [
    "Разделим выборку на тестовую и обучающею."
   ]
  },
  {
   "cell_type": "code",
   "execution_count": 30,
   "id": "b33f045a",
   "metadata": {},
   "outputs": [],
   "source": [
    "features_train, features_test, target_train, target_test = train_test_split(\n",
    "    features, target, test_size=0.25, random_state=12345)"
   ]
  },
  {
   "cell_type": "markdown",
   "id": "0670d0d9",
   "metadata": {},
   "source": [
    "Посчитаем линейную регрессию и метрику R2"
   ]
  },
  {
   "cell_type": "code",
   "execution_count": 31,
   "id": "af1c78a3",
   "metadata": {},
   "outputs": [
    {
     "name": "stdout",
     "output_type": "stream",
     "text": [
      "R2 = 0.4230772749214825\n"
     ]
    }
   ],
   "source": [
    "regressor = LinearRegression()\n",
    "scaller = StandardScaler()\n",
    "pipeline = Pipeline([(\"standard_scaller\", scaller),(\"linear_regression\", regressor)])\n",
    "pipeline.fit(features_train, target_train)\n",
    "R2_LR_cipher_data_scaled = r2_score(target_test, pipeline.predict(features_test))\n",
    "print(\"R2 =\", R2_LR_cipher_data_scaled)"
   ]
  },
  {
   "cell_type": "markdown",
   "id": "2ccebcfc",
   "metadata": {},
   "source": [
    "Умножим признаки на обратимую матрицу и проверим качество линейной регрессии"
   ]
  },
  {
   "cell_type": "markdown",
   "id": "fdcacbd8",
   "metadata": {},
   "source": [
    "Преобразуем выборки в матрицы"
   ]
  },
  {
   "cell_type": "code",
   "execution_count": 32,
   "id": "5773b61e",
   "metadata": {},
   "outputs": [],
   "source": [
    "matrix_features_train = features_train.values\n",
    "matrix_features_test = features_test.values"
   ]
  },
  {
   "cell_type": "markdown",
   "id": "2175a256",
   "metadata": {},
   "source": [
    "Проверим что все ОК"
   ]
  },
  {
   "cell_type": "code",
   "execution_count": 33,
   "id": "ad6e33ee",
   "metadata": {},
   "outputs": [
    {
     "name": "stdout",
     "output_type": "stream",
     "text": [
      "(3635, 4)\n",
      "(1212, 4)\n"
     ]
    }
   ],
   "source": [
    "print(matrix_features_train.shape)\n",
    "print(matrix_features_test.shape)"
   ]
  },
  {
   "cell_type": "markdown",
   "id": "1c648b6a",
   "metadata": {},
   "source": [
    "Сделаем случайную обратимую матрицу 4 на 4 по количеству признаков основной матрицы:"
   ]
  },
  {
   "cell_type": "code",
   "execution_count": 34,
   "id": "d98a3610",
   "metadata": {},
   "outputs": [
    {
     "data": {
      "text/plain": [
       "array([[-0.8919858 , -1.07481461,  0.56694234, -0.32285187],\n",
       "       [ 1.05990559,  0.85197356, -2.43410248,  1.20393697],\n",
       "       [-1.86494867,  0.35736309,  1.3764502 ,  2.31163187],\n",
       "       [-0.04560024,  0.01277109, -0.02967858,  1.16992721]])"
      ]
     },
     "execution_count": 34,
     "metadata": {},
     "output_type": "execute_result"
    }
   ],
   "source": [
    "random_matrix = np.random.randn(4, 4)\n",
    "random_matrix"
   ]
  },
  {
   "cell_type": "markdown",
   "id": "0dc59cc2",
   "metadata": {},
   "source": [
    "Проверим явлется ли наша матрица на обратимой. Для этого умножим её на обратную ей матрицу. В результате должна получиться единичная матрица."
   ]
  },
  {
   "cell_type": "code",
   "execution_count": 35,
   "id": "7b43f349",
   "metadata": {},
   "outputs": [
    {
     "data": {
      "text/plain": [
       "array([[ 1.,  0., -0.,  0.],\n",
       "       [ 0.,  1.,  0., -0.],\n",
       "       [ 0., -0.,  1.,  0.],\n",
       "       [ 0.,  0.,  0.,  1.]])"
      ]
     },
     "execution_count": 35,
     "metadata": {},
     "output_type": "execute_result"
    }
   ],
   "source": [
    "np.round(random_matrix @ np.linalg.inv(random_matrix))"
   ]
  },
  {
   "cell_type": "markdown",
   "id": "6f94b1a1",
   "metadata": {},
   "source": [
    "Все ок"
   ]
  },
  {
   "cell_type": "markdown",
   "id": "4c85f9b6",
   "metadata": {},
   "source": [
    "Перемножим тестовую и тренировочную матрицы на получившуюся рандомную обратимую матрицу:"
   ]
  },
  {
   "cell_type": "code",
   "execution_count": 36,
   "id": "0b4fe37c",
   "metadata": {},
   "outputs": [],
   "source": [
    "encoded_matrix_features_train = matrix_features_train.dot(random_matrix)\n",
    "encoded_matrix_features_test = matrix_features_test.dot(random_matrix)"
   ]
  },
  {
   "cell_type": "markdown",
   "id": "8f011973",
   "metadata": {},
   "source": [
    "Посчитаем линейную регрессию и метрику R2"
   ]
  },
  {
   "cell_type": "code",
   "execution_count": 37,
   "id": "0ed4f7e3",
   "metadata": {},
   "outputs": [
    {
     "name": "stdout",
     "output_type": "stream",
     "text": [
      "R2_encoded_matrix = 0.4230772749217886\n"
     ]
    }
   ],
   "source": [
    "model = LinearRegression()\n",
    "model.fit(encoded_matrix_features_train, target_train)\n",
    "R2_LR_origin_data = r2_score(target_test, model.predict(encoded_matrix_features_test))\n",
    "print(\"R2_encoded_matrix =\", R2_LR_origin_data)"
   ]
  },
  {
   "cell_type": "markdown",
   "id": "bdb08ce1",
   "metadata": {},
   "source": [
    "**Ответ:** $ R^2 $ не поменяется"
   ]
  },
  {
   "cell_type": "markdown",
   "id": "d0b3ab66",
   "metadata": {},
   "source": [
    "**Математическое обоснование:**"
   ]
  },
  {
   "cell_type": "markdown",
   "id": "0b9f71e3",
   "metadata": {},
   "source": [
    "Представим новую матрицу признаков X1 как произведение старой X на матрицу P(обратимую):\n",
    "$$X1 = X∗P$$"
   ]
  },
  {
   "cell_type": "markdown",
   "id": "ea0c46dc",
   "metadata": {},
   "source": [
    "Подставим новое значение X1 в формулу w1:\n",
    "$$w1=((XP)^TXP)^{−1}(XP)^Ty$$"
   ]
  },
  {
   "cell_type": "markdown",
   "id": "9dbc0aa7",
   "metadata": {},
   "source": [
    "Раскроем первое произведение:\n",
    "    $$w1=(P^TX^TXP)^{-1}P^TX^Ty$$"
   ]
  },
  {
   "cell_type": "markdown",
   "id": "40dcb5df",
   "metadata": {},
   "source": [
    "Перегруппируем множители в скобках:\n",
    "$$w1=(P^T(X^TX)P)^{-1}P^TX^Ty$$"
   ]
  },
  {
   "cell_type": "markdown",
   "id": "1821e3d9",
   "metadata": {},
   "source": [
    "Раскроем скобки:\n",
    "$$w1=P^{-1}(X^TX)^{-1}(P^T)^{-1}P^TX^Ty$$"
   ]
  },
  {
   "cell_type": "markdown",
   "id": "1cd707bf",
   "metadata": {},
   "source": [
    "Так как $P$ по условию обратимая, то произведение  $(P^T)^{−1}P^T$ равно $E$(единичная матрица):\n",
    "\n",
    "$$w1=P^{-1}(X^TX)^{-1}EX^Ty=P^{-1}(X^TX)^{-1}X^Ty$$"
   ]
  },
  {
   "cell_type": "markdown",
   "id": "2c2ea200",
   "metadata": {},
   "source": [
    "Можно заметить, что справа получилась формула для $w$:\n",
    "$$w1=P^{-1}(X^TX)^{-1}X^Ty=P^{-1}w$$"
   ]
  },
  {
   "cell_type": "markdown",
   "id": "3560ba16",
   "metadata": {},
   "source": [
    "Подставим новое значение весов $𝑤1$ в формулу для предсказаний линейной регрессии. Предсказания модели расчитываются по формуле:\n",
    "$$a=Xw$$"
   ]
  },
  {
   "cell_type": "markdown",
   "id": "4a877ec9",
   "metadata": {},
   "source": [
    "Подставим в эту формулу значения $X1$ и $w1$ для того, чтобы на их основе вычислить предсказания модели $a1$:\n",
    "$$a1=X1w1=XPP^{-1}w$$"
   ]
  },
  {
   "cell_type": "markdown",
   "id": "d7a8e5e8",
   "metadata": {},
   "source": [
    "Так как $P$ по условию обратимая, то произведение $PP^{−1}$ снова равно $E$:\n",
    "$$a1=XPP^{-1}w=XEw=Xw=a$$"
   ]
  },
  {
   "cell_type": "markdown",
   "id": "4bd14344",
   "metadata": {},
   "source": [
    "Следовательно, отвечая на вопрос изменится ли качество линейной регрессии при умножении признаков на обратимую матрицу - нет, не изменится. В данном случае, параметры линейной регрессии в исходной задаче $w$ и в преобразованной $w1$ связаны следующим образом:\n",
    "$$w1=P^{-1}w$$"
   ]
  },
  {
   "cell_type": "markdown",
   "id": "f95c37ce",
   "metadata": {},
   "source": [
    "## Алгоритм преобразования"
   ]
  },
  {
   "cell_type": "markdown",
   "id": "7df4398c",
   "metadata": {},
   "source": [
    "**Алгоритм**\n",
    "\n",
    "Для защиты информации на этапе поиска коэффициентов регрессии и предсказаний регрессии будем умножать матрицу признаков на обратимую матрицу , которая будет генерироваться случайным образом.\n",
    "\n",
    "**\"Этапы алгоритма**\n",
    "1. Составление матрицы.\n",
    "2. Проверка матрицы на обратимость.\n",
    "3. Получение матрицы признаков."
   ]
  },
  {
   "cell_type": "markdown",
   "id": "6636b829",
   "metadata": {},
   "source": [
    "Создадим функцию преобразования матрицы признаков."
   ]
  },
  {
   "cell_type": "code",
   "execution_count": 38,
   "id": "7c9d3414",
   "metadata": {},
   "outputs": [],
   "source": [
    "def code_features(features):\n",
    "    n = features.shape[1]\n",
    "    cipher_matrix = np.random.randn(n, n)\n",
    "    crypted_features = features @ cipher_matrix\n",
    "    return crypted_features, cipher_matrix"
   ]
  },
  {
   "cell_type": "markdown",
   "id": "affb05bf",
   "metadata": {},
   "source": [
    "Выведем данные до преобразования и после."
   ]
  },
  {
   "cell_type": "code",
   "execution_count": 39,
   "id": "3a9bc574",
   "metadata": {},
   "outputs": [
    {
     "data": {
      "text/html": [
       "<div>\n",
       "<style scoped>\n",
       "    .dataframe tbody tr th:only-of-type {\n",
       "        vertical-align: middle;\n",
       "    }\n",
       "\n",
       "    .dataframe tbody tr th {\n",
       "        vertical-align: top;\n",
       "    }\n",
       "\n",
       "    .dataframe thead th {\n",
       "        text-align: right;\n",
       "    }\n",
       "</style>\n",
       "<table border=\"1\" class=\"dataframe\">\n",
       "  <thead>\n",
       "    <tr style=\"text-align: right;\">\n",
       "      <th></th>\n",
       "      <th>gender</th>\n",
       "      <th>age</th>\n",
       "      <th>salary</th>\n",
       "      <th>family_member</th>\n",
       "    </tr>\n",
       "  </thead>\n",
       "  <tbody>\n",
       "    <tr>\n",
       "      <th>0</th>\n",
       "      <td>1</td>\n",
       "      <td>41.0</td>\n",
       "      <td>49600.0</td>\n",
       "      <td>1</td>\n",
       "    </tr>\n",
       "    <tr>\n",
       "      <th>1</th>\n",
       "      <td>0</td>\n",
       "      <td>46.0</td>\n",
       "      <td>38000.0</td>\n",
       "      <td>1</td>\n",
       "    </tr>\n",
       "    <tr>\n",
       "      <th>2</th>\n",
       "      <td>0</td>\n",
       "      <td>29.0</td>\n",
       "      <td>21000.0</td>\n",
       "      <td>0</td>\n",
       "    </tr>\n",
       "    <tr>\n",
       "      <th>3</th>\n",
       "      <td>0</td>\n",
       "      <td>21.0</td>\n",
       "      <td>41700.0</td>\n",
       "      <td>2</td>\n",
       "    </tr>\n",
       "    <tr>\n",
       "      <th>4</th>\n",
       "      <td>1</td>\n",
       "      <td>28.0</td>\n",
       "      <td>26100.0</td>\n",
       "      <td>0</td>\n",
       "    </tr>\n",
       "  </tbody>\n",
       "</table>\n",
       "</div>"
      ],
      "text/plain": [
       "   gender   age   salary  family_member\n",
       "0       1  41.0  49600.0              1\n",
       "1       0  46.0  38000.0              1\n",
       "2       0  29.0  21000.0              0\n",
       "3       0  21.0  41700.0              2\n",
       "4       1  28.0  26100.0              0"
      ]
     },
     "metadata": {},
     "output_type": "display_data"
    },
    {
     "data": {
      "text/html": [
       "<div>\n",
       "<style scoped>\n",
       "    .dataframe tbody tr th:only-of-type {\n",
       "        vertical-align: middle;\n",
       "    }\n",
       "\n",
       "    .dataframe tbody tr th {\n",
       "        vertical-align: top;\n",
       "    }\n",
       "\n",
       "    .dataframe thead th {\n",
       "        text-align: right;\n",
       "    }\n",
       "</style>\n",
       "<table border=\"1\" class=\"dataframe\">\n",
       "  <thead>\n",
       "    <tr style=\"text-align: right;\">\n",
       "      <th></th>\n",
       "      <th>0</th>\n",
       "      <th>1</th>\n",
       "      <th>2</th>\n",
       "      <th>3</th>\n",
       "    </tr>\n",
       "  </thead>\n",
       "  <tbody>\n",
       "    <tr>\n",
       "      <th>0</th>\n",
       "      <td>-125862.904311</td>\n",
       "      <td>5368.673775</td>\n",
       "      <td>-34479.272617</td>\n",
       "      <td>-36899.361101</td>\n",
       "    </tr>\n",
       "    <tr>\n",
       "      <th>1</th>\n",
       "      <td>-96437.169150</td>\n",
       "      <td>4136.599018</td>\n",
       "      <td>-26419.357246</td>\n",
       "      <td>-28257.437515</td>\n",
       "    </tr>\n",
       "    <tr>\n",
       "      <th>2</th>\n",
       "      <td>-53296.344584</td>\n",
       "      <td>2291.835147</td>\n",
       "      <td>-14601.349976</td>\n",
       "      <td>-15612.803124</td>\n",
       "    </tr>\n",
       "    <tr>\n",
       "      <th>3</th>\n",
       "      <td>-105807.135770</td>\n",
       "      <td>4492.518870</td>\n",
       "      <td>-28983.394154</td>\n",
       "      <td>-31034.928900</td>\n",
       "    </tr>\n",
       "    <tr>\n",
       "      <th>4</th>\n",
       "      <td>-66234.655177</td>\n",
       "      <td>2835.038999</td>\n",
       "      <td>-18145.340627</td>\n",
       "      <td>-19410.680952</td>\n",
       "    </tr>\n",
       "  </tbody>\n",
       "</table>\n",
       "</div>"
      ],
      "text/plain": [
       "               0            1             2             3\n",
       "0 -125862.904311  5368.673775 -34479.272617 -36899.361101\n",
       "1  -96437.169150  4136.599018 -26419.357246 -28257.437515\n",
       "2  -53296.344584  2291.835147 -14601.349976 -15612.803124\n",
       "3 -105807.135770  4492.518870 -28983.394154 -31034.928900\n",
       "4  -66234.655177  2835.038999 -18145.340627 -19410.680952"
      ]
     },
     "metadata": {},
     "output_type": "display_data"
    },
    {
     "data": {
      "text/plain": [
       "array([[-0.53004592, -0.67432917, -0.14312871,  0.93792266],\n",
       "       [-0.69843623,  1.58032831, -0.27286507,  0.88712154],\n",
       "       [-2.53695666,  0.10695265, -0.69492557, -0.74469189],\n",
       "       [-0.68787125, -0.29674113,  0.36605999,  0.04663922]])"
      ]
     },
     "execution_count": 39,
     "metadata": {},
     "output_type": "execute_result"
    }
   ],
   "source": [
    "display(features.head())\n",
    "features_ciphere, cipher_matrix = code_features(features)\n",
    "display(features_ciphere.head())\n",
    "cipher_matrix"
   ]
  },
  {
   "cell_type": "markdown",
   "id": "e282539c",
   "metadata": {},
   "source": [
    "Как видно, данные закодированы, теперь в них хранится непонятное число. Разобьем данные таргеты и фичи."
   ]
  },
  {
   "cell_type": "code",
   "execution_count": 40,
   "id": "5570aa7a",
   "metadata": {},
   "outputs": [],
   "source": [
    "features_train, features_test, target_train, target_test = train_test_split(\n",
    "    features_ciphere, target, test_size=0.25, random_state=12345)"
   ]
  },
  {
   "cell_type": "code",
   "execution_count": 41,
   "id": "d11203fd",
   "metadata": {},
   "outputs": [
    {
     "name": "stdout",
     "output_type": "stream",
     "text": [
      "R2 = 0.42307727492148595\n"
     ]
    }
   ],
   "source": [
    "regressor = LinearRegression()\n",
    "scaller = StandardScaler()\n",
    "pipeline = Pipeline([(\"standard_scaller\", scaller),(\"linear_regression\", regressor)])\n",
    "pipeline.fit(features_train, target_train)\n",
    "R2_LR_cipher_data_scaled = r2_score(target_test, pipeline.predict(features_test))\n",
    "print(\"R2 =\", R2_LR_cipher_data_scaled)"
   ]
  },
  {
   "cell_type": "markdown",
   "id": "3bcf0273",
   "metadata": {},
   "source": [
    "По показателю коэффициента детерминации качество модели не поменялось."
   ]
  },
  {
   "cell_type": "markdown",
   "id": "3b6f01c3",
   "metadata": {},
   "source": [
    "____"
   ]
  },
  {
   "cell_type": "markdown",
   "id": "b56e24dc",
   "metadata": {},
   "source": [
    "Ниже создана функция которая закодирует датасет."
   ]
  },
  {
   "cell_type": "code",
   "execution_count": 42,
   "id": "71faf5f5",
   "metadata": {},
   "outputs": [],
   "source": [
    "def code_df(df, target):\n",
    "    # выделим отдельно фичи\n",
    "    features_code = df.drop([target], axis=1).columns\n",
    "    # посмотрим на размер\n",
    "    df_features = df[features_code]\n",
    "    n = df_features.shape[1]\n",
    "    # создадим матрицу кодирования\n",
    "    cipher_matrix = np.random.randn(n, n)\n",
    "    # умножим фичи на матрицу кодирования\n",
    "    crypted_df = df_features @ cipher_matrix\n",
    "    # добавим столбец с таргетом\n",
    "    crypted_df['target'] = df[target]  \n",
    "    # изменим названия столбцов\n",
    "    crypted_df.columns = df.columns\n",
    "    # возвратим df и матрицу кодированя\n",
    "    return crypted_df, cipher_matrix"
   ]
  },
  {
   "cell_type": "markdown",
   "id": "8296842e",
   "metadata": {},
   "source": [
    "Проверим что все впорядке."
   ]
  },
  {
   "cell_type": "code",
   "execution_count": 43,
   "id": "462021c0",
   "metadata": {
    "scrolled": true
   },
   "outputs": [
    {
     "data": {
      "text/html": [
       "<div>\n",
       "<style scoped>\n",
       "    .dataframe tbody tr th:only-of-type {\n",
       "        vertical-align: middle;\n",
       "    }\n",
       "\n",
       "    .dataframe tbody tr th {\n",
       "        vertical-align: top;\n",
       "    }\n",
       "\n",
       "    .dataframe thead th {\n",
       "        text-align: right;\n",
       "    }\n",
       "</style>\n",
       "<table border=\"1\" class=\"dataframe\">\n",
       "  <thead>\n",
       "    <tr style=\"text-align: right;\">\n",
       "      <th></th>\n",
       "      <th>gender</th>\n",
       "      <th>age</th>\n",
       "      <th>salary</th>\n",
       "      <th>family_member</th>\n",
       "      <th>insurance_payments</th>\n",
       "    </tr>\n",
       "  </thead>\n",
       "  <tbody>\n",
       "    <tr>\n",
       "      <th>0</th>\n",
       "      <td>28291.036788</td>\n",
       "      <td>80943.360730</td>\n",
       "      <td>-12370.961374</td>\n",
       "      <td>73866.684881</td>\n",
       "      <td>0</td>\n",
       "    </tr>\n",
       "    <tr>\n",
       "      <th>1</th>\n",
       "      <td>21681.567240</td>\n",
       "      <td>62011.146036</td>\n",
       "      <td>-9499.850173</td>\n",
       "      <td>56606.427259</td>\n",
       "      <td>1</td>\n",
       "    </tr>\n",
       "    <tr>\n",
       "      <th>2</th>\n",
       "      <td>11984.261483</td>\n",
       "      <td>34268.564917</td>\n",
       "      <td>-5257.407114</td>\n",
       "      <td>31285.826036</td>\n",
       "      <td>0</td>\n",
       "    </tr>\n",
       "  </tbody>\n",
       "</table>\n",
       "</div>"
      ],
      "text/plain": [
       "         gender           age        salary  family_member  insurance_payments\n",
       "0  28291.036788  80943.360730 -12370.961374   73866.684881                   0\n",
       "1  21681.567240  62011.146036  -9499.850173   56606.427259                   1\n",
       "2  11984.261483  34268.564917  -5257.407114   31285.826036                   0"
      ]
     },
     "metadata": {},
     "output_type": "display_data"
    },
    {
     "data": {
      "text/plain": [
       "array([[-1.53570134,  0.10447617, -0.52548571, -0.17070132],\n",
       "       [ 0.42211817, -0.1335785 , -1.59407001,  1.01175175],\n",
       "       [ 0.57009619,  1.63202089, -0.24815138,  1.48840406],\n",
       "       [-1.50553619,  0.49682073,  3.22967473,  0.5324425 ]])"
      ]
     },
     "metadata": {},
     "output_type": "display_data"
    }
   ],
   "source": [
    "df_new, cipher_matrix = code_df(df, 'insurance_payments')\n",
    "display(df_new.head(3))\n",
    "display(cipher_matrix)"
   ]
  },
  {
   "cell_type": "markdown",
   "id": "a9a81f6a",
   "metadata": {},
   "source": [
    "Как видно, данные закодированы, теперь в них хранится непонятное число. Разобьем данные таргеты и фичи и далее по алгоритму"
   ]
  },
  {
   "cell_type": "code",
   "execution_count": 44,
   "id": "738f0877",
   "metadata": {},
   "outputs": [],
   "source": [
    "target = df_new.loc[:, 'insurance_payments']\n",
    "features = df_new.drop(['insurance_payments'], axis=1)"
   ]
  },
  {
   "cell_type": "code",
   "execution_count": 45,
   "id": "2f58e3a6",
   "metadata": {},
   "outputs": [],
   "source": [
    "features_train, features_test, target_train, target_test = train_test_split(\n",
    "    features, target, test_size=0.25, random_state=12345)"
   ]
  },
  {
   "cell_type": "code",
   "execution_count": 46,
   "id": "1e37fa2f",
   "metadata": {
    "scrolled": true
   },
   "outputs": [
    {
     "name": "stdout",
     "output_type": "stream",
     "text": [
      "R2 = 0.42307727492151226\n"
     ]
    }
   ],
   "source": [
    "regressor = LinearRegression()\n",
    "scaller = StandardScaler()\n",
    "pipeline = Pipeline([(\"standard_scaller\", scaller),(\"linear_regression\", regressor)])\n",
    "pipeline.fit(features_train, target_train)\n",
    "R2_df_new = r2_score(target_test, pipeline.predict(features_test))\n",
    "print(\"R2 =\", R2_df_new)"
   ]
  },
  {
   "cell_type": "markdown",
   "id": "5b47b52f",
   "metadata": {},
   "source": [
    "По показателю коэффициента детерминации качество модели не поменялось."
   ]
  },
  {
   "cell_type": "markdown",
   "id": "705211d9",
   "metadata": {},
   "source": [
    "### Вывод "
   ]
  },
  {
   "cell_type": "markdown",
   "id": "fef7cc1b",
   "metadata": {},
   "source": [
    "Для защиты информации необходимо признаки умножать на обратимую матрицу, которая будет генерироваться случайным образом. При этом по показателю коэффициента детерминации качество модели не поменялось. В ходе выполнения проекта я заметил интересный момент,  если мы исходный датафрейм умножаем на обратимую матрицу то у нашей линейной регрессии коэффициент детерминации становится равен 0.999, а если посмотреть на корреляцию между признаками то она почти везде равна  1. Так что получается для кодирования данных подходит только алгоритм в котором мы умножаем только фичи, а таргеты не трогаем."
   ]
  },
  {
   "cell_type": "markdown",
   "id": "57381972",
   "metadata": {},
   "source": [
    "## Общий вывод"
   ]
  },
  {
   "cell_type": "markdown",
   "id": "a9844335",
   "metadata": {},
   "source": [
    "1. Данные состоят из **пяти** столбцов и **пяти тысяч строк**. Столбцы \"Пол\", \"Члены семьи\", \"Страховые выплаты\" - содержат целочисленные переменные, \"Возраст\" и \"Зарплата\" - вещественные переменные.\n",
    "2. Больше страховых выплат получают мужчины.\n",
    "3. Страховые выплаты выплачиваются клиентам возрастом с 40 и до 65 лет.\n",
    "4. Страховые выплаты не зависят от зарплаты клиента.\n",
    "5. Больше всех страховые выплаты получают семьи где нет детей или один ребенок, меньше всех семьи имеющие троих и четверых детей соответственно.\n",
    "6. Чем больше страховых выплат тем меньше их количество.\n",
    "7. Наблюдается умеренная положительная корреляционная зависимость между возрастом клиента и количеством выплат.\n",
    "8. Качество линейной регрессии при умножении признаков на обратимую матрицу не изменятся. \n",
    "9. Была создана функция для защиты информации которая на вход получает исходные данные, признаки  в исходных данных умножает на обратимую матрицу, которая генерируется случайным образом. При этом по показателю коэффициента детерминации качество модели не поменялось."
   ]
  }
 ],
 "metadata": {
  "ExecuteTimeLog": [
   {
    "duration": 107,
    "start_time": "2022-08-07T09:47:27.882Z"
   }
  ],
  "kernelspec": {
   "display_name": "Python 3 (ipykernel)",
   "language": "python",
   "name": "python3"
  },
  "language_info": {
   "codemirror_mode": {
    "name": "ipython",
    "version": 3
   },
   "file_extension": ".py",
   "mimetype": "text/x-python",
   "name": "python",
   "nbconvert_exporter": "python",
   "pygments_lexer": "ipython3",
   "version": "3.10.8"
  },
  "toc": {
   "base_numbering": 1,
   "nav_menu": {},
   "number_sections": true,
   "sideBar": true,
   "skip_h1_title": true,
   "title_cell": "Table of Contents",
   "title_sidebar": "Contents",
   "toc_cell": true,
   "toc_position": {},
   "toc_section_display": true,
   "toc_window_display": false
  },
  "varInspector": {
   "cols": {
    "lenName": 16,
    "lenType": 16,
    "lenVar": 40
   },
   "kernels_config": {
    "python": {
     "delete_cmd_postfix": "",
     "delete_cmd_prefix": "del ",
     "library": "var_list.py",
     "varRefreshCmd": "print(var_dic_list())"
    },
    "r": {
     "delete_cmd_postfix": ") ",
     "delete_cmd_prefix": "rm(",
     "library": "var_list.r",
     "varRefreshCmd": "cat(var_dic_list()) "
    }
   },
   "types_to_exclude": [
    "module",
    "function",
    "builtin_function_or_method",
    "instance",
    "_Feature"
   ],
   "window_display": false
  }
 },
 "nbformat": 4,
 "nbformat_minor": 5
}
