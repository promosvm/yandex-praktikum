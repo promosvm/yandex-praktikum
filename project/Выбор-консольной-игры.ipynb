{
 "cells": [
  {
   "cell_type": "code",
   "execution_count": 1,
   "metadata": {
    "code_folding": [],
    "scrolled": true
   },
   "outputs": [],
   "source": [
    "#%load_ext nb_black"
   ]
  },
  {
   "cell_type": "markdown",
   "metadata": {},
   "source": [
    "# Определение закономерностей влияющих на успешность игры"
   ]
  },
  {
   "cell_type": "markdown",
   "metadata": {},
   "source": [
    "<p><b>Цель исследования</b> - выявить закономерности определяющие успешность игры. \n",
    "  <p><b>Задачи:</b><p>\n",
    "<p><b> 1. Найти зависимость между платформой на которой издается игра и числом продаж.</b><p> \n",
    "<p>1.1 Определить <b>сколько игр</b> на платформе <b>выпускалось</b> в разные года.</p>\n",
    "<p>1.2 Определить <b>как менялись продажи</b> игр на платформах в разные года. \n",
    "<p>1.3 Найти платформы <b>с наибольшими суммарными продажами.</b></p> \n",
    "<p>1.4 Определить <b>срок</b> за который <b>появляются</b> новые и <b>исчезают</b> старые платформы.</p>\n",
    "<p>1.5 Найти <b>актуальный период продаж</b> необходимый для для построения прогноза на 2017 год.</p>\n",
    "<p>1.6 Найти платформы <b>лидирующие по продажам.</b></p>    \n",
    "<p>1.7 Найти как <b>зависит продажи</b> в других странах мира <b>от платформы.</b></p>    \n",
    "<p>1.8 Определить как <b>отзывы</b> критиков и пользователей <b>влияют на продажи</b> игр внутри платформ.</p>   \n",
    "<p>1.9 Определить как <b>жанры влияют на продажи игр.</b></p>   \n",
    "<p><b> 2. Составить портрет пользователя.</b></p>    \n",
    "<p>2.2 Определить для пользователей в <b>Северной Америки, Европе, Японии.</b></p> \n",
    "<p>а) Топ-5 самых популярных платформ.</p>\n",
    "<p>б) Топ-5 самых популярных жанров.</p>\n",
    "<p>в) Влияет ли рейтинг ESRB на продажи.</p> \n",
    "<p><b> 3. Проверить гипотезы.</b></p> \n",
    "<p>3.1 Средние пользовательские рейтинги платформ Xbox One и PC одинаковые.</p>\n",
    "<p>3.2 Средние пользовательские рейтинги жанров Action и Sports разные.</p>"
   ]
  },
  {
   "cell_type": "markdown",
   "metadata": {},
   "source": [
    "<h1>Содержание<span class=\"tocSkip\"></span></h1>\n",
    "\n",
    "[1. Изучение данных из файла](#1)\n",
    "\n",
    "   - [Вывод](#1.2)\n",
    "\n",
    "[2. Обработка данных из файла](#2)\n",
    "\n",
    "[3. Зависимость между платформой на которой издается игра и числом продаж](#3)\n",
    "\n",
    "- [3.1 Определить сколько игр на платформе выпускалось в разные года](#3.1)\n",
    "\n",
    "- [3.2 Определить продажи на платформах](#3.2)\n",
    "\n",
    "- [3.3 Определить срок за который появляются новые и исчезают старые платформы](#3.3)\n",
    "\n",
    "- [3.4 Найти актуальный период продаж необходимый для для построения прогноза на 2017 год](#3.4)\n",
    "\n",
    "- [3.5 Найти платформы лидирующие по продажам](#3.5)\n",
    "\n",
    "- [3.6 Определить как отзывы критиков и пользователей влияют на продажи игр внутри платформ](#3.6)\n",
    "\n",
    "- [3.7 Определить как жанры влияют на продажи игр](#3.7)\n",
    "\n",
    "- [3.8 Вывод](#3.8)\n",
    "\n",
    "[4.Портрет пользователя каждого региона](#4)\n",
    "\n",
    "- [4.1 Популярные платформы](#4.1)\n",
    "\n",
    "- [4.2 Популярные жанры](#4.2)\n",
    "\n",
    "- [4.3 Влияние рейтинга ESRB на продажи](#4.3)\n",
    "\n",
    "- [4.4 Вывод](#4.4)\n",
    "\n",
    "[5. Проверка гипотез](#5)\n",
    "\n",
    "[6. Общий вывод](#6)"
   ]
  },
  {
   "cell_type": "markdown",
   "metadata": {},
   "source": [
    "## 1. Изучение данных из файла <a class=\"anchor\" id=\"1\"></a>"
   ]
  },
  {
   "cell_type": "code",
   "execution_count": 2,
   "metadata": {},
   "outputs": [],
   "source": [
    "# Импортируем библиотеки необходимые для работы\n",
    "import pandas as pd\n",
    "import numpy as np\n",
    "import matplotlib.pyplot as plt\n",
    "import seaborn as sns\n",
    "import pylab\n",
    "from scipy import stats as st"
   ]
  },
  {
   "cell_type": "code",
   "execution_count": 3,
   "metadata": {},
   "outputs": [],
   "source": [
    "# создадим DataFrame\n",
    "df = pd.read_csv(\"/datasets/games.csv\")"
   ]
  },
  {
   "cell_type": "code",
   "execution_count": 4,
   "metadata": {
    "scrolled": true
   },
   "outputs": [
    {
     "data": {
      "text/html": [
       "<div>\n",
       "<style scoped>\n",
       "    .dataframe tbody tr th:only-of-type {\n",
       "        vertical-align: middle;\n",
       "    }\n",
       "\n",
       "    .dataframe tbody tr th {\n",
       "        vertical-align: top;\n",
       "    }\n",
       "\n",
       "    .dataframe thead th {\n",
       "        text-align: right;\n",
       "    }\n",
       "</style>\n",
       "<table border=\"1\" class=\"dataframe\">\n",
       "  <thead>\n",
       "    <tr style=\"text-align: right;\">\n",
       "      <th></th>\n",
       "      <th>Name</th>\n",
       "      <th>Platform</th>\n",
       "      <th>Year_of_Release</th>\n",
       "      <th>Genre</th>\n",
       "      <th>NA_sales</th>\n",
       "      <th>EU_sales</th>\n",
       "      <th>JP_sales</th>\n",
       "      <th>Other_sales</th>\n",
       "      <th>Critic_Score</th>\n",
       "      <th>User_Score</th>\n",
       "      <th>Rating</th>\n",
       "    </tr>\n",
       "  </thead>\n",
       "  <tbody>\n",
       "    <tr>\n",
       "      <th>0</th>\n",
       "      <td>Wii Sports</td>\n",
       "      <td>Wii</td>\n",
       "      <td>2006.0</td>\n",
       "      <td>Sports</td>\n",
       "      <td>41.36</td>\n",
       "      <td>28.96</td>\n",
       "      <td>3.77</td>\n",
       "      <td>8.45</td>\n",
       "      <td>76.0</td>\n",
       "      <td>8</td>\n",
       "      <td>E</td>\n",
       "    </tr>\n",
       "    <tr>\n",
       "      <th>1</th>\n",
       "      <td>Super Mario Bros.</td>\n",
       "      <td>NES</td>\n",
       "      <td>1985.0</td>\n",
       "      <td>Platform</td>\n",
       "      <td>29.08</td>\n",
       "      <td>3.58</td>\n",
       "      <td>6.81</td>\n",
       "      <td>0.77</td>\n",
       "      <td>NaN</td>\n",
       "      <td>NaN</td>\n",
       "      <td>NaN</td>\n",
       "    </tr>\n",
       "    <tr>\n",
       "      <th>2</th>\n",
       "      <td>Mario Kart Wii</td>\n",
       "      <td>Wii</td>\n",
       "      <td>2008.0</td>\n",
       "      <td>Racing</td>\n",
       "      <td>15.68</td>\n",
       "      <td>12.76</td>\n",
       "      <td>3.79</td>\n",
       "      <td>3.29</td>\n",
       "      <td>82.0</td>\n",
       "      <td>8.3</td>\n",
       "      <td>E</td>\n",
       "    </tr>\n",
       "    <tr>\n",
       "      <th>3</th>\n",
       "      <td>Wii Sports Resort</td>\n",
       "      <td>Wii</td>\n",
       "      <td>2009.0</td>\n",
       "      <td>Sports</td>\n",
       "      <td>15.61</td>\n",
       "      <td>10.93</td>\n",
       "      <td>3.28</td>\n",
       "      <td>2.95</td>\n",
       "      <td>80.0</td>\n",
       "      <td>8</td>\n",
       "      <td>E</td>\n",
       "    </tr>\n",
       "    <tr>\n",
       "      <th>4</th>\n",
       "      <td>Pokemon Red/Pokemon Blue</td>\n",
       "      <td>GB</td>\n",
       "      <td>1996.0</td>\n",
       "      <td>Role-Playing</td>\n",
       "      <td>11.27</td>\n",
       "      <td>8.89</td>\n",
       "      <td>10.22</td>\n",
       "      <td>1.00</td>\n",
       "      <td>NaN</td>\n",
       "      <td>NaN</td>\n",
       "      <td>NaN</td>\n",
       "    </tr>\n",
       "  </tbody>\n",
       "</table>\n",
       "</div>"
      ],
      "text/plain": [
       "                       Name Platform  Year_of_Release         Genre  NA_sales  \\\n",
       "0                Wii Sports      Wii           2006.0        Sports     41.36   \n",
       "1         Super Mario Bros.      NES           1985.0      Platform     29.08   \n",
       "2            Mario Kart Wii      Wii           2008.0        Racing     15.68   \n",
       "3         Wii Sports Resort      Wii           2009.0        Sports     15.61   \n",
       "4  Pokemon Red/Pokemon Blue       GB           1996.0  Role-Playing     11.27   \n",
       "\n",
       "   EU_sales  JP_sales  Other_sales  Critic_Score User_Score Rating  \n",
       "0     28.96      3.77         8.45          76.0          8      E  \n",
       "1      3.58      6.81         0.77           NaN        NaN    NaN  \n",
       "2     12.76      3.79         3.29          82.0        8.3      E  \n",
       "3     10.93      3.28         2.95          80.0          8      E  \n",
       "4      8.89     10.22         1.00           NaN        NaN    NaN  "
      ]
     },
     "execution_count": 4,
     "metadata": {},
     "output_type": "execute_result"
    }
   ],
   "source": [
    "# выведем первые 5 строчек на экран\n",
    "df.head(5)"
   ]
  },
  {
   "cell_type": "code",
   "execution_count": 5,
   "metadata": {},
   "outputs": [
    {
     "name": "stdout",
     "output_type": "stream",
     "text": [
      "<class 'pandas.core.frame.DataFrame'>\n",
      "RangeIndex: 16715 entries, 0 to 16714\n",
      "Data columns (total 11 columns):\n",
      " #   Column           Non-Null Count  Dtype  \n",
      "---  ------           --------------  -----  \n",
      " 0   Name             16713 non-null  object \n",
      " 1   Platform         16715 non-null  object \n",
      " 2   Year_of_Release  16446 non-null  float64\n",
      " 3   Genre            16713 non-null  object \n",
      " 4   NA_sales         16715 non-null  float64\n",
      " 5   EU_sales         16715 non-null  float64\n",
      " 6   JP_sales         16715 non-null  float64\n",
      " 7   Other_sales      16715 non-null  float64\n",
      " 8   Critic_Score     8137 non-null   float64\n",
      " 9   User_Score       10014 non-null  object \n",
      " 10  Rating           9949 non-null   object \n",
      "dtypes: float64(6), object(5)\n",
      "memory usage: 1.4+ MB\n"
     ]
    }
   ],
   "source": [
    "# выведем информацию о таблице\n",
    "df.info()"
   ]
  },
  {
   "cell_type": "code",
   "execution_count": 6,
   "metadata": {},
   "outputs": [
    {
     "data": {
      "text/plain": [
       "Name               11559\n",
       "Platform              31\n",
       "Year_of_Release       37\n",
       "Genre                 12\n",
       "NA_sales             402\n",
       "EU_sales             307\n",
       "JP_sales             244\n",
       "Other_sales          155\n",
       "Critic_Score          82\n",
       "User_Score            96\n",
       "Rating                 8\n",
       "dtype: int64"
      ]
     },
     "execution_count": 6,
     "metadata": {},
     "output_type": "execute_result"
    }
   ],
   "source": [
    "# Проверю уникальные значения\n",
    "df.nunique()"
   ]
  },
  {
   "cell_type": "code",
   "execution_count": 7,
   "metadata": {},
   "outputs": [
    {
     "data": {
      "text/plain": [
       "0"
      ]
     },
     "execution_count": 7,
     "metadata": {},
     "output_type": "execute_result"
    }
   ],
   "source": [
    "# Проверю дубликаты\n",
    "df.duplicated().sum()"
   ]
  },
  {
   "cell_type": "code",
   "execution_count": 8,
   "metadata": {
    "scrolled": true
   },
   "outputs": [
    {
     "data": {
      "text/plain": [
       "Name                  2\n",
       "Platform              0\n",
       "Year_of_Release     269\n",
       "Genre                 2\n",
       "NA_sales              0\n",
       "EU_sales              0\n",
       "JP_sales              0\n",
       "Other_sales           0\n",
       "Critic_Score       8578\n",
       "User_Score         6701\n",
       "Rating             6766\n",
       "dtype: int64"
      ]
     },
     "execution_count": 8,
     "metadata": {},
     "output_type": "execute_result"
    }
   ],
   "source": [
    "# Проверю пропущенные значения\n",
    "df.isna().sum()"
   ]
  },
  {
   "cell_type": "code",
   "execution_count": 9,
   "metadata": {},
   "outputs": [
    {
     "name": "stdout",
     "output_type": "stream",
     "text": [
      "Начало: 1980.0\n",
      "Конец: 2016.0\n"
     ]
    }
   ],
   "source": [
    "# посмотрим за какое время представлены игры\n",
    "print(\"Начало:\", df[\"Year_of_Release\"].min())\n",
    "print(\"Конец:\", df[\"Year_of_Release\"].max())"
   ]
  },
  {
   "cell_type": "markdown",
   "metadata": {},
   "source": [
    "### Вывод:<a class=\"anchor\" id=\"1.2\"></a>"
   ]
  },
  {
   "cell_type": "markdown",
   "metadata": {},
   "source": [
    "Заголовки столбцов требуют изменения регистра на нижний. \n",
    "\n",
    "В таблице присутствую данные о 11559 игр (о двух игр нет названия) которые были изданы на 31 платформе.\n",
    "\n",
    "В таблице присутствует данные о 12 жанрах (2 жанра не определены) \n",
    "\n",
    "В таблице 8578 игр не имеют отзывов критиков, 6701 игр не имеют отзывов пользователей, 6766 не имеют оценки ESRB.\n",
    "\n",
    "В таблице Year_of_Release тип данных требует изменения либо на тип Data либо, на int. \n",
    "\n",
    "В таблице User_Score тип изменить на float."
   ]
  },
  {
   "cell_type": "markdown",
   "metadata": {},
   "source": [
    "## 2.  Обработка данных из файла <a class=\"anchor\" id=\"2\"></a>"
   ]
  },
  {
   "cell_type": "code",
   "execution_count": 10,
   "metadata": {},
   "outputs": [],
   "source": [
    "# изменим регистр в названии столбцов\n",
    "df.columns = df.columns.str.lower()"
   ]
  },
  {
   "cell_type": "code",
   "execution_count": 11,
   "metadata": {},
   "outputs": [
    {
     "data": {
      "text/html": [
       "<div>\n",
       "<style scoped>\n",
       "    .dataframe tbody tr th:only-of-type {\n",
       "        vertical-align: middle;\n",
       "    }\n",
       "\n",
       "    .dataframe tbody tr th {\n",
       "        vertical-align: top;\n",
       "    }\n",
       "\n",
       "    .dataframe thead th {\n",
       "        text-align: right;\n",
       "    }\n",
       "</style>\n",
       "<table border=\"1\" class=\"dataframe\">\n",
       "  <thead>\n",
       "    <tr style=\"text-align: right;\">\n",
       "      <th></th>\n",
       "      <th>name</th>\n",
       "      <th>platform</th>\n",
       "      <th>year_of_release</th>\n",
       "      <th>genre</th>\n",
       "      <th>na_sales</th>\n",
       "      <th>eu_sales</th>\n",
       "      <th>jp_sales</th>\n",
       "      <th>other_sales</th>\n",
       "      <th>critic_score</th>\n",
       "      <th>user_score</th>\n",
       "      <th>rating</th>\n",
       "    </tr>\n",
       "  </thead>\n",
       "  <tbody>\n",
       "    <tr>\n",
       "      <th>659</th>\n",
       "      <td>NaN</td>\n",
       "      <td>GEN</td>\n",
       "      <td>1993.0</td>\n",
       "      <td>NaN</td>\n",
       "      <td>1.78</td>\n",
       "      <td>0.53</td>\n",
       "      <td>0.00</td>\n",
       "      <td>0.08</td>\n",
       "      <td>NaN</td>\n",
       "      <td>NaN</td>\n",
       "      <td>NaN</td>\n",
       "    </tr>\n",
       "    <tr>\n",
       "      <th>14244</th>\n",
       "      <td>NaN</td>\n",
       "      <td>GEN</td>\n",
       "      <td>1993.0</td>\n",
       "      <td>NaN</td>\n",
       "      <td>0.00</td>\n",
       "      <td>0.00</td>\n",
       "      <td>0.03</td>\n",
       "      <td>0.00</td>\n",
       "      <td>NaN</td>\n",
       "      <td>NaN</td>\n",
       "      <td>NaN</td>\n",
       "    </tr>\n",
       "  </tbody>\n",
       "</table>\n",
       "</div>"
      ],
      "text/plain": [
       "      name platform  year_of_release genre  na_sales  eu_sales  jp_sales  \\\n",
       "659    NaN      GEN           1993.0   NaN      1.78      0.53      0.00   \n",
       "14244  NaN      GEN           1993.0   NaN      0.00      0.00      0.03   \n",
       "\n",
       "       other_sales  critic_score user_score rating  \n",
       "659           0.08           NaN        NaN    NaN  \n",
       "14244         0.00           NaN        NaN    NaN  "
      ]
     },
     "execution_count": 11,
     "metadata": {},
     "output_type": "execute_result"
    }
   ],
   "source": [
    "# проверим столбцы где у игры нет названия\n",
    "df.loc[df[\"name\"].isna()]"
   ]
  },
  {
   "cell_type": "code",
   "execution_count": 12,
   "metadata": {
    "scrolled": true
   },
   "outputs": [
    {
     "data": {
      "text/plain": [
       "Need for Speed: Most Wanted                         12\n",
       "Ratatouille                                          9\n",
       "LEGO Marvel Super Heroes                             9\n",
       "FIFA 14                                              9\n",
       "Madden NFL 07                                        9\n",
       "                                                    ..\n",
       "Jewels of the Tropical Lost Island                   1\n",
       "Sherlock Holmes and the Mystery of Osborne House     1\n",
       "The King of Fighters '95 (CD)                        1\n",
       "Megamind: Mega Team Unite                            1\n",
       "Haitaka no Psychedelica                              1\n",
       "Name: name, Length: 11559, dtype: int64"
      ]
     },
     "execution_count": 12,
     "metadata": {},
     "output_type": "execute_result"
    }
   ],
   "source": [
    "df['name'].value_counts()"
   ]
  },
  {
   "cell_type": "code",
   "execution_count": 13,
   "metadata": {},
   "outputs": [
    {
     "data": {
      "text/html": [
       "<div>\n",
       "<style scoped>\n",
       "    .dataframe tbody tr th:only-of-type {\n",
       "        vertical-align: middle;\n",
       "    }\n",
       "\n",
       "    .dataframe tbody tr th {\n",
       "        vertical-align: top;\n",
       "    }\n",
       "\n",
       "    .dataframe thead th {\n",
       "        text-align: right;\n",
       "    }\n",
       "</style>\n",
       "<table border=\"1\" class=\"dataframe\">\n",
       "  <thead>\n",
       "    <tr style=\"text-align: right;\">\n",
       "      <th></th>\n",
       "      <th>name</th>\n",
       "      <th>platform</th>\n",
       "      <th>year_of_release</th>\n",
       "      <th>genre</th>\n",
       "      <th>na_sales</th>\n",
       "      <th>eu_sales</th>\n",
       "      <th>jp_sales</th>\n",
       "      <th>other_sales</th>\n",
       "      <th>critic_score</th>\n",
       "      <th>user_score</th>\n",
       "      <th>rating</th>\n",
       "    </tr>\n",
       "  </thead>\n",
       "  <tbody>\n",
       "    <tr>\n",
       "      <th>253</th>\n",
       "      <td>Need for Speed: Most Wanted</td>\n",
       "      <td>PS2</td>\n",
       "      <td>2005.0</td>\n",
       "      <td>Racing</td>\n",
       "      <td>2.03</td>\n",
       "      <td>1.79</td>\n",
       "      <td>0.08</td>\n",
       "      <td>0.47</td>\n",
       "      <td>82.0</td>\n",
       "      <td>9.1</td>\n",
       "      <td>T</td>\n",
       "    </tr>\n",
       "    <tr>\n",
       "      <th>523</th>\n",
       "      <td>Need for Speed: Most Wanted</td>\n",
       "      <td>PS3</td>\n",
       "      <td>2012.0</td>\n",
       "      <td>Racing</td>\n",
       "      <td>0.71</td>\n",
       "      <td>1.46</td>\n",
       "      <td>0.06</td>\n",
       "      <td>0.58</td>\n",
       "      <td>NaN</td>\n",
       "      <td>NaN</td>\n",
       "      <td>NaN</td>\n",
       "    </tr>\n",
       "    <tr>\n",
       "      <th>1190</th>\n",
       "      <td>Need for Speed: Most Wanted</td>\n",
       "      <td>X360</td>\n",
       "      <td>2012.0</td>\n",
       "      <td>Racing</td>\n",
       "      <td>0.62</td>\n",
       "      <td>0.78</td>\n",
       "      <td>0.01</td>\n",
       "      <td>0.15</td>\n",
       "      <td>83.0</td>\n",
       "      <td>8.5</td>\n",
       "      <td>T</td>\n",
       "    </tr>\n",
       "    <tr>\n",
       "      <th>1591</th>\n",
       "      <td>Need for Speed: Most Wanted</td>\n",
       "      <td>X360</td>\n",
       "      <td>2005.0</td>\n",
       "      <td>Racing</td>\n",
       "      <td>1.00</td>\n",
       "      <td>0.13</td>\n",
       "      <td>0.02</td>\n",
       "      <td>0.10</td>\n",
       "      <td>83.0</td>\n",
       "      <td>8.5</td>\n",
       "      <td>T</td>\n",
       "    </tr>\n",
       "    <tr>\n",
       "      <th>1998</th>\n",
       "      <td>Need for Speed: Most Wanted</td>\n",
       "      <td>XB</td>\n",
       "      <td>2005.0</td>\n",
       "      <td>Racing</td>\n",
       "      <td>0.53</td>\n",
       "      <td>0.46</td>\n",
       "      <td>0.00</td>\n",
       "      <td>0.05</td>\n",
       "      <td>83.0</td>\n",
       "      <td>8.8</td>\n",
       "      <td>T</td>\n",
       "    </tr>\n",
       "    <tr>\n",
       "      <th>2048</th>\n",
       "      <td>Need for Speed: Most Wanted</td>\n",
       "      <td>PSV</td>\n",
       "      <td>2012.0</td>\n",
       "      <td>Racing</td>\n",
       "      <td>0.33</td>\n",
       "      <td>0.45</td>\n",
       "      <td>0.01</td>\n",
       "      <td>0.22</td>\n",
       "      <td>NaN</td>\n",
       "      <td>NaN</td>\n",
       "      <td>NaN</td>\n",
       "    </tr>\n",
       "    <tr>\n",
       "      <th>3581</th>\n",
       "      <td>Need for Speed: Most Wanted</td>\n",
       "      <td>GC</td>\n",
       "      <td>2005.0</td>\n",
       "      <td>Racing</td>\n",
       "      <td>0.43</td>\n",
       "      <td>0.11</td>\n",
       "      <td>0.00</td>\n",
       "      <td>0.02</td>\n",
       "      <td>80.0</td>\n",
       "      <td>9.1</td>\n",
       "      <td>T</td>\n",
       "    </tr>\n",
       "    <tr>\n",
       "      <th>5972</th>\n",
       "      <td>Need for Speed: Most Wanted</td>\n",
       "      <td>PC</td>\n",
       "      <td>2005.0</td>\n",
       "      <td>Racing</td>\n",
       "      <td>0.02</td>\n",
       "      <td>0.23</td>\n",
       "      <td>0.00</td>\n",
       "      <td>0.04</td>\n",
       "      <td>82.0</td>\n",
       "      <td>8.5</td>\n",
       "      <td>T</td>\n",
       "    </tr>\n",
       "    <tr>\n",
       "      <th>6273</th>\n",
       "      <td>Need for Speed: Most Wanted</td>\n",
       "      <td>WiiU</td>\n",
       "      <td>2013.0</td>\n",
       "      <td>Racing</td>\n",
       "      <td>0.13</td>\n",
       "      <td>0.12</td>\n",
       "      <td>0.00</td>\n",
       "      <td>0.02</td>\n",
       "      <td>NaN</td>\n",
       "      <td>NaN</td>\n",
       "      <td>NaN</td>\n",
       "    </tr>\n",
       "    <tr>\n",
       "      <th>6410</th>\n",
       "      <td>Need for Speed: Most Wanted</td>\n",
       "      <td>DS</td>\n",
       "      <td>2005.0</td>\n",
       "      <td>Racing</td>\n",
       "      <td>0.24</td>\n",
       "      <td>0.01</td>\n",
       "      <td>0.00</td>\n",
       "      <td>0.02</td>\n",
       "      <td>45.0</td>\n",
       "      <td>6.1</td>\n",
       "      <td>E</td>\n",
       "    </tr>\n",
       "    <tr>\n",
       "      <th>6473</th>\n",
       "      <td>Need for Speed: Most Wanted</td>\n",
       "      <td>GBA</td>\n",
       "      <td>2005.0</td>\n",
       "      <td>Racing</td>\n",
       "      <td>0.19</td>\n",
       "      <td>0.07</td>\n",
       "      <td>0.00</td>\n",
       "      <td>0.00</td>\n",
       "      <td>NaN</td>\n",
       "      <td>8.3</td>\n",
       "      <td>E</td>\n",
       "    </tr>\n",
       "    <tr>\n",
       "      <th>11715</th>\n",
       "      <td>Need for Speed: Most Wanted</td>\n",
       "      <td>PC</td>\n",
       "      <td>2012.0</td>\n",
       "      <td>Racing</td>\n",
       "      <td>0.00</td>\n",
       "      <td>0.06</td>\n",
       "      <td>0.00</td>\n",
       "      <td>0.02</td>\n",
       "      <td>82.0</td>\n",
       "      <td>8.5</td>\n",
       "      <td>T</td>\n",
       "    </tr>\n",
       "  </tbody>\n",
       "</table>\n",
       "</div>"
      ],
      "text/plain": [
       "                              name platform  year_of_release   genre  \\\n",
       "253    Need for Speed: Most Wanted      PS2           2005.0  Racing   \n",
       "523    Need for Speed: Most Wanted      PS3           2012.0  Racing   \n",
       "1190   Need for Speed: Most Wanted     X360           2012.0  Racing   \n",
       "1591   Need for Speed: Most Wanted     X360           2005.0  Racing   \n",
       "1998   Need for Speed: Most Wanted       XB           2005.0  Racing   \n",
       "2048   Need for Speed: Most Wanted      PSV           2012.0  Racing   \n",
       "3581   Need for Speed: Most Wanted       GC           2005.0  Racing   \n",
       "5972   Need for Speed: Most Wanted       PC           2005.0  Racing   \n",
       "6273   Need for Speed: Most Wanted     WiiU           2013.0  Racing   \n",
       "6410   Need for Speed: Most Wanted       DS           2005.0  Racing   \n",
       "6473   Need for Speed: Most Wanted      GBA           2005.0  Racing   \n",
       "11715  Need for Speed: Most Wanted       PC           2012.0  Racing   \n",
       "\n",
       "       na_sales  eu_sales  jp_sales  other_sales  critic_score user_score  \\\n",
       "253        2.03      1.79      0.08         0.47          82.0        9.1   \n",
       "523        0.71      1.46      0.06         0.58           NaN        NaN   \n",
       "1190       0.62      0.78      0.01         0.15          83.0        8.5   \n",
       "1591       1.00      0.13      0.02         0.10          83.0        8.5   \n",
       "1998       0.53      0.46      0.00         0.05          83.0        8.8   \n",
       "2048       0.33      0.45      0.01         0.22           NaN        NaN   \n",
       "3581       0.43      0.11      0.00         0.02          80.0        9.1   \n",
       "5972       0.02      0.23      0.00         0.04          82.0        8.5   \n",
       "6273       0.13      0.12      0.00         0.02           NaN        NaN   \n",
       "6410       0.24      0.01      0.00         0.02          45.0        6.1   \n",
       "6473       0.19      0.07      0.00         0.00           NaN        8.3   \n",
       "11715      0.00      0.06      0.00         0.02          82.0        8.5   \n",
       "\n",
       "      rating  \n",
       "253        T  \n",
       "523      NaN  \n",
       "1190       T  \n",
       "1591       T  \n",
       "1998       T  \n",
       "2048     NaN  \n",
       "3581       T  \n",
       "5972       T  \n",
       "6273     NaN  \n",
       "6410       E  \n",
       "6473       E  \n",
       "11715      T  "
      ]
     },
     "execution_count": 13,
     "metadata": {},
     "output_type": "execute_result"
    }
   ],
   "source": [
    "df.loc[df['name'] == 'Need for Speed: Most Wanted']"
   ]
  },
  {
   "cell_type": "code",
   "execution_count": 14,
   "metadata": {
    "code_folding": []
   },
   "outputs": [],
   "source": [
    "# удаление пропущенных значений\n",
    "df = df.dropna(axis=\"index\", how=\"any\", subset=[\"name\"])"
   ]
  },
  {
   "cell_type": "markdown",
   "metadata": {},
   "source": [
    "В столбце  **rating** значения **tbd** расшифровывается как ***to be determined***, ***to be done***. То есть, данные были специально не заполнены. Заменю tbd на Nan"
   ]
  },
  {
   "cell_type": "code",
   "execution_count": 15,
   "metadata": {},
   "outputs": [],
   "source": [
    "df[\"user_score\"] = df[\"user_score\"].replace(\"tbd\", np.nan, regex=True)"
   ]
  },
  {
   "cell_type": "code",
   "execution_count": 16,
   "metadata": {
    "scrolled": true
   },
   "outputs": [],
   "source": [
    "# изменим тип данных в столбце year_of_release на int а user_score на float\n",
    "df[\"user_score\"] = df[\"user_score\"].astype(\"float64\")"
   ]
  },
  {
   "cell_type": "markdown",
   "metadata": {},
   "source": [
    "<div class=\"alert alert-info\"> <b>Комментарий студента:</b> \n",
    "    \n",
    "Спасибо за подсказку!</div>"
   ]
  },
  {
   "cell_type": "markdown",
   "metadata": {},
   "source": [
    "Посмотрим на пропущенные значения в столбце **year_of_release**. Посмотрим на эти пропущенные значения, есть ли какие-то аномалии, случайны ли эти пропуски или это ошибки. Посмотрим как зависят пропущенные значения от платформы и от жанра."
   ]
  },
  {
   "cell_type": "code",
   "execution_count": 17,
   "metadata": {
    "scrolled": true
   },
   "outputs": [
    {
     "data": {
      "text/html": [
       "<div>\n",
       "<style scoped>\n",
       "    .dataframe tbody tr th:only-of-type {\n",
       "        vertical-align: middle;\n",
       "    }\n",
       "\n",
       "    .dataframe tbody tr th {\n",
       "        vertical-align: top;\n",
       "    }\n",
       "\n",
       "    .dataframe thead th {\n",
       "        text-align: right;\n",
       "    }\n",
       "</style>\n",
       "<table border=\"1\" class=\"dataframe\">\n",
       "  <thead>\n",
       "    <tr style=\"text-align: right;\">\n",
       "      <th></th>\n",
       "      <th>name</th>\n",
       "      <th>platform</th>\n",
       "      <th>year_of_release</th>\n",
       "      <th>genre</th>\n",
       "      <th>na_sales</th>\n",
       "      <th>eu_sales</th>\n",
       "      <th>jp_sales</th>\n",
       "      <th>other_sales</th>\n",
       "      <th>critic_score</th>\n",
       "      <th>user_score</th>\n",
       "      <th>rating</th>\n",
       "    </tr>\n",
       "  </thead>\n",
       "  <tbody>\n",
       "    <tr>\n",
       "      <th>183</th>\n",
       "      <td>Madden NFL 2004</td>\n",
       "      <td>PS2</td>\n",
       "      <td>NaN</td>\n",
       "      <td>Sports</td>\n",
       "      <td>4.26</td>\n",
       "      <td>0.26</td>\n",
       "      <td>0.01</td>\n",
       "      <td>0.71</td>\n",
       "      <td>94.0</td>\n",
       "      <td>8.5</td>\n",
       "      <td>E</td>\n",
       "    </tr>\n",
       "    <tr>\n",
       "      <th>377</th>\n",
       "      <td>FIFA Soccer 2004</td>\n",
       "      <td>PS2</td>\n",
       "      <td>NaN</td>\n",
       "      <td>Sports</td>\n",
       "      <td>0.59</td>\n",
       "      <td>2.36</td>\n",
       "      <td>0.04</td>\n",
       "      <td>0.51</td>\n",
       "      <td>84.0</td>\n",
       "      <td>6.4</td>\n",
       "      <td>E</td>\n",
       "    </tr>\n",
       "    <tr>\n",
       "      <th>456</th>\n",
       "      <td>LEGO Batman: The Videogame</td>\n",
       "      <td>Wii</td>\n",
       "      <td>NaN</td>\n",
       "      <td>Action</td>\n",
       "      <td>1.80</td>\n",
       "      <td>0.97</td>\n",
       "      <td>0.00</td>\n",
       "      <td>0.29</td>\n",
       "      <td>74.0</td>\n",
       "      <td>7.9</td>\n",
       "      <td>E10+</td>\n",
       "    </tr>\n",
       "    <tr>\n",
       "      <th>475</th>\n",
       "      <td>wwe Smackdown vs. Raw 2006</td>\n",
       "      <td>PS2</td>\n",
       "      <td>NaN</td>\n",
       "      <td>Fighting</td>\n",
       "      <td>1.57</td>\n",
       "      <td>1.02</td>\n",
       "      <td>0.00</td>\n",
       "      <td>0.41</td>\n",
       "      <td>NaN</td>\n",
       "      <td>NaN</td>\n",
       "      <td>NaN</td>\n",
       "    </tr>\n",
       "    <tr>\n",
       "      <th>609</th>\n",
       "      <td>Space Invaders</td>\n",
       "      <td>2600</td>\n",
       "      <td>NaN</td>\n",
       "      <td>Shooter</td>\n",
       "      <td>2.36</td>\n",
       "      <td>0.14</td>\n",
       "      <td>0.00</td>\n",
       "      <td>0.03</td>\n",
       "      <td>NaN</td>\n",
       "      <td>NaN</td>\n",
       "      <td>NaN</td>\n",
       "    </tr>\n",
       "  </tbody>\n",
       "</table>\n",
       "</div>"
      ],
      "text/plain": [
       "                           name platform  year_of_release     genre  na_sales  \\\n",
       "183             Madden NFL 2004      PS2              NaN    Sports      4.26   \n",
       "377            FIFA Soccer 2004      PS2              NaN    Sports      0.59   \n",
       "456  LEGO Batman: The Videogame      Wii              NaN    Action      1.80   \n",
       "475  wwe Smackdown vs. Raw 2006      PS2              NaN  Fighting      1.57   \n",
       "609              Space Invaders     2600              NaN   Shooter      2.36   \n",
       "\n",
       "     eu_sales  jp_sales  other_sales  critic_score  user_score rating  \n",
       "183      0.26      0.01         0.71          94.0         8.5      E  \n",
       "377      2.36      0.04         0.51          84.0         6.4      E  \n",
       "456      0.97      0.00         0.29          74.0         7.9   E10+  \n",
       "475      1.02      0.00         0.41           NaN         NaN    NaN  \n",
       "609      0.14      0.00         0.03           NaN         NaN    NaN  "
      ]
     },
     "execution_count": 17,
     "metadata": {},
     "output_type": "execute_result"
    }
   ],
   "source": [
    "df.loc[df[\"year_of_release\"].isna()].head(5)"
   ]
  },
  {
   "cell_type": "code",
   "execution_count": 18,
   "metadata": {},
   "outputs": [
    {
     "data": {
      "text/plain": [
       "genre\n",
       "Action          62\n",
       "Sports          42\n",
       "Misc            29\n",
       "Shooter         27\n",
       "Racing          23\n",
       "Role-Playing    17\n",
       "Simulation      16\n",
       "Fighting        12\n",
       "Puzzle          11\n",
       "Adventure       10\n",
       "Platform        10\n",
       "Strategy        10\n",
       "Name: platform, dtype: int64"
      ]
     },
     "execution_count": 18,
     "metadata": {},
     "output_type": "execute_result"
    }
   ],
   "source": [
    "# сначала посмотрим на колличество пропущенных значений по жанрам\n",
    "df.loc[df[\"year_of_release\"].isna()].groupby(\"genre\")[\"platform\"].count().sort_values(ascending=False)\n"
   ]
  },
  {
   "cell_type": "markdown",
   "metadata": {},
   "source": [
    "Проверим теперь пропущенные значения в столбце year_of_release Посмотрим что это за пропущенные значения, есть ли какие-то аномалии, случайны ли эти пропуски или это ошибки. Для этого построим зависимость пропущенных значений от платформы и от жанра."
   ]
  },
  {
   "cell_type": "code",
   "execution_count": 19,
   "metadata": {},
   "outputs": [
    {
     "data": {
      "text/plain": [
       "platform\n",
       "PS2     34\n",
       "Wii     34\n",
       "DS      30\n",
       "X360    30\n",
       "PS3     25\n",
       "XB      21\n",
       "2600    17\n",
       "PC      17\n",
       "PSP     16\n",
       "GC      14\n",
       "GBA     11\n",
       "3DS      8\n",
       "PS       7\n",
       "N64      3\n",
       "GB       1\n",
       "PSV      1\n",
       "Name: genre, dtype: int64"
      ]
     },
     "execution_count": 19,
     "metadata": {},
     "output_type": "execute_result"
    }
   ],
   "source": [
    "# посмотрим на колличество пропущенных значений по платформам\n",
    "df.loc[df[\"year_of_release\"].isna()].groupby(\"platform\")[\"genre\"].count().sort_values(\n",
    "    ascending=False\n",
    ")"
   ]
  },
  {
   "cell_type": "markdown",
   "metadata": {},
   "source": [
    "Из таблиц видно, что колличество пропущенных значений в столбце year_of_release, случайно выбросов нет. Скорее всего это ошибка в программе при заполнении данных. В место пустых значений можно поставить дату релиза игры на другой игровой платформе. Но тут есть вариант что игра выпущенная на отдной платформе только черз пол года может быть выпущена на другой платформе, а если это будет уже другой год. Поэтому пропущенные значения я трогать не стал."
   ]
  },
  {
   "cell_type": "markdown",
   "metadata": {},
   "source": [
    "Посмотрим на значения пропущенные в столбце critic_score и проверим гипотезу что пропущенные значения зависят от года выпуска игры."
   ]
  },
  {
   "cell_type": "code",
   "execution_count": 20,
   "metadata": {
    "scrolled": true
   },
   "outputs": [
    {
     "name": "stdout",
     "output_type": "stream",
     "text": [
      "<class 'pandas.core.frame.DataFrame'>\n",
      "Int64Index: 16713 entries, 0 to 16714\n",
      "Data columns (total 11 columns):\n",
      " #   Column           Non-Null Count  Dtype  \n",
      "---  ------           --------------  -----  \n",
      " 0   name             16713 non-null  object \n",
      " 1   platform         16713 non-null  object \n",
      " 2   year_of_release  16444 non-null  float64\n",
      " 3   genre            16713 non-null  object \n",
      " 4   na_sales         16713 non-null  float64\n",
      " 5   eu_sales         16713 non-null  float64\n",
      " 6   jp_sales         16713 non-null  float64\n",
      " 7   other_sales      16713 non-null  float64\n",
      " 8   critic_score     8137 non-null   float64\n",
      " 9   user_score       7590 non-null   float64\n",
      " 10  rating           9949 non-null   object \n",
      "dtypes: float64(7), object(4)\n",
      "memory usage: 1.5+ MB\n"
     ]
    }
   ],
   "source": [
    "df.info()"
   ]
  },
  {
   "cell_type": "code",
   "execution_count": 21,
   "metadata": {},
   "outputs": [
    {
     "data": {
      "image/png": "[encoded data removed]",
      "text/plain": [
       "<Figure size 864x432 with 1 Axes>"
      ]
     },
     "metadata": {
      "needs_background": "light"
     },
     "output_type": "display_data"
    }
   ],
   "source": [
    "# построим график\n",
    "plt.figure(figsize=(12, 6))\n",
    "plt.scatter(df[\"critic_score\"], df[\"year_of_release\"])\n",
    "plt.title(\"Зависимость оценок критиков от года выпуска игры\")\n",
    "plt.xlabel(\"Оценка критиков\")\n",
    "plt.ylabel(\"Год выпуска игры\")\n",
    "plt.grid()\n",
    "plt.show()"
   ]
  },
  {
   "cell_type": "markdown",
   "metadata": {},
   "source": [
    "Из графика видно что критики начали выставлять оценки только после 1995, посмотрим на игры которые получили оценки критиков."
   ]
  },
  {
   "cell_type": "code",
   "execution_count": 22,
   "metadata": {},
   "outputs": [
    {
     "data": {
      "text/html": [
       "<div>\n",
       "<style scoped>\n",
       "    .dataframe tbody tr th:only-of-type {\n",
       "        vertical-align: middle;\n",
       "    }\n",
       "\n",
       "    .dataframe tbody tr th {\n",
       "        vertical-align: top;\n",
       "    }\n",
       "\n",
       "    .dataframe thead th {\n",
       "        text-align: right;\n",
       "    }\n",
       "</style>\n",
       "<table border=\"1\" class=\"dataframe\">\n",
       "  <thead>\n",
       "    <tr style=\"text-align: right;\">\n",
       "      <th></th>\n",
       "      <th>name</th>\n",
       "      <th>platform</th>\n",
       "      <th>year_of_release</th>\n",
       "      <th>genre</th>\n",
       "      <th>na_sales</th>\n",
       "      <th>eu_sales</th>\n",
       "      <th>jp_sales</th>\n",
       "      <th>other_sales</th>\n",
       "      <th>critic_score</th>\n",
       "      <th>user_score</th>\n",
       "      <th>rating</th>\n",
       "    </tr>\n",
       "  </thead>\n",
       "  <tbody>\n",
       "    <tr>\n",
       "      <th>1567</th>\n",
       "      <td>Battle Arena Toshinden</td>\n",
       "      <td>PS</td>\n",
       "      <td>1994.0</td>\n",
       "      <td>Fighting</td>\n",
       "      <td>0.39</td>\n",
       "      <td>0.26</td>\n",
       "      <td>0.53</td>\n",
       "      <td>0.08</td>\n",
       "      <td>69.0</td>\n",
       "      <td>6.3</td>\n",
       "      <td>T</td>\n",
       "    </tr>\n",
       "    <tr>\n",
       "      <th>14470</th>\n",
       "      <td>Alter Ego</td>\n",
       "      <td>PC</td>\n",
       "      <td>1985.0</td>\n",
       "      <td>Simulation</td>\n",
       "      <td>0.00</td>\n",
       "      <td>0.03</td>\n",
       "      <td>0.00</td>\n",
       "      <td>0.01</td>\n",
       "      <td>59.0</td>\n",
       "      <td>5.8</td>\n",
       "      <td>T</td>\n",
       "    </tr>\n",
       "    <tr>\n",
       "      <th>14610</th>\n",
       "      <td>Doom</td>\n",
       "      <td>PC</td>\n",
       "      <td>1992.0</td>\n",
       "      <td>Shooter</td>\n",
       "      <td>0.02</td>\n",
       "      <td>0.00</td>\n",
       "      <td>0.00</td>\n",
       "      <td>0.00</td>\n",
       "      <td>85.0</td>\n",
       "      <td>8.2</td>\n",
       "      <td>M</td>\n",
       "    </tr>\n",
       "    <tr>\n",
       "      <th>14621</th>\n",
       "      <td>SimCity</td>\n",
       "      <td>PC</td>\n",
       "      <td>1988.0</td>\n",
       "      <td>Simulation</td>\n",
       "      <td>0.00</td>\n",
       "      <td>0.02</td>\n",
       "      <td>0.00</td>\n",
       "      <td>0.01</td>\n",
       "      <td>64.0</td>\n",
       "      <td>2.2</td>\n",
       "      <td>E10+</td>\n",
       "    </tr>\n",
       "  </tbody>\n",
       "</table>\n",
       "</div>"
      ],
      "text/plain": [
       "                         name platform  year_of_release       genre  na_sales  \\\n",
       "1567   Battle Arena Toshinden       PS           1994.0    Fighting      0.39   \n",
       "14470               Alter Ego       PC           1985.0  Simulation      0.00   \n",
       "14610                    Doom       PC           1992.0     Shooter      0.02   \n",
       "14621                 SimCity       PC           1988.0  Simulation      0.00   \n",
       "\n",
       "       eu_sales  jp_sales  other_sales  critic_score  user_score rating  \n",
       "1567       0.26      0.53         0.08          69.0         6.3      T  \n",
       "14470      0.03      0.00         0.01          59.0         5.8      T  \n",
       "14610      0.00      0.00         0.00          85.0         8.2      M  \n",
       "14621      0.02      0.00         0.01          64.0         2.2   E10+  "
      ]
     },
     "execution_count": 22,
     "metadata": {},
     "output_type": "execute_result"
    }
   ],
   "source": [
    "df.loc[(df[\"year_of_release\"] < 1995) & (df[\"critic_score\"] > 0)]"
   ]
  },
  {
   "cell_type": "markdown",
   "metadata": {},
   "source": [
    "Из таблицы видно что это самые популярны игры на то время."
   ]
  },
  {
   "cell_type": "markdown",
   "metadata": {},
   "source": [
    "Посмотрим на значения пропущенные в столбце user_score и проверим гипотезу что пропущенные значения зависят от года выпуска игры."
   ]
  },
  {
   "cell_type": "code",
   "execution_count": 23,
   "metadata": {},
   "outputs": [
    {
     "data": {
      "image/png": "[encoded data removed]",
      "text/plain": [
       "<Figure size 864x432 with 1 Axes>"
      ]
     },
     "metadata": {
      "needs_background": "light"
     },
     "output_type": "display_data"
    }
   ],
   "source": [
    "# построим график\n",
    "plt.figure(figsize=(12, 6))\n",
    "plt.scatter(df[\"user_score\"], df[\"year_of_release\"])\n",
    "plt.title(\"Зависимость оценок пользователей от года выпуска игры\")\n",
    "plt.xlabel(\"Оценка пользователей\")\n",
    "plt.ylabel(\"Год выпуска игры\")\n",
    "plt.grid()\n",
    "plt.show()"
   ]
  },
  {
   "cell_type": "markdown",
   "metadata": {},
   "source": [
    "Наблюдаем здесь похожую картину, что оценки пользователей зависят от года выпуска игры. Посмотрим на четыре игры которые получили оценки критиков."
   ]
  },
  {
   "cell_type": "code",
   "execution_count": 24,
   "metadata": {
    "scrolled": true
   },
   "outputs": [
    {
     "data": {
      "text/html": [
       "<div>\n",
       "<style scoped>\n",
       "    .dataframe tbody tr th:only-of-type {\n",
       "        vertical-align: middle;\n",
       "    }\n",
       "\n",
       "    .dataframe tbody tr th {\n",
       "        vertical-align: top;\n",
       "    }\n",
       "\n",
       "    .dataframe thead th {\n",
       "        text-align: right;\n",
       "    }\n",
       "</style>\n",
       "<table border=\"1\" class=\"dataframe\">\n",
       "  <thead>\n",
       "    <tr style=\"text-align: right;\">\n",
       "      <th></th>\n",
       "      <th>name</th>\n",
       "      <th>platform</th>\n",
       "      <th>year_of_release</th>\n",
       "      <th>genre</th>\n",
       "      <th>na_sales</th>\n",
       "      <th>eu_sales</th>\n",
       "      <th>jp_sales</th>\n",
       "      <th>other_sales</th>\n",
       "      <th>critic_score</th>\n",
       "      <th>user_score</th>\n",
       "      <th>rating</th>\n",
       "    </tr>\n",
       "  </thead>\n",
       "  <tbody>\n",
       "    <tr>\n",
       "      <th>1567</th>\n",
       "      <td>Battle Arena Toshinden</td>\n",
       "      <td>PS</td>\n",
       "      <td>1994.0</td>\n",
       "      <td>Fighting</td>\n",
       "      <td>0.39</td>\n",
       "      <td>0.26</td>\n",
       "      <td>0.53</td>\n",
       "      <td>0.08</td>\n",
       "      <td>69.0</td>\n",
       "      <td>6.3</td>\n",
       "      <td>T</td>\n",
       "    </tr>\n",
       "    <tr>\n",
       "      <th>14470</th>\n",
       "      <td>Alter Ego</td>\n",
       "      <td>PC</td>\n",
       "      <td>1985.0</td>\n",
       "      <td>Simulation</td>\n",
       "      <td>0.00</td>\n",
       "      <td>0.03</td>\n",
       "      <td>0.00</td>\n",
       "      <td>0.01</td>\n",
       "      <td>59.0</td>\n",
       "      <td>5.8</td>\n",
       "      <td>T</td>\n",
       "    </tr>\n",
       "    <tr>\n",
       "      <th>14610</th>\n",
       "      <td>Doom</td>\n",
       "      <td>PC</td>\n",
       "      <td>1992.0</td>\n",
       "      <td>Shooter</td>\n",
       "      <td>0.02</td>\n",
       "      <td>0.00</td>\n",
       "      <td>0.00</td>\n",
       "      <td>0.00</td>\n",
       "      <td>85.0</td>\n",
       "      <td>8.2</td>\n",
       "      <td>M</td>\n",
       "    </tr>\n",
       "    <tr>\n",
       "      <th>14621</th>\n",
       "      <td>SimCity</td>\n",
       "      <td>PC</td>\n",
       "      <td>1988.0</td>\n",
       "      <td>Simulation</td>\n",
       "      <td>0.00</td>\n",
       "      <td>0.02</td>\n",
       "      <td>0.00</td>\n",
       "      <td>0.01</td>\n",
       "      <td>64.0</td>\n",
       "      <td>2.2</td>\n",
       "      <td>E10+</td>\n",
       "    </tr>\n",
       "  </tbody>\n",
       "</table>\n",
       "</div>"
      ],
      "text/plain": [
       "                         name platform  year_of_release       genre  na_sales  \\\n",
       "1567   Battle Arena Toshinden       PS           1994.0    Fighting      0.39   \n",
       "14470               Alter Ego       PC           1985.0  Simulation      0.00   \n",
       "14610                    Doom       PC           1992.0     Shooter      0.02   \n",
       "14621                 SimCity       PC           1988.0  Simulation      0.00   \n",
       "\n",
       "       eu_sales  jp_sales  other_sales  critic_score  user_score rating  \n",
       "1567       0.26      0.53         0.08          69.0         6.3      T  \n",
       "14470      0.03      0.00         0.01          59.0         5.8      T  \n",
       "14610      0.00      0.00         0.00          85.0         8.2      M  \n",
       "14621      0.02      0.00         0.01          64.0         2.2   E10+  "
      ]
     },
     "execution_count": 24,
     "metadata": {},
     "output_type": "execute_result"
    }
   ],
   "source": [
    "df.loc[(df[\"year_of_release\"] < 1995) & (df[\"user_score\"] > 0)]"
   ]
  },
  {
   "cell_type": "markdown",
   "metadata": {},
   "source": [
    "Здесь опять эти четыре топовые игры!!"
   ]
  },
  {
   "cell_type": "markdown",
   "metadata": {},
   "source": [
    "Ну и проверим поледенею гипотезу, пропущенные значения в столбце **rating** зависят от года выпуска игры"
   ]
  },
  {
   "cell_type": "code",
   "execution_count": 25,
   "metadata": {},
   "outputs": [
    {
     "data": {
      "text/plain": [
       "year_of_release\n",
       "2010.0    456\n",
       "2008.0    446\n",
       "2011.0    433\n",
       "2009.0    415\n",
       "2007.0    376\n",
       "1998.0    347\n",
       "2006.0    328\n",
       "2012.0    298\n",
       "1999.0    296\n",
       "2015.0    291\n",
       "1997.0    270\n",
       "1996.0    256\n",
       "2014.0    236\n",
       "2005.0    233\n",
       "2013.0    228\n",
       "2016.0    222\n",
       "1995.0    219\n",
       "2000.0    202\n",
       "2002.0    174\n",
       "2004.0    164\n",
       "2003.0    162\n",
       "2001.0    143\n",
       "1994.0    120\n",
       "1993.0     60\n",
       "1981.0     46\n",
       "1991.0     41\n",
       "1992.0     41\n",
       "1982.0     36\n",
       "1986.0     21\n",
       "1989.0     17\n",
       "1983.0     17\n",
       "1990.0     16\n",
       "1987.0     16\n",
       "1988.0     14\n",
       "1984.0     14\n",
       "1985.0     13\n",
       "1980.0      9\n",
       "Name: platform, dtype: int64"
      ]
     },
     "execution_count": 25,
     "metadata": {},
     "output_type": "execute_result"
    }
   ],
   "source": [
    "df.loc[df[\"rating\"].isna()].groupby(\"year_of_release\")[\"platform\"].count().sort_values(\n",
    "    ascending=False\n",
    ")"
   ]
  },
  {
   "cell_type": "markdown",
   "metadata": {},
   "source": [
    "Пропущенные значения в столбце **rating** не зависят от года выпуска игры."
   ]
  },
  {
   "cell_type": "markdown",
   "metadata": {},
   "source": [
    "Посчитаем суммарные продажи."
   ]
  },
  {
   "cell_type": "code",
   "execution_count": 26,
   "metadata": {},
   "outputs": [],
   "source": [
    "# посчитаю суммарные продажи во всех регионах\n",
    "df[\"total_sales\"] = df[[\"na_sales\", \"eu_sales\", \"jp_sales\", \"other_sales\"]].sum(axis=1)"
   ]
  },
  {
   "cell_type": "code",
   "execution_count": 27,
   "metadata": {},
   "outputs": [
    {
     "data": {
      "text/plain": [
       "count    16713.000000\n",
       "mean         0.533315\n",
       "std          1.548282\n",
       "min          0.000000\n",
       "25%          0.060000\n",
       "50%          0.170000\n",
       "75%          0.470000\n",
       "max         82.540000\n",
       "Name: total_sales, dtype: float64"
      ]
     },
     "execution_count": 27,
     "metadata": {},
     "output_type": "execute_result"
    }
   ],
   "source": [
    "# проверим есть ли выбросы\n",
    "df[\"total_sales\"].describe()"
   ]
  },
  {
   "cell_type": "code",
   "execution_count": 28,
   "metadata": {},
   "outputs": [
    {
     "name": "stdout",
     "output_type": "stream",
     "text": [
      "<class 'pandas.core.frame.DataFrame'>\n",
      "Int64Index: 16713 entries, 0 to 16714\n",
      "Data columns (total 12 columns):\n",
      " #   Column           Non-Null Count  Dtype  \n",
      "---  ------           --------------  -----  \n",
      " 0   name             16713 non-null  object \n",
      " 1   platform         16713 non-null  object \n",
      " 2   year_of_release  16444 non-null  float64\n",
      " 3   genre            16713 non-null  object \n",
      " 4   na_sales         16713 non-null  float64\n",
      " 5   eu_sales         16713 non-null  float64\n",
      " 6   jp_sales         16713 non-null  float64\n",
      " 7   other_sales      16713 non-null  float64\n",
      " 8   critic_score     8137 non-null   float64\n",
      " 9   user_score       7590 non-null   float64\n",
      " 10  rating           9949 non-null   object \n",
      " 11  total_sales      16713 non-null  float64\n",
      "dtypes: float64(8), object(4)\n",
      "memory usage: 1.7+ MB\n"
     ]
    }
   ],
   "source": [
    "# Проверим после наших преобразований что все ОК\n",
    "df.info()"
   ]
  },
  {
   "cell_type": "markdown",
   "metadata": {},
   "source": [
    "### Вывод:  <a class=\"anchor\" id=\"2.1\"></a>\n",
    "- В столбце **genre** (жанр) были два пропущенных значения, причем как и в названиях игр. Удалим эти две строчки.\n",
    "- В столбце **year_of_release** тип значения float заменим на date.\n",
    "- Пропущенные значения в столбцах **critic_score, user_score** зависят от года, так до 1995 года оценки критиками и игроками почти не выставлялись так как индустрия игр не была так развита. Значения заменять не будем. \n",
    "- Значения пропущенные в столбце **rating** не зависят от года издания игры, значения заменять не будем."
   ]
  },
  {
   "cell_type": "markdown",
   "metadata": {},
   "source": [
    "## 3. Зависимость между платформой на которой издается игра и числом продаж <a class=\"anchor\" id=\"3\"></a>"
   ]
  },
  {
   "cell_type": "markdown",
   "metadata": {},
   "source": [
    "### 3.1 Определить сколько игр на платформе выпускалось в разные года <a class=\"anchor\" id=\"3.1\"></a>"
   ]
  },
  {
   "cell_type": "code",
   "execution_count": 29,
   "metadata": {},
   "outputs": [
    {
     "data": {
      "text/plain": [
       "year_of_release\n",
       "2008.0    1427\n",
       "2009.0    1426\n",
       "2010.0    1255\n",
       "2007.0    1197\n",
       "2011.0    1136\n",
       "2006.0    1006\n",
       "2005.0     939\n",
       "2002.0     829\n",
       "2003.0     775\n",
       "2004.0     762\n",
       "2012.0     653\n",
       "2015.0     606\n",
       "2014.0     581\n",
       "2013.0     544\n",
       "2016.0     502\n",
       "2001.0     482\n",
       "1998.0     379\n",
       "2000.0     350\n",
       "1999.0     338\n",
       "1997.0     289\n",
       "1996.0     263\n",
       "1995.0     219\n",
       "1994.0     121\n",
       "1993.0      60\n",
       "1981.0      46\n",
       "1992.0      43\n",
       "1991.0      41\n",
       "1982.0      36\n",
       "1986.0      21\n",
       "1989.0      17\n",
       "1983.0      17\n",
       "1990.0      16\n",
       "1987.0      16\n",
       "1988.0      15\n",
       "1985.0      14\n",
       "1984.0      14\n",
       "1980.0       9\n",
       "Name: na_sales, dtype: int64"
      ]
     },
     "execution_count": 29,
     "metadata": {},
     "output_type": "execute_result"
    }
   ],
   "source": [
    "# сгруппируем данные\n",
    "df.groupby(\"year_of_release\")[\"na_sales\"].count().sort_values(ascending=False)"
   ]
  },
  {
   "cell_type": "code",
   "execution_count": 30,
   "metadata": {},
   "outputs": [
    {
     "data": {
      "image/png": "[encoded data removed]",
      "text/plain": [
       "<Figure size 1008x432 with 1 Axes>"
      ]
     },
     "metadata": {
      "needs_background": "light"
     },
     "output_type": "display_data"
    }
   ],
   "source": [
    "# построим график для наглядности\n",
    "plt.figure(figsize=(14, 6))\n",
    "sns.histplot(df[\"year_of_release\"])\n",
    "plt.title(\"Зависимость колличества игр от года\")\n",
    "plt.xlabel(\"Год выпуска\")\n",
    "plt.ylabel(\"Колличество игр\")\n",
    "plt.grid()\n",
    "plt.show()"
   ]
  },
  {
   "cell_type": "code",
   "execution_count": 31,
   "metadata": {
    "code_folding": [
     5
    ]
   },
   "outputs": [
    {
     "data": {
      "image/png": "[encoded data removed]",
      "text/plain": [
       "<Figure size 1008x432 with 1 Axes>"
      ]
     },
     "metadata": {
      "needs_background": "light"
     },
     "output_type": "display_data"
    }
   ],
   "source": [
    "name_group = (\n",
    "    df.groupby([\"name\", \"year_of_release\"])[\"year_of_release\"]\n",
    "    .agg([\"count\", \"count\"])\n",
    "    .reset_index()\n",
    ")\n",
    "plt.figure(figsize=(14, 6))\n",
    "sns.histplot(name_group[\"year_of_release\"])\n",
    "plt.title(\"Зависимость колличества игр от года\")\n",
    "plt.xlabel(\"Год выпуска\")\n",
    "plt.ylabel(\"Колличество игр\")\n",
    "plt.grid()\n",
    "plt.show()"
   ]
  },
  {
   "cell_type": "markdown",
   "metadata": {},
   "source": [
    "**Вывод**\n",
    "\n",
    "Проанализировав данные по продажам игр по годам, а также по количеству отзывов критиков и пользователей, считаю оптимальным для анализа взять 1995 год и больше."
   ]
  },
  {
   "cell_type": "markdown",
   "metadata": {},
   "source": [
    "### 3.2 Определить как менялись продажи по платформам. <a class=\"anchor\" id=\"3.2\"></a>"
   ]
  },
  {
   "cell_type": "code",
   "execution_count": 32,
   "metadata": {},
   "outputs": [
    {
     "data": {
      "image/png": "[encoded data removed]",
      "text/plain": [
       "<Figure size 936x432 with 1 Axes>"
      ]
     },
     "metadata": {
      "needs_background": "light"
     },
     "output_type": "display_data"
    }
   ],
   "source": [
    "# сгруппируем данные по плотформам и числу продаж игр на этих платформах\n",
    "sales_platforms = df.pivot_table(\n",
    "    index=\"platform\", values=\"total_sales\", aggfunc=\"sum\"\n",
    ").sort_values(by=\"total_sales\", ascending=False)\n",
    "\n",
    "plt.figure(figsize=(13, 6))\n",
    "sns.barplot(x=sales_platforms.index, y=sales_platforms[\"total_sales\"])\n",
    "plt.title(\"Зависимость колличества продаж игр от платформы\")\n",
    "plt.xlabel(\"Название платформы\")\n",
    "plt.ylabel(\"Количество продаж\")\n",
    "plt.grid()\n",
    "plt.show()"
   ]
  },
  {
   "cell_type": "markdown",
   "metadata": {},
   "source": [
    "**Вывод:**\n",
    "\n",
    "    Топ 5 популярных платформ PS2(Sony), X360(Microsoft), PS3((Sony), WII(Nintendo), DS(Nintendo), PS(Sony)"
   ]
  },
  {
   "cell_type": "code",
   "execution_count": 33,
   "metadata": {},
   "outputs": [
    {
     "data": {
      "text/html": [
       "<div>\n",
       "<style scoped>\n",
       "    .dataframe tbody tr th:only-of-type {\n",
       "        vertical-align: middle;\n",
       "    }\n",
       "\n",
       "    .dataframe tbody tr th {\n",
       "        vertical-align: top;\n",
       "    }\n",
       "\n",
       "    .dataframe thead th {\n",
       "        text-align: right;\n",
       "    }\n",
       "</style>\n",
       "<table border=\"1\" class=\"dataframe\">\n",
       "  <thead>\n",
       "    <tr style=\"text-align: right;\">\n",
       "      <th></th>\n",
       "      <th>total_sales</th>\n",
       "    </tr>\n",
       "    <tr>\n",
       "      <th>platform</th>\n",
       "      <th></th>\n",
       "    </tr>\n",
       "  </thead>\n",
       "  <tbody>\n",
       "    <tr>\n",
       "      <th>PS2</th>\n",
       "      <td>1255.77</td>\n",
       "    </tr>\n",
       "    <tr>\n",
       "      <th>X360</th>\n",
       "      <td>971.42</td>\n",
       "    </tr>\n",
       "    <tr>\n",
       "      <th>PS3</th>\n",
       "      <td>939.65</td>\n",
       "    </tr>\n",
       "    <tr>\n",
       "      <th>Wii</th>\n",
       "      <td>907.51</td>\n",
       "    </tr>\n",
       "    <tr>\n",
       "      <th>DS</th>\n",
       "      <td>806.12</td>\n",
       "    </tr>\n",
       "  </tbody>\n",
       "</table>\n",
       "</div>"
      ],
      "text/plain": [
       "          total_sales\n",
       "platform             \n",
       "PS2           1255.77\n",
       "X360           971.42\n",
       "PS3            939.65\n",
       "Wii            907.51\n",
       "DS             806.12"
      ]
     },
     "execution_count": 33,
     "metadata": {},
     "output_type": "execute_result"
    }
   ],
   "source": [
    "sales_platforms[:5]"
   ]
  },
  {
   "cell_type": "code",
   "execution_count": 34,
   "metadata": {},
   "outputs": [
    {
     "data": {
      "text/plain": [
       "0     PS2\n",
       "1    X360\n",
       "2     PS3\n",
       "3     Wii\n",
       "4      DS\n",
       "5      PS\n",
       "dtype: object"
      ]
     },
     "execution_count": 34,
     "metadata": {},
     "output_type": "execute_result"
    }
   ],
   "source": [
    "# добавим их в отдельный список\n",
    "top_sales_platforms = []\n",
    "for i in range(6):\n",
    "    top_sales_platforms.append(sales_platforms.index[i])\n",
    "pd.Series(top_sales_platforms)"
   ]
  },
  {
   "cell_type": "markdown",
   "metadata": {},
   "source": [
    "### 3.3 Определить срок за который появляются новые и исчезают старые платформы. <a class=\"anchor\" id=\"3.3\"></a>\n"
   ]
  },
  {
   "cell_type": "code",
   "execution_count": 35,
   "metadata": {},
   "outputs": [],
   "source": [
    "# создам Df сгруппированный по платформам и первому году издания игры\n",
    "platform_life = df.groupby(\"platform\")[\"year_of_release\"].min()\n",
    "platform_life = pd.DataFrame(platform_life)\n",
    "# создам Df сгруппированный по платформам и последнему году издания игры\n",
    "platform_life_max = df.groupby(\"platform\")[\"year_of_release\"].max()\n",
    "platform_life_max = pd.DataFrame(platform_life_max)\n",
    "# добавлю в основной Df rize строку с послденим годом издания игры\n",
    "platform_life[\"max\"] = platform_life_max[\"year_of_release\"]\n",
    "# поменяю названия столбцов\n",
    "platform_life.columns = [\"min\", \"max\"]\n",
    "# найду разницу между последним и спревым годом издания игры\n",
    "platform_life[\"range\"] = platform_life[\"max\"] - platform_life[\"min\"]\n",
    "# отсартирую значения по убыванию\n",
    "platform_life = platform_life.sort_values(\"range\", ascending=False)"
   ]
  },
  {
   "cell_type": "code",
   "execution_count": 36,
   "metadata": {
    "scrolled": true
   },
   "outputs": [
    {
     "data": {
      "text/html": [
       "<div>\n",
       "<style scoped>\n",
       "    .dataframe tbody tr th:only-of-type {\n",
       "        vertical-align: middle;\n",
       "    }\n",
       "\n",
       "    .dataframe tbody tr th {\n",
       "        vertical-align: top;\n",
       "    }\n",
       "\n",
       "    .dataframe thead th {\n",
       "        text-align: right;\n",
       "    }\n",
       "</style>\n",
       "<table border=\"1\" class=\"dataframe\">\n",
       "  <thead>\n",
       "    <tr style=\"text-align: right;\">\n",
       "      <th></th>\n",
       "      <th>min</th>\n",
       "      <th>max</th>\n",
       "      <th>range</th>\n",
       "    </tr>\n",
       "    <tr>\n",
       "      <th>platform</th>\n",
       "      <th></th>\n",
       "      <th></th>\n",
       "      <th></th>\n",
       "    </tr>\n",
       "  </thead>\n",
       "  <tbody>\n",
       "    <tr>\n",
       "      <th>PC</th>\n",
       "      <td>1985.0</td>\n",
       "      <td>2016.0</td>\n",
       "      <td>31.0</td>\n",
       "    </tr>\n",
       "    <tr>\n",
       "      <th>DS</th>\n",
       "      <td>1985.0</td>\n",
       "      <td>2013.0</td>\n",
       "      <td>28.0</td>\n",
       "    </tr>\n",
       "    <tr>\n",
       "      <th>GB</th>\n",
       "      <td>1988.0</td>\n",
       "      <td>2001.0</td>\n",
       "      <td>13.0</td>\n",
       "    </tr>\n",
       "    <tr>\n",
       "      <th>X360</th>\n",
       "      <td>2005.0</td>\n",
       "      <td>2016.0</td>\n",
       "      <td>11.0</td>\n",
       "    </tr>\n",
       "    <tr>\n",
       "      <th>PSP</th>\n",
       "      <td>2004.0</td>\n",
       "      <td>2015.0</td>\n",
       "      <td>11.0</td>\n",
       "    </tr>\n",
       "    <tr>\n",
       "      <th>PS2</th>\n",
       "      <td>2000.0</td>\n",
       "      <td>2011.0</td>\n",
       "      <td>11.0</td>\n",
       "    </tr>\n",
       "    <tr>\n",
       "      <th>NES</th>\n",
       "      <td>1983.0</td>\n",
       "      <td>1994.0</td>\n",
       "      <td>11.0</td>\n",
       "    </tr>\n",
       "    <tr>\n",
       "      <th>DC</th>\n",
       "      <td>1998.0</td>\n",
       "      <td>2008.0</td>\n",
       "      <td>10.0</td>\n",
       "    </tr>\n",
       "    <tr>\n",
       "      <th>Wii</th>\n",
       "      <td>2006.0</td>\n",
       "      <td>2016.0</td>\n",
       "      <td>10.0</td>\n",
       "    </tr>\n",
       "    <tr>\n",
       "      <th>PS3</th>\n",
       "      <td>2006.0</td>\n",
       "      <td>2016.0</td>\n",
       "      <td>10.0</td>\n",
       "    </tr>\n",
       "    <tr>\n",
       "      <th>2600</th>\n",
       "      <td>1980.0</td>\n",
       "      <td>1989.0</td>\n",
       "      <td>9.0</td>\n",
       "    </tr>\n",
       "    <tr>\n",
       "      <th>SNES</th>\n",
       "      <td>1990.0</td>\n",
       "      <td>1999.0</td>\n",
       "      <td>9.0</td>\n",
       "    </tr>\n",
       "    <tr>\n",
       "      <th>PS</th>\n",
       "      <td>1994.0</td>\n",
       "      <td>2003.0</td>\n",
       "      <td>9.0</td>\n",
       "    </tr>\n",
       "    <tr>\n",
       "      <th>XB</th>\n",
       "      <td>2000.0</td>\n",
       "      <td>2008.0</td>\n",
       "      <td>8.0</td>\n",
       "    </tr>\n",
       "    <tr>\n",
       "      <th>GBA</th>\n",
       "      <td>2000.0</td>\n",
       "      <td>2007.0</td>\n",
       "      <td>7.0</td>\n",
       "    </tr>\n",
       "    <tr>\n",
       "      <th>GC</th>\n",
       "      <td>2001.0</td>\n",
       "      <td>2007.0</td>\n",
       "      <td>6.0</td>\n",
       "    </tr>\n",
       "    <tr>\n",
       "      <th>N64</th>\n",
       "      <td>1996.0</td>\n",
       "      <td>2002.0</td>\n",
       "      <td>6.0</td>\n",
       "    </tr>\n",
       "    <tr>\n",
       "      <th>3DS</th>\n",
       "      <td>2011.0</td>\n",
       "      <td>2016.0</td>\n",
       "      <td>5.0</td>\n",
       "    </tr>\n",
       "    <tr>\n",
       "      <th>PSV</th>\n",
       "      <td>2011.0</td>\n",
       "      <td>2016.0</td>\n",
       "      <td>5.0</td>\n",
       "    </tr>\n",
       "    <tr>\n",
       "      <th>SAT</th>\n",
       "      <td>1994.0</td>\n",
       "      <td>1999.0</td>\n",
       "      <td>5.0</td>\n",
       "    </tr>\n",
       "    <tr>\n",
       "      <th>WiiU</th>\n",
       "      <td>2012.0</td>\n",
       "      <td>2016.0</td>\n",
       "      <td>4.0</td>\n",
       "    </tr>\n",
       "    <tr>\n",
       "      <th>GEN</th>\n",
       "      <td>1990.0</td>\n",
       "      <td>1994.0</td>\n",
       "      <td>4.0</td>\n",
       "    </tr>\n",
       "    <tr>\n",
       "      <th>NG</th>\n",
       "      <td>1993.0</td>\n",
       "      <td>1996.0</td>\n",
       "      <td>3.0</td>\n",
       "    </tr>\n",
       "    <tr>\n",
       "      <th>XOne</th>\n",
       "      <td>2013.0</td>\n",
       "      <td>2016.0</td>\n",
       "      <td>3.0</td>\n",
       "    </tr>\n",
       "    <tr>\n",
       "      <th>PS4</th>\n",
       "      <td>2013.0</td>\n",
       "      <td>2016.0</td>\n",
       "      <td>3.0</td>\n",
       "    </tr>\n",
       "    <tr>\n",
       "      <th>WS</th>\n",
       "      <td>1999.0</td>\n",
       "      <td>2001.0</td>\n",
       "      <td>2.0</td>\n",
       "    </tr>\n",
       "    <tr>\n",
       "      <th>3DO</th>\n",
       "      <td>1994.0</td>\n",
       "      <td>1995.0</td>\n",
       "      <td>1.0</td>\n",
       "    </tr>\n",
       "    <tr>\n",
       "      <th>SCD</th>\n",
       "      <td>1993.0</td>\n",
       "      <td>1994.0</td>\n",
       "      <td>1.0</td>\n",
       "    </tr>\n",
       "    <tr>\n",
       "      <th>TG16</th>\n",
       "      <td>1995.0</td>\n",
       "      <td>1995.0</td>\n",
       "      <td>0.0</td>\n",
       "    </tr>\n",
       "    <tr>\n",
       "      <th>PCFX</th>\n",
       "      <td>1996.0</td>\n",
       "      <td>1996.0</td>\n",
       "      <td>0.0</td>\n",
       "    </tr>\n",
       "    <tr>\n",
       "      <th>GG</th>\n",
       "      <td>1992.0</td>\n",
       "      <td>1992.0</td>\n",
       "      <td>0.0</td>\n",
       "    </tr>\n",
       "  </tbody>\n",
       "</table>\n",
       "</div>"
      ],
      "text/plain": [
       "             min     max  range\n",
       "platform                       \n",
       "PC        1985.0  2016.0   31.0\n",
       "DS        1985.0  2013.0   28.0\n",
       "GB        1988.0  2001.0   13.0\n",
       "X360      2005.0  2016.0   11.0\n",
       "PSP       2004.0  2015.0   11.0\n",
       "PS2       2000.0  2011.0   11.0\n",
       "NES       1983.0  1994.0   11.0\n",
       "DC        1998.0  2008.0   10.0\n",
       "Wii       2006.0  2016.0   10.0\n",
       "PS3       2006.0  2016.0   10.0\n",
       "2600      1980.0  1989.0    9.0\n",
       "SNES      1990.0  1999.0    9.0\n",
       "PS        1994.0  2003.0    9.0\n",
       "XB        2000.0  2008.0    8.0\n",
       "GBA       2000.0  2007.0    7.0\n",
       "GC        2001.0  2007.0    6.0\n",
       "N64       1996.0  2002.0    6.0\n",
       "3DS       2011.0  2016.0    5.0\n",
       "PSV       2011.0  2016.0    5.0\n",
       "SAT       1994.0  1999.0    5.0\n",
       "WiiU      2012.0  2016.0    4.0\n",
       "GEN       1990.0  1994.0    4.0\n",
       "NG        1993.0  1996.0    3.0\n",
       "XOne      2013.0  2016.0    3.0\n",
       "PS4       2013.0  2016.0    3.0\n",
       "WS        1999.0  2001.0    2.0\n",
       "3DO       1994.0  1995.0    1.0\n",
       "SCD       1993.0  1994.0    1.0\n",
       "TG16      1995.0  1995.0    0.0\n",
       "PCFX      1996.0  1996.0    0.0\n",
       "GG        1992.0  1992.0    0.0"
      ]
     },
     "execution_count": 36,
     "metadata": {},
     "output_type": "execute_result"
    }
   ],
   "source": [
    "platform_life"
   ]
  },
  {
   "cell_type": "code",
   "execution_count": 37,
   "metadata": {},
   "outputs": [
    {
     "data": {
      "image/png": "[encoded data removed]",
      "text/plain": [
       "<Figure size 936x432 with 1 Axes>"
      ]
     },
     "metadata": {
      "needs_background": "light"
     },
     "output_type": "display_data"
    }
   ],
   "source": [
    "# построю график по фрейму rize\n",
    "plt.figure(figsize=(13, 6))\n",
    "sns.barplot(x=platform_life.index, y=platform_life[\"range\"])\n",
    "plt.title(\"Время прошедшее с момента выпуска первой игр\")\n",
    "plt.xlabel(\"Название платформы\")\n",
    "plt.ylabel(\"Год\")\n",
    "plt.grid()\n",
    "plt.show()"
   ]
  },
  {
   "cell_type": "code",
   "execution_count": 38,
   "metadata": {
    "scrolled": true
   },
   "outputs": [
    {
     "data": {
      "text/plain": [
       "7.612903225806452"
      ]
     },
     "execution_count": 38,
     "metadata": {},
     "output_type": "execute_result"
    }
   ],
   "source": [
    "# посчитаю среднею\n",
    "platform_life[\"range\"].mean()"
   ]
  },
  {
   "cell_type": "markdown",
   "metadata": {},
   "source": [
    "**Вывод:**\n",
    "\n",
    "Дольше всего игры издавались на DS (Nintendo), и PC, среднее время прошедшее от момента издания первого выпуска игры до издания последней игры на платформе составляет 7 с половиной лет."
   ]
  },
  {
   "cell_type": "code",
   "execution_count": 39,
   "metadata": {},
   "outputs": [],
   "source": [
    "# создадим фрейм с ТОП 5 платформ\n",
    "top_platform = df.query(\"platform in @top_sales_platforms\")"
   ]
  },
  {
   "cell_type": "code",
   "execution_count": 40,
   "metadata": {},
   "outputs": [
    {
     "data": {
      "image/png": "[encoded data removed]",
      "text/plain": [
       "<Figure size 936x432 with 1 Axes>"
      ]
     },
     "metadata": {
      "needs_background": "light"
     },
     "output_type": "display_data"
    }
   ],
   "source": [
    "# построю график\n",
    "plt.figure(figsize=(13, 6))\n",
    "for i in top_sales_platforms:\n",
    "    top_platform.loc[top_platform[\"platform\"] == i].groupby(\"year_of_release\")[\n",
    "        \"total_sales\"\n",
    "    ].sum().plot()\n",
    "plt.title(\"Зависимость колличества продаж игр по годам\")\n",
    "plt.xlabel(\"Год\")\n",
    "plt.ylabel(\"Колличество продаж\")\n",
    "plt.legend(top_sales_platforms)\n",
    "plt.grid()\n",
    "plt.show()"
   ]
  },
  {
   "cell_type": "markdown",
   "metadata": {},
   "source": [
    "**Вывод:**\n",
    "\n",
    "Из графика видно что:\n",
    "\n",
    "- DS (Nintendo) выпускалось с 1985 года топ рост продаж начался с 2004 по 2013 год, потом выручка начала падать.\n",
    "- PS(Sony) на платформе выпускались игры с 1994 по 2004 год, потом игры на платформу перестали выпускать.\n",
    "- PS2(Sony) на платформе выпускались игры с 2000 по 2011 год, потом игры на платформу перестали выпускать.\n",
    "- Из оставшихся платформ игры выпускают на WII(Nintendo), X360(Microsoft), PS3((Sony).\n",
    "- Существует тенденция к уменьшению количества игр выпускаемых на платформах.\n",
    "- Больше всего выручки приносит продажи игр на платформах PS3(Sony), WII(Nintendo) и далее X360(Microsoft).\n"
   ]
  },
  {
   "cell_type": "markdown",
   "metadata": {},
   "source": [
    "### 3.4 Найти актуальный период продаж необходимый для для построения прогноза на 2017 год.</p> <a class=\"anchor\" id=\"3.4\"></a>\n"
   ]
  },
  {
   "cell_type": "markdown",
   "metadata": {},
   "source": [
    "Проанализировав все вышесказанное, можно прийти к следующим выводам для оптимального построения прогноза предлагаю взять данные с 2012 года, так как там появляется уже больше чем три платформы с данными по которым можно работать."
   ]
  },
  {
   "cell_type": "code",
   "execution_count": 41,
   "metadata": {
    "scrolled": true
   },
   "outputs": [],
   "source": [
    "# создам Series с названиями платформ где продаж год продаж позже 2012\n",
    "df_2012 = pd.Series(df[\"platform\"].loc[df[\"year_of_release\"] > 2012].unique())"
   ]
  },
  {
   "cell_type": "code",
   "execution_count": 42,
   "metadata": {
    "code_folding": []
   },
   "outputs": [
    {
     "data": {
      "image/png": "[encoded data removed]",
      "text/plain": [
       "<Figure size 1440x720 with 1 Axes>"
      ]
     },
     "metadata": {
      "needs_background": "light"
     },
     "output_type": "display_data"
    }
   ],
   "source": [
    "# построю график\n",
    "plt.figure(figsize=(20, 10))\n",
    "for i in df_2012:\n",
    "    df.loc[(df[\"platform\"] == i) & (df[\"year_of_release\"] > 2012)].groupby(\n",
    "        \"year_of_release\"\n",
    "    )[\"total_sales\"].sum().plot()\n",
    "plt.title(\"Зависимость колличества продаж игр по годам\")\n",
    "plt.xlabel(\"Год\")\n",
    "plt.ylabel(\"Колличество продаж\")\n",
    "plt.legend(df_2012)\n",
    "plt.grid()"
   ]
  },
  {
   "cell_type": "markdown",
   "metadata": {},
   "source": [
    "**Вывод:**\n",
    "- Анализируя график можно прийти к выводу, что продажи игр падают, даже не тех платформах которые только недавно вышли (PS4 и XBOX).\n",
    "- Суммарная выручка от продажи игры на платформе PS4 в два раза больше чем на XBOX."
   ]
  },
  {
   "cell_type": "markdown",
   "metadata": {},
   "source": [
    "### 3.5 Найти платформы лидирующие по продажам </p> <a class=\"anchor\" id=\"3.5\"></a>"
   ]
  },
  {
   "cell_type": "code",
   "execution_count": 43,
   "metadata": {},
   "outputs": [
    {
     "data": {
      "image/png": "[encoded data removed]",
      "text/plain": [
       "<Figure size 936x432 with 1 Axes>"
      ]
     },
     "metadata": {
      "needs_background": "light"
     },
     "output_type": "display_data"
    }
   ],
   "source": [
    "# построю график «ящик с усами» по глобальным продажам игр\n",
    "plt.figure(figsize=(13, 6))\n",
    "g = sns.boxplot(data=top_platform, x=\"platform\", y=\"other_sales\")\n",
    "g.set(ylim=(0, 0.25))\n",
    "plt.title(\"Количество  проданных игр в других странах\")\n",
    "plt.xlabel(\"Платформа\")\n",
    "plt.ylabel(\"Колличество проданных игр в миллионах\")\n",
    "plt.show()"
   ]
  },
  {
   "cell_type": "code",
   "execution_count": 44,
   "metadata": {},
   "outputs": [
    {
     "data": {
      "image/png": "[encoded data removed]",
      "text/plain": [
       "<Figure size 936x432 with 1 Axes>"
      ]
     },
     "metadata": {
      "needs_background": "light"
     },
     "output_type": "display_data"
    }
   ],
   "source": [
    "plt.figure(figsize=(13, 6))\n",
    "g = sns.boxplot(data=top_platform, x=\"platform\", y=\"other_sales\")\n",
    "plt.title(\"Количество  проданных игр в других странах\")\n",
    "plt.xlabel(\"Платформа\")\n",
    "plt.ylabel(\"Колличество проданных игр в миллионах\")\n",
    "plt.show()"
   ]
  },
  {
   "cell_type": "markdown",
   "metadata": {},
   "source": [
    "**Вывод:**\n",
    "\n",
    " - На графике мы видим очень много значений которые выходят за третий квартиль.\n",
    " - Больше всего проданных игр на PS3 далее PS2 и на третьем месте X360."
   ]
  },
  {
   "cell_type": "markdown",
   "metadata": {},
   "source": [
    "### 3.6 Определить как отзывы критиков и пользователей влияют на продажи игр внутри платформ </p> <a class=\"anchor\" id=\"3.6\"></a>"
   ]
  },
  {
   "cell_type": "markdown",
   "metadata": {},
   "source": [
    "Для анализа рассмотрим продажи игр на топ 5 популярных платформ и уберу выбросы "
   ]
  },
  {
   "cell_type": "code",
   "execution_count": 45,
   "metadata": {},
   "outputs": [],
   "source": [
    "def platform_matrix(name_of_platform):\n",
    "    platform = df[df[\"platform\"] == name_of_platform]\n",
    "    ffig, ax = plt.subplots(1, 2, figsize=(15, 5))\n",
    "    sns.scatterplot(x=\"user_score\", y=\"total_sales\", data=platform, ax=ax[0])\n",
    "    sns.scatterplot(x=\"critic_score\", y=\"total_sales\", data=platform, ax=ax[1])\n",
    "\n",
    "    ax[0].set(xlabel=\"Оценка пользователей\")\n",
    "    ax[1].set(xlabel=\"Оценка критиков\")\n",
    "    ax[0].set(ylabel=\"Количество продаж\")\n",
    "    ax[1].set(ylabel=\"Количество продаж\")\n",
    "\n",
    "    print(\n",
    "        f\"-----------------------------------------------------{name_of_platform}----------------------------------------------------\"\n",
    "    )\n",
    "    correl = platform[\"user_score\"].corr(platform[\"total_sales\"])\n",
    "    critic_correl = platform[\"critic_score\"].corr(platform[\"total_sales\"])\n",
    "    plt.show()\n",
    "    print(\"Корреляция между оценками пользователя и колличеством продаж\", correl)\n",
    "    print(\"Корреляция между оценками критиков и колличеством продаж\", critic_correl)"
   ]
  },
  {
   "cell_type": "code",
   "execution_count": 46,
   "metadata": {},
   "outputs": [
    {
     "name": "stdout",
     "output_type": "stream",
     "text": [
      "-----------------------------------------------------PS2----------------------------------------------------\n"
     ]
    },
    {
     "data": {
      "image/png": "[encoded data removed]",
      "text/plain": [
       "<Figure size 1080x360 with 2 Axes>"
      ]
     },
     "metadata": {
      "needs_background": "light"
     },
     "output_type": "display_data"
    },
    {
     "name": "stdout",
     "output_type": "stream",
     "text": [
      "Корреляция между оценками пользователя и колличеством продаж 0.17286551112058182\n",
      "Корреляция между оценками критиков и колличеством продаж 0.3954345494545488\n",
      "-----------------------------------------------------X360----------------------------------------------------\n"
     ]
    },
    {
     "data": {
      "image/png": "[encoded data removed]",
      "text/plain": [
       "<Figure size 1080x360 with 2 Axes>"
      ]
     },
     "metadata": {
      "needs_background": "light"
     },
     "output_type": "display_data"
    },
    {
     "name": "stdout",
     "output_type": "stream",
     "text": [
      "Корреляция между оценками пользователя и колличеством продаж 0.1144588297845418\n",
      "Корреляция между оценками критиков и колличеством продаж 0.39373586530725874\n",
      "-----------------------------------------------------PS3----------------------------------------------------\n"
     ]
    },
    {
     "data": {
      "image/png": "[encoded data removed]",
      "text/plain": [
       "<Figure size 1080x360 with 2 Axes>"
      ]
     },
     "metadata": {
      "needs_background": "light"
     },
     "output_type": "display_data"
    },
    {
     "name": "stdout",
     "output_type": "stream",
     "text": [
      "Корреляция между оценками пользователя и колличеством продаж 0.12669133936341706\n",
      "Корреляция между оценками критиков и колличеством продаж 0.43243156856420617\n",
      "-----------------------------------------------------Wii----------------------------------------------------\n"
     ]
    },
    {
     "data": {
      "image/png": "[encoded data removed]",
      "text/plain": [
       "<Figure size 1080x360 with 2 Axes>"
      ]
     },
     "metadata": {
      "needs_background": "light"
     },
     "output_type": "display_data"
    },
    {
     "name": "stdout",
     "output_type": "stream",
     "text": [
      "Корреляция между оценками пользователя и колличеством продаж 0.11241436067003167\n",
      "Корреляция между оценками критиков и колличеством продаж 0.1775598880608996\n",
      "-----------------------------------------------------DS----------------------------------------------------\n"
     ]
    },
    {
     "data": {
      "image/png": "[encoded data removed]",
      "text/plain": [
       "<Figure size 1080x360 with 2 Axes>"
      ]
     },
     "metadata": {
      "needs_background": "light"
     },
     "output_type": "display_data"
    },
    {
     "name": "stdout",
     "output_type": "stream",
     "text": [
      "Корреляция между оценками пользователя и колличеством продаж 0.13043550111642488\n",
      "Корреляция между оценками критиков и колличеством продаж 0.23637945738859714\n",
      "-----------------------------------------------------PS----------------------------------------------------\n"
     ]
    },
    {
     "data": {
      "image/png": "[encoded data removed]",
      "text/plain": [
       "<Figure size 1080x360 with 2 Axes>"
      ]
     },
     "metadata": {
      "needs_background": "light"
     },
     "output_type": "display_data"
    },
    {
     "name": "stdout",
     "output_type": "stream",
     "text": [
      "Корреляция между оценками пользователя и колличеством продаж 0.29797783612684925\n",
      "Корреляция между оценками критиков и колличеством продаж 0.44563998586242454\n"
     ]
    }
   ],
   "source": [
    "for platform in top_sales_platforms:\n",
    "    platform_matrix(platform)"
   ]
  },
  {
   "cell_type": "code",
   "execution_count": 47,
   "metadata": {},
   "outputs": [
    {
     "data": {
      "text/html": [
       "<div>\n",
       "<style scoped>\n",
       "    .dataframe tbody tr th:only-of-type {\n",
       "        vertical-align: middle;\n",
       "    }\n",
       "\n",
       "    .dataframe tbody tr th {\n",
       "        vertical-align: top;\n",
       "    }\n",
       "\n",
       "    .dataframe thead th {\n",
       "        text-align: right;\n",
       "    }\n",
       "</style>\n",
       "<table border=\"1\" class=\"dataframe\">\n",
       "  <thead>\n",
       "    <tr style=\"text-align: right;\">\n",
       "      <th></th>\n",
       "      <th>count</th>\n",
       "      <th>sum</th>\n",
       "    </tr>\n",
       "    <tr>\n",
       "      <th>name</th>\n",
       "      <th></th>\n",
       "      <th></th>\n",
       "    </tr>\n",
       "  </thead>\n",
       "  <tbody>\n",
       "    <tr>\n",
       "      <th>Wii Sports</th>\n",
       "      <td>1</td>\n",
       "      <td>82.54</td>\n",
       "    </tr>\n",
       "    <tr>\n",
       "      <th>Grand Theft Auto V</th>\n",
       "      <td>3</td>\n",
       "      <td>49.94</td>\n",
       "    </tr>\n",
       "    <tr>\n",
       "      <th>Super Mario Bros.</th>\n",
       "      <td>1</td>\n",
       "      <td>40.24</td>\n",
       "    </tr>\n",
       "    <tr>\n",
       "      <th>Mario Kart Wii</th>\n",
       "      <td>1</td>\n",
       "      <td>35.52</td>\n",
       "    </tr>\n",
       "    <tr>\n",
       "      <th>Wii Sports Resort</th>\n",
       "      <td>1</td>\n",
       "      <td>32.77</td>\n",
       "    </tr>\n",
       "    <tr>\n",
       "      <th>Pokemon Red/Pokemon Blue</th>\n",
       "      <td>1</td>\n",
       "      <td>31.38</td>\n",
       "    </tr>\n",
       "    <tr>\n",
       "      <th>Tetris</th>\n",
       "      <td>1</td>\n",
       "      <td>30.26</td>\n",
       "    </tr>\n",
       "    <tr>\n",
       "      <th>New Super Mario Bros.</th>\n",
       "      <td>1</td>\n",
       "      <td>29.80</td>\n",
       "    </tr>\n",
       "    <tr>\n",
       "      <th>Wii Play</th>\n",
       "      <td>1</td>\n",
       "      <td>28.91</td>\n",
       "    </tr>\n",
       "    <tr>\n",
       "      <th>New Super Mario Bros. Wii</th>\n",
       "      <td>1</td>\n",
       "      <td>28.32</td>\n",
       "    </tr>\n",
       "    <tr>\n",
       "      <th>Duck Hunt</th>\n",
       "      <td>1</td>\n",
       "      <td>28.31</td>\n",
       "    </tr>\n",
       "    <tr>\n",
       "      <th>Call of Duty: Modern Warfare 3</th>\n",
       "      <td>2</td>\n",
       "      <td>28.06</td>\n",
       "    </tr>\n",
       "    <tr>\n",
       "      <th>Call of Duty: Black Ops II</th>\n",
       "      <td>2</td>\n",
       "      <td>27.47</td>\n",
       "    </tr>\n",
       "    <tr>\n",
       "      <th>Call of Duty: Black Ops</th>\n",
       "      <td>2</td>\n",
       "      <td>27.25</td>\n",
       "    </tr>\n",
       "    <tr>\n",
       "      <th>Nintendogs</th>\n",
       "      <td>1</td>\n",
       "      <td>24.67</td>\n",
       "    </tr>\n",
       "    <tr>\n",
       "      <th>Call of Duty: Modern Warfare 2</th>\n",
       "      <td>2</td>\n",
       "      <td>24.08</td>\n",
       "    </tr>\n",
       "    <tr>\n",
       "      <th>Mario Kart DS</th>\n",
       "      <td>1</td>\n",
       "      <td>23.21</td>\n",
       "    </tr>\n",
       "    <tr>\n",
       "      <th>Pokemon Gold/Pokemon Silver</th>\n",
       "      <td>1</td>\n",
       "      <td>23.09</td>\n",
       "    </tr>\n",
       "    <tr>\n",
       "      <th>Wii Fit</th>\n",
       "      <td>1</td>\n",
       "      <td>22.70</td>\n",
       "    </tr>\n",
       "    <tr>\n",
       "      <th>Super Mario 64</th>\n",
       "      <td>2</td>\n",
       "      <td>22.20</td>\n",
       "    </tr>\n",
       "    <tr>\n",
       "      <th>Kinect Adventures!</th>\n",
       "      <td>1</td>\n",
       "      <td>21.82</td>\n",
       "    </tr>\n",
       "    <tr>\n",
       "      <th>Wii Fit Plus</th>\n",
       "      <td>1</td>\n",
       "      <td>21.80</td>\n",
       "    </tr>\n",
       "    <tr>\n",
       "      <th>Grand Theft Auto IV</th>\n",
       "      <td>2</td>\n",
       "      <td>21.50</td>\n",
       "    </tr>\n",
       "    <tr>\n",
       "      <th>Grand Theft Auto: San Andreas</th>\n",
       "      <td>1</td>\n",
       "      <td>20.81</td>\n",
       "    </tr>\n",
       "    <tr>\n",
       "      <th>Super Mario World</th>\n",
       "      <td>1</td>\n",
       "      <td>20.62</td>\n",
       "    </tr>\n",
       "    <tr>\n",
       "      <th>Brain Age: Train Your Brain in Minutes a Day</th>\n",
       "      <td>1</td>\n",
       "      <td>20.14</td>\n",
       "    </tr>\n",
       "    <tr>\n",
       "      <th>Pokemon Diamond/Pokemon Pearl</th>\n",
       "      <td>1</td>\n",
       "      <td>18.24</td>\n",
       "    </tr>\n",
       "    <tr>\n",
       "      <th>Super Mario Land</th>\n",
       "      <td>1</td>\n",
       "      <td>18.14</td>\n",
       "    </tr>\n",
       "    <tr>\n",
       "      <th>Super Mario Bros. 3</th>\n",
       "      <td>1</td>\n",
       "      <td>17.28</td>\n",
       "    </tr>\n",
       "    <tr>\n",
       "      <th>Grand Theft Auto: Vice City</th>\n",
       "      <td>1</td>\n",
       "      <td>16.15</td>\n",
       "    </tr>\n",
       "    <tr>\n",
       "      <th>Pokemon Ruby/Pokemon Sapphire</th>\n",
       "      <td>1</td>\n",
       "      <td>15.84</td>\n",
       "    </tr>\n",
       "    <tr>\n",
       "      <th>Brain Age 2: More Training in Minutes a Day</th>\n",
       "      <td>1</td>\n",
       "      <td>15.28</td>\n",
       "    </tr>\n",
       "    <tr>\n",
       "      <th>Pokemon Black/Pokemon White</th>\n",
       "      <td>1</td>\n",
       "      <td>15.13</td>\n",
       "    </tr>\n",
       "    <tr>\n",
       "      <th>Gran Turismo 3: A-Spec</th>\n",
       "      <td>1</td>\n",
       "      <td>14.97</td>\n",
       "    </tr>\n",
       "    <tr>\n",
       "      <th>Pokémon Yellow: Special Pikachu Edition</th>\n",
       "      <td>1</td>\n",
       "      <td>14.64</td>\n",
       "    </tr>\n",
       "    <tr>\n",
       "      <th>Call of Duty: Black Ops 3</th>\n",
       "      <td>1</td>\n",
       "      <td>14.63</td>\n",
       "    </tr>\n",
       "    <tr>\n",
       "      <th>Pokemon X/Pokemon Y</th>\n",
       "      <td>1</td>\n",
       "      <td>14.60</td>\n",
       "    </tr>\n",
       "    <tr>\n",
       "      <th>Grand Theft Auto III</th>\n",
       "      <td>1</td>\n",
       "      <td>13.10</td>\n",
       "    </tr>\n",
       "    <tr>\n",
       "      <th>Super Smash Bros. Brawl</th>\n",
       "      <td>1</td>\n",
       "      <td>12.84</td>\n",
       "    </tr>\n",
       "    <tr>\n",
       "      <th>Mario Kart 7</th>\n",
       "      <td>1</td>\n",
       "      <td>12.65</td>\n",
       "    </tr>\n",
       "    <tr>\n",
       "      <th>Animal Crossing: Wild World</th>\n",
       "      <td>1</td>\n",
       "      <td>12.14</td>\n",
       "    </tr>\n",
       "    <tr>\n",
       "      <th>Halo 3</th>\n",
       "      <td>1</td>\n",
       "      <td>12.12</td>\n",
       "    </tr>\n",
       "    <tr>\n",
       "      <th>Pokemon HeartGold/Pokemon SoulSilver</th>\n",
       "      <td>1</td>\n",
       "      <td>11.77</td>\n",
       "    </tr>\n",
       "    <tr>\n",
       "      <th>Pokemon Omega Ruby/Pokemon Alpha Sapphire</th>\n",
       "      <td>1</td>\n",
       "      <td>11.68</td>\n",
       "    </tr>\n",
       "    <tr>\n",
       "      <th>Gran Turismo 4</th>\n",
       "      <td>1</td>\n",
       "      <td>11.65</td>\n",
       "    </tr>\n",
       "    <tr>\n",
       "      <th>Super Mario Galaxy</th>\n",
       "      <td>1</td>\n",
       "      <td>11.35</td>\n",
       "    </tr>\n",
       "    <tr>\n",
       "      <th>Super Mario Land 2: 6 Golden Coins</th>\n",
       "      <td>1</td>\n",
       "      <td>11.18</td>\n",
       "    </tr>\n",
       "    <tr>\n",
       "      <th>Gran Turismo</th>\n",
       "      <td>1</td>\n",
       "      <td>10.95</td>\n",
       "    </tr>\n",
       "    <tr>\n",
       "      <th>Super Mario 3D Land</th>\n",
       "      <td>1</td>\n",
       "      <td>10.81</td>\n",
       "    </tr>\n",
       "    <tr>\n",
       "      <th>Gran Turismo 5</th>\n",
       "      <td>1</td>\n",
       "      <td>10.70</td>\n",
       "    </tr>\n",
       "    <tr>\n",
       "      <th>Super Mario All-Stars</th>\n",
       "      <td>1</td>\n",
       "      <td>10.55</td>\n",
       "    </tr>\n",
       "    <tr>\n",
       "      <th>Pokemon FireRed/Pokemon LeafGreen</th>\n",
       "      <td>1</td>\n",
       "      <td>10.49</td>\n",
       "    </tr>\n",
       "    <tr>\n",
       "      <th>Call of Duty: Ghosts</th>\n",
       "      <td>1</td>\n",
       "      <td>10.24</td>\n",
       "    </tr>\n",
       "    <tr>\n",
       "      <th>Just Dance 3</th>\n",
       "      <td>1</td>\n",
       "      <td>10.12</td>\n",
       "    </tr>\n",
       "  </tbody>\n",
       "</table>\n",
       "</div>"
      ],
      "text/plain": [
       "                                              count    sum\n",
       "name                                                      \n",
       "Wii Sports                                        1  82.54\n",
       "Grand Theft Auto V                                3  49.94\n",
       "Super Mario Bros.                                 1  40.24\n",
       "Mario Kart Wii                                    1  35.52\n",
       "Wii Sports Resort                                 1  32.77\n",
       "Pokemon Red/Pokemon Blue                          1  31.38\n",
       "Tetris                                            1  30.26\n",
       "New Super Mario Bros.                             1  29.80\n",
       "Wii Play                                          1  28.91\n",
       "New Super Mario Bros. Wii                         1  28.32\n",
       "Duck Hunt                                         1  28.31\n",
       "Call of Duty: Modern Warfare 3                    2  28.06\n",
       "Call of Duty: Black Ops II                        2  27.47\n",
       "Call of Duty: Black Ops                           2  27.25\n",
       "Nintendogs                                        1  24.67\n",
       "Call of Duty: Modern Warfare 2                    2  24.08\n",
       "Mario Kart DS                                     1  23.21\n",
       "Pokemon Gold/Pokemon Silver                       1  23.09\n",
       "Wii Fit                                           1  22.70\n",
       "Super Mario 64                                    2  22.20\n",
       "Kinect Adventures!                                1  21.82\n",
       "Wii Fit Plus                                      1  21.80\n",
       "Grand Theft Auto IV                               2  21.50\n",
       "Grand Theft Auto: San Andreas                     1  20.81\n",
       "Super Mario World                                 1  20.62\n",
       "Brain Age: Train Your Brain in Minutes a Day      1  20.14\n",
       "Pokemon Diamond/Pokemon Pearl                     1  18.24\n",
       "Super Mario Land                                  1  18.14\n",
       "Super Mario Bros. 3                               1  17.28\n",
       "Grand Theft Auto: Vice City                       1  16.15\n",
       "Pokemon Ruby/Pokemon Sapphire                     1  15.84\n",
       "Brain Age 2: More Training in Minutes a Day       1  15.28\n",
       "Pokemon Black/Pokemon White                       1  15.13\n",
       "Gran Turismo 3: A-Spec                            1  14.97\n",
       "Pokémon Yellow: Special Pikachu Edition           1  14.64\n",
       "Call of Duty: Black Ops 3                         1  14.63\n",
       "Pokemon X/Pokemon Y                               1  14.60\n",
       "Grand Theft Auto III                              1  13.10\n",
       "Super Smash Bros. Brawl                           1  12.84\n",
       "Mario Kart 7                                      1  12.65\n",
       "Animal Crossing: Wild World                       1  12.14\n",
       "Halo 3                                            1  12.12\n",
       "Pokemon HeartGold/Pokemon SoulSilver              1  11.77\n",
       "Pokemon Omega Ruby/Pokemon Alpha Sapphire         1  11.68\n",
       "Gran Turismo 4                                    1  11.65\n",
       "Super Mario Galaxy                                1  11.35\n",
       "Super Mario Land 2: 6 Golden Coins                1  11.18\n",
       "Gran Turismo                                      1  10.95\n",
       "Super Mario 3D Land                               1  10.81\n",
       "Gran Turismo 5                                    1  10.70\n",
       "Super Mario All-Stars                             1  10.55\n",
       "Pokemon FireRed/Pokemon LeafGreen                 1  10.49\n",
       "Call of Duty: Ghosts                              1  10.24\n",
       "Just Dance 3                                      1  10.12"
      ]
     },
     "execution_count": 47,
     "metadata": {},
     "output_type": "execute_result"
    }
   ],
   "source": [
    "# посмотрим что это за игры где колличесвто продаж больше 10  мл. может это выброс который можно будет убрать\n",
    "large_total_sales = (\n",
    "    df.loc[df[\"total_sales\"] > 10]\n",
    "    .groupby(\"name\")\n",
    "    .agg({\"total_sales\": [\"count\", \"sum\"]})\n",
    ")\n",
    "large_total_sales.columns = [\"count\", \"sum\"]\n",
    "large_total_sales.sort_values(\"sum\", ascending=False)"
   ]
  },
  {
   "cell_type": "markdown",
   "metadata": {},
   "source": [
    "Необычных игр нет. Но вот что интересно по колличеству продаж в топ выбилась игра 'Wii Sports\" - эта игра быда выпущена производителм Nintendo и распротсронялась вместе с приставкой. Для Nintendo можно убрать эту игру и посмотреть как будет выглядить зависимость. "
   ]
  },
  {
   "cell_type": "code",
   "execution_count": 48,
   "metadata": {},
   "outputs": [
    {
     "data": {
      "image/png": "[encoded data removed]",
      "text/plain": [
       "<Figure size 1080x360 with 2 Axes>"
      ]
     },
     "metadata": {
      "needs_background": "light"
     },
     "output_type": "display_data"
    },
    {
     "name": "stdout",
     "output_type": "stream",
     "text": [
      "Корреляция между оценками пользователя и колличеством продаж 0.13217192230672797\n",
      "Корреляция между оценками критиков и колличеством продаж 0.22119331876996856\n"
     ]
    }
   ],
   "source": [
    "platform = df[(df[\"platform\"] == \"Wii\") & (df[\"total_sales\"] < 80)]\n",
    "ffig, ax = plt.subplots(1, 2, figsize=(15, 5))\n",
    "sns.scatterplot(x=\"user_score\", y=\"total_sales\", data=platform, ax=ax[0])\n",
    "sns.scatterplot(x=\"critic_score\", y=\"total_sales\", data=platform, ax=ax[1])\n",
    "\n",
    "ax[0].set(xlabel=\"Оценка пользователей\")\n",
    "ax[1].set(xlabel=\"Оценка критиков\")\n",
    "ax[0].set(ylabel=\"Количество продаж\")\n",
    "ax[1].set(ylabel=\"Количество продаж\")\n",
    "\n",
    "correl = platform[\"user_score\"].corr(platform[\"total_sales\"])\n",
    "critic_correl = platform[\"critic_score\"].corr(platform[\"total_sales\"])\n",
    "plt.show()\n",
    "print(\"Корреляция между оценками пользователя и колличеством продаж\", correl)\n",
    "print(\"Корреляция между оценками критиков и колличеством продаж\", critic_correl)"
   ]
  },
  {
   "cell_type": "markdown",
   "metadata": {},
   "source": [
    "Это не сильно поменяло результат."
   ]
  },
  {
   "cell_type": "markdown",
   "metadata": {},
   "source": [
    "**Вывод:**\n",
    "- Из графиков видно, что прямой (линейной) зависимости между количеством проданных игр и оценками пользователей и критиков нет.\n",
    "- В тоже время мы можем наблюдать нелинейную зависимость, так при значительно высоких оценок пользователя и критика по экспоненте возрастает количество продаж."
   ]
  },
  {
   "cell_type": "markdown",
   "metadata": {},
   "source": [
    "### 3.7 Определить как жанры влияют на продажи игр </p> <a class=\"anchor\" id=\"3.7\"></a>"
   ]
  },
  {
   "cell_type": "code",
   "execution_count": 49,
   "metadata": {},
   "outputs": [
    {
     "data": {
      "text/html": [
       "<div>\n",
       "<style scoped>\n",
       "    .dataframe tbody tr th:only-of-type {\n",
       "        vertical-align: middle;\n",
       "    }\n",
       "\n",
       "    .dataframe tbody tr th {\n",
       "        vertical-align: top;\n",
       "    }\n",
       "\n",
       "    .dataframe thead th {\n",
       "        text-align: right;\n",
       "    }\n",
       "</style>\n",
       "<table border=\"1\" class=\"dataframe\">\n",
       "  <thead>\n",
       "    <tr style=\"text-align: right;\">\n",
       "      <th></th>\n",
       "      <th>genre</th>\n",
       "      <th>mean</th>\n",
       "      <th>median</th>\n",
       "    </tr>\n",
       "  </thead>\n",
       "  <tbody>\n",
       "    <tr>\n",
       "      <th>4</th>\n",
       "      <td>Platform</td>\n",
       "      <td>0.932173</td>\n",
       "      <td>0.27</td>\n",
       "    </tr>\n",
       "    <tr>\n",
       "      <th>8</th>\n",
       "      <td>Shooter</td>\n",
       "      <td>0.795503</td>\n",
       "      <td>0.24</td>\n",
       "    </tr>\n",
       "    <tr>\n",
       "      <th>10</th>\n",
       "      <td>Sports</td>\n",
       "      <td>0.566980</td>\n",
       "      <td>0.22</td>\n",
       "    </tr>\n",
       "    <tr>\n",
       "      <th>2</th>\n",
       "      <td>Fighting</td>\n",
       "      <td>0.527126</td>\n",
       "      <td>0.21</td>\n",
       "    </tr>\n",
       "    <tr>\n",
       "      <th>0</th>\n",
       "      <td>Action</td>\n",
       "      <td>0.517711</td>\n",
       "      <td>0.19</td>\n",
       "    </tr>\n",
       "    <tr>\n",
       "      <th>6</th>\n",
       "      <td>Racing</td>\n",
       "      <td>0.583403</td>\n",
       "      <td>0.19</td>\n",
       "    </tr>\n",
       "    <tr>\n",
       "      <th>7</th>\n",
       "      <td>Role-Playing</td>\n",
       "      <td>0.623872</td>\n",
       "      <td>0.18</td>\n",
       "    </tr>\n",
       "    <tr>\n",
       "      <th>3</th>\n",
       "      <td>Misc</td>\n",
       "      <td>0.458577</td>\n",
       "      <td>0.16</td>\n",
       "    </tr>\n",
       "    <tr>\n",
       "      <th>9</th>\n",
       "      <td>Simulation</td>\n",
       "      <td>0.446701</td>\n",
       "      <td>0.15</td>\n",
       "    </tr>\n",
       "    <tr>\n",
       "      <th>5</th>\n",
       "      <td>Puzzle</td>\n",
       "      <td>0.418224</td>\n",
       "      <td>0.11</td>\n",
       "    </tr>\n",
       "    <tr>\n",
       "      <th>11</th>\n",
       "      <td>Strategy</td>\n",
       "      <td>0.255095</td>\n",
       "      <td>0.10</td>\n",
       "    </tr>\n",
       "    <tr>\n",
       "      <th>1</th>\n",
       "      <td>Adventure</td>\n",
       "      <td>0.182341</td>\n",
       "      <td>0.05</td>\n",
       "    </tr>\n",
       "  </tbody>\n",
       "</table>\n",
       "</div>"
      ],
      "text/plain": [
       "           genre      mean  median\n",
       "4       Platform  0.932173    0.27\n",
       "8        Shooter  0.795503    0.24\n",
       "10        Sports  0.566980    0.22\n",
       "2       Fighting  0.527126    0.21\n",
       "0         Action  0.517711    0.19\n",
       "6         Racing  0.583403    0.19\n",
       "7   Role-Playing  0.623872    0.18\n",
       "3           Misc  0.458577    0.16\n",
       "9     Simulation  0.446701    0.15\n",
       "5         Puzzle  0.418224    0.11\n",
       "11      Strategy  0.255095    0.10\n",
       "1      Adventure  0.182341    0.05"
      ]
     },
     "execution_count": 49,
     "metadata": {},
     "output_type": "execute_result"
    }
   ],
   "source": [
    "# сгруппируем данные по плотформам и числу продаж игр на этих платформах\n",
    "genre_platform = (\n",
    "    df.groupby(\"genre\")[\"total_sales\"]\n",
    "    .agg([\"mean\", \"median\"])\n",
    "    .reset_index()\n",
    "    .sort_values(by=\"median\", ascending=False)\n",
    ")\n",
    "genre_platform"
   ]
  },
  {
   "cell_type": "code",
   "execution_count": 50,
   "metadata": {},
   "outputs": [
    {
     "data": {
      "image/png": "[encoded data removed]",
      "text/plain": [
       "<Figure size 936x432 with 1 Axes>"
      ]
     },
     "metadata": {
      "needs_background": "light"
     },
     "output_type": "display_data"
    }
   ],
   "source": [
    "# построю график\n",
    "plt.figure(figsize=(13, 6))\n",
    "sns.barplot(data=genre_platform, x=\"genre\", y=\"median\")\n",
    "plt.title(\"Зависимость колличества продаж игр от жанра игры\")\n",
    "plt.xlabel(\"Название жанра\")\n",
    "plt.ylabel(\"Количество продаж\")\n",
    "plt.grid()\n",
    "plt.show()"
   ]
  },
  {
   "cell_type": "markdown",
   "metadata": {},
   "source": [
    "### 3.8 Вывод </p> <a class=\"anchor\" id=\"3.8\"></a>"
   ]
  },
  {
   "cell_type": "markdown",
   "metadata": {},
   "source": [
    "1. C 2005 года начался рост продаж игр, с 2010 наблюдается спад.\n",
    "2. Топ самых популярных платформ в порядке убывания - PS2(Sony), X360(Microsoft), PS3((Sony), WII(Nintendo), DS(Nintendo), PS(Sony).\n",
    "3. Средняя продолжительность жизни игровой платформы составляет 7 лет.\n",
    "4. Самые популярные производители платформ для игр в порядке убывания - Sonу, Nintendo, Microsoft.\n",
    "5. Перспективные  платформы 2016 год с наибольшим количеством продаж - PS4(Sonу) и  XBOX(Microsoft). Но на этих  платформ количество продаж игр падает.\n",
    "6. Прямой (линейной) зависимости между количеством проданных игр и оценками пользователей и критиков нет. Наблюдается нелинейная зависимость, так при значительно высоких оценок пользователя и критика по экспоненте возрастает количество продаж."
   ]
  },
  {
   "cell_type": "markdown",
   "metadata": {},
   "source": [
    "## 4. Портрет пользователя каждого региона  </p> <a class=\"anchor\" id=\"4\"></a>"
   ]
  },
  {
   "cell_type": "markdown",
   "metadata": {},
   "source": [
    "### 4.1 Популярные платформы  </p> <a class=\"anchor\" id=\"4.1\"></a>"
   ]
  },
  {
   "cell_type": "code",
   "execution_count": 51,
   "metadata": {
    "scrolled": true
   },
   "outputs": [
    {
     "data": {
      "image/png": "[encoded data removed]",
      "text/plain": [
       "<Figure size 1440x432 with 3 Axes>"
      ]
     },
     "metadata": {
      "needs_background": "light"
     },
     "output_type": "display_data"
    }
   ],
   "source": [
    "# Посмотрим на самые популярные платформы возьмем данные с 2012 года\n",
    "n = 0\n",
    "plt.figure(figsize=(20, 6))\n",
    "for i in [\"na_sales\", \"eu_sales\", \"jp_sales\"]:\n",
    "    genre_platforms = (\n",
    "        df.loc[df[\"year_of_release\"] > 2012]\n",
    "        .pivot_table(index=\"platform\", values=i, aggfunc=\"median\")\n",
    "        .sort_values(by=i, ascending=False)\n",
    "        .head(5)\n",
    "    )\n",
    "    n += 1\n",
    "    plt.subplot(1, 3, n)\n",
    "    plt.bar(genre_platforms.index, genre_platforms[i])\n",
    "    plt.ylim(0, 0.16)\n",
    "    plt.xlabel(\"Название платформы\")\n",
    "    plt.ylabel(\"Количество продаж\")\n",
    "    plt.title(i)"
   ]
  },
  {
   "cell_type": "markdown",
   "metadata": {},
   "source": [
    "**Вывод:**\n",
    "\n",
    "- В Америке на первом месте X360, второе - Wii, третье PS2. \n",
    "\n",
    "- В Европе на первом месте PS3, на втором X360, на третьем Wii.\n",
    "\n",
    "- В Японии на первом месте DS, на втором 3DS и на третьем - PS3.\n",
    "\n",
    "**Если выпускать игры, то я бы выпускал на платформе Sony, X360 и DS** \n"
   ]
  },
  {
   "cell_type": "markdown",
   "metadata": {},
   "source": [
    "### 4. 2 Популярные жанры  </p> <a class=\"anchor\" id=\"4.2\"></a>"
   ]
  },
  {
   "cell_type": "code",
   "execution_count": 52,
   "metadata": {
    "scrolled": true
   },
   "outputs": [
    {
     "data": {
      "image/png": "[encoded data removed]",
      "text/plain": [
       "<Figure size 1440x432 with 3 Axes>"
      ]
     },
     "metadata": {
      "needs_background": "light"
     },
     "output_type": "display_data"
    }
   ],
   "source": [
    "# Посмотрим на самые популярные жанры\n",
    "n = 0\n",
    "plt.figure(figsize=(20, 6))\n",
    "for i in [\"na_sales\", \"eu_sales\", \"jp_sales\"]:\n",
    "    genre_platforms = (\n",
    "        df.loc[df[\"year_of_release\"] > 2012]\n",
    "        .pivot_table(index=\"genre\", values=i, aggfunc=\"median\")\n",
    "        .sort_values(by=i, ascending=False)\n",
    "        .head(5)\n",
    "    )\n",
    "    n += 1\n",
    "    plt.subplot(1, 3, n)\n",
    "    plt.bar(genre_platforms.index, genre_platforms[i])\n",
    "    plt.ylim(0, 0.205)\n",
    "    plt.xlabel(\"Название жанра\")\n",
    "    plt.ylabel(\"Количество продаж\")\n",
    "    plt.title(i)"
   ]
  },
  {
   "cell_type": "markdown",
   "metadata": {},
   "source": [
    "**Вывод:**\n",
    "\n",
    "- В Америке и Европе топ-5 жанров распредилились одинково за исключением на 5 место по продажам в Америке жанр Role-Playing, в Европе - Racing. \n",
    "\n",
    "- На первом месте по продажам игр Америка, второе - Европа, третье Япония.\n",
    "\n",
    "- В Японии на первом месте по продажам игры в жанре Role-Playing на втором месте - Action причем колличество продаж в жанре Action почти в два раза меньше у жанра Role-Playing.\n",
    "\n",
    "**Если выпускать игры, то я бы выпускал в жанре   Action** "
   ]
  },
  {
   "cell_type": "markdown",
   "metadata": {},
   "source": [
    "### 4. 3  Влияние рейтинга ESRB на продажи  </p> <a class=\"anchor\" id=\"4.3\"></a>"
   ]
  },
  {
   "cell_type": "code",
   "execution_count": 53,
   "metadata": {},
   "outputs": [],
   "source": [
    "df[\"rating\"] = df[\"rating\"].fillna(\"No_rating\")"
   ]
  },
  {
   "cell_type": "code",
   "execution_count": 54,
   "metadata": {},
   "outputs": [
    {
     "data": {
      "image/png": "[encoded data removed]",
      "text/plain": [
       "<Figure size 1440x432 with 3 Axes>"
      ]
     },
     "metadata": {
      "needs_background": "light"
     },
     "output_type": "display_data"
    }
   ],
   "source": [
    "n = 0\n",
    "plt.figure(figsize=(20, 6))\n",
    "for i in [\"na_sales\", \"eu_sales\", \"jp_sales\"]:\n",
    "    genre_platforms = (\n",
    "        df.loc[df[\"year_of_release\"] > 2012]\n",
    "        .pivot_table(index=\"rating\", values=i, aggfunc=\"median\")\n",
    "        .sort_values(by=i, ascending=False)\n",
    "        .head(5)\n",
    "    )\n",
    "    n += 1\n",
    "    plt.subplot(1, 4, n)\n",
    "    plt.ylim(0, 0.15)\n",
    "    plt.bar(genre_platforms.index, genre_platforms[i])\n",
    "    plt.xlabel(\"Название жанра\")\n",
    "    plt.ylabel(\"Количество продаж\")\n",
    "    plt.title(i)"
   ]
  },
  {
   "cell_type": "markdown",
   "metadata": {},
   "source": [
    "**Вывод**\n",
    "- Колличество продаж  игр по рейтингам в Америке и Европе распределена одинаково \"От 17 и выше\", \"для всех от 10 лет и старше\" и \"для всех\" и на последнем месте без рейтнинга.\n",
    "- В Японии все по другому на первом месте продажи игр без рейтинга и понятно что ESRB выставляет оценки играм из Америки и Канады. В Японии есть свое рейтинговое агенство CERO."
   ]
  },
  {
   "cell_type": "markdown",
   "metadata": {},
   "source": [
    "### 4. 4  Вывод  </p> <a class=\"anchor\" id=\"4.4\"></a>"
   ]
  },
  {
   "cell_type": "markdown",
   "metadata": {},
   "source": [
    "Что-бы  **получать стабильно высокие продажи** необходимо:\n",
    " - Выпускать игры на платформе X360, XOne Wii и DS и лучше продовать их в Северной Америке и Европе.\n",
    " - Выпускать в жанре в Северной Америке и Европе - Shooter, Plarform и Sports(Северная Америка) Racing(Европа).\n",
    " - В Америке и Европе игры с рейтингом \"От 17 и выше\", \"для всех от 10 лет и старше\" и \"для всех. В Японии надо посмотреть рейтинг агенства CERO."
   ]
  },
  {
   "cell_type": "markdown",
   "metadata": {},
   "source": [
    "## 5. Проверка гипотез  </p> <a class=\"anchor\" id=\"5\"></a>"
   ]
  },
  {
   "cell_type": "markdown",
   "metadata": {},
   "source": [
    "**Сформулируем нулевые гипотезы:**\n",
    "\n",
    "Нулевая гипотеза H₀: Средние пользовательские рейтинги платформ Xbox One и PC одинаковые;\n",
    "\n",
    "Альтернативная гипотеза H₁: Средние пользовательские рейтинги платформ Xbox One и PC различаются"
   ]
  },
  {
   "cell_type": "markdown",
   "metadata": {},
   "source": [
    "Когда генеральных совокупностей две, и нужно сопоставить их\n",
    "средние, то-есть проверить гипотезу о равенстве среднего двух\n",
    "генеральных совокупностей по взятым из них выборкам, применяется метод st.ttest_ind"
   ]
  },
  {
   "cell_type": "code",
   "execution_count": 55,
   "metadata": {},
   "outputs": [
    {
     "name": "stdout",
     "output_type": "stream",
     "text": [
      "средний рейтинг пользователя для xbox платформ 6.52142857142857\n",
      "средний рейтинг пользователя для PC платформ 6.269677419354836\n"
     ]
    }
   ],
   "source": [
    "# Сохраним в переменных xbox и pc данные  c 2012 года)\n",
    "xbox = df[(df[\"platform\"] == \"XOne\") & (df[\"year_of_release\"] > 2012)][\"user_score\"]\n",
    "pc = df[(df[\"platform\"] == \"PC\") & (df[\"year_of_release\"] > 2012)][\"user_score\"]\n",
    "\n",
    "# Посчитаем средний рейтинг пользователя для xbox и PC\n",
    "print(\"средний рейтинг пользователя для xbox платформ\", xbox.mean())\n",
    "print(\"средний рейтинг пользователя для PC платформ\", pc.mean())"
   ]
  },
  {
   "cell_type": "code",
   "execution_count": 56,
   "metadata": {},
   "outputs": [
    {
     "name": "stdout",
     "output_type": "stream",
     "text": [
      "p-значение: 0.14759594013430463\n",
      "Не получилось отвергнуть нулевую гипотезу\n"
     ]
    }
   ],
   "source": [
    "# Выполним проверку гипотезы. Будем использовать метод ttest_ind\n",
    "\n",
    "alpha = 0.05\n",
    "\n",
    "results = st.ttest_ind(xbox.dropna(), pc.dropna(), equal_var=False)\n",
    "\n",
    "print(\"p-значение:\", results.pvalue)\n",
    "\n",
    "\n",
    "if results.pvalue < alpha:\n",
    "    print(\"Отвергаем нулевую гипотезу\")\n",
    "else:\n",
    "    print(\"Не получилось отвергнуть нулевую гипотезу\")"
   ]
  },
  {
   "cell_type": "markdown",
   "metadata": {},
   "source": [
    "При проведении нашего теста мы не обнаружили статистически значимые различия в средней оценки пользователями игр на платформах PS и XBOX. "
   ]
  },
  {
   "cell_type": "markdown",
   "metadata": {},
   "source": [
    "**Сформулируем нулевые гипотезы:**\n",
    "\n",
    "Нулевая гипотеза H₀: Средние пользовательские рейтинги жанров Action и Sports одинаковые\n",
    "\n",
    "Альтернативная гипотеза H₁: Средние пользовательские рейтинги жанров Action и Sports различаются"
   ]
  },
  {
   "cell_type": "code",
   "execution_count": 57,
   "metadata": {},
   "outputs": [
    {
     "name": "stdout",
     "output_type": "stream",
     "text": [
      "средний рейтинг пользователя для xbox платформ 6.837532133676097\n",
      "средний рейтинг пользователя для PC платформ 5.238124999999999\n"
     ]
    }
   ],
   "source": [
    "genre_action = df[(df['genre']=='Action') & (df['year_of_release']>2012)]['user_score']\n",
    "genre_sports = df[(df['genre']=='Sports') & (df['year_of_release']>2012)]['user_score']\n",
    "\n",
    "# Посчитаем средний рейтинг пользователя для action и sports\n",
    "print(\"средний рейтинг пользователя для xbox платформ\", genre_action.mean())\n",
    "print(\"средний рейтинг пользователя для PC платформ\", genre_sports.mean())"
   ]
  },
  {
   "cell_type": "code",
   "execution_count": 58,
   "metadata": {},
   "outputs": [
    {
     "name": "stdout",
     "output_type": "stream",
     "text": [
      "p-значение: 1.4460039700704315e-20\n",
      "Отвергаем нулевую гипотезу\n"
     ]
    }
   ],
   "source": [
    "alpha = .05\n",
    "\n",
    "results = st.ttest_ind(genre_action.dropna(), genre_sports.dropna(), equal_var=False)\n",
    "\n",
    "print('p-значение:', results.pvalue)\n",
    "\n",
    "\n",
    "if (results.pvalue < alpha):\n",
    "    print(\"Отвергаем нулевую гипотезу\")\n",
    "else:\n",
    "    print(\"Не получилось отвергнуть нулевую гипотезу\")"
   ]
  },
  {
   "cell_type": "markdown",
   "metadata": {},
   "source": [
    "**Вывод:** \n",
    "    \n",
    "При проведении нашего теста мы обнаружили статистически значимые различия в средней оценки пользователями игр  в жанрах Action и PS. "
   ]
  },
  {
   "cell_type": "markdown",
   "metadata": {},
   "source": [
    "## 6. Общий вывод  </p> <a class=\"anchor\" id=\"6\"></a>"
   ]
  },
  {
   "cell_type": "markdown",
   "metadata": {},
   "source": [
    "1. Успешность игры зависит от платформы на которой разработана игра. С 1985 года в ТОП-5 платформ по продажам игр вошли PS2, X360, PS3,  Wii и DS. C 2014 года в лидерах по продажам игр платформы PS4 b XOne.\n",
    "2. В среднем от момента первого издания игры на платформе, до релиза последней игры проходит 7,5 лет. Дольше всех издаются игры на платформах PS и DS.\n",
    "3. С 2012 года наблюдается тенденция к уменьшению числа продаж игр на различных платформах. На 2016 год  перспективными платформами для издания игр являются PS4 и ХOne.\n",
    "4. Корреляции меджду оценками пользователей и колличеством продаж  почти нет, а вот  корреляция межуду оценками критиков и колличеством продаж есть, но она слабая, самую большую корреляцию мы наблюдаем у PS далее PS3, PS2, X360 по платформам фирмы Nintendo коррреляции почти нет.\n",
    "5. Успешность игр зависит от жанра на котором выпущена игра. ТОП-5 жанров приносящих стабильно высокий доход -  Platform, Shooter, Sports.\n",
    "6. У пользователей из регионов Северная Америка, Европа и Япония разное предпочтение в выборе платформы для игр и жанра игры. Так платформы приносящие стабильно высокий \n",
    "    - В Америке на первом месте X360, второе - XOne, третье WiiU. \n",
    "    - В Европе на первом месте Wii, на втором DS, на третьем PS4.\n",
    "    - В Японии на первом месте 3DS, на втором PS3 и на третьем - PSV.\n",
    "7. Рейтинг ESRB влияет на продажи. \n",
    "    - Колличество продаж  игр по рейтингам в Америке и Европе распределена одинаково \"От 17 и выше\", \"для всех от 10 лет и старше\" и \"для всех\" и на последнем месте без рейтнинга.\n",
    "    - В Японии все по другому на первом месте продажи игр без рейтинга и понятно что ESRB выставляет оценки играм из Америки и Канады. В Японии есть свое рейтинговое агенство CERO.\n",
    "8.    При проведении  теста мы не обнаружили статистически значимые различия в средней оценки пользователями игр на платформах PS и XBOX. При проведении  теста мы обнаружили статистически значимые различия в средней оценки пользователями игр на  в жанрах Action и PS. "
   ]
  }
 ],
 "metadata": {
  "ExecuteTimeLog": [
   {
    "duration": 3,
    "start_time": "2022-05-21T16:59:05.848Z"
   },
   {
    "duration": 1184,
    "start_time": "2022-05-21T16:59:05.864Z"
   },
   {
    "duration": 119,
    "start_time": "2022-05-21T16:59:07.049Z"
   },
   {
    "duration": 0,
    "start_time": "2022-05-21T16:59:07.171Z"
   },
   {
    "duration": 0,
    "start_time": "2022-05-21T16:59:07.172Z"
   },
   {
    "duration": 0,
    "start_time": "2022-05-21T16:59:07.174Z"
   },
   {
    "duration": 0,
    "start_time": "2022-05-21T16:59:07.175Z"
   },
   {
    "duration": 0,
    "start_time": "2022-05-21T16:59:07.176Z"
   },
   {
    "duration": 0,
    "start_time": "2022-05-21T16:59:07.177Z"
   },
   {
    "duration": 0,
    "start_time": "2022-05-21T16:59:07.178Z"
   },
   {
    "duration": 0,
    "start_time": "2022-05-21T16:59:07.179Z"
   },
   {
    "duration": 0,
    "start_time": "2022-05-21T16:59:07.195Z"
   },
   {
    "duration": 0,
    "start_time": "2022-05-21T16:59:07.196Z"
   },
   {
    "duration": 0,
    "start_time": "2022-05-21T16:59:07.200Z"
   },
   {
    "duration": 0,
    "start_time": "2022-05-21T16:59:07.201Z"
   },
   {
    "duration": 0,
    "start_time": "2022-05-21T16:59:07.203Z"
   },
   {
    "duration": 0,
    "start_time": "2022-05-21T16:59:07.205Z"
   },
   {
    "duration": 0,
    "start_time": "2022-05-21T16:59:07.210Z"
   },
   {
    "duration": 0,
    "start_time": "2022-05-21T16:59:07.211Z"
   },
   {
    "duration": 1,
    "start_time": "2022-05-21T16:59:07.211Z"
   },
   {
    "duration": 0,
    "start_time": "2022-05-21T16:59:07.212Z"
   },
   {
    "duration": 0,
    "start_time": "2022-05-21T16:59:07.213Z"
   },
   {
    "duration": 0,
    "start_time": "2022-05-21T16:59:07.214Z"
   },
   {
    "duration": 0,
    "start_time": "2022-05-21T16:59:07.214Z"
   },
   {
    "duration": 0,
    "start_time": "2022-05-21T16:59:07.215Z"
   },
   {
    "duration": 0,
    "start_time": "2022-05-21T16:59:07.218Z"
   },
   {
    "duration": 0,
    "start_time": "2022-05-21T16:59:07.223Z"
   },
   {
    "duration": 0,
    "start_time": "2022-05-21T16:59:07.225Z"
   },
   {
    "duration": 0,
    "start_time": "2022-05-21T16:59:07.226Z"
   },
   {
    "duration": 0,
    "start_time": "2022-05-21T16:59:07.228Z"
   },
   {
    "duration": 0,
    "start_time": "2022-05-21T16:59:07.230Z"
   },
   {
    "duration": 0,
    "start_time": "2022-05-21T16:59:07.231Z"
   },
   {
    "duration": 0,
    "start_time": "2022-05-21T16:59:07.233Z"
   },
   {
    "duration": 0,
    "start_time": "2022-05-21T16:59:07.234Z"
   },
   {
    "duration": 0,
    "start_time": "2022-05-21T16:59:07.234Z"
   },
   {
    "duration": 1,
    "start_time": "2022-05-21T16:59:07.235Z"
   },
   {
    "duration": 0,
    "start_time": "2022-05-21T16:59:07.237Z"
   },
   {
    "duration": 0,
    "start_time": "2022-05-21T16:59:07.238Z"
   },
   {
    "duration": 0,
    "start_time": "2022-05-21T16:59:07.240Z"
   },
   {
    "duration": 0,
    "start_time": "2022-05-21T16:59:07.242Z"
   },
   {
    "duration": 0,
    "start_time": "2022-05-21T16:59:07.243Z"
   },
   {
    "duration": 0,
    "start_time": "2022-05-21T16:59:07.245Z"
   },
   {
    "duration": 0,
    "start_time": "2022-05-21T16:59:07.246Z"
   },
   {
    "duration": 0,
    "start_time": "2022-05-21T16:59:07.248Z"
   },
   {
    "duration": 0,
    "start_time": "2022-05-21T16:59:07.295Z"
   },
   {
    "duration": 0,
    "start_time": "2022-05-21T16:59:07.296Z"
   },
   {
    "duration": 0,
    "start_time": "2022-05-21T16:59:07.298Z"
   },
   {
    "duration": 0,
    "start_time": "2022-05-21T16:59:07.300Z"
   },
   {
    "duration": 0,
    "start_time": "2022-05-21T16:59:07.301Z"
   },
   {
    "duration": 0,
    "start_time": "2022-05-21T16:59:07.304Z"
   },
   {
    "duration": 0,
    "start_time": "2022-05-21T16:59:07.305Z"
   },
   {
    "duration": 0,
    "start_time": "2022-05-21T16:59:07.307Z"
   },
   {
    "duration": 185,
    "start_time": "2022-05-21T16:59:34.566Z"
   },
   {
    "duration": 3,
    "start_time": "2022-05-21T16:59:39.051Z"
   },
   {
    "duration": 1185,
    "start_time": "2022-05-21T16:59:39.066Z"
   },
   {
    "duration": 54,
    "start_time": "2022-05-21T16:59:40.253Z"
   },
   {
    "duration": 17,
    "start_time": "2022-05-21T16:59:40.309Z"
   },
   {
    "duration": 14,
    "start_time": "2022-05-21T16:59:40.328Z"
   },
   {
    "duration": 19,
    "start_time": "2022-05-21T16:59:40.344Z"
   },
   {
    "duration": 34,
    "start_time": "2022-05-21T16:59:40.364Z"
   },
   {
    "duration": 9,
    "start_time": "2022-05-21T16:59:40.400Z"
   },
   {
    "duration": 5,
    "start_time": "2022-05-21T16:59:40.410Z"
   },
   {
    "duration": 3,
    "start_time": "2022-05-21T16:59:40.417Z"
   },
   {
    "duration": 18,
    "start_time": "2022-05-21T16:59:40.422Z"
   },
   {
    "duration": 9,
    "start_time": "2022-05-21T16:59:40.442Z"
   },
   {
    "duration": 43,
    "start_time": "2022-05-21T16:59:40.453Z"
   },
   {
    "duration": 7,
    "start_time": "2022-05-21T16:59:40.498Z"
   },
   {
    "duration": 18,
    "start_time": "2022-05-21T16:59:40.508Z"
   },
   {
    "duration": 7,
    "start_time": "2022-05-21T16:59:40.528Z"
   },
   {
    "duration": 8,
    "start_time": "2022-05-21T16:59:40.537Z"
   },
   {
    "duration": 50,
    "start_time": "2022-05-21T16:59:40.547Z"
   },
   {
    "duration": 197,
    "start_time": "2022-05-21T16:59:40.599Z"
   },
   {
    "duration": 15,
    "start_time": "2022-05-21T16:59:40.798Z"
   },
   {
    "duration": 264,
    "start_time": "2022-05-21T16:59:40.814Z"
   },
   {
    "duration": 18,
    "start_time": "2022-05-21T16:59:41.079Z"
   },
   {
    "duration": 11,
    "start_time": "2022-05-21T16:59:41.099Z"
   },
   {
    "duration": 5,
    "start_time": "2022-05-21T16:59:41.111Z"
   },
   {
    "duration": 9,
    "start_time": "2022-05-21T16:59:41.118Z"
   },
   {
    "duration": 12,
    "start_time": "2022-05-21T16:59:41.129Z"
   },
   {
    "duration": 7,
    "start_time": "2022-05-21T16:59:41.143Z"
   },
   {
    "duration": 299,
    "start_time": "2022-05-21T16:59:41.152Z"
   },
   {
    "duration": 368,
    "start_time": "2022-05-21T16:59:41.453Z"
   },
   {
    "duration": 7,
    "start_time": "2022-05-21T16:59:41.823Z"
   },
   {
    "duration": 6,
    "start_time": "2022-05-21T16:59:41.832Z"
   },
   {
    "duration": 12,
    "start_time": "2022-05-21T16:59:41.840Z"
   },
   {
    "duration": 43,
    "start_time": "2022-05-21T16:59:41.854Z"
   },
   {
    "duration": 356,
    "start_time": "2022-05-21T16:59:41.899Z"
   },
   {
    "duration": 5,
    "start_time": "2022-05-21T16:59:42.256Z"
   },
   {
    "duration": 12,
    "start_time": "2022-05-21T16:59:42.262Z"
   },
   {
    "duration": 305,
    "start_time": "2022-05-21T16:59:42.276Z"
   },
   {
    "duration": 5,
    "start_time": "2022-05-21T16:59:42.583Z"
   },
   {
    "duration": 484,
    "start_time": "2022-05-21T16:59:42.589Z"
   },
   {
    "duration": 215,
    "start_time": "2022-05-21T16:59:43.075Z"
   },
   {
    "duration": 5,
    "start_time": "2022-05-21T16:59:43.292Z"
   },
   {
    "duration": 1690,
    "start_time": "2022-05-21T16:59:43.300Z"
   },
   {
    "duration": 17,
    "start_time": "2022-05-21T16:59:44.995Z"
   },
   {
    "duration": 288,
    "start_time": "2022-05-21T16:59:45.014Z"
   },
   {
    "duration": 255,
    "start_time": "2022-05-21T16:59:45.303Z"
   },
   {
    "duration": 346,
    "start_time": "2022-05-21T16:59:45.560Z"
   },
   {
    "duration": 357,
    "start_time": "2022-05-21T16:59:45.908Z"
   },
   {
    "duration": 420,
    "start_time": "2022-05-21T16:59:46.267Z"
   },
   {
    "duration": 13,
    "start_time": "2022-05-21T16:59:46.689Z"
   },
   {
    "duration": 31,
    "start_time": "2022-05-21T16:59:46.704Z"
   },
   {
    "duration": 15,
    "start_time": "2022-05-21T16:59:46.736Z"
   },
   {
    "duration": 10,
    "start_time": "2022-05-21T16:59:46.753Z"
   },
   {
    "duration": 52,
    "start_time": "2022-05-21T17:00:19.114Z"
   },
   {
    "duration": 43,
    "start_time": "2022-05-21T17:00:19.473Z"
   },
   {
    "duration": 10,
    "start_time": "2022-05-21T17:01:03.332Z"
   },
   {
    "duration": 5,
    "start_time": "2022-05-21T17:01:05.422Z"
   },
   {
    "duration": 4,
    "start_time": "2022-05-21T17:01:10.412Z"
   },
   {
    "duration": 6,
    "start_time": "2022-05-21T17:01:40.411Z"
   },
   {
    "duration": 4,
    "start_time": "2022-05-23T07:15:15.758Z"
   },
   {
    "duration": 1406,
    "start_time": "2022-05-23T07:15:15.772Z"
   },
   {
    "duration": 85,
    "start_time": "2022-05-23T07:15:17.180Z"
   },
   {
    "duration": 25,
    "start_time": "2022-05-23T07:15:17.268Z"
   },
   {
    "duration": 15,
    "start_time": "2022-05-23T07:15:17.295Z"
   },
   {
    "duration": 21,
    "start_time": "2022-05-23T07:15:17.312Z"
   },
   {
    "duration": 23,
    "start_time": "2022-05-23T07:15:17.353Z"
   },
   {
    "duration": 16,
    "start_time": "2022-05-23T07:15:17.379Z"
   },
   {
    "duration": 19,
    "start_time": "2022-05-23T07:15:17.397Z"
   },
   {
    "duration": 19,
    "start_time": "2022-05-23T07:15:17.419Z"
   },
   {
    "duration": 24,
    "start_time": "2022-05-23T07:15:17.440Z"
   },
   {
    "duration": 22,
    "start_time": "2022-05-23T07:15:17.466Z"
   },
   {
    "duration": 21,
    "start_time": "2022-05-23T07:15:17.489Z"
   },
   {
    "duration": 14,
    "start_time": "2022-05-23T07:15:17.512Z"
   },
   {
    "duration": 27,
    "start_time": "2022-05-23T07:15:17.530Z"
   },
   {
    "duration": 8,
    "start_time": "2022-05-23T07:15:17.559Z"
   },
   {
    "duration": 40,
    "start_time": "2022-05-23T07:15:17.569Z"
   },
   {
    "duration": 36,
    "start_time": "2022-05-23T07:15:17.610Z"
   },
   {
    "duration": 215,
    "start_time": "2022-05-23T07:15:17.649Z"
   },
   {
    "duration": 16,
    "start_time": "2022-05-23T07:15:17.865Z"
   },
   {
    "duration": 281,
    "start_time": "2022-05-23T07:15:17.882Z"
   },
   {
    "duration": 17,
    "start_time": "2022-05-23T07:15:18.164Z"
   },
   {
    "duration": 19,
    "start_time": "2022-05-23T07:15:18.183Z"
   },
   {
    "duration": 13,
    "start_time": "2022-05-23T07:15:18.203Z"
   },
   {
    "duration": 20,
    "start_time": "2022-05-23T07:15:18.217Z"
   },
   {
    "duration": 21,
    "start_time": "2022-05-23T07:15:18.239Z"
   },
   {
    "duration": 17,
    "start_time": "2022-05-23T07:15:18.261Z"
   },
   {
    "duration": 277,
    "start_time": "2022-05-23T07:15:18.280Z"
   },
   {
    "duration": 134,
    "start_time": "2022-05-23T07:15:18.559Z"
   },
   {
    "duration": 0,
    "start_time": "2022-05-23T07:15:18.695Z"
   },
   {
    "duration": 0,
    "start_time": "2022-05-23T07:15:18.696Z"
   },
   {
    "duration": 0,
    "start_time": "2022-05-23T07:15:18.697Z"
   },
   {
    "duration": 0,
    "start_time": "2022-05-23T07:15:18.698Z"
   },
   {
    "duration": 0,
    "start_time": "2022-05-23T07:15:18.699Z"
   },
   {
    "duration": 0,
    "start_time": "2022-05-23T07:15:18.700Z"
   },
   {
    "duration": 0,
    "start_time": "2022-05-23T07:15:18.702Z"
   },
   {
    "duration": 0,
    "start_time": "2022-05-23T07:15:18.703Z"
   },
   {
    "duration": 0,
    "start_time": "2022-05-23T07:15:18.704Z"
   },
   {
    "duration": 0,
    "start_time": "2022-05-23T07:15:18.706Z"
   },
   {
    "duration": 0,
    "start_time": "2022-05-23T07:15:18.706Z"
   },
   {
    "duration": 0,
    "start_time": "2022-05-23T07:15:18.707Z"
   },
   {
    "duration": 0,
    "start_time": "2022-05-23T07:15:18.708Z"
   },
   {
    "duration": 0,
    "start_time": "2022-05-23T07:15:18.709Z"
   },
   {
    "duration": 0,
    "start_time": "2022-05-23T07:15:18.710Z"
   },
   {
    "duration": 0,
    "start_time": "2022-05-23T07:15:18.711Z"
   },
   {
    "duration": 0,
    "start_time": "2022-05-23T07:15:18.712Z"
   },
   {
    "duration": 0,
    "start_time": "2022-05-23T07:15:18.713Z"
   },
   {
    "duration": 0,
    "start_time": "2022-05-23T07:15:18.714Z"
   },
   {
    "duration": 0,
    "start_time": "2022-05-23T07:15:18.715Z"
   },
   {
    "duration": 0,
    "start_time": "2022-05-23T07:15:18.716Z"
   },
   {
    "duration": 0,
    "start_time": "2022-05-23T07:15:18.717Z"
   },
   {
    "duration": 0,
    "start_time": "2022-05-23T07:15:18.752Z"
   },
   {
    "duration": 0,
    "start_time": "2022-05-23T07:15:18.754Z"
   },
   {
    "duration": 0,
    "start_time": "2022-05-23T07:15:18.755Z"
   },
   {
    "duration": 0,
    "start_time": "2022-05-23T07:15:18.756Z"
   },
   {
    "duration": 1,
    "start_time": "2022-05-23T07:15:18.757Z"
   },
   {
    "duration": 25,
    "start_time": "2022-05-23T07:15:45.509Z"
   },
   {
    "duration": 3,
    "start_time": "2022-05-23T07:15:57.883Z"
   },
   {
    "duration": 44,
    "start_time": "2022-05-23T07:15:58.091Z"
   },
   {
    "duration": 15,
    "start_time": "2022-05-23T07:15:58.705Z"
   },
   {
    "duration": 14,
    "start_time": "2022-05-23T07:15:58.921Z"
   },
   {
    "duration": 19,
    "start_time": "2022-05-23T07:15:59.152Z"
   },
   {
    "duration": 18,
    "start_time": "2022-05-23T07:15:59.352Z"
   },
   {
    "duration": 10,
    "start_time": "2022-05-23T07:15:59.688Z"
   },
   {
    "duration": 6,
    "start_time": "2022-05-23T07:15:59.925Z"
   },
   {
    "duration": 4,
    "start_time": "2022-05-23T07:16:07.369Z"
   },
   {
    "duration": 14,
    "start_time": "2022-05-23T07:16:07.806Z"
   },
   {
    "duration": 8,
    "start_time": "2022-05-23T07:16:09.667Z"
   },
   {
    "duration": 22,
    "start_time": "2022-05-23T07:16:10.381Z"
   },
   {
    "duration": 10,
    "start_time": "2022-05-23T07:18:14.812Z"
   },
   {
    "duration": 23,
    "start_time": "2022-05-23T07:18:20.309Z"
   },
   {
    "duration": 57,
    "start_time": "2022-05-23T07:19:55.463Z"
   },
   {
    "duration": 270,
    "start_time": "2022-05-23T07:21:26.270Z"
   },
   {
    "duration": 190,
    "start_time": "2022-05-23T07:21:42.221Z"
   },
   {
    "duration": 337,
    "start_time": "2022-05-23T07:21:45.338Z"
   },
   {
    "duration": 33,
    "start_time": "2022-05-23T07:22:14.594Z"
   },
   {
    "duration": 17,
    "start_time": "2022-05-23T07:22:44.269Z"
   },
   {
    "duration": 18,
    "start_time": "2022-05-23T07:23:15.142Z"
   },
   {
    "duration": 496,
    "start_time": "2022-05-23T07:23:42.397Z"
   },
   {
    "duration": 5,
    "start_time": "2022-05-23T07:24:48.500Z"
   },
   {
    "duration": 1315,
    "start_time": "2022-05-23T07:24:48.509Z"
   },
   {
    "duration": 44,
    "start_time": "2022-05-23T07:24:49.826Z"
   },
   {
    "duration": 20,
    "start_time": "2022-05-23T07:24:49.872Z"
   },
   {
    "duration": 25,
    "start_time": "2022-05-23T07:24:49.894Z"
   },
   {
    "duration": 53,
    "start_time": "2022-05-23T07:24:49.922Z"
   },
   {
    "duration": 27,
    "start_time": "2022-05-23T07:24:49.977Z"
   },
   {
    "duration": 14,
    "start_time": "2022-05-23T07:24:50.007Z"
   },
   {
    "duration": 34,
    "start_time": "2022-05-23T07:24:50.023Z"
   },
   {
    "duration": 12,
    "start_time": "2022-05-23T07:24:50.059Z"
   },
   {
    "duration": 27,
    "start_time": "2022-05-23T07:24:50.073Z"
   },
   {
    "duration": 15,
    "start_time": "2022-05-23T07:24:50.102Z"
   },
   {
    "duration": 44,
    "start_time": "2022-05-23T07:24:50.120Z"
   },
   {
    "duration": 11,
    "start_time": "2022-05-23T07:24:50.176Z"
   },
   {
    "duration": 28,
    "start_time": "2022-05-23T07:24:50.192Z"
   },
   {
    "duration": 11,
    "start_time": "2022-05-23T07:24:50.222Z"
   },
   {
    "duration": 18,
    "start_time": "2022-05-23T07:24:50.235Z"
   },
   {
    "duration": 18,
    "start_time": "2022-05-23T07:24:50.255Z"
   },
   {
    "duration": 224,
    "start_time": "2022-05-23T07:24:50.275Z"
   },
   {
    "duration": 26,
    "start_time": "2022-05-23T07:24:50.501Z"
   },
   {
    "duration": 284,
    "start_time": "2022-05-23T07:24:50.529Z"
   },
   {
    "duration": 23,
    "start_time": "2022-05-23T07:24:50.815Z"
   },
   {
    "duration": 29,
    "start_time": "2022-05-23T07:24:50.839Z"
   },
   {
    "duration": 14,
    "start_time": "2022-05-23T07:24:50.870Z"
   },
   {
    "duration": 13,
    "start_time": "2022-05-23T07:24:50.886Z"
   },
   {
    "duration": 18,
    "start_time": "2022-05-23T07:24:50.901Z"
   },
   {
    "duration": 13,
    "start_time": "2022-05-23T07:24:50.920Z"
   },
   {
    "duration": 307,
    "start_time": "2022-05-23T07:24:50.953Z"
   },
   {
    "duration": 447,
    "start_time": "2022-05-23T07:24:51.262Z"
   },
   {
    "duration": 8,
    "start_time": "2022-05-23T07:24:51.711Z"
   },
   {
    "duration": 18,
    "start_time": "2022-05-23T07:24:51.721Z"
   },
   {
    "duration": 17,
    "start_time": "2022-05-23T07:24:51.751Z"
   },
   {
    "duration": 15,
    "start_time": "2022-05-23T07:24:51.770Z"
   },
   {
    "duration": 420,
    "start_time": "2022-05-23T07:24:51.787Z"
   },
   {
    "duration": 4,
    "start_time": "2022-05-23T07:24:52.209Z"
   },
   {
    "duration": 14,
    "start_time": "2022-05-23T07:24:52.215Z"
   },
   {
    "duration": 321,
    "start_time": "2022-05-23T07:24:52.231Z"
   },
   {
    "duration": 6,
    "start_time": "2022-05-23T07:24:52.555Z"
   },
   {
    "duration": 493,
    "start_time": "2022-05-23T07:24:52.564Z"
   },
   {
    "duration": 214,
    "start_time": "2022-05-23T07:24:53.059Z"
   },
   {
    "duration": 317,
    "start_time": "2022-05-23T07:24:53.275Z"
   },
   {
    "duration": 6,
    "start_time": "2022-05-23T07:24:53.597Z"
   },
   {
    "duration": 1847,
    "start_time": "2022-05-23T07:24:53.605Z"
   },
   {
    "duration": 28,
    "start_time": "2022-05-23T07:24:55.454Z"
   },
   {
    "duration": 411,
    "start_time": "2022-05-23T07:24:55.484Z"
   },
   {
    "duration": 20,
    "start_time": "2022-05-23T07:24:55.897Z"
   },
   {
    "duration": 309,
    "start_time": "2022-05-23T07:24:55.919Z"
   },
   {
    "duration": 442,
    "start_time": "2022-05-23T07:24:56.230Z"
   },
   {
    "duration": 553,
    "start_time": "2022-05-23T07:24:56.675Z"
   },
   {
    "duration": 5,
    "start_time": "2022-05-23T07:24:57.230Z"
   },
   {
    "duration": 379,
    "start_time": "2022-05-23T07:24:57.238Z"
   },
   {
    "duration": 16,
    "start_time": "2022-05-23T07:24:57.620Z"
   },
   {
    "duration": 18,
    "start_time": "2022-05-23T07:24:57.638Z"
   },
   {
    "duration": 15,
    "start_time": "2022-05-23T07:24:57.657Z"
   },
   {
    "duration": 6,
    "start_time": "2022-05-23T07:24:57.675Z"
   }
  ],
  "kernelspec": {
   "display_name": "Python 3 (ipykernel)",
   "language": "python",
   "name": "python3"
  },
  "language_info": {
   "codemirror_mode": {
    "name": "ipython",
    "version": 3
   },
   "file_extension": ".py",
   "mimetype": "text/x-python",
   "name": "python",
   "nbconvert_exporter": "python",
   "pygments_lexer": "ipython3",
   "version": "3.10.8"
  },
  "toc": {
   "base_numbering": 1,
   "nav_menu": {},
   "number_sections": true,
   "sideBar": true,
   "skip_h1_title": false,
   "title_cell": "Table of Contents",
   "title_sidebar": "Contents",
   "toc_cell": false,
   "toc_position": {},
   "toc_section_display": true,
   "toc_window_display": false
  },
  "varInspector": {
   "cols": {
    "lenName": 16,
    "lenType": 16,
    "lenVar": 40
   },
   "kernels_config": {
    "python": {
     "delete_cmd_postfix": "",
     "delete_cmd_prefix": "del ",
     "library": "var_list.py",
     "varRefreshCmd": "print(var_dic_list())"
    },
    "r": {
     "delete_cmd_postfix": ") ",
     "delete_cmd_prefix": "rm(",
     "library": "var_list.r",
     "varRefreshCmd": "cat(var_dic_list()) "
    }
   },
   "types_to_exclude": [
    "module",
    "function",
    "builtin_function_or_method",
    "instance",
    "_Feature"
   ],
   "window_display": false
  }
 },
 "nbformat": 4,
 "nbformat_minor": 4
}
