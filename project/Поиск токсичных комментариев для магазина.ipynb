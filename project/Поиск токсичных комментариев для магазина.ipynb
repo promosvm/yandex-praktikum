{
 "cells": [
  {
   "cell_type": "markdown",
   "metadata": {
    "toc": true
   },
   "source": [
    "<h1>Содержание<span class=\"tocSkip\"></span></h1>\n",
    "<div class=\"toc\"><ul class=\"toc-item\"><li><span><a href=\"#Подготовка\" data-toc-modified-id=\"Подготовка-1\"><span class=\"toc-item-num\">1&nbsp;&nbsp;</span>Подготовка</a></span><ul class=\"toc-item\"><li><span><a href=\"#Вывод\" data-toc-modified-id=\"Вывод-1.1\"><span class=\"toc-item-num\">1.1&nbsp;&nbsp;</span>Вывод</a></span></li></ul></li><li><span><a href=\"#Предобработка-текста\" data-toc-modified-id=\"Предобработка-текста-2\"><span class=\"toc-item-num\">2&nbsp;&nbsp;</span>Предобработка текста</a></span><ul class=\"toc-item\"><li><span><a href=\"#Вывод\" data-toc-modified-id=\"Вывод-2.1\"><span class=\"toc-item-num\">2.1&nbsp;&nbsp;</span>Вывод</a></span></li></ul></li><li><span><a href=\"#Обучение\" data-toc-modified-id=\"Обучение-3\"><span class=\"toc-item-num\">3&nbsp;&nbsp;</span>Обучение</a></span><ul class=\"toc-item\"><li><span><a href=\"#Подготовка-функций\" data-toc-modified-id=\"Подготовка-функций-3.1\"><span class=\"toc-item-num\">3.1&nbsp;&nbsp;</span>Подготовка функций</a></span></li><li><span><a href=\"#Логистическая-регрессия\" data-toc-modified-id=\"Логистическая-регрессия-3.2\"><span class=\"toc-item-num\">3.2&nbsp;&nbsp;</span>Логистическая регрессия</a></span></li><li><span><a href=\"#Случайный-лес\" data-toc-modified-id=\"Случайный-лес-3.3\"><span class=\"toc-item-num\">3.3&nbsp;&nbsp;</span>Случайный лес</a></span></li><li><span><a href=\"#CatBoost\" data-toc-modified-id=\"CatBoost-3.4\"><span class=\"toc-item-num\">3.4&nbsp;&nbsp;</span>CatBoost</a></span></li></ul></li><li><span><a href=\"#Выводы\" data-toc-modified-id=\"Выводы-4\"><span class=\"toc-item-num\">4&nbsp;&nbsp;</span>Выводы</a></span></li><li><span><a href=\"#Чек-лист-проверки\" data-toc-modified-id=\"Чек-лист-проверки-5\"><span class=\"toc-item-num\">5&nbsp;&nbsp;</span>Чек-лист проверки</a></span></li></ul></div>"
   ]
  },
  {
   "cell_type": "markdown",
   "metadata": {},
   "source": [
    "# Проект для «Викишоп»"
   ]
  },
  {
   "cell_type": "markdown",
   "metadata": {},
   "source": [
    "Интернет-магазин «Викишоп» запускает новый сервис. Теперь пользователи могут редактировать и дополнять описания товаров, как в вики-сообществах. То есть клиенты предлагают свои правки и комментируют изменения других. Магазину нужен инструмент, который будет искать токсичные комментарии и отправлять их на модерацию. \n",
    "\n",
    "Обучите модель классифицировать комментарии на позитивные и негативные. В вашем распоряжении набор данных с разметкой о токсичности правок.\n",
    "\n",
    "Постройте модель со значением метрики качества *F1* не меньше 0.75. \n",
    "\n",
    "**Инструкция по выполнению проекта**\n",
    "\n",
    "1. Загрузите и подготовьте данные.\n",
    "2. Обучите разные модели. \n",
    "3. Сделайте выводы.\n",
    "\n",
    "Для выполнения проекта применять *BERT* необязательно, но вы можете попробовать.\n",
    "\n",
    "**Описание данных**\n",
    "\n",
    "Данные находятся в файле `toxic_comments.csv`. Столбец *text* в нём содержит текст комментария, а *toxic* — целевой признак."
   ]
  },
  {
   "cell_type": "markdown",
   "metadata": {},
   "source": [
    "## Подготовка"
   ]
  },
  {
   "cell_type": "code",
   "execution_count": 1,
   "metadata": {},
   "outputs": [],
   "source": [
    "#подключаем необходимые библиотеки\n",
    "import pandas as pd\n",
    "import numpy as np\n",
    "import matplotlib.pyplot as plt\n",
    "import seaborn as sns\n",
    "import time as time\n",
    "from catboost import CatBoostClassifier, Pool\n",
    "import spacy\n",
    "\n",
    "import re \n",
    "import nltk \n",
    "\n",
    "from tqdm import tqdm\n",
    "from nltk.stem import WordNetLemmatizer \n",
    "from sklearn.feature_extraction.text import TfidfVectorizer \n",
    "from pyspark.ml.feature import Tokenizer, RegexTokenizer\n",
    "from nltk.corpus import stopwords\n",
    "\n",
    "\n",
    "nltk.download('wordnet','stopwords','punkt','averaged_perceptron_tagger')\n",
    "from nltk.corpus import wordnet\n",
    "\n",
    "from sklearn.linear_model import LogisticRegression \n",
    "from sklearn.ensemble import RandomForestClassifier\n",
    "from sklearn.pipeline import Pipeline\n",
    "\n",
    "from sklearn.metrics import f1_score\n",
    "\n",
    "from sklearn.model_selection import train_test_split, cross_val_score, GridSearchCV"
   ]
  },
  {
   "cell_type": "code",
   "execution_count": 2,
   "metadata": {},
   "outputs": [],
   "source": [
    "#загрузим датасет\n",
    "try:\n",
    "    df = pd.read_csv('toxic_comments.csv')\n",
    "except:\n",
    "    df = pd.read_csv('/datasets/toxic_comments.csv')"
   ]
  },
  {
   "cell_type": "code",
   "execution_count": 3,
   "metadata": {
    "scrolled": true
   },
   "outputs": [
    {
     "data": {
      "text/html": [
       "<div>\n",
       "<style scoped>\n",
       "    .dataframe tbody tr th:only-of-type {\n",
       "        vertical-align: middle;\n",
       "    }\n",
       "\n",
       "    .dataframe tbody tr th {\n",
       "        vertical-align: top;\n",
       "    }\n",
       "\n",
       "    .dataframe thead th {\n",
       "        text-align: right;\n",
       "    }\n",
       "</style>\n",
       "<table border=\"1\" class=\"dataframe\">\n",
       "  <thead>\n",
       "    <tr style=\"text-align: right;\">\n",
       "      <th></th>\n",
       "      <th>Unnamed: 0</th>\n",
       "      <th>text</th>\n",
       "      <th>toxic</th>\n",
       "    </tr>\n",
       "  </thead>\n",
       "  <tbody>\n",
       "    <tr>\n",
       "      <th>0</th>\n",
       "      <td>0</td>\n",
       "      <td>Explanation\\nWhy the edits made under my usern...</td>\n",
       "      <td>0</td>\n",
       "    </tr>\n",
       "    <tr>\n",
       "      <th>1</th>\n",
       "      <td>1</td>\n",
       "      <td>D'aww! He matches this background colour I'm s...</td>\n",
       "      <td>0</td>\n",
       "    </tr>\n",
       "    <tr>\n",
       "      <th>2</th>\n",
       "      <td>2</td>\n",
       "      <td>Hey man, I'm really not trying to edit war. It...</td>\n",
       "      <td>0</td>\n",
       "    </tr>\n",
       "    <tr>\n",
       "      <th>3</th>\n",
       "      <td>3</td>\n",
       "      <td>\"\\nMore\\nI can't make any real suggestions on ...</td>\n",
       "      <td>0</td>\n",
       "    </tr>\n",
       "    <tr>\n",
       "      <th>4</th>\n",
       "      <td>4</td>\n",
       "      <td>You, sir, are my hero. Any chance you remember...</td>\n",
       "      <td>0</td>\n",
       "    </tr>\n",
       "  </tbody>\n",
       "</table>\n",
       "</div>"
      ],
      "text/plain": [
       "   Unnamed: 0                                               text  toxic\n",
       "0           0  Explanation\\nWhy the edits made under my usern...      0\n",
       "1           1  D'aww! He matches this background colour I'm s...      0\n",
       "2           2  Hey man, I'm really not trying to edit war. It...      0\n",
       "3           3  \"\\nMore\\nI can't make any real suggestions on ...      0\n",
       "4           4  You, sir, are my hero. Any chance you remember...      0"
      ]
     },
     "execution_count": 3,
     "metadata": {},
     "output_type": "execute_result"
    }
   ],
   "source": [
    "df.head(5)"
   ]
  },
  {
   "cell_type": "code",
   "execution_count": 4,
   "metadata": {
    "scrolled": true
   },
   "outputs": [
    {
     "name": "stdout",
     "output_type": "stream",
     "text": [
      "<class 'pandas.core.frame.DataFrame'>\n",
      "RangeIndex: 159292 entries, 0 to 159291\n",
      "Data columns (total 3 columns):\n",
      " #   Column      Non-Null Count   Dtype \n",
      "---  ------      --------------   ----- \n",
      " 0   Unnamed: 0  159292 non-null  int64 \n",
      " 1   text        159292 non-null  object\n",
      " 2   toxic       159292 non-null  int64 \n",
      "dtypes: int64(2), object(1)\n",
      "memory usage: 3.6+ MB\n"
     ]
    }
   ],
   "source": [
    "df.info()"
   ]
  },
  {
   "cell_type": "markdown",
   "metadata": {},
   "source": [
    "Проверим на наличие дубликатов."
   ]
  },
  {
   "cell_type": "code",
   "execution_count": 5,
   "metadata": {},
   "outputs": [
    {
     "data": {
      "text/plain": [
       "0"
      ]
     },
     "execution_count": 5,
     "metadata": {},
     "output_type": "execute_result"
    }
   ],
   "source": [
    "df.duplicated().sum()"
   ]
  },
  {
   "cell_type": "markdown",
   "metadata": {},
   "source": [
    "Дубликатов нет."
   ]
  },
  {
   "cell_type": "markdown",
   "metadata": {},
   "source": [
    "### Вывод"
   ]
  },
  {
   "cell_type": "markdown",
   "metadata": {},
   "source": [
    " Наши данные состоят из 3 столбцов и 159 тысяч 929 строк. Столбец **toxic** содержит числовой тип данных, столбец **text** содержит строковый тип данных. "
   ]
  },
  {
   "cell_type": "markdown",
   "metadata": {},
   "source": [
    "## Предобработка текста"
   ]
  },
  {
   "cell_type": "markdown",
   "metadata": {},
   "source": [
    "Объявим корпус текстов, переведем его в тип юникод."
   ]
  },
  {
   "cell_type": "code",
   "execution_count": 6,
   "metadata": {
    "scrolled": true
   },
   "outputs": [],
   "source": [
    "#corpus = df['text'].values.astype('U')\n",
    "#print(corpus[1])"
   ]
  },
  {
   "cell_type": "code",
   "execution_count": 7,
   "metadata": {},
   "outputs": [],
   "source": [
    "#df_corpus = pd.DataFrame(data=corpus, columns=['text'])\n",
    "#df_corpus.head(3)"
   ]
  },
  {
   "cell_type": "markdown",
   "metadata": {},
   "source": [
    "Приведем текст к нижнему регистру"
   ]
  },
  {
   "cell_type": "code",
   "execution_count": 8,
   "metadata": {},
   "outputs": [
    {
     "data": {
      "text/html": [
       "<div>\n",
       "<style scoped>\n",
       "    .dataframe tbody tr th:only-of-type {\n",
       "        vertical-align: middle;\n",
       "    }\n",
       "\n",
       "    .dataframe tbody tr th {\n",
       "        vertical-align: top;\n",
       "    }\n",
       "\n",
       "    .dataframe thead th {\n",
       "        text-align: right;\n",
       "    }\n",
       "</style>\n",
       "<table border=\"1\" class=\"dataframe\">\n",
       "  <thead>\n",
       "    <tr style=\"text-align: right;\">\n",
       "      <th></th>\n",
       "      <th>Unnamed: 0</th>\n",
       "      <th>text</th>\n",
       "      <th>toxic</th>\n",
       "      <th>clear_text</th>\n",
       "    </tr>\n",
       "  </thead>\n",
       "  <tbody>\n",
       "    <tr>\n",
       "      <th>0</th>\n",
       "      <td>0</td>\n",
       "      <td>Explanation\\nWhy the edits made under my usern...</td>\n",
       "      <td>0</td>\n",
       "      <td>explanation\\nwhy the edits made under my usern...</td>\n",
       "    </tr>\n",
       "    <tr>\n",
       "      <th>1</th>\n",
       "      <td>1</td>\n",
       "      <td>D'aww! He matches this background colour I'm s...</td>\n",
       "      <td>0</td>\n",
       "      <td>d'aww! he matches this background colour i'm s...</td>\n",
       "    </tr>\n",
       "    <tr>\n",
       "      <th>2</th>\n",
       "      <td>2</td>\n",
       "      <td>Hey man, I'm really not trying to edit war. It...</td>\n",
       "      <td>0</td>\n",
       "      <td>hey man, i'm really not trying to edit war. it...</td>\n",
       "    </tr>\n",
       "  </tbody>\n",
       "</table>\n",
       "</div>"
      ],
      "text/plain": [
       "   Unnamed: 0                                               text  toxic  \\\n",
       "0           0  Explanation\\nWhy the edits made under my usern...      0   \n",
       "1           1  D'aww! He matches this background colour I'm s...      0   \n",
       "2           2  Hey man, I'm really not trying to edit war. It...      0   \n",
       "\n",
       "                                          clear_text  \n",
       "0  explanation\\nwhy the edits made under my usern...  \n",
       "1  d'aww! he matches this background colour i'm s...  \n",
       "2  hey man, i'm really not trying to edit war. it...  "
      ]
     },
     "execution_count": 8,
     "metadata": {},
     "output_type": "execute_result"
    }
   ],
   "source": [
    "df['clear_text'] = df['text'].str.lower()\n",
    "df.head(3)"
   ]
  },
  {
   "cell_type": "markdown",
   "metadata": {},
   "source": [
    "Уберем лишние знаки - **'**, **.**, **!** и так далее. "
   ]
  },
  {
   "cell_type": "code",
   "execution_count": 9,
   "metadata": {
    "scrolled": true
   },
   "outputs": [
    {
     "data": {
      "text/html": [
       "<div>\n",
       "<style scoped>\n",
       "    .dataframe tbody tr th:only-of-type {\n",
       "        vertical-align: middle;\n",
       "    }\n",
       "\n",
       "    .dataframe tbody tr th {\n",
       "        vertical-align: top;\n",
       "    }\n",
       "\n",
       "    .dataframe thead th {\n",
       "        text-align: right;\n",
       "    }\n",
       "</style>\n",
       "<table border=\"1\" class=\"dataframe\">\n",
       "  <thead>\n",
       "    <tr style=\"text-align: right;\">\n",
       "      <th></th>\n",
       "      <th>Unnamed: 0</th>\n",
       "      <th>text</th>\n",
       "      <th>toxic</th>\n",
       "      <th>clear_text</th>\n",
       "    </tr>\n",
       "  </thead>\n",
       "  <tbody>\n",
       "    <tr>\n",
       "      <th>0</th>\n",
       "      <td>0</td>\n",
       "      <td>Explanation\\nWhy the edits made under my usern...</td>\n",
       "      <td>0</td>\n",
       "      <td>explanation why the edits made under my userna...</td>\n",
       "    </tr>\n",
       "    <tr>\n",
       "      <th>1</th>\n",
       "      <td>1</td>\n",
       "      <td>D'aww! He matches this background colour I'm s...</td>\n",
       "      <td>0</td>\n",
       "      <td>d'aww  he matches this background colour i'm s...</td>\n",
       "    </tr>\n",
       "    <tr>\n",
       "      <th>2</th>\n",
       "      <td>2</td>\n",
       "      <td>Hey man, I'm really not trying to edit war. It...</td>\n",
       "      <td>0</td>\n",
       "      <td>hey man  i'm really not trying to edit war  it...</td>\n",
       "    </tr>\n",
       "  </tbody>\n",
       "</table>\n",
       "</div>"
      ],
      "text/plain": [
       "   Unnamed: 0                                               text  toxic  \\\n",
       "0           0  Explanation\\nWhy the edits made under my usern...      0   \n",
       "1           1  D'aww! He matches this background colour I'm s...      0   \n",
       "2           2  Hey man, I'm really not trying to edit war. It...      0   \n",
       "\n",
       "                                          clear_text  \n",
       "0  explanation why the edits made under my userna...  \n",
       "1  d'aww  he matches this background colour i'm s...  \n",
       "2  hey man  i'm really not trying to edit war  it...  "
      ]
     },
     "execution_count": 9,
     "metadata": {},
     "output_type": "execute_result"
    }
   ],
   "source": [
    "df['clear_text'] = df['clear_text'].apply(lambda x:re.sub(r\"[^a-zA-Z0-9']\", ' ', x))\n",
    "df.head(3)"
   ]
  },
  {
   "cell_type": "markdown",
   "metadata": {},
   "source": [
    "Лемматизируем текст"
   ]
  },
  {
   "cell_type": "code",
   "execution_count": 10,
   "metadata": {},
   "outputs": [],
   "source": [
    "#sample_size = 2000\n",
    "#df = df.sample(n=sample_size,random_state=0).reset_index(drop=True)\n",
    "#df.shape"
   ]
  },
  {
   "cell_type": "markdown",
   "metadata": {},
   "source": [
    "Лемматизируем текст"
   ]
  },
  {
   "cell_type": "code",
   "execution_count": 11,
   "metadata": {},
   "outputs": [],
   "source": [
    "L = WordNetLemmatizer()"
   ]
  },
  {
   "cell_type": "code",
   "execution_count": 12,
   "metadata": {},
   "outputs": [],
   "source": [
    "def lemmatizered(corpus):\n",
    "  ''' функция выполняет токенизациию и лемматизацию массива текстов'''\n",
    "  corpus_new = []\n",
    "  for sentence in corpus:\n",
    "    word_list = nltk.word_tokenize(sentence)\n",
    "    corpus_new.append(' '.join([L.lemmatize(w) for w in word_list]))\n",
    "  return corpus_new"
   ]
  },
  {
   "cell_type": "code",
   "execution_count": 13,
   "metadata": {
    "scrolled": true
   },
   "outputs": [
    {
     "name": "stderr",
     "output_type": "stream",
     "text": [
      "[nltk_data] Downloading package stopwords to /home/jovyan/nltk_data...\n",
      "[nltk_data]   Package stopwords is already up-to-date!\n"
     ]
    },
    {
     "data": {
      "text/plain": [
       "['i', 'me', 'my', 'myself', 'we']"
      ]
     },
     "execution_count": 13,
     "metadata": {},
     "output_type": "execute_result"
    }
   ],
   "source": [
    "nltk.download('stopwords')\n",
    "stopwords.words('english')[:5]"
   ]
  },
  {
   "cell_type": "code",
   "execution_count": 14,
   "metadata": {},
   "outputs": [],
   "source": [
    "def get_wordnet_pos(word):\n",
    "    \"\"\"функция возвращает словарь, где возвращается значение часть речи (pos_tag)\"\"\"\n",
    "    tag = nltk.pos_tag([word])[0][1][0].upper()\n",
    "    tag_dict = {\"J\": wordnet.ADJ,\n",
    "                \"N\": wordnet.NOUN,\n",
    "                \"V\": wordnet.VERB,\n",
    "                \"R\": wordnet.ADV}\n",
    " \n",
    "    return tag_dict.get(tag, wordnet.NOUN)"
   ]
  },
  {
   "cell_type": "code",
   "execution_count": 15,
   "metadata": {},
   "outputs": [],
   "source": [
    "def get_word_text(corpus):\n",
    "  ''' функция выполняет токенизациию и лемматизацию массива текстов c учетом pos_tag и удаление стоп-слов'''\n",
    "  corpus_new = []\n",
    "  for sentence in corpus:\n",
    "    corpus_new.append(' '.join([L.lemmatize(w, get_wordnet_pos(w)) for w in nltk.word_tokenize(sentence) if not w in stopwords.words('english')]))\n",
    "  return corpus_new"
   ]
  },
  {
   "cell_type": "code",
   "execution_count": 16,
   "metadata": {},
   "outputs": [
    {
     "name": "stderr",
     "output_type": "stream",
     "text": [
      "[nltk_data] Downloading package punkt to /home/jovyan/nltk_data...\n",
      "[nltk_data]   Package punkt is already up-to-date!\n",
      "[nltk_data] Downloading package wordnet to /home/jovyan/nltk_data...\n",
      "[nltk_data]   Package wordnet is already up-to-date!\n",
      "[nltk_data] Downloading package averaged_perceptron_tagger to\n",
      "[nltk_data]     /home/jovyan/nltk_data...\n",
      "[nltk_data]   Unzipping taggers/averaged_perceptron_tagger.zip.\n"
     ]
    },
    {
     "data": {
      "text/plain": [
       "True"
      ]
     },
     "execution_count": 16,
     "metadata": {},
     "output_type": "execute_result"
    }
   ],
   "source": [
    "nltk.download('punkt')\n",
    "nltk.download('wordnet')\n",
    "nltk.download('averaged_perceptron_tagger')"
   ]
  },
  {
   "cell_type": "code",
   "execution_count": 17,
   "metadata": {},
   "outputs": [
    {
     "name": "stdout",
     "output_type": "stream",
     "text": [
      "CPU times: user 28min 45s, sys: 3min 40s, total: 32min 25s\n",
      "Wall time: 32min 28s\n"
     ]
    },
    {
     "data": {
      "text/html": [
       "<div>\n",
       "<style scoped>\n",
       "    .dataframe tbody tr th:only-of-type {\n",
       "        vertical-align: middle;\n",
       "    }\n",
       "\n",
       "    .dataframe tbody tr th {\n",
       "        vertical-align: top;\n",
       "    }\n",
       "\n",
       "    .dataframe thead th {\n",
       "        text-align: right;\n",
       "    }\n",
       "</style>\n",
       "<table border=\"1\" class=\"dataframe\">\n",
       "  <thead>\n",
       "    <tr style=\"text-align: right;\">\n",
       "      <th></th>\n",
       "      <th>Unnamed: 0</th>\n",
       "      <th>text</th>\n",
       "      <th>toxic</th>\n",
       "      <th>clear_text</th>\n",
       "    </tr>\n",
       "  </thead>\n",
       "  <tbody>\n",
       "    <tr>\n",
       "      <th>0</th>\n",
       "      <td>0</td>\n",
       "      <td>Explanation\\nWhy the edits made under my usern...</td>\n",
       "      <td>0</td>\n",
       "      <td>explanation edits make username hardcore metal...</td>\n",
       "    </tr>\n",
       "    <tr>\n",
       "      <th>1</th>\n",
       "      <td>1</td>\n",
       "      <td>D'aww! He matches this background colour I'm s...</td>\n",
       "      <td>0</td>\n",
       "      <td>d'aww match background colour 'm seemingly stu...</td>\n",
       "    </tr>\n",
       "    <tr>\n",
       "      <th>2</th>\n",
       "      <td>2</td>\n",
       "      <td>Hey man, I'm really not trying to edit war. It...</td>\n",
       "      <td>0</td>\n",
       "      <td>hey man 'm really try edit war 's guy constant...</td>\n",
       "    </tr>\n",
       "  </tbody>\n",
       "</table>\n",
       "</div>"
      ],
      "text/plain": [
       "   Unnamed: 0                                               text  toxic  \\\n",
       "0           0  Explanation\\nWhy the edits made under my usern...      0   \n",
       "1           1  D'aww! He matches this background colour I'm s...      0   \n",
       "2           2  Hey man, I'm really not trying to edit war. It...      0   \n",
       "\n",
       "                                          clear_text  \n",
       "0  explanation edits make username hardcore metal...  \n",
       "1  d'aww match background colour 'm seemingly stu...  \n",
       "2  hey man 'm really try edit war 's guy constant...  "
      ]
     },
     "execution_count": 17,
     "metadata": {},
     "output_type": "execute_result"
    }
   ],
   "source": [
    "%%time\n",
    "df['clear_text'] = get_word_text(df['clear_text'])\n",
    "df.head(3)"
   ]
  },
  {
   "cell_type": "code",
   "execution_count": 18,
   "metadata": {},
   "outputs": [],
   "source": [
    "#m = WordNetLemmatizer()\n",
    "#df_corpus['text'] = df_corpus['text'].apply(lambda x: m.lemmatize(x))\n",
    "#df_corpus.head(3)"
   ]
  },
  {
   "cell_type": "markdown",
   "metadata": {},
   "source": [
    "Объединим наш корпус с датасетом"
   ]
  },
  {
   "cell_type": "code",
   "execution_count": 19,
   "metadata": {},
   "outputs": [],
   "source": [
    "#df['lemm_text'] = df_corpus['text']\n",
    "#df.head(10)"
   ]
  },
  {
   "cell_type": "markdown",
   "metadata": {},
   "source": [
    "Посмотрим на распределение классов"
   ]
  },
  {
   "cell_type": "code",
   "execution_count": 20,
   "metadata": {
    "scrolled": true
   },
   "outputs": [
    {
     "data": {
      "image/png": "[encoded data removed]",
      "text/plain": [
       "<Figure size 1152x360 with 1 Axes>"
      ]
     },
     "metadata": {
      "needs_background": "light"
     },
     "output_type": "display_data"
    }
   ],
   "source": [
    "plt.figure(figsize=(16,5))\n",
    "plt.title('Распределение целевого признака')\n",
    "plt.xlabel('Значения')\n",
    "plt.ylabel('Количество')\n",
    "sns.histplot(df['toxic']);"
   ]
  },
  {
   "cell_type": "markdown",
   "metadata": {},
   "source": [
    " При разбивке надо будет учесть, что есть дисбаланс классов!"
   ]
  },
  {
   "cell_type": "markdown",
   "metadata": {},
   "source": [
    "Определяем признаки и целевой признак, разделяем датасет на тренировочную и тестовую выборки"
   ]
  },
  {
   "cell_type": "code",
   "execution_count": 21,
   "metadata": {},
   "outputs": [],
   "source": [
    "target = df['toxic']\n",
    "features = df['clear_text']"
   ]
  },
  {
   "cell_type": "code",
   "execution_count": 22,
   "metadata": {},
   "outputs": [],
   "source": [
    "features_train, features_test, target_train, target_test = train_test_split(\n",
    "    features, target, test_size=0.25, random_state=42, stratify = target)"
   ]
  },
  {
   "cell_type": "markdown",
   "metadata": {},
   "source": [
    "Объявляю набор стоп-слов "
   ]
  },
  {
   "cell_type": "code",
   "execution_count": 23,
   "metadata": {},
   "outputs": [],
   "source": [
    "#nltk.download('stopwords')"
   ]
  },
  {
   "cell_type": "code",
   "execution_count": 24,
   "metadata": {
    "scrolled": true
   },
   "outputs": [],
   "source": [
    "#stopwords = set(stopwords.words('english'))"
   ]
  },
  {
   "cell_type": "markdown",
   "metadata": {},
   "source": [
    "Объявляю TF-IDF-векторизатор"
   ]
  },
  {
   "cell_type": "code",
   "execution_count": 25,
   "metadata": {
    "scrolled": true
   },
   "outputs": [],
   "source": [
    "#count_tf_idf = TfidfVectorizer() "
   ]
  },
  {
   "cell_type": "code",
   "execution_count": 26,
   "metadata": {},
   "outputs": [],
   "source": [
    "#features_train = count_tf_idf.fit_transform(features_train)\n",
    "#features_test = count_tf_idf.transform(features_test)"
   ]
  },
  {
   "cell_type": "code",
   "execution_count": 27,
   "metadata": {},
   "outputs": [],
   "source": [
    "#display(features_train.shape)\n",
    "#display(features_test.shape)"
   ]
  },
  {
   "cell_type": "markdown",
   "metadata": {},
   "source": [
    "### Вывод"
   ]
  },
  {
   "cell_type": "markdown",
   "metadata": {},
   "source": [
    "- объявлен корпус текстов и переведен в тип юникод\n",
    "- текст очищен и лемматизирован\n",
    "- таргет проверен на наличие дисбаланса - есть дисбаланс, учтен при разбивке на train и test\n",
    "- выполнена векторизация текстов с помощью TfidfVectorizer()\n",
    "- проведна разбивка на тренировочную и тестовую выборку с соотношением 1 к 4"
   ]
  },
  {
   "cell_type": "markdown",
   "metadata": {},
   "source": [
    "## Обучение"
   ]
  },
  {
   "cell_type": "markdown",
   "metadata": {},
   "source": [
    "### Подготовка функций"
   ]
  },
  {
   "cell_type": "markdown",
   "metadata": {},
   "source": [
    "Для начала создадим наш DF куда положим значения RMSE"
   ]
  },
  {
   "cell_type": "code",
   "execution_count": 28,
   "metadata": {
    "scrolled": true
   },
   "outputs": [
    {
     "data": {
      "text/html": [
       "<div>\n",
       "<style scoped>\n",
       "    .dataframe tbody tr th:only-of-type {\n",
       "        vertical-align: middle;\n",
       "    }\n",
       "\n",
       "    .dataframe tbody tr th {\n",
       "        vertical-align: top;\n",
       "    }\n",
       "\n",
       "    .dataframe thead th {\n",
       "        text-align: right;\n",
       "    }\n",
       "</style>\n",
       "<table border=\"1\" class=\"dataframe\">\n",
       "  <thead>\n",
       "    <tr style=\"text-align: right;\">\n",
       "      <th></th>\n",
       "      <th>f1</th>\n",
       "    </tr>\n",
       "  </thead>\n",
       "  <tbody>\n",
       "  </tbody>\n",
       "</table>\n",
       "</div>"
      ],
      "text/plain": [
       "Empty DataFrame\n",
       "Columns: [f1]\n",
       "Index: []"
      ]
     },
     "execution_count": 28,
     "metadata": {},
     "output_type": "execute_result"
    }
   ],
   "source": [
    "df_result = pd.DataFrame(columns=['f1'])\n",
    "df_result"
   ]
  },
  {
   "cell_type": "markdown",
   "metadata": {},
   "source": [
    "А теперь функцию которая будет в наш Df добавлять данные."
   ]
  },
  {
   "cell_type": "code",
   "execution_count": 29,
   "metadata": {},
   "outputs": [],
   "source": [
    "def result_metrics(f1, name_model):\n",
    "    df_result.loc[name_model, 'f1'] = f1\n",
    "    return df_result"
   ]
  },
  {
   "cell_type": "markdown",
   "metadata": {},
   "source": [
    "### Логистическая регрессия"
   ]
  },
  {
   "cell_type": "code",
   "execution_count": 30,
   "metadata": {},
   "outputs": [
    {
     "name": "stderr",
     "output_type": "stream",
     "text": [
      "/opt/conda/lib/python3.9/site-packages/sklearn/linear_model/_logistic.py:763: ConvergenceWarning: lbfgs failed to converge (status=1):\n",
      "STOP: TOTAL NO. of ITERATIONS REACHED LIMIT.\n",
      "\n",
      "Increase the number of iterations (max_iter) or scale the data as shown in:\n",
      "    https://scikit-learn.org/stable/modules/preprocessing.html\n",
      "Please also refer to the documentation for alternative solver options:\n",
      "    https://scikit-learn.org/stable/modules/linear_model.html#logistic-regression\n",
      "  n_iter_i = _check_optimize_result(\n",
      "/opt/conda/lib/python3.9/site-packages/sklearn/linear_model/_logistic.py:763: ConvergenceWarning: lbfgs failed to converge (status=1):\n",
      "STOP: TOTAL NO. of ITERATIONS REACHED LIMIT.\n",
      "\n",
      "Increase the number of iterations (max_iter) or scale the data as shown in:\n",
      "    https://scikit-learn.org/stable/modules/preprocessing.html\n",
      "Please also refer to the documentation for alternative solver options:\n",
      "    https://scikit-learn.org/stable/modules/linear_model.html#logistic-regression\n",
      "  n_iter_i = _check_optimize_result(\n",
      "/opt/conda/lib/python3.9/site-packages/sklearn/linear_model/_logistic.py:763: ConvergenceWarning: lbfgs failed to converge (status=1):\n",
      "STOP: TOTAL NO. of ITERATIONS REACHED LIMIT.\n",
      "\n",
      "Increase the number of iterations (max_iter) or scale the data as shown in:\n",
      "    https://scikit-learn.org/stable/modules/preprocessing.html\n",
      "Please also refer to the documentation for alternative solver options:\n",
      "    https://scikit-learn.org/stable/modules/linear_model.html#logistic-regression\n",
      "  n_iter_i = _check_optimize_result(\n",
      "/opt/conda/lib/python3.9/site-packages/sklearn/linear_model/_logistic.py:763: ConvergenceWarning: lbfgs failed to converge (status=1):\n",
      "STOP: TOTAL NO. of ITERATIONS REACHED LIMIT.\n",
      "\n",
      "Increase the number of iterations (max_iter) or scale the data as shown in:\n",
      "    https://scikit-learn.org/stable/modules/preprocessing.html\n",
      "Please also refer to the documentation for alternative solver options:\n",
      "    https://scikit-learn.org/stable/modules/linear_model.html#logistic-regression\n",
      "  n_iter_i = _check_optimize_result(\n",
      "/opt/conda/lib/python3.9/site-packages/sklearn/linear_model/_logistic.py:763: ConvergenceWarning: lbfgs failed to converge (status=1):\n",
      "STOP: TOTAL NO. of ITERATIONS REACHED LIMIT.\n",
      "\n",
      "Increase the number of iterations (max_iter) or scale the data as shown in:\n",
      "    https://scikit-learn.org/stable/modules/preprocessing.html\n",
      "Please also refer to the documentation for alternative solver options:\n",
      "    https://scikit-learn.org/stable/modules/linear_model.html#logistic-regression\n",
      "  n_iter_i = _check_optimize_result(\n",
      "/opt/conda/lib/python3.9/site-packages/sklearn/linear_model/_logistic.py:763: ConvergenceWarning: lbfgs failed to converge (status=1):\n",
      "STOP: TOTAL NO. of ITERATIONS REACHED LIMIT.\n",
      "\n",
      "Increase the number of iterations (max_iter) or scale the data as shown in:\n",
      "    https://scikit-learn.org/stable/modules/preprocessing.html\n",
      "Please also refer to the documentation for alternative solver options:\n",
      "    https://scikit-learn.org/stable/modules/linear_model.html#logistic-regression\n",
      "  n_iter_i = _check_optimize_result(\n"
     ]
    },
    {
     "name": "stdout",
     "output_type": "stream",
     "text": [
      "                          f1\n",
      "LogisticRegression  0.774854\n",
      "best_params: {'clf__C': 10, 'clf__class_weight': None}\n",
      "CPU times: user 3min 38s, sys: 5min 53s, total: 9min 32s\n",
      "Wall time: 9min 32s\n"
     ]
    }
   ],
   "source": [
    "%%time\n",
    "#Объявляю модель\n",
    "regression = Pipeline([\n",
    "    ('tfidf', TfidfVectorizer()),\n",
    "    ('clf', LogisticRegression(random_state=12345))])\n",
    "\n",
    "#Определяю словарь с набором параметров\n",
    "regression_parametrs = {'clf__C': [0.1, 1, 10],\n",
    "          'clf__class_weight': ['balanced', None]}\n",
    "\n",
    "#Применяю GridSearchCV с кросс-валидацией\n",
    "regression_grid = GridSearchCV(estimator=regression, param_grid=regression_parametrs, cv=3, scoring='f1', n_jobs=-1, refit=False)\n",
    "regression_grid.fit(features_train, target_train)\n",
    "\n",
    "regression_params = regression_grid.best_params_\n",
    "result_metrics(regression_grid.best_score_, 'LogisticRegression')\n",
    "print(df_result)\n",
    "print(f'best_params: {regression_params}')"
   ]
  },
  {
   "cell_type": "markdown",
   "metadata": {},
   "source": [
    "### Случайный лес"
   ]
  },
  {
   "cell_type": "code",
   "execution_count": 31,
   "metadata": {},
   "outputs": [
    {
     "name": "stdout",
     "output_type": "stream",
     "text": [
      "                          f1\n",
      "LogisticRegression  0.774854\n",
      "RandomForest          0.3154\n",
      "best_params: {'clf__class_weight': 'balanced', 'clf__max_depth': 6, 'clf__n_estimators': 30}\n",
      "CPU times: user 3min 27s, sys: 1.48 s, total: 3min 29s\n",
      "Wall time: 3min 29s\n"
     ]
    }
   ],
   "source": [
    "%%time\n",
    "#Объявляю модель\n",
    "forest= Pipeline([\n",
    "    ('tfidf', TfidfVectorizer()),\n",
    "    ('clf', RandomForestClassifier(random_state=12345))])\n",
    "#Определяю словарь с набором параметров\n",
    "forest_parametrs = { 'clf__n_estimators': range(20, 40, 5),\n",
    "                     'clf__max_depth': range(4, 8, 2),\n",
    "                    'clf__class_weight': ['balanced', None]\n",
    "                   }\n",
    "\n",
    "#Применяю GridSearchCV с кросс-валидацией\n",
    "forest_grid = GridSearchCV(estimator=forest, param_grid=forest_parametrs, cv=3, scoring='f1', n_jobs=-1, refit=False)\n",
    "forest_grid.fit(features_train, target_train)\n",
    "\n",
    "\n",
    "result_metrics(forest_grid.best_score_, 'RandomForest')\n",
    "forest_params = forest_grid.best_params_\n",
    "print(df_result)\n",
    "print(f'best_params: {forest_params}')"
   ]
  },
  {
   "cell_type": "markdown",
   "metadata": {},
   "source": [
    "### CatBoost"
   ]
  },
  {
   "cell_type": "markdown",
   "metadata": {},
   "source": [
    "Отдельно сделал набор фичей и таргетов для обучения CatBoost с меньшим количеством так как CatBoost у меня падал с Dead Kernel из-за перегрузки ядра,при обучении модели пришлось уменьшить количество строк."
   ]
  },
  {
   "cell_type": "code",
   "execution_count": 32,
   "metadata": {},
   "outputs": [],
   "source": [
    "features_train_cb = features_train[:1800]\n",
    "features_test_cb = features_test[:600]\n",
    "target_train_cb = target_train[:1800]\n",
    "target_test_cb = target_test[:600]"
   ]
  },
  {
   "cell_type": "code",
   "execution_count": 33,
   "metadata": {},
   "outputs": [],
   "source": [
    "zeroes = df['toxic'].value_counts()[0]\n",
    "ones = df['toxic'].value_counts()[1]"
   ]
  },
  {
   "cell_type": "code",
   "execution_count": 34,
   "metadata": {},
   "outputs": [
    {
     "name": "stdout",
     "output_type": "stream",
     "text": [
      "                          f1\n",
      "LogisticRegression  0.774854\n",
      "RandomForest          0.3154\n",
      "CatBoost             0.47335\n",
      "best_params: {'clf__depth': 8}\n",
      "CPU times: user 25.2 s, sys: 546 ms, total: 25.7 s\n",
      "Wall time: 28.8 s\n"
     ]
    }
   ],
   "source": [
    "%%time\n",
    "#Объявляю модель\n",
    "cb= Pipeline([\n",
    "    ('tfidf', TfidfVectorizer()),\n",
    "    ('clf', CatBoostClassifier(random_state=12345, auto_class_weights = 'Balanced', iterations=30, verbose=False))])\n",
    "#Определяю словарь\n",
    "cb_parametrs = {'clf__depth': [4, 8]}\n",
    "\n",
    "#Применяю GridSearchCV с кросс-валидацией\n",
    "cb_grid = GridSearchCV(estimator=cb, param_grid=cb_parametrs, cv=3, scoring='f1')\n",
    "cb_grid.fit(features_train_cb, target_train_cb)\n",
    "\n",
    "\n",
    "result_metrics(cb_grid.best_score_, 'CatBoost')\n",
    "cb_params = cb_grid.best_params_\n",
    "print(df_result)\n",
    "print(f'best_params: {cb_params}')"
   ]
  },
  {
   "cell_type": "markdown",
   "metadata": {},
   "source": [
    "Опять обучим модель Логистическая регрессия на оптимальных параметрах"
   ]
  },
  {
   "cell_type": "code",
   "execution_count": 35,
   "metadata": {},
   "outputs": [
    {
     "name": "stdout",
     "output_type": "stream",
     "text": [
      "0.768\n"
     ]
    }
   ],
   "source": [
    "# %%time\n",
    "regression = Pipeline([\n",
    "    ('tfidf', TfidfVectorizer()),\n",
    "    ('clf', LogisticRegression(fit_intercept=True,\n",
    "                                class_weight='balanced',\n",
    "                                random_state=42,\n",
    "                                solver='liblinear',\n",
    "                                C=regression_params['clf__C']\n",
    "                               ))])\n",
    "regression.fit(features_train, target_train)\n",
    "regression_model_predictions = regression.predict(features_test)\n",
    "regression_f1 = round(f1_score(target_test, regression_model_predictions), 3) \n",
    "print(regression_f1)"
   ]
  },
  {
   "cell_type": "markdown",
   "metadata": {},
   "source": [
    "Логистическая регрессия с оптимальными параметрами удовлетворяет условию задачи."
   ]
  },
  {
   "cell_type": "markdown",
   "metadata": {},
   "source": [
    "## Выводы"
   ]
  },
  {
   "cell_type": "markdown",
   "metadata": {},
   "source": [
    "1. Предоставлен датасет с размеченными данными, содержащий комментарии пользователей к товарам, доступным для приобретения в интернет-магазине «Викишоп». Датасет состоит из 2 столбцов с данными и 159571 строк. \n",
    " \n",
    "2. Подготовка модели:\n",
    "- Тексты комментариев были очищены и лемматизированы.\n",
    "- В датасете есть дисбаланс классов. Мажорный класс составляет лишь 10% от всего датасета. \n",
    "- Проведена  векторизации датасета. Матрица полученная после векторизации разделена на обучающую и тестовые выборки в соотношении 4:1.\n",
    "\n",
    "3. Обучение модели:\n",
    "- Использованы Логистическая регрессия, Случайный лес и CatBoost классификатор.\n",
    "- Наилучший - CatBoost, наихудший - Случайный лес. CatBoost выполняет расчеты в десятки раз дольше, нежели Логистическая регрессия, но значения полученные на тестовой выборке не удовлетворяет условию задачи. В связи с этим модель Логистическая регрессия подходит для решения поставленной задачи."
   ]
  }
 ],
 "metadata": {
  "ExecuteTimeLog": [
   {
    "duration": 1667,
    "start_time": "2022-09-03T19:39:21.848Z"
   },
   {
    "duration": 2217,
    "start_time": "2022-09-03T19:39:23.517Z"
   },
   {
    "duration": 11,
    "start_time": "2022-09-03T19:39:25.736Z"
   },
   {
    "duration": 35,
    "start_time": "2022-09-03T19:39:25.749Z"
   },
   {
    "duration": 226,
    "start_time": "2022-09-03T19:39:25.786Z"
   },
   {
    "duration": 2024,
    "start_time": "2022-09-03T19:39:26.014Z"
   },
   {
    "duration": 5110,
    "start_time": "2022-09-03T19:39:28.040Z"
   },
   {
    "duration": 3,
    "start_time": "2022-09-03T19:39:33.152Z"
   },
   {
    "duration": 407,
    "start_time": "2022-09-03T19:39:33.156Z"
   },
   {
    "duration": 1742,
    "start_time": "2022-09-03T19:43:49.774Z"
   },
   {
    "duration": 1332,
    "start_time": "2022-09-03T19:43:51.518Z"
   },
   {
    "duration": 11,
    "start_time": "2022-09-03T19:43:52.852Z"
   },
   {
    "duration": 37,
    "start_time": "2022-09-03T19:43:52.866Z"
   },
   {
    "duration": 255,
    "start_time": "2022-09-03T19:43:52.904Z"
   },
   {
    "duration": 1867,
    "start_time": "2022-09-03T19:43:53.161Z"
   },
   {
    "duration": 3,
    "start_time": "2022-09-03T19:44:00.375Z"
   },
   {
    "duration": 280,
    "start_time": "2022-09-03T19:44:00.380Z"
   },
   {
    "duration": 4,
    "start_time": "2022-09-03T19:44:00.662Z"
   },
   {
    "duration": 24415,
    "start_time": "2022-09-03T19:44:00.668Z"
   },
   {
    "duration": 0,
    "start_time": "2022-09-03T19:44:25.085Z"
   },
   {
    "duration": 0,
    "start_time": "2022-09-03T19:44:25.087Z"
   },
   {
    "duration": 0,
    "start_time": "2022-09-03T19:44:25.088Z"
   },
   {
    "duration": 0,
    "start_time": "2022-09-03T19:44:25.089Z"
   },
   {
    "duration": 0,
    "start_time": "2022-09-03T19:44:25.090Z"
   },
   {
    "duration": 0,
    "start_time": "2022-09-03T19:44:25.091Z"
   },
   {
    "duration": 0,
    "start_time": "2022-09-03T19:44:25.103Z"
   },
   {
    "duration": 0,
    "start_time": "2022-09-03T19:44:25.104Z"
   },
   {
    "duration": 1906,
    "start_time": "2022-09-03T19:44:52.620Z"
   },
   {
    "duration": 2325,
    "start_time": "2022-09-03T19:44:54.527Z"
   },
   {
    "duration": 14,
    "start_time": "2022-09-03T19:44:56.854Z"
   },
   {
    "duration": 34,
    "start_time": "2022-09-03T19:44:56.870Z"
   },
   {
    "duration": 281,
    "start_time": "2022-09-03T19:44:59.496Z"
   },
   {
    "duration": 1927,
    "start_time": "2022-09-03T19:45:01.709Z"
   },
   {
    "duration": 667,
    "start_time": "2022-09-03T19:45:39.427Z"
   },
   {
    "duration": 8,
    "start_time": "2022-09-03T19:45:46.162Z"
   },
   {
    "duration": 86,
    "start_time": "2022-09-03T19:47:27.607Z"
   },
   {
    "duration": 77,
    "start_time": "2022-09-03T19:48:06.257Z"
   },
   {
    "duration": 140,
    "start_time": "2022-09-03T19:48:13.572Z"
   },
   {
    "duration": 11,
    "start_time": "2022-09-03T19:48:19.890Z"
   },
   {
    "duration": 23,
    "start_time": "2022-09-03T19:52:49.939Z"
   },
   {
    "duration": 3650,
    "start_time": "2022-09-03T19:53:53.363Z"
   },
   {
    "duration": 3,
    "start_time": "2022-09-03T19:54:09.283Z"
   },
   {
    "duration": 461,
    "start_time": "2022-09-03T19:54:09.690Z"
   },
   {
    "duration": 11,
    "start_time": "2022-09-03T19:54:28.833Z"
   },
   {
    "duration": 3753,
    "start_time": "2022-09-03T19:54:40.631Z"
   },
   {
    "duration": 51,
    "start_time": "2022-09-03T19:54:57.433Z"
   },
   {
    "duration": 126,
    "start_time": "2022-09-03T19:55:02.566Z"
   },
   {
    "duration": 51,
    "start_time": "2022-09-03T19:55:50.024Z"
   },
   {
    "duration": 60,
    "start_time": "2022-09-03T19:55:56.082Z"
   },
   {
    "duration": 50,
    "start_time": "2022-09-03T19:56:10.635Z"
   },
   {
    "duration": 54,
    "start_time": "2022-09-03T19:56:15.041Z"
   },
   {
    "duration": 5,
    "start_time": "2022-09-03T20:00:51.924Z"
   },
   {
    "duration": 1160,
    "start_time": "2022-09-03T20:00:52.286Z"
   },
   {
    "duration": 8,
    "start_time": "2022-09-03T20:00:53.448Z"
   },
   {
    "duration": 34,
    "start_time": "2022-09-03T20:00:53.457Z"
   },
   {
    "duration": 234,
    "start_time": "2022-09-03T20:00:54.434Z"
   },
   {
    "duration": 41,
    "start_time": "2022-09-03T20:01:04.831Z"
   },
   {
    "duration": 2132,
    "start_time": "2022-09-03T20:01:11.431Z"
   },
   {
    "duration": 2526,
    "start_time": "2022-09-03T20:01:13.566Z"
   },
   {
    "duration": 17,
    "start_time": "2022-09-03T20:01:16.094Z"
   },
   {
    "duration": 35,
    "start_time": "2022-09-03T20:01:16.121Z"
   },
   {
    "duration": 268,
    "start_time": "2022-09-03T20:01:16.158Z"
   },
   {
    "duration": 2041,
    "start_time": "2022-09-03T20:01:16.429Z"
   },
   {
    "duration": 43,
    "start_time": "2022-09-03T20:01:20.019Z"
   },
   {
    "duration": 96,
    "start_time": "2022-09-03T20:01:30.722Z"
   },
   {
    "duration": 52,
    "start_time": "2022-09-03T20:01:41.546Z"
   },
   {
    "duration": 709,
    "start_time": "2022-09-03T20:02:34.926Z"
   },
   {
    "duration": 3826,
    "start_time": "2022-09-03T20:02:48.902Z"
   },
   {
    "duration": 8,
    "start_time": "2022-09-03T20:02:55.561Z"
   },
   {
    "duration": 4,
    "start_time": "2022-09-03T20:03:00.836Z"
   },
   {
    "duration": 386,
    "start_time": "2022-09-03T20:03:01.245Z"
   },
   {
    "duration": 2010,
    "start_time": "2022-09-03T20:04:18.713Z"
   },
   {
    "duration": 7,
    "start_time": "2022-09-03T20:04:37.365Z"
   },
   {
    "duration": 1202,
    "start_time": "2022-09-03T20:05:52.518Z"
   },
   {
    "duration": 10,
    "start_time": "2022-09-03T20:06:05.192Z"
   },
   {
    "duration": 1821,
    "start_time": "2022-09-03T20:06:13.535Z"
   },
   {
    "duration": 9,
    "start_time": "2022-09-03T20:06:15.358Z"
   },
   {
    "duration": 3,
    "start_time": "2022-09-03T20:06:58.830Z"
   },
   {
    "duration": 859,
    "start_time": "2022-09-03T20:06:59.073Z"
   },
   {
    "duration": 8,
    "start_time": "2022-09-03T20:06:59.934Z"
   },
   {
    "duration": 44,
    "start_time": "2022-09-03T20:06:59.972Z"
   },
   {
    "duration": 236,
    "start_time": "2022-09-03T20:07:00.876Z"
   },
   {
    "duration": 56,
    "start_time": "2022-09-03T20:07:04.882Z"
   },
   {
    "duration": 0,
    "start_time": "2022-09-03T20:07:04.940Z"
   },
   {
    "duration": 6,
    "start_time": "2022-09-03T20:07:12.239Z"
   },
   {
    "duration": 2113,
    "start_time": "2022-09-03T20:07:19.919Z"
   },
   {
    "duration": 2556,
    "start_time": "2022-09-03T20:07:22.035Z"
   },
   {
    "duration": 14,
    "start_time": "2022-09-03T20:07:24.593Z"
   },
   {
    "duration": 61,
    "start_time": "2022-09-03T20:07:24.611Z"
   },
   {
    "duration": 256,
    "start_time": "2022-09-03T20:07:25.756Z"
   },
   {
    "duration": 2044,
    "start_time": "2022-09-03T20:07:27.261Z"
   },
   {
    "duration": 727,
    "start_time": "2022-09-03T20:07:29.307Z"
   },
   {
    "duration": 760,
    "start_time": "2022-09-03T20:07:53.143Z"
   },
   {
    "duration": 3730,
    "start_time": "2022-09-03T20:08:13.424Z"
   },
   {
    "duration": 1936,
    "start_time": "2022-09-03T20:09:11.524Z"
   },
   {
    "duration": 2312,
    "start_time": "2022-09-03T20:12:25.944Z"
   },
   {
    "duration": 2627,
    "start_time": "2022-09-03T20:12:28.259Z"
   },
   {
    "duration": 11,
    "start_time": "2022-09-03T20:12:30.888Z"
   },
   {
    "duration": 70,
    "start_time": "2022-09-03T20:12:30.901Z"
   },
   {
    "duration": 269,
    "start_time": "2022-09-03T20:12:30.972Z"
   },
   {
    "duration": 2013,
    "start_time": "2022-09-03T20:12:31.242Z"
   },
   {
    "duration": 738,
    "start_time": "2022-09-03T20:12:33.256Z"
   },
   {
    "duration": 3742,
    "start_time": "2022-09-03T20:12:34.003Z"
   },
   {
    "duration": 2099,
    "start_time": "2022-09-03T20:12:37.746Z"
   },
   {
    "duration": 2327,
    "start_time": "2022-09-03T20:12:52.421Z"
   },
   {
    "duration": 2526,
    "start_time": "2022-09-03T20:12:54.752Z"
   },
   {
    "duration": 13,
    "start_time": "2022-09-03T20:12:57.279Z"
   },
   {
    "duration": 60,
    "start_time": "2022-09-03T20:12:57.294Z"
   },
   {
    "duration": 264,
    "start_time": "2022-09-03T20:12:57.357Z"
   },
   {
    "duration": 2027,
    "start_time": "2022-09-03T20:12:57.623Z"
   },
   {
    "duration": 776,
    "start_time": "2022-09-03T20:12:59.652Z"
   },
   {
    "duration": 3751,
    "start_time": "2022-09-03T20:13:00.434Z"
   },
   {
    "duration": 2063,
    "start_time": "2022-09-03T20:13:04.187Z"
   },
   {
    "duration": 53,
    "start_time": "2022-09-03T20:13:57.941Z"
   },
   {
    "duration": 1844,
    "start_time": "2022-09-03T20:14:05.260Z"
   },
   {
    "duration": 2864,
    "start_time": "2022-09-03T20:14:07.111Z"
   },
   {
    "duration": 13,
    "start_time": "2022-09-03T20:14:09.977Z"
   },
   {
    "duration": 50,
    "start_time": "2022-09-03T20:14:09.993Z"
   },
   {
    "duration": 379,
    "start_time": "2022-09-03T20:14:10.046Z"
   },
   {
    "duration": 2141,
    "start_time": "2022-09-03T20:14:10.435Z"
   },
   {
    "duration": 863,
    "start_time": "2022-09-03T20:14:12.580Z"
   },
   {
    "duration": 3872,
    "start_time": "2022-09-03T20:14:13.445Z"
   },
   {
    "duration": 2249,
    "start_time": "2022-09-03T20:14:17.321Z"
   },
   {
    "duration": 14,
    "start_time": "2022-09-03T20:14:40.467Z"
   },
   {
    "duration": 253,
    "start_time": "2022-09-03T20:18:29.594Z"
   },
   {
    "duration": 238,
    "start_time": "2022-09-03T20:18:36.789Z"
   },
   {
    "duration": 259,
    "start_time": "2022-09-03T20:19:17.940Z"
   },
   {
    "duration": 249,
    "start_time": "2022-09-03T20:19:30.392Z"
   },
   {
    "duration": 263,
    "start_time": "2022-09-03T20:19:34.351Z"
   },
   {
    "duration": 256,
    "start_time": "2022-09-03T20:20:22.538Z"
   },
   {
    "duration": 270,
    "start_time": "2022-09-03T20:20:44.764Z"
   },
   {
    "duration": 279,
    "start_time": "2022-09-03T20:20:52.161Z"
   },
   {
    "duration": 262,
    "start_time": "2022-09-03T20:22:26.032Z"
   },
   {
    "duration": 1281,
    "start_time": "2022-09-03T20:22:36.478Z"
   },
   {
    "duration": 199,
    "start_time": "2022-09-03T20:23:23.421Z"
   },
   {
    "duration": 283,
    "start_time": "2022-09-03T20:23:38.645Z"
   },
   {
    "duration": 15,
    "start_time": "2022-09-03T20:25:43.223Z"
   },
   {
    "duration": 3,
    "start_time": "2022-09-03T20:25:50.720Z"
   },
   {
    "duration": 100,
    "start_time": "2022-09-03T20:26:32.146Z"
   },
   {
    "duration": 6,
    "start_time": "2022-09-03T20:27:06.698Z"
   },
   {
    "duration": 104,
    "start_time": "2022-09-03T20:27:44.575Z"
   },
   {
    "duration": 219,
    "start_time": "2022-09-03T20:29:06.148Z"
   },
   {
    "duration": 6,
    "start_time": "2022-09-03T20:29:26.793Z"
   },
   {
    "duration": 11,
    "start_time": "2022-09-03T20:29:32.252Z"
   },
   {
    "duration": 19,
    "start_time": "2022-09-03T20:31:21.704Z"
   },
   {
    "duration": 5,
    "start_time": "2022-09-03T20:31:49.029Z"
   },
   {
    "duration": 11,
    "start_time": "2022-09-03T20:31:54.367Z"
   },
   {
    "duration": 13,
    "start_time": "2022-09-03T20:31:57.601Z"
   },
   {
    "duration": 6,
    "start_time": "2022-09-03T20:32:01.334Z"
   },
   {
    "duration": 3,
    "start_time": "2022-09-03T20:32:58.848Z"
   },
   {
    "duration": 5,
    "start_time": "2022-09-03T20:33:04.793Z"
   },
   {
    "duration": 3,
    "start_time": "2022-09-03T20:33:07.431Z"
   },
   {
    "duration": 8508,
    "start_time": "2022-09-03T20:35:11.863Z"
   },
   {
    "duration": 10,
    "start_time": "2022-09-03T20:36:21.722Z"
   },
   {
    "duration": 4,
    "start_time": "2022-09-03T20:36:25.213Z"
   },
   {
    "duration": 4,
    "start_time": "2022-09-03T20:36:41.918Z"
   },
   {
    "duration": 5,
    "start_time": "2022-09-03T20:37:01.060Z"
   },
   {
    "duration": 5,
    "start_time": "2022-09-03T20:37:11.077Z"
   },
   {
    "duration": 1581,
    "start_time": "2022-09-04T07:20:51.229Z"
   },
   {
    "duration": 2197,
    "start_time": "2022-09-04T07:20:52.812Z"
   },
   {
    "duration": 10,
    "start_time": "2022-09-04T07:20:55.010Z"
   },
   {
    "duration": 32,
    "start_time": "2022-09-04T07:20:55.022Z"
   },
   {
    "duration": 232,
    "start_time": "2022-09-04T07:20:55.055Z"
   },
   {
    "duration": 1931,
    "start_time": "2022-09-04T07:20:55.290Z"
   },
   {
    "duration": 689,
    "start_time": "2022-09-04T07:20:57.223Z"
   },
   {
    "duration": 2972,
    "start_time": "2022-09-04T07:20:57.914Z"
   },
   {
    "duration": 1688,
    "start_time": "2022-09-04T07:21:00.888Z"
   },
   {
    "duration": 11,
    "start_time": "2022-09-04T07:21:02.578Z"
   },
   {
    "duration": 242,
    "start_time": "2022-09-04T07:21:02.590Z"
   },
   {
    "duration": 3,
    "start_time": "2022-09-04T07:21:02.833Z"
   },
   {
    "duration": 72,
    "start_time": "2022-09-04T07:21:02.837Z"
   },
   {
    "duration": 189,
    "start_time": "2022-09-04T07:21:02.911Z"
   },
   {
    "duration": 4,
    "start_time": "2022-09-04T07:21:03.101Z"
   },
   {
    "duration": 4,
    "start_time": "2022-09-04T07:21:03.107Z"
   },
   {
    "duration": 7085,
    "start_time": "2022-09-04T07:21:03.113Z"
   },
   {
    "duration": 13,
    "start_time": "2022-09-04T07:21:10.200Z"
   },
   {
    "duration": 10,
    "start_time": "2022-09-04T07:21:10.214Z"
   },
   {
    "duration": 4,
    "start_time": "2022-09-04T07:21:10.226Z"
   },
   {
    "duration": 8,
    "start_time": "2022-09-04T07:21:53.495Z"
   },
   {
    "duration": 3,
    "start_time": "2022-09-04T07:21:54.955Z"
   },
   {
    "duration": 116,
    "start_time": "2022-09-04T07:26:28.913Z"
   },
   {
    "duration": 4,
    "start_time": "2022-09-04T07:27:30.297Z"
   },
   {
    "duration": 11,
    "start_time": "2022-09-04T07:27:42.551Z"
   },
   {
    "duration": 4,
    "start_time": "2022-09-04T07:28:48.948Z"
   },
   {
    "duration": 11,
    "start_time": "2022-09-04T07:28:56.572Z"
   },
   {
    "duration": 12,
    "start_time": "2022-09-04T07:29:27.982Z"
   },
   {
    "duration": 8,
    "start_time": "2022-09-04T07:31:07.275Z"
   },
   {
    "duration": 16,
    "start_time": "2022-09-04T07:32:11.727Z"
   },
   {
    "duration": 1435,
    "start_time": "2022-09-04T07:32:27.241Z"
   },
   {
    "duration": 794,
    "start_time": "2022-09-04T07:32:28.678Z"
   },
   {
    "duration": 12,
    "start_time": "2022-09-04T07:32:29.473Z"
   },
   {
    "duration": 44,
    "start_time": "2022-09-04T07:32:29.486Z"
   },
   {
    "duration": 214,
    "start_time": "2022-09-04T07:32:29.532Z"
   },
   {
    "duration": 1892,
    "start_time": "2022-09-04T07:32:29.748Z"
   },
   {
    "duration": 647,
    "start_time": "2022-09-04T07:32:31.642Z"
   },
   {
    "duration": 2929,
    "start_time": "2022-09-04T07:32:32.291Z"
   },
   {
    "duration": 1639,
    "start_time": "2022-09-04T07:32:35.221Z"
   },
   {
    "duration": 10,
    "start_time": "2022-09-04T07:32:36.862Z"
   },
   {
    "duration": 227,
    "start_time": "2022-09-04T07:32:36.873Z"
   },
   {
    "duration": 8,
    "start_time": "2022-09-04T07:32:37.101Z"
   },
   {
    "duration": 71,
    "start_time": "2022-09-04T07:32:37.111Z"
   },
   {
    "duration": 161,
    "start_time": "2022-09-04T07:32:37.186Z"
   },
   {
    "duration": 4,
    "start_time": "2022-09-04T07:32:37.348Z"
   },
   {
    "duration": 9,
    "start_time": "2022-09-04T07:32:37.354Z"
   },
   {
    "duration": 6778,
    "start_time": "2022-09-04T07:32:37.365Z"
   },
   {
    "duration": 0,
    "start_time": "2022-09-04T07:32:44.144Z"
   },
   {
    "duration": 0,
    "start_time": "2022-09-04T07:32:44.146Z"
   },
   {
    "duration": 0,
    "start_time": "2022-09-04T07:32:44.147Z"
   },
   {
    "duration": 0,
    "start_time": "2022-09-04T07:32:44.148Z"
   },
   {
    "duration": 15,
    "start_time": "2022-09-04T07:35:03.799Z"
   },
   {
    "duration": 1481,
    "start_time": "2022-09-04T07:35:11.804Z"
   },
   {
    "duration": 812,
    "start_time": "2022-09-04T07:35:13.286Z"
   },
   {
    "duration": 15,
    "start_time": "2022-09-04T07:35:14.099Z"
   },
   {
    "duration": 35,
    "start_time": "2022-09-04T07:35:14.116Z"
   },
   {
    "duration": 226,
    "start_time": "2022-09-04T07:35:14.152Z"
   },
   {
    "duration": 1897,
    "start_time": "2022-09-04T07:35:14.380Z"
   },
   {
    "duration": 637,
    "start_time": "2022-09-04T07:35:16.279Z"
   },
   {
    "duration": 3010,
    "start_time": "2022-09-04T07:35:16.917Z"
   },
   {
    "duration": 1609,
    "start_time": "2022-09-04T07:35:19.928Z"
   },
   {
    "duration": 9,
    "start_time": "2022-09-04T07:35:21.540Z"
   },
   {
    "duration": 247,
    "start_time": "2022-09-04T07:35:21.551Z"
   },
   {
    "duration": 2,
    "start_time": "2022-09-04T07:35:21.800Z"
   },
   {
    "duration": 57,
    "start_time": "2022-09-04T07:35:21.808Z"
   },
   {
    "duration": 200,
    "start_time": "2022-09-04T07:35:21.866Z"
   },
   {
    "duration": 4,
    "start_time": "2022-09-04T07:35:22.068Z"
   },
   {
    "duration": 6,
    "start_time": "2022-09-04T07:35:22.074Z"
   },
   {
    "duration": 6766,
    "start_time": "2022-09-04T07:35:22.081Z"
   },
   {
    "duration": 5,
    "start_time": "2022-09-04T07:35:28.848Z"
   },
   {
    "duration": 10,
    "start_time": "2022-09-04T07:35:28.854Z"
   },
   {
    "duration": 6,
    "start_time": "2022-09-04T07:35:28.865Z"
   },
   {
    "duration": 135,
    "start_time": "2022-09-04T07:35:28.872Z"
   },
   {
    "duration": 7830,
    "start_time": "2022-09-04T07:37:40.974Z"
   },
   {
    "duration": 18,
    "start_time": "2022-09-04T07:39:32.685Z"
   },
   {
    "duration": 12,
    "start_time": "2022-09-04T07:39:41.000Z"
   },
   {
    "duration": 130740,
    "start_time": "2022-09-04T07:39:56.075Z"
   },
   {
    "duration": 11,
    "start_time": "2022-09-04T07:43:16.220Z"
   },
   {
    "duration": 4,
    "start_time": "2022-09-04T07:43:40.519Z"
   },
   {
    "duration": 29957,
    "start_time": "2022-09-04T07:44:02.674Z"
   },
   {
    "duration": 11,
    "start_time": "2022-09-04T07:46:47.334Z"
   },
   {
    "duration": 2,
    "start_time": "2022-09-04T07:46:48.932Z"
   },
   {
    "duration": 3,
    "start_time": "2022-09-04T07:47:03.921Z"
   },
   {
    "duration": 79,
    "start_time": "2022-09-04T07:47:14.506Z"
   },
   {
    "duration": 58,
    "start_time": "2022-09-04T07:47:26.618Z"
   },
   {
    "duration": 145317,
    "start_time": "2022-09-04T07:47:33.923Z"
   },
   {
    "duration": 4,
    "start_time": "2022-09-04T07:50:56.944Z"
   },
   {
    "duration": 190837,
    "start_time": "2022-09-04T07:51:02.402Z"
   },
   {
    "duration": 47,
    "start_time": "2022-09-04T07:55:00.648Z"
   },
   {
    "duration": 45,
    "start_time": "2022-09-04T07:55:07.194Z"
   },
   {
    "duration": 3,
    "start_time": "2022-09-04T07:55:25.507Z"
   },
   {
    "duration": 15,
    "start_time": "2022-09-04T07:55:33.773Z"
   },
   {
    "duration": 7,
    "start_time": "2022-09-04T07:57:27.432Z"
   },
   {
    "duration": 3,
    "start_time": "2022-09-04T07:57:28.566Z"
   },
   {
    "duration": 4,
    "start_time": "2022-09-04T07:58:54.589Z"
   },
   {
    "duration": 9,
    "start_time": "2022-09-04T07:59:39.752Z"
   },
   {
    "duration": 13,
    "start_time": "2022-09-04T07:59:46.187Z"
   },
   {
    "duration": 3,
    "start_time": "2022-09-04T08:00:44.213Z"
   },
   {
    "duration": 11,
    "start_time": "2022-09-04T08:00:49.945Z"
   },
   {
    "duration": 189447,
    "start_time": "2022-09-04T08:01:05.087Z"
   },
   {
    "duration": 3,
    "start_time": "2022-09-04T08:04:14.536Z"
   },
   {
    "duration": 7,
    "start_time": "2022-09-04T08:04:33.501Z"
   },
   {
    "duration": 2,
    "start_time": "2022-09-04T08:04:36.617Z"
   },
   {
    "duration": 7,
    "start_time": "2022-09-04T08:04:54.089Z"
   },
   {
    "duration": 3,
    "start_time": "2022-09-04T08:04:55.213Z"
   },
   {
    "duration": 192297,
    "start_time": "2022-09-04T08:04:58.354Z"
   },
   {
    "duration": 7,
    "start_time": "2022-09-04T08:09:05.859Z"
   },
   {
    "duration": 2,
    "start_time": "2022-09-04T08:09:07.029Z"
   },
   {
    "duration": 190905,
    "start_time": "2022-09-04T08:09:54.136Z"
   },
   {
    "duration": 190126,
    "start_time": "2022-09-04T08:14:12.910Z"
   },
   {
    "duration": 6,
    "start_time": "2022-09-04T08:18:59.702Z"
   },
   {
    "duration": 2,
    "start_time": "2022-09-04T08:19:00.615Z"
   },
   {
    "duration": 178890,
    "start_time": "2022-09-04T08:19:02.857Z"
   },
   {
    "duration": 3,
    "start_time": "2022-09-04T08:23:38.769Z"
   },
   {
    "duration": 7,
    "start_time": "2022-09-04T08:23:47.511Z"
   },
   {
    "duration": 178332,
    "start_time": "2022-09-04T08:23:54.602Z"
   },
   {
    "duration": 13,
    "start_time": "2022-09-04T08:27:11.244Z"
   },
   {
    "duration": 38,
    "start_time": "2022-09-04T08:27:59.701Z"
   },
   {
    "duration": 85,
    "start_time": "2022-09-04T08:31:29.167Z"
   },
   {
    "duration": 206213,
    "start_time": "2022-09-04T08:32:39.045Z"
   },
   {
    "duration": 203410,
    "start_time": "2022-09-04T08:37:02.610Z"
   },
   {
    "duration": 204164,
    "start_time": "2022-09-04T08:43:23.275Z"
   },
   {
    "duration": 21,
    "start_time": "2022-09-04T08:46:47.441Z"
   },
   {
    "duration": 48,
    "start_time": "2022-09-04T08:48:41.931Z"
   },
   {
    "duration": 11,
    "start_time": "2022-09-04T08:48:49.931Z"
   },
   {
    "duration": 12,
    "start_time": "2022-09-04T08:57:02.415Z"
   },
   {
    "duration": 14,
    "start_time": "2022-09-04T08:57:21.671Z"
   },
   {
    "duration": 4,
    "start_time": "2022-09-04T08:57:42.320Z"
   },
   {
    "duration": 12,
    "start_time": "2022-09-04T08:57:49.670Z"
   },
   {
    "duration": 11,
    "start_time": "2022-09-04T08:57:58.625Z"
   },
   {
    "duration": 3,
    "start_time": "2022-09-04T09:01:20.363Z"
   },
   {
    "duration": 11,
    "start_time": "2022-09-04T09:01:25.339Z"
   },
   {
    "duration": 3841,
    "start_time": "2022-09-04T09:04:29.726Z"
   },
   {
    "duration": 6,
    "start_time": "2022-09-04T09:06:29.574Z"
   },
   {
    "duration": 2015,
    "start_time": "2022-09-04T09:07:41.144Z"
   },
   {
    "duration": 2216,
    "start_time": "2022-09-04T09:07:43.161Z"
   },
   {
    "duration": 10,
    "start_time": "2022-09-04T09:07:45.379Z"
   },
   {
    "duration": 30,
    "start_time": "2022-09-04T09:07:45.390Z"
   },
   {
    "duration": 227,
    "start_time": "2022-09-04T09:07:45.422Z"
   },
   {
    "duration": 1965,
    "start_time": "2022-09-04T09:07:49.062Z"
   },
   {
    "duration": 643,
    "start_time": "2022-09-04T09:07:51.029Z"
   },
   {
    "duration": 2993,
    "start_time": "2022-09-04T09:07:52.328Z"
   },
   {
    "duration": 1582,
    "start_time": "2022-09-04T09:07:55.322Z"
   },
   {
    "duration": 10,
    "start_time": "2022-09-04T09:07:56.909Z"
   },
   {
    "duration": 249,
    "start_time": "2022-09-04T09:07:56.921Z"
   },
   {
    "duration": 2,
    "start_time": "2022-09-04T09:08:01.278Z"
   },
   {
    "duration": 60,
    "start_time": "2022-09-04T09:08:02.270Z"
   },
   {
    "duration": 116,
    "start_time": "2022-09-04T09:08:03.712Z"
   },
   {
    "duration": 3,
    "start_time": "2022-09-04T09:08:04.374Z"
   },
   {
    "duration": 3,
    "start_time": "2022-09-04T09:08:05.625Z"
   },
   {
    "duration": 6817,
    "start_time": "2022-09-04T09:08:06.382Z"
   },
   {
    "duration": 5,
    "start_time": "2022-09-04T09:08:13.200Z"
   },
   {
    "duration": 6,
    "start_time": "2022-09-04T09:08:13.377Z"
   },
   {
    "duration": 46,
    "start_time": "2022-09-04T09:12:08.774Z"
   },
   {
    "duration": 2012,
    "start_time": "2022-09-04T09:12:25.555Z"
   },
   {
    "duration": 2213,
    "start_time": "2022-09-04T09:12:27.568Z"
   },
   {
    "duration": 10,
    "start_time": "2022-09-04T09:12:29.783Z"
   },
   {
    "duration": 34,
    "start_time": "2022-09-04T09:12:30.318Z"
   },
   {
    "duration": 219,
    "start_time": "2022-09-04T09:12:30.915Z"
   },
   {
    "duration": 1945,
    "start_time": "2022-09-04T09:12:33.229Z"
   },
   {
    "duration": 674,
    "start_time": "2022-09-04T09:12:35.176Z"
   },
   {
    "duration": 3025,
    "start_time": "2022-09-04T09:12:35.851Z"
   },
   {
    "duration": 1540,
    "start_time": "2022-09-04T09:12:38.878Z"
   },
   {
    "duration": 9,
    "start_time": "2022-09-04T09:12:40.420Z"
   },
   {
    "duration": 258,
    "start_time": "2022-09-04T09:12:40.431Z"
   },
   {
    "duration": 2,
    "start_time": "2022-09-04T09:12:40.691Z"
   },
   {
    "duration": 119,
    "start_time": "2022-09-04T09:12:56.347Z"
   },
   {
    "duration": 57,
    "start_time": "2022-09-04T09:13:08.757Z"
   },
   {
    "duration": 188,
    "start_time": "2022-09-04T09:13:11.429Z"
   },
   {
    "duration": 3,
    "start_time": "2022-09-04T09:13:12.960Z"
   },
   {
    "duration": 4,
    "start_time": "2022-09-04T09:13:15.961Z"
   },
   {
    "duration": 6723,
    "start_time": "2022-09-04T09:13:16.560Z"
   },
   {
    "duration": 4,
    "start_time": "2022-09-04T09:13:23.285Z"
   },
   {
    "duration": 4,
    "start_time": "2022-09-04T09:13:23.507Z"
   },
   {
    "duration": 6,
    "start_time": "2022-09-04T09:13:26.639Z"
   },
   {
    "duration": 25325,
    "start_time": "2022-09-04T09:13:51.789Z"
   },
   {
    "duration": 7,
    "start_time": "2022-09-04T09:15:50.942Z"
   },
   {
    "duration": 3,
    "start_time": "2022-09-04T09:15:51.679Z"
   },
   {
    "duration": 25498,
    "start_time": "2022-09-04T09:16:13.450Z"
   },
   {
    "duration": 25311,
    "start_time": "2022-09-04T09:17:08.191Z"
   },
   {
    "duration": 25307,
    "start_time": "2022-09-04T09:17:55.749Z"
   },
   {
    "duration": 1565,
    "start_time": "2022-09-04T09:19:11.028Z"
   },
   {
    "duration": 832,
    "start_time": "2022-09-04T09:19:12.595Z"
   },
   {
    "duration": 11,
    "start_time": "2022-09-04T09:19:13.429Z"
   },
   {
    "duration": 31,
    "start_time": "2022-09-04T09:19:13.442Z"
   },
   {
    "duration": 240,
    "start_time": "2022-09-04T09:19:13.474Z"
   },
   {
    "duration": 1982,
    "start_time": "2022-09-04T09:19:13.715Z"
   },
   {
    "duration": 719,
    "start_time": "2022-09-04T09:19:15.710Z"
   },
   {
    "duration": 3052,
    "start_time": "2022-09-04T09:19:16.430Z"
   },
   {
    "duration": 1578,
    "start_time": "2022-09-04T09:19:19.483Z"
   },
   {
    "duration": 9,
    "start_time": "2022-09-04T09:19:21.064Z"
   },
   {
    "duration": 234,
    "start_time": "2022-09-04T09:19:21.075Z"
   },
   {
    "duration": 3,
    "start_time": "2022-09-04T09:19:21.310Z"
   },
   {
    "duration": 68,
    "start_time": "2022-09-04T09:19:21.314Z"
   },
   {
    "duration": 120,
    "start_time": "2022-09-04T09:19:21.383Z"
   },
   {
    "duration": 3,
    "start_time": "2022-09-04T09:19:21.505Z"
   },
   {
    "duration": 10,
    "start_time": "2022-09-04T09:19:21.510Z"
   },
   {
    "duration": 6831,
    "start_time": "2022-09-04T09:19:21.521Z"
   },
   {
    "duration": 4,
    "start_time": "2022-09-04T09:19:28.354Z"
   },
   {
    "duration": 15,
    "start_time": "2022-09-04T09:19:28.360Z"
   },
   {
    "duration": 10,
    "start_time": "2022-09-04T09:19:28.376Z"
   },
   {
    "duration": 178354,
    "start_time": "2022-09-04T09:19:28.387Z"
   },
   {
    "duration": 202338,
    "start_time": "2022-09-04T09:22:26.743Z"
   },
   {
    "duration": 13,
    "start_time": "2022-09-04T09:25:49.088Z"
   },
   {
    "duration": 25984,
    "start_time": "2022-09-04T09:25:49.108Z"
   },
   {
    "duration": 5,
    "start_time": "2022-09-04T09:26:15.094Z"
   },
   {
    "duration": 2145,
    "start_time": "2022-09-04T09:32:09.831Z"
   },
   {
    "duration": 2235,
    "start_time": "2022-09-04T09:32:11.978Z"
   },
   {
    "duration": 11,
    "start_time": "2022-09-04T09:32:14.214Z"
   },
   {
    "duration": 38,
    "start_time": "2022-09-04T09:32:14.226Z"
   },
   {
    "duration": 221,
    "start_time": "2022-09-04T09:32:14.266Z"
   },
   {
    "duration": 2045,
    "start_time": "2022-09-04T09:32:14.489Z"
   },
   {
    "duration": 697,
    "start_time": "2022-09-04T09:32:16.536Z"
   },
   {
    "duration": 2970,
    "start_time": "2022-09-04T09:32:17.235Z"
   },
   {
    "duration": 1566,
    "start_time": "2022-09-04T09:32:20.209Z"
   },
   {
    "duration": 11,
    "start_time": "2022-09-04T09:32:21.776Z"
   },
   {
    "duration": 235,
    "start_time": "2022-09-04T09:32:21.789Z"
   },
   {
    "duration": 3,
    "start_time": "2022-09-04T09:32:22.025Z"
   },
   {
    "duration": 63,
    "start_time": "2022-09-04T09:32:22.030Z"
   },
   {
    "duration": 201,
    "start_time": "2022-09-04T09:32:22.096Z"
   },
   {
    "duration": 5,
    "start_time": "2022-09-04T09:32:22.299Z"
   },
   {
    "duration": 6,
    "start_time": "2022-09-04T09:32:22.305Z"
   },
   {
    "duration": 6736,
    "start_time": "2022-09-04T09:32:22.312Z"
   },
   {
    "duration": 5,
    "start_time": "2022-09-04T09:32:29.050Z"
   },
   {
    "duration": 9,
    "start_time": "2022-09-04T09:32:29.057Z"
   },
   {
    "duration": 11,
    "start_time": "2022-09-04T09:32:29.067Z"
   },
   {
    "duration": 178851,
    "start_time": "2022-09-04T09:32:29.080Z"
   },
   {
    "duration": 202362,
    "start_time": "2022-09-04T09:35:27.932Z"
   },
   {
    "duration": 4,
    "start_time": "2022-09-04T09:38:50.296Z"
   },
   {
    "duration": 11,
    "start_time": "2022-09-04T09:38:50.308Z"
   },
   {
    "duration": 2268,
    "start_time": "2022-09-04T09:46:03.727Z"
   },
   {
    "duration": 2379,
    "start_time": "2022-09-04T09:46:05.998Z"
   },
   {
    "duration": 13,
    "start_time": "2022-09-04T09:46:08.379Z"
   },
   {
    "duration": 62,
    "start_time": "2022-09-04T09:46:08.395Z"
   },
   {
    "duration": 237,
    "start_time": "2022-09-04T09:46:08.458Z"
   },
   {
    "duration": 1982,
    "start_time": "2022-09-04T09:46:08.697Z"
   },
   {
    "duration": 649,
    "start_time": "2022-09-04T09:46:10.681Z"
   },
   {
    "duration": 3032,
    "start_time": "2022-09-04T09:46:11.332Z"
   },
   {
    "duration": 1626,
    "start_time": "2022-09-04T09:46:14.366Z"
   },
   {
    "duration": 18,
    "start_time": "2022-09-04T09:46:15.995Z"
   },
   {
    "duration": 248,
    "start_time": "2022-09-04T09:46:16.015Z"
   },
   {
    "duration": 2,
    "start_time": "2022-09-04T09:46:16.265Z"
   },
   {
    "duration": 71,
    "start_time": "2022-09-04T09:46:16.269Z"
   },
   {
    "duration": 121,
    "start_time": "2022-09-04T09:46:16.342Z"
   },
   {
    "duration": 3,
    "start_time": "2022-09-04T09:46:16.465Z"
   },
   {
    "duration": 6,
    "start_time": "2022-09-04T09:46:16.469Z"
   },
   {
    "duration": 7026,
    "start_time": "2022-09-04T09:46:16.477Z"
   },
   {
    "duration": 6,
    "start_time": "2022-09-04T09:46:23.505Z"
   },
   {
    "duration": 20,
    "start_time": "2022-09-04T09:46:23.513Z"
   },
   {
    "duration": 11,
    "start_time": "2022-09-04T09:46:23.535Z"
   },
   {
    "duration": 171884,
    "start_time": "2022-09-04T09:46:23.547Z"
   },
   {
    "duration": 205770,
    "start_time": "2022-09-04T09:49:15.432Z"
   },
   {
    "duration": 5,
    "start_time": "2022-09-04T09:52:41.204Z"
   },
   {
    "duration": 33,
    "start_time": "2022-09-04T09:52:41.210Z"
   },
   {
    "duration": 2011,
    "start_time": "2022-09-04T09:53:37.732Z"
   },
   {
    "duration": 2319,
    "start_time": "2022-09-04T09:53:39.745Z"
   },
   {
    "duration": 11,
    "start_time": "2022-09-04T09:53:42.066Z"
   },
   {
    "duration": 35,
    "start_time": "2022-09-04T09:53:42.078Z"
   },
   {
    "duration": 246,
    "start_time": "2022-09-04T09:53:42.116Z"
   },
   {
    "duration": 1988,
    "start_time": "2022-09-04T09:53:42.365Z"
   },
   {
    "duration": 702,
    "start_time": "2022-09-04T09:53:44.356Z"
   },
   {
    "duration": 3246,
    "start_time": "2022-09-04T09:53:45.060Z"
   },
   {
    "duration": 1569,
    "start_time": "2022-09-04T09:53:48.310Z"
   },
   {
    "duration": 11,
    "start_time": "2022-09-04T09:53:49.880Z"
   },
   {
    "duration": 240,
    "start_time": "2022-09-04T09:53:49.892Z"
   },
   {
    "duration": 3,
    "start_time": "2022-09-04T09:53:50.133Z"
   },
   {
    "duration": 71,
    "start_time": "2022-09-04T09:53:50.138Z"
   },
   {
    "duration": 120,
    "start_time": "2022-09-04T09:53:50.212Z"
   },
   {
    "duration": 3,
    "start_time": "2022-09-04T09:53:50.334Z"
   },
   {
    "duration": 7,
    "start_time": "2022-09-04T09:53:50.339Z"
   },
   {
    "duration": 6993,
    "start_time": "2022-09-04T09:53:50.347Z"
   },
   {
    "duration": 6,
    "start_time": "2022-09-04T09:53:57.345Z"
   },
   {
    "duration": 15,
    "start_time": "2022-09-04T09:53:57.353Z"
   },
   {
    "duration": 13,
    "start_time": "2022-09-04T09:53:57.370Z"
   },
   {
    "duration": 175545,
    "start_time": "2022-09-04T09:53:57.386Z"
   },
   {
    "duration": 201365,
    "start_time": "2022-09-04T09:56:52.933Z"
   },
   {
    "duration": 10,
    "start_time": "2022-09-04T10:00:14.299Z"
   },
   {
    "duration": 5,
    "start_time": "2022-09-04T10:00:14.311Z"
   },
   {
    "duration": 30770,
    "start_time": "2022-09-04T10:00:14.317Z"
   },
   {
    "duration": 745,
    "start_time": "2022-09-04T10:03:29.632Z"
   },
   {
    "duration": 725,
    "start_time": "2022-09-04T10:04:45.156Z"
   },
   {
    "duration": 192,
    "start_time": "2022-09-04T10:04:47.238Z"
   },
   {
    "duration": 5,
    "start_time": "2022-09-04T10:05:44.737Z"
   },
   {
    "duration": 134,
    "start_time": "2022-09-04T10:06:08.638Z"
   },
   {
    "duration": 4195,
    "start_time": "2022-09-04T10:06:14.638Z"
   },
   {
    "duration": 11,
    "start_time": "2022-09-04T10:06:21.898Z"
   },
   {
    "duration": 6,
    "start_time": "2022-09-04T10:06:39.826Z"
   },
   {
    "duration": 154,
    "start_time": "2022-09-04T10:11:28.420Z"
   },
   {
    "duration": 2823,
    "start_time": "2022-09-04T10:11:53.589Z"
   },
   {
    "duration": 2951,
    "start_time": "2022-09-04T10:12:05.452Z"
   },
   {
    "duration": 448,
    "start_time": "2022-09-04T10:12:13.101Z"
   },
   {
    "duration": 31,
    "start_time": "2022-09-04T10:14:00.127Z"
   },
   {
    "duration": 10,
    "start_time": "2022-09-04T10:15:40.344Z"
   },
   {
    "duration": 57,
    "start_time": "2022-09-04T10:19:41.492Z"
   },
   {
    "duration": 417,
    "start_time": "2022-09-04T10:19:46.528Z"
   },
   {
    "duration": 3,
    "start_time": "2022-09-04T10:23:22.728Z"
   },
   {
    "duration": 2178,
    "start_time": "2022-09-04T10:23:55.465Z"
   },
   {
    "duration": 2211,
    "start_time": "2022-09-04T10:23:57.646Z"
   },
   {
    "duration": 10,
    "start_time": "2022-09-04T10:23:59.858Z"
   },
   {
    "duration": 33,
    "start_time": "2022-09-04T10:23:59.870Z"
   },
   {
    "duration": 230,
    "start_time": "2022-09-04T10:23:59.905Z"
   },
   {
    "duration": 1951,
    "start_time": "2022-09-04T10:24:00.136Z"
   },
   {
    "duration": 682,
    "start_time": "2022-09-04T10:24:02.089Z"
   },
   {
    "duration": 278,
    "start_time": "2022-09-04T10:24:02.774Z"
   },
   {
    "duration": 2957,
    "start_time": "2022-09-04T10:24:03.054Z"
   },
   {
    "duration": 45,
    "start_time": "2022-09-04T10:25:21.138Z"
   },
   {
    "duration": 1986,
    "start_time": "2022-09-04T10:25:30.532Z"
   },
   {
    "duration": 2226,
    "start_time": "2022-09-04T10:25:32.520Z"
   },
   {
    "duration": 11,
    "start_time": "2022-09-04T10:25:34.747Z"
   },
   {
    "duration": 31,
    "start_time": "2022-09-04T10:25:34.760Z"
   },
   {
    "duration": 214,
    "start_time": "2022-09-04T10:25:35.153Z"
   },
   {
    "duration": 1912,
    "start_time": "2022-09-04T10:25:38.894Z"
   },
   {
    "duration": 643,
    "start_time": "2022-09-04T10:25:40.810Z"
   },
   {
    "duration": 277,
    "start_time": "2022-09-04T10:25:46.273Z"
   },
   {
    "duration": 2873,
    "start_time": "2022-09-04T10:25:47.857Z"
   },
   {
    "duration": 102,
    "start_time": "2022-09-04T10:27:13.441Z"
   },
   {
    "duration": 329,
    "start_time": "2022-09-04T10:28:24.344Z"
   },
   {
    "duration": 35,
    "start_time": "2022-09-04T10:29:08.983Z"
   },
   {
    "duration": 14,
    "start_time": "2022-09-04T10:32:11.697Z"
   },
   {
    "duration": 1557,
    "start_time": "2022-09-04T10:37:59.143Z"
   },
   {
    "duration": 13,
    "start_time": "2022-09-04T10:38:05.090Z"
   },
   {
    "duration": 60,
    "start_time": "2022-09-04T16:00:38.199Z"
   },
   {
    "duration": 1847,
    "start_time": "2022-09-04T16:02:05.589Z"
   },
   {
    "duration": 815,
    "start_time": "2022-09-04T16:02:07.438Z"
   },
   {
    "duration": 13,
    "start_time": "2022-09-04T16:02:08.255Z"
   },
   {
    "duration": 45,
    "start_time": "2022-09-04T16:02:08.270Z"
   },
   {
    "duration": 241,
    "start_time": "2022-09-04T16:02:08.318Z"
   },
   {
    "duration": 2072,
    "start_time": "2022-09-04T16:02:08.561Z"
   },
   {
    "duration": 732,
    "start_time": "2022-09-04T16:02:10.635Z"
   },
   {
    "duration": 301,
    "start_time": "2022-09-04T16:02:11.369Z"
   },
   {
    "duration": 3232,
    "start_time": "2022-09-04T16:02:11.671Z"
   },
   {
    "duration": 1764,
    "start_time": "2022-09-04T16:02:14.909Z"
   },
   {
    "duration": 16,
    "start_time": "2022-09-04T16:02:16.675Z"
   },
   {
    "duration": 287,
    "start_time": "2022-09-04T16:02:16.694Z"
   },
   {
    "duration": 3,
    "start_time": "2022-09-04T16:02:16.983Z"
   },
   {
    "duration": 78,
    "start_time": "2022-09-04T16:02:16.989Z"
   },
   {
    "duration": 192,
    "start_time": "2022-09-04T16:02:17.069Z"
   },
   {
    "duration": 4,
    "start_time": "2022-09-04T16:02:17.262Z"
   },
   {
    "duration": 5,
    "start_time": "2022-09-04T16:02:17.268Z"
   },
   {
    "duration": 7442,
    "start_time": "2022-09-04T16:02:17.275Z"
   },
   {
    "duration": 5,
    "start_time": "2022-09-04T16:02:24.719Z"
   },
   {
    "duration": 10,
    "start_time": "2022-09-04T16:02:24.725Z"
   },
   {
    "duration": 5,
    "start_time": "2022-09-04T16:02:24.736Z"
   },
   {
    "duration": 178012,
    "start_time": "2022-09-04T16:02:24.742Z"
   },
   {
    "duration": 215627,
    "start_time": "2022-09-04T16:05:22.756Z"
   },
   {
    "duration": 4,
    "start_time": "2022-09-04T16:08:58.385Z"
   },
   {
    "duration": 10,
    "start_time": "2022-09-04T16:08:58.390Z"
   },
   {
    "duration": 34232,
    "start_time": "2022-09-04T16:08:58.402Z"
   },
   {
    "duration": 167,
    "start_time": "2022-09-04T16:09:32.636Z"
   },
   {
    "duration": 10,
    "start_time": "2022-09-04T16:09:32.805Z"
   },
   {
    "duration": 12840,
    "start_time": "2022-09-04T16:09:54.695Z"
   },
   {
    "duration": 37,
    "start_time": "2022-09-04T16:10:20.095Z"
   },
   {
    "duration": 5,
    "start_time": "2022-09-04T16:11:12.155Z"
   },
   {
    "duration": 4,
    "start_time": "2022-09-04T16:11:20.363Z"
   },
   {
    "duration": 5,
    "start_time": "2022-09-04T16:12:08.271Z"
   },
   {
    "duration": 4,
    "start_time": "2022-09-04T16:12:17.054Z"
   },
   {
    "duration": 4,
    "start_time": "2022-09-04T16:12:31.750Z"
   },
   {
    "duration": 4,
    "start_time": "2022-09-04T16:12:47.751Z"
   },
   {
    "duration": 7,
    "start_time": "2022-09-04T16:12:49.269Z"
   },
   {
    "duration": 37273,
    "start_time": "2022-09-04T16:12:50.118Z"
   },
   {
    "duration": 13603,
    "start_time": "2022-09-04T16:13:27.394Z"
   },
   {
    "duration": 5,
    "start_time": "2022-09-04T16:13:40.999Z"
   },
   {
    "duration": 19,
    "start_time": "2022-09-04T16:13:41.010Z"
   },
   {
    "duration": 25775,
    "start_time": "2022-09-04T16:15:23.559Z"
   },
   {
    "duration": 25,
    "start_time": "2022-09-04T16:15:49.336Z"
   },
   {
    "duration": 2481,
    "start_time": "2022-09-04T16:24:27.837Z"
   },
   {
    "duration": 2367,
    "start_time": "2022-09-04T16:24:30.320Z"
   },
   {
    "duration": 11,
    "start_time": "2022-09-04T16:24:32.689Z"
   },
   {
    "duration": 36,
    "start_time": "2022-09-04T16:24:32.702Z"
   },
   {
    "duration": 230,
    "start_time": "2022-09-04T16:24:32.740Z"
   },
   {
    "duration": 1968,
    "start_time": "2022-09-04T16:24:32.972Z"
   },
   {
    "duration": 691,
    "start_time": "2022-09-04T16:24:34.941Z"
   },
   {
    "duration": 328,
    "start_time": "2022-09-04T16:24:35.634Z"
   },
   {
    "duration": 3059,
    "start_time": "2022-09-04T16:24:35.963Z"
   },
   {
    "duration": 1695,
    "start_time": "2022-09-04T16:24:39.026Z"
   },
   {
    "duration": 10,
    "start_time": "2022-09-04T16:24:40.723Z"
   },
   {
    "duration": 256,
    "start_time": "2022-09-04T16:24:40.735Z"
   },
   {
    "duration": 3,
    "start_time": "2022-09-04T16:24:40.993Z"
   },
   {
    "duration": 60,
    "start_time": "2022-09-04T16:24:41.009Z"
   },
   {
    "duration": 123,
    "start_time": "2022-09-04T16:24:41.071Z"
   },
   {
    "duration": 4,
    "start_time": "2022-09-04T16:24:41.196Z"
   },
   {
    "duration": 5,
    "start_time": "2022-09-04T16:24:41.201Z"
   },
   {
    "duration": 7306,
    "start_time": "2022-09-04T16:24:41.207Z"
   },
   {
    "duration": 6,
    "start_time": "2022-09-04T16:24:48.515Z"
   },
   {
    "duration": 30,
    "start_time": "2022-09-04T16:24:48.523Z"
   },
   {
    "duration": 8,
    "start_time": "2022-09-04T16:24:48.555Z"
   },
   {
    "duration": 173256,
    "start_time": "2022-09-04T16:24:48.565Z"
   },
   {
    "duration": 231147,
    "start_time": "2022-09-04T16:27:41.824Z"
   },
   {
    "duration": 5,
    "start_time": "2022-09-04T16:31:32.972Z"
   },
   {
    "duration": 11,
    "start_time": "2022-09-04T16:31:32.978Z"
   },
   {
    "duration": 33852,
    "start_time": "2022-09-04T16:31:32.991Z"
   },
   {
    "duration": 26893,
    "start_time": "2022-09-04T16:32:06.845Z"
   },
   {
    "duration": 19,
    "start_time": "2022-09-04T16:32:33.741Z"
   },
   {
    "duration": 3,
    "start_time": "2022-09-04T19:14:20.620Z"
   },
   {
    "duration": 1925,
    "start_time": "2022-09-04T19:15:36.774Z"
   },
   {
    "duration": 4012,
    "start_time": "2022-09-04T19:15:38.702Z"
   },
   {
    "duration": 10,
    "start_time": "2022-09-04T19:15:42.716Z"
   },
   {
    "duration": 40,
    "start_time": "2022-09-04T19:15:42.728Z"
   },
   {
    "duration": 237,
    "start_time": "2022-09-04T19:15:42.770Z"
   },
   {
    "duration": 3,
    "start_time": "2022-09-04T19:15:49.990Z"
   },
   {
    "duration": 4,
    "start_time": "2022-09-04T19:18:10.574Z"
   },
   {
    "duration": 257,
    "start_time": "2022-09-04T19:18:50.682Z"
   },
   {
    "duration": 6,
    "start_time": "2022-09-04T19:19:44.477Z"
   },
   {
    "duration": 3,
    "start_time": "2022-09-04T19:22:16.294Z"
   },
   {
    "duration": 3,
    "start_time": "2022-09-04T19:22:57.337Z"
   },
   {
    "duration": 88,
    "start_time": "2022-09-04T19:23:02.799Z"
   },
   {
    "duration": 6,
    "start_time": "2022-09-04T19:23:26.817Z"
   },
   {
    "duration": 3,
    "start_time": "2022-09-04T19:26:02.947Z"
   },
   {
    "duration": 4,
    "start_time": "2022-09-04T19:26:11.377Z"
   },
   {
    "duration": 3061,
    "start_time": "2022-09-04T19:26:21.083Z"
   },
   {
    "duration": 3014,
    "start_time": "2022-09-04T19:26:33.643Z"
   },
   {
    "duration": 3,
    "start_time": "2022-09-04T19:28:17.912Z"
   },
   {
    "duration": 4,
    "start_time": "2022-09-04T19:28:58.278Z"
   },
   {
    "duration": 71,
    "start_time": "2022-09-04T19:29:09.423Z"
   },
   {
    "duration": 87,
    "start_time": "2022-09-04T19:29:15.092Z"
   },
   {
    "duration": 130,
    "start_time": "2022-09-04T19:29:21.428Z"
   },
   {
    "duration": 5,
    "start_time": "2022-09-04T19:29:25.565Z"
   },
   {
    "duration": 85,
    "start_time": "2022-09-04T19:31:54.258Z"
   },
   {
    "duration": 1019,
    "start_time": "2022-09-04T19:32:08.897Z"
   },
   {
    "duration": 4,
    "start_time": "2022-09-04T19:32:22.995Z"
   },
   {
    "duration": 4,
    "start_time": "2022-09-04T19:32:41.158Z"
   },
   {
    "duration": 3353,
    "start_time": "2022-09-04T19:32:58.499Z"
   },
   {
    "duration": 760,
    "start_time": "2022-09-04T19:33:13.333Z"
   },
   {
    "duration": 7,
    "start_time": "2022-09-04T19:33:14.097Z"
   },
   {
    "duration": 30,
    "start_time": "2022-09-04T19:33:14.430Z"
   },
   {
    "duration": 202,
    "start_time": "2022-09-04T19:33:18.009Z"
   },
   {
    "duration": 11,
    "start_time": "2022-09-04T19:33:20.985Z"
   },
   {
    "duration": 2,
    "start_time": "2022-09-04T19:33:25.239Z"
   },
   {
    "duration": 257,
    "start_time": "2022-09-04T19:33:26.288Z"
   },
   {
    "duration": 3145,
    "start_time": "2022-09-04T19:33:38.166Z"
   },
   {
    "duration": 2676,
    "start_time": "2022-09-04T19:41:15.458Z"
   },
   {
    "duration": 349,
    "start_time": "2022-09-04T19:43:33.504Z"
   },
   {
    "duration": 107,
    "start_time": "2022-09-04T19:44:43.013Z"
   },
   {
    "duration": 426,
    "start_time": "2022-09-04T19:45:03.171Z"
   },
   {
    "duration": 92,
    "start_time": "2022-09-04T19:45:08.221Z"
   },
   {
    "duration": 579,
    "start_time": "2022-09-04T19:45:49.490Z"
   },
   {
    "duration": 70,
    "start_time": "2022-09-04T19:49:21.080Z"
   },
   {
    "duration": 438,
    "start_time": "2022-09-04T19:49:24.945Z"
   },
   {
    "duration": 343,
    "start_time": "2022-09-04T19:49:43.526Z"
   },
   {
    "duration": 429,
    "start_time": "2022-09-04T19:52:18.868Z"
   },
   {
    "duration": 389,
    "start_time": "2022-09-04T19:53:01.127Z"
   },
   {
    "duration": 358,
    "start_time": "2022-09-04T19:53:52.722Z"
   },
   {
    "duration": 4678,
    "start_time": "2022-09-04T20:02:58.580Z"
   },
   {
    "duration": 3785,
    "start_time": "2022-09-04T20:03:03.260Z"
   },
   {
    "duration": 12,
    "start_time": "2022-09-04T20:03:07.046Z"
   },
   {
    "duration": 33,
    "start_time": "2022-09-04T20:03:07.059Z"
   },
   {
    "duration": 231,
    "start_time": "2022-09-04T20:03:07.093Z"
   },
   {
    "duration": 2,
    "start_time": "2022-09-04T20:03:07.326Z"
   },
   {
    "duration": 8,
    "start_time": "2022-09-04T20:03:07.329Z"
   },
   {
    "duration": 284,
    "start_time": "2022-09-04T20:03:07.339Z"
   },
   {
    "duration": 3354,
    "start_time": "2022-09-04T20:03:07.625Z"
   },
   {
    "duration": 503,
    "start_time": "2022-09-04T20:03:43.787Z"
   },
   {
    "duration": 121598,
    "start_time": "2022-09-04T20:03:54.186Z"
   },
   {
    "duration": 0,
    "start_time": "2022-09-04T20:05:55.787Z"
   },
   {
    "duration": 5,
    "start_time": "2022-09-04T20:06:38.925Z"
   },
   {
    "duration": 256,
    "start_time": "2022-09-04T20:08:20.284Z"
   },
   {
    "duration": 4,
    "start_time": "2022-09-04T20:08:22.439Z"
   },
   {
    "duration": 647,
    "start_time": "2022-09-04T20:09:01.435Z"
   },
   {
    "duration": 4,
    "start_time": "2022-09-04T20:09:08.078Z"
   },
   {
    "duration": 24,
    "start_time": "2022-09-04T20:09:09.435Z"
   },
   {
    "duration": 42,
    "start_time": "2022-09-04T20:09:43.893Z"
   },
   {
    "duration": 3,
    "start_time": "2022-09-04T20:10:11.566Z"
   },
   {
    "duration": 143,
    "start_time": "2022-09-04T20:10:15.738Z"
   },
   {
    "duration": 1918,
    "start_time": "2022-09-04T20:10:55.358Z"
   },
   {
    "duration": 2,
    "start_time": "2022-09-04T20:11:02.964Z"
   },
   {
    "duration": 4,
    "start_time": "2022-09-04T20:11:03.532Z"
   },
   {
    "duration": 6,
    "start_time": "2022-09-04T20:11:04.114Z"
   },
   {
    "duration": 3,
    "start_time": "2022-09-04T20:11:04.557Z"
   },
   {
    "duration": 5,
    "start_time": "2022-09-04T20:11:05.940Z"
   },
   {
    "duration": 72,
    "start_time": "2022-09-04T20:11:06.983Z"
   },
   {
    "duration": 1315,
    "start_time": "2022-09-04T20:11:19.377Z"
   },
   {
    "duration": 3,
    "start_time": "2022-09-04T20:11:25.811Z"
   },
   {
    "duration": 3,
    "start_time": "2022-09-04T20:11:27.064Z"
   },
   {
    "duration": 5,
    "start_time": "2022-09-04T20:11:27.958Z"
   },
   {
    "duration": 3,
    "start_time": "2022-09-04T20:11:33.431Z"
   },
   {
    "duration": 3,
    "start_time": "2022-09-04T20:11:39.942Z"
   },
   {
    "duration": 65,
    "start_time": "2022-09-04T20:11:44.460Z"
   },
   {
    "duration": 7,
    "start_time": "2022-09-04T20:12:01.466Z"
   },
   {
    "duration": 56,
    "start_time": "2022-09-04T20:12:10.743Z"
   },
   {
    "duration": 1380,
    "start_time": "2022-09-04T20:12:55.721Z"
   },
   {
    "duration": 24,
    "start_time": "2022-09-04T20:13:11.392Z"
   },
   {
    "duration": 1211741,
    "start_time": "2022-09-04T20:13:13.568Z"
   },
   {
    "duration": 0,
    "start_time": "2022-09-04T20:33:25.311Z"
   },
   {
    "duration": 0,
    "start_time": "2022-09-04T20:33:25.312Z"
   },
   {
    "duration": 40,
    "start_time": "2022-09-04T20:33:33.182Z"
   },
   {
    "duration": 98,
    "start_time": "2022-09-04T20:34:19.043Z"
   },
   {
    "duration": 2,
    "start_time": "2022-09-04T20:34:22.857Z"
   },
   {
    "duration": 7,
    "start_time": "2022-09-04T20:34:23.964Z"
   },
   {
    "duration": 5,
    "start_time": "2022-09-04T20:34:24.534Z"
   },
   {
    "duration": 11,
    "start_time": "2022-09-04T20:34:25.768Z"
   },
   {
    "duration": 4,
    "start_time": "2022-09-04T20:34:27.146Z"
   },
   {
    "duration": 15,
    "start_time": "2022-09-04T20:34:36.795Z"
   },
   {
    "duration": 8,
    "start_time": "2022-09-04T20:34:52.439Z"
   },
   {
    "duration": 3,
    "start_time": "2022-09-04T20:35:10.792Z"
   },
   {
    "duration": 4,
    "start_time": "2022-09-04T20:35:11.262Z"
   },
   {
    "duration": 6,
    "start_time": "2022-09-04T20:35:11.781Z"
   },
   {
    "duration": 3,
    "start_time": "2022-09-04T20:35:12.195Z"
   },
   {
    "duration": 4,
    "start_time": "2022-09-04T20:35:12.881Z"
   },
   {
    "duration": 6,
    "start_time": "2022-09-04T20:35:13.749Z"
   },
   {
    "duration": 228925,
    "start_time": "2022-09-04T20:35:15.924Z"
   },
   {
    "duration": 2,
    "start_time": "2022-09-04T20:39:04.851Z"
   },
   {
    "duration": 6,
    "start_time": "2022-09-04T20:39:04.855Z"
   },
   {
    "duration": 193,
    "start_time": "2022-09-04T20:39:04.871Z"
   },
   {
    "duration": 6,
    "start_time": "2022-09-04T20:39:22.905Z"
   },
   {
    "duration": 180,
    "start_time": "2022-09-04T20:39:42.319Z"
   },
   {
    "duration": 3,
    "start_time": "2022-09-04T20:39:47.119Z"
   },
   {
    "duration": 25,
    "start_time": "2022-09-04T20:39:47.961Z"
   },
   {
    "duration": 2,
    "start_time": "2022-09-04T20:39:51.162Z"
   },
   {
    "duration": 2,
    "start_time": "2022-09-04T20:39:52.098Z"
   },
   {
    "duration": 3,
    "start_time": "2022-09-04T20:39:52.956Z"
   },
   {
    "duration": 590,
    "start_time": "2022-09-04T20:39:53.856Z"
   },
   {
    "duration": 5,
    "start_time": "2022-09-04T20:39:56.044Z"
   },
   {
    "duration": 8,
    "start_time": "2022-09-04T20:40:06.098Z"
   },
   {
    "duration": 3,
    "start_time": "2022-09-04T20:40:07.513Z"
   },
   {
    "duration": 18864,
    "start_time": "2022-09-04T20:40:42.630Z"
   },
   {
    "duration": 16664,
    "start_time": "2022-09-04T20:43:56.221Z"
   },
   {
    "duration": 50448,
    "start_time": "2022-09-04T20:45:26.528Z"
   },
   {
    "duration": 46472,
    "start_time": "2022-09-04T20:46:54.897Z"
   },
   {
    "duration": 1564,
    "start_time": "2022-09-04T20:47:41.372Z"
   },
   {
    "duration": 337,
    "start_time": "2022-09-04T20:48:15.452Z"
   },
   {
    "duration": 776,
    "start_time": "2022-09-04T20:48:24.708Z"
   },
   {
    "duration": 8,
    "start_time": "2022-09-04T20:48:25.487Z"
   },
   {
    "duration": 41,
    "start_time": "2022-09-04T20:48:25.498Z"
   },
   {
    "duration": 211,
    "start_time": "2022-09-04T20:48:25.796Z"
   },
   {
    "duration": 2,
    "start_time": "2022-09-04T20:48:27.236Z"
   },
   {
    "duration": 2,
    "start_time": "2022-09-04T20:48:29.060Z"
   },
   {
    "duration": 242,
    "start_time": "2022-09-04T20:48:29.684Z"
   },
   {
    "duration": 3003,
    "start_time": "2022-09-04T20:48:30.855Z"
   },
   {
    "duration": 55,
    "start_time": "2022-09-04T20:48:34.494Z"
   },
   {
    "duration": 3,
    "start_time": "2022-09-04T20:48:36.586Z"
   },
   {
    "duration": 9,
    "start_time": "2022-09-04T20:48:38.765Z"
   },
   {
    "duration": 7,
    "start_time": "2022-09-04T20:48:39.138Z"
   },
   {
    "duration": 5,
    "start_time": "2022-09-04T20:48:39.340Z"
   },
   {
    "duration": 9,
    "start_time": "2022-09-04T20:48:39.572Z"
   },
   {
    "duration": 28,
    "start_time": "2022-09-04T20:48:40.207Z"
   },
   {
    "duration": 2,
    "start_time": "2022-09-04T20:56:25.608Z"
   },
   {
    "duration": 5,
    "start_time": "2022-09-04T20:56:25.611Z"
   },
   {
    "duration": 229,
    "start_time": "2022-09-04T20:56:25.618Z"
   },
   {
    "duration": 14,
    "start_time": "2022-09-04T20:56:37.275Z"
   },
   {
    "duration": 1901,
    "start_time": "2022-09-04T20:56:37.291Z"
   },
   {
    "duration": 13,
    "start_time": "2022-09-04T20:56:41.785Z"
   },
   {
    "duration": 179003,
    "start_time": "2022-09-04T20:56:44.337Z"
   },
   {
    "duration": 100,
    "start_time": "2022-09-04T20:59:43.342Z"
   },
   {
    "duration": 184,
    "start_time": "2022-09-04T21:03:23.418Z"
   },
   {
    "duration": 3,
    "start_time": "2022-09-04T21:03:26.889Z"
   },
   {
    "duration": 17,
    "start_time": "2022-09-04T21:03:27.407Z"
   },
   {
    "duration": 8,
    "start_time": "2022-09-04T21:03:38.052Z"
   },
   {
    "duration": 10,
    "start_time": "2022-09-04T21:03:38.977Z"
   },
   {
    "duration": 61,
    "start_time": "2022-09-04T21:03:41.610Z"
   },
   {
    "duration": 75,
    "start_time": "2022-09-04T21:04:07.791Z"
   },
   {
    "duration": 45,
    "start_time": "2022-09-04T21:04:53.160Z"
   },
   {
    "duration": 126,
    "start_time": "2022-09-04T21:07:04.834Z"
   },
   {
    "duration": 118,
    "start_time": "2022-09-04T21:08:10.007Z"
   },
   {
    "duration": 133,
    "start_time": "2022-09-04T21:08:50.526Z"
   },
   {
    "duration": 69,
    "start_time": "2022-09-04T21:09:54.846Z"
   },
   {
    "duration": 47,
    "start_time": "2022-09-04T21:10:47.982Z"
   },
   {
    "duration": 43,
    "start_time": "2022-09-04T21:11:25.511Z"
   },
   {
    "duration": 47,
    "start_time": "2022-09-04T21:11:45.953Z"
   },
   {
    "duration": 44,
    "start_time": "2022-09-04T21:12:13.842Z"
   },
   {
    "duration": 56,
    "start_time": "2022-09-04T21:13:05.300Z"
   },
   {
    "duration": 69,
    "start_time": "2022-09-04T21:14:32.965Z"
   },
   {
    "duration": 171162,
    "start_time": "2022-09-04T21:15:54.986Z"
   },
   {
    "duration": 109985,
    "start_time": "2022-09-04T21:19:06.263Z"
   },
   {
    "duration": 4,
    "start_time": "2022-09-04T21:21:15.187Z"
   },
   {
    "duration": 92087,
    "start_time": "2022-09-04T21:23:07.186Z"
   },
   {
    "duration": 329,
    "start_time": "2022-09-04T21:26:33.004Z"
   },
   {
    "duration": 1935,
    "start_time": "2022-09-04T21:26:39.704Z"
   },
   {
    "duration": 721,
    "start_time": "2022-09-04T21:26:41.641Z"
   },
   {
    "duration": 7,
    "start_time": "2022-09-04T21:26:42.366Z"
   },
   {
    "duration": 32,
    "start_time": "2022-09-04T21:26:42.376Z"
   },
   {
    "duration": 226,
    "start_time": "2022-09-04T21:26:42.410Z"
   },
   {
    "duration": 2,
    "start_time": "2022-09-04T21:26:44.740Z"
   },
   {
    "duration": 2,
    "start_time": "2022-09-04T21:26:47.434Z"
   },
   {
    "duration": 234,
    "start_time": "2022-09-04T21:26:48.242Z"
   },
   {
    "duration": 2659,
    "start_time": "2022-09-04T21:26:49.994Z"
   },
   {
    "duration": 48,
    "start_time": "2022-09-04T21:26:55.581Z"
   },
   {
    "duration": 3,
    "start_time": "2022-09-04T21:26:58.574Z"
   },
   {
    "duration": 4,
    "start_time": "2022-09-04T21:26:58.843Z"
   },
   {
    "duration": 5,
    "start_time": "2022-09-04T21:26:59.042Z"
   },
   {
    "duration": 3,
    "start_time": "2022-09-04T21:26:59.618Z"
   },
   {
    "duration": 5,
    "start_time": "2022-09-04T21:27:00.102Z"
   },
   {
    "duration": 53,
    "start_time": "2022-09-04T21:27:00.550Z"
   },
   {
    "duration": 624043,
    "start_time": "2022-09-04T21:27:01.172Z"
   },
   {
    "duration": 78956,
    "start_time": "2022-09-05T04:18:12.827Z"
   },
   {
    "duration": 1659,
    "start_time": "2022-09-05T04:52:48.969Z"
   },
   {
    "duration": 722,
    "start_time": "2022-09-05T04:52:50.630Z"
   },
   {
    "duration": 7,
    "start_time": "2022-09-05T04:52:51.353Z"
   },
   {
    "duration": 33,
    "start_time": "2022-09-05T04:52:51.368Z"
   },
   {
    "duration": 202,
    "start_time": "2022-09-05T04:52:52.042Z"
   },
   {
    "duration": 2,
    "start_time": "2022-09-05T04:52:56.821Z"
   },
   {
    "duration": 2,
    "start_time": "2022-09-05T04:53:01.193Z"
   },
   {
    "duration": 219,
    "start_time": "2022-09-05T04:53:06.133Z"
   },
   {
    "duration": 2800,
    "start_time": "2022-09-05T04:53:08.045Z"
   },
   {
    "duration": 3,
    "start_time": "2022-09-05T04:53:41.500Z"
   },
   {
    "duration": 3,
    "start_time": "2022-09-05T04:53:41.787Z"
   },
   {
    "duration": 6,
    "start_time": "2022-09-05T04:53:42.008Z"
   },
   {
    "duration": 4,
    "start_time": "2022-09-05T04:53:42.300Z"
   },
   {
    "duration": 3,
    "start_time": "2022-09-05T04:53:42.879Z"
   },
   {
    "duration": 60,
    "start_time": "2022-09-05T04:53:43.276Z"
   },
   {
    "duration": 1454795,
    "start_time": "2022-09-05T04:53:43.889Z"
   },
   {
    "duration": 2,
    "start_time": "2022-09-05T05:17:58.686Z"
   },
   {
    "duration": 7,
    "start_time": "2022-09-05T05:17:58.689Z"
   },
   {
    "duration": 220,
    "start_time": "2022-09-05T05:17:58.697Z"
   },
   {
    "duration": 5,
    "start_time": "2022-09-05T05:18:04.239Z"
   },
   {
    "duration": 3,
    "start_time": "2022-09-05T05:18:04.928Z"
   },
   {
    "duration": 3,
    "start_time": "2022-09-05T05:18:05.526Z"
   },
   {
    "duration": 6,
    "start_time": "2022-09-05T05:18:06.612Z"
   },
   {
    "duration": 27250,
    "start_time": "2022-09-05T05:18:07.356Z"
   },
   {
    "duration": 402,
    "start_time": "2022-09-05T05:21:15.479Z"
   },
   {
    "duration": 1637656,
    "start_time": "2022-09-05T05:22:10.011Z"
   },
   {
    "duration": 8,
    "start_time": "2022-09-05T10:14:27.225Z"
   },
   {
    "duration": 235,
    "start_time": "2022-09-05T10:14:41.805Z"
   },
   {
    "duration": 5,
    "start_time": "2022-09-05T10:14:44.994Z"
   },
   {
    "duration": 70,
    "start_time": "2022-09-05T10:14:45.391Z"
   },
   {
    "duration": 7,
    "start_time": "2022-09-05T10:14:49.459Z"
   },
   {
    "duration": 3,
    "start_time": "2022-09-05T10:14:50.260Z"
   },
   {
    "duration": 448,
    "start_time": "2022-09-05T10:14:51.613Z"
   },
   {
    "duration": 7,
    "start_time": "2022-09-05T10:15:24.032Z"
   },
   {
    "duration": 3,
    "start_time": "2022-09-05T10:15:34.810Z"
   },
   {
    "duration": 15,
    "start_time": "2022-09-05T10:15:38.340Z"
   },
   {
    "duration": 38,
    "start_time": "2022-09-05T10:16:56.394Z"
   },
   {
    "duration": 400,
    "start_time": "2022-09-05T10:17:09.199Z"
   },
   {
    "duration": 848,
    "start_time": "2022-09-05T10:17:20.563Z"
   },
   {
    "duration": 257,
    "start_time": "2022-09-05T10:17:24.696Z"
   },
   {
    "duration": 2973,
    "start_time": "2022-09-05T10:17:30.586Z"
   },
   {
    "duration": 34,
    "start_time": "2022-09-05T10:17:37.017Z"
   },
   {
    "duration": 2515,
    "start_time": "2022-09-05T10:17:41.358Z"
   },
   {
    "duration": 782,
    "start_time": "2022-09-05T10:17:57.841Z"
   },
   {
    "duration": 250,
    "start_time": "2022-09-05T10:18:00.724Z"
   },
   {
    "duration": 34,
    "start_time": "2022-09-05T10:18:03.299Z"
   },
   {
    "duration": 2818,
    "start_time": "2022-09-05T10:18:06.780Z"
   },
   {
    "duration": 7,
    "start_time": "2022-09-05T10:18:18.537Z"
   },
   {
    "duration": 178,
    "start_time": "2022-09-05T10:18:41.108Z"
   },
   {
    "duration": 14,
    "start_time": "2022-09-05T10:18:44.638Z"
   },
   {
    "duration": 3,
    "start_time": "2022-09-05T10:18:56.591Z"
   },
   {
    "duration": 15,
    "start_time": "2022-09-05T10:18:57.133Z"
   },
   {
    "duration": 7,
    "start_time": "2022-09-05T10:18:59.970Z"
   },
   {
    "duration": 3,
    "start_time": "2022-09-05T10:19:00.744Z"
   },
   {
    "duration": 388,
    "start_time": "2022-09-05T10:19:03.054Z"
   },
   {
    "duration": 1429,
    "start_time": "2022-09-05T10:19:32.526Z"
   },
   {
    "duration": 748,
    "start_time": "2022-09-05T10:19:33.957Z"
   },
   {
    "duration": 8,
    "start_time": "2022-09-05T10:19:36.073Z"
   },
   {
    "duration": 39,
    "start_time": "2022-09-05T10:19:38.328Z"
   },
   {
    "duration": 239,
    "start_time": "2022-09-05T10:19:39.081Z"
   },
   {
    "duration": 260,
    "start_time": "2022-09-05T10:19:45.284Z"
   },
   {
    "duration": 3028,
    "start_time": "2022-09-05T10:19:49.233Z"
   },
   {
    "duration": 1955090,
    "start_time": "2022-09-05T10:20:10.140Z"
   },
   {
    "duration": 3,
    "start_time": "2022-09-05T11:18:59.950Z"
   },
   {
    "duration": 63,
    "start_time": "2022-09-05T11:19:00.533Z"
   },
   {
    "duration": 8,
    "start_time": "2022-09-05T11:19:07.334Z"
   },
   {
    "duration": 3,
    "start_time": "2022-09-05T11:19:08.147Z"
   },
   {
    "duration": 556676,
    "start_time": "2022-09-05T11:19:10.057Z"
   },
   {
    "duration": 128,
    "start_time": "2022-09-05T18:36:54.953Z"
   },
   {
    "duration": 93,
    "start_time": "2022-09-05T18:39:55.459Z"
   },
   {
    "duration": 473,
    "start_time": "2022-09-05T18:40:07.195Z"
   },
   {
    "duration": 119,
    "start_time": "2022-09-05T18:42:41.861Z"
   },
   {
    "duration": 137,
    "start_time": "2022-09-05T18:43:14.624Z"
   },
   {
    "duration": 119,
    "start_time": "2022-09-05T18:44:33.824Z"
   },
   {
    "duration": 126,
    "start_time": "2022-09-05T18:46:52.781Z"
   },
   {
    "duration": 117,
    "start_time": "2022-09-05T18:47:33.168Z"
   },
   {
    "duration": 198871,
    "start_time": "2022-09-05T18:47:48.490Z"
   },
   {
    "duration": 84,
    "start_time": "2022-09-05T18:54:42.272Z"
   },
   {
    "duration": 3,
    "start_time": "2022-09-05T18:54:52.897Z"
   },
   {
    "duration": 6,
    "start_time": "2022-09-05T18:54:54.166Z"
   },
   {
    "duration": 2351,
    "start_time": "2022-09-05T18:54:55.279Z"
   },
   {
    "duration": 5,
    "start_time": "2022-09-05T18:55:30.722Z"
   },
   {
    "duration": 6,
    "start_time": "2022-09-05T19:04:58.330Z"
   },
   {
    "duration": 134,
    "start_time": "2022-09-05T19:05:07.223Z"
   },
   {
    "duration": 120,
    "start_time": "2022-09-05T19:14:21.269Z"
   },
   {
    "duration": 115,
    "start_time": "2022-09-05T19:17:20.092Z"
   },
   {
    "duration": 33665,
    "start_time": "2022-09-05T19:19:00.763Z"
   },
   {
    "duration": 3,
    "start_time": "2022-09-05T19:21:13.925Z"
   },
   {
    "duration": 5,
    "start_time": "2022-09-05T19:21:14.493Z"
   },
   {
    "duration": 35193,
    "start_time": "2022-09-05T19:21:16.194Z"
   },
   {
    "duration": 100,
    "start_time": "2022-09-05T19:21:56.690Z"
   },
   {
    "duration": 1678,
    "start_time": "2022-09-05T19:22:20.397Z"
   },
   {
    "duration": 104,
    "start_time": "2022-09-05T19:23:41.747Z"
   },
   {
    "duration": 370529,
    "start_time": "2022-09-05T19:26:04.394Z"
   },
   {
    "duration": 35873,
    "start_time": "2022-09-05T19:32:19.306Z"
   },
   {
    "duration": 551583,
    "start_time": "2022-09-05T19:32:59.284Z"
   },
   {
    "duration": 5,
    "start_time": "2022-09-05T19:42:10.869Z"
   },
   {
    "duration": 6,
    "start_time": "2022-09-05T19:47:45.490Z"
   },
   {
    "duration": 1295,
    "start_time": "2022-09-05T19:47:52.824Z"
   },
   {
    "duration": 21,
    "start_time": "2022-09-05T19:48:07.941Z"
   },
   {
    "duration": 20,
    "start_time": "2022-09-05T19:48:15.136Z"
   },
   {
    "duration": 1077,
    "start_time": "2022-09-05T19:48:53.365Z"
   },
   {
    "duration": 989,
    "start_time": "2022-09-05T19:49:28.378Z"
   },
   {
    "duration": 105,
    "start_time": "2022-09-05T19:49:58.976Z"
   },
   {
    "duration": 1677,
    "start_time": "2022-09-05T19:50:07.397Z"
   },
   {
    "duration": 790,
    "start_time": "2022-09-05T19:51:38.786Z"
   },
   {
    "duration": 1513,
    "start_time": "2022-09-05T19:52:12.777Z"
   },
   {
    "duration": 751,
    "start_time": "2022-09-05T19:52:39.843Z"
   },
   {
    "duration": 1061,
    "start_time": "2022-09-05T19:53:56.504Z"
   },
   {
    "duration": 1661,
    "start_time": "2022-09-05T19:55:47.346Z"
   },
   {
    "duration": 3,
    "start_time": "2022-09-05T19:56:03.836Z"
   },
   {
    "duration": 6,
    "start_time": "2022-09-05T19:59:18.110Z"
   },
   {
    "duration": 1291,
    "start_time": "2022-09-05T19:59:18.973Z"
   },
   {
    "duration": 5,
    "start_time": "2022-09-05T19:59:47.656Z"
   },
   {
    "duration": 5,
    "start_time": "2022-09-05T20:00:17.153Z"
   },
   {
    "duration": 15,
    "start_time": "2022-09-05T20:00:29.966Z"
   },
   {
    "duration": 2059,
    "start_time": "2022-09-05T20:00:38.878Z"
   },
   {
    "duration": 13,
    "start_time": "2022-09-05T20:03:22.881Z"
   },
   {
    "duration": 3,
    "start_time": "2022-09-05T20:03:30.332Z"
   },
   {
    "duration": 7,
    "start_time": "2022-09-05T20:05:17.594Z"
   },
   {
    "duration": 7,
    "start_time": "2022-09-05T20:06:16.253Z"
   },
   {
    "duration": 19,
    "start_time": "2022-09-05T20:06:18.780Z"
   },
   {
    "duration": 72,
    "start_time": "2022-09-05T20:06:33.733Z"
   },
   {
    "duration": 893,
    "start_time": "2022-09-05T20:06:58.628Z"
   },
   {
    "duration": 6,
    "start_time": "2022-09-05T20:08:19.479Z"
   },
   {
    "duration": 946,
    "start_time": "2022-09-05T20:09:45.715Z"
   },
   {
    "duration": 746,
    "start_time": "2022-09-05T20:21:17.365Z"
   },
   {
    "duration": 1721,
    "start_time": "2022-09-05T20:27:02.002Z"
   },
   {
    "duration": 39,
    "start_time": "2022-09-05T20:27:43.421Z"
   },
   {
    "duration": 1548,
    "start_time": "2022-09-05T20:27:56.948Z"
   },
   {
    "duration": 1685,
    "start_time": "2022-09-05T20:28:24.623Z"
   },
   {
    "duration": 16490,
    "start_time": "2022-09-05T20:28:54.782Z"
   },
   {
    "duration": 29480,
    "start_time": "2022-09-05T20:29:35.854Z"
   },
   {
    "duration": 27501,
    "start_time": "2022-09-05T20:30:43.318Z"
   },
   {
    "duration": 63,
    "start_time": "2022-09-05T20:32:07.962Z"
   },
   {
    "duration": 107,
    "start_time": "2022-09-05T20:32:26.825Z"
   },
   {
    "duration": 17551,
    "start_time": "2022-09-05T20:37:02.839Z"
   },
   {
    "duration": 17337,
    "start_time": "2022-09-05T20:37:36.633Z"
   },
   {
    "duration": 17451,
    "start_time": "2022-09-05T20:41:23.652Z"
   },
   {
    "duration": 18574,
    "start_time": "2022-09-05T20:41:46.065Z"
   },
   {
    "duration": 18856,
    "start_time": "2022-09-05T20:42:36.371Z"
   },
   {
    "duration": 18857,
    "start_time": "2022-09-05T20:43:37.430Z"
   },
   {
    "duration": 5988,
    "start_time": "2022-09-05T20:48:26.408Z"
   },
   {
    "duration": 859,
    "start_time": "2022-09-05T20:48:32.398Z"
   },
   {
    "duration": 19,
    "start_time": "2022-09-05T20:48:33.259Z"
   },
   {
    "duration": 40,
    "start_time": "2022-09-05T20:48:33.281Z"
   },
   {
    "duration": 260,
    "start_time": "2022-09-05T20:48:33.323Z"
   },
   {
    "duration": 2,
    "start_time": "2022-09-05T20:48:33.585Z"
   },
   {
    "duration": 6,
    "start_time": "2022-09-05T20:48:33.589Z"
   },
   {
    "duration": 276,
    "start_time": "2022-09-05T20:48:33.597Z"
   },
   {
    "duration": 3010,
    "start_time": "2022-09-05T20:48:33.874Z"
   },
   {
    "duration": 31,
    "start_time": "2022-09-05T20:48:36.887Z"
   },
   {
    "duration": 3,
    "start_time": "2022-09-05T20:48:36.919Z"
   },
   {
    "duration": 8,
    "start_time": "2022-09-05T20:48:36.923Z"
   },
   {
    "duration": 14,
    "start_time": "2022-09-05T20:48:36.933Z"
   },
   {
    "duration": 18,
    "start_time": "2022-09-05T20:48:36.949Z"
   },
   {
    "duration": 3,
    "start_time": "2022-09-05T20:48:36.969Z"
   },
   {
    "duration": 63,
    "start_time": "2022-09-05T20:48:36.973Z"
   },
   {
    "duration": 3861,
    "start_time": "2022-09-05T20:48:37.037Z"
   },
   {
    "duration": 2,
    "start_time": "2022-09-05T20:48:40.901Z"
   },
   {
    "duration": 7,
    "start_time": "2022-09-05T20:48:40.905Z"
   },
   {
    "duration": 196,
    "start_time": "2022-09-05T20:48:40.914Z"
   },
   {
    "duration": 4,
    "start_time": "2022-09-05T20:48:41.112Z"
   },
   {
    "duration": 9,
    "start_time": "2022-09-05T20:48:41.117Z"
   },
   {
    "duration": 5,
    "start_time": "2022-09-05T20:48:41.127Z"
   },
   {
    "duration": 4,
    "start_time": "2022-09-05T20:48:41.133Z"
   },
   {
    "duration": 5,
    "start_time": "2022-09-05T20:48:41.139Z"
   },
   {
    "duration": 4,
    "start_time": "2022-09-05T20:48:41.145Z"
   },
   {
    "duration": 8,
    "start_time": "2022-09-05T20:48:41.167Z"
   },
   {
    "duration": 8,
    "start_time": "2022-09-05T20:48:41.178Z"
   },
   {
    "duration": 10,
    "start_time": "2022-09-05T20:48:41.188Z"
   },
   {
    "duration": 802,
    "start_time": "2022-09-05T20:48:41.200Z"
   },
   {
    "duration": 2159,
    "start_time": "2022-09-05T20:48:42.004Z"
   },
   {
    "duration": 4,
    "start_time": "2022-09-05T20:48:44.164Z"
   },
   {
    "duration": 7,
    "start_time": "2022-09-05T20:48:44.170Z"
   },
   {
    "duration": 7016,
    "start_time": "2022-09-05T20:48:44.179Z"
   },
   {
    "duration": 20,
    "start_time": "2022-09-05T20:48:51.198Z"
   },
   {
    "duration": 6349,
    "start_time": "2022-09-05T20:56:49.032Z"
   },
   {
    "duration": 804,
    "start_time": "2022-09-05T20:56:55.383Z"
   },
   {
    "duration": 12,
    "start_time": "2022-09-05T20:56:56.188Z"
   },
   {
    "duration": 33,
    "start_time": "2022-09-05T20:56:56.202Z"
   },
   {
    "duration": 252,
    "start_time": "2022-09-05T20:56:56.237Z"
   },
   {
    "duration": 2,
    "start_time": "2022-09-05T20:56:56.490Z"
   },
   {
    "duration": 8,
    "start_time": "2022-09-05T20:56:56.494Z"
   },
   {
    "duration": 331,
    "start_time": "2022-09-05T20:56:56.504Z"
   },
   {
    "duration": 3045,
    "start_time": "2022-09-05T20:56:56.837Z"
   },
   {
    "duration": 32,
    "start_time": "2022-09-05T20:56:59.885Z"
   },
   {
    "duration": 2,
    "start_time": "2022-09-05T20:56:59.919Z"
   },
   {
    "duration": 7,
    "start_time": "2022-09-05T20:56:59.923Z"
   },
   {
    "duration": 10,
    "start_time": "2022-09-05T20:56:59.932Z"
   },
   {
    "duration": 25,
    "start_time": "2022-09-05T20:56:59.943Z"
   },
   {
    "duration": 7,
    "start_time": "2022-09-05T20:56:59.969Z"
   },
   {
    "duration": 65,
    "start_time": "2022-09-05T20:56:59.977Z"
   },
   {
    "duration": 4118,
    "start_time": "2022-09-05T20:57:00.044Z"
   },
   {
    "duration": 4,
    "start_time": "2022-09-05T20:57:04.164Z"
   },
   {
    "duration": 11,
    "start_time": "2022-09-05T20:57:04.170Z"
   },
   {
    "duration": 192,
    "start_time": "2022-09-05T20:57:04.182Z"
   },
   {
    "duration": 4,
    "start_time": "2022-09-05T20:57:04.376Z"
   },
   {
    "duration": 10,
    "start_time": "2022-09-05T20:57:04.382Z"
   },
   {
    "duration": 2,
    "start_time": "2022-09-05T20:57:04.395Z"
   },
   {
    "duration": 5,
    "start_time": "2022-09-05T20:57:04.399Z"
   },
   {
    "duration": 4,
    "start_time": "2022-09-05T20:57:04.406Z"
   },
   {
    "duration": 4,
    "start_time": "2022-09-05T20:57:04.412Z"
   },
   {
    "duration": 6,
    "start_time": "2022-09-05T20:57:04.417Z"
   },
   {
    "duration": 9,
    "start_time": "2022-09-05T20:57:04.426Z"
   },
   {
    "duration": 31,
    "start_time": "2022-09-05T20:57:04.437Z"
   },
   {
    "duration": 747,
    "start_time": "2022-09-05T20:57:04.469Z"
   },
   {
    "duration": 2207,
    "start_time": "2022-09-05T20:57:05.218Z"
   },
   {
    "duration": 3,
    "start_time": "2022-09-05T20:57:07.427Z"
   },
   {
    "duration": 7,
    "start_time": "2022-09-05T20:57:07.432Z"
   },
   {
    "duration": 6910,
    "start_time": "2022-09-05T20:57:07.440Z"
   },
   {
    "duration": 19,
    "start_time": "2022-09-05T20:57:14.352Z"
   },
   {
    "duration": 388,
    "start_time": "2022-09-05T20:58:08.352Z"
   },
   {
    "duration": 5997,
    "start_time": "2022-09-05T20:58:40.135Z"
   },
   {
    "duration": 894,
    "start_time": "2022-09-05T20:58:46.134Z"
   },
   {
    "duration": 12,
    "start_time": "2022-09-05T20:58:47.029Z"
   },
   {
    "duration": 48,
    "start_time": "2022-09-05T20:58:47.043Z"
   },
   {
    "duration": 247,
    "start_time": "2022-09-05T20:58:47.093Z"
   },
   {
    "duration": 3,
    "start_time": "2022-09-05T20:58:47.342Z"
   },
   {
    "duration": 5,
    "start_time": "2022-09-05T20:58:47.346Z"
   },
   {
    "duration": 287,
    "start_time": "2022-09-05T20:58:47.353Z"
   },
   {
    "duration": 3044,
    "start_time": "2022-09-05T20:58:47.641Z"
   },
   {
    "duration": 33,
    "start_time": "2022-09-05T20:58:50.688Z"
   },
   {
    "duration": 4,
    "start_time": "2022-09-05T20:58:50.723Z"
   },
   {
    "duration": 10,
    "start_time": "2022-09-05T20:58:50.728Z"
   },
   {
    "duration": 9,
    "start_time": "2022-09-05T20:58:50.740Z"
   },
   {
    "duration": 4,
    "start_time": "2022-09-05T20:58:50.767Z"
   },
   {
    "duration": 7,
    "start_time": "2022-09-05T20:58:50.773Z"
   },
   {
    "duration": 64,
    "start_time": "2022-09-05T20:58:50.782Z"
   },
   {
    "duration": 3896,
    "start_time": "2022-09-05T20:58:50.847Z"
   },
   {
    "duration": 2,
    "start_time": "2022-09-05T20:58:54.744Z"
   },
   {
    "duration": 9,
    "start_time": "2022-09-05T20:58:54.748Z"
   },
   {
    "duration": 188,
    "start_time": "2022-09-05T20:58:54.759Z"
   },
   {
    "duration": 3,
    "start_time": "2022-09-05T20:58:54.949Z"
   },
   {
    "duration": 18,
    "start_time": "2022-09-05T20:58:54.954Z"
   },
   {
    "duration": 4,
    "start_time": "2022-09-05T20:58:54.974Z"
   },
   {
    "duration": 4,
    "start_time": "2022-09-05T20:58:54.980Z"
   },
   {
    "duration": 7,
    "start_time": "2022-09-05T20:58:54.986Z"
   },
   {
    "duration": 4,
    "start_time": "2022-09-05T20:58:54.995Z"
   },
   {
    "duration": 4,
    "start_time": "2022-09-05T20:58:55.001Z"
   },
   {
    "duration": 12,
    "start_time": "2022-09-05T20:58:55.008Z"
   },
   {
    "duration": 5,
    "start_time": "2022-09-05T20:58:55.022Z"
   },
   {
    "duration": 781,
    "start_time": "2022-09-05T20:58:55.028Z"
   },
   {
    "duration": 2153,
    "start_time": "2022-09-05T20:58:55.811Z"
   },
   {
    "duration": 3,
    "start_time": "2022-09-05T20:58:57.968Z"
   },
   {
    "duration": 7,
    "start_time": "2022-09-05T20:58:57.972Z"
   },
   {
    "duration": 7186,
    "start_time": "2022-09-05T20:58:57.980Z"
   },
   {
    "duration": 18,
    "start_time": "2022-09-05T20:59:05.168Z"
   },
   {
    "duration": 1878,
    "start_time": "2022-09-05T20:59:26.421Z"
   },
   {
    "duration": 345,
    "start_time": "2022-09-05T20:59:51.863Z"
   },
   {
    "duration": 1897,
    "start_time": "2022-09-05T21:00:03.982Z"
   },
   {
    "duration": 2218,
    "start_time": "2022-09-05T21:00:59.968Z"
   },
   {
    "duration": 3,
    "start_time": "2022-09-05T21:01:06.111Z"
   },
   {
    "duration": 4,
    "start_time": "2022-09-05T21:01:06.515Z"
   },
   {
    "duration": 7150,
    "start_time": "2022-09-05T21:01:07.179Z"
   },
   {
    "duration": 20,
    "start_time": "2022-09-05T21:01:24.373Z"
   },
   {
    "duration": 18,
    "start_time": "2022-09-05T21:01:54.727Z"
   },
   {
    "duration": 6433,
    "start_time": "2022-09-05T21:02:03.498Z"
   },
   {
    "duration": 899,
    "start_time": "2022-09-05T21:02:09.933Z"
   },
   {
    "duration": 16,
    "start_time": "2022-09-05T21:02:10.835Z"
   },
   {
    "duration": 48,
    "start_time": "2022-09-05T21:02:10.853Z"
   },
   {
    "duration": 257,
    "start_time": "2022-09-05T21:02:10.903Z"
   },
   {
    "duration": 5,
    "start_time": "2022-09-05T21:02:11.162Z"
   },
   {
    "duration": 4,
    "start_time": "2022-09-05T21:02:11.169Z"
   },
   {
    "duration": 293,
    "start_time": "2022-09-05T21:02:11.174Z"
   },
   {
    "duration": 2994,
    "start_time": "2022-09-05T21:02:11.469Z"
   },
   {
    "duration": 34,
    "start_time": "2022-09-05T21:02:14.465Z"
   },
   {
    "duration": 3,
    "start_time": "2022-09-05T21:02:14.500Z"
   },
   {
    "duration": 6,
    "start_time": "2022-09-05T21:02:14.505Z"
   },
   {
    "duration": 10,
    "start_time": "2022-09-05T21:02:14.512Z"
   },
   {
    "duration": 7,
    "start_time": "2022-09-05T21:02:14.523Z"
   },
   {
    "duration": 24,
    "start_time": "2022-09-05T21:02:14.531Z"
   },
   {
    "duration": 60,
    "start_time": "2022-09-05T21:02:14.567Z"
   },
   {
    "duration": 4196,
    "start_time": "2022-09-05T21:02:14.628Z"
   },
   {
    "duration": 2,
    "start_time": "2022-09-05T21:02:18.826Z"
   },
   {
    "duration": 6,
    "start_time": "2022-09-05T21:02:18.830Z"
   },
   {
    "duration": 194,
    "start_time": "2022-09-05T21:02:18.837Z"
   },
   {
    "duration": 2,
    "start_time": "2022-09-05T21:02:19.033Z"
   },
   {
    "duration": 8,
    "start_time": "2022-09-05T21:02:19.037Z"
   },
   {
    "duration": 6,
    "start_time": "2022-09-05T21:02:19.047Z"
   },
   {
    "duration": 13,
    "start_time": "2022-09-05T21:02:19.054Z"
   },
   {
    "duration": 4,
    "start_time": "2022-09-05T21:02:19.069Z"
   },
   {
    "duration": 5,
    "start_time": "2022-09-05T21:02:19.075Z"
   },
   {
    "duration": 4,
    "start_time": "2022-09-05T21:02:19.082Z"
   },
   {
    "duration": 8,
    "start_time": "2022-09-05T21:02:19.090Z"
   },
   {
    "duration": 4,
    "start_time": "2022-09-05T21:02:19.100Z"
   },
   {
    "duration": 401,
    "start_time": "2022-09-05T21:02:19.105Z"
   },
   {
    "duration": 2221,
    "start_time": "2022-09-05T21:02:19.508Z"
   },
   {
    "duration": 3,
    "start_time": "2022-09-05T21:02:21.730Z"
   },
   {
    "duration": 11,
    "start_time": "2022-09-05T21:02:21.735Z"
   },
   {
    "duration": 7287,
    "start_time": "2022-09-05T21:02:21.748Z"
   },
   {
    "duration": 18,
    "start_time": "2022-09-05T21:02:29.036Z"
   },
   {
    "duration": 5804,
    "start_time": "2022-09-05T21:03:13.519Z"
   },
   {
    "duration": 834,
    "start_time": "2022-09-05T21:03:19.326Z"
   },
   {
    "duration": 16,
    "start_time": "2022-09-05T21:03:20.161Z"
   },
   {
    "duration": 33,
    "start_time": "2022-09-05T21:03:20.179Z"
   },
   {
    "duration": 254,
    "start_time": "2022-09-05T21:03:20.213Z"
   },
   {
    "duration": 2,
    "start_time": "2022-09-05T21:03:20.469Z"
   },
   {
    "duration": 6,
    "start_time": "2022-09-05T21:03:20.473Z"
   },
   {
    "duration": 281,
    "start_time": "2022-09-05T21:03:20.481Z"
   },
   {
    "duration": 3052,
    "start_time": "2022-09-05T21:03:20.767Z"
   },
   {
    "duration": 33,
    "start_time": "2022-09-05T21:03:23.821Z"
   },
   {
    "duration": 3,
    "start_time": "2022-09-05T21:03:23.867Z"
   },
   {
    "duration": 6,
    "start_time": "2022-09-05T21:03:23.871Z"
   },
   {
    "duration": 13,
    "start_time": "2022-09-05T21:03:23.879Z"
   },
   {
    "duration": 4,
    "start_time": "2022-09-05T21:03:23.894Z"
   },
   {
    "duration": 14,
    "start_time": "2022-09-05T21:03:23.899Z"
   },
   {
    "duration": 68,
    "start_time": "2022-09-05T21:03:23.914Z"
   },
   {
    "duration": 23983,
    "start_time": "2022-09-05T21:03:23.984Z"
   },
   {
    "duration": 3,
    "start_time": "2022-09-05T21:03:47.969Z"
   },
   {
    "duration": 5,
    "start_time": "2022-09-05T21:03:47.974Z"
   },
   {
    "duration": 220,
    "start_time": "2022-09-05T21:03:47.981Z"
   },
   {
    "duration": 3,
    "start_time": "2022-09-05T21:03:48.203Z"
   },
   {
    "duration": 11,
    "start_time": "2022-09-05T21:03:48.208Z"
   },
   {
    "duration": 4,
    "start_time": "2022-09-05T21:03:48.221Z"
   },
   {
    "duration": 6,
    "start_time": "2022-09-05T21:03:48.226Z"
   },
   {
    "duration": 5,
    "start_time": "2022-09-05T21:03:48.234Z"
   },
   {
    "duration": 5,
    "start_time": "2022-09-05T21:03:48.241Z"
   },
   {
    "duration": 6,
    "start_time": "2022-09-05T21:03:48.247Z"
   },
   {
    "duration": 8,
    "start_time": "2022-09-05T21:03:48.270Z"
   },
   {
    "duration": 4,
    "start_time": "2022-09-05T21:03:48.280Z"
   },
   {
    "duration": 1539,
    "start_time": "2022-09-05T21:03:48.285Z"
   },
   {
    "duration": 4442,
    "start_time": "2022-09-05T21:03:49.826Z"
   },
   {
    "duration": 3,
    "start_time": "2022-09-05T21:03:54.270Z"
   },
   {
    "duration": 10,
    "start_time": "2022-09-05T21:03:54.274Z"
   },
   {
    "duration": 26439,
    "start_time": "2022-09-05T21:03:54.286Z"
   },
   {
    "duration": 76,
    "start_time": "2022-09-05T21:04:20.726Z"
   },
   {
    "duration": 5750,
    "start_time": "2022-09-05T21:07:27.405Z"
   },
   {
    "duration": 817,
    "start_time": "2022-09-05T21:07:33.157Z"
   },
   {
    "duration": 12,
    "start_time": "2022-09-05T21:07:33.976Z"
   },
   {
    "duration": 35,
    "start_time": "2022-09-05T21:07:33.990Z"
   },
   {
    "duration": 254,
    "start_time": "2022-09-05T21:07:34.026Z"
   },
   {
    "duration": 2,
    "start_time": "2022-09-05T21:07:34.282Z"
   },
   {
    "duration": 6,
    "start_time": "2022-09-05T21:07:34.286Z"
   },
   {
    "duration": 295,
    "start_time": "2022-09-05T21:07:34.294Z"
   },
   {
    "duration": 3065,
    "start_time": "2022-09-05T21:07:34.590Z"
   },
   {
    "duration": 2,
    "start_time": "2022-09-05T21:07:37.657Z"
   },
   {
    "duration": 2,
    "start_time": "2022-09-05T21:07:37.668Z"
   },
   {
    "duration": 5,
    "start_time": "2022-09-05T21:07:37.671Z"
   },
   {
    "duration": 9,
    "start_time": "2022-09-05T21:07:37.678Z"
   },
   {
    "duration": 4,
    "start_time": "2022-09-05T21:07:37.689Z"
   },
   {
    "duration": 9,
    "start_time": "2022-09-05T21:07:37.694Z"
   },
   {
    "duration": 73,
    "start_time": "2022-09-05T21:07:37.704Z"
   },
   {
    "duration": 1872287,
    "start_time": "2022-09-05T21:07:37.778Z"
   },
   {
    "duration": 2,
    "start_time": "2022-09-05T21:38:50.068Z"
   },
   {
    "duration": 7,
    "start_time": "2022-09-05T21:38:50.071Z"
   },
   {
    "duration": 263,
    "start_time": "2022-09-05T21:38:50.080Z"
   },
   {
    "duration": 3,
    "start_time": "2022-09-05T21:38:50.344Z"
   },
   {
    "duration": 77,
    "start_time": "2022-09-05T21:38:50.348Z"
   },
   {
    "duration": 2,
    "start_time": "2022-09-05T21:38:50.427Z"
   },
   {
    "duration": 5,
    "start_time": "2022-09-05T21:38:50.431Z"
   },
   {
    "duration": 6,
    "start_time": "2022-09-05T21:38:50.437Z"
   },
   {
    "duration": 5,
    "start_time": "2022-09-05T21:38:50.444Z"
   },
   {
    "duration": 17,
    "start_time": "2022-09-05T21:38:50.450Z"
   },
   {
    "duration": 8,
    "start_time": "2022-09-05T21:38:50.470Z"
   },
   {
    "duration": 4,
    "start_time": "2022-09-05T21:38:50.480Z"
   },
   {
    "duration": 6994,
    "start_time": "2022-09-06T04:15:43.616Z"
   },
   {
    "duration": 2283,
    "start_time": "2022-09-06T04:15:50.614Z"
   },
   {
    "duration": 12,
    "start_time": "2022-09-06T04:15:52.899Z"
   },
   {
    "duration": 35,
    "start_time": "2022-09-06T04:15:52.913Z"
   },
   {
    "duration": 254,
    "start_time": "2022-09-06T04:15:52.950Z"
   },
   {
    "duration": 3,
    "start_time": "2022-09-06T04:15:53.206Z"
   },
   {
    "duration": 10,
    "start_time": "2022-09-06T04:15:53.211Z"
   },
   {
    "duration": 273,
    "start_time": "2022-09-06T04:15:53.223Z"
   },
   {
    "duration": 3038,
    "start_time": "2022-09-06T04:15:53.498Z"
   },
   {
    "duration": 2,
    "start_time": "2022-09-06T04:15:56.540Z"
   },
   {
    "duration": 4,
    "start_time": "2022-09-06T04:15:56.544Z"
   },
   {
    "duration": 5,
    "start_time": "2022-09-06T04:15:56.550Z"
   },
   {
    "duration": 8,
    "start_time": "2022-09-06T04:15:56.557Z"
   },
   {
    "duration": 4,
    "start_time": "2022-09-06T04:15:56.567Z"
   },
   {
    "duration": 32,
    "start_time": "2022-09-06T04:15:56.573Z"
   },
   {
    "duration": 623,
    "start_time": "2022-09-06T04:15:56.607Z"
   },
   {
    "duration": 1948561,
    "start_time": "2022-09-06T04:15:57.232Z"
   },
   {
    "duration": 2,
    "start_time": "2022-09-06T04:48:25.794Z"
   },
   {
    "duration": 5,
    "start_time": "2022-09-06T04:48:25.802Z"
   },
   {
    "duration": 261,
    "start_time": "2022-09-06T04:48:25.808Z"
   },
   {
    "duration": 3,
    "start_time": "2022-09-06T04:48:26.071Z"
   },
   {
    "duration": 69,
    "start_time": "2022-09-06T04:48:26.075Z"
   },
   {
    "duration": 3,
    "start_time": "2022-09-06T04:48:26.145Z"
   },
   {
    "duration": 11,
    "start_time": "2022-09-06T04:48:26.150Z"
   },
   {
    "duration": 8,
    "start_time": "2022-09-06T04:48:26.163Z"
   },
   {
    "duration": 5,
    "start_time": "2022-09-06T04:48:26.173Z"
   },
   {
    "duration": 6,
    "start_time": "2022-09-06T04:48:26.180Z"
   },
   {
    "duration": 17,
    "start_time": "2022-09-06T04:48:26.189Z"
   },
   {
    "duration": 4,
    "start_time": "2022-09-06T04:48:26.208Z"
   },
   {
    "duration": 573007,
    "start_time": "2022-09-06T04:48:26.214Z"
   },
   {
    "duration": 209376,
    "start_time": "2022-09-06T04:57:59.222Z"
   },
   {
    "duration": 3,
    "start_time": "2022-09-06T05:01:28.602Z"
   },
   {
    "duration": 20,
    "start_time": "2022-09-06T05:01:28.606Z"
   },
   {
    "duration": 28774,
    "start_time": "2022-09-06T05:01:28.628Z"
   },
   {
    "duration": 29917,
    "start_time": "2022-09-06T05:01:57.404Z"
   }
  ],
  "kernelspec": {
   "display_name": "Python 3 (ipykernel)",
   "language": "python",
   "name": "python3"
  },
  "language_info": {
   "codemirror_mode": {
    "name": "ipython",
    "version": 3
   },
   "file_extension": ".py",
   "mimetype": "text/x-python",
   "name": "python",
   "nbconvert_exporter": "python",
   "pygments_lexer": "ipython3",
   "version": "3.10.8"
  },
  "toc": {
   "base_numbering": 1,
   "nav_menu": {},
   "number_sections": true,
   "sideBar": true,
   "skip_h1_title": true,
   "title_cell": "Содержание",
   "title_sidebar": "Contents",
   "toc_cell": true,
   "toc_position": {
    "height": "calc(100% - 180px)",
    "left": "10px",
    "top": "150px",
    "width": "302.391px"
   },
   "toc_section_display": true,
   "toc_window_display": false
  }
 },
 "nbformat": 4,
 "nbformat_minor": 4
}
