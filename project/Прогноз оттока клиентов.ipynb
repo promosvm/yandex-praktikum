{
 "cells": [
  {
   "cell_type": "markdown",
   "id": "9317b8b8",
   "metadata": {
    "toc": true
   },
   "source": [
    "<h1>Table of Contents<span class=\"tocSkip\"></span></h1>\n",
    "<div class=\"toc\"><ul class=\"toc-item\"><li><span><a href=\"#Загрузка-и-анализ-исходных-данных\" data-toc-modified-id=\"Загрузка-и-анализ-исходных-данных-1\"><span class=\"toc-item-num\">1&nbsp;&nbsp;</span>Загрузка и анализ исходных данных</a></span><ul class=\"toc-item\"><li><span><a href=\"#Проведем--EDA-(exploratory-data-analysis)\" data-toc-modified-id=\"Проведем--EDA-(exploratory-data-analysis)-1.1\"><span class=\"toc-item-num\">1.1&nbsp;&nbsp;</span>Проведем  EDA (exploratory data analysis)</a></span></li><li><span><a href=\"#Вывод--(exploratory-data-analysis)\" data-toc-modified-id=\"Вывод--(exploratory-data-analysis)-1.2\"><span class=\"toc-item-num\">1.2&nbsp;&nbsp;</span>Вывод  (exploratory data analysis)</a></span></li></ul></li><li><span><a href=\"#Построение-модели\" data-toc-modified-id=\"Построение-модели-2\"><span class=\"toc-item-num\">2&nbsp;&nbsp;</span>Построение модели</a></span><ul class=\"toc-item\"><li><span><a href=\"#Подготовка-данных-для-модели\" data-toc-modified-id=\"Подготовка-данных-для-модели-2.1\"><span class=\"toc-item-num\">2.1&nbsp;&nbsp;</span>Подготовка данных для модели</a></span></li><li><span><a href=\"#Построение-модели-&quot;Решающее-древо&quot;\" data-toc-modified-id=\"Построение-модели-&quot;Решающее-древо&quot;-2.2\"><span class=\"toc-item-num\">2.2&nbsp;&nbsp;</span>Построение модели \"Решающее древо\"</a></span></li><li><span><a href=\"#Построение-модели-&quot;Случайный-лес&quot;\" data-toc-modified-id=\"Построение-модели-&quot;Случайный-лес&quot;-2.3\"><span class=\"toc-item-num\">2.3&nbsp;&nbsp;</span>Построение модели \"Случайный лес\"</a></span></li><li><span><a href=\"#Построение-модели-&quot;Логистическая-регрессия&quot;\" data-toc-modified-id=\"Построение-модели-&quot;Логистическая-регрессия&quot;-2.4\"><span class=\"toc-item-num\">2.4&nbsp;&nbsp;</span>Построение модели \"Логистическая регрессия\"</a></span></li></ul></li><li><span><a href=\"#Вывод\" data-toc-modified-id=\"Вывод-3\"><span class=\"toc-item-num\">3&nbsp;&nbsp;</span>Вывод</a></span></li></ul></div>"
   ]
  },
  {
   "cell_type": "markdown",
   "id": "239c81b3",
   "metadata": {},
   "source": [
    "# Отток клиентов"
   ]
  },
  {
   "cell_type": "markdown",
   "id": "1d0ee067",
   "metadata": {},
   "source": [
    "\n",
    "\n",
    "**Задача:**\n",
    "\n",
    "Из «Бета-Банка» стали уходить клиенты. Каждый месяц. Немного, но заметно. Банковские маркетологи посчитали: сохранять текущих клиентов дешевле, чем привлекать новых.\n",
    "Нужно спрогнозировать, уйдёт клиент из банка в ближайшее время или нет. Вам предоставлены исторические данные о поведении клиентов и расторжении договоров с банком.\n",
    "Постройте модель с предельно большим значением F1-меры. Чтобы сдать проект успешно, нужно довести метрику до 0.59. Проверьте F1-меру на тестовой выборке самостоятельно.\n",
    "Дополнительно измеряйте AUC-ROC, сравнивайте её значение с F1-мерой.\n",
    "\n",
    "\n",
    "**Цель** - построить модель которая прогназирует уход клиента из банка. Модель считается эффективной если метрика F1 рана 0.59 или больше.\n",
    "\n",
    "**Задачи:**\n",
    "\n",
    "1. Исследовать данные.\n",
    "2. Разделить исходные данные на обучающие, валидационные и тестовые.\n",
    "2. Построить модель \"Решающее дерево\"\n",
    "3. Построить модель \"Случайный лес\"\n",
    "4. Построить модель \"Логистическая регрессия\"\n",
    "5. На основании метрики качества F1 выбрать наилучшую модель"
   ]
  },
  {
   "cell_type": "markdown",
   "id": "3e88d32a",
   "metadata": {},
   "source": [
    "## Загрузка и анализ исходных данных"
   ]
  },
  {
   "cell_type": "code",
   "execution_count": 1,
   "id": "16eb8506",
   "metadata": {},
   "outputs": [],
   "source": [
    "import pandas as pd\n",
    "import numpy as np\n",
    "import seaborn as sns\n",
    "import matplotlib.pyplot as plt\n",
    "import random\n",
    "from sklearn.preprocessing import OrdinalEncoder\n",
    "from sklearn.preprocessing import StandardScaler \n",
    "from sklearn.model_selection import train_test_split\n",
    "from sklearn.model_selection import GridSearchCV\n",
    "from sklearn.metrics import f1_score\n",
    "from sklearn.metrics import roc_auc_score\n",
    "from sklearn.metrics import roc_curve\n",
    "from sklearn.tree import DecisionTreeClassifier\n",
    "from sklearn.ensemble import RandomForestClassifier\n",
    "from sklearn.linear_model import LogisticRegression\n",
    "from sklearn.utils import shuffle"
   ]
  },
  {
   "cell_type": "code",
   "execution_count": 2,
   "id": "f31c8a89",
   "metadata": {},
   "outputs": [],
   "source": [
    "# создадим DataFrame\n",
    "try:\n",
    "    df = pd.read_csv('Churn.csv')\n",
    "except:\n",
    "    df = pd.read_csv('/datasets/Churn.csv')"
   ]
  },
  {
   "cell_type": "markdown",
   "id": "1f9d9fe1",
   "metadata": {},
   "source": [
    "Посмотрим на данные в таблице"
   ]
  },
  {
   "cell_type": "code",
   "execution_count": 3,
   "id": "7a1bf9c4",
   "metadata": {
    "scrolled": true
   },
   "outputs": [
    {
     "data": {
      "text/html": [
       "<div>\n",
       "<style scoped>\n",
       "    .dataframe tbody tr th:only-of-type {\n",
       "        vertical-align: middle;\n",
       "    }\n",
       "\n",
       "    .dataframe tbody tr th {\n",
       "        vertical-align: top;\n",
       "    }\n",
       "\n",
       "    .dataframe thead th {\n",
       "        text-align: right;\n",
       "    }\n",
       "</style>\n",
       "<table border=\"1\" class=\"dataframe\">\n",
       "  <thead>\n",
       "    <tr style=\"text-align: right;\">\n",
       "      <th></th>\n",
       "      <th>RowNumber</th>\n",
       "      <th>CustomerId</th>\n",
       "      <th>Surname</th>\n",
       "      <th>CreditScore</th>\n",
       "      <th>Geography</th>\n",
       "      <th>Gender</th>\n",
       "      <th>Age</th>\n",
       "      <th>Tenure</th>\n",
       "      <th>Balance</th>\n",
       "      <th>NumOfProducts</th>\n",
       "      <th>HasCrCard</th>\n",
       "      <th>IsActiveMember</th>\n",
       "      <th>EstimatedSalary</th>\n",
       "      <th>Exited</th>\n",
       "    </tr>\n",
       "  </thead>\n",
       "  <tbody>\n",
       "    <tr>\n",
       "      <th>0</th>\n",
       "      <td>1</td>\n",
       "      <td>15634602</td>\n",
       "      <td>Hargrave</td>\n",
       "      <td>619</td>\n",
       "      <td>France</td>\n",
       "      <td>Female</td>\n",
       "      <td>42</td>\n",
       "      <td>2.0</td>\n",
       "      <td>0.00</td>\n",
       "      <td>1</td>\n",
       "      <td>1</td>\n",
       "      <td>1</td>\n",
       "      <td>101348.88</td>\n",
       "      <td>1</td>\n",
       "    </tr>\n",
       "    <tr>\n",
       "      <th>1</th>\n",
       "      <td>2</td>\n",
       "      <td>15647311</td>\n",
       "      <td>Hill</td>\n",
       "      <td>608</td>\n",
       "      <td>Spain</td>\n",
       "      <td>Female</td>\n",
       "      <td>41</td>\n",
       "      <td>1.0</td>\n",
       "      <td>83807.86</td>\n",
       "      <td>1</td>\n",
       "      <td>0</td>\n",
       "      <td>1</td>\n",
       "      <td>112542.58</td>\n",
       "      <td>0</td>\n",
       "    </tr>\n",
       "    <tr>\n",
       "      <th>2</th>\n",
       "      <td>3</td>\n",
       "      <td>15619304</td>\n",
       "      <td>Onio</td>\n",
       "      <td>502</td>\n",
       "      <td>France</td>\n",
       "      <td>Female</td>\n",
       "      <td>42</td>\n",
       "      <td>8.0</td>\n",
       "      <td>159660.80</td>\n",
       "      <td>3</td>\n",
       "      <td>1</td>\n",
       "      <td>0</td>\n",
       "      <td>113931.57</td>\n",
       "      <td>1</td>\n",
       "    </tr>\n",
       "    <tr>\n",
       "      <th>3</th>\n",
       "      <td>4</td>\n",
       "      <td>15701354</td>\n",
       "      <td>Boni</td>\n",
       "      <td>699</td>\n",
       "      <td>France</td>\n",
       "      <td>Female</td>\n",
       "      <td>39</td>\n",
       "      <td>1.0</td>\n",
       "      <td>0.00</td>\n",
       "      <td>2</td>\n",
       "      <td>0</td>\n",
       "      <td>0</td>\n",
       "      <td>93826.63</td>\n",
       "      <td>0</td>\n",
       "    </tr>\n",
       "    <tr>\n",
       "      <th>4</th>\n",
       "      <td>5</td>\n",
       "      <td>15737888</td>\n",
       "      <td>Mitchell</td>\n",
       "      <td>850</td>\n",
       "      <td>Spain</td>\n",
       "      <td>Female</td>\n",
       "      <td>43</td>\n",
       "      <td>2.0</td>\n",
       "      <td>125510.82</td>\n",
       "      <td>1</td>\n",
       "      <td>1</td>\n",
       "      <td>1</td>\n",
       "      <td>79084.10</td>\n",
       "      <td>0</td>\n",
       "    </tr>\n",
       "  </tbody>\n",
       "</table>\n",
       "</div>"
      ],
      "text/plain": [
       "   RowNumber  CustomerId   Surname  CreditScore Geography  Gender  Age  \\\n",
       "0          1    15634602  Hargrave          619    France  Female   42   \n",
       "1          2    15647311      Hill          608     Spain  Female   41   \n",
       "2          3    15619304      Onio          502    France  Female   42   \n",
       "3          4    15701354      Boni          699    France  Female   39   \n",
       "4          5    15737888  Mitchell          850     Spain  Female   43   \n",
       "\n",
       "   Tenure    Balance  NumOfProducts  HasCrCard  IsActiveMember  \\\n",
       "0     2.0       0.00              1          1               1   \n",
       "1     1.0   83807.86              1          0               1   \n",
       "2     8.0  159660.80              3          1               0   \n",
       "3     1.0       0.00              2          0               0   \n",
       "4     2.0  125510.82              1          1               1   \n",
       "\n",
       "   EstimatedSalary  Exited  \n",
       "0        101348.88       1  \n",
       "1        112542.58       0  \n",
       "2        113931.57       1  \n",
       "3         93826.63       0  \n",
       "4         79084.10       0  "
      ]
     },
     "execution_count": 3,
     "metadata": {},
     "output_type": "execute_result"
    }
   ],
   "source": [
    "df.head(5)"
   ]
  },
  {
   "cell_type": "code",
   "execution_count": 4,
   "id": "eee2cf5f",
   "metadata": {},
   "outputs": [
    {
     "data": {
      "text/plain": [
       "(10000, 14)"
      ]
     },
     "execution_count": 4,
     "metadata": {},
     "output_type": "execute_result"
    }
   ],
   "source": [
    "df.shape"
   ]
  },
  {
   "cell_type": "code",
   "execution_count": 5,
   "id": "aa134ebf",
   "metadata": {},
   "outputs": [
    {
     "name": "stdout",
     "output_type": "stream",
     "text": [
      "<class 'pandas.core.frame.DataFrame'>\n",
      "RangeIndex: 10000 entries, 0 to 9999\n",
      "Data columns (total 14 columns):\n",
      " #   Column           Non-Null Count  Dtype  \n",
      "---  ------           --------------  -----  \n",
      " 0   RowNumber        10000 non-null  int64  \n",
      " 1   CustomerId       10000 non-null  int64  \n",
      " 2   Surname          10000 non-null  object \n",
      " 3   CreditScore      10000 non-null  int64  \n",
      " 4   Geography        10000 non-null  object \n",
      " 5   Gender           10000 non-null  object \n",
      " 6   Age              10000 non-null  int64  \n",
      " 7   Tenure           9091 non-null   float64\n",
      " 8   Balance          10000 non-null  float64\n",
      " 9   NumOfProducts    10000 non-null  int64  \n",
      " 10  HasCrCard        10000 non-null  int64  \n",
      " 11  IsActiveMember   10000 non-null  int64  \n",
      " 12  EstimatedSalary  10000 non-null  float64\n",
      " 13  Exited           10000 non-null  int64  \n",
      "dtypes: float64(3), int64(8), object(3)\n",
      "memory usage: 1.1+ MB\n"
     ]
    }
   ],
   "source": [
    "df.info()"
   ]
  },
  {
   "cell_type": "markdown",
   "id": "53598012",
   "metadata": {},
   "source": [
    "Таблица состоит из 14 столбцов и 1000 строк. \n",
    "\n",
    "Мне не нравится названия столбцов:\n",
    "\n",
    "во первых избавимся от верхнего регистра в столбцах;\n",
    "\n",
    "во вторых избавимся от верхнего регистра в названиях самих столбцов, запишем их через нижний слеш."
   ]
  },
  {
   "cell_type": "code",
   "execution_count": 6,
   "id": "fcf9af75",
   "metadata": {},
   "outputs": [],
   "source": [
    "df.columns = ['Row_Number', 'Customer_Id', 'Surname', 'Credit_Score', 'Geography',\n",
    "       'Gender', 'Age', 'Tenure', 'Balance', 'Num_Of_Products', 'Has_Cr_Card',\n",
    "       'Is_Active_Member', 'Estimated_Salary', 'Exited']"
   ]
  },
  {
   "cell_type": "code",
   "execution_count": 7,
   "id": "539c2fa6",
   "metadata": {},
   "outputs": [],
   "source": [
    "df.columns = map(str.lower, df.columns)"
   ]
  },
  {
   "cell_type": "markdown",
   "id": "c0411ede",
   "metadata": {},
   "source": [
    "### Проведем  EDA (exploratory data analysis)"
   ]
  },
  {
   "cell_type": "markdown",
   "id": "d2d4a853",
   "metadata": {},
   "source": [
    "Проверим данные на наличие дубликатов"
   ]
  },
  {
   "cell_type": "code",
   "execution_count": 8,
   "id": "eef8937f",
   "metadata": {
    "scrolled": true
   },
   "outputs": [
    {
     "data": {
      "text/plain": [
       "0"
      ]
     },
     "execution_count": 8,
     "metadata": {},
     "output_type": "execute_result"
    }
   ],
   "source": [
    "df.duplicated().sum()"
   ]
  },
  {
   "cell_type": "markdown",
   "id": "9800fa11",
   "metadata": {},
   "source": [
    "Дубликатов нет."
   ]
  },
  {
   "cell_type": "markdown",
   "id": "f74e294a",
   "metadata": {},
   "source": [
    "Проверим данные на наличие пропущенных значений"
   ]
  },
  {
   "cell_type": "code",
   "execution_count": 9,
   "id": "9d8676e3",
   "metadata": {
    "scrolled": true
   },
   "outputs": [
    {
     "data": {
      "text/plain": [
       "row_number          0.0000\n",
       "customer_id         0.0000\n",
       "surname             0.0000\n",
       "credit_score        0.0000\n",
       "geography           0.0000\n",
       "gender              0.0000\n",
       "age                 0.0000\n",
       "tenure              0.0909\n",
       "balance             0.0000\n",
       "num_of_products     0.0000\n",
       "has_cr_card         0.0000\n",
       "is_active_member    0.0000\n",
       "estimated_salary    0.0000\n",
       "exited              0.0000\n",
       "dtype: float64"
      ]
     },
     "execution_count": 9,
     "metadata": {},
     "output_type": "execute_result"
    }
   ],
   "source": [
    "df.isna().mean()"
   ]
  },
  {
   "cell_type": "markdown",
   "id": "d8411c05",
   "metadata": {},
   "source": [
    "Есть пропущенные значения в столбце tenure(сколько лет человек является клиентом банка). Рассмотрим их более подробно. Сгруппируем по tenure и exited посмотрим на общее количество и среднее значение, сделаю сортировку по среднему значению."
   ]
  },
  {
   "cell_type": "code",
   "execution_count": 10,
   "id": "fcc1b126",
   "metadata": {},
   "outputs": [
    {
     "data": {
      "text/html": [
       "<div>\n",
       "<style scoped>\n",
       "    .dataframe tbody tr th:only-of-type {\n",
       "        vertical-align: middle;\n",
       "    }\n",
       "\n",
       "    .dataframe tbody tr th {\n",
       "        vertical-align: top;\n",
       "    }\n",
       "\n",
       "    .dataframe thead th {\n",
       "        text-align: right;\n",
       "    }\n",
       "</style>\n",
       "<table border=\"1\" class=\"dataframe\">\n",
       "  <thead>\n",
       "    <tr style=\"text-align: right;\">\n",
       "      <th></th>\n",
       "      <th>count</th>\n",
       "      <th>mean</th>\n",
       "    </tr>\n",
       "    <tr>\n",
       "      <th>tenure</th>\n",
       "      <th></th>\n",
       "      <th></th>\n",
       "    </tr>\n",
       "  </thead>\n",
       "  <tbody>\n",
       "    <tr>\n",
       "      <th>0.0</th>\n",
       "      <td>382</td>\n",
       "      <td>0.235602</td>\n",
       "    </tr>\n",
       "    <tr>\n",
       "      <th>1.0</th>\n",
       "      <td>952</td>\n",
       "      <td>0.223739</td>\n",
       "    </tr>\n",
       "    <tr>\n",
       "      <th>9.0</th>\n",
       "      <td>882</td>\n",
       "      <td>0.219955</td>\n",
       "    </tr>\n",
       "    <tr>\n",
       "      <th>3.0</th>\n",
       "      <td>928</td>\n",
       "      <td>0.213362</td>\n",
       "    </tr>\n",
       "    <tr>\n",
       "      <th>4.0</th>\n",
       "      <td>885</td>\n",
       "      <td>0.207910</td>\n",
       "    </tr>\n",
       "    <tr>\n",
       "      <th>10.0</th>\n",
       "      <td>446</td>\n",
       "      <td>0.206278</td>\n",
       "    </tr>\n",
       "    <tr>\n",
       "      <th>5.0</th>\n",
       "      <td>927</td>\n",
       "      <td>0.201726</td>\n",
       "    </tr>\n",
       "    <tr>\n",
       "      <th>NaN</th>\n",
       "      <td>909</td>\n",
       "      <td>0.201320</td>\n",
       "    </tr>\n",
       "    <tr>\n",
       "      <th>6.0</th>\n",
       "      <td>881</td>\n",
       "      <td>0.200908</td>\n",
       "    </tr>\n",
       "    <tr>\n",
       "      <th>2.0</th>\n",
       "      <td>950</td>\n",
       "      <td>0.194737</td>\n",
       "    </tr>\n",
       "    <tr>\n",
       "      <th>8.0</th>\n",
       "      <td>933</td>\n",
       "      <td>0.186495</td>\n",
       "    </tr>\n",
       "    <tr>\n",
       "      <th>7.0</th>\n",
       "      <td>925</td>\n",
       "      <td>0.172973</td>\n",
       "    </tr>\n",
       "  </tbody>\n",
       "</table>\n",
       "</div>"
      ],
      "text/plain": [
       "        count      mean\n",
       "tenure                 \n",
       "0.0       382  0.235602\n",
       "1.0       952  0.223739\n",
       "9.0       882  0.219955\n",
       "3.0       928  0.213362\n",
       "4.0       885  0.207910\n",
       "10.0      446  0.206278\n",
       "5.0       927  0.201726\n",
       "NaN       909  0.201320\n",
       "6.0       881  0.200908\n",
       "2.0       950  0.194737\n",
       "8.0       933  0.186495\n",
       "7.0       925  0.172973"
      ]
     },
     "execution_count": 10,
     "metadata": {},
     "output_type": "execute_result"
    }
   ],
   "source": [
    "df.groupby('tenure', dropna=False)['exited'].agg(['count', 'mean']).sort_values(by='mean', ascending=False)"
   ]
  },
  {
   "cell_type": "markdown",
   "id": "f092d346",
   "metadata": {},
   "source": [
    "Для большей наглядности построю график зависимости."
   ]
  },
  {
   "cell_type": "code",
   "execution_count": 11,
   "id": "6de33aa6",
   "metadata": {
    "scrolled": true
   },
   "outputs": [
    {
     "data": {
      "image/png": "[encoded data removed]",
      "text/plain": [
       "<Figure size 1152x360 with 1 Axes>"
      ]
     },
     "metadata": {
      "needs_background": "light"
     },
     "output_type": "display_data"
    }
   ],
   "source": [
    "plt.figure(figsize=(16,5))\n",
    "plt.title(\"График зависимости сколько лет человек является клиентом банк от его ухода\")\n",
    "plt.ylabel(\"Процент ушедших клиентов\")\n",
    "df.groupby('tenure', dropna=False)['exited'].mean().plot();\n",
    "plt.grid()"
   ]
  },
  {
   "cell_type": "markdown",
   "id": "96327da5",
   "metadata": {},
   "source": [
    "Из графика видно, что больше всего клиентов уходит в первый год более 23 процентов, потом идет на спад, но со второго по третий год мы наблюдаем рост. С четвертого года мы видим спад, с седьмого года мы наблюдаем опять рост."
   ]
  },
  {
   "cell_type": "markdown",
   "id": "05e97628",
   "metadata": {},
   "source": [
    "Сначала я подумал, что в пропущенных значениях в столбце tenure находятся люди которые, являются клиентами банка меньше года, но нет для таких клиентов есть значение \"0.0\", может это клиенты которые ушли, но тогда не понятно, почему у них есть кредитные карты и в столбце is_active_member есть единицы, значит они активны."
   ]
  },
  {
   "cell_type": "code",
   "execution_count": 12,
   "id": "379b91c1",
   "metadata": {},
   "outputs": [
    {
     "name": "stdout",
     "output_type": "stream",
     "text": [
      "<class 'pandas.core.frame.DataFrame'>\n",
      "Int64Index: 9091 entries, 0 to 9998\n",
      "Data columns (total 14 columns):\n",
      " #   Column            Non-Null Count  Dtype  \n",
      "---  ------            --------------  -----  \n",
      " 0   row_number        9091 non-null   int64  \n",
      " 1   customer_id       9091 non-null   int64  \n",
      " 2   surname           9091 non-null   object \n",
      " 3   credit_score      9091 non-null   int64  \n",
      " 4   geography         9091 non-null   object \n",
      " 5   gender            9091 non-null   object \n",
      " 6   age               9091 non-null   int64  \n",
      " 7   tenure            9091 non-null   float64\n",
      " 8   balance           9091 non-null   float64\n",
      " 9   num_of_products   9091 non-null   int64  \n",
      " 10  has_cr_card       9091 non-null   int64  \n",
      " 11  is_active_member  9091 non-null   int64  \n",
      " 12  estimated_salary  9091 non-null   float64\n",
      " 13  exited            9091 non-null   int64  \n",
      "dtypes: float64(3), int64(8), object(3)\n",
      "memory usage: 1.0+ MB\n"
     ]
    }
   ],
   "source": [
    "df = df.dropna()\n",
    "df.info()"
   ]
  },
  {
   "cell_type": "markdown",
   "id": "9dd5193d",
   "metadata": {},
   "source": [
    "Посмотрим географию клиентов"
   ]
  },
  {
   "cell_type": "code",
   "execution_count": 13,
   "id": "b3a92642",
   "metadata": {},
   "outputs": [
    {
     "data": {
      "text/html": [
       "<div>\n",
       "<style scoped>\n",
       "    .dataframe tbody tr th:only-of-type {\n",
       "        vertical-align: middle;\n",
       "    }\n",
       "\n",
       "    .dataframe tbody tr th {\n",
       "        vertical-align: top;\n",
       "    }\n",
       "\n",
       "    .dataframe thead th {\n",
       "        text-align: right;\n",
       "    }\n",
       "</style>\n",
       "<table border=\"1\" class=\"dataframe\">\n",
       "  <thead>\n",
       "    <tr style=\"text-align: right;\">\n",
       "      <th></th>\n",
       "      <th>count</th>\n",
       "      <th>mean</th>\n",
       "    </tr>\n",
       "    <tr>\n",
       "      <th>geography</th>\n",
       "      <th></th>\n",
       "      <th></th>\n",
       "    </tr>\n",
       "  </thead>\n",
       "  <tbody>\n",
       "    <tr>\n",
       "      <th>Germany</th>\n",
       "      <td>2293</td>\n",
       "      <td>0.327519</td>\n",
       "    </tr>\n",
       "    <tr>\n",
       "      <th>Spain</th>\n",
       "      <td>2248</td>\n",
       "      <td>0.164591</td>\n",
       "    </tr>\n",
       "    <tr>\n",
       "      <th>France</th>\n",
       "      <td>4550</td>\n",
       "      <td>0.161099</td>\n",
       "    </tr>\n",
       "  </tbody>\n",
       "</table>\n",
       "</div>"
      ],
      "text/plain": [
       "           count      mean\n",
       "geography                 \n",
       "Germany     2293  0.327519\n",
       "Spain       2248  0.164591\n",
       "France      4550  0.161099"
      ]
     },
     "execution_count": 13,
     "metadata": {},
     "output_type": "execute_result"
    }
   ],
   "source": [
    "df.groupby('geography', dropna=False)['exited'].agg(['count', 'mean']).sort_values(by='mean', ascending=False)"
   ]
  },
  {
   "cell_type": "markdown",
   "id": "688f2652",
   "metadata": {},
   "source": [
    "Больше всего клиентов уходит из Германии на втором месте Испания, и на третьем Франция."
   ]
  },
  {
   "cell_type": "markdown",
   "id": "46cb9924",
   "metadata": {},
   "source": [
    "Посмотрим как факт ухода клиента зависит от пола"
   ]
  },
  {
   "cell_type": "code",
   "execution_count": 14,
   "id": "a2087c6b",
   "metadata": {},
   "outputs": [
    {
     "data": {
      "text/html": [
       "<div>\n",
       "<style scoped>\n",
       "    .dataframe tbody tr th:only-of-type {\n",
       "        vertical-align: middle;\n",
       "    }\n",
       "\n",
       "    .dataframe tbody tr th {\n",
       "        vertical-align: top;\n",
       "    }\n",
       "\n",
       "    .dataframe thead th {\n",
       "        text-align: right;\n",
       "    }\n",
       "</style>\n",
       "<table border=\"1\" class=\"dataframe\">\n",
       "  <thead>\n",
       "    <tr style=\"text-align: right;\">\n",
       "      <th></th>\n",
       "      <th>count</th>\n",
       "      <th>mean</th>\n",
       "    </tr>\n",
       "    <tr>\n",
       "      <th>gender</th>\n",
       "      <th></th>\n",
       "      <th></th>\n",
       "    </tr>\n",
       "  </thead>\n",
       "  <tbody>\n",
       "    <tr>\n",
       "      <th>Female</th>\n",
       "      <td>4117</td>\n",
       "      <td>0.252854</td>\n",
       "    </tr>\n",
       "    <tr>\n",
       "      <th>Male</th>\n",
       "      <td>4974</td>\n",
       "      <td>0.163450</td>\n",
       "    </tr>\n",
       "  </tbody>\n",
       "</table>\n",
       "</div>"
      ],
      "text/plain": [
       "        count      mean\n",
       "gender                 \n",
       "Female   4117  0.252854\n",
       "Male     4974  0.163450"
      ]
     },
     "execution_count": 14,
     "metadata": {},
     "output_type": "execute_result"
    }
   ],
   "source": [
    "df.groupby('gender', dropna=False)['exited'].agg(['count', 'mean']).sort_values(by='mean', ascending=False)"
   ]
  },
  {
   "cell_type": "markdown",
   "id": "07809205",
   "metadata": {},
   "source": [
    "Женщины уходят в два раза чаще чем мужчины."
   ]
  },
  {
   "cell_type": "markdown",
   "id": "5ac562a6",
   "metadata": {},
   "source": [
    "Посмотрим на возраст"
   ]
  },
  {
   "cell_type": "code",
   "execution_count": 15,
   "id": "4638bd8b",
   "metadata": {
    "scrolled": true
   },
   "outputs": [
    {
     "data": {
      "text/plain": [
       "min    18\n",
       "max    92\n",
       "Name: age, dtype: int64"
      ]
     },
     "execution_count": 15,
     "metadata": {},
     "output_type": "execute_result"
    }
   ],
   "source": [
    "df['age'].agg(['min', 'max'])"
   ]
  },
  {
   "cell_type": "markdown",
   "id": "d33dfe66",
   "metadata": {},
   "source": [
    "Самому молодому клиенту - 18 лет, самом пожилому клиенту 92"
   ]
  },
  {
   "cell_type": "markdown",
   "id": "d8162f10",
   "metadata": {},
   "source": [
    "Для лучшего анализа, я разобью сет на бины, предварительно создав его копию и работая с ней, что-бы не портить основные данные."
   ]
  },
  {
   "cell_type": "code",
   "execution_count": 16,
   "id": "88d0027f",
   "metadata": {},
   "outputs": [],
   "source": [
    "#назову его df_w\n",
    "df_w = df.copy()"
   ]
  },
  {
   "cell_type": "code",
   "execution_count": 17,
   "id": "bd2af064",
   "metadata": {},
   "outputs": [],
   "source": [
    "df_w['age_bin'] = pd.qcut(df_w['age'], 5)"
   ]
  },
  {
   "cell_type": "code",
   "execution_count": 18,
   "id": "3487e652",
   "metadata": {
    "scrolled": true
   },
   "outputs": [
    {
     "data": {
      "text/html": [
       "<div>\n",
       "<style scoped>\n",
       "    .dataframe tbody tr th:only-of-type {\n",
       "        vertical-align: middle;\n",
       "    }\n",
       "\n",
       "    .dataframe tbody tr th {\n",
       "        vertical-align: top;\n",
       "    }\n",
       "\n",
       "    .dataframe thead th {\n",
       "        text-align: right;\n",
       "    }\n",
       "</style>\n",
       "<table border=\"1\" class=\"dataframe\">\n",
       "  <thead>\n",
       "    <tr style=\"text-align: right;\">\n",
       "      <th></th>\n",
       "      <th>count</th>\n",
       "      <th>mean</th>\n",
       "    </tr>\n",
       "    <tr>\n",
       "      <th>age_bin</th>\n",
       "      <th></th>\n",
       "      <th></th>\n",
       "    </tr>\n",
       "  </thead>\n",
       "  <tbody>\n",
       "    <tr>\n",
       "      <th>(46.0, 92.0]</th>\n",
       "      <td>1726</td>\n",
       "      <td>0.457126</td>\n",
       "    </tr>\n",
       "    <tr>\n",
       "      <th>(40.0, 46.0]</th>\n",
       "      <td>1553</td>\n",
       "      <td>0.285254</td>\n",
       "    </tr>\n",
       "    <tr>\n",
       "      <th>(35.0, 40.0]</th>\n",
       "      <td>2030</td>\n",
       "      <td>0.149261</td>\n",
       "    </tr>\n",
       "    <tr>\n",
       "      <th>(31.0, 35.0]</th>\n",
       "      <td>1620</td>\n",
       "      <td>0.093827</td>\n",
       "    </tr>\n",
       "    <tr>\n",
       "      <th>(17.999, 31.0]</th>\n",
       "      <td>2162</td>\n",
       "      <td>0.077243</td>\n",
       "    </tr>\n",
       "  </tbody>\n",
       "</table>\n",
       "</div>"
      ],
      "text/plain": [
       "                count      mean\n",
       "age_bin                        \n",
       "(46.0, 92.0]     1726  0.457126\n",
       "(40.0, 46.0]     1553  0.285254\n",
       "(35.0, 40.0]     2030  0.149261\n",
       "(31.0, 35.0]     1620  0.093827\n",
       "(17.999, 31.0]   2162  0.077243"
      ]
     },
     "execution_count": 18,
     "metadata": {},
     "output_type": "execute_result"
    }
   ],
   "source": [
    "df_w.groupby('age_bin', \n",
    "           dropna=False)['exited'].agg(['count', 'mean']).sort_values(by='mean', ascending=False)"
   ]
  },
  {
   "cell_type": "markdown",
   "id": "c14cf62c",
   "metadata": {},
   "source": [
    "Посмотрим на графическую зависимость"
   ]
  },
  {
   "cell_type": "code",
   "execution_count": 19,
   "id": "5045d5a7",
   "metadata": {},
   "outputs": [
    {
     "data": {
      "image/png": "[encoded data removed]",
      "text/plain": [
       "<Figure size 1152x360 with 1 Axes>"
      ]
     },
     "metadata": {
      "needs_background": "light"
     },
     "output_type": "display_data"
    }
   ],
   "source": [
    "plt.figure(figsize=(16,5))\n",
    "plt.title(\"Колличество ушедших клиентов по возрастам\")\n",
    "plt.ylabel(\"Процент ушедших клиентов\")\n",
    "df_w.groupby('age_bin', dropna=False)['exited'].mean().plot();"
   ]
  },
  {
   "cell_type": "markdown",
   "id": "66d3a86d",
   "metadata": {},
   "source": [
    "Из графика видно, что чем больше возраст клиента, тем чаще они уходят из банка."
   ]
  },
  {
   "cell_type": "markdown",
   "id": "a374099e",
   "metadata": {},
   "source": [
    "Посмотрим на столбце **surname**"
   ]
  },
  {
   "cell_type": "code",
   "execution_count": 20,
   "id": "25bcfe92",
   "metadata": {
    "scrolled": true
   },
   "outputs": [
    {
     "data": {
      "text/html": [
       "<div>\n",
       "<style scoped>\n",
       "    .dataframe tbody tr th:only-of-type {\n",
       "        vertical-align: middle;\n",
       "    }\n",
       "\n",
       "    .dataframe tbody tr th {\n",
       "        vertical-align: top;\n",
       "    }\n",
       "\n",
       "    .dataframe thead th {\n",
       "        text-align: right;\n",
       "    }\n",
       "</style>\n",
       "<table border=\"1\" class=\"dataframe\">\n",
       "  <thead>\n",
       "    <tr style=\"text-align: right;\">\n",
       "      <th></th>\n",
       "      <th>count</th>\n",
       "      <th>mean</th>\n",
       "    </tr>\n",
       "    <tr>\n",
       "      <th>surname</th>\n",
       "      <th></th>\n",
       "      <th></th>\n",
       "    </tr>\n",
       "  </thead>\n",
       "  <tbody>\n",
       "    <tr>\n",
       "      <th>Smith</th>\n",
       "      <td>30</td>\n",
       "      <td>0.300000</td>\n",
       "    </tr>\n",
       "    <tr>\n",
       "      <th>Martin</th>\n",
       "      <td>27</td>\n",
       "      <td>0.333333</td>\n",
       "    </tr>\n",
       "    <tr>\n",
       "      <th>Scott</th>\n",
       "      <td>26</td>\n",
       "      <td>0.115385</td>\n",
       "    </tr>\n",
       "    <tr>\n",
       "      <th>Genovese</th>\n",
       "      <td>25</td>\n",
       "      <td>0.160000</td>\n",
       "    </tr>\n",
       "    <tr>\n",
       "      <th>Yeh</th>\n",
       "      <td>25</td>\n",
       "      <td>0.120000</td>\n",
       "    </tr>\n",
       "  </tbody>\n",
       "</table>\n",
       "</div>"
      ],
      "text/plain": [
       "          count      mean\n",
       "surname                  \n",
       "Smith        30  0.300000\n",
       "Martin       27  0.333333\n",
       "Scott        26  0.115385\n",
       "Genovese     25  0.160000\n",
       "Yeh          25  0.120000"
      ]
     },
     "execution_count": 20,
     "metadata": {},
     "output_type": "execute_result"
    }
   ],
   "source": [
    "df.groupby('surname')['exited'].agg(['count', 'mean']).sort_values('count', ascending=False).head(5)"
   ]
  },
  {
   "cell_type": "markdown",
   "id": "ce0aaa66",
   "metadata": {},
   "source": [
    "Всего 2932 уникальных значений, Smith, Martin, Scott самые популярный фамилии."
   ]
  },
  {
   "cell_type": "markdown",
   "id": "d43ae363",
   "metadata": {},
   "source": [
    "Посмотрим на столбец  **credit_score**"
   ]
  },
  {
   "cell_type": "code",
   "execution_count": 21,
   "id": "0f578f6c",
   "metadata": {},
   "outputs": [
    {
     "data": {
      "text/html": [
       "<div>\n",
       "<style scoped>\n",
       "    .dataframe tbody tr th:only-of-type {\n",
       "        vertical-align: middle;\n",
       "    }\n",
       "\n",
       "    .dataframe tbody tr th {\n",
       "        vertical-align: top;\n",
       "    }\n",
       "\n",
       "    .dataframe thead th {\n",
       "        text-align: right;\n",
       "    }\n",
       "</style>\n",
       "<table border=\"1\" class=\"dataframe\">\n",
       "  <thead>\n",
       "    <tr style=\"text-align: right;\">\n",
       "      <th></th>\n",
       "      <th>count</th>\n",
       "      <th>mean</th>\n",
       "    </tr>\n",
       "    <tr>\n",
       "      <th>credit_score</th>\n",
       "      <th></th>\n",
       "      <th></th>\n",
       "    </tr>\n",
       "  </thead>\n",
       "  <tbody>\n",
       "    <tr>\n",
       "      <th>522</th>\n",
       "      <td>8</td>\n",
       "      <td>0.0</td>\n",
       "    </tr>\n",
       "    <tr>\n",
       "      <th>808</th>\n",
       "      <td>6</td>\n",
       "      <td>0.0</td>\n",
       "    </tr>\n",
       "    <tr>\n",
       "      <th>426</th>\n",
       "      <td>2</td>\n",
       "      <td>0.0</td>\n",
       "    </tr>\n",
       "    <tr>\n",
       "      <th>427</th>\n",
       "      <td>6</td>\n",
       "      <td>0.0</td>\n",
       "    </tr>\n",
       "    <tr>\n",
       "      <th>429</th>\n",
       "      <td>4</td>\n",
       "      <td>0.0</td>\n",
       "    </tr>\n",
       "    <tr>\n",
       "      <th>...</th>\n",
       "      <td>...</td>\n",
       "      <td>...</td>\n",
       "    </tr>\n",
       "    <tr>\n",
       "      <th>373</th>\n",
       "      <td>1</td>\n",
       "      <td>1.0</td>\n",
       "    </tr>\n",
       "    <tr>\n",
       "      <th>386</th>\n",
       "      <td>1</td>\n",
       "      <td>1.0</td>\n",
       "    </tr>\n",
       "    <tr>\n",
       "      <th>383</th>\n",
       "      <td>1</td>\n",
       "      <td>1.0</td>\n",
       "    </tr>\n",
       "    <tr>\n",
       "      <th>365</th>\n",
       "      <td>1</td>\n",
       "      <td>1.0</td>\n",
       "    </tr>\n",
       "    <tr>\n",
       "      <th>350</th>\n",
       "      <td>5</td>\n",
       "      <td>1.0</td>\n",
       "    </tr>\n",
       "  </tbody>\n",
       "</table>\n",
       "<p>458 rows × 2 columns</p>\n",
       "</div>"
      ],
      "text/plain": [
       "              count  mean\n",
       "credit_score             \n",
       "522               8   0.0\n",
       "808               6   0.0\n",
       "426               2   0.0\n",
       "427               6   0.0\n",
       "429               4   0.0\n",
       "...             ...   ...\n",
       "373               1   1.0\n",
       "386               1   1.0\n",
       "383               1   1.0\n",
       "365               1   1.0\n",
       "350               5   1.0\n",
       "\n",
       "[458 rows x 2 columns]"
      ]
     },
     "execution_count": 21,
     "metadata": {},
     "output_type": "execute_result"
    }
   ],
   "source": [
    "df.groupby('credit_score')['exited'].agg(['count', 'mean']).sort_values('mean', ascending=True)"
   ]
  },
  {
   "cell_type": "markdown",
   "id": "7f59c839",
   "metadata": {},
   "source": [
    "Тут видимо каждому клиенту присваивается какой-то номер - кредитный рейтинг, всего их 460."
   ]
  },
  {
   "cell_type": "markdown",
   "id": "704c1cfc",
   "metadata": {},
   "source": [
    "Посмотрим на столбец **Balance**"
   ]
  },
  {
   "cell_type": "code",
   "execution_count": 22,
   "id": "7d800654",
   "metadata": {
    "scrolled": true
   },
   "outputs": [
    {
     "data": {
      "image/png": "[encoded data removed]",
      "text/plain": [
       "<Figure size 432x288 with 1 Axes>"
      ]
     },
     "metadata": {
      "needs_background": "light"
     },
     "output_type": "display_data"
    }
   ],
   "source": [
    "df['balance'].hist();"
   ]
  },
  {
   "cell_type": "markdown",
   "id": "11311a28",
   "metadata": {},
   "source": [
    "Для лучшего анализа, так-же разобью сет на бины, работаю с копией."
   ]
  },
  {
   "cell_type": "code",
   "execution_count": 23,
   "id": "bf8ccb79",
   "metadata": {},
   "outputs": [],
   "source": [
    "df_w['balance_bin'] = pd.qcut(df_w['balance'], 10, duplicates='drop')"
   ]
  },
  {
   "cell_type": "code",
   "execution_count": 24,
   "id": "906856ae",
   "metadata": {
    "scrolled": true
   },
   "outputs": [
    {
     "data": {
      "text/html": [
       "<div>\n",
       "<style scoped>\n",
       "    .dataframe tbody tr th:only-of-type {\n",
       "        vertical-align: middle;\n",
       "    }\n",
       "\n",
       "    .dataframe tbody tr th {\n",
       "        vertical-align: top;\n",
       "    }\n",
       "\n",
       "    .dataframe thead th {\n",
       "        text-align: right;\n",
       "    }\n",
       "</style>\n",
       "<table border=\"1\" class=\"dataframe\">\n",
       "  <thead>\n",
       "    <tr style=\"text-align: right;\">\n",
       "      <th></th>\n",
       "      <th>count</th>\n",
       "      <th>mean</th>\n",
       "    </tr>\n",
       "    <tr>\n",
       "      <th>balance_bin</th>\n",
       "      <th></th>\n",
       "      <th></th>\n",
       "    </tr>\n",
       "  </thead>\n",
       "  <tbody>\n",
       "    <tr>\n",
       "      <th>(110148.49, 121898.82]</th>\n",
       "      <td>909</td>\n",
       "      <td>0.291529</td>\n",
       "    </tr>\n",
       "    <tr>\n",
       "      <th>(97318.25, 110148.49]</th>\n",
       "      <td>909</td>\n",
       "      <td>0.250825</td>\n",
       "    </tr>\n",
       "    <tr>\n",
       "      <th>(121898.82, 133656.91]</th>\n",
       "      <td>909</td>\n",
       "      <td>0.246425</td>\n",
       "    </tr>\n",
       "    <tr>\n",
       "      <th>(133656.91, 149218.39]</th>\n",
       "      <td>909</td>\n",
       "      <td>0.236524</td>\n",
       "    </tr>\n",
       "    <tr>\n",
       "      <th>(149218.39, 250898.09]</th>\n",
       "      <td>909</td>\n",
       "      <td>0.222222</td>\n",
       "    </tr>\n",
       "    <tr>\n",
       "      <th>(73309.38, 97318.25]</th>\n",
       "      <td>909</td>\n",
       "      <td>0.199120</td>\n",
       "    </tr>\n",
       "    <tr>\n",
       "      <th>(-0.001, 73309.38]</th>\n",
       "      <td>3637</td>\n",
       "      <td>0.148199</td>\n",
       "    </tr>\n",
       "  </tbody>\n",
       "</table>\n",
       "</div>"
      ],
      "text/plain": [
       "                        count      mean\n",
       "balance_bin                            \n",
       "(110148.49, 121898.82]    909  0.291529\n",
       "(97318.25, 110148.49]     909  0.250825\n",
       "(121898.82, 133656.91]    909  0.246425\n",
       "(133656.91, 149218.39]    909  0.236524\n",
       "(149218.39, 250898.09]    909  0.222222\n",
       "(73309.38, 97318.25]      909  0.199120\n",
       "(-0.001, 73309.38]       3637  0.148199"
      ]
     },
     "execution_count": 24,
     "metadata": {},
     "output_type": "execute_result"
    }
   ],
   "source": [
    "df_w.groupby('balance_bin')['exited'].agg(['count', 'mean']).sort_values('mean', ascending=False)"
   ]
  },
  {
   "cell_type": "markdown",
   "id": "38123a77",
   "metadata": {},
   "source": [
    "Посмотрим на графическую зависимость"
   ]
  },
  {
   "cell_type": "code",
   "execution_count": 25,
   "id": "d1a36a50",
   "metadata": {
    "scrolled": true
   },
   "outputs": [
    {
     "data": {
      "image/png": "[encoded data removed]",
      "text/plain": [
       "<Figure size 1152x360 with 1 Axes>"
      ]
     },
     "metadata": {
      "needs_background": "light"
     },
     "output_type": "display_data"
    }
   ],
   "source": [
    "plt.figure(figsize=(16,5))\n",
    "plt.title(\"Зависимость колличества ушедших клиентов от баланса счета\")\n",
    "plt.ylabel(\"Процент ушедших клиентов\")\n",
    "df_w.groupby('balance_bin', dropna=False)['exited'].mean().plot();\n",
    "plt.grid()"
   ]
  },
  {
   "cell_type": "markdown",
   "id": "e58eb414",
   "metadata": {},
   "source": [
    "Если на счете до 110138.926 то клиенты уходят, начиная с суммы 133710.358 и больше количество  ушедших клиентов уменьшается."
   ]
  },
  {
   "cell_type": "markdown",
   "id": "dc8b3375",
   "metadata": {},
   "source": [
    "Посмотрим на столбец **Num_Of_Products**"
   ]
  },
  {
   "cell_type": "code",
   "execution_count": 26,
   "id": "bf025116",
   "metadata": {
    "scrolled": true
   },
   "outputs": [
    {
     "data": {
      "text/html": [
       "<div>\n",
       "<style scoped>\n",
       "    .dataframe tbody tr th:only-of-type {\n",
       "        vertical-align: middle;\n",
       "    }\n",
       "\n",
       "    .dataframe tbody tr th {\n",
       "        vertical-align: top;\n",
       "    }\n",
       "\n",
       "    .dataframe thead th {\n",
       "        text-align: right;\n",
       "    }\n",
       "</style>\n",
       "<table border=\"1\" class=\"dataframe\">\n",
       "  <thead>\n",
       "    <tr style=\"text-align: right;\">\n",
       "      <th></th>\n",
       "      <th>count</th>\n",
       "      <th>mean</th>\n",
       "    </tr>\n",
       "    <tr>\n",
       "      <th>num_of_products</th>\n",
       "      <th></th>\n",
       "      <th></th>\n",
       "    </tr>\n",
       "  </thead>\n",
       "  <tbody>\n",
       "    <tr>\n",
       "      <th>4</th>\n",
       "      <td>56</td>\n",
       "      <td>1.000000</td>\n",
       "    </tr>\n",
       "    <tr>\n",
       "      <th>3</th>\n",
       "      <td>234</td>\n",
       "      <td>0.824786</td>\n",
       "    </tr>\n",
       "    <tr>\n",
       "      <th>1</th>\n",
       "      <td>4617</td>\n",
       "      <td>0.277886</td>\n",
       "    </tr>\n",
       "    <tr>\n",
       "      <th>2</th>\n",
       "      <td>4184</td>\n",
       "      <td>0.076960</td>\n",
       "    </tr>\n",
       "  </tbody>\n",
       "</table>\n",
       "</div>"
      ],
      "text/plain": [
       "                 count      mean\n",
       "num_of_products                 \n",
       "4                   56  1.000000\n",
       "3                  234  0.824786\n",
       "1                 4617  0.277886\n",
       "2                 4184  0.076960"
      ]
     },
     "execution_count": 26,
     "metadata": {},
     "output_type": "execute_result"
    }
   ],
   "source": [
    "df.groupby('num_of_products', \n",
    "           dropna=False)['exited'].agg(['count', 'mean']).sort_values(by='mean', ascending=False)"
   ]
  },
  {
   "cell_type": "markdown",
   "id": "382b27dd",
   "metadata": {},
   "source": [
    "Видно что больше всего клиентов пользуется одним или двумя продуктами, тем кто пользуется одним продуктом уходят в четыре раза чаще, чем те кто пользуется двумя, те кто пользуется 3 продуктами 80 процентов из них уходя, те кто 4 все 100."
   ]
  },
  {
   "cell_type": "markdown",
   "id": "418b38d2",
   "metadata": {},
   "source": [
    "Посмотрим на столбец **has_cr_card**"
   ]
  },
  {
   "cell_type": "code",
   "execution_count": 27,
   "id": "7ed71723",
   "metadata": {},
   "outputs": [
    {
     "data": {
      "text/html": [
       "<div>\n",
       "<style scoped>\n",
       "    .dataframe tbody tr th:only-of-type {\n",
       "        vertical-align: middle;\n",
       "    }\n",
       "\n",
       "    .dataframe tbody tr th {\n",
       "        vertical-align: top;\n",
       "    }\n",
       "\n",
       "    .dataframe thead th {\n",
       "        text-align: right;\n",
       "    }\n",
       "</style>\n",
       "<table border=\"1\" class=\"dataframe\">\n",
       "  <thead>\n",
       "    <tr style=\"text-align: right;\">\n",
       "      <th></th>\n",
       "      <th>count</th>\n",
       "      <th>mean</th>\n",
       "    </tr>\n",
       "    <tr>\n",
       "      <th>has_cr_card</th>\n",
       "      <th></th>\n",
       "      <th></th>\n",
       "    </tr>\n",
       "  </thead>\n",
       "  <tbody>\n",
       "    <tr>\n",
       "      <th>0</th>\n",
       "      <td>2682</td>\n",
       "      <td>0.207308</td>\n",
       "    </tr>\n",
       "    <tr>\n",
       "      <th>1</th>\n",
       "      <td>6409</td>\n",
       "      <td>0.202528</td>\n",
       "    </tr>\n",
       "  </tbody>\n",
       "</table>\n",
       "</div>"
      ],
      "text/plain": [
       "             count      mean\n",
       "has_cr_card                 \n",
       "0             2682  0.207308\n",
       "1             6409  0.202528"
      ]
     },
     "execution_count": 27,
     "metadata": {},
     "output_type": "execute_result"
    }
   ],
   "source": [
    "df.groupby('has_cr_card', \n",
    "           dropna=False)['exited'].agg(['count', 'mean']).sort_values(by='mean', ascending=False)"
   ]
  },
  {
   "cell_type": "markdown",
   "id": "81cf0567",
   "metadata": {},
   "source": [
    "Количество клиентов используемых кредитную карту почти в два раза больше. \n",
    "Клиенты уходят одинаково, что он имеет кредитную карту, что нет."
   ]
  },
  {
   "cell_type": "markdown",
   "id": "67a7d908",
   "metadata": {},
   "source": [
    "Посмотрим на столбец **is_active_member**"
   ]
  },
  {
   "cell_type": "code",
   "execution_count": 28,
   "id": "794364ff",
   "metadata": {
    "scrolled": true
   },
   "outputs": [
    {
     "data": {
      "text/html": [
       "<div>\n",
       "<style scoped>\n",
       "    .dataframe tbody tr th:only-of-type {\n",
       "        vertical-align: middle;\n",
       "    }\n",
       "\n",
       "    .dataframe tbody tr th {\n",
       "        vertical-align: top;\n",
       "    }\n",
       "\n",
       "    .dataframe thead th {\n",
       "        text-align: right;\n",
       "    }\n",
       "</style>\n",
       "<table border=\"1\" class=\"dataframe\">\n",
       "  <thead>\n",
       "    <tr style=\"text-align: right;\">\n",
       "      <th></th>\n",
       "      <th>count</th>\n",
       "      <th>mean</th>\n",
       "    </tr>\n",
       "    <tr>\n",
       "      <th>is_active_member</th>\n",
       "      <th></th>\n",
       "      <th></th>\n",
       "    </tr>\n",
       "  </thead>\n",
       "  <tbody>\n",
       "    <tr>\n",
       "      <th>0</th>\n",
       "      <td>4404</td>\n",
       "      <td>0.268392</td>\n",
       "    </tr>\n",
       "    <tr>\n",
       "      <th>1</th>\n",
       "      <td>4687</td>\n",
       "      <td>0.143375</td>\n",
       "    </tr>\n",
       "  </tbody>\n",
       "</table>\n",
       "</div>"
      ],
      "text/plain": [
       "                  count      mean\n",
       "is_active_member                 \n",
       "0                  4404  0.268392\n",
       "1                  4687  0.143375"
      ]
     },
     "execution_count": 28,
     "metadata": {},
     "output_type": "execute_result"
    }
   ],
   "source": [
    "df.groupby('is_active_member', \n",
    "           dropna=False)['exited'].agg(['count', 'mean']).sort_values(by='mean', ascending=False)"
   ]
  },
  {
   "cell_type": "markdown",
   "id": "a2ef6ce7",
   "metadata": {},
   "source": [
    "Из данных видно, что неактивные клиенты уходят в два раза чаще чем активные."
   ]
  },
  {
   "cell_type": "markdown",
   "id": "456df231",
   "metadata": {},
   "source": [
    "Посмотрим на столбец **EstimatedSalary**"
   ]
  },
  {
   "cell_type": "code",
   "execution_count": 29,
   "id": "d6c6c93c",
   "metadata": {
    "scrolled": true
   },
   "outputs": [
    {
     "data": {
      "image/png": "[encoded data removed]",
      "text/plain": [
       "<Figure size 432x288 with 1 Axes>"
      ]
     },
     "metadata": {
      "needs_background": "light"
     },
     "output_type": "display_data"
    }
   ],
   "source": [
    "df['estimated_salary'].hist();"
   ]
  },
  {
   "cell_type": "code",
   "execution_count": 30,
   "id": "2b7c4708",
   "metadata": {},
   "outputs": [],
   "source": [
    "df_w['estimated_salary_bin'] = pd.qcut(df_w['estimated_salary'], 10, duplicates='drop')"
   ]
  },
  {
   "cell_type": "code",
   "execution_count": 31,
   "id": "a6653c5e",
   "metadata": {
    "scrolled": true
   },
   "outputs": [
    {
     "data": {
      "text/html": [
       "<div>\n",
       "<style scoped>\n",
       "    .dataframe tbody tr th:only-of-type {\n",
       "        vertical-align: middle;\n",
       "    }\n",
       "\n",
       "    .dataframe tbody tr th {\n",
       "        vertical-align: top;\n",
       "    }\n",
       "\n",
       "    .dataframe thead th {\n",
       "        text-align: right;\n",
       "    }\n",
       "</style>\n",
       "<table border=\"1\" class=\"dataframe\">\n",
       "  <thead>\n",
       "    <tr style=\"text-align: right;\">\n",
       "      <th></th>\n",
       "      <th>count</th>\n",
       "      <th>mean</th>\n",
       "    </tr>\n",
       "    <tr>\n",
       "      <th>estimated_salary_bin</th>\n",
       "      <th></th>\n",
       "      <th></th>\n",
       "    </tr>\n",
       "  </thead>\n",
       "  <tbody>\n",
       "    <tr>\n",
       "      <th>(160162.42, 179843.33]</th>\n",
       "      <td>909</td>\n",
       "      <td>0.223322</td>\n",
       "    </tr>\n",
       "    <tr>\n",
       "      <th>(139712.81, 160162.42]</th>\n",
       "      <td>909</td>\n",
       "      <td>0.213421</td>\n",
       "    </tr>\n",
       "    <tr>\n",
       "      <th>(179843.33, 199992.48]</th>\n",
       "      <td>909</td>\n",
       "      <td>0.212321</td>\n",
       "    </tr>\n",
       "    <tr>\n",
       "      <th>(100240.2, 119882.86]</th>\n",
       "      <td>909</td>\n",
       "      <td>0.206821</td>\n",
       "    </tr>\n",
       "    <tr>\n",
       "      <th>(40855.79, 60894.26]</th>\n",
       "      <td>909</td>\n",
       "      <td>0.201320</td>\n",
       "    </tr>\n",
       "    <tr>\n",
       "      <th>(11.579, 20008.46]</th>\n",
       "      <td>910</td>\n",
       "      <td>0.201099</td>\n",
       "    </tr>\n",
       "    <tr>\n",
       "      <th>(60894.26, 80428.42]</th>\n",
       "      <td>909</td>\n",
       "      <td>0.198020</td>\n",
       "    </tr>\n",
       "    <tr>\n",
       "      <th>(80428.42, 100240.2]</th>\n",
       "      <td>909</td>\n",
       "      <td>0.195820</td>\n",
       "    </tr>\n",
       "    <tr>\n",
       "      <th>(119882.86, 139712.81]</th>\n",
       "      <td>909</td>\n",
       "      <td>0.195820</td>\n",
       "    </tr>\n",
       "    <tr>\n",
       "      <th>(20008.46, 40855.79]</th>\n",
       "      <td>909</td>\n",
       "      <td>0.191419</td>\n",
       "    </tr>\n",
       "  </tbody>\n",
       "</table>\n",
       "</div>"
      ],
      "text/plain": [
       "                        count      mean\n",
       "estimated_salary_bin                   \n",
       "(160162.42, 179843.33]    909  0.223322\n",
       "(139712.81, 160162.42]    909  0.213421\n",
       "(179843.33, 199992.48]    909  0.212321\n",
       "(100240.2, 119882.86]     909  0.206821\n",
       "(40855.79, 60894.26]      909  0.201320\n",
       "(11.579, 20008.46]        910  0.201099\n",
       "(60894.26, 80428.42]      909  0.198020\n",
       "(80428.42, 100240.2]      909  0.195820\n",
       "(119882.86, 139712.81]    909  0.195820\n",
       "(20008.46, 40855.79]      909  0.191419"
      ]
     },
     "execution_count": 31,
     "metadata": {},
     "output_type": "execute_result"
    }
   ],
   "source": [
    "df_w.groupby('estimated_salary_bin')['exited'].agg(['count', 'mean']).sort_values('mean', ascending=False)"
   ]
  },
  {
   "cell_type": "code",
   "execution_count": 32,
   "id": "90261de5",
   "metadata": {
    "scrolled": true
   },
   "outputs": [
    {
     "data": {
      "image/png": "[encoded data removed]",
      "text/plain": [
       "<Figure size 1152x360 with 1 Axes>"
      ]
     },
     "metadata": {
      "needs_background": "light"
     },
     "output_type": "display_data"
    }
   ],
   "source": [
    "plt.figure(figsize=(16,5))\n",
    "plt.title(\"Зависимость колличества ушедших клиентов от предполагаемой зарплаты\")\n",
    "plt.ylabel(\"Процент ушедших клиентов\")\n",
    "df_w.groupby('estimated_salary_bin', dropna=False)['exited'].mean().plot();\n",
    "plt.grid()"
   ]
  },
  {
   "cell_type": "markdown",
   "id": "83cf355d",
   "metadata": {},
   "source": [
    "Уход клиента слабо зависит от  предполагаемой зарплаты "
   ]
  },
  {
   "cell_type": "markdown",
   "id": "fc619ea2",
   "metadata": {},
   "source": [
    "Посмотрим на общую картину распределения величин в DataFrime"
   ]
  },
  {
   "cell_type": "code",
   "execution_count": 33,
   "id": "720eab3e",
   "metadata": {},
   "outputs": [
    {
     "data": {
      "image/png": "[encoded data removed]",
      "text/plain": [
       "<Figure size 1008x720 with 12 Axes>"
      ]
     },
     "metadata": {
      "needs_background": "light"
     },
     "output_type": "display_data"
    }
   ],
   "source": [
    "df.hist(column=df.columns, figsize=(14, 10));"
   ]
  },
  {
   "cell_type": "markdown",
   "id": "55f721ba",
   "metadata": {},
   "source": [
    "Посмотрим как коррелируют между собой данны."
   ]
  },
  {
   "cell_type": "code",
   "execution_count": 34,
   "id": "ac1bcaa3",
   "metadata": {},
   "outputs": [
    {
     "name": "stderr",
     "output_type": "stream",
     "text": [
      "/tmp/ipykernel_40518/3129850035.py:1: FutureWarning: this method is deprecated in favour of `Styler.format(precision=..)`\n",
      "  df.corr().style.background_gradient(cmap='coolwarm').set_precision(2)\n"
     ]
    },
    {
     "data": {
      "text/html": [
       "<style type=\"text/css\">\n",
       "#T_bc109_row0_col0, #T_bc109_row1_col1, #T_bc109_row2_col2, #T_bc109_row3_col3, #T_bc109_row4_col4, #T_bc109_row5_col5, #T_bc109_row6_col6, #T_bc109_row7_col7, #T_bc109_row8_col8, #T_bc109_row9_col9, #T_bc109_row10_col10 {\n",
       "  background-color: #b40426;\n",
       "  color: #f1f1f1;\n",
       "}\n",
       "#T_bc109_row0_col1, #T_bc109_row0_col2, #T_bc109_row0_col4, #T_bc109_row2_col3, #T_bc109_row2_col9, #T_bc109_row5_col2, #T_bc109_row5_col4, #T_bc109_row6_col7, #T_bc109_row8_col0, #T_bc109_row9_col3 {\n",
       "  background-color: #4257c9;\n",
       "  color: #f1f1f1;\n",
       "}\n",
       "#T_bc109_row0_col3, #T_bc109_row5_col9, #T_bc109_row6_col2, #T_bc109_row6_col9 {\n",
       "  background-color: #445acc;\n",
       "  color: #f1f1f1;\n",
       "}\n",
       "#T_bc109_row0_col5, #T_bc109_row8_col5 {\n",
       "  background-color: #85a8fc;\n",
       "  color: #f1f1f1;\n",
       "}\n",
       "#T_bc109_row0_col6, #T_bc109_row2_col6, #T_bc109_row4_col6, #T_bc109_row8_col6 {\n",
       "  background-color: #89acfd;\n",
       "  color: #000000;\n",
       "}\n",
       "#T_bc109_row0_col7, #T_bc109_row1_col2, #T_bc109_row4_col2, #T_bc109_row6_col0, #T_bc109_row7_col2, #T_bc109_row8_col1 {\n",
       "  background-color: #4055c8;\n",
       "  color: #f1f1f1;\n",
       "}\n",
       "#T_bc109_row0_col8, #T_bc109_row6_col8 {\n",
       "  background-color: #6788ee;\n",
       "  color: #f1f1f1;\n",
       "}\n",
       "#T_bc109_row0_col9, #T_bc109_row3_col0, #T_bc109_row3_col9, #T_bc109_row5_col1, #T_bc109_row7_col0, #T_bc109_row7_col9, #T_bc109_row9_col7, #T_bc109_row10_col1, #T_bc109_row10_col4, #T_bc109_row10_col7 {\n",
       "  background-color: #3e51c5;\n",
       "  color: #f1f1f1;\n",
       "}\n",
       "#T_bc109_row0_col10 {\n",
       "  background-color: #6180e9;\n",
       "  color: #f1f1f1;\n",
       "}\n",
       "#T_bc109_row1_col0, #T_bc109_row2_col0, #T_bc109_row2_col1, #T_bc109_row2_col7, #T_bc109_row3_col2, #T_bc109_row3_col4, #T_bc109_row4_col3, #T_bc109_row7_col3 {\n",
       "  background-color: #3f53c6;\n",
       "  color: #f1f1f1;\n",
       "}\n",
       "#T_bc109_row1_col3, #T_bc109_row6_col4, #T_bc109_row9_col4 {\n",
       "  background-color: #465ecf;\n",
       "  color: #f1f1f1;\n",
       "}\n",
       "#T_bc109_row1_col4, #T_bc109_row5_col0, #T_bc109_row8_col7, #T_bc109_row9_col0 {\n",
       "  background-color: #3d50c3;\n",
       "  color: #f1f1f1;\n",
       "}\n",
       "#T_bc109_row1_col5, #T_bc109_row4_col5 {\n",
       "  background-color: #84a7fc;\n",
       "  color: #f1f1f1;\n",
       "}\n",
       "#T_bc109_row1_col6, #T_bc109_row9_col5, #T_bc109_row9_col6 {\n",
       "  background-color: #8badfd;\n",
       "  color: #000000;\n",
       "}\n",
       "#T_bc109_row1_col7, #T_bc109_row4_col1, #T_bc109_row5_col6, #T_bc109_row5_col7, #T_bc109_row6_col3, #T_bc109_row6_col5, #T_bc109_row7_col1, #T_bc109_row8_col4, #T_bc109_row8_col9, #T_bc109_row8_col10, #T_bc109_row10_col0, #T_bc109_row10_col2, #T_bc109_row10_col8 {\n",
       "  background-color: #3b4cc0;\n",
       "  color: #f1f1f1;\n",
       "}\n",
       "#T_bc109_row1_col8 {\n",
       "  background-color: #6485ec;\n",
       "  color: #f1f1f1;\n",
       "}\n",
       "#T_bc109_row1_col9, #T_bc109_row2_col4, #T_bc109_row3_col1, #T_bc109_row4_col9, #T_bc109_row9_col1, #T_bc109_row9_col2 {\n",
       "  background-color: #4358cb;\n",
       "  color: #f1f1f1;\n",
       "}\n",
       "#T_bc109_row1_col10, #T_bc109_row7_col8 {\n",
       "  background-color: #6282ea;\n",
       "  color: #f1f1f1;\n",
       "}\n",
       "#T_bc109_row2_col5 {\n",
       "  background-color: #86a9fc;\n",
       "  color: #f1f1f1;\n",
       "}\n",
       "#T_bc109_row2_col8 {\n",
       "  background-color: #6e90f2;\n",
       "  color: #f1f1f1;\n",
       "}\n",
       "#T_bc109_row2_col10, #T_bc109_row9_col8 {\n",
       "  background-color: #5e7de7;\n",
       "  color: #f1f1f1;\n",
       "}\n",
       "#T_bc109_row3_col5 {\n",
       "  background-color: #8fb1fe;\n",
       "  color: #000000;\n",
       "}\n",
       "#T_bc109_row3_col6 {\n",
       "  background-color: #7ea1fa;\n",
       "  color: #f1f1f1;\n",
       "}\n",
       "#T_bc109_row3_col7, #T_bc109_row4_col0 {\n",
       "  background-color: #3c4ec2;\n",
       "  color: #f1f1f1;\n",
       "}\n",
       "#T_bc109_row3_col8 {\n",
       "  background-color: #7da0f9;\n",
       "  color: #f1f1f1;\n",
       "}\n",
       "#T_bc109_row3_col10 {\n",
       "  background-color: #bad0f8;\n",
       "  color: #000000;\n",
       "}\n",
       "#T_bc109_row4_col7 {\n",
       "  background-color: #485fd1;\n",
       "  color: #f1f1f1;\n",
       "}\n",
       "#T_bc109_row4_col8 {\n",
       "  background-color: #5b7ae5;\n",
       "  color: #f1f1f1;\n",
       "}\n",
       "#T_bc109_row4_col10 {\n",
       "  background-color: #5f7fe8;\n",
       "  color: #f1f1f1;\n",
       "}\n",
       "#T_bc109_row5_col3 {\n",
       "  background-color: #4c66d6;\n",
       "  color: #f1f1f1;\n",
       "}\n",
       "#T_bc109_row5_col8, #T_bc109_row7_col10 {\n",
       "  background-color: #6384eb;\n",
       "  color: #f1f1f1;\n",
       "}\n",
       "#T_bc109_row5_col10, #T_bc109_row7_col6 {\n",
       "  background-color: #88abfd;\n",
       "  color: #000000;\n",
       "}\n",
       "#T_bc109_row6_col1, #T_bc109_row10_col9 {\n",
       "  background-color: #455cce;\n",
       "  color: #f1f1f1;\n",
       "}\n",
       "#T_bc109_row6_col10 {\n",
       "  background-color: #5673e0;\n",
       "  color: #f1f1f1;\n",
       "}\n",
       "#T_bc109_row7_col4 {\n",
       "  background-color: #4b64d5;\n",
       "  color: #f1f1f1;\n",
       "}\n",
       "#T_bc109_row7_col5 {\n",
       "  background-color: #81a4fb;\n",
       "  color: #f1f1f1;\n",
       "}\n",
       "#T_bc109_row8_col2 {\n",
       "  background-color: #4a63d3;\n",
       "  color: #f1f1f1;\n",
       "}\n",
       "#T_bc109_row8_col3 {\n",
       "  background-color: #5d7ce6;\n",
       "  color: #f1f1f1;\n",
       "}\n",
       "#T_bc109_row9_col10 {\n",
       "  background-color: #688aef;\n",
       "  color: #f1f1f1;\n",
       "}\n",
       "#T_bc109_row10_col3 {\n",
       "  background-color: #a1c0ff;\n",
       "  color: #000000;\n",
       "}\n",
       "#T_bc109_row10_col5 {\n",
       "  background-color: #a6c4fe;\n",
       "  color: #000000;\n",
       "}\n",
       "#T_bc109_row10_col6 {\n",
       "  background-color: #799cf8;\n",
       "  color: #f1f1f1;\n",
       "}\n",
       "</style>\n",
       "<table id=\"T_bc109_\">\n",
       "  <thead>\n",
       "    <tr>\n",
       "      <th class=\"blank level0\" >&nbsp;</th>\n",
       "      <th class=\"col_heading level0 col0\" >row_number</th>\n",
       "      <th class=\"col_heading level0 col1\" >customer_id</th>\n",
       "      <th class=\"col_heading level0 col2\" >credit_score</th>\n",
       "      <th class=\"col_heading level0 col3\" >age</th>\n",
       "      <th class=\"col_heading level0 col4\" >tenure</th>\n",
       "      <th class=\"col_heading level0 col5\" >balance</th>\n",
       "      <th class=\"col_heading level0 col6\" >num_of_products</th>\n",
       "      <th class=\"col_heading level0 col7\" >has_cr_card</th>\n",
       "      <th class=\"col_heading level0 col8\" >is_active_member</th>\n",
       "      <th class=\"col_heading level0 col9\" >estimated_salary</th>\n",
       "      <th class=\"col_heading level0 col10\" >exited</th>\n",
       "    </tr>\n",
       "  </thead>\n",
       "  <tbody>\n",
       "    <tr>\n",
       "      <th id=\"T_bc109_level0_row0\" class=\"row_heading level0 row0\" >row_number</th>\n",
       "      <td id=\"T_bc109_row0_col0\" class=\"data row0 col0\" >1.00</td>\n",
       "      <td id=\"T_bc109_row0_col1\" class=\"data row0 col1\" >0.00</td>\n",
       "      <td id=\"T_bc109_row0_col2\" class=\"data row0 col2\" >0.00</td>\n",
       "      <td id=\"T_bc109_row0_col3\" class=\"data row0 col3\" >0.00</td>\n",
       "      <td id=\"T_bc109_row0_col4\" class=\"data row0 col4\" >-0.01</td>\n",
       "      <td id=\"T_bc109_row0_col5\" class=\"data row0 col5\" >-0.01</td>\n",
       "      <td id=\"T_bc109_row0_col6\" class=\"data row0 col6\" >0.01</td>\n",
       "      <td id=\"T_bc109_row0_col7\" class=\"data row0 col7\" >0.00</td>\n",
       "      <td id=\"T_bc109_row0_col8\" class=\"data row0 col8\" >0.01</td>\n",
       "      <td id=\"T_bc109_row0_col9\" class=\"data row0 col9\" >-0.00</td>\n",
       "      <td id=\"T_bc109_row0_col10\" class=\"data row0 col10\" >-0.01</td>\n",
       "    </tr>\n",
       "    <tr>\n",
       "      <th id=\"T_bc109_level0_row1\" class=\"row_heading level0 row1\" >customer_id</th>\n",
       "      <td id=\"T_bc109_row1_col0\" class=\"data row1 col0\" >0.00</td>\n",
       "      <td id=\"T_bc109_row1_col1\" class=\"data row1 col1\" >1.00</td>\n",
       "      <td id=\"T_bc109_row1_col2\" class=\"data row1 col2\" >-0.00</td>\n",
       "      <td id=\"T_bc109_row1_col3\" class=\"data row1 col3\" >0.01</td>\n",
       "      <td id=\"T_bc109_row1_col4\" class=\"data row1 col4\" >-0.02</td>\n",
       "      <td id=\"T_bc109_row1_col5\" class=\"data row1 col5\" >-0.01</td>\n",
       "      <td id=\"T_bc109_row1_col6\" class=\"data row1 col6\" >0.01</td>\n",
       "      <td id=\"T_bc109_row1_col7\" class=\"data row1 col7\" >-0.02</td>\n",
       "      <td id=\"T_bc109_row1_col8\" class=\"data row1 col8\" >0.00</td>\n",
       "      <td id=\"T_bc109_row1_col9\" class=\"data row1 col9\" >0.01</td>\n",
       "      <td id=\"T_bc109_row1_col10\" class=\"data row1 col10\" >-0.01</td>\n",
       "    </tr>\n",
       "    <tr>\n",
       "      <th id=\"T_bc109_level0_row2\" class=\"row_heading level0 row2\" >credit_score</th>\n",
       "      <td id=\"T_bc109_row2_col0\" class=\"data row2 col0\" >0.00</td>\n",
       "      <td id=\"T_bc109_row2_col1\" class=\"data row2 col1\" >-0.00</td>\n",
       "      <td id=\"T_bc109_row2_col2\" class=\"data row2 col2\" >1.00</td>\n",
       "      <td id=\"T_bc109_row2_col3\" class=\"data row2 col3\" >-0.00</td>\n",
       "      <td id=\"T_bc109_row2_col4\" class=\"data row2 col4\" >-0.00</td>\n",
       "      <td id=\"T_bc109_row2_col5\" class=\"data row2 col5\" >0.00</td>\n",
       "      <td id=\"T_bc109_row2_col6\" class=\"data row2 col6\" >0.01</td>\n",
       "      <td id=\"T_bc109_row2_col7\" class=\"data row2 col7\" >-0.00</td>\n",
       "      <td id=\"T_bc109_row2_col8\" class=\"data row2 col8\" >0.03</td>\n",
       "      <td id=\"T_bc109_row2_col9\" class=\"data row2 col9\" >0.01</td>\n",
       "      <td id=\"T_bc109_row2_col10\" class=\"data row2 col10\" >-0.02</td>\n",
       "    </tr>\n",
       "    <tr>\n",
       "      <th id=\"T_bc109_level0_row3\" class=\"row_heading level0 row3\" >age</th>\n",
       "      <td id=\"T_bc109_row3_col0\" class=\"data row3 col0\" >0.00</td>\n",
       "      <td id=\"T_bc109_row3_col1\" class=\"data row3 col1\" >0.01</td>\n",
       "      <td id=\"T_bc109_row3_col2\" class=\"data row3 col2\" >-0.00</td>\n",
       "      <td id=\"T_bc109_row3_col3\" class=\"data row3 col3\" >1.00</td>\n",
       "      <td id=\"T_bc109_row3_col4\" class=\"data row3 col4\" >-0.01</td>\n",
       "      <td id=\"T_bc109_row3_col5\" class=\"data row3 col5\" >0.03</td>\n",
       "      <td id=\"T_bc109_row3_col6\" class=\"data row3 col6\" >-0.03</td>\n",
       "      <td id=\"T_bc109_row3_col7\" class=\"data row3 col7\" >-0.01</td>\n",
       "      <td id=\"T_bc109_row3_col8\" class=\"data row3 col8\" >0.08</td>\n",
       "      <td id=\"T_bc109_row3_col9\" class=\"data row3 col9\" >-0.01</td>\n",
       "      <td id=\"T_bc109_row3_col10\" class=\"data row3 col10\" >0.28</td>\n",
       "    </tr>\n",
       "    <tr>\n",
       "      <th id=\"T_bc109_level0_row4\" class=\"row_heading level0 row4\" >tenure</th>\n",
       "      <td id=\"T_bc109_row4_col0\" class=\"data row4 col0\" >-0.01</td>\n",
       "      <td id=\"T_bc109_row4_col1\" class=\"data row4 col1\" >-0.02</td>\n",
       "      <td id=\"T_bc109_row4_col2\" class=\"data row4 col2\" >-0.00</td>\n",
       "      <td id=\"T_bc109_row4_col3\" class=\"data row4 col3\" >-0.01</td>\n",
       "      <td id=\"T_bc109_row4_col4\" class=\"data row4 col4\" >1.00</td>\n",
       "      <td id=\"T_bc109_row4_col5\" class=\"data row4 col5\" >-0.01</td>\n",
       "      <td id=\"T_bc109_row4_col6\" class=\"data row4 col6\" >0.01</td>\n",
       "      <td id=\"T_bc109_row4_col7\" class=\"data row4 col7\" >0.03</td>\n",
       "      <td id=\"T_bc109_row4_col8\" class=\"data row4 col8\" >-0.03</td>\n",
       "      <td id=\"T_bc109_row4_col9\" class=\"data row4 col9\" >0.01</td>\n",
       "      <td id=\"T_bc109_row4_col10\" class=\"data row4 col10\" >-0.02</td>\n",
       "    </tr>\n",
       "    <tr>\n",
       "      <th id=\"T_bc109_level0_row5\" class=\"row_heading level0 row5\" >balance</th>\n",
       "      <td id=\"T_bc109_row5_col0\" class=\"data row5 col0\" >-0.01</td>\n",
       "      <td id=\"T_bc109_row5_col1\" class=\"data row5 col1\" >-0.01</td>\n",
       "      <td id=\"T_bc109_row5_col2\" class=\"data row5 col2\" >0.00</td>\n",
       "      <td id=\"T_bc109_row5_col3\" class=\"data row5 col3\" >0.03</td>\n",
       "      <td id=\"T_bc109_row5_col4\" class=\"data row5 col4\" >-0.01</td>\n",
       "      <td id=\"T_bc109_row5_col5\" class=\"data row5 col5\" >1.00</td>\n",
       "      <td id=\"T_bc109_row5_col6\" class=\"data row5 col6\" >-0.30</td>\n",
       "      <td id=\"T_bc109_row5_col7\" class=\"data row5 col7\" >-0.02</td>\n",
       "      <td id=\"T_bc109_row5_col8\" class=\"data row5 col8\" >-0.00</td>\n",
       "      <td id=\"T_bc109_row5_col9\" class=\"data row5 col9\" >0.01</td>\n",
       "      <td id=\"T_bc109_row5_col10\" class=\"data row5 col10\" >0.12</td>\n",
       "    </tr>\n",
       "    <tr>\n",
       "      <th id=\"T_bc109_level0_row6\" class=\"row_heading level0 row6\" >num_of_products</th>\n",
       "      <td id=\"T_bc109_row6_col0\" class=\"data row6 col0\" >0.01</td>\n",
       "      <td id=\"T_bc109_row6_col1\" class=\"data row6 col1\" >0.01</td>\n",
       "      <td id=\"T_bc109_row6_col2\" class=\"data row6 col2\" >0.01</td>\n",
       "      <td id=\"T_bc109_row6_col3\" class=\"data row6 col3\" >-0.03</td>\n",
       "      <td id=\"T_bc109_row6_col4\" class=\"data row6 col4\" >0.01</td>\n",
       "      <td id=\"T_bc109_row6_col5\" class=\"data row6 col5\" >-0.30</td>\n",
       "      <td id=\"T_bc109_row6_col6\" class=\"data row6 col6\" >1.00</td>\n",
       "      <td id=\"T_bc109_row6_col7\" class=\"data row6 col7\" >0.01</td>\n",
       "      <td id=\"T_bc109_row6_col8\" class=\"data row6 col8\" >0.01</td>\n",
       "      <td id=\"T_bc109_row6_col9\" class=\"data row6 col9\" >0.01</td>\n",
       "      <td id=\"T_bc109_row6_col10\" class=\"data row6 col10\" >-0.05</td>\n",
       "    </tr>\n",
       "    <tr>\n",
       "      <th id=\"T_bc109_level0_row7\" class=\"row_heading level0 row7\" >has_cr_card</th>\n",
       "      <td id=\"T_bc109_row7_col0\" class=\"data row7 col0\" >0.00</td>\n",
       "      <td id=\"T_bc109_row7_col1\" class=\"data row7 col1\" >-0.02</td>\n",
       "      <td id=\"T_bc109_row7_col2\" class=\"data row7 col2\" >-0.00</td>\n",
       "      <td id=\"T_bc109_row7_col3\" class=\"data row7 col3\" >-0.01</td>\n",
       "      <td id=\"T_bc109_row7_col4\" class=\"data row7 col4\" >0.03</td>\n",
       "      <td id=\"T_bc109_row7_col5\" class=\"data row7 col5\" >-0.02</td>\n",
       "      <td id=\"T_bc109_row7_col6\" class=\"data row7 col6\" >0.01</td>\n",
       "      <td id=\"T_bc109_row7_col7\" class=\"data row7 col7\" >1.00</td>\n",
       "      <td id=\"T_bc109_row7_col8\" class=\"data row7 col8\" >-0.01</td>\n",
       "      <td id=\"T_bc109_row7_col9\" class=\"data row7 col9\" >-0.01</td>\n",
       "      <td id=\"T_bc109_row7_col10\" class=\"data row7 col10\" >-0.01</td>\n",
       "    </tr>\n",
       "    <tr>\n",
       "      <th id=\"T_bc109_level0_row8\" class=\"row_heading level0 row8\" >is_active_member</th>\n",
       "      <td id=\"T_bc109_row8_col0\" class=\"data row8 col0\" >0.01</td>\n",
       "      <td id=\"T_bc109_row8_col1\" class=\"data row8 col1\" >0.00</td>\n",
       "      <td id=\"T_bc109_row8_col2\" class=\"data row8 col2\" >0.03</td>\n",
       "      <td id=\"T_bc109_row8_col3\" class=\"data row8 col3\" >0.08</td>\n",
       "      <td id=\"T_bc109_row8_col4\" class=\"data row8 col4\" >-0.03</td>\n",
       "      <td id=\"T_bc109_row8_col5\" class=\"data row8 col5\" >-0.00</td>\n",
       "      <td id=\"T_bc109_row8_col6\" class=\"data row8 col6\" >0.01</td>\n",
       "      <td id=\"T_bc109_row8_col7\" class=\"data row8 col7\" >-0.01</td>\n",
       "      <td id=\"T_bc109_row8_col8\" class=\"data row8 col8\" >1.00</td>\n",
       "      <td id=\"T_bc109_row8_col9\" class=\"data row8 col9\" >-0.02</td>\n",
       "      <td id=\"T_bc109_row8_col10\" class=\"data row8 col10\" >-0.16</td>\n",
       "    </tr>\n",
       "    <tr>\n",
       "      <th id=\"T_bc109_level0_row9\" class=\"row_heading level0 row9\" >estimated_salary</th>\n",
       "      <td id=\"T_bc109_row9_col0\" class=\"data row9 col0\" >-0.00</td>\n",
       "      <td id=\"T_bc109_row9_col1\" class=\"data row9 col1\" >0.01</td>\n",
       "      <td id=\"T_bc109_row9_col2\" class=\"data row9 col2\" >0.01</td>\n",
       "      <td id=\"T_bc109_row9_col3\" class=\"data row9 col3\" >-0.01</td>\n",
       "      <td id=\"T_bc109_row9_col4\" class=\"data row9 col4\" >0.01</td>\n",
       "      <td id=\"T_bc109_row9_col5\" class=\"data row9 col5\" >0.01</td>\n",
       "      <td id=\"T_bc109_row9_col6\" class=\"data row9 col6\" >0.01</td>\n",
       "      <td id=\"T_bc109_row9_col7\" class=\"data row9 col7\" >-0.01</td>\n",
       "      <td id=\"T_bc109_row9_col8\" class=\"data row9 col8\" >-0.02</td>\n",
       "      <td id=\"T_bc109_row9_col9\" class=\"data row9 col9\" >1.00</td>\n",
       "      <td id=\"T_bc109_row9_col10\" class=\"data row9 col10\" >0.02</td>\n",
       "    </tr>\n",
       "    <tr>\n",
       "      <th id=\"T_bc109_level0_row10\" class=\"row_heading level0 row10\" >exited</th>\n",
       "      <td id=\"T_bc109_row10_col0\" class=\"data row10 col0\" >-0.01</td>\n",
       "      <td id=\"T_bc109_row10_col1\" class=\"data row10 col1\" >-0.01</td>\n",
       "      <td id=\"T_bc109_row10_col2\" class=\"data row10 col2\" >-0.02</td>\n",
       "      <td id=\"T_bc109_row10_col3\" class=\"data row10 col3\" >0.28</td>\n",
       "      <td id=\"T_bc109_row10_col4\" class=\"data row10 col4\" >-0.02</td>\n",
       "      <td id=\"T_bc109_row10_col5\" class=\"data row10 col5\" >0.12</td>\n",
       "      <td id=\"T_bc109_row10_col6\" class=\"data row10 col6\" >-0.05</td>\n",
       "      <td id=\"T_bc109_row10_col7\" class=\"data row10 col7\" >-0.01</td>\n",
       "      <td id=\"T_bc109_row10_col8\" class=\"data row10 col8\" >-0.16</td>\n",
       "      <td id=\"T_bc109_row10_col9\" class=\"data row10 col9\" >0.02</td>\n",
       "      <td id=\"T_bc109_row10_col10\" class=\"data row10 col10\" >1.00</td>\n",
       "    </tr>\n",
       "  </tbody>\n",
       "</table>\n"
      ],
      "text/plain": [
       "<pandas.io.formats.style.Styler at 0x7fb35184f5b0>"
      ]
     },
     "execution_count": 34,
     "metadata": {},
     "output_type": "execute_result"
    }
   ],
   "source": [
    "df.corr().style.background_gradient(cmap='coolwarm').set_precision(2)"
   ]
  },
  {
   "cell_type": "markdown",
   "id": "9562c496",
   "metadata": {},
   "source": [
    "И посмотрим на наш целевой признак"
   ]
  },
  {
   "cell_type": "code",
   "execution_count": 35,
   "id": "348af656",
   "metadata": {
    "scrolled": true
   },
   "outputs": [
    {
     "data": {
      "text/plain": [
       "<AxesSubplot:>"
      ]
     },
     "execution_count": 35,
     "metadata": {},
     "output_type": "execute_result"
    },
    {
     "data": {
      "image/png": "[encoded data removed]",
      "text/plain": [
       "<Figure size 432x288 with 1 Axes>"
      ]
     },
     "metadata": {
      "needs_background": "light"
     },
     "output_type": "display_data"
    }
   ],
   "source": [
    "df['exited'].hist()"
   ]
  },
  {
   "cell_type": "code",
   "execution_count": 36,
   "id": "3092fd95",
   "metadata": {
    "scrolled": true
   },
   "outputs": [
    {
     "data": {
      "text/plain": [
       "0.2039379606203938"
      ]
     },
     "execution_count": 36,
     "metadata": {},
     "output_type": "execute_result"
    }
   ],
   "source": [
    "df['exited'].mean()"
   ]
  },
  {
   "cell_type": "markdown",
   "id": "299334db",
   "metadata": {},
   "source": [
    "Баланс классов - 0.2, то-есть 20% единиц, 80% нулей - тоесть наш таргет несбалансирован. "
   ]
  },
  {
   "cell_type": "markdown",
   "id": "afbf2400",
   "metadata": {},
   "source": [
    "### Вывод  (exploratory data analysis)"
   ]
  },
  {
   "cell_type": "markdown",
   "id": "3c288ea5",
   "metadata": {},
   "source": [
    "1. Имеем данные стоящие из 10000 строк и 14 столбцов.\n",
    "\n",
    "2. **Признаки числовые** - row_number, customer_id, credit_score, age, tenure, balance, num_of_products, has_cr_card, is_active_member, estimated_salary.\n",
    "\n",
    "3. **Признаки категориальные** - surname, geography, gender.\n",
    "\n",
    "4. **Таргет exited** - несбалансирован. При отладки модели необходимо настроить порог predict. Порог по умолчанию он равен 0,5, его необходимо изменить.\n",
    "\n",
    "5. В столбце Tenure **пропущенные значения** заменил медианными данными.\n",
    "\n",
    "6. Наблюдается слабая корреляция между данными, построение модели будет чуть чуть затруднено."
   ]
  },
  {
   "cell_type": "markdown",
   "id": "8a9a2243",
   "metadata": {},
   "source": [
    "## Построение модели"
   ]
  },
  {
   "cell_type": "markdown",
   "id": "8a096265",
   "metadata": {},
   "source": [
    "### Подготовка данных для модели"
   ]
  },
  {
   "cell_type": "markdown",
   "id": "66c6db61",
   "metadata": {},
   "source": [
    "Преобразуем в столбцах **'geography'** и  **'geography'** категориальные признаки в численные с помощью техники прямого кодирования, или отображения (One-Hot Encoding)"
   ]
  },
  {
   "cell_type": "code",
   "execution_count": 37,
   "id": "7bdac381",
   "metadata": {},
   "outputs": [],
   "source": [
    "df = pd.get_dummies(df, columns=[\"geography\", \"gender\", \"tenure\"], prefix=[\"geography\", \"gender\", \"tenure\"], drop_first=True)"
   ]
  },
  {
   "cell_type": "markdown",
   "id": "f79fb890",
   "metadata": {},
   "source": [
    "Разделим переменные на независимые и целевые. \n",
    "\n",
    "**Целевая перемнная** (таргет) - столбец exited.\n",
    "\n",
    "**Признаки** (фичи) - все столбцы кроме столбца exited (это таргет), столбца surname (следуя логики фамилия человека не может указать нам на то уйдет ли клиент из банка или нет."
   ]
  },
  {
   "cell_type": "code",
   "execution_count": 38,
   "id": "3bc45338",
   "metadata": {},
   "outputs": [],
   "source": [
    "target = df['exited']\n",
    "features = df.drop( ['exited', 'surname', 'row_number', 'customer_id'], axis=1)"
   ]
  },
  {
   "cell_type": "markdown",
   "id": "3753aabf",
   "metadata": {},
   "source": [
    "Разделим выборку на тестовую и обучающею. Сделаем стратификацию."
   ]
  },
  {
   "cell_type": "code",
   "execution_count": 39,
   "id": "5576da14",
   "metadata": {},
   "outputs": [],
   "source": [
    "features_train, features_test, target_train, target_test = train_test_split(\n",
    "    features, target, test_size=0.25, random_state=12345, stratify=df['exited'])"
   ]
  },
  {
   "cell_type": "markdown",
   "id": "3e48beb9",
   "metadata": {},
   "source": [
    "Проверим что разделение выполнено правильно."
   ]
  },
  {
   "cell_type": "code",
   "execution_count": 40,
   "id": "bf72b7fc",
   "metadata": {},
   "outputs": [
    {
     "data": {
      "text/plain": [
       "(6818, 20)"
      ]
     },
     "execution_count": 40,
     "metadata": {},
     "output_type": "execute_result"
    }
   ],
   "source": [
    "features_train.shape"
   ]
  },
  {
   "cell_type": "markdown",
   "id": "c68e1acd",
   "metadata": {},
   "source": [
    "Отмасштабируем численные признаки."
   ]
  },
  {
   "cell_type": "code",
   "execution_count": 41,
   "id": "d285a480",
   "metadata": {},
   "outputs": [],
   "source": [
    "numeric = ['credit_score', 'age', 'balance', 'num_of_products', 'estimated_salary']"
   ]
  },
  {
   "cell_type": "code",
   "execution_count": 42,
   "id": "2e8bfd2d",
   "metadata": {},
   "outputs": [
    {
     "name": "stderr",
     "output_type": "stream",
     "text": [
      "/home/vic/anaconda3/lib/python3.9/site-packages/pandas/core/frame.py:3678: SettingWithCopyWarning: \n",
      "A value is trying to be set on a copy of a slice from a DataFrame.\n",
      "Try using .loc[row_indexer,col_indexer] = value instead\n",
      "\n",
      "See the caveats in the documentation: https://pandas.pydata.org/pandas-docs/stable/user_guide/indexing.html#returning-a-view-versus-a-copy\n",
      "  self[col] = igetitem(value, i)\n",
      "/home/vic/anaconda3/lib/python3.9/site-packages/pandas/core/frame.py:3678: SettingWithCopyWarning: \n",
      "A value is trying to be set on a copy of a slice from a DataFrame.\n",
      "Try using .loc[row_indexer,col_indexer] = value instead\n",
      "\n",
      "See the caveats in the documentation: https://pandas.pydata.org/pandas-docs/stable/user_guide/indexing.html#returning-a-view-versus-a-copy\n",
      "  self[col] = igetitem(value, i)\n"
     ]
    }
   ],
   "source": [
    "scaler = StandardScaler()\n",
    "scaler.fit(features_train[numeric])\n",
    "features_train[numeric] = scaler.transform(features_train[numeric])\n",
    "features_test[numeric] = scaler.transform(features_test[numeric])\n",
    "pd.options.mode.chained_assignment = None"
   ]
  },
  {
   "cell_type": "markdown",
   "id": "7127d045",
   "metadata": {},
   "source": [
    "Приступим к построению модели"
   ]
  },
  {
   "cell_type": "markdown",
   "id": "764aba54",
   "metadata": {},
   "source": [
    "### Построение модели \"Решающее древо\""
   ]
  },
  {
   "cell_type": "markdown",
   "id": "b3cc03e1",
   "metadata": {},
   "source": [
    "Установим значение параметров:\n",
    "\n",
    "\n",
    "<b>max_depth</b> - глубина дерева, будет измерятся от 1 до 30 с шагом равным 2.\n"
   ]
  },
  {
   "cell_type": "code",
   "execution_count": 43,
   "id": "7f3d7342",
   "metadata": {},
   "outputs": [],
   "source": [
    "parametrs = {'max_depth': range(1, 30, 2)}"
   ]
  },
  {
   "cell_type": "markdown",
   "id": "7ab54122",
   "metadata": {},
   "source": [
    "Выберем модель DecisionTreeClassifier и с помощью GridSearchCV найдем оптимальные параметры модели на тренировочной выборке. "
   ]
  },
  {
   "cell_type": "code",
   "execution_count": 44,
   "id": "ff76b919",
   "metadata": {
    "scrolled": true
   },
   "outputs": [],
   "source": [
    "model = DecisionTreeClassifier(random_state=12345)\n",
    "grid = GridSearchCV(model, parametrs, cv=5)"
   ]
  },
  {
   "cell_type": "code",
   "execution_count": 45,
   "id": "946fef88",
   "metadata": {},
   "outputs": [
    {
     "name": "stdout",
     "output_type": "stream",
     "text": [
      "CPU times: user 2.57 s, sys: 6.32 ms, total: 2.57 s\n",
      "Wall time: 2.59 s\n"
     ]
    },
    {
     "data": {
      "text/plain": [
       "GridSearchCV(cv=5, estimator=DecisionTreeClassifier(random_state=12345),\n",
       "             param_grid={'max_depth': range(1, 30, 2)})"
      ]
     },
     "execution_count": 45,
     "metadata": {},
     "output_type": "execute_result"
    }
   ],
   "source": [
    "%%time\n",
    "grid.fit(features_train, target_train)"
   ]
  },
  {
   "cell_type": "markdown",
   "id": "6a9c95bc",
   "metadata": {},
   "source": [
    "Лучшею модель запишем в best_model_tree"
   ]
  },
  {
   "cell_type": "code",
   "execution_count": 46,
   "id": "a846e71f",
   "metadata": {},
   "outputs": [],
   "source": [
    "best_model_tree_no_balance = grid.best_estimator_"
   ]
  },
  {
   "cell_type": "markdown",
   "id": "3eded8f3",
   "metadata": {},
   "source": [
    "Посмотри как работате модель, если не учитивается баланс классов "
   ]
  },
  {
   "cell_type": "code",
   "execution_count": 47,
   "id": "29417af9",
   "metadata": {},
   "outputs": [],
   "source": [
    "predictions = best_model_tree_no_balance.predict(features_test)"
   ]
  },
  {
   "cell_type": "code",
   "execution_count": 48,
   "id": "b250d3de",
   "metadata": {
    "scrolled": true
   },
   "outputs": [
    {
     "data": {
      "text/plain": [
       "0.5601092896174864"
      ]
     },
     "execution_count": 48,
     "metadata": {},
     "output_type": "execute_result"
    }
   ],
   "source": [
    "result = f1_score(target_test, predictions)\n",
    "result"
   ]
  },
  {
   "cell_type": "code",
   "execution_count": 49,
   "id": "054932d1",
   "metadata": {
    "scrolled": true
   },
   "outputs": [
    {
     "data": {
      "text/plain": [
       "0.8434962400640477"
      ]
     },
     "execution_count": 49,
     "metadata": {},
     "output_type": "execute_result"
    }
   ],
   "source": [
    "probabilities = (best_model_tree_no_balance.predict_proba(features_test)[:,1])\n",
    "fpr_tree, tpr_tree, thresholds = roc_curve(target_test, probabilities)\n",
    "auc_roc = roc_auc_score(target_test, probabilities)\n",
    "auc_roc"
   ]
  },
  {
   "cell_type": "markdown",
   "id": "0271833f",
   "metadata": {},
   "source": [
    "Посмотрим на сбалансированную выборку. Выборку сбалансирую с помощью class_weight='balanced' "
   ]
  },
  {
   "cell_type": "code",
   "execution_count": 50,
   "id": "6891d148",
   "metadata": {
    "scrolled": true
   },
   "outputs": [],
   "source": [
    "model = DecisionTreeClassifier(random_state=12345, class_weight='balanced')\n",
    "grid = GridSearchCV(model, parametrs, cv=5)"
   ]
  },
  {
   "cell_type": "code",
   "execution_count": 51,
   "id": "b7a7a448",
   "metadata": {},
   "outputs": [
    {
     "name": "stdout",
     "output_type": "stream",
     "text": [
      "CPU times: user 2.65 s, sys: 5.98 ms, total: 2.65 s\n",
      "Wall time: 2.67 s\n"
     ]
    },
    {
     "data": {
      "text/plain": [
       "GridSearchCV(cv=5,\n",
       "             estimator=DecisionTreeClassifier(class_weight='balanced',\n",
       "                                              random_state=12345),\n",
       "             param_grid={'max_depth': range(1, 30, 2)})"
      ]
     },
     "execution_count": 51,
     "metadata": {},
     "output_type": "execute_result"
    }
   ],
   "source": [
    "%%time\n",
    "grid.fit(features_train, target_train)"
   ]
  },
  {
   "cell_type": "code",
   "execution_count": 52,
   "id": "a6b7b39c",
   "metadata": {},
   "outputs": [],
   "source": [
    "best_model_tree_cl = grid.best_estimator_"
   ]
  },
  {
   "cell_type": "code",
   "execution_count": 53,
   "id": "cf1e95f7",
   "metadata": {},
   "outputs": [],
   "source": [
    "predictions = best_model_tree_cl.predict(features_test)"
   ]
  },
  {
   "cell_type": "code",
   "execution_count": 54,
   "id": "1c8d62e4",
   "metadata": {
    "scrolled": true
   },
   "outputs": [
    {
     "data": {
      "text/plain": [
       "0.5444915254237288"
      ]
     },
     "execution_count": 54,
     "metadata": {},
     "output_type": "execute_result"
    }
   ],
   "source": [
    "result = f1_score(target_test, predictions)\n",
    "result"
   ]
  },
  {
   "cell_type": "code",
   "execution_count": 55,
   "id": "bba0419e",
   "metadata": {},
   "outputs": [
    {
     "data": {
      "text/plain": [
       "0.7152086788280818"
      ]
     },
     "execution_count": 55,
     "metadata": {},
     "output_type": "execute_result"
    }
   ],
   "source": [
    "probabilities = best_model_tree_cl.predict_proba(features_test)[:,1]\n",
    "fpr_tree_, tpr_tree_, thresholds_ = roc_curve(target_test, probabilities)\n",
    "auc_roc = roc_auc_score(target_test, probabilities)\n",
    "auc_roc"
   ]
  },
  {
   "cell_type": "markdown",
   "id": "0f663394",
   "metadata": {},
   "source": [
    " На сбалансированной выборке мы получили f1_score равный 0.54, auc_roc равный 0.71"
   ]
  },
  {
   "cell_type": "markdown",
   "id": "bd18b08d",
   "metadata": {},
   "source": [
    "Как мы выяснили ранее в нашей выборке отрицательны ответов 80% , положитительных 20%.\n",
    "Нам необходмо увеличить количество положительных ответов в 4 раза для достижения баланса.\n",
    "    \n",
    " Попробую сбалансировать выборку с помощью  функции upsample() с тремя параметрами: features — признаки, target — целевой признак, repeat — количество повторений. Функция вернёт признаки и целевой признак после операции upsampling."
   ]
  },
  {
   "cell_type": "code",
   "execution_count": 56,
   "id": "cfa378d7",
   "metadata": {},
   "outputs": [],
   "source": [
    "def upsample(features, target, repeat):\n",
    "    features_zeros = features[target == 0]\n",
    "    features_ones = features[target == 1]\n",
    "    target_zeros = target[target == 0]\n",
    "    target_ones = target[target == 1]\n",
    "    features_upsampled = pd.concat([features_zeros] + [features_ones] * repeat)\n",
    "    target_upsampled = pd.concat([target_zeros] + [target_ones] * repeat)\n",
    "    features_upsampled, target_upsampled = shuffle(\n",
    "        features_upsampled, target_upsampled, random_state=12345)\n",
    "    return features_upsampled, target_upsampled"
   ]
  },
  {
   "cell_type": "code",
   "execution_count": 57,
   "id": "2ba8d2c3",
   "metadata": {},
   "outputs": [],
   "source": [
    "features_train_upsampled, target_train_upsampled = upsample(features_train, target_train, 4)"
   ]
  },
  {
   "cell_type": "markdown",
   "id": "5b5af77f",
   "metadata": {},
   "source": [
    "Проверим что все ок"
   ]
  },
  {
   "cell_type": "code",
   "execution_count": 58,
   "id": "f4cbc2a9",
   "metadata": {},
   "outputs": [
    {
     "data": {
      "text/plain": [
       "1    0.506007\n",
       "0    0.493993\n",
       "Name: exited, dtype: float64"
      ]
     },
     "execution_count": 58,
     "metadata": {},
     "output_type": "execute_result"
    }
   ],
   "source": [
    "target_train_upsampled.value_counts(normalize = 1)"
   ]
  },
  {
   "cell_type": "code",
   "execution_count": 59,
   "id": "54dc1c29",
   "metadata": {},
   "outputs": [],
   "source": [
    "model = DecisionTreeClassifier(random_state=12345)\n",
    "grid = GridSearchCV(model, parametrs, cv=5)"
   ]
  },
  {
   "cell_type": "code",
   "execution_count": 60,
   "id": "5c9bb117",
   "metadata": {},
   "outputs": [
    {
     "name": "stdout",
     "output_type": "stream",
     "text": [
      "CPU times: user 3.55 s, sys: 2.93 ms, total: 3.55 s\n",
      "Wall time: 3.57 s\n"
     ]
    },
    {
     "data": {
      "text/plain": [
       "GridSearchCV(cv=5, estimator=DecisionTreeClassifier(random_state=12345),\n",
       "             param_grid={'max_depth': range(1, 30, 2)})"
      ]
     },
     "execution_count": 60,
     "metadata": {},
     "output_type": "execute_result"
    }
   ],
   "source": [
    "%%time\n",
    "grid.fit(features_train_upsampled, target_train_upsampled)"
   ]
  },
  {
   "cell_type": "code",
   "execution_count": 61,
   "id": "5bc5967a",
   "metadata": {},
   "outputs": [
    {
     "data": {
      "text/plain": [
       "0.5181236673773987"
      ]
     },
     "execution_count": 61,
     "metadata": {},
     "output_type": "execute_result"
    }
   ],
   "source": [
    "best_model_tree_upsampled = grid.best_estimator_\n",
    "predictions = best_model_tree_upsampled.predict(features_test)\n",
    "result = f1_score(target_test, predictions)\n",
    "result"
   ]
  },
  {
   "cell_type": "code",
   "execution_count": 62,
   "id": "147feead",
   "metadata": {
    "scrolled": true
   },
   "outputs": [
    {
     "data": {
      "text/plain": [
       "0.6978684165379997"
      ]
     },
     "execution_count": 62,
     "metadata": {},
     "output_type": "execute_result"
    }
   ],
   "source": [
    "probabilities = best_model_tree_upsampled.predict_proba(features_test)[:,1]\n",
    "fpr_tree_, tpr_tree_, thresholds_ = roc_curve(target_test, probabilities)\n",
    "auc_roc = roc_auc_score(target_test, probabilities)\n",
    "auc_roc"
   ]
  },
  {
   "cell_type": "markdown",
   "id": "b1072889",
   "metadata": {},
   "source": [
    "А методом upsample мы получили  f1_score равный 0.51, auc_roc равный 0.69. "
   ]
  },
  {
   "cell_type": "markdown",
   "id": "2afe141b",
   "metadata": {},
   "source": [
    "Построим ROC кривую для сбалансированной и несбалансированной выборки"
   ]
  },
  {
   "cell_type": "markdown",
   "id": "c03ff19e",
   "metadata": {},
   "source": [
    "Посмотри как работате модель, если не учитивается баланс классов"
   ]
  },
  {
   "cell_type": "code",
   "execution_count": 63,
   "id": "710a376d",
   "metadata": {
    "scrolled": true
   },
   "outputs": [
    {
     "data": {
      "image/png": "[encoded data removed]",
      "text/plain": [
       "<Figure size 1152x360 with 1 Axes>"
      ]
     },
     "metadata": {
      "needs_background": "light"
     },
     "output_type": "display_data"
    }
   ],
   "source": [
    "plt.figure(figsize=(16,5))\n",
    "plt.plot(fpr_tree, tpr_tree, label=\"no_balance\")\n",
    "plt.plot(fpr_tree_, tpr_tree_, label=\"balance\")\n",
    "plt.title(\"Кривая ROC (рабочих характеристик приёмника)\")\n",
    "plt.ylabel(\"Доля истинно положительных примеров (выручка) TPR\")\n",
    "plt.xlabel(\"Доля ложноположительных примеров (потери) FPR\")\n",
    "plt.plot([0, 1], [0, 1], linestyle='--')\n",
    "plt.xlim([0.0, 1.0])\n",
    "plt.ylim([0.0, 1.0])\n",
    "plt.legend(fontsize = 13)\n",
    "plt.grid()\n",
    "plt.show()"
   ]
  },
  {
   "cell_type": "markdown",
   "id": "b545dc48",
   "metadata": {},
   "source": [
    "Нам нужна точка где FPR(потери) стали минимальным при самом возможном высоком FPR - нам нужна точка излома."
   ]
  },
  {
   "cell_type": "markdown",
   "id": "e798bd70",
   "metadata": {},
   "source": [
    "Вывод:\n",
    "\n",
    "   Если данные несбалансированны, то нам трудно найти точку где FPR(потери) стали минимальным при самом возможном высоком FPR - нам нужна точка излома графика, а на несбалансированных данных ее увидить и определить трудно.\n",
    "    \n",
    "   На сбалансированных данных auc_roc (показатель который определяет способность модели различать классы - площадь под кривой) меньше чем на несбалансированных.\n",
    "    \n",
    "   Необходимо выбирать чем жертвовать или показателем f1 что мало вероятно или показателем auc_roc.\n",
    "    "
   ]
  },
  {
   "cell_type": "markdown",
   "id": "a6579973",
   "metadata": {},
   "source": [
    "### Построение модели \"Случайный лес\""
   ]
  },
  {
   "cell_type": "markdown",
   "id": "6282c6c3",
   "metadata": {},
   "source": [
    "Установим значение параметров:\n",
    "\n",
    "<b>n_estimators</b> - число деревьев в лесу, оно будет измеряться от значения по дефолту раное 10 до 50 с шагом 10.\n",
    "\n",
    "<b>max_depth</b> - глубина дерева, будет измерятся от 1 до 30 с шагом равным 2."
   ]
  },
  {
   "cell_type": "code",
   "execution_count": 64,
   "id": "bac3cfbb",
   "metadata": {},
   "outputs": [],
   "source": [
    "parametrs = {'n_estimators': range(10, 51, 10),\n",
    "            'max_depth': range(1, 30, 2)}"
   ]
  },
  {
   "cell_type": "markdown",
   "id": "f0dcdec4",
   "metadata": {},
   "source": [
    "Выберем модель RandomForestClassifier и с помощью GridSearchCV найдем оптимальные параметры модели на тренировочной выборке. "
   ]
  },
  {
   "cell_type": "code",
   "execution_count": 65,
   "id": "951434ad",
   "metadata": {
    "scrolled": true
   },
   "outputs": [],
   "source": [
    "model = RandomForestClassifier(random_state=12345, n_jobs = -1)\n",
    "grid = GridSearchCV(model, parametrs, cv=5)"
   ]
  },
  {
   "cell_type": "code",
   "execution_count": 66,
   "id": "36127faf",
   "metadata": {
    "scrolled": true
   },
   "outputs": [
    {
     "name": "stdout",
     "output_type": "stream",
     "text": [
      "CPU times: user 31.5 s, sys: 3.94 s, total: 35.5 s\n",
      "Wall time: 55 s\n"
     ]
    },
    {
     "data": {
      "text/plain": [
       "GridSearchCV(cv=5,\n",
       "             estimator=RandomForestClassifier(n_jobs=-1, random_state=12345),\n",
       "             param_grid={'max_depth': range(1, 30, 2),\n",
       "                         'n_estimators': range(10, 51, 10)})"
      ]
     },
     "execution_count": 66,
     "metadata": {},
     "output_type": "execute_result"
    }
   ],
   "source": [
    "%%time\n",
    "grid.fit(features_train, target_train)"
   ]
  },
  {
   "cell_type": "markdown",
   "id": "3e1f9715",
   "metadata": {},
   "source": [
    "С поммощью grid.best_estimator_ посмотрим на оптимальные параметры для RandomForestClassifier"
   ]
  },
  {
   "cell_type": "code",
   "execution_count": 67,
   "id": "5f14cde1",
   "metadata": {},
   "outputs": [
    {
     "data": {
      "text/plain": [
       "RandomForestClassifier(max_depth=29, n_estimators=40, n_jobs=-1,\n",
       "                       random_state=12345)"
      ]
     },
     "execution_count": 67,
     "metadata": {},
     "output_type": "execute_result"
    }
   ],
   "source": [
    "grid.best_estimator_"
   ]
  },
  {
   "cell_type": "markdown",
   "id": "0d433931",
   "metadata": {},
   "source": [
    "В best_model_Rtree положим оптимальную модель"
   ]
  },
  {
   "cell_type": "code",
   "execution_count": 68,
   "id": "59be6415",
   "metadata": {},
   "outputs": [],
   "source": [
    "best_model_Rtree_no_balance = grid.best_estimator_"
   ]
  },
  {
   "cell_type": "markdown",
   "id": "d56c0f61",
   "metadata": {},
   "source": [
    "Теперь попробуем посмотри что будет когда мы не учитываем баланс классов (возьмем стандартный predict равный 0.5)"
   ]
  },
  {
   "cell_type": "code",
   "execution_count": 69,
   "id": "d66ab011",
   "metadata": {
    "scrolled": true
   },
   "outputs": [
    {
     "data": {
      "text/plain": [
       "0.5931758530183727"
      ]
     },
     "execution_count": 69,
     "metadata": {},
     "output_type": "execute_result"
    }
   ],
   "source": [
    "predictions = best_model_Rtree_no_balance.predict(features_test)\n",
    "result = f1_score(target_test, predictions)\n",
    "result"
   ]
  },
  {
   "cell_type": "code",
   "execution_count": 70,
   "id": "2ccfb3de",
   "metadata": {
    "scrolled": true
   },
   "outputs": [
    {
     "data": {
      "text/plain": [
       "0.8496728522140257"
      ]
     },
     "execution_count": 70,
     "metadata": {},
     "output_type": "execute_result"
    }
   ],
   "source": [
    "probabilities = (best_model_Rtree_no_balance.predict_proba(features_test)[:,1])\n",
    "fpr_Rtree_, tpr_Rtree_, thresholds_ = roc_curve(target_test, probabilities)\n",
    "auc_roc = roc_auc_score(target_test, probabilities)\n",
    "auc_roc"
   ]
  },
  {
   "cell_type": "markdown",
   "id": "8ad223b3",
   "metadata": {},
   "source": [
    "Метрика f1_score получилась равна 0.57, auc_roc равен 0.85 конечно лучше чем у предыдущей модели но до условия не дотягивает. В предыдущей модели мы определили что лучшее значение predict при котором метрика f1 будет максимальна равно 0.3. Проверим на текущей модели действительно ли это так."
   ]
  },
  {
   "cell_type": "markdown",
   "id": "3d016326",
   "metadata": {},
   "source": [
    "Посмотрим на сбалансированную выборку. Выборку сбалансирую с помощью class_weight='balanced' "
   ]
  },
  {
   "cell_type": "code",
   "execution_count": 71,
   "id": "d92ec8c9",
   "metadata": {
    "scrolled": true
   },
   "outputs": [],
   "source": [
    "model = RandomForestClassifier(random_state=12345, n_jobs = -1, class_weight='balanced')\n",
    "grid = GridSearchCV(model, parametrs, cv=5)"
   ]
  },
  {
   "cell_type": "code",
   "execution_count": 72,
   "id": "8551f6b2",
   "metadata": {
    "scrolled": true
   },
   "outputs": [
    {
     "name": "stdout",
     "output_type": "stream",
     "text": [
      "CPU times: user 32.5 s, sys: 4.2 s, total: 36.7 s\n",
      "Wall time: 54.8 s\n"
     ]
    },
    {
     "data": {
      "text/plain": [
       "GridSearchCV(cv=5,\n",
       "             estimator=RandomForestClassifier(class_weight='balanced',\n",
       "                                              n_jobs=-1, random_state=12345),\n",
       "             param_grid={'max_depth': range(1, 30, 2),\n",
       "                         'n_estimators': range(10, 51, 10)})"
      ]
     },
     "execution_count": 72,
     "metadata": {},
     "output_type": "execute_result"
    }
   ],
   "source": [
    "%%time\n",
    "grid.fit(features_train, target_train)"
   ]
  },
  {
   "cell_type": "code",
   "execution_count": 73,
   "id": "99d8a99c",
   "metadata": {},
   "outputs": [],
   "source": [
    "best_model_Rtree_nb = grid.best_estimator_"
   ]
  },
  {
   "cell_type": "code",
   "execution_count": 74,
   "id": "fa88b88d",
   "metadata": {
    "scrolled": true
   },
   "outputs": [
    {
     "data": {
      "text/plain": [
       "0.574496644295302"
      ]
     },
     "execution_count": 74,
     "metadata": {},
     "output_type": "execute_result"
    }
   ],
   "source": [
    "predictions = best_model_Rtree_nb.predict(features_test)\n",
    "result = f1_score(target_test, predictions)\n",
    "result"
   ]
  },
  {
   "cell_type": "code",
   "execution_count": 75,
   "id": "de5daf51",
   "metadata": {
    "scrolled": true
   },
   "outputs": [
    {
     "data": {
      "text/plain": [
       "0.8543971950591868"
      ]
     },
     "execution_count": 75,
     "metadata": {},
     "output_type": "execute_result"
    }
   ],
   "source": [
    "probabilities = (best_model_Rtree_nb.predict_proba(features_test)[:,1])\n",
    "fpr_Rtree, tpr_Rtree, thresholds = roc_curve(target_test, probabilities)\n",
    "auc_roc = roc_auc_score(target_test, probabilities)\n",
    "auc_roc"
   ]
  },
  {
   "cell_type": "markdown",
   "id": "b1cf3092",
   "metadata": {},
   "source": [
    "По показателю f1 модель не дотягивает до требований. Попробуем обучить модель на features_train_upsampled, target_train_upsampled"
   ]
  },
  {
   "cell_type": "code",
   "execution_count": 76,
   "id": "b4e8ea1d",
   "metadata": {},
   "outputs": [],
   "source": [
    "model = RandomForestClassifier(random_state=12345, n_jobs = -1)\n",
    "grid = GridSearchCV(model, parametrs, cv=5)"
   ]
  },
  {
   "cell_type": "code",
   "execution_count": 77,
   "id": "f30fe89e",
   "metadata": {
    "scrolled": true
   },
   "outputs": [
    {
     "name": "stdout",
     "output_type": "stream",
     "text": [
      "CPU times: user 34.5 s, sys: 5.01 s, total: 39.5 s\n",
      "Wall time: 1min 7s\n"
     ]
    }
   ],
   "source": [
    "%%time\n",
    "grid.fit(features_train_upsampled, target_train_upsampled)\n",
    "best_model_Rtree_upsampled = grid.best_estimator_"
   ]
  },
  {
   "cell_type": "code",
   "execution_count": 78,
   "id": "60577cf4",
   "metadata": {},
   "outputs": [
    {
     "data": {
      "text/plain": [
       "0.6137689614935823"
      ]
     },
     "execution_count": 78,
     "metadata": {},
     "output_type": "execute_result"
    }
   ],
   "source": [
    "predictions = best_model_Rtree_upsampled.predict(features_test)\n",
    "result = f1_score(target_test, predictions)\n",
    "result"
   ]
  },
  {
   "cell_type": "code",
   "execution_count": 79,
   "id": "6258e916",
   "metadata": {},
   "outputs": [
    {
     "data": {
      "text/plain": [
       "0.8433669773736681"
      ]
     },
     "execution_count": 79,
     "metadata": {},
     "output_type": "execute_result"
    }
   ],
   "source": [
    "probabilities = (best_model_Rtree_upsampled.predict_proba(features_test)[:,1])\n",
    "fpr_Rtree, tpr_Rtree, thresholds = roc_curve(target_test, probabilities)\n",
    "auc_roc = roc_auc_score(target_test, probabilities)\n",
    "auc_roc"
   ]
  },
  {
   "cell_type": "markdown",
   "id": "7d52de76",
   "metadata": {},
   "source": [
    "С помощью upsampled мы получили лучший показатель f1 равный 0.61 а auc_roc равный 0.84. - лучший результат."
   ]
  },
  {
   "cell_type": "markdown",
   "id": "64b1b052",
   "metadata": {},
   "source": [
    "Построим ROC кривую сразу для двух моделей"
   ]
  },
  {
   "cell_type": "code",
   "execution_count": 80,
   "id": "5a4c7c8b",
   "metadata": {
    "scrolled": true
   },
   "outputs": [
    {
     "data": {
      "image/png": "[encoded data removed]",
      "text/plain": [
       "<Figure size 1152x360 with 1 Axes>"
      ]
     },
     "metadata": {
      "needs_background": "light"
     },
     "output_type": "display_data"
    }
   ],
   "source": [
    "plt.figure(figsize=(16,5))\n",
    "#plt.plot(fpr_tree, tpr_tree, label=\"Tree_balance\")\n",
    "plt.plot(fpr_Rtree, tpr_Rtree, label=\"RandomForest_no_balance\")\n",
    "plt.plot(fpr_Rtree_, tpr_Rtree_, label=\"RandomForest_balance\")\n",
    "plt.plot([0, 1], [0, 1], linestyle='--')\n",
    "plt.xlim([0.0, 1.0])\n",
    "plt.ylim([0.0, 1.0])\n",
    "plt.title(\"Кривая ROC (рабочих характеристик приёмника)\")\n",
    "plt.ylabel(\"Доля истинно положительных примеров (выручка) TPR\")\n",
    "plt.xlabel(\"Доля ложноположительных примеров (потери) FPR\")\n",
    "plt.legend(fontsize = 13)\n",
    "plt.grid()\n",
    "plt.show()"
   ]
  },
  {
   "cell_type": "markdown",
   "id": "796e4c6e",
   "metadata": {},
   "source": [
    "На графике кривая двух моделей отличается не очень сильно. Из графика видно что в модели RandomFores показатель auc_roc (площадь под кривой) лучше."
   ]
  },
  {
   "cell_type": "markdown",
   "id": "03cf1f0b",
   "metadata": {},
   "source": [
    "### Построение модели \"Логистическая регрессия\""
   ]
  },
  {
   "cell_type": "code",
   "execution_count": 81,
   "id": "ffb413f9",
   "metadata": {
    "scrolled": true
   },
   "outputs": [
    {
     "name": "stdout",
     "output_type": "stream",
     "text": [
      "CPU times: user 107 ms, sys: 2.87 ms, total: 109 ms\n",
      "Wall time: 58.3 ms\n"
     ]
    },
    {
     "data": {
      "text/plain": [
       "LogisticRegression(max_iter=1000, random_state=12345)"
      ]
     },
     "execution_count": 81,
     "metadata": {},
     "output_type": "execute_result"
    }
   ],
   "source": [
    "%%time\n",
    "model_log_no_balance = LogisticRegression(random_state=12345, solver='lbfgs', max_iter=1000)\n",
    "model_log_no_balance.fit(features_train, target_train)"
   ]
  },
  {
   "cell_type": "code",
   "execution_count": 82,
   "id": "9208af9e",
   "metadata": {
    "scrolled": true
   },
   "outputs": [
    {
     "data": {
      "text/plain": [
       "0.3466257668711657"
      ]
     },
     "execution_count": 82,
     "metadata": {},
     "output_type": "execute_result"
    }
   ],
   "source": [
    "predictions = model_log_no_balance.predict(features_test)\n",
    "result = f1_score(target_test, predictions)\n",
    "result"
   ]
  },
  {
   "cell_type": "code",
   "execution_count": 83,
   "id": "c8903b20",
   "metadata": {},
   "outputs": [
    {
     "data": {
      "text/plain": [
       "0.7797995177369855"
      ]
     },
     "execution_count": 83,
     "metadata": {},
     "output_type": "execute_result"
    }
   ],
   "source": [
    "probabilities = (model_log_no_balance.predict_proba(features_test)[:,1])\n",
    "fpr_lg, tpr_lg, thresholds = roc_curve(target_test, probabilities)\n",
    "auc_roc = roc_auc_score(target_test, probabilities)\n",
    "auc_roc"
   ]
  },
  {
   "cell_type": "markdown",
   "id": "5e8a7614",
   "metadata": {},
   "source": [
    "Метрика f1_score при несбалансированной выборке получилась равна 0.34, намного хуже чем у предыдущих моделей. "
   ]
  },
  {
   "cell_type": "markdown",
   "id": "ad5c7086",
   "metadata": {},
   "source": [
    "Посмотрим на сбалансированную выборку. Выборку сбалансирую с помощью class_weight='balanced' "
   ]
  },
  {
   "cell_type": "code",
   "execution_count": 84,
   "id": "9c760b5c",
   "metadata": {
    "scrolled": true
   },
   "outputs": [
    {
     "name": "stdout",
     "output_type": "stream",
     "text": [
      "CPU times: user 84.7 ms, sys: 2.64 ms, total: 87.4 ms\n",
      "Wall time: 45.2 ms\n"
     ]
    },
    {
     "data": {
      "text/plain": [
       "LogisticRegression(class_weight='balanced', max_iter=1000, random_state=12345)"
      ]
     },
     "execution_count": 84,
     "metadata": {},
     "output_type": "execute_result"
    }
   ],
   "source": [
    "%%time\n",
    "model_log_bl = LogisticRegression(random_state=12345, solver='lbfgs', max_iter=1000, class_weight='balanced')\n",
    "model_log_bl.fit(features_train, target_train)"
   ]
  },
  {
   "cell_type": "code",
   "execution_count": 85,
   "id": "9612d37b",
   "metadata": {},
   "outputs": [
    {
     "data": {
      "text/plain": [
       "0.5037481259370316"
      ]
     },
     "execution_count": 85,
     "metadata": {},
     "output_type": "execute_result"
    }
   ],
   "source": [
    "predictions = model_log_bl.predict(features_test)\n",
    "result = f1_score(target_test, predictions)\n",
    "result"
   ]
  },
  {
   "cell_type": "code",
   "execution_count": 86,
   "id": "f5fa7b85",
   "metadata": {
    "scrolled": true
   },
   "outputs": [
    {
     "data": {
      "text/plain": [
       "0.7806489582737652"
      ]
     },
     "execution_count": 86,
     "metadata": {},
     "output_type": "execute_result"
    }
   ],
   "source": [
    "probabilities = (model_log_bl.predict_proba(features_test)[:,1])\n",
    "fpr_lg_, tpr_lg_, thresholds = roc_curve(target_test, probabilities)\n",
    "auc_roc = roc_auc_score(target_test, probabilities)\n",
    "auc_roc"
   ]
  },
  {
   "cell_type": "markdown",
   "id": "5807e7a2",
   "metadata": {},
   "source": [
    "С помощью upsampled мы получили лучший показатель f1 равный 0.50 (почти в 1.5 раза лучше) а auc_roc равный 0.77. Самый плохой показатель."
   ]
  },
  {
   "cell_type": "markdown",
   "id": "7f80d395",
   "metadata": {},
   "source": [
    "По показателю f1 модель не дотягивает до требований. Попробуем обучить модель на features_train_upsampled, target_train_upsampled"
   ]
  },
  {
   "cell_type": "code",
   "execution_count": 87,
   "id": "10f7d785",
   "metadata": {
    "scrolled": true
   },
   "outputs": [
    {
     "name": "stdout",
     "output_type": "stream",
     "text": [
      "CPU times: user 141 ms, sys: 6 ms, total: 147 ms\n",
      "Wall time: 74.5 ms\n"
     ]
    },
    {
     "data": {
      "text/plain": [
       "LogisticRegression(max_iter=1000, random_state=12345)"
      ]
     },
     "execution_count": 87,
     "metadata": {},
     "output_type": "execute_result"
    }
   ],
   "source": [
    "%%time\n",
    "model_log_upsampled = LogisticRegression(random_state=12345, solver='lbfgs', max_iter=1000)\n",
    "model_log_upsampled.fit(features_train_upsampled, target_train_upsampled)"
   ]
  },
  {
   "cell_type": "code",
   "execution_count": 88,
   "id": "dbc79205",
   "metadata": {
    "scrolled": true
   },
   "outputs": [
    {
     "data": {
      "text/plain": [
       "0.5025868440502588"
      ]
     },
     "execution_count": 88,
     "metadata": {},
     "output_type": "execute_result"
    }
   ],
   "source": [
    "predictions = model_log_upsampled.predict(features_test)\n",
    "result = f1_score(target_test, predictions)\n",
    "result"
   ]
  },
  {
   "cell_type": "code",
   "execution_count": 89,
   "id": "b2c05e24",
   "metadata": {},
   "outputs": [
    {
     "data": {
      "text/plain": [
       "0.7806918472770247"
      ]
     },
     "execution_count": 89,
     "metadata": {},
     "output_type": "execute_result"
    }
   ],
   "source": [
    "probabilities = (model_log_upsampled.predict_proba(features_test)[:,1])\n",
    "fpr_lg, tpr_lg, thresholds = roc_curve(target_test, probabilities)\n",
    "auc_roc = roc_auc_score(target_test, probabilities)\n",
    "auc_roc"
   ]
  },
  {
   "cell_type": "markdown",
   "id": "0c071327",
   "metadata": {},
   "source": [
    "По показателю f1 модель не дотягивает до требований. Но нет разницы как балансировать классы upsampled или class_weight='balanced'"
   ]
  },
  {
   "cell_type": "markdown",
   "id": "4e9a6d7a",
   "metadata": {},
   "source": [
    "Построим ROC кривые для трех моделей"
   ]
  },
  {
   "cell_type": "code",
   "execution_count": 90,
   "id": "b5a816d8",
   "metadata": {
    "scrolled": true
   },
   "outputs": [
    {
     "data": {
      "image/png": "[encoded data removed]",
      "text/plain": [
       "<Figure size 1152x360 with 1 Axes>"
      ]
     },
     "metadata": {
      "needs_background": "light"
     },
     "output_type": "display_data"
    }
   ],
   "source": [
    "plt.figure(figsize=(16,5))\n",
    "plt.plot(fpr_tree, tpr_tree, label=\"Tree\")\n",
    "plt.plot(fpr_Rtree, tpr_Rtree, label=\"RandomForest\")\n",
    "plt.plot(fpr_lg, tpr_lg, label=\"LogisticRegression\")\n",
    "plt.title(\"Кривая ROC (рабочих характеристик приёмника)\")\n",
    "plt.ylabel(\"Доля истинно положительных примеров (выручка) TPR\")\n",
    "plt.xlabel(\"Доля ложноположительных примеров (потери) FPR\")\n",
    "plt.plot([0, 1], [0, 1], linestyle='--')\n",
    "plt.xlim([0.0, 1.0])\n",
    "plt.ylim([0.0, 1.0])\n",
    "plt.legend(fontsize = 13)\n",
    "plt.grid()\n",
    "plt.show()"
   ]
  },
  {
   "cell_type": "markdown",
   "id": "5ca24e9b",
   "metadata": {},
   "source": [
    "Здесь кривая хуже чем, у двух предыдущих моделей, следовательно и показатель auc_roc тоже будет одним из самых плохих"
   ]
  },
  {
   "cell_type": "markdown",
   "id": "f5df8852",
   "metadata": {},
   "source": [
    "## Вывод"
   ]
  },
  {
   "cell_type": "markdown",
   "id": "05f2cdbb",
   "metadata": {},
   "source": [
    "1. Проанализировав данные мы пришли к выводу что:\n",
    "\n",
    "    Больше всего клиентов уходит в первый год более 23 процентов, потом идет на спад, но со второго по третий год  наблюдается рост.\n",
    "    \n",
    "    Больше всего клиентов уходит из Германии на втором месте Испания, и на третьем Франция.\n",
    "    \n",
    "    Самому молодому клиенту - 18 лет, самом пожилому клиенту 92. Чем больше возраст клиента, тем чаще они уходят из банка.\n",
    "    \n",
    "    Если на счете до 110138.926 то клиенты уходят, начиная с суммы 133710.358 и больше количество  ушедших клиентов уменьшается.\n",
    "    \n",
    "    Больше всего клиентов пользуется одним или двумя продуктами, тем кто пользуется одним продуктом уходят в четыре раза чаще, чем те кто пользуется двумя, те кто пользуется 3 продуктами 80 процентов из них уходя, те кто 4 все 100.\n",
    "    \n",
    "    Количество клиентов используемых кредитную карту почти в два раза больше чем те кто ей не пользуется. Клиенты уходят одинаково, вне зависимости от того имеет он кредитную карту, что нет.\n",
    "    \n",
    "    Неактивные клиенты уходят в два раза чаще чем активные.\n",
    "    \n",
    "    Уход клиента слабо зависит от  предполагаемой зарплаты "
   ]
  },
  {
   "cell_type": "markdown",
   "id": "83d368c8",
   "metadata": {},
   "source": [
    "2. Построили три модели \"Tree\", \"RandomForest\", \"LogisticRegression\" и пришли к выводу:\n",
    "\n",
    "    по показателю f1 и показателю auc_roc лучше всего себя показала модель **RandomForest** (на сбалансированной модели f1=0.62, auc_roc=0.77  против модели **Tree** у которой f1=0.60, auc_roc=0.76  и модели **LogisticRegressionу** у которой f1=0.50, auc_roc=0.67.\n",
    "    \n",
    "    модели показывают по показателю f1 показывают лучший результат на сбалансированных данных. Так на модели **RandomForest**  после выбора оптимального predict f1 повысился с 0.57 до 0.62, auc_roc уменьшился с 0.85 до 0.77.\n",
    "    \n",
    "      Если данные несбалансированны, то нам трудно найти точку где FPR(потери) стали минимальным при самом возможном высоком FPR - нам нужна точка излома графика, а на несбалансированных данных ее удивить и определить трудно. На сбалансированных данных auc_roc (показатель который определяет способность модели различать классы - площадь под кривой) меньше чем на несбалансированных. Необходимо выбирать чем жертвовать или показателем f1 что мало вероятно или показателем auc_roc.\n",
    "      \n",
    "     По процессу обучения дольше всех обучатся модель RandomForest, дальше Tree и наименьше всего LogisticRegression. Если выбирать между количеством задействованных ресурсов, и количеством предсказания модели по метрики f1 то я бы выбрал для обучения модель Tree (время обучения - 4.59 сек, f1=0.60 у модели RandomForest f1 хоть и лучше и равен 0.60, в тоже время время обучения заняло 1 мин 8 сек.)"
   ]
  }
 ],
 "metadata": {
  "kernelspec": {
   "display_name": "Python 3 (ipykernel)",
   "language": "python",
   "name": "python3"
  },
  "language_info": {
   "codemirror_mode": {
    "name": "ipython",
    "version": 3
   },
   "file_extension": ".py",
   "mimetype": "text/x-python",
   "name": "python",
   "nbconvert_exporter": "python",
   "pygments_lexer": "ipython3",
   "version": "3.10.8"
  },
  "toc": {
   "base_numbering": 1,
   "nav_menu": {},
   "number_sections": true,
   "sideBar": true,
   "skip_h1_title": true,
   "title_cell": "Table of Contents",
   "title_sidebar": "Contents",
   "toc_cell": true,
   "toc_position": {},
   "toc_section_display": true,
   "toc_window_display": false
  },
  "varInspector": {
   "cols": {
    "lenName": 16,
    "lenType": 16,
    "lenVar": 40
   },
   "kernels_config": {
    "python": {
     "delete_cmd_postfix": "",
     "delete_cmd_prefix": "del ",
     "library": "var_list.py",
     "varRefreshCmd": "print(var_dic_list())"
    },
    "r": {
     "delete_cmd_postfix": ") ",
     "delete_cmd_prefix": "rm(",
     "library": "var_list.r",
     "varRefreshCmd": "cat(var_dic_list()) "
    }
   },
   "types_to_exclude": [
    "module",
    "function",
    "builtin_function_or_method",
    "instance",
    "_Feature"
   ],
   "window_display": false
  }
 },
 "nbformat": 4,
 "nbformat_minor": 5
}
