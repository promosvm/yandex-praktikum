{
 "cells": [
  {
   "cell_type": "markdown",
   "metadata": {},
   "source": [
    "# Определение стоимости автомобилей"
   ]
  },
  {
   "cell_type": "markdown",
   "metadata": {},
   "source": [
    "Сервис по продаже автомобилей с пробегом «Не бит, не крашен» разрабатывает приложение для привлечения новых клиентов. В нём можно быстро узнать рыночную стоимость своего автомобиля. В вашем распоряжении исторические данные: технические характеристики, комплектации и цены автомобилей. Вам нужно построить модель для определения стоимости. \n",
    "\n",
    "Заказчику важны:\n",
    "\n",
    "- качество предсказания;\n",
    "- скорость предсказания;\n",
    "- время обучения."
   ]
  },
  {
   "cell_type": "markdown",
   "metadata": {
    "tags": []
   },
   "source": [
    "## Подготовка данных"
   ]
  },
  {
   "cell_type": "markdown",
   "metadata": {
    "tags": []
   },
   "source": [
    "### Загрузка данных"
   ]
  },
  {
   "cell_type": "code",
   "execution_count": 1,
   "metadata": {},
   "outputs": [],
   "source": [
    "import numpy as np\n",
    "import pandas as pd\n",
    "import time as time\n",
    "\n",
    "import matplotlib.pyplot as plt\n",
    "import seaborn as sns\n",
    "\n",
    "import xgboost as xgb\n",
    "\n",
    "from catboost import CatBoostRegressor, Pool\n",
    "\n",
    "from lightgbm import LGBMRegressor\n",
    "\n",
    "from sklearn import linear_model\n",
    "\n",
    "from sklearn.ensemble import RandomForestRegressor\n",
    "from sklearn.ensemble import GradientBoostingRegressor\n",
    "\n",
    "from sklearn.tree import DecisionTreeRegressor\n",
    "\n",
    "from sklearn.model_selection import cross_val_score, cross_val_predict\n",
    "from sklearn.model_selection import GridSearchCV\n",
    "\n",
    "from sklearn.metrics import mean_squared_error\n",
    "\n",
    "from sklearn.pipeline import Pipeline\n",
    "from sklearn.pipeline import FeatureUnion\n",
    "\n",
    "from sklearn.preprocessing import LabelEncoder\n",
    "from sklearn.preprocessing import MinMaxScaler\n",
    "from sklearn.preprocessing import OneHotEncoder\n",
    "from sklearn.preprocessing import OrdinalEncoder\n",
    "from sklearn.preprocessing import FunctionTransformer\n",
    "\n",
    "\n",
    "\n",
    "from sklearn.model_selection import train_test_split"
   ]
  },
  {
   "cell_type": "code",
   "execution_count": 2,
   "metadata": {},
   "outputs": [],
   "source": [
    "#вариант чтобы открыть файл:\n",
    "try:\n",
    "    df = pd.read_csv(\"autos.csv\")\n",
    "except:\n",
    "    df = pd.read_csv(\"/datasets/autos.csv\")"
   ]
  },
  {
   "cell_type": "code",
   "execution_count": 3,
   "metadata": {},
   "outputs": [
    {
     "data": {
      "text/html": [
       "<div>\n",
       "<style scoped>\n",
       "    .dataframe tbody tr th:only-of-type {\n",
       "        vertical-align: middle;\n",
       "    }\n",
       "\n",
       "    .dataframe tbody tr th {\n",
       "        vertical-align: top;\n",
       "    }\n",
       "\n",
       "    .dataframe thead th {\n",
       "        text-align: right;\n",
       "    }\n",
       "</style>\n",
       "<table border=\"1\" class=\"dataframe\">\n",
       "  <thead>\n",
       "    <tr style=\"text-align: right;\">\n",
       "      <th></th>\n",
       "      <th>DateCrawled</th>\n",
       "      <th>Price</th>\n",
       "      <th>VehicleType</th>\n",
       "      <th>RegistrationYear</th>\n",
       "      <th>Gearbox</th>\n",
       "      <th>Power</th>\n",
       "      <th>Model</th>\n",
       "      <th>Kilometer</th>\n",
       "      <th>RegistrationMonth</th>\n",
       "      <th>FuelType</th>\n",
       "      <th>Brand</th>\n",
       "      <th>NotRepaired</th>\n",
       "      <th>DateCreated</th>\n",
       "      <th>NumberOfPictures</th>\n",
       "      <th>PostalCode</th>\n",
       "      <th>LastSeen</th>\n",
       "    </tr>\n",
       "  </thead>\n",
       "  <tbody>\n",
       "    <tr>\n",
       "      <th>0</th>\n",
       "      <td>2016-03-24 11:52:17</td>\n",
       "      <td>480</td>\n",
       "      <td>NaN</td>\n",
       "      <td>1993</td>\n",
       "      <td>manual</td>\n",
       "      <td>0</td>\n",
       "      <td>golf</td>\n",
       "      <td>150000</td>\n",
       "      <td>0</td>\n",
       "      <td>petrol</td>\n",
       "      <td>volkswagen</td>\n",
       "      <td>NaN</td>\n",
       "      <td>2016-03-24 00:00:00</td>\n",
       "      <td>0</td>\n",
       "      <td>70435</td>\n",
       "      <td>2016-04-07 03:16:57</td>\n",
       "    </tr>\n",
       "    <tr>\n",
       "      <th>1</th>\n",
       "      <td>2016-03-24 10:58:45</td>\n",
       "      <td>18300</td>\n",
       "      <td>coupe</td>\n",
       "      <td>2011</td>\n",
       "      <td>manual</td>\n",
       "      <td>190</td>\n",
       "      <td>NaN</td>\n",
       "      <td>125000</td>\n",
       "      <td>5</td>\n",
       "      <td>gasoline</td>\n",
       "      <td>audi</td>\n",
       "      <td>yes</td>\n",
       "      <td>2016-03-24 00:00:00</td>\n",
       "      <td>0</td>\n",
       "      <td>66954</td>\n",
       "      <td>2016-04-07 01:46:50</td>\n",
       "    </tr>\n",
       "    <tr>\n",
       "      <th>2</th>\n",
       "      <td>2016-03-14 12:52:21</td>\n",
       "      <td>9800</td>\n",
       "      <td>suv</td>\n",
       "      <td>2004</td>\n",
       "      <td>auto</td>\n",
       "      <td>163</td>\n",
       "      <td>grand</td>\n",
       "      <td>125000</td>\n",
       "      <td>8</td>\n",
       "      <td>gasoline</td>\n",
       "      <td>jeep</td>\n",
       "      <td>NaN</td>\n",
       "      <td>2016-03-14 00:00:00</td>\n",
       "      <td>0</td>\n",
       "      <td>90480</td>\n",
       "      <td>2016-04-05 12:47:46</td>\n",
       "    </tr>\n",
       "    <tr>\n",
       "      <th>3</th>\n",
       "      <td>2016-03-17 16:54:04</td>\n",
       "      <td>1500</td>\n",
       "      <td>small</td>\n",
       "      <td>2001</td>\n",
       "      <td>manual</td>\n",
       "      <td>75</td>\n",
       "      <td>golf</td>\n",
       "      <td>150000</td>\n",
       "      <td>6</td>\n",
       "      <td>petrol</td>\n",
       "      <td>volkswagen</td>\n",
       "      <td>no</td>\n",
       "      <td>2016-03-17 00:00:00</td>\n",
       "      <td>0</td>\n",
       "      <td>91074</td>\n",
       "      <td>2016-03-17 17:40:17</td>\n",
       "    </tr>\n",
       "    <tr>\n",
       "      <th>4</th>\n",
       "      <td>2016-03-31 17:25:20</td>\n",
       "      <td>3600</td>\n",
       "      <td>small</td>\n",
       "      <td>2008</td>\n",
       "      <td>manual</td>\n",
       "      <td>69</td>\n",
       "      <td>fabia</td>\n",
       "      <td>90000</td>\n",
       "      <td>7</td>\n",
       "      <td>gasoline</td>\n",
       "      <td>skoda</td>\n",
       "      <td>no</td>\n",
       "      <td>2016-03-31 00:00:00</td>\n",
       "      <td>0</td>\n",
       "      <td>60437</td>\n",
       "      <td>2016-04-06 10:17:21</td>\n",
       "    </tr>\n",
       "  </tbody>\n",
       "</table>\n",
       "</div>"
      ],
      "text/plain": [
       "           DateCrawled  Price VehicleType  RegistrationYear Gearbox  Power  \\\n",
       "0  2016-03-24 11:52:17    480         NaN              1993  manual      0   \n",
       "1  2016-03-24 10:58:45  18300       coupe              2011  manual    190   \n",
       "2  2016-03-14 12:52:21   9800         suv              2004    auto    163   \n",
       "3  2016-03-17 16:54:04   1500       small              2001  manual     75   \n",
       "4  2016-03-31 17:25:20   3600       small              2008  manual     69   \n",
       "\n",
       "   Model  Kilometer  RegistrationMonth  FuelType       Brand NotRepaired  \\\n",
       "0   golf     150000                  0    petrol  volkswagen         NaN   \n",
       "1    NaN     125000                  5  gasoline        audi         yes   \n",
       "2  grand     125000                  8  gasoline        jeep         NaN   \n",
       "3   golf     150000                  6    petrol  volkswagen          no   \n",
       "4  fabia      90000                  7  gasoline       skoda          no   \n",
       "\n",
       "           DateCreated  NumberOfPictures  PostalCode             LastSeen  \n",
       "0  2016-03-24 00:00:00                 0       70435  2016-04-07 03:16:57  \n",
       "1  2016-03-24 00:00:00                 0       66954  2016-04-07 01:46:50  \n",
       "2  2016-03-14 00:00:00                 0       90480  2016-04-05 12:47:46  \n",
       "3  2016-03-17 00:00:00                 0       91074  2016-03-17 17:40:17  \n",
       "4  2016-03-31 00:00:00                 0       60437  2016-04-06 10:17:21  "
      ]
     },
     "execution_count": 3,
     "metadata": {},
     "output_type": "execute_result"
    }
   ],
   "source": [
    "df.head(5)"
   ]
  },
  {
   "cell_type": "markdown",
   "metadata": {},
   "source": [
    "Посмотрим на количество столбцов и строк"
   ]
  },
  {
   "cell_type": "code",
   "execution_count": 4,
   "metadata": {},
   "outputs": [
    {
     "data": {
      "text/plain": [
       "(354369, 16)"
      ]
     },
     "execution_count": 4,
     "metadata": {},
     "output_type": "execute_result"
    }
   ],
   "source": [
    "df.shape"
   ]
  },
  {
   "cell_type": "markdown",
   "metadata": {},
   "source": [
    "Таблица имеет 354369 строк и 16 столбцов."
   ]
  },
  {
   "cell_type": "code",
   "execution_count": 5,
   "metadata": {},
   "outputs": [
    {
     "name": "stdout",
     "output_type": "stream",
     "text": [
      "<class 'pandas.core.frame.DataFrame'>\n",
      "RangeIndex: 354369 entries, 0 to 354368\n",
      "Data columns (total 16 columns):\n",
      " #   Column             Non-Null Count   Dtype \n",
      "---  ------             --------------   ----- \n",
      " 0   DateCrawled        354369 non-null  object\n",
      " 1   Price              354369 non-null  int64 \n",
      " 2   VehicleType        316879 non-null  object\n",
      " 3   RegistrationYear   354369 non-null  int64 \n",
      " 4   Gearbox            334536 non-null  object\n",
      " 5   Power              354369 non-null  int64 \n",
      " 6   Model              334664 non-null  object\n",
      " 7   Kilometer          354369 non-null  int64 \n",
      " 8   RegistrationMonth  354369 non-null  int64 \n",
      " 9   FuelType           321474 non-null  object\n",
      " 10  Brand              354369 non-null  object\n",
      " 11  NotRepaired        283215 non-null  object\n",
      " 12  DateCreated        354369 non-null  object\n",
      " 13  NumberOfPictures   354369 non-null  int64 \n",
      " 14  PostalCode         354369 non-null  int64 \n",
      " 15  LastSeen           354369 non-null  object\n",
      "dtypes: int64(7), object(9)\n",
      "memory usage: 43.3+ MB\n"
     ]
    }
   ],
   "source": [
    "df.info()"
   ]
  },
  {
   "cell_type": "markdown",
   "metadata": {},
   "source": [
    "Что мы исправим:\n",
    "\n",
    "    - столбец DateCrawled, RegistrationYear, RegistrationMonth, DateCreated, LastSeen исправим типы данных - сделаем тип date\n",
    "    \n",
    "    - уберем везде верхний регистр в названии столбцах\n",
    "    \n",
    "    - поставим нижние пробелы между словами в названии столбцах"
   ]
  },
  {
   "cell_type": "markdown",
   "metadata": {},
   "source": [
    "Изменим тип данных в столбцах DateCrawled, DateCreated, LastSeen с object на datetime64"
   ]
  },
  {
   "cell_type": "code",
   "execution_count": 6,
   "metadata": {},
   "outputs": [],
   "source": [
    "df = df.astype({\"DateCrawled\": \"datetime64[ns]\"})\n",
    "df = df.astype({\"DateCreated\": \"datetime64[ns]\"})\n",
    "df = df.astype({\"LastSeen\": \"datetime64[ns]\"}, errors=\"ignore\")"
   ]
  },
  {
   "cell_type": "markdown",
   "metadata": {},
   "source": [
    "В остальных столбцах изменим тип данных с int64 на int32 что-бы меньше занимали места"
   ]
  },
  {
   "cell_type": "code",
   "execution_count": 7,
   "metadata": {},
   "outputs": [],
   "source": [
    "df[\n",
    "    [\n",
    "        \"Price\",\n",
    "        \"RegistrationYear\",\n",
    "        \"Power\",\n",
    "        \"Kilometer\",\n",
    "        \"RegistrationMonth\",\n",
    "        \"NumberOfPictures\",\n",
    "        \"PostalCode\",\n",
    "    ]\n",
    "] = df[\n",
    "    [\n",
    "        \"Price\",\n",
    "        \"RegistrationYear\",\n",
    "        \"Power\",\n",
    "        \"Kilometer\",\n",
    "        \"RegistrationMonth\",\n",
    "        \"NumberOfPictures\",\n",
    "        \"PostalCode\",\n",
    "    ]\n",
    "].astype(\n",
    "    \"int32\"\n",
    ")"
   ]
  },
  {
   "cell_type": "code",
   "execution_count": 8,
   "metadata": {
    "scrolled": true
   },
   "outputs": [
    {
     "name": "stderr",
     "output_type": "stream",
     "text": [
      "/tmp/ipykernel_27819/3300380156.py:2: FutureWarning: The default value of regex will change from True to False in a future version.\n",
      "  df.columns.str.replace(\n"
     ]
    }
   ],
   "source": [
    "df.columns = (\n",
    "    df.columns.str.replace(\n",
    "        r\"([A-Z])\", r\" \\1\").str.lower().str.replace(\" \", \"_\").str[1:]\n",
    ")"
   ]
  },
  {
   "cell_type": "markdown",
   "metadata": {},
   "source": [
    "Проверим что все ОК"
   ]
  },
  {
   "cell_type": "code",
   "execution_count": 9,
   "metadata": {},
   "outputs": [
    {
     "name": "stdout",
     "output_type": "stream",
     "text": [
      "<class 'pandas.core.frame.DataFrame'>\n",
      "RangeIndex: 354369 entries, 0 to 354368\n",
      "Data columns (total 16 columns):\n",
      " #   Column              Non-Null Count   Dtype         \n",
      "---  ------              --------------   -----         \n",
      " 0   date_crawled        354369 non-null  datetime64[ns]\n",
      " 1   price               354369 non-null  int32         \n",
      " 2   vehicle_type        316879 non-null  object        \n",
      " 3   registration_year   354369 non-null  int32         \n",
      " 4   gearbox             334536 non-null  object        \n",
      " 5   power               354369 non-null  int32         \n",
      " 6   model               334664 non-null  object        \n",
      " 7   kilometer           354369 non-null  int32         \n",
      " 8   registration_month  354369 non-null  int32         \n",
      " 9   fuel_type           321474 non-null  object        \n",
      " 10  brand               354369 non-null  object        \n",
      " 11  not_repaired        283215 non-null  object        \n",
      " 12  date_created        354369 non-null  datetime64[ns]\n",
      " 13  number_of_pictures  354369 non-null  int32         \n",
      " 14  postal_code         354369 non-null  int32         \n",
      " 15  last_seen           354369 non-null  datetime64[ns]\n",
      "dtypes: datetime64[ns](3), int32(7), object(6)\n",
      "memory usage: 33.8+ MB\n"
     ]
    }
   ],
   "source": [
    "df.info()"
   ]
  },
  {
   "cell_type": "markdown",
   "metadata": {
    "tags": []
   },
   "source": [
    " Ну вот и около 10 мегабайт освободили"
   ]
  },
  {
   "cell_type": "markdown",
   "metadata": {
    "tags": []
   },
   "source": [
    "#### Вывод"
   ]
  },
  {
   "cell_type": "markdown",
   "metadata": {},
   "source": [
    "Данные состоят из 354369 строк и 16 столбцов, содержат типы данных datetime64, int32 и object. Если посмотреть на вывод info то мы видим пропущенные значения но их природу разберем в следующем цикле анализа."
   ]
  },
  {
   "cell_type": "markdown",
   "metadata": {},
   "source": [
    "### Исследовательский анализ данных"
   ]
  },
  {
   "cell_type": "markdown",
   "metadata": {},
   "source": [
    "Проверим на отсутствие дубликатов"
   ]
  },
  {
   "cell_type": "code",
   "execution_count": 10,
   "metadata": {},
   "outputs": [
    {
     "data": {
      "text/plain": [
       "4"
      ]
     },
     "execution_count": 10,
     "metadata": {},
     "output_type": "execute_result"
    }
   ],
   "source": [
    "df.duplicated().sum()"
   ]
  },
  {
   "cell_type": "markdown",
   "metadata": {},
   "source": [
    "Странно, только 4 значения посмотрим что это за дубликаты"
   ]
  },
  {
   "cell_type": "code",
   "execution_count": 11,
   "metadata": {},
   "outputs": [
    {
     "data": {
      "text/html": [
       "<div>\n",
       "<style scoped>\n",
       "    .dataframe tbody tr th:only-of-type {\n",
       "        vertical-align: middle;\n",
       "    }\n",
       "\n",
       "    .dataframe tbody tr th {\n",
       "        vertical-align: top;\n",
       "    }\n",
       "\n",
       "    .dataframe thead th {\n",
       "        text-align: right;\n",
       "    }\n",
       "</style>\n",
       "<table border=\"1\" class=\"dataframe\">\n",
       "  <thead>\n",
       "    <tr style=\"text-align: right;\">\n",
       "      <th></th>\n",
       "      <th>date_crawled</th>\n",
       "      <th>price</th>\n",
       "      <th>vehicle_type</th>\n",
       "      <th>registration_year</th>\n",
       "      <th>gearbox</th>\n",
       "      <th>power</th>\n",
       "      <th>model</th>\n",
       "      <th>kilometer</th>\n",
       "      <th>registration_month</th>\n",
       "      <th>fuel_type</th>\n",
       "      <th>brand</th>\n",
       "      <th>not_repaired</th>\n",
       "      <th>date_created</th>\n",
       "      <th>number_of_pictures</th>\n",
       "      <th>postal_code</th>\n",
       "      <th>last_seen</th>\n",
       "    </tr>\n",
       "  </thead>\n",
       "  <tbody>\n",
       "    <tr>\n",
       "      <th>171088</th>\n",
       "      <td>2016-03-08 18:42:48</td>\n",
       "      <td>1799</td>\n",
       "      <td>coupe</td>\n",
       "      <td>1999</td>\n",
       "      <td>auto</td>\n",
       "      <td>193</td>\n",
       "      <td>clk</td>\n",
       "      <td>20000</td>\n",
       "      <td>7</td>\n",
       "      <td>petrol</td>\n",
       "      <td>mercedes_benz</td>\n",
       "      <td>no</td>\n",
       "      <td>2016-03-08</td>\n",
       "      <td>0</td>\n",
       "      <td>89518</td>\n",
       "      <td>2016-03-09 09:46:57</td>\n",
       "    </tr>\n",
       "    <tr>\n",
       "      <th>231258</th>\n",
       "      <td>2016-03-28 00:56:10</td>\n",
       "      <td>1000</td>\n",
       "      <td>small</td>\n",
       "      <td>2002</td>\n",
       "      <td>manual</td>\n",
       "      <td>83</td>\n",
       "      <td>other</td>\n",
       "      <td>150000</td>\n",
       "      <td>1</td>\n",
       "      <td>petrol</td>\n",
       "      <td>suzuki</td>\n",
       "      <td>no</td>\n",
       "      <td>2016-03-28</td>\n",
       "      <td>0</td>\n",
       "      <td>66589</td>\n",
       "      <td>2016-03-28 08:46:21</td>\n",
       "    </tr>\n",
       "    <tr>\n",
       "      <th>258109</th>\n",
       "      <td>2016-04-03 09:01:15</td>\n",
       "      <td>4699</td>\n",
       "      <td>coupe</td>\n",
       "      <td>2003</td>\n",
       "      <td>auto</td>\n",
       "      <td>218</td>\n",
       "      <td>clk</td>\n",
       "      <td>125000</td>\n",
       "      <td>6</td>\n",
       "      <td>petrol</td>\n",
       "      <td>mercedes_benz</td>\n",
       "      <td>yes</td>\n",
       "      <td>2016-04-03</td>\n",
       "      <td>0</td>\n",
       "      <td>75196</td>\n",
       "      <td>2016-04-07 09:44:54</td>\n",
       "    </tr>\n",
       "    <tr>\n",
       "      <th>325651</th>\n",
       "      <td>2016-03-18 18:46:15</td>\n",
       "      <td>1999</td>\n",
       "      <td>wagon</td>\n",
       "      <td>2001</td>\n",
       "      <td>manual</td>\n",
       "      <td>131</td>\n",
       "      <td>passat</td>\n",
       "      <td>150000</td>\n",
       "      <td>7</td>\n",
       "      <td>gasoline</td>\n",
       "      <td>volkswagen</td>\n",
       "      <td>no</td>\n",
       "      <td>2016-03-18</td>\n",
       "      <td>0</td>\n",
       "      <td>36391</td>\n",
       "      <td>2016-03-18 18:46:15</td>\n",
       "    </tr>\n",
       "  </tbody>\n",
       "</table>\n",
       "</div>"
      ],
      "text/plain": [
       "              date_crawled  price vehicle_type  registration_year gearbox  \\\n",
       "171088 2016-03-08 18:42:48   1799        coupe               1999    auto   \n",
       "231258 2016-03-28 00:56:10   1000        small               2002  manual   \n",
       "258109 2016-04-03 09:01:15   4699        coupe               2003    auto   \n",
       "325651 2016-03-18 18:46:15   1999        wagon               2001  manual   \n",
       "\n",
       "        power   model  kilometer  registration_month fuel_type          brand  \\\n",
       "171088    193     clk      20000                   7    petrol  mercedes_benz   \n",
       "231258     83   other     150000                   1    petrol         suzuki   \n",
       "258109    218     clk     125000                   6    petrol  mercedes_benz   \n",
       "325651    131  passat     150000                   7  gasoline     volkswagen   \n",
       "\n",
       "       not_repaired date_created  number_of_pictures  postal_code  \\\n",
       "171088           no   2016-03-08                   0        89518   \n",
       "231258           no   2016-03-28                   0        66589   \n",
       "258109          yes   2016-04-03                   0        75196   \n",
       "325651           no   2016-03-18                   0        36391   \n",
       "\n",
       "                 last_seen  \n",
       "171088 2016-03-09 09:46:57  \n",
       "231258 2016-03-28 08:46:21  \n",
       "258109 2016-04-07 09:44:54  \n",
       "325651 2016-03-18 18:46:15  "
      ]
     },
     "execution_count": 11,
     "metadata": {},
     "output_type": "execute_result"
    }
   ],
   "source": [
    "df.loc[df.duplicated()]"
   ]
  },
  {
   "cell_type": "markdown",
   "metadata": {},
   "source": [
    "Удалим дубликаты"
   ]
  },
  {
   "cell_type": "code",
   "execution_count": 12,
   "metadata": {},
   "outputs": [],
   "source": [
    "df = df.drop_duplicates().reset_index(drop=True)"
   ]
  },
  {
   "cell_type": "markdown",
   "metadata": {},
   "source": [
    "Проверим что дубликаты удалены"
   ]
  },
  {
   "cell_type": "code",
   "execution_count": 13,
   "metadata": {},
   "outputs": [
    {
     "data": {
      "text/plain": [
       "0"
      ]
     },
     "execution_count": 13,
     "metadata": {},
     "output_type": "execute_result"
    }
   ],
   "source": [
    "df.duplicated().sum()"
   ]
  },
  {
   "cell_type": "markdown",
   "metadata": {
    "tags": []
   },
   "source": [
    "Проверим данные на наличие пропущенных значений. Хотя в методе info() уже видно что пропущенных значений нет."
   ]
  },
  {
   "cell_type": "code",
   "execution_count": 14,
   "metadata": {
    "scrolled": true,
    "tags": []
   },
   "outputs": [
    {
     "data": {
      "text/plain": [
       "not_repaired          0.200793\n",
       "vehicle_type          0.105795\n",
       "fuel_type             0.092828\n",
       "gearbox               0.055968\n",
       "model                 0.055607\n",
       "date_crawled          0.000000\n",
       "price                 0.000000\n",
       "registration_year     0.000000\n",
       "power                 0.000000\n",
       "kilometer             0.000000\n",
       "registration_month    0.000000\n",
       "brand                 0.000000\n",
       "date_created          0.000000\n",
       "number_of_pictures    0.000000\n",
       "postal_code           0.000000\n",
       "last_seen             0.000000\n",
       "dtype: float64"
      ]
     },
     "execution_count": 14,
     "metadata": {},
     "output_type": "execute_result"
    }
   ],
   "source": [
    "df.isna().mean().sort_values(ascending=False)"
   ]
  },
  {
   "cell_type": "markdown",
   "metadata": {},
   "source": [
    "Имеются пропущенные значения далее посмотрим на них более подробно."
   ]
  },
  {
   "cell_type": "markdown",
   "metadata": {},
   "source": [
    "---"
   ]
  },
  {
   "cell_type": "markdown",
   "metadata": {},
   "source": [
    "Посмотрим на столбец **date_crawled** - дата скачивания анкеты из базы"
   ]
  },
  {
   "cell_type": "code",
   "execution_count": 15,
   "metadata": {},
   "outputs": [
    {
     "data": {
      "text/plain": [
       "min   2016-03-05 14:06:22\n",
       "max   2016-04-07 14:36:58\n",
       "Name: date_crawled, dtype: datetime64[ns]"
      ]
     },
     "execution_count": 15,
     "metadata": {},
     "output_type": "execute_result"
    }
   ],
   "source": [
    "df['date_crawled'].agg(['min', 'max'])"
   ]
  },
  {
   "cell_type": "markdown",
   "metadata": {},
   "source": [
    "Данные выгружались в течение одного месяца"
   ]
  },
  {
   "cell_type": "markdown",
   "metadata": {},
   "source": [
    "----"
   ]
  },
  {
   "cell_type": "markdown",
   "metadata": {},
   "source": [
    "Посмотрим на столбец **price**"
   ]
  },
  {
   "cell_type": "code",
   "execution_count": 16,
   "metadata": {},
   "outputs": [
    {
     "data": {
      "text/plain": [
       "min        0\n",
       "max    20000\n",
       "Name: price, dtype: int64"
      ]
     },
     "execution_count": 16,
     "metadata": {},
     "output_type": "execute_result"
    }
   ],
   "source": [
    "df['price'].agg(['min', 'max'])"
   ]
  },
  {
   "cell_type": "markdown",
   "metadata": {},
   "source": [
    "Минимальная цена равна 0 максимальная 20000."
   ]
  },
  {
   "cell_type": "code",
   "execution_count": 17,
   "metadata": {
    "scrolled": true
   },
   "outputs": [
    {
     "data": {
      "text/plain": [
       "count    354365.000000\n",
       "mean       4416.679830\n",
       "std        4514.176349\n",
       "min           0.000000\n",
       "25%        1050.000000\n",
       "50%        2700.000000\n",
       "75%        6400.000000\n",
       "max       20000.000000\n",
       "Name: price, dtype: float64"
      ]
     },
     "execution_count": 17,
     "metadata": {},
     "output_type": "execute_result"
    }
   ],
   "source": [
    "df['price'].describe()"
   ]
  },
  {
   "cell_type": "code",
   "execution_count": 18,
   "metadata": {},
   "outputs": [
    {
     "data": {
      "image/png": "[encoded data removed]",
      "text/plain": [
       "<Figure size 1152x360 with 1 Axes>"
      ]
     },
     "metadata": {
      "needs_background": "light"
     },
     "output_type": "display_data"
    }
   ],
   "source": [
    "plt.figure(figsize=(16, 5))\n",
    "df.boxplot(['price']);"
   ]
  },
  {
   "cell_type": "code",
   "execution_count": 19,
   "metadata": {
    "scrolled": true
   },
   "outputs": [
    {
     "data": {
      "text/html": [
       "<div>\n",
       "<style scoped>\n",
       "    .dataframe tbody tr th:only-of-type {\n",
       "        vertical-align: middle;\n",
       "    }\n",
       "\n",
       "    .dataframe tbody tr th {\n",
       "        vertical-align: top;\n",
       "    }\n",
       "\n",
       "    .dataframe thead th {\n",
       "        text-align: right;\n",
       "    }\n",
       "</style>\n",
       "<table border=\"1\" class=\"dataframe\">\n",
       "  <thead>\n",
       "    <tr style=\"text-align: right;\">\n",
       "      <th></th>\n",
       "      <th>date_crawled</th>\n",
       "      <th>price</th>\n",
       "      <th>vehicle_type</th>\n",
       "      <th>registration_year</th>\n",
       "      <th>gearbox</th>\n",
       "      <th>power</th>\n",
       "      <th>model</th>\n",
       "      <th>kilometer</th>\n",
       "      <th>registration_month</th>\n",
       "      <th>fuel_type</th>\n",
       "      <th>brand</th>\n",
       "      <th>not_repaired</th>\n",
       "      <th>date_created</th>\n",
       "      <th>number_of_pictures</th>\n",
       "      <th>postal_code</th>\n",
       "      <th>last_seen</th>\n",
       "    </tr>\n",
       "  </thead>\n",
       "  <tbody>\n",
       "    <tr>\n",
       "      <th>7</th>\n",
       "      <td>2016-03-21 18:54:38</td>\n",
       "      <td>0</td>\n",
       "      <td>sedan</td>\n",
       "      <td>1980</td>\n",
       "      <td>manual</td>\n",
       "      <td>50</td>\n",
       "      <td>other</td>\n",
       "      <td>40000</td>\n",
       "      <td>7</td>\n",
       "      <td>petrol</td>\n",
       "      <td>volkswagen</td>\n",
       "      <td>no</td>\n",
       "      <td>2016-03-21</td>\n",
       "      <td>0</td>\n",
       "      <td>19348</td>\n",
       "      <td>2016-03-25 16:47:58</td>\n",
       "    </tr>\n",
       "    <tr>\n",
       "      <th>40</th>\n",
       "      <td>2016-03-26 22:06:17</td>\n",
       "      <td>0</td>\n",
       "      <td>NaN</td>\n",
       "      <td>1990</td>\n",
       "      <td>NaN</td>\n",
       "      <td>0</td>\n",
       "      <td>corsa</td>\n",
       "      <td>150000</td>\n",
       "      <td>1</td>\n",
       "      <td>petrol</td>\n",
       "      <td>opel</td>\n",
       "      <td>NaN</td>\n",
       "      <td>2016-03-26</td>\n",
       "      <td>0</td>\n",
       "      <td>56412</td>\n",
       "      <td>2016-03-27 17:43:34</td>\n",
       "    </tr>\n",
       "    <tr>\n",
       "      <th>111</th>\n",
       "      <td>2016-03-19 18:40:12</td>\n",
       "      <td>0</td>\n",
       "      <td>NaN</td>\n",
       "      <td>2017</td>\n",
       "      <td>manual</td>\n",
       "      <td>0</td>\n",
       "      <td>golf</td>\n",
       "      <td>5000</td>\n",
       "      <td>12</td>\n",
       "      <td>petrol</td>\n",
       "      <td>volkswagen</td>\n",
       "      <td>NaN</td>\n",
       "      <td>2016-03-19</td>\n",
       "      <td>0</td>\n",
       "      <td>21698</td>\n",
       "      <td>2016-04-01 08:47:05</td>\n",
       "    </tr>\n",
       "    <tr>\n",
       "      <th>115</th>\n",
       "      <td>2016-03-20 18:53:27</td>\n",
       "      <td>0</td>\n",
       "      <td>small</td>\n",
       "      <td>1999</td>\n",
       "      <td>NaN</td>\n",
       "      <td>0</td>\n",
       "      <td>NaN</td>\n",
       "      <td>5000</td>\n",
       "      <td>0</td>\n",
       "      <td>petrol</td>\n",
       "      <td>volkswagen</td>\n",
       "      <td>NaN</td>\n",
       "      <td>2016-03-20</td>\n",
       "      <td>0</td>\n",
       "      <td>37520</td>\n",
       "      <td>2016-04-07 02:45:22</td>\n",
       "    </tr>\n",
       "    <tr>\n",
       "      <th>152</th>\n",
       "      <td>2016-03-11 18:55:53</td>\n",
       "      <td>0</td>\n",
       "      <td>bus</td>\n",
       "      <td>2004</td>\n",
       "      <td>manual</td>\n",
       "      <td>101</td>\n",
       "      <td>meriva</td>\n",
       "      <td>150000</td>\n",
       "      <td>10</td>\n",
       "      <td>lpg</td>\n",
       "      <td>opel</td>\n",
       "      <td>yes</td>\n",
       "      <td>2016-03-11</td>\n",
       "      <td>0</td>\n",
       "      <td>27432</td>\n",
       "      <td>2016-03-12 23:47:10</td>\n",
       "    </tr>\n",
       "  </tbody>\n",
       "</table>\n",
       "</div>"
      ],
      "text/plain": [
       "           date_crawled  price vehicle_type  registration_year gearbox  power  \\\n",
       "7   2016-03-21 18:54:38      0        sedan               1980  manual     50   \n",
       "40  2016-03-26 22:06:17      0          NaN               1990     NaN      0   \n",
       "111 2016-03-19 18:40:12      0          NaN               2017  manual      0   \n",
       "115 2016-03-20 18:53:27      0        small               1999     NaN      0   \n",
       "152 2016-03-11 18:55:53      0          bus               2004  manual    101   \n",
       "\n",
       "      model  kilometer  registration_month fuel_type       brand not_repaired  \\\n",
       "7     other      40000                   7    petrol  volkswagen           no   \n",
       "40    corsa     150000                   1    petrol        opel          NaN   \n",
       "111    golf       5000                  12    petrol  volkswagen          NaN   \n",
       "115     NaN       5000                   0    petrol  volkswagen          NaN   \n",
       "152  meriva     150000                  10       lpg        opel          yes   \n",
       "\n",
       "    date_created  number_of_pictures  postal_code           last_seen  \n",
       "7     2016-03-21                   0        19348 2016-03-25 16:47:58  \n",
       "40    2016-03-26                   0        56412 2016-03-27 17:43:34  \n",
       "111   2016-03-19                   0        21698 2016-04-01 08:47:05  \n",
       "115   2016-03-20                   0        37520 2016-04-07 02:45:22  \n",
       "152   2016-03-11                   0        27432 2016-03-12 23:47:10  "
      ]
     },
     "execution_count": 19,
     "metadata": {},
     "output_type": "execute_result"
    }
   ],
   "source": [
    "df.loc[df['price'] == 0].head(5)"
   ]
  },
  {
   "cell_type": "markdown",
   "metadata": {},
   "source": [
    "Как то странно, цена машины не может быть равна 0, удалим эти данные."
   ]
  },
  {
   "cell_type": "code",
   "execution_count": 20,
   "metadata": {},
   "outputs": [
    {
     "data": {
      "text/plain": [
       "10772"
      ]
     },
     "execution_count": 20,
     "metadata": {},
     "output_type": "execute_result"
    }
   ],
   "source": [
    "df.loc[df['price'] == 0]['price'].count()"
   ]
  },
  {
   "cell_type": "code",
   "execution_count": 21,
   "metadata": {},
   "outputs": [
    {
     "data": {
      "text/plain": [
       "0.030398035923412302"
      ]
     },
     "execution_count": 21,
     "metadata": {},
     "output_type": "execute_result"
    }
   ],
   "source": [
    "df.loc[df['price'] == 0]['price'].count()/len(df)"
   ]
  },
  {
   "cell_type": "code",
   "execution_count": 22,
   "metadata": {},
   "outputs": [],
   "source": [
    "df = df.query('price > 0')"
   ]
  },
  {
   "cell_type": "markdown",
   "metadata": {},
   "source": [
    "---"
   ]
  },
  {
   "cell_type": "markdown",
   "metadata": {},
   "source": [
    "Просмотрим на значения в столбце **registration_year**"
   ]
  },
  {
   "cell_type": "code",
   "execution_count": 23,
   "metadata": {
    "scrolled": true
   },
   "outputs": [
    {
     "data": {
      "text/plain": [
       "min    1000\n",
       "max    9999\n",
       "Name: registration_year, dtype: int64"
      ]
     },
     "execution_count": 23,
     "metadata": {},
     "output_type": "execute_result"
    }
   ],
   "source": [
    "df['registration_year'].agg(['min', 'max'])"
   ]
  },
  {
   "cell_type": "markdown",
   "metadata": {},
   "source": [
    "Максимальное значения 1000, минимальное 9999, что не может быть."
   ]
  },
  {
   "cell_type": "code",
   "execution_count": 24,
   "metadata": {},
   "outputs": [
    {
     "data": {
      "image/png": "[encoded data removed]",
      "text/plain": [
       "<Figure size 1152x360 with 1 Axes>"
      ]
     },
     "metadata": {
      "needs_background": "light"
     },
     "output_type": "display_data"
    }
   ],
   "source": [
    "plt.figure(figsize=(16, 5))\n",
    "df.boxplot(['registration_year']);"
   ]
  },
  {
   "cell_type": "markdown",
   "metadata": {},
   "source": [
    "Итак первые номера начали регистрировать в 1899 г. Значит все что меньше мы удалим вот ссылка на статью \n",
    "[ссылка](https://www.drive2.ru/b/499040841130574252/#:~:text=Имеются%20данные%2C%20что%20первые%20автономера,столице%20Франции%20в%201893%20году)"
   ]
  },
  {
   "cell_type": "markdown",
   "metadata": {},
   "source": [
    "Так опредилимся с верхней границей она будет равна самой последней дате создания анкеты в столбце DateCreated. "
   ]
  },
  {
   "cell_type": "code",
   "execution_count": 25,
   "metadata": {
    "scrolled": true
   },
   "outputs": [
    {
     "data": {
      "text/plain": [
       "Timestamp('2016-04-07 00:00:00')"
      ]
     },
     "execution_count": 25,
     "metadata": {},
     "output_type": "execute_result"
    }
   ],
   "source": [
    "df['date_created'].agg('max')"
   ]
  },
  {
   "cell_type": "markdown",
   "metadata": {},
   "source": [
    "Уберем выбросы"
   ]
  },
  {
   "cell_type": "code",
   "execution_count": 26,
   "metadata": {},
   "outputs": [],
   "source": [
    "df = df.query(\"registration_year >= 1899 and registration_year <= 2017\")"
   ]
  },
  {
   "cell_type": "code",
   "execution_count": 27,
   "metadata": {},
   "outputs": [
    {
     "data": {
      "image/png": "[encoded data removed]",
      "text/plain": [
       "<Figure size 1152x360 with 1 Axes>"
      ]
     },
     "metadata": {
      "needs_background": "light"
     },
     "output_type": "display_data"
    }
   ],
   "source": [
    "plt.figure(figsize=(16, 5))\n",
    "plt.title('Распределение величин в столбце \"год регистрации\"')\n",
    "df.boxplot(['registration_year']);"
   ]
  },
  {
   "cell_type": "code",
   "execution_count": 28,
   "metadata": {},
   "outputs": [
    {
     "data": {
      "text/plain": [
       "<AxesSubplot:title={'center':'Количество зарегистрированных автомобилей по годам'}, xlabel='Год регистрации', ylabel='Количество'>"
      ]
     },
     "execution_count": 28,
     "metadata": {},
     "output_type": "execute_result"
    },
    {
     "data": {
      "image/png": "[encoded data removed]",
      "text/plain": [
       "<Figure size 1152x360 with 1 Axes>"
      ]
     },
     "metadata": {
      "needs_background": "light"
     },
     "output_type": "display_data"
    }
   ],
   "source": [
    "plt.figure(figsize=(16, 5))\n",
    "plt.title('Количество зарегистрированных автомобилей по годам')\n",
    "plt.ylabel(\"Количество\")\n",
    "plt.xlabel(\"Год регистрации\")\n",
    "sns.kdeplot(df['registration_year'])"
   ]
  },
  {
   "cell_type": "markdown",
   "metadata": {},
   "source": [
    "Из распределения видно что пик реистрации автомобилей пришелся на 2000 - 2005 год, далее колличество зарегистрированных машин начало уменьшаться."
   ]
  },
  {
   "cell_type": "markdown",
   "metadata": {},
   "source": [
    "---"
   ]
  },
  {
   "cell_type": "markdown",
   "metadata": {},
   "source": [
    "Посмотрим на столбец **gearbox**"
   ]
  },
  {
   "cell_type": "markdown",
   "metadata": {},
   "source": [
    "Больше всего машин с механической коробкой передач. Посмотрим как цена автомобиля зависит от типа коробки передач."
   ]
  },
  {
   "cell_type": "code",
   "execution_count": 29,
   "metadata": {
    "scrolled": true
   },
   "outputs": [
    {
     "data": {
      "text/html": [
       "<div>\n",
       "<style scoped>\n",
       "    .dataframe tbody tr th:only-of-type {\n",
       "        vertical-align: middle;\n",
       "    }\n",
       "\n",
       "    .dataframe tbody tr th {\n",
       "        vertical-align: top;\n",
       "    }\n",
       "\n",
       "    .dataframe thead th {\n",
       "        text-align: right;\n",
       "    }\n",
       "</style>\n",
       "<table border=\"1\" class=\"dataframe\">\n",
       "  <thead>\n",
       "    <tr style=\"text-align: right;\">\n",
       "      <th></th>\n",
       "      <th>count</th>\n",
       "      <th>mean</th>\n",
       "    </tr>\n",
       "    <tr>\n",
       "      <th>gearbox</th>\n",
       "      <th></th>\n",
       "      <th></th>\n",
       "    </tr>\n",
       "  </thead>\n",
       "  <tbody>\n",
       "    <tr>\n",
       "      <th>auto</th>\n",
       "      <td>64390</td>\n",
       "      <td>7003.830486</td>\n",
       "    </tr>\n",
       "    <tr>\n",
       "      <th>manual</th>\n",
       "      <td>258473</td>\n",
       "      <td>4092.158512</td>\n",
       "    </tr>\n",
       "    <tr>\n",
       "      <th>NaN</th>\n",
       "      <td>16793</td>\n",
       "      <td>2512.020187</td>\n",
       "    </tr>\n",
       "  </tbody>\n",
       "</table>\n",
       "</div>"
      ],
      "text/plain": [
       "          count         mean\n",
       "gearbox                     \n",
       "auto      64390  7003.830486\n",
       "manual   258473  4092.158512\n",
       "NaN       16793  2512.020187"
      ]
     },
     "execution_count": 29,
     "metadata": {},
     "output_type": "execute_result"
    }
   ],
   "source": [
    "df.groupby('gearbox', dropna=False)['price'].agg(\n",
    "    ['count', 'mean']).sort_values(by='mean', ascending=False)"
   ]
  },
  {
   "cell_type": "markdown",
   "metadata": {},
   "source": [
    "Итак мы видим, что дороже продаются машины с автоматической коробкой передач, но колличество их очень мало по сравнению с механической. Имеются пропущенные значения, удалим их, так как они составляют всего 5% от общего числа значений."
   ]
  },
  {
   "cell_type": "markdown",
   "metadata": {},
   "source": [
    "<div class=\"alert alert-info\"> <b>Комментарий студента: </b> \n",
    "\n",
    "Хотел восстановить данные как ты подсказал из ссылок сверху, ничего не получилось. Я понял как заполнять пропуски если у тебя колличественные  переменные, а с категриальными так-же? Для категориальных попробывал заменить модой, но у меня ничего не получилось. Поэтому просто пропущенные значения заменил uknown. Код был такой \n",
    "    \n",
    "     df['gearbox'] = df.groupby(['registration_year', 'brand', 'model'], sort=False)['brand'].apply(lambda x:x.fillna(x.mode().iloc[0])\n",
    "  \n",
    "</div>"
   ]
  },
  {
   "cell_type": "code",
   "execution_count": 30,
   "metadata": {},
   "outputs": [],
   "source": [
    "df['gearbox'] = df['gearbox'].fillna('uknown')"
   ]
  },
  {
   "cell_type": "markdown",
   "metadata": {},
   "source": [
    "---"
   ]
  },
  {
   "cell_type": "markdown",
   "metadata": {},
   "source": [
    "Посмотрим на данные в столбце  **power**"
   ]
  },
  {
   "cell_type": "code",
   "execution_count": 31,
   "metadata": {},
   "outputs": [
    {
     "data": {
      "text/plain": [
       "min        0\n",
       "max    20000\n",
       "Name: power, dtype: int64"
      ]
     },
     "execution_count": 31,
     "metadata": {},
     "output_type": "execute_result"
    }
   ],
   "source": [
    "df['power'].agg(['min', 'max'])"
   ]
  },
  {
   "cell_type": "markdown",
   "metadata": {},
   "source": [
    "Минимальная мощность равна 0 максимальная 20000 лошадинных сил."
   ]
  },
  {
   "cell_type": "code",
   "execution_count": 32,
   "metadata": {},
   "outputs": [
    {
     "data": {
      "text/plain": [
       "count    339656.000000\n",
       "mean        111.231749\n",
       "std         186.151064\n",
       "min           0.000000\n",
       "25%          69.000000\n",
       "50%         105.000000\n",
       "75%         143.000000\n",
       "max       20000.000000\n",
       "Name: power, dtype: float64"
      ]
     },
     "execution_count": 32,
     "metadata": {},
     "output_type": "execute_result"
    }
   ],
   "source": [
    "df['power'].describe()"
   ]
  },
  {
   "cell_type": "markdown",
   "metadata": {},
   "source": [
    "Мы тут наблюдаем опять выбросы"
   ]
  },
  {
   "cell_type": "markdown",
   "metadata": {},
   "source": [
    "Мощность не может быть 20000 если это не супер автомобиль. Максимальная мощность автомобиля 1600 [Ссылка](https://cars-rating.ru/legkovye/samye-moshhnye-avtomobili-v-mire). А минимальная более 4 [Ссылка](https://fastmb.ru/autonews/autonews_mir/1367-samye-malomoschnye-avtomobili-top-10.html). Удалим значение где мощность больше 1600 и равна 0"
   ]
  },
  {
   "cell_type": "code",
   "execution_count": 33,
   "metadata": {
    "scrolled": true
   },
   "outputs": [
    {
     "data": {
      "text/plain": [
       "0.8953235037802953"
      ]
     },
     "execution_count": 33,
     "metadata": {},
     "output_type": "execute_result"
    }
   ],
   "source": [
    "df.query('power <= 1800 and power > 4')['power'].count()/len(df)"
   ]
  },
  {
   "cell_type": "code",
   "execution_count": 34,
   "metadata": {},
   "outputs": [],
   "source": [
    "df = df.query('power <= 1600 and power > 4')"
   ]
  },
  {
   "cell_type": "markdown",
   "metadata": {},
   "source": [
    "Проверим что все ОК"
   ]
  },
  {
   "cell_type": "code",
   "execution_count": 35,
   "metadata": {},
   "outputs": [
    {
     "data": {
      "image/png": "[encoded data removed]",
      "text/plain": [
       "<Figure size 1152x360 with 1 Axes>"
      ]
     },
     "metadata": {
      "needs_background": "light"
     },
     "output_type": "display_data"
    }
   ],
   "source": [
    "plt.figure(figsize=(16, 5))\n",
    "plt.title('Распределение величин в столбце \"год регистрации\"')\n",
    "df.boxplot(['power']);"
   ]
  },
  {
   "cell_type": "code",
   "execution_count": 36,
   "metadata": {},
   "outputs": [
    {
     "data": {
      "text/plain": [
       "count    304074.000000\n",
       "mean        120.947319\n",
       "std          59.396276\n",
       "min           5.000000\n",
       "25%          75.000000\n",
       "50%         110.000000\n",
       "75%         150.000000\n",
       "max        1600.000000\n",
       "Name: power, dtype: float64"
      ]
     },
     "execution_count": 36,
     "metadata": {},
     "output_type": "execute_result"
    }
   ],
   "source": [
    "df['power'].describe()"
   ]
  },
  {
   "cell_type": "code",
   "execution_count": 37,
   "metadata": {},
   "outputs": [
    {
     "data": {
      "image/png": "[encoded data removed]",
      "text/plain": [
       "<Figure size 1152x360 with 1 Axes>"
      ]
     },
     "metadata": {
      "needs_background": "light"
     },
     "output_type": "display_data"
    }
   ],
   "source": [
    "plt.figure(figsize=(16, 5))\n",
    "plt.title('Распределение автомобилей по мощности двигателя')\n",
    "plt.ylabel(\"Количество\")\n",
    "plt.xlabel(\"Мощность\")\n",
    "sns.kdeplot(df['power']);"
   ]
  },
  {
   "cell_type": "markdown",
   "metadata": {},
   "source": [
    "Больше всего машин имеют диапазон в мощности между 4 и 400 лошадиными силами."
   ]
  },
  {
   "cell_type": "markdown",
   "metadata": {},
   "source": [
    "Посмотрим как цена зависит от мощности автомобиля"
   ]
  },
  {
   "cell_type": "code",
   "execution_count": 38,
   "metadata": {},
   "outputs": [],
   "source": [
    "df_w = df.copy()"
   ]
  },
  {
   "cell_type": "code",
   "execution_count": 39,
   "metadata": {},
   "outputs": [],
   "source": [
    "df_w['power_bin'] = pd.qcut(df_w['power'], 5)"
   ]
  },
  {
   "cell_type": "code",
   "execution_count": 40,
   "metadata": {},
   "outputs": [
    {
     "data": {
      "text/html": [
       "<div>\n",
       "<style scoped>\n",
       "    .dataframe tbody tr th:only-of-type {\n",
       "        vertical-align: middle;\n",
       "    }\n",
       "\n",
       "    .dataframe tbody tr th {\n",
       "        vertical-align: top;\n",
       "    }\n",
       "\n",
       "    .dataframe thead th {\n",
       "        text-align: right;\n",
       "    }\n",
       "</style>\n",
       "<table border=\"1\" class=\"dataframe\">\n",
       "  <thead>\n",
       "    <tr style=\"text-align: right;\">\n",
       "      <th></th>\n",
       "      <th>count</th>\n",
       "      <th>mean</th>\n",
       "    </tr>\n",
       "    <tr>\n",
       "      <th>power_bin</th>\n",
       "      <th></th>\n",
       "      <th></th>\n",
       "    </tr>\n",
       "  </thead>\n",
       "  <tbody>\n",
       "    <tr>\n",
       "      <th>(160.0, 1600.0]</th>\n",
       "      <td>58944</td>\n",
       "      <td>8587.701581</td>\n",
       "    </tr>\n",
       "    <tr>\n",
       "      <th>(125.0, 160.0]</th>\n",
       "      <td>57700</td>\n",
       "      <td>6041.088302</td>\n",
       "    </tr>\n",
       "    <tr>\n",
       "      <th>(101.0, 125.0]</th>\n",
       "      <td>63423</td>\n",
       "      <td>4631.058370</td>\n",
       "    </tr>\n",
       "    <tr>\n",
       "      <th>(75.0, 101.0]</th>\n",
       "      <td>47184</td>\n",
       "      <td>3358.811991</td>\n",
       "    </tr>\n",
       "    <tr>\n",
       "      <th>(4.999, 75.0]</th>\n",
       "      <td>76823</td>\n",
       "      <td>2064.875415</td>\n",
       "    </tr>\n",
       "  </tbody>\n",
       "</table>\n",
       "</div>"
      ],
      "text/plain": [
       "                 count         mean\n",
       "power_bin                          \n",
       "(160.0, 1600.0]  58944  8587.701581\n",
       "(125.0, 160.0]   57700  6041.088302\n",
       "(101.0, 125.0]   63423  4631.058370\n",
       "(75.0, 101.0]    47184  3358.811991\n",
       "(4.999, 75.0]    76823  2064.875415"
      ]
     },
     "execution_count": 40,
     "metadata": {},
     "output_type": "execute_result"
    }
   ],
   "source": [
    "df_w.groupby('power_bin',\n",
    "             dropna=False)['price'].agg(['count', 'mean']).sort_values(by='mean', ascending=False)"
   ]
  },
  {
   "cell_type": "markdown",
   "metadata": {},
   "source": [
    "Посмотрим на графическую зависимость."
   ]
  },
  {
   "cell_type": "code",
   "execution_count": 41,
   "metadata": {},
   "outputs": [
    {
     "data": {
      "image/png": "[encoded data removed]",
      "text/plain": [
       "<Figure size 1152x360 with 1 Axes>"
      ]
     },
     "metadata": {
      "needs_background": "light"
     },
     "output_type": "display_data"
    }
   ],
   "source": [
    "plt.figure(figsize=(16, 5))\n",
    "plt.title(\"Зависимость цены автомобиля от мощности\")\n",
    "plt.ylabel(\"Цена\")\n",
    "df_w.groupby('power_bin', dropna=False)['price'].mean().plot();"
   ]
  },
  {
   "cell_type": "markdown",
   "metadata": {},
   "source": [
    "Из графика видно что чем больше мощность автомобиля, тем больше цена. Почти прямая зависимость."
   ]
  },
  {
   "cell_type": "markdown",
   "metadata": {},
   "source": [
    "---"
   ]
  },
  {
   "cell_type": "markdown",
   "metadata": {},
   "source": [
    "Посмотрим на данные в столбце  **model**"
   ]
  },
  {
   "cell_type": "code",
   "execution_count": 42,
   "metadata": {},
   "outputs": [
    {
     "data": {
      "text/html": [
       "<div>\n",
       "<style scoped>\n",
       "    .dataframe tbody tr th:only-of-type {\n",
       "        vertical-align: middle;\n",
       "    }\n",
       "\n",
       "    .dataframe tbody tr th {\n",
       "        vertical-align: top;\n",
       "    }\n",
       "\n",
       "    .dataframe thead th {\n",
       "        text-align: right;\n",
       "    }\n",
       "</style>\n",
       "<table border=\"1\" class=\"dataframe\">\n",
       "  <thead>\n",
       "    <tr style=\"text-align: right;\">\n",
       "      <th></th>\n",
       "      <th>count</th>\n",
       "      <th>mean</th>\n",
       "    </tr>\n",
       "    <tr>\n",
       "      <th>model</th>\n",
       "      <th></th>\n",
       "      <th></th>\n",
       "    </tr>\n",
       "  </thead>\n",
       "  <tbody>\n",
       "    <tr>\n",
       "      <th>gl</th>\n",
       "      <td>12</td>\n",
       "      <td>18378.833333</td>\n",
       "    </tr>\n",
       "    <tr>\n",
       "      <th>glk</th>\n",
       "      <td>60</td>\n",
       "      <td>16568.350000</td>\n",
       "    </tr>\n",
       "    <tr>\n",
       "      <th>a5</th>\n",
       "      <td>516</td>\n",
       "      <td>15914.065891</td>\n",
       "    </tr>\n",
       "    <tr>\n",
       "      <th>q5</th>\n",
       "      <td>95</td>\n",
       "      <td>15789.126316</td>\n",
       "    </tr>\n",
       "    <tr>\n",
       "      <th>q7</th>\n",
       "      <td>188</td>\n",
       "      <td>15704.797872</td>\n",
       "    </tr>\n",
       "    <tr>\n",
       "      <th>...</th>\n",
       "      <td>...</td>\n",
       "      <td>...</td>\n",
       "    </tr>\n",
       "    <tr>\n",
       "      <th>seicento</th>\n",
       "      <td>517</td>\n",
       "      <td>869.069632</td>\n",
       "    </tr>\n",
       "    <tr>\n",
       "      <th>lybra</th>\n",
       "      <td>40</td>\n",
       "      <td>860.325000</td>\n",
       "    </tr>\n",
       "    <tr>\n",
       "      <th>move</th>\n",
       "      <td>38</td>\n",
       "      <td>706.105263</td>\n",
       "    </tr>\n",
       "    <tr>\n",
       "      <th>lanos</th>\n",
       "      <td>68</td>\n",
       "      <td>676.147059</td>\n",
       "    </tr>\n",
       "    <tr>\n",
       "      <th>elefantino</th>\n",
       "      <td>10</td>\n",
       "      <td>554.900000</td>\n",
       "    </tr>\n",
       "  </tbody>\n",
       "</table>\n",
       "<p>250 rows × 2 columns</p>\n",
       "</div>"
      ],
      "text/plain": [
       "            count          mean\n",
       "model                          \n",
       "gl             12  18378.833333\n",
       "glk            60  16568.350000\n",
       "a5            516  15914.065891\n",
       "q5             95  15789.126316\n",
       "q7            188  15704.797872\n",
       "...           ...           ...\n",
       "seicento      517    869.069632\n",
       "lybra          40    860.325000\n",
       "move           38    706.105263\n",
       "lanos          68    676.147059\n",
       "elefantino     10    554.900000\n",
       "\n",
       "[250 rows x 2 columns]"
      ]
     },
     "execution_count": 42,
     "metadata": {},
     "output_type": "execute_result"
    }
   ],
   "source": [
    "df.groupby('model', dropna=False)['price'].agg(\n",
    "    ['count', 'mean']).sort_values(by='mean', ascending=False)"
   ]
  },
  {
   "cell_type": "code",
   "execution_count": 43,
   "metadata": {
    "scrolled": true
   },
   "outputs": [
    {
     "data": {
      "text/plain": [
       "not_repaired          0.151420\n",
       "fuel_type             0.061021\n",
       "vehicle_type          0.060676\n",
       "model                 0.039648\n",
       "date_crawled          0.000000\n",
       "price                 0.000000\n",
       "registration_year     0.000000\n",
       "gearbox               0.000000\n",
       "power                 0.000000\n",
       "kilometer             0.000000\n",
       "registration_month    0.000000\n",
       "brand                 0.000000\n",
       "date_created          0.000000\n",
       "number_of_pictures    0.000000\n",
       "postal_code           0.000000\n",
       "last_seen             0.000000\n",
       "dtype: float64"
      ]
     },
     "execution_count": 43,
     "metadata": {},
     "output_type": "execute_result"
    }
   ],
   "source": [
    "df.isna().mean().sort_values(ascending=False)"
   ]
  },
  {
   "cell_type": "markdown",
   "metadata": {},
   "source": [
    "В столбце model присутствую пропущенные значения, я думаю это связно с тем что кто-то не захотел писать или не знал что за модель у автомобиля. Доля пропущенных значений составляет примерно 0.03. Вместо пропущенных значений напишем other. "
   ]
  },
  {
   "cell_type": "code",
   "execution_count": 44,
   "metadata": {},
   "outputs": [],
   "source": [
    "df['model'] = df['model'].fillna('other')"
   ]
  },
  {
   "cell_type": "markdown",
   "metadata": {},
   "source": [
    "Цена автомобиля зависит от модели машины. Тройка топ дорогих моделей - Mercedes-Benz GL-Класс, Mercedes-Benz GLC, Audi A5"
   ]
  },
  {
   "cell_type": "markdown",
   "metadata": {},
   "source": [
    "---"
   ]
  },
  {
   "cell_type": "markdown",
   "metadata": {},
   "source": [
    " Посмотрим на столбец **kilometer**"
   ]
  },
  {
   "cell_type": "code",
   "execution_count": 45,
   "metadata": {},
   "outputs": [
    {
     "name": "stderr",
     "output_type": "stream",
     "text": [
      "/home/vic/anaconda3/lib/python3.9/site-packages/seaborn/_decorators.py:36: FutureWarning: Pass the following variable as a keyword arg: x. From version 0.12, the only valid positional argument will be `data`, and passing other arguments without an explicit keyword will result in an error or misinterpretation.\n",
      "  warnings.warn(\n"
     ]
    },
    {
     "data": {
      "image/png": "[encoded data removed]",
      "text/plain": [
       "<Figure size 1152x360 with 1 Axes>"
      ]
     },
     "metadata": {
      "needs_background": "light"
     },
     "output_type": "display_data"
    }
   ],
   "source": [
    "plt.figure(figsize=(16, 5))\n",
    "plt.title(\"Зависимость цены автомобиля от мощности\")\n",
    "plt.ylabel(\"Мощность\")\n",
    "sns.countplot(df['kilometer']);"
   ]
  },
  {
   "cell_type": "code",
   "execution_count": 46,
   "metadata": {},
   "outputs": [
    {
     "data": {
      "text/plain": [
       "count    304074.000000\n",
       "mean     128404.878418\n",
       "std       36733.765266\n",
       "min        5000.000000\n",
       "25%      125000.000000\n",
       "50%      150000.000000\n",
       "75%      150000.000000\n",
       "max      150000.000000\n",
       "Name: kilometer, dtype: float64"
      ]
     },
     "execution_count": 46,
     "metadata": {},
     "output_type": "execute_result"
    }
   ],
   "source": [
    "df['kilometer'].describe()"
   ]
  },
  {
   "cell_type": "code",
   "execution_count": 47,
   "metadata": {},
   "outputs": [
    {
     "data": {
      "image/png": "[encoded data removed]",
      "text/plain": [
       "<Figure size 1152x360 with 1 Axes>"
      ]
     },
     "metadata": {
      "needs_background": "light"
     },
     "output_type": "display_data"
    }
   ],
   "source": [
    "plt.figure(figsize=(16, 5))\n",
    "plt.title('Распределение величин в столбце \"пробег (км)\"')\n",
    "df.boxplot(['kilometer']);"
   ]
  },
  {
   "cell_type": "markdown",
   "metadata": {},
   "source": [
    "Да тут распределение не очень, видно что более 50 процентов автомобилей имею пробег 150 тысяч, мне кажется это связано с работой самого приложения, может быть оно не позволяет поставить пробег больше 150 тысяч. Но работаем как есть. Плохо нельзя отследить как зависит цена автомобиля от пробега, так как почти все данные сконцентрированы около 150 тысяч."
   ]
  },
  {
   "cell_type": "markdown",
   "metadata": {},
   "source": [
    "___"
   ]
  },
  {
   "cell_type": "markdown",
   "metadata": {},
   "source": [
    "Посмотрим на данные в столбце  **registration_month**"
   ]
  },
  {
   "cell_type": "code",
   "execution_count": 48,
   "metadata": {},
   "outputs": [
    {
     "data": {
      "text/html": [
       "<div>\n",
       "<style scoped>\n",
       "    .dataframe tbody tr th:only-of-type {\n",
       "        vertical-align: middle;\n",
       "    }\n",
       "\n",
       "    .dataframe tbody tr th {\n",
       "        vertical-align: top;\n",
       "    }\n",
       "\n",
       "    .dataframe thead th {\n",
       "        text-align: right;\n",
       "    }\n",
       "</style>\n",
       "<table border=\"1\" class=\"dataframe\">\n",
       "  <thead>\n",
       "    <tr style=\"text-align: right;\">\n",
       "      <th></th>\n",
       "      <th>count</th>\n",
       "      <th>mean</th>\n",
       "    </tr>\n",
       "    <tr>\n",
       "      <th>registration_month</th>\n",
       "      <th></th>\n",
       "      <th></th>\n",
       "    </tr>\n",
       "  </thead>\n",
       "  <tbody>\n",
       "    <tr>\n",
       "      <th>11</th>\n",
       "      <td>21529</td>\n",
       "      <td>5194.128013</td>\n",
       "    </tr>\n",
       "    <tr>\n",
       "      <th>9</th>\n",
       "      <td>21388</td>\n",
       "      <td>5153.320039</td>\n",
       "    </tr>\n",
       "    <tr>\n",
       "      <th>10</th>\n",
       "      <td>23457</td>\n",
       "      <td>5084.160421</td>\n",
       "    </tr>\n",
       "    <tr>\n",
       "      <th>7</th>\n",
       "      <td>24420</td>\n",
       "      <td>5053.621253</td>\n",
       "    </tr>\n",
       "    <tr>\n",
       "      <th>4</th>\n",
       "      <td>26359</td>\n",
       "      <td>5018.575174</td>\n",
       "    </tr>\n",
       "    <tr>\n",
       "      <th>6</th>\n",
       "      <td>28267</td>\n",
       "      <td>4980.186153</td>\n",
       "    </tr>\n",
       "    <tr>\n",
       "      <th>1</th>\n",
       "      <td>20624</td>\n",
       "      <td>4974.260328</td>\n",
       "    </tr>\n",
       "    <tr>\n",
       "      <th>8</th>\n",
       "      <td>20200</td>\n",
       "      <td>4952.565990</td>\n",
       "    </tr>\n",
       "    <tr>\n",
       "      <th>5</th>\n",
       "      <td>26204</td>\n",
       "      <td>4911.142764</td>\n",
       "    </tr>\n",
       "    <tr>\n",
       "      <th>12</th>\n",
       "      <td>21721</td>\n",
       "      <td>4896.412228</td>\n",
       "    </tr>\n",
       "    <tr>\n",
       "      <th>2</th>\n",
       "      <td>19244</td>\n",
       "      <td>4838.614685</td>\n",
       "    </tr>\n",
       "    <tr>\n",
       "      <th>3</th>\n",
       "      <td>31078</td>\n",
       "      <td>4830.669766</td>\n",
       "    </tr>\n",
       "    <tr>\n",
       "      <th>0</th>\n",
       "      <td>19583</td>\n",
       "      <td>2394.980034</td>\n",
       "    </tr>\n",
       "  </tbody>\n",
       "</table>\n",
       "</div>"
      ],
      "text/plain": [
       "                    count         mean\n",
       "registration_month                    \n",
       "11                  21529  5194.128013\n",
       "9                   21388  5153.320039\n",
       "10                  23457  5084.160421\n",
       "7                   24420  5053.621253\n",
       "4                   26359  5018.575174\n",
       "6                   28267  4980.186153\n",
       "1                   20624  4974.260328\n",
       "8                   20200  4952.565990\n",
       "5                   26204  4911.142764\n",
       "12                  21721  4896.412228\n",
       "2                   19244  4838.614685\n",
       "3                   31078  4830.669766\n",
       "0                   19583  2394.980034"
      ]
     },
     "execution_count": 48,
     "metadata": {},
     "output_type": "execute_result"
    }
   ],
   "source": [
    "df.groupby('registration_month', dropna=False)['price'].agg(\n",
    "    ['count', 'mean']).sort_values(by='mean', ascending=False)"
   ]
  },
  {
   "cell_type": "markdown",
   "metadata": {},
   "source": [
    "У нас появился нулевой месяц. Более 9% значений месяца = 0, что много.\n",
    "При этом в 12 месяце значений около этой же величины, а в 1 месяце более чем в 2,5 раза меньше. Распределим эти записи пропорционально доли каждого месяца по соответствующим месяцам случайным образом."
   ]
  },
  {
   "cell_type": "markdown",
   "metadata": {},
   "source": [
    "Cоздадим список с размерами \"месяцев регистрации\" относительно  месяца 0 и рассчитаем сколько записей из 0 месяца надо передать в каждый месяц"
   ]
  },
  {
   "cell_type": "code",
   "execution_count": 49,
   "metadata": {},
   "outputs": [],
   "source": [
    "new_list = []\n",
    "for i in range(1, 13):\n",
    "    frac = df.query('registration_month==@i').shape[0]/(\n",
    "        df.shape[0]-df.query('registration_month == 0').shape[0])\n",
    "    n_size = round(df.query('registration_month == 0').shape[0]*frac)\n",
    "    new_list.append(n_size)"
   ]
  },
  {
   "cell_type": "markdown",
   "metadata": {},
   "source": [
    "Заменяем значения в столбце RegistrationMonth == 0  на номера месяцев с 1 по 12 пропорционально их доле."
   ]
  },
  {
   "cell_type": "markdown",
   "metadata": {},
   "source": [
    "Проверим как мы округлили"
   ]
  },
  {
   "cell_type": "code",
   "execution_count": 50,
   "metadata": {},
   "outputs": [
    {
     "data": {
      "text/plain": [
       "0"
      ]
     },
     "execution_count": 50,
     "metadata": {},
     "output_type": "execute_result"
    }
   ],
   "source": [
    "tmp = sum(new_list)-df.query('registration_month == 0').shape[0]\n",
    "tmp"
   ]
  },
  {
   "cell_type": "markdown",
   "metadata": {},
   "source": [
    "Иногда дельта получается не ноль а больше или меньше"
   ]
  },
  {
   "cell_type": "markdown",
   "metadata": {},
   "source": [
    "Поэтому что-бы округление не довало сбой,  добавим в 12 месяц + 1"
   ]
  },
  {
   "cell_type": "code",
   "execution_count": 51,
   "metadata": {},
   "outputs": [
    {
     "data": {
      "text/plain": [
       "0"
      ]
     },
     "execution_count": 51,
     "metadata": {},
     "output_type": "execute_result"
    }
   ],
   "source": [
    "new_list[11] = new_list[11]-tmp\n",
    "sum(new_list)-df.query('registration_month == 0').shape[0]"
   ]
  },
  {
   "cell_type": "code",
   "execution_count": 52,
   "metadata": {},
   "outputs": [],
   "source": [
    "new = np.array(df.query('registration_month==0').index)\n",
    "for month, i in enumerate(new_list):\n",
    "    idx = np.random.choice(new, size=i, replace=False)\n",
    "    df.loc[idx, 'registration_month'] = (month+1)\n",
    "    new = new[~np.isin(new, idx)]"
   ]
  },
  {
   "cell_type": "markdown",
   "metadata": {},
   "source": [
    "Проверим что все ОК"
   ]
  },
  {
   "cell_type": "code",
   "execution_count": 53,
   "metadata": {},
   "outputs": [
    {
     "data": {
      "text/html": [
       "<div>\n",
       "<style scoped>\n",
       "    .dataframe tbody tr th:only-of-type {\n",
       "        vertical-align: middle;\n",
       "    }\n",
       "\n",
       "    .dataframe tbody tr th {\n",
       "        vertical-align: top;\n",
       "    }\n",
       "\n",
       "    .dataframe thead th {\n",
       "        text-align: right;\n",
       "    }\n",
       "</style>\n",
       "<table border=\"1\" class=\"dataframe\">\n",
       "  <thead>\n",
       "    <tr style=\"text-align: right;\">\n",
       "      <th></th>\n",
       "      <th>count</th>\n",
       "      <th>mean</th>\n",
       "    </tr>\n",
       "    <tr>\n",
       "      <th>registration_month</th>\n",
       "      <th></th>\n",
       "      <th></th>\n",
       "    </tr>\n",
       "  </thead>\n",
       "  <tbody>\n",
       "    <tr>\n",
       "      <th>11</th>\n",
       "      <td>23011</td>\n",
       "      <td>5017.832080</td>\n",
       "    </tr>\n",
       "    <tr>\n",
       "      <th>9</th>\n",
       "      <td>22860</td>\n",
       "      <td>4979.505424</td>\n",
       "    </tr>\n",
       "    <tr>\n",
       "      <th>10</th>\n",
       "      <td>25072</td>\n",
       "      <td>4916.620892</td>\n",
       "    </tr>\n",
       "    <tr>\n",
       "      <th>7</th>\n",
       "      <td>26101</td>\n",
       "      <td>4884.147197</td>\n",
       "    </tr>\n",
       "    <tr>\n",
       "      <th>4</th>\n",
       "      <td>28173</td>\n",
       "      <td>4855.950697</td>\n",
       "    </tr>\n",
       "    <tr>\n",
       "      <th>1</th>\n",
       "      <td>22044</td>\n",
       "      <td>4813.139448</td>\n",
       "    </tr>\n",
       "    <tr>\n",
       "      <th>6</th>\n",
       "      <td>30213</td>\n",
       "      <td>4809.011651</td>\n",
       "    </tr>\n",
       "    <tr>\n",
       "      <th>8</th>\n",
       "      <td>21590</td>\n",
       "      <td>4782.619731</td>\n",
       "    </tr>\n",
       "    <tr>\n",
       "      <th>5</th>\n",
       "      <td>28008</td>\n",
       "      <td>4744.765746</td>\n",
       "    </tr>\n",
       "    <tr>\n",
       "      <th>12</th>\n",
       "      <td>23216</td>\n",
       "      <td>4730.990395</td>\n",
       "    </tr>\n",
       "    <tr>\n",
       "      <th>2</th>\n",
       "      <td>20569</td>\n",
       "      <td>4688.382323</td>\n",
       "    </tr>\n",
       "    <tr>\n",
       "      <th>3</th>\n",
       "      <td>33217</td>\n",
       "      <td>4664.001746</td>\n",
       "    </tr>\n",
       "  </tbody>\n",
       "</table>\n",
       "</div>"
      ],
      "text/plain": [
       "                    count         mean\n",
       "registration_month                    \n",
       "11                  23011  5017.832080\n",
       "9                   22860  4979.505424\n",
       "10                  25072  4916.620892\n",
       "7                   26101  4884.147197\n",
       "4                   28173  4855.950697\n",
       "1                   22044  4813.139448\n",
       "6                   30213  4809.011651\n",
       "8                   21590  4782.619731\n",
       "5                   28008  4744.765746\n",
       "12                  23216  4730.990395\n",
       "2                   20569  4688.382323\n",
       "3                   33217  4664.001746"
      ]
     },
     "execution_count": 53,
     "metadata": {},
     "output_type": "execute_result"
    }
   ],
   "source": [
    "df.groupby('registration_month')['price'].agg(\n",
    "    ['count', 'mean']).sort_values(by='mean', ascending=False)"
   ]
  },
  {
   "cell_type": "code",
   "execution_count": 54,
   "metadata": {},
   "outputs": [
    {
     "data": {
      "image/png": "[encoded data removed]",
      "text/plain": [
       "<Figure size 1152x360 with 1 Axes>"
      ]
     },
     "metadata": {
      "needs_background": "light"
     },
     "output_type": "display_data"
    }
   ],
   "source": [
    "plt.figure(figsize=(16, 5))\n",
    "plt.title('Зависимость цены автомобиля от месяц регистрации автомобиля')\n",
    "plt.ylabel('Цена')\n",
    "df.groupby('registration_month', dropna=False)['price'].mean().plot();"
   ]
  },
  {
   "cell_type": "markdown",
   "metadata": {},
   "source": [
    "Мы видим что есть некоторая сезонность в ценах на автомобиль."
   ]
  },
  {
   "cell_type": "markdown",
   "metadata": {},
   "source": [
    "---"
   ]
  },
  {
   "cell_type": "markdown",
   "metadata": {},
   "source": [
    " Посмотрим на столбец **fuel_type**"
   ]
  },
  {
   "cell_type": "code",
   "execution_count": 55,
   "metadata": {},
   "outputs": [
    {
     "data": {
      "text/html": [
       "<div>\n",
       "<style scoped>\n",
       "    .dataframe tbody tr th:only-of-type {\n",
       "        vertical-align: middle;\n",
       "    }\n",
       "\n",
       "    .dataframe tbody tr th {\n",
       "        vertical-align: top;\n",
       "    }\n",
       "\n",
       "    .dataframe thead th {\n",
       "        text-align: right;\n",
       "    }\n",
       "</style>\n",
       "<table border=\"1\" class=\"dataframe\">\n",
       "  <thead>\n",
       "    <tr style=\"text-align: right;\">\n",
       "      <th></th>\n",
       "      <th>count</th>\n",
       "      <th>mean</th>\n",
       "    </tr>\n",
       "    <tr>\n",
       "      <th>fuel_type</th>\n",
       "      <th></th>\n",
       "      <th></th>\n",
       "    </tr>\n",
       "  </thead>\n",
       "  <tbody>\n",
       "    <tr>\n",
       "      <th>hybrid</th>\n",
       "      <td>205</td>\n",
       "      <td>10090.985366</td>\n",
       "    </tr>\n",
       "    <tr>\n",
       "      <th>electric</th>\n",
       "      <td>71</td>\n",
       "      <td>7652.845070</td>\n",
       "    </tr>\n",
       "    <tr>\n",
       "      <th>gasoline</th>\n",
       "      <td>89070</td>\n",
       "      <td>6926.604839</td>\n",
       "    </tr>\n",
       "    <tr>\n",
       "      <th>cng</th>\n",
       "      <td>496</td>\n",
       "      <td>4669.423387</td>\n",
       "    </tr>\n",
       "    <tr>\n",
       "      <th>lpg</th>\n",
       "      <td>4763</td>\n",
       "      <td>4254.935755</td>\n",
       "    </tr>\n",
       "    <tr>\n",
       "      <th>petrol</th>\n",
       "      <td>190825</td>\n",
       "      <td>4036.748974</td>\n",
       "    </tr>\n",
       "    <tr>\n",
       "      <th>other</th>\n",
       "      <td>89</td>\n",
       "      <td>3144.516854</td>\n",
       "    </tr>\n",
       "    <tr>\n",
       "      <th>NaN</th>\n",
       "      <td>18555</td>\n",
       "      <td>2848.425007</td>\n",
       "    </tr>\n",
       "  </tbody>\n",
       "</table>\n",
       "</div>"
      ],
      "text/plain": [
       "            count          mean\n",
       "fuel_type                      \n",
       "hybrid        205  10090.985366\n",
       "electric       71   7652.845070\n",
       "gasoline    89070   6926.604839\n",
       "cng           496   4669.423387\n",
       "lpg          4763   4254.935755\n",
       "petrol     190825   4036.748974\n",
       "other          89   3144.516854\n",
       "NaN         18555   2848.425007"
      ]
     },
     "execution_count": 55,
     "metadata": {},
     "output_type": "execute_result"
    }
   ],
   "source": [
    "df.groupby('fuel_type', dropna=False)['price'].agg(\n",
    "    ['count', 'mean']).sort_values(by='mean', ascending=False)"
   ]
  },
  {
   "cell_type": "markdown",
   "metadata": {},
   "source": [
    "Мы видим что самые дорогие машины - гибриды, на втором месте электро и на третьем бензиновые."
   ]
  },
  {
   "cell_type": "code",
   "execution_count": 56,
   "metadata": {},
   "outputs": [
    {
     "name": "stderr",
     "output_type": "stream",
     "text": [
      "/home/vic/anaconda3/lib/python3.9/site-packages/seaborn/_decorators.py:36: FutureWarning: Pass the following variable as a keyword arg: x. From version 0.12, the only valid positional argument will be `data`, and passing other arguments without an explicit keyword will result in an error or misinterpretation.\n",
      "  warnings.warn(\n"
     ]
    },
    {
     "data": {
      "image/png": "[encoded data removed]",
      "text/plain": [
       "<Figure size 1152x360 with 1 Axes>"
      ]
     },
     "metadata": {
      "needs_background": "light"
     },
     "output_type": "display_data"
    }
   ],
   "source": [
    "plt.figure(figsize=(16, 5))\n",
    "plt.title(\" Распределение по типу топлива\")\n",
    "plt.ylabel(\"Колличество\")\n",
    "sns.countplot(df['fuel_type']);"
   ]
  },
  {
   "cell_type": "markdown",
   "metadata": {},
   "source": [
    "Я нашел что gasoline и gasoline это одно и тоже [Ссылка](https://www.differencebetween.info/difference-between-petrol-and-gasoline). Объединим эти значения."
   ]
  },
  {
   "cell_type": "code",
   "execution_count": 57,
   "metadata": {},
   "outputs": [],
   "source": [
    "df['fuel_type'] = df['fuel_type'].replace('gasoline', 'petrol')"
   ]
  },
  {
   "cell_type": "markdown",
   "metadata": {},
   "source": [
    "Пропущенные значения удалим."
   ]
  },
  {
   "cell_type": "code",
   "execution_count": 58,
   "metadata": {},
   "outputs": [],
   "source": [
    "df = df.dropna(subset=['fuel_type'])"
   ]
  },
  {
   "cell_type": "markdown",
   "metadata": {},
   "source": [
    "----"
   ]
  },
  {
   "cell_type": "markdown",
   "metadata": {},
   "source": [
    "Посмотрим на данные в столбце  **brand**"
   ]
  },
  {
   "cell_type": "code",
   "execution_count": 59,
   "metadata": {},
   "outputs": [
    {
     "data": {
      "image/png": "[encoded data removed]",
      "text/plain": [
       "<Figure size 1152x360 with 1 Axes>"
      ]
     },
     "metadata": {
      "needs_background": "light"
     },
     "output_type": "display_data"
    }
   ],
   "source": [
    "# сгруппируем данные\n",
    "df_new = df.pivot_table(\n",
    "    index=\"brand\", values=\"price\", aggfunc=\"count\"\n",
    ").sort_values(by=\"price\", ascending=False)\n",
    "\n",
    "plt.figure(figsize=(16, 5))\n",
    "ax = sns.barplot(x=df_new.index, y=df_new[\"price\"])\n",
    "plt.title(\" Распределение по типу марки автомобиля\")\n",
    "plt.ylabel(\"Колличество\")\n",
    "ax.set_xticklabels(ax.get_xticklabels(), rotation=45,\n",
    "                   horizontalalignment='right');"
   ]
  },
  {
   "cell_type": "markdown",
   "metadata": {},
   "source": [
    "Первые три места по колличеству продаж взяли WV, BMW, opel."
   ]
  },
  {
   "cell_type": "code",
   "execution_count": 60,
   "metadata": {},
   "outputs": [
    {
     "data": {
      "text/html": [
       "<div>\n",
       "<style scoped>\n",
       "    .dataframe tbody tr th:only-of-type {\n",
       "        vertical-align: middle;\n",
       "    }\n",
       "\n",
       "    .dataframe tbody tr th {\n",
       "        vertical-align: top;\n",
       "    }\n",
       "\n",
       "    .dataframe thead th {\n",
       "        text-align: right;\n",
       "    }\n",
       "</style>\n",
       "<table border=\"1\" class=\"dataframe\">\n",
       "  <thead>\n",
       "    <tr style=\"text-align: right;\">\n",
       "      <th></th>\n",
       "      <th>count</th>\n",
       "      <th>mean</th>\n",
       "    </tr>\n",
       "    <tr>\n",
       "      <th>brand</th>\n",
       "      <th></th>\n",
       "      <th></th>\n",
       "    </tr>\n",
       "  </thead>\n",
       "  <tbody>\n",
       "    <tr>\n",
       "      <th>porsche</th>\n",
       "      <td>608</td>\n",
       "      <td>12332.639803</td>\n",
       "    </tr>\n",
       "    <tr>\n",
       "      <th>mini</th>\n",
       "      <td>2946</td>\n",
       "      <td>9239.346232</td>\n",
       "    </tr>\n",
       "    <tr>\n",
       "      <th>land_rover</th>\n",
       "      <td>454</td>\n",
       "      <td>9141.808370</td>\n",
       "    </tr>\n",
       "    <tr>\n",
       "      <th>sonstige_autos</th>\n",
       "      <td>1708</td>\n",
       "      <td>7782.900468</td>\n",
       "    </tr>\n",
       "    <tr>\n",
       "      <th>jeep</th>\n",
       "      <td>559</td>\n",
       "      <td>7664.354204</td>\n",
       "    </tr>\n",
       "    <tr>\n",
       "      <th>jaguar</th>\n",
       "      <td>426</td>\n",
       "      <td>7204.366197</td>\n",
       "    </tr>\n",
       "    <tr>\n",
       "      <th>audi</th>\n",
       "      <td>24791</td>\n",
       "      <td>6828.885362</td>\n",
       "    </tr>\n",
       "    <tr>\n",
       "      <th>bmw</th>\n",
       "      <td>31104</td>\n",
       "      <td>6709.365162</td>\n",
       "    </tr>\n",
       "    <tr>\n",
       "      <th>mercedes_benz</th>\n",
       "      <td>26617</td>\n",
       "      <td>6390.696172</td>\n",
       "    </tr>\n",
       "    <tr>\n",
       "      <th>skoda</th>\n",
       "      <td>4815</td>\n",
       "      <td>6307.588993</td>\n",
       "    </tr>\n",
       "    <tr>\n",
       "      <th>dacia</th>\n",
       "      <td>769</td>\n",
       "      <td>5967.267880</td>\n",
       "    </tr>\n",
       "    <tr>\n",
       "      <th>chevrolet</th>\n",
       "      <td>1420</td>\n",
       "      <td>5957.256338</td>\n",
       "    </tr>\n",
       "    <tr>\n",
       "      <th>hyundai</th>\n",
       "      <td>3032</td>\n",
       "      <td>5546.912929</td>\n",
       "    </tr>\n",
       "    <tr>\n",
       "      <th>kia</th>\n",
       "      <td>2044</td>\n",
       "      <td>5442.483366</td>\n",
       "    </tr>\n",
       "    <tr>\n",
       "      <th>toyota</th>\n",
       "      <td>3935</td>\n",
       "      <td>5050.235324</td>\n",
       "    </tr>\n",
       "    <tr>\n",
       "      <th>volkswagen</th>\n",
       "      <td>61872</td>\n",
       "      <td>4913.057280</td>\n",
       "    </tr>\n",
       "    <tr>\n",
       "      <th>volvo</th>\n",
       "      <td>2725</td>\n",
       "      <td>4705.673394</td>\n",
       "    </tr>\n",
       "    <tr>\n",
       "      <th>nissan</th>\n",
       "      <td>3892</td>\n",
       "      <td>4658.259250</td>\n",
       "    </tr>\n",
       "    <tr>\n",
       "      <th>seat</th>\n",
       "      <td>5675</td>\n",
       "      <td>4484.914714</td>\n",
       "    </tr>\n",
       "    <tr>\n",
       "      <th>suzuki</th>\n",
       "      <td>1885</td>\n",
       "      <td>4333.447745</td>\n",
       "    </tr>\n",
       "    <tr>\n",
       "      <th>subaru</th>\n",
       "      <td>609</td>\n",
       "      <td>4179.779967</td>\n",
       "    </tr>\n",
       "    <tr>\n",
       "      <th>chrysler</th>\n",
       "      <td>1124</td>\n",
       "      <td>4135.645907</td>\n",
       "    </tr>\n",
       "    <tr>\n",
       "      <th>honda</th>\n",
       "      <td>2250</td>\n",
       "      <td>4078.160444</td>\n",
       "    </tr>\n",
       "    <tr>\n",
       "      <th>alfa_romeo</th>\n",
       "      <td>1898</td>\n",
       "      <td>4072.206006</td>\n",
       "    </tr>\n",
       "    <tr>\n",
       "      <th>mazda</th>\n",
       "      <td>4547</td>\n",
       "      <td>4067.997801</td>\n",
       "    </tr>\n",
       "    <tr>\n",
       "      <th>saab</th>\n",
       "      <td>456</td>\n",
       "      <td>4021.432018</td>\n",
       "    </tr>\n",
       "    <tr>\n",
       "      <th>citroen</th>\n",
       "      <td>4153</td>\n",
       "      <td>3803.388635</td>\n",
       "    </tr>\n",
       "    <tr>\n",
       "      <th>smart</th>\n",
       "      <td>4393</td>\n",
       "      <td>3739.173685</td>\n",
       "    </tr>\n",
       "    <tr>\n",
       "      <th>ford</th>\n",
       "      <td>19773</td>\n",
       "      <td>3614.490366</td>\n",
       "    </tr>\n",
       "    <tr>\n",
       "      <th>lada</th>\n",
       "      <td>148</td>\n",
       "      <td>3518.783784</td>\n",
       "    </tr>\n",
       "    <tr>\n",
       "      <th>peugeot</th>\n",
       "      <td>8989</td>\n",
       "      <td>3434.876738</td>\n",
       "    </tr>\n",
       "    <tr>\n",
       "      <th>mitsubishi</th>\n",
       "      <td>2380</td>\n",
       "      <td>3337.134454</td>\n",
       "    </tr>\n",
       "    <tr>\n",
       "      <th>opel</th>\n",
       "      <td>30892</td>\n",
       "      <td>3124.880746</td>\n",
       "    </tr>\n",
       "    <tr>\n",
       "      <th>fiat</th>\n",
       "      <td>7367</td>\n",
       "      <td>3063.625764</td>\n",
       "    </tr>\n",
       "    <tr>\n",
       "      <th>renault</th>\n",
       "      <td>13351</td>\n",
       "      <td>2635.299903</td>\n",
       "    </tr>\n",
       "    <tr>\n",
       "      <th>lancia</th>\n",
       "      <td>361</td>\n",
       "      <td>2557.271468</td>\n",
       "    </tr>\n",
       "    <tr>\n",
       "      <th>trabant</th>\n",
       "      <td>241</td>\n",
       "      <td>2387.099585</td>\n",
       "    </tr>\n",
       "    <tr>\n",
       "      <th>daihatsu</th>\n",
       "      <td>574</td>\n",
       "      <td>2027.684669</td>\n",
       "    </tr>\n",
       "    <tr>\n",
       "      <th>rover</th>\n",
       "      <td>343</td>\n",
       "      <td>1502.947522</td>\n",
       "    </tr>\n",
       "    <tr>\n",
       "      <th>daewoo</th>\n",
       "      <td>393</td>\n",
       "      <td>1086.600509</td>\n",
       "    </tr>\n",
       "  </tbody>\n",
       "</table>\n",
       "</div>"
      ],
      "text/plain": [
       "                count          mean\n",
       "brand                              \n",
       "porsche           608  12332.639803\n",
       "mini             2946   9239.346232\n",
       "land_rover        454   9141.808370\n",
       "sonstige_autos   1708   7782.900468\n",
       "jeep              559   7664.354204\n",
       "jaguar            426   7204.366197\n",
       "audi            24791   6828.885362\n",
       "bmw             31104   6709.365162\n",
       "mercedes_benz   26617   6390.696172\n",
       "skoda            4815   6307.588993\n",
       "dacia             769   5967.267880\n",
       "chevrolet        1420   5957.256338\n",
       "hyundai          3032   5546.912929\n",
       "kia              2044   5442.483366\n",
       "toyota           3935   5050.235324\n",
       "volkswagen      61872   4913.057280\n",
       "volvo            2725   4705.673394\n",
       "nissan           3892   4658.259250\n",
       "seat             5675   4484.914714\n",
       "suzuki           1885   4333.447745\n",
       "subaru            609   4179.779967\n",
       "chrysler         1124   4135.645907\n",
       "honda            2250   4078.160444\n",
       "alfa_romeo       1898   4072.206006\n",
       "mazda            4547   4067.997801\n",
       "saab              456   4021.432018\n",
       "citroen          4153   3803.388635\n",
       "smart            4393   3739.173685\n",
       "ford            19773   3614.490366\n",
       "lada              148   3518.783784\n",
       "peugeot          8989   3434.876738\n",
       "mitsubishi       2380   3337.134454\n",
       "opel            30892   3124.880746\n",
       "fiat             7367   3063.625764\n",
       "renault         13351   2635.299903\n",
       "lancia            361   2557.271468\n",
       "trabant           241   2387.099585\n",
       "daihatsu          574   2027.684669\n",
       "rover             343   1502.947522\n",
       "daewoo            393   1086.600509"
      ]
     },
     "execution_count": 60,
     "metadata": {},
     "output_type": "execute_result"
    }
   ],
   "source": [
    "df.groupby('brand', dropna=False)['price'].agg(\n",
    "    ['count', 'mean']).sort_values(by='mean', ascending=False)"
   ]
  },
  {
   "cell_type": "markdown",
   "metadata": {},
   "source": [
    "Мы видим что цена автомобиля зависит от марки автомобиля."
   ]
  },
  {
   "cell_type": "markdown",
   "metadata": {},
   "source": [
    "____"
   ]
  },
  {
   "cell_type": "markdown",
   "metadata": {},
   "source": [
    "Посмотрим на ячейку **not_repaired**"
   ]
  },
  {
   "cell_type": "code",
   "execution_count": 61,
   "metadata": {},
   "outputs": [
    {
     "data": {
      "text/html": [
       "<div>\n",
       "<style scoped>\n",
       "    .dataframe tbody tr th:only-of-type {\n",
       "        vertical-align: middle;\n",
       "    }\n",
       "\n",
       "    .dataframe tbody tr th {\n",
       "        vertical-align: top;\n",
       "    }\n",
       "\n",
       "    .dataframe thead th {\n",
       "        text-align: right;\n",
       "    }\n",
       "</style>\n",
       "<table border=\"1\" class=\"dataframe\">\n",
       "  <thead>\n",
       "    <tr style=\"text-align: right;\">\n",
       "      <th></th>\n",
       "      <th>count</th>\n",
       "      <th>mean</th>\n",
       "    </tr>\n",
       "    <tr>\n",
       "      <th>not_repaired</th>\n",
       "      <th></th>\n",
       "      <th></th>\n",
       "    </tr>\n",
       "  </thead>\n",
       "  <tbody>\n",
       "    <tr>\n",
       "      <th>no</th>\n",
       "      <td>219547</td>\n",
       "      <td>5584.155725</td>\n",
       "    </tr>\n",
       "    <tr>\n",
       "      <th>NaN</th>\n",
       "      <td>38909</td>\n",
       "      <td>3255.947930</td>\n",
       "    </tr>\n",
       "    <tr>\n",
       "      <th>yes</th>\n",
       "      <td>27063</td>\n",
       "      <td>2219.604626</td>\n",
       "    </tr>\n",
       "  </tbody>\n",
       "</table>\n",
       "</div>"
      ],
      "text/plain": [
       "               count         mean\n",
       "not_repaired                     \n",
       "no            219547  5584.155725\n",
       "NaN            38909  3255.947930\n",
       "yes            27063  2219.604626"
      ]
     },
     "execution_count": 61,
     "metadata": {},
     "output_type": "execute_result"
    }
   ],
   "source": [
    "df.groupby('not_repaired', dropna=False)['price'].agg(\n",
    "    ['count', 'mean']).sort_values(by='mean', ascending=False)"
   ]
  },
  {
   "cell_type": "markdown",
   "metadata": {},
   "source": [
    " Мы видим что цена продажи автомобиля зависит от того была ли машина в ремонте или нет. Причем разница почти в два раза. Имеются пропущенные значения, скорее всего это связано с тем, что Nan означает тоже самое, что если автомобиль не ремонтировался. Поэтому заменим пропущенные значения \"no\".  "
   ]
  },
  {
   "cell_type": "code",
   "execution_count": 62,
   "metadata": {},
   "outputs": [],
   "source": [
    "df['not_repaired'] = df['not_repaired'].fillna('other')"
   ]
  },
  {
   "cell_type": "markdown",
   "metadata": {},
   "source": [
    "----"
   ]
  },
  {
   "cell_type": "markdown",
   "metadata": {},
   "source": [
    "Посмотрим на столбец **date_created**"
   ]
  },
  {
   "cell_type": "code",
   "execution_count": 63,
   "metadata": {},
   "outputs": [
    {
     "data": {
      "text/plain": [
       "min   2015-03-20\n",
       "max   2016-04-07\n",
       "Name: date_created, dtype: datetime64[ns]"
      ]
     },
     "execution_count": 63,
     "metadata": {},
     "output_type": "execute_result"
    }
   ],
   "source": [
    "df['date_created'].agg(['min', 'max'])"
   ]
  },
  {
   "cell_type": "markdown",
   "metadata": {},
   "source": [
    "Обьъявления создавались с 2015 по 2016 год."
   ]
  },
  {
   "cell_type": "markdown",
   "metadata": {},
   "source": [
    "---"
   ]
  },
  {
   "cell_type": "markdown",
   "metadata": {},
   "source": [
    "Посмотрим на столбец  **number_of_pictures**"
   ]
  },
  {
   "cell_type": "code",
   "execution_count": 64,
   "metadata": {},
   "outputs": [
    {
     "data": {
      "text/plain": [
       "0    285519\n",
       "Name: number_of_pictures, dtype: int64"
      ]
     },
     "execution_count": 64,
     "metadata": {},
     "output_type": "execute_result"
    }
   ],
   "source": [
    "df['number_of_pictures'].value_counts(normalize=False)"
   ]
  },
  {
   "cell_type": "markdown",
   "metadata": {},
   "source": [
    "Данный столбец имеет только одно значение 0 - значит фотографии в приложение на загружались. Не забудем удалить при обучении модели."
   ]
  },
  {
   "cell_type": "markdown",
   "metadata": {},
   "source": [
    "---"
   ]
  },
  {
   "cell_type": "markdown",
   "metadata": {},
   "source": [
    "Посмотрим на столбце **postal_code**"
   ]
  },
  {
   "cell_type": "code",
   "execution_count": 65,
   "metadata": {},
   "outputs": [
    {
     "data": {
      "text/plain": [
       "10115    799\n",
       "65428    495\n",
       "60311    257\n",
       "66333    256\n",
       "78224    241\n",
       "Name: postal_code, dtype: int64"
      ]
     },
     "execution_count": 65,
     "metadata": {},
     "output_type": "execute_result"
    }
   ],
   "source": [
    "df['postal_code'].value_counts(normalize=False).head(5)"
   ]
  },
  {
   "cell_type": "code",
   "execution_count": 66,
   "metadata": {},
   "outputs": [
    {
     "data": {
      "text/plain": [
       "(285519, 16)"
      ]
     },
     "execution_count": 66,
     "metadata": {},
     "output_type": "execute_result"
    }
   ],
   "source": [
    "df.shape"
   ]
  },
  {
   "cell_type": "markdown",
   "metadata": {},
   "source": [
    "Мы имеем всего 8090 почтовых кодов. Можно  на основании этих данных составить карту с иконографикой от куда автомобили. Так например Postal Code 10115 это код Берлина 797 автомобилей от туда."
   ]
  },
  {
   "cell_type": "markdown",
   "metadata": {},
   "source": [
    "Посмотрим на столбец **last_seen**"
   ]
  },
  {
   "cell_type": "code",
   "execution_count": 67,
   "metadata": {
    "scrolled": true
   },
   "outputs": [
    {
     "data": {
      "text/plain": [
       "min   2016-03-05 14:15:16\n",
       "max   2016-04-07 14:58:51\n",
       "Name: last_seen, dtype: datetime64[ns]"
      ]
     },
     "execution_count": 67,
     "metadata": {},
     "output_type": "execute_result"
    }
   ],
   "source": [
    "df['last_seen'].agg(['min', 'max'])"
   ]
  },
  {
   "cell_type": "markdown",
   "metadata": {},
   "source": [
    "Дата последней активности пользователя данные представлены с 3 мая по 4 июля 2022 г."
   ]
  },
  {
   "cell_type": "markdown",
   "metadata": {},
   "source": [
    "---"
   ]
  },
  {
   "cell_type": "markdown",
   "metadata": {},
   "source": [
    "Посмотрим на последний столбец **vehicle_type**"
   ]
  },
  {
   "cell_type": "code",
   "execution_count": 68,
   "metadata": {},
   "outputs": [
    {
     "data": {
      "text/html": [
       "<div>\n",
       "<style scoped>\n",
       "    .dataframe tbody tr th:only-of-type {\n",
       "        vertical-align: middle;\n",
       "    }\n",
       "\n",
       "    .dataframe tbody tr th {\n",
       "        vertical-align: top;\n",
       "    }\n",
       "\n",
       "    .dataframe thead th {\n",
       "        text-align: right;\n",
       "    }\n",
       "</style>\n",
       "<table border=\"1\" class=\"dataframe\">\n",
       "  <thead>\n",
       "    <tr style=\"text-align: right;\">\n",
       "      <th></th>\n",
       "      <th>count</th>\n",
       "      <th>mean</th>\n",
       "    </tr>\n",
       "    <tr>\n",
       "      <th>vehicle_type</th>\n",
       "      <th></th>\n",
       "      <th></th>\n",
       "    </tr>\n",
       "  </thead>\n",
       "  <tbody>\n",
       "    <tr>\n",
       "      <th>suv</th>\n",
       "      <td>10695</td>\n",
       "      <td>9423.578401</td>\n",
       "    </tr>\n",
       "    <tr>\n",
       "      <th>convertible</th>\n",
       "      <td>18182</td>\n",
       "      <td>7123.147949</td>\n",
       "    </tr>\n",
       "    <tr>\n",
       "      <th>coupe</th>\n",
       "      <td>14081</td>\n",
       "      <td>6446.520062</td>\n",
       "    </tr>\n",
       "    <tr>\n",
       "      <th>bus</th>\n",
       "      <td>25567</td>\n",
       "      <td>5792.796183</td>\n",
       "    </tr>\n",
       "    <tr>\n",
       "      <th>wagon</th>\n",
       "      <td>56835</td>\n",
       "      <td>5259.728213</td>\n",
       "    </tr>\n",
       "    <tr>\n",
       "      <th>sedan</th>\n",
       "      <td>80208</td>\n",
       "      <td>5054.284822</td>\n",
       "    </tr>\n",
       "    <tr>\n",
       "      <th>other</th>\n",
       "      <td>2289</td>\n",
       "      <td>4045.362604</td>\n",
       "    </tr>\n",
       "    <tr>\n",
       "      <th>NaN</th>\n",
       "      <td>10820</td>\n",
       "      <td>2998.840481</td>\n",
       "    </tr>\n",
       "    <tr>\n",
       "      <th>small</th>\n",
       "      <td>66842</td>\n",
       "      <td>2955.108166</td>\n",
       "    </tr>\n",
       "  </tbody>\n",
       "</table>\n",
       "</div>"
      ],
      "text/plain": [
       "              count         mean\n",
       "vehicle_type                    \n",
       "suv           10695  9423.578401\n",
       "convertible   18182  7123.147949\n",
       "coupe         14081  6446.520062\n",
       "bus           25567  5792.796183\n",
       "wagon         56835  5259.728213\n",
       "sedan         80208  5054.284822\n",
       "other          2289  4045.362604\n",
       "NaN           10820  2998.840481\n",
       "small         66842  2955.108166"
      ]
     },
     "execution_count": 68,
     "metadata": {},
     "output_type": "execute_result"
    }
   ],
   "source": [
    "df.groupby('vehicle_type', dropna=False)['price'].agg(\n",
    "    ['count', 'mean']).sort_values(by='mean', ascending=False)"
   ]
  },
  {
   "cell_type": "markdown",
   "metadata": {},
   "source": [
    "Мы видим что цена автомобиля зависит от типа транспортного средства. На первом месте идет внедорожник, дальше кабриолет, и потом купе. Пропущенные значения удалим."
   ]
  },
  {
   "cell_type": "markdown",
   "metadata": {},
   "source": [
    "<div class=\"alert alert-info\"> <b>Комментарий студента: </b> Пропущенны значения заменим  на класс other.</div>"
   ]
  },
  {
   "cell_type": "markdown",
   "metadata": {},
   "source": [
    "<div class=\"alert alert-success\">\n",
    "\n",
    "<h2> Комментарий ревьюера 2 итерация <a class=\"tocSkip\"> </h2>\n",
    "\n",
    "Хорошо"
   ]
  },
  {
   "cell_type": "code",
   "execution_count": 69,
   "metadata": {},
   "outputs": [],
   "source": [
    "df['vehicle_type'] = df['vehicle_type'].fillna('other')"
   ]
  },
  {
   "cell_type": "markdown",
   "metadata": {},
   "source": [
    "### Вывод"
   ]
  },
  {
   "cell_type": "markdown",
   "metadata": {},
   "source": [
    "1. Данные выгружались в течение одного месяца.\n",
    "2. Минимальная цена за автомобиль 1 максимальная 20 тысяч. 75 процентов автомобилей стоя меньше чем 7299.\n",
    "3. Цена автомобиля зависит от типа транспортного средства. На первом месте по цене идет внедорожник, дальше кабриолет, и потом купе.\n",
    "3. Пик регистрации автомобилей пришелся на 2000 - 2005 год, далее количество зарегистрированных машин начало уменьшаться. Мы установили границы - нижняя 1899 год, верхняя 2016 год. Обоснования представлены выше.\n",
    "4. Дороже продаются машины с автоматической коробкой передач, но количество их очень мало по сравнению с механической.\n",
    "5. Чем больше мощность автомобиля, тем больше цена. Мощность большинства автомобилей находится в диапазоне от 4 до 400 лошадиных сил.\n",
    "6. Цена автомобиля зависит от модели машины. Тройка топ дорогих моделей - Mercedes-Benz GL-Класс, Mercedes-Benz GLC, Audi A5.\n",
    "7. Более 50 процентов автомобилей имею пробег 150 тысяч, наверное это связано с работой самого приложения, может быть оно не позволяет поставить пробег больше 150 тысяч.\n",
    "8. Цена автомобиля зависит от месяца регистрации автомобиля. Самая низкая цена в феврале и марте.\n",
    "9. Цена автомобиля зависит от типа топлива -  самые дорогие машины - гибриды, на втором месте электро и на третьем бензиновые.\n",
    "10. Цена автомобиля зависит от марки автомобиля. Топ три porshe, mini, land_rower.\n",
    "11. Цена продажи автомобиля зависит от того была ли машина в ремонте или нет.  Разница в цене между небитой и битой машиной почти в два раза.\n",
    "12. Фотографии в приложение на загружались.\n",
    "13. Имеется всего 8090 почтовых кодов.\n",
    "14. Цена автомобиля зависит от типа транспортного средства. На первом месте идет внедорожник, дальше кабриолет, и потом купе."
   ]
  },
  {
   "cell_type": "markdown",
   "metadata": {},
   "source": [
    "## Обучение моделей"
   ]
  },
  {
   "cell_type": "markdown",
   "metadata": {},
   "source": [
    "Составим план обучения моделей.\n",
    "\n",
    "   1. Делим на признаки и таргет.\n",
    "   2. Отмасштабируем признаки.\n",
    "   3. Обучим следующие модели:\n",
    "          Линейные модели (Линейная регрессия, Ridge регрессия, Lasso регрессия) + Decision Tree\n",
    "          Ансамблевые методы регрессии (Random forest regressor, GradientBoostingRegressor)\n",
    "          Иттеративные модели (Lightgbm, XGBoost, Catboost)\n",
    "       \n",
    "   3. 'RMSE','Learning time','Predict time','Model'"
   ]
  },
  {
   "cell_type": "markdown",
   "metadata": {},
   "source": [
    "Отмасштабируем признаки это нам понадобится для моделей линейной регрессии. Скопируем датасет, будем работать с двумя, одни данные мы отмасштабировали, для линейной регрессии, вторые оставим как есть, для ансамблевой и интерравтивной модели."
   ]
  },
  {
   "cell_type": "code",
   "execution_count": 70,
   "metadata": {},
   "outputs": [],
   "source": [
    "def training_time(feature_union, model, features_train, target_train):\n",
    "    pipeline = Pipeline([(\"preprocessing\", feature_union), (\"modelling\", model)])\n",
    "    start = time.time()\n",
    "    model = pipeline.fit(features_train, target_train)\n",
    "    stop = time.time()\n",
    "    time_traiding = stop - start\n",
    "    return time_traiding, model"
   ]
  },
  {
   "cell_type": "code",
   "execution_count": 71,
   "metadata": {},
   "outputs": [],
   "source": [
    "def predict_time(model, features_validate):\n",
    "    start = time.time()\n",
    "    predict = model.predict(features_validate)\n",
    "    stop = time.time()\n",
    "    time_predict = stop - start\n",
    "    return time_predict, predict"
   ]
  },
  {
   "cell_type": "markdown",
   "metadata": {},
   "source": [
    "А теперь функцию которая будет в наш Df добавлять данные."
   ]
  },
  {
   "cell_type": "code",
   "execution_count": 72,
   "metadata": {},
   "outputs": [],
   "source": [
    "def result_metrics(rmse, time_traiding, time_predict, model_name, df_result):\n",
    "    df_result.loc[model_name, 'rmse'] = rmse\n",
    "    df_result.loc[model_name, 'training_time'] = time_traiding\n",
    "    df_result.loc[model_name, 'predict_time'] = time_predict\n",
    "    return df_result"
   ]
  },
  {
   "cell_type": "markdown",
   "metadata": {},
   "source": [
    "Ну и создадим Df куда будем складывать результаты."
   ]
  },
  {
   "cell_type": "code",
   "execution_count": 73,
   "metadata": {
    "scrolled": true
   },
   "outputs": [
    {
     "data": {
      "text/html": [
       "<div>\n",
       "<style scoped>\n",
       "    .dataframe tbody tr th:only-of-type {\n",
       "        vertical-align: middle;\n",
       "    }\n",
       "\n",
       "    .dataframe tbody tr th {\n",
       "        vertical-align: top;\n",
       "    }\n",
       "\n",
       "    .dataframe thead th {\n",
       "        text-align: right;\n",
       "    }\n",
       "</style>\n",
       "<table border=\"1\" class=\"dataframe\">\n",
       "  <thead>\n",
       "    <tr style=\"text-align: right;\">\n",
       "      <th></th>\n",
       "      <th>rmse</th>\n",
       "      <th>training_time</th>\n",
       "      <th>predict_time</th>\n",
       "    </tr>\n",
       "  </thead>\n",
       "  <tbody>\n",
       "  </tbody>\n",
       "</table>\n",
       "</div>"
      ],
      "text/plain": [
       "Empty DataFrame\n",
       "Columns: [rmse, training_time, predict_time]\n",
       "Index: []"
      ]
     },
     "execution_count": 73,
     "metadata": {},
     "output_type": "execute_result"
    }
   ],
   "source": [
    "df_result = pd.DataFrame(columns=['rmse', 'training_time', 'predict_time'])\n",
    "df_result"
   ]
  },
  {
   "cell_type": "markdown",
   "metadata": {},
   "source": [
    "Логика следующая: \n",
    "    \n",
    "1. Разделим выборку на тестовую и общую тренировочную, а общую тренировочную еще на малую тренировочную и валлидационную.\n",
    "    \n",
    "2. Показатель RMSE будем получать с помощью cross_val на общей - всей тренировочной выборки, до того как мы  разделим ее на валлидационную.\n",
    "    \n",
    "3. На малой тренировочной выборке (малой то-есть которая получилась делением всей тренировочной выборки на малую тренировочную и валлидационную выборку мы обучим модель и замерим время обучения модели.\n",
    "    \n",
    "4. На валлидационной выборке мы замерим время предсказания модели.\n",
    "    \n",
    "5. На основании полученных выше показателей мы выберем лучшую модель и посмотрим как она себя ведет на тестовой выборке.\n",
    "</div>"
   ]
  },
  {
   "cell_type": "markdown",
   "metadata": {},
   "source": [
    "### Линейные модели"
   ]
  },
  {
   "cell_type": "code",
   "execution_count": 74,
   "metadata": {},
   "outputs": [],
   "source": [
    "to_dummies = ['vehicle_type', 'gearbox',\n",
    "                 'model', 'fuel_type', 'brand', 'not_repaired']"
   ]
  },
  {
   "cell_type": "code",
   "execution_count": 75,
   "metadata": {},
   "outputs": [],
   "source": [
    "numerical = ['registration_year', 'power', 'kilometer',\n",
    "             'registration_month', 'postal_code']"
   ]
  },
  {
   "cell_type": "code",
   "execution_count": 76,
   "metadata": {},
   "outputs": [],
   "source": [
    "target = df['price']\n",
    "features = df.drop(\n",
    "    ['date_crawled', 'price', 'date_created', 'number_of_pictures', 'last_seen'], axis=1)"
   ]
  },
  {
   "cell_type": "code",
   "execution_count": 77,
   "metadata": {},
   "outputs": [],
   "source": [
    "features_df_train, features_test, target_df_train, target_test = train_test_split(\n",
    "    features, target, test_size=0.25, random_state=12345)"
   ]
  },
  {
   "cell_type": "code",
   "execution_count": 78,
   "metadata": {},
   "outputs": [],
   "source": [
    "features_train, features_validate, target_train, target_validate  = train_test_split(\n",
    "    features_df_train, target_df_train, test_size=0.2, random_state=12345)"
   ]
  },
  {
   "cell_type": "markdown",
   "metadata": {},
   "source": [
    "Кадировал переменные через Pipeline."
   ]
  },
  {
   "cell_type": "code",
   "execution_count": 79,
   "metadata": {},
   "outputs": [],
   "source": [
    "# Объявляем scaler и OneHotEncoder() для числовых и категориальных переменных соответственно\n",
    "scaler = MinMaxScaler()\n",
    "ohe = OneHotEncoder(sparse=False, handle_unknown='ignore')"
   ]
  },
  {
   "cell_type": "code",
   "execution_count": 80,
   "metadata": {},
   "outputs": [],
   "source": [
    "# Делаем pipeline для числовых переменных датасета\n",
    "numerical_selector = FunctionTransformer(lambda df: df[numerical], validate=False)\n",
    "numerical_preprocessor = Pipeline([(\"numerical_selector\", numerical_selector), (\"scaling\", scaler)])\n",
    "# Делаем pipeline для категориальных переменных датасета\n",
    "dummy_selector = FunctionTransformer(lambda df: df[to_dummies], validate=False)\n",
    "dummy_preprocessor = Pipeline([(\"dummy_selector\", dummy_selector), (\"ohe\", ohe)])\n",
    "# Объединяем созданные выше pipeline в один с помощью функции FeatureUnion\n",
    "feature_union = FeatureUnion([(\"numerical_preprocessor\", numerical_preprocessor),\n",
    "(\"dummy_preprocessor\", dummy_preprocessor)])"
   ]
  },
  {
   "cell_type": "markdown",
   "metadata": {},
   "source": [
    "#### Линейная регрессия "
   ]
  },
  {
   "cell_type": "code",
   "execution_count": 81,
   "metadata": {
    "scrolled": true
   },
   "outputs": [
    {
     "data": {
      "text/html": [
       "<div>\n",
       "<style scoped>\n",
       "    .dataframe tbody tr th:only-of-type {\n",
       "        vertical-align: middle;\n",
       "    }\n",
       "\n",
       "    .dataframe tbody tr th {\n",
       "        vertical-align: top;\n",
       "    }\n",
       "\n",
       "    .dataframe thead th {\n",
       "        text-align: right;\n",
       "    }\n",
       "</style>\n",
       "<table border=\"1\" class=\"dataframe\">\n",
       "  <thead>\n",
       "    <tr style=\"text-align: right;\">\n",
       "      <th></th>\n",
       "      <th>rmse</th>\n",
       "      <th>training_time</th>\n",
       "      <th>predict_time</th>\n",
       "    </tr>\n",
       "  </thead>\n",
       "  <tbody>\n",
       "    <tr>\n",
       "      <th>Linear regression</th>\n",
       "      <td>2711.634286</td>\n",
       "      <td>11.846433</td>\n",
       "      <td>0.414667</td>\n",
       "    </tr>\n",
       "  </tbody>\n",
       "</table>\n",
       "</div>"
      ],
      "text/plain": [
       "                          rmse training_time predict_time\n",
       "Linear regression  2711.634286     11.846433     0.414667"
      ]
     },
     "execution_count": 81,
     "metadata": {},
     "output_type": "execute_result"
    }
   ],
   "source": [
    "LR_training_time, LR_model = training_time(feature_union,\n",
    "    linear_model.LinearRegression(), features_train, target_train)\n",
    "LR_predict_time, LR_predict = predict_time(LR_model, features_validate)\n",
    "LR_rmse = np.sqrt(mean_squared_error(target_validate, LR_predict))\n",
    "result_metrics(LR_rmse, LR_training_time, LR_predict_time, 'Linear regression', df_result)"
   ]
  },
  {
   "cell_type": "markdown",
   "metadata": {},
   "source": [
    " <div class=\"alert alert-info\"> <b>Комментарий студента: </b> Использовал только тренировочную выборку для выбора лучшей модели.</div>"
   ]
  },
  {
   "cell_type": "markdown",
   "metadata": {},
   "source": [
    "<div class=\"alert alert-success\">\n",
    "\n",
    "<h2> Комментарий ревьюера 2 итерация <a class=\"tocSkip\"> </h2>\n",
    "\n",
    "Плюс"
   ]
  },
  {
   "cell_type": "markdown",
   "metadata": {},
   "source": [
    "Получили значения, посмотрим еще на несколько моделей линейной регрессии."
   ]
  },
  {
   "cell_type": "markdown",
   "metadata": {},
   "source": [
    "#### Lasso регрессия"
   ]
  },
  {
   "cell_type": "markdown",
   "metadata": {},
   "source": [
    "Метод регрессии лассо (LASSO, Least Absolute Shrinkage and Selection Operator) — это вариация линейной регрессии, специально адаптированная для данных, которые демонстрируют сильную мультиколлинеарность (то есть сильную корреляцию признаков друг с другом), как раз у нас присутствуют такие данные.\n"
   ]
  },
  {
   "cell_type": "code",
   "execution_count": 82,
   "metadata": {
    "scrolled": true
   },
   "outputs": [
    {
     "data": {
      "text/html": [
       "<div>\n",
       "<style scoped>\n",
       "    .dataframe tbody tr th:only-of-type {\n",
       "        vertical-align: middle;\n",
       "    }\n",
       "\n",
       "    .dataframe tbody tr th {\n",
       "        vertical-align: top;\n",
       "    }\n",
       "\n",
       "    .dataframe thead th {\n",
       "        text-align: right;\n",
       "    }\n",
       "</style>\n",
       "<table border=\"1\" class=\"dataframe\">\n",
       "  <thead>\n",
       "    <tr style=\"text-align: right;\">\n",
       "      <th></th>\n",
       "      <th>rmse</th>\n",
       "      <th>training_time</th>\n",
       "      <th>predict_time</th>\n",
       "    </tr>\n",
       "  </thead>\n",
       "  <tbody>\n",
       "    <tr>\n",
       "      <th>Linear regression</th>\n",
       "      <td>2711.634286</td>\n",
       "      <td>11.846433</td>\n",
       "      <td>0.414667</td>\n",
       "    </tr>\n",
       "    <tr>\n",
       "      <th>Lasso regression</th>\n",
       "      <td>2728.053897</td>\n",
       "      <td>47.038173</td>\n",
       "      <td>0.342434</td>\n",
       "    </tr>\n",
       "  </tbody>\n",
       "</table>\n",
       "</div>"
      ],
      "text/plain": [
       "                          rmse training_time predict_time\n",
       "Linear regression  2711.634286     11.846433     0.414667\n",
       "Lasso regression   2728.053897     47.038173     0.342434"
      ]
     },
     "execution_count": 82,
     "metadata": {},
     "output_type": "execute_result"
    }
   ],
   "source": [
    "lasso_training_time, lasso_model = training_time(feature_union,\n",
    "    linear_model.LassoCV(), features_train, target_train)\n",
    "lasso_predict_time, lasso_predict = predict_time(\n",
    "    lasso_model, features_validate)\n",
    "lasso_rmse = np.sqrt(mean_squared_error(target_validate, lasso_predict))\n",
    "result_metrics(lasso_rmse, lasso_training_time, lasso_predict_time,\n",
    "               'Lasso regression', df_result)"
   ]
  },
  {
   "cell_type": "markdown",
   "metadata": {},
   "source": [
    "Результат получился хуже."
   ]
  },
  {
   "cell_type": "markdown",
   "metadata": {},
   "source": [
    "#### Гребневая регрессия (ридж-регрессия)"
   ]
  },
  {
   "cell_type": "markdown",
   "metadata": {},
   "source": [
    "Гребневая регрессия или ридж-регрессия очень похожа на регрессию LASSO в том, что она применяет сжатие. Однако самое большое различие между ними в том, что гребневая регрессия использует регуляризацию L2, то есть ни один из коэффициентов не становится нулевым, как это происходит в регрессии LASSO. Вместо этого коэффициенты всё больше приближаются к нулю, но не имеют большого стимула достичь его из-за природы регуляризации L2."
   ]
  },
  {
   "cell_type": "code",
   "execution_count": 83,
   "metadata": {
    "scrolled": true
   },
   "outputs": [
    {
     "data": {
      "text/html": [
       "<div>\n",
       "<style scoped>\n",
       "    .dataframe tbody tr th:only-of-type {\n",
       "        vertical-align: middle;\n",
       "    }\n",
       "\n",
       "    .dataframe tbody tr th {\n",
       "        vertical-align: top;\n",
       "    }\n",
       "\n",
       "    .dataframe thead th {\n",
       "        text-align: right;\n",
       "    }\n",
       "</style>\n",
       "<table border=\"1\" class=\"dataframe\">\n",
       "  <thead>\n",
       "    <tr style=\"text-align: right;\">\n",
       "      <th></th>\n",
       "      <th>rmse</th>\n",
       "      <th>training_time</th>\n",
       "      <th>predict_time</th>\n",
       "    </tr>\n",
       "  </thead>\n",
       "  <tbody>\n",
       "    <tr>\n",
       "      <th>Linear regression</th>\n",
       "      <td>2711.634286</td>\n",
       "      <td>11.846433</td>\n",
       "      <td>0.414667</td>\n",
       "    </tr>\n",
       "    <tr>\n",
       "      <th>Lasso regression</th>\n",
       "      <td>2728.053897</td>\n",
       "      <td>47.038173</td>\n",
       "      <td>0.342434</td>\n",
       "    </tr>\n",
       "    <tr>\n",
       "      <th>Ridge regression</th>\n",
       "      <td>2714.886593</td>\n",
       "      <td>35.211189</td>\n",
       "      <td>0.42589</td>\n",
       "    </tr>\n",
       "  </tbody>\n",
       "</table>\n",
       "</div>"
      ],
      "text/plain": [
       "                          rmse training_time predict_time\n",
       "Linear regression  2711.634286     11.846433     0.414667\n",
       "Lasso regression   2728.053897     47.038173     0.342434\n",
       "Ridge regression   2714.886593     35.211189      0.42589"
      ]
     },
     "execution_count": 83,
     "metadata": {},
     "output_type": "execute_result"
    }
   ],
   "source": [
    "Ridge_training_time, Ridge_model = training_time(feature_union, linear_model.RidgeCV(\n",
    "    alphas=np.logspace(1, 5, 13)), features_train, target_train)\n",
    "Ridge_predict_time, Ridge_predict = predict_time(Ridge_model, features_validate)\n",
    "Ridge_rmse = np.sqrt(mean_squared_error(target_validate, Ridge_predict))\n",
    "result_metrics(Ridge_rmse, Ridge_training_time, Ridge_predict_time,\n",
    "               'Ridge regression', df_result)"
   ]
  },
  {
   "cell_type": "markdown",
   "metadata": {},
   "source": [
    "Установили диапозон alphas  равномерно распределенный по логарифмической шкале внутри диапозона от 1 до 5"
   ]
  },
  {
   "cell_type": "markdown",
   "metadata": {},
   "source": [
    "#### Регрессия ElasticNet"
   ]
  },
  {
   "cell_type": "markdown",
   "metadata": {},
   "source": [
    "ElasticNet стремится объединить лучшее из гребневой регрессии и регрессии лассо, комбинируя регуляризацию L1 и L2."
   ]
  },
  {
   "cell_type": "code",
   "execution_count": 84,
   "metadata": {
    "scrolled": true
   },
   "outputs": [
    {
     "data": {
      "text/html": [
       "<div>\n",
       "<style scoped>\n",
       "    .dataframe tbody tr th:only-of-type {\n",
       "        vertical-align: middle;\n",
       "    }\n",
       "\n",
       "    .dataframe tbody tr th {\n",
       "        vertical-align: top;\n",
       "    }\n",
       "\n",
       "    .dataframe thead th {\n",
       "        text-align: right;\n",
       "    }\n",
       "</style>\n",
       "<table border=\"1\" class=\"dataframe\">\n",
       "  <thead>\n",
       "    <tr style=\"text-align: right;\">\n",
       "      <th></th>\n",
       "      <th>rmse</th>\n",
       "      <th>training_time</th>\n",
       "      <th>predict_time</th>\n",
       "    </tr>\n",
       "  </thead>\n",
       "  <tbody>\n",
       "    <tr>\n",
       "      <th>Linear regression</th>\n",
       "      <td>2711.634286</td>\n",
       "      <td>11.846433</td>\n",
       "      <td>0.414667</td>\n",
       "    </tr>\n",
       "    <tr>\n",
       "      <th>Lasso regression</th>\n",
       "      <td>2728.053897</td>\n",
       "      <td>47.038173</td>\n",
       "      <td>0.342434</td>\n",
       "    </tr>\n",
       "    <tr>\n",
       "      <th>Ridge regression</th>\n",
       "      <td>2714.886593</td>\n",
       "      <td>35.211189</td>\n",
       "      <td>0.42589</td>\n",
       "    </tr>\n",
       "    <tr>\n",
       "      <th>ElasticNet regression</th>\n",
       "      <td>4240.177422</td>\n",
       "      <td>24.62764</td>\n",
       "      <td>0.361706</td>\n",
       "    </tr>\n",
       "  </tbody>\n",
       "</table>\n",
       "</div>"
      ],
      "text/plain": [
       "                              rmse training_time predict_time\n",
       "Linear regression      2711.634286     11.846433     0.414667\n",
       "Lasso regression       2728.053897     47.038173     0.342434\n",
       "Ridge regression       2714.886593     35.211189      0.42589\n",
       "ElasticNet regression  4240.177422      24.62764     0.361706"
      ]
     },
     "execution_count": 84,
     "metadata": {},
     "output_type": "execute_result"
    }
   ],
   "source": [
    "ElasticNet_training_time, ElasticNet_model = training_time(feature_union,\n",
    "    linear_model.ElasticNetCV(), features_train, target_train)\n",
    "ElasticNet_predict_time, ElasticNet_predict = predict_time(ElasticNet_model, features_validate)\n",
    "ElasticNet_rmse = np.sqrt(mean_squared_error(target_validate, ElasticNet_predict))\n",
    "result_metrics(ElasticNet_rmse, ElasticNet_training_time, ElasticNet_predict_time,\n",
    "               'ElasticNet regression', df_result)"
   ]
  },
  {
   "cell_type": "markdown",
   "metadata": {},
   "source": [
    "#### DecisionTreeRegressor"
   ]
  },
  {
   "cell_type": "code",
   "execution_count": 85,
   "metadata": {},
   "outputs": [
    {
     "data": {
      "text/html": [
       "<div>\n",
       "<style scoped>\n",
       "    .dataframe tbody tr th:only-of-type {\n",
       "        vertical-align: middle;\n",
       "    }\n",
       "\n",
       "    .dataframe tbody tr th {\n",
       "        vertical-align: top;\n",
       "    }\n",
       "\n",
       "    .dataframe thead th {\n",
       "        text-align: right;\n",
       "    }\n",
       "</style>\n",
       "<table border=\"1\" class=\"dataframe\">\n",
       "  <thead>\n",
       "    <tr style=\"text-align: right;\">\n",
       "      <th></th>\n",
       "      <th>rmse</th>\n",
       "      <th>training_time</th>\n",
       "      <th>predict_time</th>\n",
       "    </tr>\n",
       "  </thead>\n",
       "  <tbody>\n",
       "    <tr>\n",
       "      <th>Linear regression</th>\n",
       "      <td>2711.634286</td>\n",
       "      <td>11.846433</td>\n",
       "      <td>0.414667</td>\n",
       "    </tr>\n",
       "    <tr>\n",
       "      <th>Lasso regression</th>\n",
       "      <td>2728.053897</td>\n",
       "      <td>47.038173</td>\n",
       "      <td>0.342434</td>\n",
       "    </tr>\n",
       "    <tr>\n",
       "      <th>Ridge regression</th>\n",
       "      <td>2714.886593</td>\n",
       "      <td>35.211189</td>\n",
       "      <td>0.42589</td>\n",
       "    </tr>\n",
       "    <tr>\n",
       "      <th>ElasticNet regression</th>\n",
       "      <td>4240.177422</td>\n",
       "      <td>24.62764</td>\n",
       "      <td>0.361706</td>\n",
       "    </tr>\n",
       "    <tr>\n",
       "      <th>Decision Tree Regressor</th>\n",
       "      <td>2082.102453</td>\n",
       "      <td>23.031683</td>\n",
       "      <td>0.483699</td>\n",
       "    </tr>\n",
       "  </tbody>\n",
       "</table>\n",
       "</div>"
      ],
      "text/plain": [
       "                                rmse training_time predict_time\n",
       "Linear regression        2711.634286     11.846433     0.414667\n",
       "Lasso regression         2728.053897     47.038173     0.342434\n",
       "Ridge regression         2714.886593     35.211189      0.42589\n",
       "ElasticNet regression    4240.177422      24.62764     0.361706\n",
       "Decision Tree Regressor  2082.102453     23.031683     0.483699"
      ]
     },
     "execution_count": 85,
     "metadata": {},
     "output_type": "execute_result"
    }
   ],
   "source": [
    "DecisionTreeRegressor_training_time, DecisionTreeRegressor_model = training_time(feature_union,\n",
    "    DecisionTreeRegressor(), features_train, target_train)\n",
    "DecisionTreeRegressor_predict_time, DecisionTreeRegressor_predict = predict_time(\n",
    "    DecisionTreeRegressor_model, features_validate)\n",
    "DecisionTreeRegressor_rmse = np.sqrt(mean_squared_error(\n",
    "    target_validate, DecisionTreeRegressor_predict))\n",
    "result_metrics(DecisionTreeRegressor_rmse, DecisionTreeRegressor_training_time,\n",
    "               DecisionTreeRegressor_predict_time, 'Decision Tree Regressor', df_result)"
   ]
  },
  {
   "cell_type": "markdown",
   "metadata": {},
   "source": [
    "#### Вывод"
   ]
  },
  {
   "cell_type": "markdown",
   "metadata": {},
   "source": [
    "Из результатов видно, что лучше всего по показателю rmse показала себя **Деревья решений** на втором месте **Linear regression** и на третьем месте **Ridge regression**, в тоже время  по такому показателю как время обучения на первом месте Linear regression а время предсказания - Ridge regression."
   ]
  },
  {
   "cell_type": "markdown",
   "metadata": {},
   "source": [
    "### Ансамблевые методы регрессии"
   ]
  },
  {
   "cell_type": "markdown",
   "metadata": {},
   "source": [
    "Тут категориальные переменные кодировал OrdinalEncoding."
   ]
  },
  {
   "cell_type": "code",
   "execution_count": 86,
   "metadata": {},
   "outputs": [],
   "source": [
    "# Объявляем scaler и OneHotEncoder() для числовых и категориальных переменных соответственно\n",
    "scaler = MinMaxScaler()\n",
    "ohe = OrdinalEncoder()"
   ]
  },
  {
   "cell_type": "code",
   "execution_count": 87,
   "metadata": {},
   "outputs": [],
   "source": [
    "# Делаем pipeline для числовых переменных датасета\n",
    "numerical_selector = FunctionTransformer(lambda df: df[numerical], validate=False)\n",
    "numerical_preprocessor = Pipeline([(\"numerical_selector\", numerical_selector), (\"scaling\", scaler)])\n",
    "# Делаем pipeline для категориальных переменных датасета\n",
    "dummy_selector = FunctionTransformer(lambda df: df[to_dummies], validate=False)\n",
    "dummy_preprocessor = Pipeline([(\"dummy_selector\", dummy_selector), (\"ohe\", ohe)])\n",
    "# Объединяем созданные выше pipeline в один с помощью функции FeatureUnion\n",
    "feature_union = FeatureUnion([(\"numerical_preprocessor\", numerical_preprocessor),\n",
    "(\"dummy_preprocessor\", dummy_preprocessor)])"
   ]
  },
  {
   "cell_type": "markdown",
   "metadata": {},
   "source": [
    "#### Random forest regressor"
   ]
  },
  {
   "cell_type": "code",
   "execution_count": 88,
   "metadata": {},
   "outputs": [
    {
     "data": {
      "text/html": [
       "<div>\n",
       "<style scoped>\n",
       "    .dataframe tbody tr th:only-of-type {\n",
       "        vertical-align: middle;\n",
       "    }\n",
       "\n",
       "    .dataframe tbody tr th {\n",
       "        vertical-align: top;\n",
       "    }\n",
       "\n",
       "    .dataframe thead th {\n",
       "        text-align: right;\n",
       "    }\n",
       "</style>\n",
       "<table border=\"1\" class=\"dataframe\">\n",
       "  <thead>\n",
       "    <tr style=\"text-align: right;\">\n",
       "      <th></th>\n",
       "      <th>rmse</th>\n",
       "      <th>training_time</th>\n",
       "      <th>predict_time</th>\n",
       "    </tr>\n",
       "  </thead>\n",
       "  <tbody>\n",
       "    <tr>\n",
       "      <th>Linear regression</th>\n",
       "      <td>2711.634286</td>\n",
       "      <td>11.846433</td>\n",
       "      <td>0.414667</td>\n",
       "    </tr>\n",
       "    <tr>\n",
       "      <th>Lasso regression</th>\n",
       "      <td>2728.053897</td>\n",
       "      <td>47.038173</td>\n",
       "      <td>0.342434</td>\n",
       "    </tr>\n",
       "    <tr>\n",
       "      <th>Ridge regression</th>\n",
       "      <td>2714.886593</td>\n",
       "      <td>35.211189</td>\n",
       "      <td>0.42589</td>\n",
       "    </tr>\n",
       "    <tr>\n",
       "      <th>ElasticNet regression</th>\n",
       "      <td>4240.177422</td>\n",
       "      <td>24.62764</td>\n",
       "      <td>0.361706</td>\n",
       "    </tr>\n",
       "    <tr>\n",
       "      <th>Decision Tree Regressor</th>\n",
       "      <td>2082.102453</td>\n",
       "      <td>23.031683</td>\n",
       "      <td>0.483699</td>\n",
       "    </tr>\n",
       "    <tr>\n",
       "      <th>Random forest regressor</th>\n",
       "      <td>1625.153211</td>\n",
       "      <td>22.893535</td>\n",
       "      <td>0.646755</td>\n",
       "    </tr>\n",
       "  </tbody>\n",
       "</table>\n",
       "</div>"
      ],
      "text/plain": [
       "                                rmse training_time predict_time\n",
       "Linear regression        2711.634286     11.846433     0.414667\n",
       "Lasso regression         2728.053897     47.038173     0.342434\n",
       "Ridge regression         2714.886593     35.211189      0.42589\n",
       "ElasticNet regression    4240.177422      24.62764     0.361706\n",
       "Decision Tree Regressor  2082.102453     23.031683     0.483699\n",
       "Random forest regressor  1625.153211     22.893535     0.646755"
      ]
     },
     "execution_count": 88,
     "metadata": {},
     "output_type": "execute_result"
    }
   ],
   "source": [
    "RF_training_time, RF_model = training_time(feature_union, RandomForestRegressor(\n",
    "    n_estimators=20, random_state=12345), features_train, target_train)\n",
    "RF_predict_time, RF_predict = predict_time(RF_model, features_validate)\n",
    "RF_rmse = np.sqrt(mean_squared_error(target_validate, RF_predict))\n",
    "result_metrics(RF_rmse, RF_training_time, RF_predict_time, 'Random forest regressor', df_result)"
   ]
  },
  {
   "cell_type": "markdown",
   "metadata": {},
   "source": [
    "#### Gradient Boosting Regressor"
   ]
  },
  {
   "cell_type": "code",
   "execution_count": 89,
   "metadata": {},
   "outputs": [
    {
     "data": {
      "text/html": [
       "<div>\n",
       "<style scoped>\n",
       "    .dataframe tbody tr th:only-of-type {\n",
       "        vertical-align: middle;\n",
       "    }\n",
       "\n",
       "    .dataframe tbody tr th {\n",
       "        vertical-align: top;\n",
       "    }\n",
       "\n",
       "    .dataframe thead th {\n",
       "        text-align: right;\n",
       "    }\n",
       "</style>\n",
       "<table border=\"1\" class=\"dataframe\">\n",
       "  <thead>\n",
       "    <tr style=\"text-align: right;\">\n",
       "      <th></th>\n",
       "      <th>rmse</th>\n",
       "      <th>training_time</th>\n",
       "      <th>predict_time</th>\n",
       "    </tr>\n",
       "  </thead>\n",
       "  <tbody>\n",
       "    <tr>\n",
       "      <th>Linear regression</th>\n",
       "      <td>2711.634286</td>\n",
       "      <td>11.846433</td>\n",
       "      <td>0.414667</td>\n",
       "    </tr>\n",
       "    <tr>\n",
       "      <th>Lasso regression</th>\n",
       "      <td>2728.053897</td>\n",
       "      <td>47.038173</td>\n",
       "      <td>0.342434</td>\n",
       "    </tr>\n",
       "    <tr>\n",
       "      <th>Ridge regression</th>\n",
       "      <td>2714.886593</td>\n",
       "      <td>35.211189</td>\n",
       "      <td>0.42589</td>\n",
       "    </tr>\n",
       "    <tr>\n",
       "      <th>ElasticNet regression</th>\n",
       "      <td>4240.177422</td>\n",
       "      <td>24.62764</td>\n",
       "      <td>0.361706</td>\n",
       "    </tr>\n",
       "    <tr>\n",
       "      <th>Decision Tree Regressor</th>\n",
       "      <td>2082.102453</td>\n",
       "      <td>23.031683</td>\n",
       "      <td>0.483699</td>\n",
       "    </tr>\n",
       "    <tr>\n",
       "      <th>Random forest regressor</th>\n",
       "      <td>1625.153211</td>\n",
       "      <td>22.893535</td>\n",
       "      <td>0.646755</td>\n",
       "    </tr>\n",
       "    <tr>\n",
       "      <th>Gradient Boosting Regressor</th>\n",
       "      <td>1962.221118</td>\n",
       "      <td>37.565302</td>\n",
       "      <td>0.147915</td>\n",
       "    </tr>\n",
       "  </tbody>\n",
       "</table>\n",
       "</div>"
      ],
      "text/plain": [
       "                                    rmse training_time predict_time\n",
       "Linear regression            2711.634286     11.846433     0.414667\n",
       "Lasso regression             2728.053897     47.038173     0.342434\n",
       "Ridge regression             2714.886593     35.211189      0.42589\n",
       "ElasticNet regression        4240.177422      24.62764     0.361706\n",
       "Decision Tree Regressor      2082.102453     23.031683     0.483699\n",
       "Random forest regressor      1625.153211     22.893535     0.646755\n",
       "Gradient Boosting Regressor  1962.221118     37.565302     0.147915"
      ]
     },
     "execution_count": 89,
     "metadata": {},
     "output_type": "execute_result"
    }
   ],
   "source": [
    "GB_training_time, GB_model = training_time(feature_union, GradientBoostingRegressor(\n",
    "    n_estimators=100), features_train, target_train)\n",
    "GB_predict_time, GB_predict = predict_time(\n",
    "    GB_model, features_validate)\n",
    "GB_rmse = np.sqrt(mean_squared_error(target_validate, GB_predict))\n",
    "result_metrics(GB_rmse, GB_training_time,GB_predict_time,\n",
    "               'Gradient Boosting Regressor', df_result)"
   ]
  },
  {
   "cell_type": "markdown",
   "metadata": {},
   "source": [
    "Итак среди Ансамблевых методов регрессии на первом месте **Случайный лес**."
   ]
  },
  {
   "cell_type": "markdown",
   "metadata": {},
   "source": [
    "### Иттеративные модели\n"
   ]
  },
  {
   "cell_type": "code",
   "execution_count": 90,
   "metadata": {},
   "outputs": [],
   "source": [
    "for c in to_dummies:\n",
    "    df[c] = df[c].astype('category')"
   ]
  },
  {
   "cell_type": "code",
   "execution_count": 91,
   "metadata": {},
   "outputs": [],
   "source": [
    "target = df['price']\n",
    "features = df.drop(\n",
    "    ['date_crawled', 'price', 'date_created', 'number_of_pictures', 'last_seen'], axis=1)"
   ]
  },
  {
   "cell_type": "code",
   "execution_count": 92,
   "metadata": {},
   "outputs": [],
   "source": [
    "features_df_train, features_test, target_df_train, target_test = train_test_split(\n",
    "    features, target, test_size=0.25, random_state=12345)"
   ]
  },
  {
   "cell_type": "code",
   "execution_count": 93,
   "metadata": {},
   "outputs": [],
   "source": [
    "features_train, features_validate, target_train, target_validate  = train_test_split(\n",
    "    features_df_train, target_df_train, test_size=0.2, random_state=12345)"
   ]
  },
  {
   "cell_type": "code",
   "execution_count": 94,
   "metadata": {},
   "outputs": [],
   "source": [
    "target = df['price']\n",
    "features = df.drop(\n",
    "    ['date_crawled', 'price', 'date_created', 'number_of_pictures', 'last_seen'], axis=1)\n",
    "\n",
    "features_df_train, features_test, target_df_train, target_test = train_test_split(\n",
    "    features, target, test_size=0.25, random_state=12345)\n",
    "\n",
    "features_train, features_validate, target_train, target_validate  = train_test_split(\n",
    "    features_df_train, target_df_train, test_size=0.2, random_state=12345)"
   ]
  },
  {
   "cell_type": "markdown",
   "metadata": {},
   "source": [
    "#### Lightgbm"
   ]
  },
  {
   "cell_type": "code",
   "execution_count": 95,
   "metadata": {},
   "outputs": [],
   "source": [
    "def training_time(model, features_train, target_train):\n",
    "    start = time.time()\n",
    "    model = model.fit(features_train, target_train)\n",
    "    stop = time.time()\n",
    "    time_traiding = stop - start\n",
    "    return time_traiding, model"
   ]
  },
  {
   "cell_type": "code",
   "execution_count": 96,
   "metadata": {},
   "outputs": [
    {
     "name": "stderr",
     "output_type": "stream",
     "text": [
      "/home/vic/anaconda3/lib/python3.9/site-packages/lightgbm/basic.py:1487: UserWarning: categorical_feature keyword has been found in `params` and will be ignored.\n",
      "Please use categorical_feature argument of the Dataset constructor to pass this parameter.\n",
      "  _log_warning(f'{key} keyword has been found in `params` and will be ignored.\\n'\n",
      "/home/vic/anaconda3/lib/python3.9/site-packages/lightgbm/basic.py:1513: UserWarning: categorical_feature in param dict is overridden.\n",
      "  _log_warning(f'{cat_alias} in param dict is overridden.')\n"
     ]
    },
    {
     "data": {
      "text/html": [
       "<div>\n",
       "<style scoped>\n",
       "    .dataframe tbody tr th:only-of-type {\n",
       "        vertical-align: middle;\n",
       "    }\n",
       "\n",
       "    .dataframe tbody tr th {\n",
       "        vertical-align: top;\n",
       "    }\n",
       "\n",
       "    .dataframe thead th {\n",
       "        text-align: right;\n",
       "    }\n",
       "</style>\n",
       "<table border=\"1\" class=\"dataframe\">\n",
       "  <thead>\n",
       "    <tr style=\"text-align: right;\">\n",
       "      <th></th>\n",
       "      <th>rmse</th>\n",
       "      <th>training_time</th>\n",
       "      <th>predict_time</th>\n",
       "    </tr>\n",
       "  </thead>\n",
       "  <tbody>\n",
       "    <tr>\n",
       "      <th>Linear regression</th>\n",
       "      <td>2711.634286</td>\n",
       "      <td>11.846433</td>\n",
       "      <td>0.414667</td>\n",
       "    </tr>\n",
       "    <tr>\n",
       "      <th>Lasso regression</th>\n",
       "      <td>2728.053897</td>\n",
       "      <td>47.038173</td>\n",
       "      <td>0.342434</td>\n",
       "    </tr>\n",
       "    <tr>\n",
       "      <th>Ridge regression</th>\n",
       "      <td>2714.886593</td>\n",
       "      <td>35.211189</td>\n",
       "      <td>0.42589</td>\n",
       "    </tr>\n",
       "    <tr>\n",
       "      <th>ElasticNet regression</th>\n",
       "      <td>4240.177422</td>\n",
       "      <td>24.62764</td>\n",
       "      <td>0.361706</td>\n",
       "    </tr>\n",
       "    <tr>\n",
       "      <th>Decision Tree Regressor</th>\n",
       "      <td>2082.102453</td>\n",
       "      <td>23.031683</td>\n",
       "      <td>0.483699</td>\n",
       "    </tr>\n",
       "    <tr>\n",
       "      <th>Random forest regressor</th>\n",
       "      <td>1625.153211</td>\n",
       "      <td>22.893535</td>\n",
       "      <td>0.646755</td>\n",
       "    </tr>\n",
       "    <tr>\n",
       "      <th>Gradient Boosting Regressor</th>\n",
       "      <td>1962.221118</td>\n",
       "      <td>37.565302</td>\n",
       "      <td>0.147915</td>\n",
       "    </tr>\n",
       "    <tr>\n",
       "      <th>Light Gradient Boosted Machine</th>\n",
       "      <td>1644.362057</td>\n",
       "      <td>1.523028</td>\n",
       "      <td>0.162309</td>\n",
       "    </tr>\n",
       "  </tbody>\n",
       "</table>\n",
       "</div>"
      ],
      "text/plain": [
       "                                       rmse training_time predict_time\n",
       "Linear regression               2711.634286     11.846433     0.414667\n",
       "Lasso regression                2728.053897     47.038173     0.342434\n",
       "Ridge regression                2714.886593     35.211189      0.42589\n",
       "ElasticNet regression           4240.177422      24.62764     0.361706\n",
       "Decision Tree Regressor         2082.102453     23.031683     0.483699\n",
       "Random forest regressor         1625.153211     22.893535     0.646755\n",
       "Gradient Boosting Regressor     1962.221118     37.565302     0.147915\n",
       "Light Gradient Boosted Machine  1644.362057      1.523028     0.162309"
      ]
     },
     "execution_count": 96,
     "metadata": {},
     "output_type": "execute_result"
    }
   ],
   "source": [
    "lgb_training_time, lgb_model = training_time(\n",
    "    LGBMRegressor(categorical_feature= to_dummies, random_state=12345), \n",
    "    features_train, target_train)\n",
    "lgb_predict_time, lgb_predict = predict_time(lgb_model, features_validate)\n",
    "lgb_rmse = np.sqrt(mean_squared_error(target_validate, lgb_predict))\n",
    "result_metrics(lgb_rmse, lgb_training_time, lgb_predict_time, \n",
    "               'Light Gradient Boosted Machine', df_result)"
   ]
  },
  {
   "cell_type": "markdown",
   "metadata": {},
   "source": [
    " #### XGBoost"
   ]
  },
  {
   "cell_type": "code",
   "execution_count": 97,
   "metadata": {},
   "outputs": [],
   "source": [
    "def training_time(feature_union, model, features_train, target_train):\n",
    "    pipeline = Pipeline([(\"preprocessing\", feature_union), (\"modelling\", model)])\n",
    "    start = time.time()\n",
    "    model = pipeline.fit(features_train, target_train)\n",
    "    stop = time.time()\n",
    "    time_traiding = stop - start\n",
    "    return time_traiding, model"
   ]
  },
  {
   "cell_type": "code",
   "execution_count": 98,
   "metadata": {},
   "outputs": [
    {
     "data": {
      "text/html": [
       "<div>\n",
       "<style scoped>\n",
       "    .dataframe tbody tr th:only-of-type {\n",
       "        vertical-align: middle;\n",
       "    }\n",
       "\n",
       "    .dataframe tbody tr th {\n",
       "        vertical-align: top;\n",
       "    }\n",
       "\n",
       "    .dataframe thead th {\n",
       "        text-align: right;\n",
       "    }\n",
       "</style>\n",
       "<table border=\"1\" class=\"dataframe\">\n",
       "  <thead>\n",
       "    <tr style=\"text-align: right;\">\n",
       "      <th></th>\n",
       "      <th>rmse</th>\n",
       "      <th>training_time</th>\n",
       "      <th>predict_time</th>\n",
       "    </tr>\n",
       "  </thead>\n",
       "  <tbody>\n",
       "    <tr>\n",
       "      <th>Linear regression</th>\n",
       "      <td>2711.634286</td>\n",
       "      <td>11.846433</td>\n",
       "      <td>0.414667</td>\n",
       "    </tr>\n",
       "    <tr>\n",
       "      <th>Lasso regression</th>\n",
       "      <td>2728.053897</td>\n",
       "      <td>47.038173</td>\n",
       "      <td>0.342434</td>\n",
       "    </tr>\n",
       "    <tr>\n",
       "      <th>Ridge regression</th>\n",
       "      <td>2714.886593</td>\n",
       "      <td>35.211189</td>\n",
       "      <td>0.42589</td>\n",
       "    </tr>\n",
       "    <tr>\n",
       "      <th>ElasticNet regression</th>\n",
       "      <td>4240.177422</td>\n",
       "      <td>24.62764</td>\n",
       "      <td>0.361706</td>\n",
       "    </tr>\n",
       "    <tr>\n",
       "      <th>Decision Tree Regressor</th>\n",
       "      <td>2082.102453</td>\n",
       "      <td>23.031683</td>\n",
       "      <td>0.483699</td>\n",
       "    </tr>\n",
       "    <tr>\n",
       "      <th>Random forest regressor</th>\n",
       "      <td>1625.153211</td>\n",
       "      <td>22.893535</td>\n",
       "      <td>0.646755</td>\n",
       "    </tr>\n",
       "    <tr>\n",
       "      <th>Gradient Boosting Regressor</th>\n",
       "      <td>1962.221118</td>\n",
       "      <td>37.565302</td>\n",
       "      <td>0.147915</td>\n",
       "    </tr>\n",
       "    <tr>\n",
       "      <th>Light Gradient Boosted Machine</th>\n",
       "      <td>1644.362057</td>\n",
       "      <td>1.523028</td>\n",
       "      <td>0.162309</td>\n",
       "    </tr>\n",
       "    <tr>\n",
       "      <th>XGBoost</th>\n",
       "      <td>1643.078731</td>\n",
       "      <td>20.924968</td>\n",
       "      <td>0.238576</td>\n",
       "    </tr>\n",
       "  </tbody>\n",
       "</table>\n",
       "</div>"
      ],
      "text/plain": [
       "                                       rmse training_time predict_time\n",
       "Linear regression               2711.634286     11.846433     0.414667\n",
       "Lasso regression                2728.053897     47.038173     0.342434\n",
       "Ridge regression                2714.886593     35.211189      0.42589\n",
       "ElasticNet regression           4240.177422      24.62764     0.361706\n",
       "Decision Tree Regressor         2082.102453     23.031683     0.483699\n",
       "Random forest regressor         1625.153211     22.893535     0.646755\n",
       "Gradient Boosting Regressor     1962.221118     37.565302     0.147915\n",
       "Light Gradient Boosted Machine  1644.362057      1.523028     0.162309\n",
       "XGBoost                         1643.078731     20.924968     0.238576"
      ]
     },
     "execution_count": 98,
     "metadata": {},
     "output_type": "execute_result"
    }
   ],
   "source": [
    "xgbr_training_time, xgbr_model = training_time(feature_union,\n",
    "    xgb.XGBRegressor(random_state=12345),features_train, target_train)\n",
    "xgbr_predict_time, xgbr_predict = predict_time(xgbr_model, features_validate)\n",
    "xgbr_rmse = np.sqrt(mean_squared_error(target_validate, xgbr_predict))\n",
    "result_metrics(xgbr_rmse, xgbr_training_time, xgbr_predict_time, 'XGBoost', df_result)"
   ]
  },
  {
   "cell_type": "markdown",
   "metadata": {},
   "source": [
    " #### CatBoost"
   ]
  },
  {
   "cell_type": "code",
   "execution_count": 99,
   "metadata": {},
   "outputs": [],
   "source": [
    "def training_time(model, features_train, target_train):\n",
    "    start = time.time()\n",
    "    model = model.fit(features_train, target_train)\n",
    "    stop = time.time()\n",
    "    time_traiding = stop - start\n",
    "    return time_traiding, model"
   ]
  },
  {
   "cell_type": "code",
   "execution_count": 100,
   "metadata": {
    "scrolled": true
   },
   "outputs": [
    {
     "data": {
      "text/html": [
       "<div>\n",
       "<style scoped>\n",
       "    .dataframe tbody tr th:only-of-type {\n",
       "        vertical-align: middle;\n",
       "    }\n",
       "\n",
       "    .dataframe tbody tr th {\n",
       "        vertical-align: top;\n",
       "    }\n",
       "\n",
       "    .dataframe thead th {\n",
       "        text-align: right;\n",
       "    }\n",
       "</style>\n",
       "<table border=\"1\" class=\"dataframe\">\n",
       "  <thead>\n",
       "    <tr style=\"text-align: right;\">\n",
       "      <th></th>\n",
       "      <th>rmse</th>\n",
       "      <th>training_time</th>\n",
       "      <th>predict_time</th>\n",
       "    </tr>\n",
       "  </thead>\n",
       "  <tbody>\n",
       "    <tr>\n",
       "      <th>Linear regression</th>\n",
       "      <td>2711.634286</td>\n",
       "      <td>11.846433</td>\n",
       "      <td>0.414667</td>\n",
       "    </tr>\n",
       "    <tr>\n",
       "      <th>Lasso regression</th>\n",
       "      <td>2728.053897</td>\n",
       "      <td>47.038173</td>\n",
       "      <td>0.342434</td>\n",
       "    </tr>\n",
       "    <tr>\n",
       "      <th>Ridge regression</th>\n",
       "      <td>2714.886593</td>\n",
       "      <td>35.211189</td>\n",
       "      <td>0.42589</td>\n",
       "    </tr>\n",
       "    <tr>\n",
       "      <th>ElasticNet regression</th>\n",
       "      <td>4240.177422</td>\n",
       "      <td>24.62764</td>\n",
       "      <td>0.361706</td>\n",
       "    </tr>\n",
       "    <tr>\n",
       "      <th>Decision Tree Regressor</th>\n",
       "      <td>2082.102453</td>\n",
       "      <td>23.031683</td>\n",
       "      <td>0.483699</td>\n",
       "    </tr>\n",
       "    <tr>\n",
       "      <th>Random forest regressor</th>\n",
       "      <td>1625.153211</td>\n",
       "      <td>22.893535</td>\n",
       "      <td>0.646755</td>\n",
       "    </tr>\n",
       "    <tr>\n",
       "      <th>Gradient Boosting Regressor</th>\n",
       "      <td>1962.221118</td>\n",
       "      <td>37.565302</td>\n",
       "      <td>0.147915</td>\n",
       "    </tr>\n",
       "    <tr>\n",
       "      <th>Light Gradient Boosted Machine</th>\n",
       "      <td>1644.362057</td>\n",
       "      <td>1.523028</td>\n",
       "      <td>0.162309</td>\n",
       "    </tr>\n",
       "    <tr>\n",
       "      <th>XGBoost</th>\n",
       "      <td>1643.078731</td>\n",
       "      <td>20.924968</td>\n",
       "      <td>0.238576</td>\n",
       "    </tr>\n",
       "    <tr>\n",
       "      <th>Catboost</th>\n",
       "      <td>1690.86639</td>\n",
       "      <td>6.459947</td>\n",
       "      <td>0.042929</td>\n",
       "    </tr>\n",
       "  </tbody>\n",
       "</table>\n",
       "</div>"
      ],
      "text/plain": [
       "                                       rmse training_time predict_time\n",
       "Linear regression               2711.634286     11.846433     0.414667\n",
       "Lasso regression                2728.053897     47.038173     0.342434\n",
       "Ridge regression                2714.886593     35.211189      0.42589\n",
       "ElasticNet regression           4240.177422      24.62764     0.361706\n",
       "Decision Tree Regressor         2082.102453     23.031683     0.483699\n",
       "Random forest regressor         1625.153211     22.893535     0.646755\n",
       "Gradient Boosting Regressor     1962.221118     37.565302     0.147915\n",
       "Light Gradient Boosted Machine  1644.362057      1.523028     0.162309\n",
       "XGBoost                         1643.078731     20.924968     0.238576\n",
       "Catboost                         1690.86639      6.459947     0.042929"
      ]
     },
     "execution_count": 100,
     "metadata": {},
     "output_type": "execute_result"
    }
   ],
   "source": [
    "cb_training_time, cb_model = training_time(CatBoostRegressor(\n",
    "    loss_function='RMSE', n_estimators=100, silent=True, cat_features=to_dummies), \n",
    "    features_train, target_train)\n",
    "cb_predict_time, cb_predict = predict_time(cb_model, features_validate)\n",
    "cb_rmse = np.sqrt(mean_squared_error(target_validate, cb_predict))\n",
    "result_metrics(cb_rmse, cb_training_time, cb_predict_time, 'Catboost', df_result)"
   ]
  },
  {
   "cell_type": "markdown",
   "metadata": {},
   "source": [
    "## Анализ моделей"
   ]
  },
  {
   "cell_type": "markdown",
   "metadata": {},
   "source": [
    "Посмотрим на показатель RMSE"
   ]
  },
  {
   "cell_type": "code",
   "execution_count": 101,
   "metadata": {},
   "outputs": [
    {
     "data": {
      "text/html": [
       "<div>\n",
       "<style scoped>\n",
       "    .dataframe tbody tr th:only-of-type {\n",
       "        vertical-align: middle;\n",
       "    }\n",
       "\n",
       "    .dataframe tbody tr th {\n",
       "        vertical-align: top;\n",
       "    }\n",
       "\n",
       "    .dataframe thead th {\n",
       "        text-align: right;\n",
       "    }\n",
       "</style>\n",
       "<table border=\"1\" class=\"dataframe\">\n",
       "  <thead>\n",
       "    <tr style=\"text-align: right;\">\n",
       "      <th></th>\n",
       "      <th>rmse</th>\n",
       "      <th>training_time</th>\n",
       "      <th>predict_time</th>\n",
       "    </tr>\n",
       "  </thead>\n",
       "  <tbody>\n",
       "    <tr>\n",
       "      <th>Random forest regressor</th>\n",
       "      <td>1625.153211</td>\n",
       "      <td>22.893535</td>\n",
       "      <td>0.646755</td>\n",
       "    </tr>\n",
       "    <tr>\n",
       "      <th>XGBoost</th>\n",
       "      <td>1643.078731</td>\n",
       "      <td>20.924968</td>\n",
       "      <td>0.238576</td>\n",
       "    </tr>\n",
       "    <tr>\n",
       "      <th>Light Gradient Boosted Machine</th>\n",
       "      <td>1644.362057</td>\n",
       "      <td>1.523028</td>\n",
       "      <td>0.162309</td>\n",
       "    </tr>\n",
       "    <tr>\n",
       "      <th>Catboost</th>\n",
       "      <td>1690.86639</td>\n",
       "      <td>6.459947</td>\n",
       "      <td>0.042929</td>\n",
       "    </tr>\n",
       "    <tr>\n",
       "      <th>Gradient Boosting Regressor</th>\n",
       "      <td>1962.221118</td>\n",
       "      <td>37.565302</td>\n",
       "      <td>0.147915</td>\n",
       "    </tr>\n",
       "    <tr>\n",
       "      <th>Decision Tree Regressor</th>\n",
       "      <td>2082.102453</td>\n",
       "      <td>23.031683</td>\n",
       "      <td>0.483699</td>\n",
       "    </tr>\n",
       "    <tr>\n",
       "      <th>Linear regression</th>\n",
       "      <td>2711.634286</td>\n",
       "      <td>11.846433</td>\n",
       "      <td>0.414667</td>\n",
       "    </tr>\n",
       "    <tr>\n",
       "      <th>Ridge regression</th>\n",
       "      <td>2714.886593</td>\n",
       "      <td>35.211189</td>\n",
       "      <td>0.42589</td>\n",
       "    </tr>\n",
       "    <tr>\n",
       "      <th>Lasso regression</th>\n",
       "      <td>2728.053897</td>\n",
       "      <td>47.038173</td>\n",
       "      <td>0.342434</td>\n",
       "    </tr>\n",
       "    <tr>\n",
       "      <th>ElasticNet regression</th>\n",
       "      <td>4240.177422</td>\n",
       "      <td>24.62764</td>\n",
       "      <td>0.361706</td>\n",
       "    </tr>\n",
       "  </tbody>\n",
       "</table>\n",
       "</div>"
      ],
      "text/plain": [
       "                                       rmse training_time predict_time\n",
       "Random forest regressor         1625.153211     22.893535     0.646755\n",
       "XGBoost                         1643.078731     20.924968     0.238576\n",
       "Light Gradient Boosted Machine  1644.362057      1.523028     0.162309\n",
       "Catboost                         1690.86639      6.459947     0.042929\n",
       "Gradient Boosting Regressor     1962.221118     37.565302     0.147915\n",
       "Decision Tree Regressor         2082.102453     23.031683     0.483699\n",
       "Linear regression               2711.634286     11.846433     0.414667\n",
       "Ridge regression                2714.886593     35.211189      0.42589\n",
       "Lasso regression                2728.053897     47.038173     0.342434\n",
       "ElasticNet regression           4240.177422      24.62764     0.361706"
      ]
     },
     "execution_count": 101,
     "metadata": {},
     "output_type": "execute_result"
    }
   ],
   "source": [
    "df_result.sort_values(by='rmse')"
   ]
  },
  {
   "cell_type": "markdown",
   "metadata": {},
   "source": [
    "По показателю  RMSE лучше всех себя показали модели в порядке убывания - \"Случайный лес\", 'XGBoost' и 'Catboost'"
   ]
  },
  {
   "cell_type": "markdown",
   "metadata": {},
   "source": [
    "Посмотрим теперь на время обучения"
   ]
  },
  {
   "cell_type": "code",
   "execution_count": 102,
   "metadata": {},
   "outputs": [
    {
     "data": {
      "text/html": [
       "<div>\n",
       "<style scoped>\n",
       "    .dataframe tbody tr th:only-of-type {\n",
       "        vertical-align: middle;\n",
       "    }\n",
       "\n",
       "    .dataframe tbody tr th {\n",
       "        vertical-align: top;\n",
       "    }\n",
       "\n",
       "    .dataframe thead th {\n",
       "        text-align: right;\n",
       "    }\n",
       "</style>\n",
       "<table border=\"1\" class=\"dataframe\">\n",
       "  <thead>\n",
       "    <tr style=\"text-align: right;\">\n",
       "      <th></th>\n",
       "      <th>rmse</th>\n",
       "      <th>training_time</th>\n",
       "      <th>predict_time</th>\n",
       "    </tr>\n",
       "  </thead>\n",
       "  <tbody>\n",
       "    <tr>\n",
       "      <th>Light Gradient Boosted Machine</th>\n",
       "      <td>1644.362057</td>\n",
       "      <td>1.523028</td>\n",
       "      <td>0.162309</td>\n",
       "    </tr>\n",
       "    <tr>\n",
       "      <th>Catboost</th>\n",
       "      <td>1690.86639</td>\n",
       "      <td>6.459947</td>\n",
       "      <td>0.042929</td>\n",
       "    </tr>\n",
       "    <tr>\n",
       "      <th>Linear regression</th>\n",
       "      <td>2711.634286</td>\n",
       "      <td>11.846433</td>\n",
       "      <td>0.414667</td>\n",
       "    </tr>\n",
       "    <tr>\n",
       "      <th>XGBoost</th>\n",
       "      <td>1643.078731</td>\n",
       "      <td>20.924968</td>\n",
       "      <td>0.238576</td>\n",
       "    </tr>\n",
       "    <tr>\n",
       "      <th>Random forest regressor</th>\n",
       "      <td>1625.153211</td>\n",
       "      <td>22.893535</td>\n",
       "      <td>0.646755</td>\n",
       "    </tr>\n",
       "    <tr>\n",
       "      <th>Decision Tree Regressor</th>\n",
       "      <td>2082.102453</td>\n",
       "      <td>23.031683</td>\n",
       "      <td>0.483699</td>\n",
       "    </tr>\n",
       "    <tr>\n",
       "      <th>ElasticNet regression</th>\n",
       "      <td>4240.177422</td>\n",
       "      <td>24.62764</td>\n",
       "      <td>0.361706</td>\n",
       "    </tr>\n",
       "    <tr>\n",
       "      <th>Ridge regression</th>\n",
       "      <td>2714.886593</td>\n",
       "      <td>35.211189</td>\n",
       "      <td>0.42589</td>\n",
       "    </tr>\n",
       "    <tr>\n",
       "      <th>Gradient Boosting Regressor</th>\n",
       "      <td>1962.221118</td>\n",
       "      <td>37.565302</td>\n",
       "      <td>0.147915</td>\n",
       "    </tr>\n",
       "    <tr>\n",
       "      <th>Lasso regression</th>\n",
       "      <td>2728.053897</td>\n",
       "      <td>47.038173</td>\n",
       "      <td>0.342434</td>\n",
       "    </tr>\n",
       "  </tbody>\n",
       "</table>\n",
       "</div>"
      ],
      "text/plain": [
       "                                       rmse training_time predict_time\n",
       "Light Gradient Boosted Machine  1644.362057      1.523028     0.162309\n",
       "Catboost                         1690.86639      6.459947     0.042929\n",
       "Linear regression               2711.634286     11.846433     0.414667\n",
       "XGBoost                         1643.078731     20.924968     0.238576\n",
       "Random forest regressor         1625.153211     22.893535     0.646755\n",
       "Decision Tree Regressor         2082.102453     23.031683     0.483699\n",
       "ElasticNet regression           4240.177422      24.62764     0.361706\n",
       "Ridge regression                2714.886593     35.211189      0.42589\n",
       "Gradient Boosting Regressor     1962.221118     37.565302     0.147915\n",
       "Lasso regression                2728.053897     47.038173     0.342434"
      ]
     },
     "execution_count": 102,
     "metadata": {},
     "output_type": "execute_result"
    }
   ],
   "source": [
    "df_result.sort_values(by='training_time')"
   ]
  },
  {
   "cell_type": "markdown",
   "metadata": {},
   "source": [
    "По показателю время обучения модели - Light Gradient Boosted Machine', 'Catboost', 'Decision Tree Regressor'."
   ]
  },
  {
   "cell_type": "markdown",
   "metadata": {},
   "source": [
    "Посмотрим теперь на время предсказания"
   ]
  },
  {
   "cell_type": "code",
   "execution_count": 103,
   "metadata": {},
   "outputs": [
    {
     "data": {
      "text/html": [
       "<div>\n",
       "<style scoped>\n",
       "    .dataframe tbody tr th:only-of-type {\n",
       "        vertical-align: middle;\n",
       "    }\n",
       "\n",
       "    .dataframe tbody tr th {\n",
       "        vertical-align: top;\n",
       "    }\n",
       "\n",
       "    .dataframe thead th {\n",
       "        text-align: right;\n",
       "    }\n",
       "</style>\n",
       "<table border=\"1\" class=\"dataframe\">\n",
       "  <thead>\n",
       "    <tr style=\"text-align: right;\">\n",
       "      <th></th>\n",
       "      <th>rmse</th>\n",
       "      <th>training_time</th>\n",
       "      <th>predict_time</th>\n",
       "    </tr>\n",
       "  </thead>\n",
       "  <tbody>\n",
       "    <tr>\n",
       "      <th>Catboost</th>\n",
       "      <td>1690.86639</td>\n",
       "      <td>6.459947</td>\n",
       "      <td>0.042929</td>\n",
       "    </tr>\n",
       "    <tr>\n",
       "      <th>Gradient Boosting Regressor</th>\n",
       "      <td>1962.221118</td>\n",
       "      <td>37.565302</td>\n",
       "      <td>0.147915</td>\n",
       "    </tr>\n",
       "    <tr>\n",
       "      <th>Light Gradient Boosted Machine</th>\n",
       "      <td>1644.362057</td>\n",
       "      <td>1.523028</td>\n",
       "      <td>0.162309</td>\n",
       "    </tr>\n",
       "    <tr>\n",
       "      <th>XGBoost</th>\n",
       "      <td>1643.078731</td>\n",
       "      <td>20.924968</td>\n",
       "      <td>0.238576</td>\n",
       "    </tr>\n",
       "    <tr>\n",
       "      <th>Lasso regression</th>\n",
       "      <td>2728.053897</td>\n",
       "      <td>47.038173</td>\n",
       "      <td>0.342434</td>\n",
       "    </tr>\n",
       "    <tr>\n",
       "      <th>ElasticNet regression</th>\n",
       "      <td>4240.177422</td>\n",
       "      <td>24.62764</td>\n",
       "      <td>0.361706</td>\n",
       "    </tr>\n",
       "    <tr>\n",
       "      <th>Linear regression</th>\n",
       "      <td>2711.634286</td>\n",
       "      <td>11.846433</td>\n",
       "      <td>0.414667</td>\n",
       "    </tr>\n",
       "    <tr>\n",
       "      <th>Ridge regression</th>\n",
       "      <td>2714.886593</td>\n",
       "      <td>35.211189</td>\n",
       "      <td>0.42589</td>\n",
       "    </tr>\n",
       "    <tr>\n",
       "      <th>Decision Tree Regressor</th>\n",
       "      <td>2082.102453</td>\n",
       "      <td>23.031683</td>\n",
       "      <td>0.483699</td>\n",
       "    </tr>\n",
       "    <tr>\n",
       "      <th>Random forest regressor</th>\n",
       "      <td>1625.153211</td>\n",
       "      <td>22.893535</td>\n",
       "      <td>0.646755</td>\n",
       "    </tr>\n",
       "  </tbody>\n",
       "</table>\n",
       "</div>"
      ],
      "text/plain": [
       "                                       rmse training_time predict_time\n",
       "Catboost                         1690.86639      6.459947     0.042929\n",
       "Gradient Boosting Regressor     1962.221118     37.565302     0.147915\n",
       "Light Gradient Boosted Machine  1644.362057      1.523028     0.162309\n",
       "XGBoost                         1643.078731     20.924968     0.238576\n",
       "Lasso regression                2728.053897     47.038173     0.342434\n",
       "ElasticNet regression           4240.177422      24.62764     0.361706\n",
       "Linear regression               2711.634286     11.846433     0.414667\n",
       "Ridge regression                2714.886593     35.211189      0.42589\n",
       "Decision Tree Regressor         2082.102453     23.031683     0.483699\n",
       "Random forest regressor         1625.153211     22.893535     0.646755"
      ]
     },
     "execution_count": 103,
     "metadata": {},
     "output_type": "execute_result"
    }
   ],
   "source": [
    "df_result.sort_values(by='predict_time')"
   ]
  },
  {
   "cell_type": "markdown",
   "metadata": {},
   "source": [
    "По показателю время обучения модели - 'Catboost', 'XGBoost', 'Gradient Boosting Regressor'."
   ]
  },
  {
   "cell_type": "markdown",
   "metadata": {},
   "source": [
    "Посмотрим как RMSE зависит от времени предсказания"
   ]
  },
  {
   "cell_type": "markdown",
   "metadata": {},
   "source": [
    "Добавим новый столбец с названием модели"
   ]
  },
  {
   "cell_type": "code",
   "execution_count": 104,
   "metadata": {},
   "outputs": [],
   "source": [
    "df_result['name_model'] = df_result.index"
   ]
  },
  {
   "cell_type": "markdown",
   "metadata": {},
   "source": [
    "Посмотрим как RMSE зависит от время обучения модели."
   ]
  },
  {
   "cell_type": "code",
   "execution_count": 105,
   "metadata": {},
   "outputs": [
    {
     "data": {
      "image/png": "[encoded data removed]",
      "text/plain": [
       "<Figure size 1152x576 with 1 Axes>"
      ]
     },
     "metadata": {
      "needs_background": "light"
     },
     "output_type": "display_data"
    }
   ],
   "source": [
    "plt.figure(figsize=(16, 8))\n",
    "sns.scatterplot(data=df_result, x='training_time', y='rmse', hue='name_model')\n",
    "plt.title('RMSE от времени обучения модели');"
   ]
  },
  {
   "cell_type": "markdown",
   "metadata": {},
   "source": [
    "Закономерности я не вижу, так \"Случайный лес\" обучается долго, 'XGBoost' в два раза быстрее но показатель RMSE у моделей одинаковый, а \"Градиентный бустинг\" и 'Catboost' обучаюся очень мало по времени но по показателю RMSE они сопоставимы с моделями обучающимеся в два и в три раза больше."
   ]
  },
  {
   "cell_type": "markdown",
   "metadata": {},
   "source": [
    "Посмотрим как RMSE зависит от время предсказания модели."
   ]
  },
  {
   "cell_type": "code",
   "execution_count": 106,
   "metadata": {},
   "outputs": [
    {
     "data": {
      "image/png": "[encoded data removed]",
      "text/plain": [
       "<Figure size 1152x576 with 1 Axes>"
      ]
     },
     "metadata": {
      "needs_background": "light"
     },
     "output_type": "display_data"
    }
   ],
   "source": [
    "plt.figure(figsize=(16, 8))\n",
    "sns.scatterplot(data=df_result, x='predict_time', y='rmse', hue='name_model')\n",
    "plt.title('RMSE от времени предсказания модели');"
   ]
  },
  {
   "cell_type": "markdown",
   "metadata": {},
   "source": [
    "\n",
    "По времени предсказания модели Catboost со значительным отрывом занимает первое место."
   ]
  },
  {
   "cell_type": "markdown",
   "metadata": {},
   "source": [
    "### Вывод"
   ]
  },
  {
   "cell_type": "markdown",
   "metadata": {},
   "source": [
    "1. По показателю  RMSE луше всех себя показали модели в порядке убывания - \"Случайный лес\", 'XGBoost' и 'Catboost'\n",
    "    \n",
    "2. По показателю время обучения модели - 'Light Gradient Boosted Machine', 'Catboost', 'Decision Tree Regressor'.\n",
    "    \n",
    "3. По показателю время предсказание - 'Catboost', 'XGBoost', 'Gradient Boosting Regressor'\n",
    "    \n",
    "4. RMSE не зависит от времени обучения и времени предсказания модели."
   ]
  },
  {
   "cell_type": "markdown",
   "metadata": {},
   "source": [
    "## Выбор оптимальной модели"
   ]
  },
  {
   "cell_type": "markdown",
   "metadata": {},
   "source": [
    "Проведя анализ показателей эффективности модели, оптимальная модель - Catboost. Во первых Catboost обучает модель в пять раз быстрее, а для больших данных это плюс. Во вторых по показателю RMSE Catboost хуже топ двух всего на 73. Посмотрим как ведет себя модель на тестововой выборке."
   ]
  },
  {
   "cell_type": "code",
   "execution_count": 107,
   "metadata": {
    "scrolled": true
   },
   "outputs": [
    {
     "name": "stdout",
     "output_type": "stream",
     "text": [
      "Время предсказания модели 0.12197017669677734, RMSE=1670.169811719665\n"
     ]
    }
   ],
   "source": [
    "cb_predict_time, cb_predict = predict_time(cb_model, features_test)\n",
    "cb_rmse = np.sqrt(mean_squared_error(target_test, cb_predict))\n",
    "print(f'Время предсказания модели {cb_predict_time}, RMSE={cb_rmse}')"
   ]
  },
  {
   "cell_type": "markdown",
   "metadata": {},
   "source": [
    "Наша модель показала лучший результат по RMSE чем на обучающей выборке, но время предсказания получилось в два раза больше чем время оучения."
   ]
  }
 ],
 "metadata": {
  "ExecuteTimeLog": [
   {
    "duration": 4074,
    "start_time": "2022-08-21T12:45:45.814Z"
   },
   {
    "duration": 3495,
    "start_time": "2022-08-21T12:45:49.891Z"
   },
   {
    "duration": 20,
    "start_time": "2022-08-21T12:45:53.389Z"
   },
   {
    "duration": 4,
    "start_time": "2022-08-21T12:45:53.411Z"
   },
   {
    "duration": 141,
    "start_time": "2022-08-21T12:45:53.416Z"
   },
   {
    "duration": 424,
    "start_time": "2022-08-21T12:45:53.558Z"
   },
   {
    "duration": 29,
    "start_time": "2022-08-21T12:45:53.984Z"
   },
   {
    "duration": 5,
    "start_time": "2022-08-21T12:45:54.015Z"
   },
   {
    "duration": 110,
    "start_time": "2022-08-21T12:45:54.022Z"
   },
   {
    "duration": 317,
    "start_time": "2022-08-21T12:45:54.134Z"
   },
   {
    "duration": 333,
    "start_time": "2022-08-21T12:45:54.453Z"
   },
   {
    "duration": 356,
    "start_time": "2022-08-21T12:45:54.789Z"
   },
   {
    "duration": 304,
    "start_time": "2022-08-21T12:45:55.147Z"
   },
   {
    "duration": 92,
    "start_time": "2022-08-21T12:45:55.453Z"
   },
   {
    "duration": 9,
    "start_time": "2022-08-21T12:45:55.546Z"
   },
   {
    "duration": 15,
    "start_time": "2022-08-21T12:45:55.571Z"
   },
   {
    "duration": 22,
    "start_time": "2022-08-21T12:45:55.588Z"
   },
   {
    "duration": 747,
    "start_time": "2022-08-21T12:45:55.612Z"
   },
   {
    "duration": 32,
    "start_time": "2022-08-21T12:45:56.362Z"
   },
   {
    "duration": 43,
    "start_time": "2022-08-21T12:45:56.396Z"
   },
   {
    "duration": 13,
    "start_time": "2022-08-21T12:45:56.442Z"
   },
   {
    "duration": 627,
    "start_time": "2022-08-21T12:45:56.469Z"
   },
   {
    "duration": 8,
    "start_time": "2022-08-21T12:45:57.098Z"
   },
   {
    "duration": 127,
    "start_time": "2022-08-21T12:45:57.109Z"
   },
   {
    "duration": 683,
    "start_time": "2022-08-21T12:45:57.239Z"
   },
   {
    "duration": 1600,
    "start_time": "2022-08-21T12:45:57.924Z"
   },
   {
    "duration": 71,
    "start_time": "2022-08-21T12:45:59.527Z"
   },
   {
    "duration": 42,
    "start_time": "2022-08-21T12:45:59.601Z"
   },
   {
    "duration": 7,
    "start_time": "2022-08-21T12:45:59.645Z"
   },
   {
    "duration": 27,
    "start_time": "2022-08-21T12:45:59.669Z"
   },
   {
    "duration": 34,
    "start_time": "2022-08-21T12:45:59.698Z"
   },
   {
    "duration": 398,
    "start_time": "2022-08-21T12:45:59.734Z"
   },
   {
    "duration": 18,
    "start_time": "2022-08-21T12:46:00.135Z"
   },
   {
    "duration": 1432,
    "start_time": "2022-08-21T12:46:00.155Z"
   },
   {
    "duration": 15,
    "start_time": "2022-08-21T12:46:01.595Z"
   },
   {
    "duration": 49,
    "start_time": "2022-08-21T12:46:01.613Z"
   },
   {
    "duration": 30,
    "start_time": "2022-08-21T12:46:01.664Z"
   },
   {
    "duration": 215,
    "start_time": "2022-08-21T12:46:01.696Z"
   },
   {
    "duration": 36,
    "start_time": "2022-08-21T12:46:01.924Z"
   },
   {
    "duration": 67,
    "start_time": "2022-08-21T12:46:02.090Z"
   },
   {
    "duration": 17,
    "start_time": "2022-08-21T12:46:02.444Z"
   },
   {
    "duration": 275,
    "start_time": "2022-08-21T12:46:03.374Z"
   },
   {
    "duration": 43,
    "start_time": "2022-08-21T12:46:03.652Z"
   },
   {
    "duration": 490,
    "start_time": "2022-08-21T12:46:03.728Z"
   },
   {
    "duration": 20,
    "start_time": "2022-08-21T12:46:04.392Z"
   },
   {
    "duration": 302,
    "start_time": "2022-08-21T12:46:04.841Z"
   },
   {
    "duration": 12,
    "start_time": "2022-08-21T12:46:05.204Z"
   },
   {
    "duration": 12,
    "start_time": "2022-08-21T12:46:05.649Z"
   },
   {
    "duration": 50,
    "start_time": "2022-08-21T12:46:05.852Z"
   },
   {
    "duration": 17,
    "start_time": "2022-08-21T12:46:06.142Z"
   },
   {
    "duration": 238,
    "start_time": "2022-08-21T12:46:06.346Z"
   },
   {
    "duration": 42,
    "start_time": "2022-08-21T12:46:07.183Z"
   },
   {
    "duration": 339,
    "start_time": "2022-08-21T12:46:07.513Z"
   },
   {
    "duration": 19,
    "start_time": "2022-08-21T12:46:07.882Z"
   },
   {
    "duration": 45,
    "start_time": "2022-08-21T12:46:08.392Z"
   },
   {
    "duration": 515,
    "start_time": "2022-08-21T12:46:08.873Z"
   },
   {
    "duration": 42,
    "start_time": "2022-08-21T12:46:09.390Z"
   },
   {
    "duration": 31,
    "start_time": "2022-08-21T12:46:09.806Z"
   },
   {
    "duration": 17,
    "start_time": "2022-08-21T12:46:10.138Z"
   },
   {
    "duration": 8,
    "start_time": "2022-08-21T12:46:10.850Z"
   },
   {
    "duration": 8,
    "start_time": "2022-08-21T12:46:12.149Z"
   },
   {
    "duration": 11,
    "start_time": "2022-08-21T12:46:15.331Z"
   },
   {
    "duration": 5,
    "start_time": "2022-08-21T12:46:15.532Z"
   },
   {
    "duration": 11,
    "start_time": "2022-08-21T12:46:16.185Z"
   },
   {
    "duration": 35,
    "start_time": "2022-08-21T12:46:16.997Z"
   },
   {
    "duration": 44,
    "start_time": "2022-08-21T12:46:17.451Z"
   },
   {
    "duration": 35,
    "start_time": "2022-08-21T12:46:25.951Z"
   },
   {
    "duration": 25,
    "start_time": "2022-08-21T12:47:48.333Z"
   },
   {
    "duration": 1668,
    "start_time": "2022-08-24T14:28:26.398Z"
   },
   {
    "duration": 2809,
    "start_time": "2022-08-24T14:28:28.068Z"
   },
   {
    "duration": 16,
    "start_time": "2022-08-24T14:28:30.879Z"
   },
   {
    "duration": 89,
    "start_time": "2022-08-24T14:28:30.896Z"
   },
   {
    "duration": 119,
    "start_time": "2022-08-24T14:28:30.987Z"
   },
   {
    "duration": 385,
    "start_time": "2022-08-24T14:28:31.107Z"
   },
   {
    "duration": 25,
    "start_time": "2022-08-24T14:28:31.494Z"
   },
   {
    "duration": 12,
    "start_time": "2022-08-24T14:28:31.521Z"
   },
   {
    "duration": 69,
    "start_time": "2022-08-24T14:28:31.535Z"
   },
   {
    "duration": 233,
    "start_time": "2022-08-24T14:28:31.606Z"
   },
   {
    "duration": 222,
    "start_time": "2022-08-24T14:28:31.840Z"
   },
   {
    "duration": 238,
    "start_time": "2022-08-24T14:28:32.267Z"
   },
   {
    "duration": 205,
    "start_time": "2022-08-24T14:28:32.580Z"
   },
   {
    "duration": 62,
    "start_time": "2022-08-24T14:28:33.458Z"
   },
   {
    "duration": 7,
    "start_time": "2022-08-24T14:28:34.173Z"
   },
   {
    "duration": 5,
    "start_time": "2022-08-24T14:28:35.075Z"
   },
   {
    "duration": 15,
    "start_time": "2022-08-24T14:28:35.422Z"
   },
   {
    "duration": 360,
    "start_time": "2022-08-24T14:28:35.639Z"
   },
   {
    "duration": 19,
    "start_time": "2022-08-24T14:28:36.001Z"
   },
   {
    "duration": 10,
    "start_time": "2022-08-24T14:28:38.581Z"
   },
   {
    "duration": 9,
    "start_time": "2022-08-24T14:28:39.181Z"
   },
   {
    "duration": 25,
    "start_time": "2022-08-24T14:28:39.295Z"
   },
   {
    "duration": 5,
    "start_time": "2022-08-24T14:28:39.613Z"
   },
   {
    "duration": 304,
    "start_time": "2022-08-24T14:28:39.796Z"
   },
   {
    "duration": 5,
    "start_time": "2022-08-24T14:28:40.123Z"
   },
   {
    "duration": 28,
    "start_time": "2022-08-24T14:28:43.079Z"
   },
   {
    "duration": 373,
    "start_time": "2022-08-24T14:28:43.275Z"
   },
   {
    "duration": 1189,
    "start_time": "2022-08-24T14:28:43.650Z"
   },
   {
    "duration": 151,
    "start_time": "2022-08-24T14:28:59.670Z"
   },
   {
    "duration": 142,
    "start_time": "2022-08-24T14:29:08.093Z"
   },
   {
    "duration": 2171,
    "start_time": "2022-08-24T14:29:17.066Z"
   },
   {
    "duration": 2960,
    "start_time": "2022-08-24T14:29:27.931Z"
   },
   {
    "duration": 2212,
    "start_time": "2022-08-24T14:30:26.697Z"
   },
   {
    "duration": 2237,
    "start_time": "2022-08-24T14:30:50.836Z"
   },
   {
    "duration": 97,
    "start_time": "2022-08-24T14:31:50.429Z"
   },
   {
    "duration": 4311,
    "start_time": "2022-08-24T14:32:01.308Z"
   },
   {
    "duration": 3584,
    "start_time": "2022-08-24T16:13:31.585Z"
   },
   {
    "duration": 2189,
    "start_time": "2022-08-24T16:13:40.532Z"
   },
   {
    "duration": 21,
    "start_time": "2022-08-24T16:13:51.126Z"
   },
   {
    "duration": 11,
    "start_time": "2022-08-24T16:15:09.951Z"
   },
   {
    "duration": 18,
    "start_time": "2022-08-24T16:15:16.053Z"
   },
   {
    "duration": 634,
    "start_time": "2022-08-24T16:15:45.257Z"
   },
   {
    "duration": 3221,
    "start_time": "2022-08-24T16:17:32.093Z"
   },
   {
    "duration": 4102,
    "start_time": "2022-08-24T16:22:36.763Z"
   },
   {
    "duration": 3464,
    "start_time": "2022-08-24T16:23:07.094Z"
   },
   {
    "duration": 4020,
    "start_time": "2022-08-24T16:23:19.886Z"
   },
   {
    "duration": 4171,
    "start_time": "2022-08-24T16:23:44.485Z"
   },
   {
    "duration": 146,
    "start_time": "2022-08-24T16:24:06.683Z"
   },
   {
    "duration": 4239,
    "start_time": "2022-08-24T16:24:26.274Z"
   },
   {
    "duration": 7634,
    "start_time": "2022-08-24T16:26:17.372Z"
   },
   {
    "duration": 4383,
    "start_time": "2022-08-24T16:26:32.619Z"
   },
   {
    "duration": 10,
    "start_time": "2022-08-24T16:35:04.700Z"
   },
   {
    "duration": 16561,
    "start_time": "2022-08-24T16:35:17.900Z"
   },
   {
    "duration": 60,
    "start_time": "2022-08-24T16:35:36.213Z"
   },
   {
    "duration": 61,
    "start_time": "2022-08-24T16:35:41.911Z"
   },
   {
    "duration": 9,
    "start_time": "2022-08-24T16:35:59.398Z"
   },
   {
    "duration": 60,
    "start_time": "2022-08-24T16:36:03.827Z"
   },
   {
    "duration": 4,
    "start_time": "2022-08-24T16:36:58.174Z"
   },
   {
    "duration": 1142,
    "start_time": "2022-08-24T16:37:05.501Z"
   },
   {
    "duration": 565,
    "start_time": "2022-08-24T16:38:56.049Z"
   },
   {
    "duration": 104,
    "start_time": "2022-08-24T16:39:13.536Z"
   },
   {
    "duration": 13,
    "start_time": "2022-08-24T16:39:17.612Z"
   },
   {
    "duration": 11,
    "start_time": "2022-08-24T16:39:30.549Z"
   },
   {
    "duration": 754,
    "start_time": "2022-08-24T16:39:33.626Z"
   },
   {
    "duration": 766,
    "start_time": "2022-08-24T16:39:50.453Z"
   },
   {
    "duration": 99,
    "start_time": "2022-08-24T16:40:51.874Z"
   }
  ],
  "kernelspec": {
   "display_name": "Python 3 (ipykernel)",
   "language": "python",
   "name": "python3"
  },
  "language_info": {
   "codemirror_mode": {
    "name": "ipython",
    "version": 3
   },
   "file_extension": ".py",
   "mimetype": "text/x-python",
   "name": "python",
   "nbconvert_exporter": "python",
   "pygments_lexer": "ipython3",
   "version": "3.10.8"
  },
  "toc": {
   "base_numbering": 1,
   "nav_menu": {},
   "number_sections": true,
   "sideBar": true,
   "skip_h1_title": true,
   "title_cell": "Table of Contents",
   "title_sidebar": "Contents",
   "toc_cell": false,
   "toc_position": {},
   "toc_section_display": true,
   "toc_window_display": false
  },
  "varInspector": {
   "cols": {
    "lenName": 16,
    "lenType": 16,
    "lenVar": 40
   },
   "kernels_config": {
    "python": {
     "delete_cmd_postfix": "",
     "delete_cmd_prefix": "del ",
     "library": "var_list.py",
     "varRefreshCmd": "print(var_dic_list())"
    },
    "r": {
     "delete_cmd_postfix": ") ",
     "delete_cmd_prefix": "rm(",
     "library": "var_list.r",
     "varRefreshCmd": "cat(var_dic_list()) "
    }
   },
   "types_to_exclude": [
    "module",
    "function",
    "builtin_function_or_method",
    "instance",
    "_Feature"
   ],
   "window_display": false
  }
 },
 "nbformat": 4,
 "nbformat_minor": 4
}
