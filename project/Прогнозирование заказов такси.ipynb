{
 "cells": [
  {
   "cell_type": "markdown",
   "metadata": {
    "id": "r9tkPRF4nRgs",
    "toc": true
   },
   "source": [
    "<h1>Содержание<span class=\"tocSkip\"></span></h1>\n",
    "<div class=\"toc\"><ul class=\"toc-item\"><li><span><a href=\"#Подготовка\" data-toc-modified-id=\"Подготовка-1\"><span class=\"toc-item-num\">1&nbsp;&nbsp;</span>Подготовка</a></span></li><li><span><a href=\"#Анализ\" data-toc-modified-id=\"Анализ-2\"><span class=\"toc-item-num\">2&nbsp;&nbsp;</span>Анализ</a></span><ul class=\"toc-item\"><li><span><a href=\"#Анализ-всего-периода\" data-toc-modified-id=\"Анализ-всего-периода-2.1\"><span class=\"toc-item-num\">2.1&nbsp;&nbsp;</span>Анализ всего периода</a></span><ul class=\"toc-item\"><li><span><a href=\"#Вывод\" data-toc-modified-id=\"Вывод-2.1.1\"><span class=\"toc-item-num\">2.1.1&nbsp;&nbsp;</span>Вывод</a></span></li></ul></li><li><span><a href=\"#Неделя\" data-toc-modified-id=\"Неделя-2.2\"><span class=\"toc-item-num\">2.2&nbsp;&nbsp;</span>Неделя</a></span></li><li><span><a href=\"#День\" data-toc-modified-id=\"День-2.3\"><span class=\"toc-item-num\">2.3&nbsp;&nbsp;</span>День</a></span></li><li><span><a href=\"#Вывод\" data-toc-modified-id=\"Вывод-2.4\"><span class=\"toc-item-num\">2.4&nbsp;&nbsp;</span>Вывод</a></span></li></ul></li><li><span><a href=\"#Обучение\" data-toc-modified-id=\"Обучение-3\"><span class=\"toc-item-num\">3&nbsp;&nbsp;</span>Обучение</a></span><ul class=\"toc-item\"><li><span><a href=\"#Подготовка-функций\" data-toc-modified-id=\"Подготовка-функций-3.1\"><span class=\"toc-item-num\">3.1&nbsp;&nbsp;</span>Подготовка функций</a></span></li><li><span><a href=\"#Среднее-значение\" data-toc-modified-id=\"Среднее-значение-3.2\"><span class=\"toc-item-num\">3.2&nbsp;&nbsp;</span>Среднее значение</a></span></li><li><span><a href=\"#Взвешенная-средняя\" data-toc-modified-id=\"Взвешенная-средняя-3.3\"><span class=\"toc-item-num\">3.3&nbsp;&nbsp;</span>Взвешенная средняя</a></span></li><li><span><a href=\"#Подготовка-данных-для-модели.\" data-toc-modified-id=\"Подготовка-данных-для-модели.-3.4\"><span class=\"toc-item-num\">3.4&nbsp;&nbsp;</span>Подготовка данных для модели.</a></span></li><li><span><a href=\"#Линейная-регрессия\" data-toc-modified-id=\"Линейная-регрессия-3.5\"><span class=\"toc-item-num\">3.5&nbsp;&nbsp;</span>Линейная регрессия</a></span></li><li><span><a href=\"#Случайный-лес\" data-toc-modified-id=\"Случайный-лес-3.6\"><span class=\"toc-item-num\">3.6&nbsp;&nbsp;</span>Случайный лес</a></span></li><li><span><a href=\"#Catboost\" data-toc-modified-id=\"Catboost-3.7\"><span class=\"toc-item-num\">3.7&nbsp;&nbsp;</span>Catboost</a></span></li></ul></li><li><span><a href=\"#Тестирование\" data-toc-modified-id=\"Тестирование-4\"><span class=\"toc-item-num\">4&nbsp;&nbsp;</span>Тестирование</a></span></li><li><span><a href=\"#Вывод\" data-toc-modified-id=\"Вывод-5\"><span class=\"toc-item-num\">5&nbsp;&nbsp;</span>Вывод</a></span></li><li><span><a href=\"#Чек-лист-проверки\" data-toc-modified-id=\"Чек-лист-проверки-6\"><span class=\"toc-item-num\">6&nbsp;&nbsp;</span>Чек-лист проверки</a></span></li></ul></div>"
   ]
  },
  {
   "cell_type": "markdown",
   "metadata": {
    "id": "ivpIydsBnRg1"
   },
   "source": [
    "#  Прогнозирование заказов такси"
   ]
  },
  {
   "cell_type": "markdown",
   "metadata": {
    "id": "j6yICmKHnRg2"
   },
   "source": [
    "Компания «Чётенькое такси» собрала исторические данные о заказах такси в аэропортах. Чтобы привлекать больше водителей в период пиковой нагрузки, нужно спрогнозировать количество заказов такси на следующий час. Постройте модель для такого предсказания.\n",
    "\n",
    "Значение метрики *RMSE* на тестовой выборке должно быть не больше 48.\n",
    "\n",
    "Вам нужно:\n",
    "\n",
    "1. Загрузить данные и выполнить их ресемплирование по одному часу.\n",
    "2. Проанализировать данные.\n",
    "3. Обучить разные модели с различными гиперпараметрами. Сделать тестовую выборку размером 10% от исходных данных.\n",
    "4. Проверить данные на тестовой выборке и сделать выводы.\n",
    "\n",
    "\n",
    "Данные лежат в файле `taxi.csv`. Количество заказов находится в столбце `num_orders` (от англ. *number of orders*, «число заказов»)."
   ]
  },
  {
   "cell_type": "markdown",
   "metadata": {
    "id": "Bz9mhPQtnRg3"
   },
   "source": [
    "## Подготовка"
   ]
  },
  {
   "cell_type": "code",
   "execution_count": 1,
   "metadata": {
    "id": "783_TfpWnRg4"
   },
   "outputs": [],
   "source": [
    "import pandas as pd\n",
    "import numpy as np\n",
    "\n",
    "import seaborn as sns\n",
    "import matplotlib.pyplot as plt\n",
    "\n",
    "from statsmodels.tsa.seasonal import seasonal_decompose\n",
    "\n",
    "from sklearn.linear_model import LinearRegression \n",
    "from sklearn.ensemble import RandomForestRegressor \n",
    "\n",
    "#from fbprophet import Prophet\n",
    "\n",
    "import catboost as cb\n",
    "\n",
    "from sklearn.model_selection import cross_val_score, GridSearchCV , train_test_split, TimeSeriesSplit \n",
    "\n",
    "from sklearn.metrics import make_scorer, mean_squared_error"
   ]
  },
  {
   "cell_type": "code",
   "execution_count": 2,
   "metadata": {
    "id": "mUbuamsenRg6"
   },
   "outputs": [],
   "source": [
    "#открываем файл:\n",
    "try:\n",
    "    df = pd.read_csv('taxi.csv')\n",
    "except:\n",
    "    df = pd.read_csv('/datasets/taxi.csv')"
   ]
  },
  {
   "cell_type": "code",
   "execution_count": 3,
   "metadata": {
    "colab": {
     "base_uri": "https://localhost:8080/",
     "height": 206
    },
    "id": "oZxWxNmVnRg7",
    "outputId": "3bc24cf8-78ee-40f2-dae6-3e0415c59a83"
   },
   "outputs": [
    {
     "data": {
      "text/html": [
       "<div>\n",
       "<style scoped>\n",
       "    .dataframe tbody tr th:only-of-type {\n",
       "        vertical-align: middle;\n",
       "    }\n",
       "\n",
       "    .dataframe tbody tr th {\n",
       "        vertical-align: top;\n",
       "    }\n",
       "\n",
       "    .dataframe thead th {\n",
       "        text-align: right;\n",
       "    }\n",
       "</style>\n",
       "<table border=\"1\" class=\"dataframe\">\n",
       "  <thead>\n",
       "    <tr style=\"text-align: right;\">\n",
       "      <th></th>\n",
       "      <th>datetime</th>\n",
       "      <th>num_orders</th>\n",
       "    </tr>\n",
       "  </thead>\n",
       "  <tbody>\n",
       "    <tr>\n",
       "      <th>0</th>\n",
       "      <td>2018-03-01 00:00:00</td>\n",
       "      <td>9</td>\n",
       "    </tr>\n",
       "    <tr>\n",
       "      <th>1</th>\n",
       "      <td>2018-03-01 00:10:00</td>\n",
       "      <td>14</td>\n",
       "    </tr>\n",
       "    <tr>\n",
       "      <th>2</th>\n",
       "      <td>2018-03-01 00:20:00</td>\n",
       "      <td>28</td>\n",
       "    </tr>\n",
       "    <tr>\n",
       "      <th>3</th>\n",
       "      <td>2018-03-01 00:30:00</td>\n",
       "      <td>20</td>\n",
       "    </tr>\n",
       "    <tr>\n",
       "      <th>4</th>\n",
       "      <td>2018-03-01 00:40:00</td>\n",
       "      <td>32</td>\n",
       "    </tr>\n",
       "  </tbody>\n",
       "</table>\n",
       "</div>"
      ],
      "text/plain": [
       "              datetime  num_orders\n",
       "0  2018-03-01 00:00:00           9\n",
       "1  2018-03-01 00:10:00          14\n",
       "2  2018-03-01 00:20:00          28\n",
       "3  2018-03-01 00:30:00          20\n",
       "4  2018-03-01 00:40:00          32"
      ]
     },
     "execution_count": 3,
     "metadata": {},
     "output_type": "execute_result"
    }
   ],
   "source": [
    "df.head(5)"
   ]
  },
  {
   "cell_type": "code",
   "execution_count": 4,
   "metadata": {
    "colab": {
     "base_uri": "https://localhost:8080/"
    },
    "id": "3sftXBDxnRg9",
    "outputId": "fc2653c2-b699-46e2-9e31-0dc51abd0fe8",
    "scrolled": true
   },
   "outputs": [
    {
     "data": {
      "text/plain": [
       "(26496, 2)"
      ]
     },
     "execution_count": 4,
     "metadata": {},
     "output_type": "execute_result"
    }
   ],
   "source": [
    "df.shape"
   ]
  },
  {
   "cell_type": "markdown",
   "metadata": {
    "id": "NQMZcp7knRg-"
   },
   "source": [
    "Таблица имеет 26496 строк и 2 столбца."
   ]
  },
  {
   "cell_type": "code",
   "execution_count": 5,
   "metadata": {
    "colab": {
     "base_uri": "https://localhost:8080/"
    },
    "id": "45a47fBHnRg_",
    "outputId": "138e15a7-7c3d-4865-a96a-7239e561c997",
    "scrolled": true
   },
   "outputs": [
    {
     "name": "stdout",
     "output_type": "stream",
     "text": [
      "<class 'pandas.core.frame.DataFrame'>\n",
      "RangeIndex: 26496 entries, 0 to 26495\n",
      "Data columns (total 2 columns):\n",
      " #   Column      Non-Null Count  Dtype \n",
      "---  ------      --------------  ----- \n",
      " 0   datetime    26496 non-null  object\n",
      " 1   num_orders  26496 non-null  int64 \n",
      "dtypes: int64(1), object(1)\n",
      "memory usage: 414.1+ KB\n"
     ]
    }
   ],
   "source": [
    "df.info()"
   ]
  },
  {
   "cell_type": "markdown",
   "metadata": {
    "id": "HZzt2euvnRg_"
   },
   "source": [
    "Пропущенных данных нет. Преобразуем тип в datetime из object в datatime"
   ]
  },
  {
   "cell_type": "code",
   "execution_count": 6,
   "metadata": {
    "id": "Yt7pRAE2nRhA"
   },
   "outputs": [],
   "source": [
    "df['datetime'] = pd.to_datetime(df['datetime'], format='%Y-%m-%d %H:%M:%S')"
   ]
  },
  {
   "cell_type": "markdown",
   "metadata": {
    "id": "rPwwQAfOnRhB"
   },
   "source": [
    "Посмотрим на максимальное значение столбца **num_orders**"
   ]
  },
  {
   "cell_type": "code",
   "execution_count": 7,
   "metadata": {
    "colab": {
     "base_uri": "https://localhost:8080/"
    },
    "id": "v5lGAC5cnRhB",
    "outputId": "335ebcec-5d24-49de-b032-ee669acfc79b",
    "scrolled": true
   },
   "outputs": [
    {
     "data": {
      "text/plain": [
       "min      0\n",
       "max    119\n",
       "Name: num_orders, dtype: int64"
      ]
     },
     "execution_count": 7,
     "metadata": {},
     "output_type": "execute_result"
    }
   ],
   "source": [
    "df['num_orders'].agg(['min', 'max'])"
   ]
  },
  {
   "cell_type": "markdown",
   "metadata": {
    "id": "3zp_9AkGnRhC"
   },
   "source": [
    "Изменим тип данных в столбце num_orders с int64 на int8 (диапозон Int8 — [-128 : 127])"
   ]
  },
  {
   "cell_type": "code",
   "execution_count": 8,
   "metadata": {
    "id": "8rQEK00enRhC"
   },
   "outputs": [],
   "source": [
    "df['num_orders'] = df['num_orders'].astype('int8')"
   ]
  },
  {
   "cell_type": "markdown",
   "metadata": {
    "id": "vLE2BDsHnRhD"
   },
   "source": [
    "Проверим что все ОК"
   ]
  },
  {
   "cell_type": "code",
   "execution_count": 9,
   "metadata": {
    "colab": {
     "base_uri": "https://localhost:8080/"
    },
    "id": "BJrmm_GNnRhD",
    "outputId": "4c028d5a-cc01-4124-e2a6-091d7cb7c750"
   },
   "outputs": [
    {
     "name": "stdout",
     "output_type": "stream",
     "text": [
      "<class 'pandas.core.frame.DataFrame'>\n",
      "RangeIndex: 26496 entries, 0 to 26495\n",
      "Data columns (total 2 columns):\n",
      " #   Column      Non-Null Count  Dtype         \n",
      "---  ------      --------------  -----         \n",
      " 0   datetime    26496 non-null  datetime64[ns]\n",
      " 1   num_orders  26496 non-null  int8          \n",
      "dtypes: datetime64[ns](1), int8(1)\n",
      "memory usage: 233.0 KB\n"
     ]
    }
   ],
   "source": [
    "df.info()"
   ]
  },
  {
   "cell_type": "code",
   "execution_count": 10,
   "metadata": {
    "colab": {
     "base_uri": "https://localhost:8080/"
    },
    "id": "nsfKpOG3nRhD",
    "outputId": "432d3214-08e8-44c0-ecda-0115f767d407"
   },
   "outputs": [
    {
     "data": {
      "text/plain": [
       "min   2018-03-01 00:00:00\n",
       "max   2018-08-31 23:50:00\n",
       "Name: datetime, dtype: datetime64[ns]"
      ]
     },
     "execution_count": 10,
     "metadata": {},
     "output_type": "execute_result"
    }
   ],
   "source": [
    "df['datetime'].agg(['min', 'max'])"
   ]
  },
  {
   "cell_type": "markdown",
   "metadata": {
    "id": "twpP5qGBnRhE"
   },
   "source": [
    "Данные представлены с 1 марта по 31 августа 2018 года."
   ]
  },
  {
   "cell_type": "code",
   "execution_count": 11,
   "metadata": {
    "id": "Dzxf4YoWnRhE"
   },
   "outputs": [],
   "source": [
    "df = df.set_index('datetime')"
   ]
  },
  {
   "cell_type": "markdown",
   "metadata": {
    "id": "b3wOgSKanRhE"
   },
   "source": [
    "Проверим, в хронологическом ли порядке расположены даты и время."
   ]
  },
  {
   "cell_type": "code",
   "execution_count": 12,
   "metadata": {
    "colab": {
     "base_uri": "https://localhost:8080/"
    },
    "id": "VRi_ZzsGnRhF",
    "outputId": "a5462532-d0be-4116-f852-3865c84a5e1e",
    "scrolled": true
   },
   "outputs": [
    {
     "data": {
      "text/plain": [
       "True"
      ]
     },
     "execution_count": 12,
     "metadata": {},
     "output_type": "execute_result"
    }
   ],
   "source": [
    "df.index.is_monotonic"
   ]
  },
  {
   "cell_type": "markdown",
   "metadata": {
    "id": "1dLMSQH4nRhF"
   },
   "source": [
    "Порядок соблюдён, атрибут вернул отрибут **True**"
   ]
  },
  {
   "cell_type": "markdown",
   "metadata": {
    "id": "v-QCbiL-nRhF"
   },
   "source": [
    "Мы имеем данные которые состоят из 26496 строк и двух столбцов. Данные представлены с 1 марта по 31 августа 2018 года. Пропусков в данных нет."
   ]
  },
  {
   "cell_type": "markdown",
   "metadata": {
    "id": "WegeO4EbnRhG"
   },
   "source": [
    "## Анализ"
   ]
  },
  {
   "cell_type": "code",
   "execution_count": 13,
   "metadata": {
    "colab": {
     "base_uri": "https://localhost:8080/",
     "height": 350
    },
    "id": "uZH2KYJenRhG",
    "outputId": "1dfbfe9e-8162-4306-cefd-130d562c9e9a"
   },
   "outputs": [
    {
     "data": {
      "image/png": "[encoded data removed]",
      "text/plain": [
       "<Figure size 1080x360 with 1 Axes>"
      ]
     },
     "metadata": {
      "needs_background": "light"
     },
     "output_type": "display_data"
    }
   ],
   "source": [
    "plt.figure(figsize=(15, 5))\n",
    "plt.title('Зависимость колличества заказов от времени')\n",
    "plt.ylabel(\"Количество заказов\")\n",
    "plt.xlabel(\"Дата\")\n",
    "plt.plot(df)\n",
    "plt.show()"
   ]
  },
  {
   "cell_type": "markdown",
   "metadata": {},
   "source": [
    "Тут ничего не понятно проведем рассемплирование по дням, проверим сначала весь период, потом неделю, потом день."
   ]
  },
  {
   "cell_type": "markdown",
   "metadata": {
    "id": "pl5Bv4rWnRhG"
   },
   "source": [
    "----"
   ]
  },
  {
   "cell_type": "markdown",
   "metadata": {
    "id": "ajKz4FfqnRhH"
   },
   "source": [
    "### Анализ всего периода"
   ]
  },
  {
   "cell_type": "code",
   "execution_count": 14,
   "metadata": {
    "id": "pggZcS0qnRhH"
   },
   "outputs": [],
   "source": [
    "df_hour = df.resample('1H').sum()"
   ]
  },
  {
   "cell_type": "code",
   "execution_count": 15,
   "metadata": {
    "colab": {
     "base_uri": "https://localhost:8080/",
     "height": 350
    },
    "id": "K1v508LrnRhH",
    "outputId": "cb6a3945-b262-42be-a343-fe83b8786a1f"
   },
   "outputs": [
    {
     "data": {
      "image/png": "[encoded data removed]",
      "text/plain": [
       "<Figure size 1080x360 with 1 Axes>"
      ]
     },
     "metadata": {
      "needs_background": "light"
     },
     "output_type": "display_data"
    }
   ],
   "source": [
    "plt.figure(figsize=(15, 5))\n",
    "plt.title('Зависимость количества заказов от даты')\n",
    "plt.ylabel(\"Количество заказов\")\n",
    "plt.xlabel(\"Дата\")\n",
    "plt.plot(df_hour)\n",
    "plt.show()"
   ]
  },
  {
   "cell_type": "markdown",
   "metadata": {
    "id": "xrPFN7LFnRhI"
   },
   "source": [
    "Посмотрим на скользящую среднюю."
   ]
  },
  {
   "cell_type": "code",
   "execution_count": 16,
   "metadata": {
    "id": "eB16ibSwnRhI",
    "scrolled": true
   },
   "outputs": [],
   "source": [
    "df_hour['rolling_mean'] = df_hour['num_orders'].shift().rolling(144).mean()\n",
    "df_hour['std'] = df_hour['num_orders'].rolling(144).std()\n",
    "df_hour = df_hour.dropna()"
   ]
  },
  {
   "cell_type": "code",
   "execution_count": 17,
   "metadata": {
    "colab": {
     "base_uri": "https://localhost:8080/",
     "height": 361
    },
    "id": "fAaHFDI8nRhI",
    "outputId": "785d48b4-7c21-4ea0-a34f-15f57576e06d"
   },
   "outputs": [
    {
     "data": {
      "image/png": "[encoded data removed]",
      "text/plain": [
       "<Figure size 1080x360 with 1 Axes>"
      ]
     },
     "metadata": {
      "needs_background": "light"
     },
     "output_type": "display_data"
    }
   ],
   "source": [
    "df_hour[['num_orders', 'rolling_mean', 'std']].plot(figsize=(15,5))\n",
    "plt.title('Зависимость колличества заказов от времени по дням')\n",
    "plt.ylabel(\"Количество заказов\")\n",
    "plt.xlabel(\"Дата\")\n",
    "plt.show()"
   ]
  },
  {
   "cell_type": "markdown",
   "metadata": {
    "id": "m79zzXyPnRhJ"
   },
   "source": [
    "Временной ряд не постоянен, среднее значение со временем увеличивается, значит наблюдается тренд на увеличение количества заказов такси от месяца к месяцу. В тоже временя стандартное отклонение почти постоянно. Значит значения не волатильны."
   ]
  },
  {
   "cell_type": "markdown",
   "metadata": {
    "id": "8VkPNmMtnRhJ"
   },
   "source": [
    "Посмотрим на тренды и сезонность."
   ]
  },
  {
   "cell_type": "code",
   "execution_count": 18,
   "metadata": {},
   "outputs": [],
   "source": [
    "df_hour = df.resample('1H').sum()"
   ]
  },
  {
   "cell_type": "code",
   "execution_count": 19,
   "metadata": {
    "id": "ZHp7RfAznRhJ",
    "scrolled": true
   },
   "outputs": [],
   "source": [
    "decomposed = seasonal_decompose(df_hour)"
   ]
  },
  {
   "cell_type": "code",
   "execution_count": 20,
   "metadata": {
    "colab": {
     "base_uri": "https://localhost:8080/",
     "height": 361
    },
    "id": "Six6JnAtnRhK",
    "outputId": "d33cc01a-4e58-45dc-d603-1314c7b55e94",
    "scrolled": true
   },
   "outputs": [
    {
     "data": {
      "image/png": "[encoded data removed]",
      "text/plain": [
       "<Figure size 1080x360 with 1 Axes>"
      ]
     },
     "metadata": {
      "needs_background": "light"
     },
     "output_type": "display_data"
    }
   ],
   "source": [
    "decomposed.trend.plot(figsize=(15,5))\n",
    "plt.title('Тренд')\n",
    "plt.ylabel(\"Количество заказов\")\n",
    "plt.xlabel(\"Месяц\")\n",
    "plt.show()"
   ]
  },
  {
   "cell_type": "markdown",
   "metadata": {
    "id": "k5tvuXV8nRhK"
   },
   "source": [
    "Мы видим что присутсвует тренд на увиличением заказов."
   ]
  },
  {
   "cell_type": "code",
   "execution_count": 21,
   "metadata": {
    "colab": {
     "base_uri": "https://localhost:8080/",
     "height": 361
    },
    "id": "EW8cWJTenRhK",
    "outputId": "4a674787-95ce-41a8-b936-58f10c0aabf1"
   },
   "outputs": [
    {
     "data": {
      "image/png": "[encoded data removed]",
      "text/plain": [
       "<Figure size 1152x360 with 1 Axes>"
      ]
     },
     "metadata": {
      "needs_background": "light"
     },
     "output_type": "display_data"
    }
   ],
   "source": [
    "decomposed.seasonal.plot(figsize=(16,5))\n",
    "plt.title('Сезонность')\n",
    "plt.ylabel(\"Количество заказов\")\n",
    "plt.xlabel(\"Месяц\")\n",
    "plt.show()"
   ]
  },
  {
   "cell_type": "markdown",
   "metadata": {
    "id": "Pj5_2VypnRhL"
   },
   "source": [
    "Из графика видно, что присутсвует некоторая сезнность, в течение марта-августа цены колеблятся в пределах 1."
   ]
  },
  {
   "cell_type": "markdown",
   "metadata": {
    "id": "6MU_UXwjnRhL"
   },
   "source": [
    "Остаток декомпозиции"
   ]
  },
  {
   "cell_type": "code",
   "execution_count": 22,
   "metadata": {
    "colab": {
     "base_uri": "https://localhost:8080/",
     "height": 361
    },
    "id": "z8xblwtbnRhL",
    "outputId": "1b084d54-c5be-4871-afe2-743daa64dacc"
   },
   "outputs": [
    {
     "data": {
      "image/png": "[encoded data removed]",
      "text/plain": [
       "<Figure size 1152x360 with 1 Axes>"
      ]
     },
     "metadata": {
      "needs_background": "light"
     },
     "output_type": "display_data"
    }
   ],
   "source": [
    "decomposed.resid.plot(figsize=(16,5))\n",
    "plt.title('Остаток от декомпозиции')\n",
    "plt.ylabel(\"Количество заказов\")\n",
    "plt.xlabel(\"Месяц\")\n",
    "plt.show()"
   ]
  },
  {
   "cell_type": "markdown",
   "metadata": {
    "id": "mThAYyxunRhL"
   },
   "source": [
    "Мы видим что в данных присутствует случайность."
   ]
  },
  {
   "cell_type": "markdown",
   "metadata": {
    "id": "xFe4FB1FnRhM"
   },
   "source": [
    "####  Вывод"
   ]
  },
  {
   "cell_type": "markdown",
   "metadata": {
    "id": "ny4WFLE9nRhM"
   },
   "source": [
    "- Наблюдается тренд на увеличение количества заказов такси от месяца к месяцу.\n",
    "- Присутствует некоторая сезонность, цены колеблется в пределах 1 в течении марта-августа."
   ]
  },
  {
   "cell_type": "markdown",
   "metadata": {
    "id": "dkug3SP1nRhM"
   },
   "source": [
    "____"
   ]
  },
  {
   "cell_type": "markdown",
   "metadata": {
    "id": "1UT86hCenRhM"
   },
   "source": [
    "### Неделя"
   ]
  },
  {
   "cell_type": "markdown",
   "metadata": {
    "id": "Bc9R-EPLnRhM"
   },
   "source": [
    "Возьмем временной отрезок неделя и посмотрим на число заказов."
   ]
  },
  {
   "cell_type": "code",
   "execution_count": 23,
   "metadata": {
    "id": "3DXFRm4rnRhN"
   },
   "outputs": [],
   "source": [
    "df_week = df['2018-04-09 00:00:00':'2018-04-23 00:00:00'].resample('1H').mean()"
   ]
  },
  {
   "cell_type": "markdown",
   "metadata": {
    "id": "4zNKLUS3nRhN"
   },
   "source": [
    "Посмотрим на скользящюю стреднюю"
   ]
  },
  {
   "cell_type": "code",
   "execution_count": 24,
   "metadata": {
    "id": "R1g0yCUNnRhN"
   },
   "outputs": [],
   "source": [
    "df_week['rolling_mean'] = df_week['num_orders'].shift().rolling(12).mean()\n",
    "df_week['std'] = df_week['num_orders'].rolling(24).std()\n",
    "df_week = df_week.dropna()"
   ]
  },
  {
   "cell_type": "code",
   "execution_count": 25,
   "metadata": {
    "colab": {
     "base_uri": "https://localhost:8080/",
     "height": 371
    },
    "id": "TYMHpXgHnRhN",
    "outputId": "a731978d-d50d-4fa1-910d-327876c76ecf"
   },
   "outputs": [
    {
     "data": {
      "image/png": "[encoded data removed]",
      "text/plain": [
       "<Figure size 1080x360 with 1 Axes>"
      ]
     },
     "metadata": {
      "needs_background": "light"
     },
     "output_type": "display_data"
    }
   ],
   "source": [
    "df_week[['num_orders', 'rolling_mean', 'std']].plot(figsize=(15,5))\n",
    "plt.title('Зависимость колличества заказов за неделю')\n",
    "plt.ylabel(\"Количество заказов\")\n",
    "plt.xlabel(\"День\")\n",
    "plt.show()"
   ]
  },
  {
   "cell_type": "markdown",
   "metadata": {
    "id": "LRW1rTjtnRhO"
   },
   "source": [
    "Можно заметить некоторую закономерность и цикличность в количестве вызов. От недели к неделе."
   ]
  },
  {
   "cell_type": "markdown",
   "metadata": {
    "id": "SxxsrBL4nRhO"
   },
   "source": [
    "### День"
   ]
  },
  {
   "cell_type": "markdown",
   "metadata": {
    "id": "1GhkeAW5nRhO"
   },
   "source": [
    "Теперь посмотрим на день."
   ]
  },
  {
   "cell_type": "code",
   "execution_count": 26,
   "metadata": {
    "colab": {
     "base_uri": "https://localhost:8080/",
     "height": 865
    },
    "id": "FZPoK9YCnRhO",
    "outputId": "fa92b80a-984e-448c-a7d8-fb09ccfd6ee8"
   },
   "outputs": [
    {
     "data": {
      "image/png": "[encoded data removed]",
      "text/plain": [
       "<Figure size 1080x360 with 1 Axes>"
      ]
     },
     "metadata": {
      "needs_background": "light"
     },
     "output_type": "display_data"
    }
   ],
   "source": [
    "fig = plt.figure(figsize=(15, 5))\n",
    "counter = 24\n",
    "while counter < decomposed.seasonal.shape[0]:\n",
    "    plt.plot(decomposed.seasonal[counter-24:counter].reset_index(drop=True), figure=fig)\n",
    "    counter += 24"
   ]
  },
  {
   "cell_type": "markdown",
   "metadata": {
    "id": "Pme3X5munRhP"
   },
   "source": [
    "Из графика и таблицы видно что **пик заказов** приходится:\n",
    " - ночью - 00:00 и  01:00;\n",
    " - утром - 10:00;\n",
    " - днем - 16:00; \n",
    " - вечером - 22:00;\n",
    "\n",
    "Из графика и таблицы видно что **минимум заказов** приходится:\n",
    " - утром - 06:00 - вообще нет заказов"
   ]
  },
  {
   "cell_type": "markdown",
   "metadata": {
    "id": "JxH3ymD0nRhP"
   },
   "source": [
    "Попробуем взять другой случайный день."
   ]
  },
  {
   "cell_type": "markdown",
   "metadata": {
    "id": "bzbr1mZenRhQ"
   },
   "source": [
    "###   Вывод"
   ]
  },
  {
   "cell_type": "markdown",
   "metadata": {
    "id": "C6E3BdoPnRhQ"
   },
   "source": [
    "За время наблюдений наметился определенный тренд на общее увеличение заказов такси, которое скорее всего вызвано ростом компании.\n",
    "\n",
    "Число заказов в течение дня не постоянно имеются временные промежутки роста числа заказов и спада."
   ]
  },
  {
   "cell_type": "markdown",
   "metadata": {
    "id": "IKoKSsVFnRhR"
   },
   "source": [
    "## Обучение"
   ]
  },
  {
   "cell_type": "markdown",
   "metadata": {
    "id": "-lsTFSeXnRhR"
   },
   "source": [
    "Обучим модели."
   ]
  },
  {
   "cell_type": "markdown",
   "metadata": {
    "id": "XXY71lXNnRhR"
   },
   "source": [
    "### Подготовка функций"
   ]
  },
  {
   "cell_type": "markdown",
   "metadata": {
    "id": "acTwv2n7nRhR"
   },
   "source": [
    "Для начала создадим DF куда положим значения RMSE"
   ]
  },
  {
   "cell_type": "code",
   "execution_count": 27,
   "metadata": {
    "colab": {
     "base_uri": "https://localhost:8080/",
     "height": 49
    },
    "id": "FbsTxenpnRhR",
    "outputId": "a780c719-27b3-4b8c-eea7-556373bc5307"
   },
   "outputs": [
    {
     "data": {
      "text/html": [
       "<div>\n",
       "<style scoped>\n",
       "    .dataframe tbody tr th:only-of-type {\n",
       "        vertical-align: middle;\n",
       "    }\n",
       "\n",
       "    .dataframe tbody tr th {\n",
       "        vertical-align: top;\n",
       "    }\n",
       "\n",
       "    .dataframe thead th {\n",
       "        text-align: right;\n",
       "    }\n",
       "</style>\n",
       "<table border=\"1\" class=\"dataframe\">\n",
       "  <thead>\n",
       "    <tr style=\"text-align: right;\">\n",
       "      <th></th>\n",
       "      <th>rmse</th>\n",
       "    </tr>\n",
       "  </thead>\n",
       "  <tbody>\n",
       "  </tbody>\n",
       "</table>\n",
       "</div>"
      ],
      "text/plain": [
       "Empty DataFrame\n",
       "Columns: [rmse]\n",
       "Index: []"
      ]
     },
     "execution_count": 27,
     "metadata": {},
     "output_type": "execute_result"
    }
   ],
   "source": [
    "df_result = pd.DataFrame(columns=['rmse'])\n",
    "df_result"
   ]
  },
  {
   "cell_type": "markdown",
   "metadata": {
    "id": "xwRJA49EnRhS"
   },
   "source": [
    "А теперь создадим функцию которая будет в наш Df добавлять данные."
   ]
  },
  {
   "cell_type": "code",
   "execution_count": 28,
   "metadata": {
    "id": "iHQ4n6_2nRhS"
   },
   "outputs": [],
   "source": [
    "def result_metrics(rmse, name_model):\n",
    "    df_result.loc[name_model, 'rmse'] = rmse\n",
    "    return df_result"
   ]
  },
  {
   "cell_type": "markdown",
   "metadata": {
    "id": "s3C-Y1x1nRhS"
   },
   "source": [
    "Пропишу функцию для расчета метрики RMSE:"
   ]
  },
  {
   "cell_type": "code",
   "execution_count": 29,
   "metadata": {
    "id": "_-RxiJb_nRhS"
   },
   "outputs": [],
   "source": [
    "def RMSE(target, predict):\n",
    "    return (mean_squared_error(target, predict))**0.5\n",
    "   \n",
    "#С помощию функции make_scorer создаю метрику RMSE\n",
    "RMSE_score = make_scorer(RMSE, greater_is_better=False)"
   ]
  },
  {
   "cell_type": "markdown",
   "metadata": {
    "id": "EblXxSy4nRhT"
   },
   "source": [
    "### Среднее значение "
   ]
  },
  {
   "cell_type": "markdown",
   "metadata": {
    "id": "z2-U7tw3nRhT"
   },
   "source": [
    "Будем считать, что будущее значение переменной зависит от среднего её предыдущих значений, а значит, воспользуемся скользящей средней."
   ]
  },
  {
   "cell_type": "markdown",
   "metadata": {
    "id": "a0vo12k0nRhT"
   },
   "source": [
    "Посмотрим на прогноз, построенный по последнему наблюдаемому дню (24 часа). Для проверки возьмем 29 августа и посмотрим как он посчитает среднее значение за 28 августа. После этого будем считать что прогнозируемое число вызовов 29 августа будет равно скользящей средней."
   ]
  },
  {
   "cell_type": "code",
   "execution_count": 30,
   "metadata": {
    "id": "syHUssSLnRhT"
   },
   "outputs": [],
   "source": [
    "def moving_average(series, n):\n",
    "    return np.full(24, (np.average(series[-n:])))"
   ]
  },
  {
   "cell_type": "code",
   "execution_count": 31,
   "metadata": {
    "colab": {
     "base_uri": "https://localhost:8080/"
    },
    "id": "0pMSD2FknRhT",
    "outputId": "b14731dc-0c05-442b-977f-880fcdff442e",
    "scrolled": true
   },
   "outputs": [
    {
     "name": "stderr",
     "output_type": "stream",
     "text": [
      "/tmp/ipykernel_48/2430533218.py:1: FutureWarning: Indexing a DataFrame with a datetimelike index using a single string to slice the rows, like `frame[string]`, is deprecated and will be removed in a future version. Use `frame.loc[string]` instead.\n",
      "  rmse_average = np.sqrt(mean_squared_error(df_hour['2018-08-29'], moving_average(df_hour['2018-08-28'], 24)))\n"
     ]
    }
   ],
   "source": [
    "rmse_average = np.sqrt(mean_squared_error(df_hour['2018-08-29'], moving_average(df_hour['2018-08-28'], 24)))"
   ]
  },
  {
   "cell_type": "code",
   "execution_count": 32,
   "metadata": {
    "colab": {
     "base_uri": "https://localhost:8080/",
     "height": 81
    },
    "id": "lAsGbhQHnRhU",
    "outputId": "a1a21002-c986-489e-e03d-44308a8df890"
   },
   "outputs": [
    {
     "data": {
      "text/html": [
       "<div>\n",
       "<style scoped>\n",
       "    .dataframe tbody tr th:only-of-type {\n",
       "        vertical-align: middle;\n",
       "    }\n",
       "\n",
       "    .dataframe tbody tr th {\n",
       "        vertical-align: top;\n",
       "    }\n",
       "\n",
       "    .dataframe thead th {\n",
       "        text-align: right;\n",
       "    }\n",
       "</style>\n",
       "<table border=\"1\" class=\"dataframe\">\n",
       "  <thead>\n",
       "    <tr style=\"text-align: right;\">\n",
       "      <th></th>\n",
       "      <th>rmse</th>\n",
       "    </tr>\n",
       "  </thead>\n",
       "  <tbody>\n",
       "    <tr>\n",
       "      <th>rolling_mean_trend\"</th>\n",
       "      <td>54.423829</td>\n",
       "    </tr>\n",
       "  </tbody>\n",
       "</table>\n",
       "</div>"
      ],
      "text/plain": [
       "                          rmse\n",
       "rolling_mean_trend\"  54.423829"
      ]
     },
     "execution_count": 32,
     "metadata": {},
     "output_type": "execute_result"
    }
   ],
   "source": [
    "result_metrics(rmse_average, 'rolling_mean_trend\"')"
   ]
  },
  {
   "cell_type": "markdown",
   "metadata": {
    "id": "lB7A8zwtnRhU"
   },
   "source": [
    "### Взвешенная средняя"
   ]
  },
  {
   "cell_type": "code",
   "execution_count": 33,
   "metadata": {
    "id": "wDbbYgegnRhU"
   },
   "outputs": [],
   "source": [
    "def weighted_average(series, weights):\n",
    "    result = 0.0\n",
    "    weights.reverse()\n",
    "    for n in range(len(weights)):\n",
    "        result += series[-n-1:] * weights[n]\n",
    "    return np.full(24, result)"
   ]
  },
  {
   "cell_type": "code",
   "execution_count": 34,
   "metadata": {
    "colab": {
     "base_uri": "https://localhost:8080/"
    },
    "id": "eW1DVOuGnRhU",
    "outputId": "727b1db0-c3a3-495a-cbcf-b401c787aa8c",
    "scrolled": true
   },
   "outputs": [
    {
     "name": "stderr",
     "output_type": "stream",
     "text": [
      "/tmp/ipykernel_48/4102836159.py:1: FutureWarning: Indexing a DataFrame with a datetimelike index using a single string to slice the rows, like `frame[string]`, is deprecated and will be removed in a future version. Use `frame.loc[string]` instead.\n",
      "  rmse_weighted_average = np.sqrt(mean_squared_error(df_hour['2018-08-29'], weighted_average(df_hour['2018-08-28'], [0.6, 0.2, 0.1, 0.07, 0.03])))\n"
     ]
    }
   ],
   "source": [
    "rmse_weighted_average = np.sqrt(mean_squared_error(df_hour['2018-08-29'], weighted_average(df_hour['2018-08-28'], [0.6, 0.2, 0.1, 0.07, 0.03])))"
   ]
  },
  {
   "cell_type": "code",
   "execution_count": 35,
   "metadata": {
    "colab": {
     "base_uri": "https://localhost:8080/",
     "height": 112
    },
    "id": "ijeC3_NdnRhV",
    "outputId": "5d51bcdf-dba6-4291-bd18-8b1c878949ee"
   },
   "outputs": [
    {
     "data": {
      "text/html": [
       "<div>\n",
       "<style scoped>\n",
       "    .dataframe tbody tr th:only-of-type {\n",
       "        vertical-align: middle;\n",
       "    }\n",
       "\n",
       "    .dataframe tbody tr th {\n",
       "        vertical-align: top;\n",
       "    }\n",
       "\n",
       "    .dataframe thead th {\n",
       "        text-align: right;\n",
       "    }\n",
       "</style>\n",
       "<table border=\"1\" class=\"dataframe\">\n",
       "  <thead>\n",
       "    <tr style=\"text-align: right;\">\n",
       "      <th></th>\n",
       "      <th>rmse</th>\n",
       "    </tr>\n",
       "  </thead>\n",
       "  <tbody>\n",
       "    <tr>\n",
       "      <th>rolling_mean_trend\"</th>\n",
       "      <td>54.423829</td>\n",
       "    </tr>\n",
       "    <tr>\n",
       "      <th>rolling_weighted_average\"</th>\n",
       "      <td>56.322731</td>\n",
       "    </tr>\n",
       "  </tbody>\n",
       "</table>\n",
       "</div>"
      ],
      "text/plain": [
       "                                rmse\n",
       "rolling_mean_trend\"        54.423829\n",
       "rolling_weighted_average\"  56.322731"
      ]
     },
     "execution_count": 35,
     "metadata": {},
     "output_type": "execute_result"
    }
   ],
   "source": [
    "result_metrics(rmse_weighted_average, 'rolling_weighted_average\"')"
   ]
  },
  {
   "cell_type": "markdown",
   "metadata": {
    "id": "MARNdsq0nRhW"
   },
   "source": [
    "### Подготовка данных для модели."
   ]
  },
  {
   "cell_type": "markdown",
   "metadata": {
    "id": "Q3IsdfnhnRhW"
   },
   "source": [
    "Создадим новые признаки:\n",
    "\n",
    "месяц\n",
    "\n",
    "день\n",
    "\n",
    "день недели\n",
    "\n",
    "час\n",
    "\n",
    "лаги(отставания)\n",
    "\n",
    "скользящее среднее"
   ]
  },
  {
   "cell_type": "markdown",
   "metadata": {
    "id": "ZqylKEXZGHnd"
   },
   "source": [
    "Создадим копию датафрейма"
   ]
  },
  {
   "cell_type": "code",
   "execution_count": 36,
   "metadata": {
    "id": "FSiSYrS5GPSU"
   },
   "outputs": [],
   "source": [
    "df_copy = df_hour.copy()"
   ]
  },
  {
   "cell_type": "code",
   "execution_count": 37,
   "metadata": {
    "id": "yGL7WTB7nRhX"
   },
   "outputs": [],
   "source": [
    "def make_features(df, max_lag, rolling_mean_size):\n",
    "    df['day'] = df.index.day\n",
    "    df['dayofweek'] = df.index.dayofweek\n",
    "    df['hour'] = df.index.hour\n",
    "    \n",
    "    for lag in range(1, max_lag + 1):\n",
    "        df['lag_{}'.format(lag)] = df['num_orders'].shift(lag)\n",
    "\n",
    "    df['rolling_mean'] = df['num_orders'].shift().rolling(rolling_mean_size).mean()\n",
    "    df.dropna(inplace=True)"
   ]
  },
  {
   "cell_type": "markdown",
   "metadata": {
    "id": "T4vAUbrBnRhX"
   },
   "source": [
    "Применим функцию с лагом до 24 часов и 100-м скользящим средним:"
   ]
  },
  {
   "cell_type": "code",
   "execution_count": 38,
   "metadata": {
    "id": "_sta7W0xnRhX"
   },
   "outputs": [],
   "source": [
    "make_features(df_hour, 24, 100)"
   ]
  },
  {
   "cell_type": "markdown",
   "metadata": {
    "id": "cGjTdTCGnRhX"
   },
   "source": [
    "Проверим что все ОК"
   ]
  },
  {
   "cell_type": "code",
   "execution_count": 39,
   "metadata": {
    "colab": {
     "base_uri": "https://localhost:8080/",
     "height": 504
    },
    "id": "1D1qHMsJnRhY",
    "outputId": "3405e7df-9fed-4ca5-99ec-3a2c1687936c",
    "scrolled": true
   },
   "outputs": [
    {
     "data": {
      "text/html": [
       "<div>\n",
       "<style scoped>\n",
       "    .dataframe tbody tr th:only-of-type {\n",
       "        vertical-align: middle;\n",
       "    }\n",
       "\n",
       "    .dataframe tbody tr th {\n",
       "        vertical-align: top;\n",
       "    }\n",
       "\n",
       "    .dataframe thead th {\n",
       "        text-align: right;\n",
       "    }\n",
       "</style>\n",
       "<table border=\"1\" class=\"dataframe\">\n",
       "  <thead>\n",
       "    <tr style=\"text-align: right;\">\n",
       "      <th></th>\n",
       "      <th>num_orders</th>\n",
       "      <th>day</th>\n",
       "      <th>dayofweek</th>\n",
       "      <th>hour</th>\n",
       "      <th>lag_1</th>\n",
       "      <th>lag_2</th>\n",
       "      <th>lag_3</th>\n",
       "      <th>lag_4</th>\n",
       "      <th>lag_5</th>\n",
       "      <th>lag_6</th>\n",
       "      <th>...</th>\n",
       "      <th>lag_16</th>\n",
       "      <th>lag_17</th>\n",
       "      <th>lag_18</th>\n",
       "      <th>lag_19</th>\n",
       "      <th>lag_20</th>\n",
       "      <th>lag_21</th>\n",
       "      <th>lag_22</th>\n",
       "      <th>lag_23</th>\n",
       "      <th>lag_24</th>\n",
       "      <th>rolling_mean</th>\n",
       "    </tr>\n",
       "    <tr>\n",
       "      <th>datetime</th>\n",
       "      <th></th>\n",
       "      <th></th>\n",
       "      <th></th>\n",
       "      <th></th>\n",
       "      <th></th>\n",
       "      <th></th>\n",
       "      <th></th>\n",
       "      <th></th>\n",
       "      <th></th>\n",
       "      <th></th>\n",
       "      <th></th>\n",
       "      <th></th>\n",
       "      <th></th>\n",
       "      <th></th>\n",
       "      <th></th>\n",
       "      <th></th>\n",
       "      <th></th>\n",
       "      <th></th>\n",
       "      <th></th>\n",
       "      <th></th>\n",
       "      <th></th>\n",
       "    </tr>\n",
       "  </thead>\n",
       "  <tbody>\n",
       "    <tr>\n",
       "      <th>2018-03-05 04:00:00</th>\n",
       "      <td>34.0</td>\n",
       "      <td>5</td>\n",
       "      <td>0</td>\n",
       "      <td>4</td>\n",
       "      <td>51.0</td>\n",
       "      <td>32.0</td>\n",
       "      <td>176.0</td>\n",
       "      <td>86.0</td>\n",
       "      <td>68.0</td>\n",
       "      <td>83.0</td>\n",
       "      <td>...</td>\n",
       "      <td>30.0</td>\n",
       "      <td>41.0</td>\n",
       "      <td>19.0</td>\n",
       "      <td>39.0</td>\n",
       "      <td>39.0</td>\n",
       "      <td>12.0</td>\n",
       "      <td>11.0</td>\n",
       "      <td>22.0</td>\n",
       "      <td>27.0</td>\n",
       "      <td>56.46</td>\n",
       "    </tr>\n",
       "    <tr>\n",
       "      <th>2018-03-05 05:00:00</th>\n",
       "      <td>16.0</td>\n",
       "      <td>5</td>\n",
       "      <td>0</td>\n",
       "      <td>5</td>\n",
       "      <td>34.0</td>\n",
       "      <td>51.0</td>\n",
       "      <td>32.0</td>\n",
       "      <td>176.0</td>\n",
       "      <td>86.0</td>\n",
       "      <td>68.0</td>\n",
       "      <td>...</td>\n",
       "      <td>30.0</td>\n",
       "      <td>30.0</td>\n",
       "      <td>41.0</td>\n",
       "      <td>19.0</td>\n",
       "      <td>39.0</td>\n",
       "      <td>39.0</td>\n",
       "      <td>12.0</td>\n",
       "      <td>11.0</td>\n",
       "      <td>22.0</td>\n",
       "      <td>55.56</td>\n",
       "    </tr>\n",
       "    <tr>\n",
       "      <th>2018-03-05 06:00:00</th>\n",
       "      <td>3.0</td>\n",
       "      <td>5</td>\n",
       "      <td>0</td>\n",
       "      <td>6</td>\n",
       "      <td>16.0</td>\n",
       "      <td>34.0</td>\n",
       "      <td>51.0</td>\n",
       "      <td>32.0</td>\n",
       "      <td>176.0</td>\n",
       "      <td>86.0</td>\n",
       "      <td>...</td>\n",
       "      <td>56.0</td>\n",
       "      <td>30.0</td>\n",
       "      <td>30.0</td>\n",
       "      <td>41.0</td>\n",
       "      <td>19.0</td>\n",
       "      <td>39.0</td>\n",
       "      <td>39.0</td>\n",
       "      <td>12.0</td>\n",
       "      <td>11.0</td>\n",
       "      <td>54.87</td>\n",
       "    </tr>\n",
       "    <tr>\n",
       "      <th>2018-03-05 07:00:00</th>\n",
       "      <td>14.0</td>\n",
       "      <td>5</td>\n",
       "      <td>0</td>\n",
       "      <td>7</td>\n",
       "      <td>3.0</td>\n",
       "      <td>16.0</td>\n",
       "      <td>34.0</td>\n",
       "      <td>51.0</td>\n",
       "      <td>32.0</td>\n",
       "      <td>176.0</td>\n",
       "      <td>...</td>\n",
       "      <td>58.0</td>\n",
       "      <td>56.0</td>\n",
       "      <td>30.0</td>\n",
       "      <td>30.0</td>\n",
       "      <td>41.0</td>\n",
       "      <td>19.0</td>\n",
       "      <td>39.0</td>\n",
       "      <td>39.0</td>\n",
       "      <td>12.0</td>\n",
       "      <td>54.19</td>\n",
       "    </tr>\n",
       "    <tr>\n",
       "      <th>2018-03-05 08:00:00</th>\n",
       "      <td>31.0</td>\n",
       "      <td>5</td>\n",
       "      <td>0</td>\n",
       "      <td>8</td>\n",
       "      <td>14.0</td>\n",
       "      <td>3.0</td>\n",
       "      <td>16.0</td>\n",
       "      <td>34.0</td>\n",
       "      <td>51.0</td>\n",
       "      <td>32.0</td>\n",
       "      <td>...</td>\n",
       "      <td>64.0</td>\n",
       "      <td>58.0</td>\n",
       "      <td>56.0</td>\n",
       "      <td>30.0</td>\n",
       "      <td>30.0</td>\n",
       "      <td>41.0</td>\n",
       "      <td>19.0</td>\n",
       "      <td>39.0</td>\n",
       "      <td>39.0</td>\n",
       "      <td>53.67</td>\n",
       "    </tr>\n",
       "  </tbody>\n",
       "</table>\n",
       "<p>5 rows × 29 columns</p>\n",
       "</div>"
      ],
      "text/plain": [
       "                     num_orders  day  dayofweek  hour  lag_1  lag_2  lag_3  \\\n",
       "datetime                                                                     \n",
       "2018-03-05 04:00:00        34.0    5          0     4   51.0   32.0  176.0   \n",
       "2018-03-05 05:00:00        16.0    5          0     5   34.0   51.0   32.0   \n",
       "2018-03-05 06:00:00         3.0    5          0     6   16.0   34.0   51.0   \n",
       "2018-03-05 07:00:00        14.0    5          0     7    3.0   16.0   34.0   \n",
       "2018-03-05 08:00:00        31.0    5          0     8   14.0    3.0   16.0   \n",
       "\n",
       "                     lag_4  lag_5  lag_6  ...  lag_16  lag_17  lag_18  lag_19  \\\n",
       "datetime                                  ...                                   \n",
       "2018-03-05 04:00:00   86.0   68.0   83.0  ...    30.0    41.0    19.0    39.0   \n",
       "2018-03-05 05:00:00  176.0   86.0   68.0  ...    30.0    30.0    41.0    19.0   \n",
       "2018-03-05 06:00:00   32.0  176.0   86.0  ...    56.0    30.0    30.0    41.0   \n",
       "2018-03-05 07:00:00   51.0   32.0  176.0  ...    58.0    56.0    30.0    30.0   \n",
       "2018-03-05 08:00:00   34.0   51.0   32.0  ...    64.0    58.0    56.0    30.0   \n",
       "\n",
       "                     lag_20  lag_21  lag_22  lag_23  lag_24  rolling_mean  \n",
       "datetime                                                                   \n",
       "2018-03-05 04:00:00    39.0    12.0    11.0    22.0    27.0         56.46  \n",
       "2018-03-05 05:00:00    39.0    39.0    12.0    11.0    22.0         55.56  \n",
       "2018-03-05 06:00:00    19.0    39.0    39.0    12.0    11.0         54.87  \n",
       "2018-03-05 07:00:00    41.0    19.0    39.0    39.0    12.0         54.19  \n",
       "2018-03-05 08:00:00    30.0    41.0    19.0    39.0    39.0         53.67  \n",
       "\n",
       "[5 rows x 29 columns]"
      ]
     },
     "execution_count": 39,
     "metadata": {},
     "output_type": "execute_result"
    }
   ],
   "source": [
    "df_hour.head(5)"
   ]
  },
  {
   "cell_type": "markdown",
   "metadata": {
    "id": "UygzlduQnRhY"
   },
   "source": [
    "Поделим выборку"
   ]
  },
  {
   "cell_type": "code",
   "execution_count": 40,
   "metadata": {
    "id": "oI96H_aDnRhY"
   },
   "outputs": [],
   "source": [
    "train, test = train_test_split(df_hour, shuffle=False, test_size=0.1)\n",
    "train = train.dropna()\n",
    "test = test.dropna()\n",
    "features_train = train.drop(['num_orders'], axis=1)\n",
    "target_train = train['num_orders']\n",
    "features_test = test.drop(['num_orders'], axis=1)\n",
    "target_test = test['num_orders']"
   ]
  },
  {
   "cell_type": "markdown",
   "metadata": {
    "id": "27WkqCrknRhY"
   },
   "source": [
    "Проверим что все ОК"
   ]
  },
  {
   "cell_type": "code",
   "execution_count": 41,
   "metadata": {
    "colab": {
     "base_uri": "https://localhost:8080/"
    },
    "id": "QwTkdjzPnRhZ",
    "outputId": "9daef933-f49b-4769-de2c-7e5f05648cd9"
   },
   "outputs": [
    {
     "name": "stdout",
     "output_type": "stream",
     "text": [
      "train ((3884, 29), Timestamp('2018-03-05 04:00:00', freq='H'), Timestamp('2018-08-13 23:00:00', freq='H'))\n",
      "test ((432, 29), Timestamp('2018-08-14 00:00:00', freq='H'), Timestamp('2018-08-31 23:00:00', freq='H'))\n"
     ]
    }
   ],
   "source": [
    "print(f'train {train.shape, train.index.min(), train.index.max()}')\n",
    "print(f'test {test.shape, test.index.min(), test.index.max()}')"
   ]
  },
  {
   "cell_type": "markdown",
   "metadata": {
    "id": "a-wZ7eqwnRhZ"
   },
   "source": [
    "### Линейная регрессия"
   ]
  },
  {
   "cell_type": "markdown",
   "metadata": {
    "id": "NYeUDKs6nRhZ"
   },
   "source": [
    "Так как мы работаем с временным рядом,  то кросс-валидацию в привычном виде для подбора гиперпараметров моделей с помощью GridSearchCV мы использовать не можем. Применим функцию TimeSeriesSplit()."
   ]
  },
  {
   "cell_type": "code",
   "execution_count": 42,
   "metadata": {
    "colab": {
     "base_uri": "https://localhost:8080/"
    },
    "id": "ngKOQmNonRhZ",
    "outputId": "fb39b919-db3d-4971-cf18-56813fc2778d"
   },
   "outputs": [
    {
     "name": "stdout",
     "output_type": "stream",
     "text": [
      "                                rmse\n",
      "rolling_mean_trend\"        54.423829\n",
      "rolling_weighted_average\"  56.322731\n",
      "LinearRegression\"           28.55241\n"
     ]
    }
   ],
   "source": [
    "my_cv = TimeSeriesSplit(n_splits=3).split(features_train)\n",
    "#Объявляю модель\n",
    "regression = LinearRegression(copy_X=True, fit_intercept=True, n_jobs=None, normalize=True)\n",
    "#Обучаю модель\n",
    "regression.fit(features_train, target_train)\n",
    "#Определяю RMSE модели с помощью кросс-валидации\n",
    "regression_cv_score = pd.Series(cross_val_score(regression,features_train,target_train,scoring=RMSE_score,cv=my_cv)).mean()*(-1)\n",
    "result_metrics(regression_cv_score, 'LinearRegression\"')\n",
    "print(df_result)"
   ]
  },
  {
   "cell_type": "markdown",
   "metadata": {
    "id": "PaTUHcIPnRhZ"
   },
   "source": [
    "### Случайный лес"
   ]
  },
  {
   "cell_type": "code",
   "execution_count": 43,
   "metadata": {
    "colab": {
     "base_uri": "https://localhost:8080/"
    },
    "id": "eVFgHrGsnRha",
    "outputId": "0a67adba-8c13-408a-d704-f317e43d7af4"
   },
   "outputs": [
    {
     "data": {
      "text/plain": [
       "GridSearchCV(cv=<generator object TimeSeriesSplit.split at 0x7fbb85bbf5f0>,\n",
       "             estimator=RandomForestRegressor(),\n",
       "             param_grid={'max_depth': range(1, 5, 2),\n",
       "                         'n_estimators': range(1, 10, 2)},\n",
       "             scoring=make_scorer(RMSE, greater_is_better=False))"
      ]
     },
     "execution_count": 43,
     "metadata": {},
     "output_type": "execute_result"
    }
   ],
   "source": [
    "my_cv = TimeSeriesSplit(n_splits=3).split(features_train)\n",
    "#Объявляю модель\n",
    "forest = RandomForestRegressor()\n",
    "#Определяю словарь с набором параметров\n",
    "forest_parametrs = { 'n_estimators': range(1, 10, 2),\n",
    "                     'max_depth': range(1, 5, 2) }\n",
    "\n",
    "#Применяю GridSearchCV с кросс-валидацией\n",
    "forest_grid = GridSearchCV(forest, forest_parametrs, scoring=RMSE_score, cv=my_cv)\n",
    "forest_grid.fit(features_train, target_train)"
   ]
  },
  {
   "cell_type": "markdown",
   "metadata": {
    "id": "AUQuJkNunRha"
   },
   "source": [
    "Найду оптимальные гиперпараметры и качество модели на кросс-валидации:"
   ]
  },
  {
   "cell_type": "code",
   "execution_count": 44,
   "metadata": {
    "colab": {
     "base_uri": "https://localhost:8080/"
    },
    "id": "1Mbgpw6anRha",
    "outputId": "d9136b1c-13bc-4a0d-84b1-379b02fc6a39"
   },
   "outputs": [
    {
     "name": "stdout",
     "output_type": "stream",
     "text": [
      "                                rmse\n",
      "rolling_mean_trend\"        54.423829\n",
      "rolling_weighted_average\"  56.322731\n",
      "LinearRegression\"           28.55241\n",
      "RandomForestRegressor      26.932943\n"
     ]
    }
   ],
   "source": [
    "forest_params = forest_grid.best_params_\n",
    "forest_score = forest_grid.score(features_train, target_train) * (-1)\n",
    "result_metrics(forest_score, 'RandomForestRegressor')\n",
    "print(df_result)"
   ]
  },
  {
   "cell_type": "markdown",
   "metadata": {
    "id": "EiyOi7J5nRhb"
   },
   "source": [
    "### Catboost"
   ]
  },
  {
   "cell_type": "code",
   "execution_count": 45,
   "metadata": {
    "colab": {
     "base_uri": "https://localhost:8080/"
    },
    "id": "vaV_5GAgnRhb",
    "outputId": "22aa1be8-5745-428f-8356-87629ef85672"
   },
   "outputs": [
    {
     "data": {
      "text/plain": [
       "GridSearchCV(cv=<generator object TimeSeriesSplit.split at 0x7fbb85bfdeb0>,\n",
       "             estimator=<catboost.core.CatBoostRegressor object at 0x7fbb8566db50>,\n",
       "             param_grid={'depth': [4, 6, 10], 'learning_rate': [0.03, 0.1]},\n",
       "             scoring=make_scorer(RMSE, greater_is_better=False))"
      ]
     },
     "execution_count": 45,
     "metadata": {},
     "output_type": "execute_result"
    }
   ],
   "source": [
    "my_cv = TimeSeriesSplit(n_splits=3).split(features_train)\n",
    "#Объявляю модель\n",
    "cb = cb.CatBoostRegressor()\n",
    "#Определяю словарь с набором параметров\n",
    "cb_parametrs = {'learning_rate': [0.03, 0.1],\n",
    "                'depth': [4, 6, 10]\n",
    "               }\n",
    "\n",
    "#Применяю GridSearchCV с кросс-валидацией\n",
    "cb_grid = GridSearchCV(cb, cb_parametrs, scoring=RMSE_score, cv=my_cv)\n",
    "cb_grid.fit(features_train, target_train, verbose=False)"
   ]
  },
  {
   "cell_type": "markdown",
   "metadata": {
    "id": "vtS3wh4rnRhc"
   },
   "source": [
    "Найду оптимальные гиперпараметры и качество модели на кросс-валидации:"
   ]
  },
  {
   "cell_type": "code",
   "execution_count": 46,
   "metadata": {
    "colab": {
     "base_uri": "https://localhost:8080/"
    },
    "id": "PzeFRjBInRhc",
    "outputId": "f08c453e-4db5-4059-fd73-828a10d4f8d7"
   },
   "outputs": [
    {
     "name": "stdout",
     "output_type": "stream",
     "text": [
      "                                rmse\n",
      "rolling_mean_trend\"        54.423829\n",
      "rolling_weighted_average\"  56.322731\n",
      "LinearRegression\"           28.55241\n",
      "RandomForestRegressor      26.932943\n",
      "CatBoostRegressor          17.387642\n"
     ]
    }
   ],
   "source": [
    "cb_params = cb_grid.best_params_\n",
    "cb_score = cb_grid.score(features_train, target_train) * (-1)\n",
    "result_metrics(cb_score, 'CatBoostRegressor')\n",
    "print(df_result)"
   ]
  },
  {
   "cell_type": "markdown",
   "metadata": {},
   "source": [
    " Посмотрим на самую оптимальную модель по показателю RMSE"
   ]
  },
  {
   "cell_type": "code",
   "execution_count": 47,
   "metadata": {},
   "outputs": [
    {
     "data": {
      "text/html": [
       "<div>\n",
       "<style scoped>\n",
       "    .dataframe tbody tr th:only-of-type {\n",
       "        vertical-align: middle;\n",
       "    }\n",
       "\n",
       "    .dataframe tbody tr th {\n",
       "        vertical-align: top;\n",
       "    }\n",
       "\n",
       "    .dataframe thead th {\n",
       "        text-align: right;\n",
       "    }\n",
       "</style>\n",
       "<table border=\"1\" class=\"dataframe\">\n",
       "  <thead>\n",
       "    <tr style=\"text-align: right;\">\n",
       "      <th></th>\n",
       "      <th>rmse</th>\n",
       "    </tr>\n",
       "  </thead>\n",
       "  <tbody>\n",
       "    <tr>\n",
       "      <th>CatBoostRegressor</th>\n",
       "      <td>17.387642</td>\n",
       "    </tr>\n",
       "    <tr>\n",
       "      <th>RandomForestRegressor</th>\n",
       "      <td>26.932943</td>\n",
       "    </tr>\n",
       "    <tr>\n",
       "      <th>LinearRegression\"</th>\n",
       "      <td>28.55241</td>\n",
       "    </tr>\n",
       "    <tr>\n",
       "      <th>rolling_mean_trend\"</th>\n",
       "      <td>54.423829</td>\n",
       "    </tr>\n",
       "    <tr>\n",
       "      <th>rolling_weighted_average\"</th>\n",
       "      <td>56.322731</td>\n",
       "    </tr>\n",
       "  </tbody>\n",
       "</table>\n",
       "</div>"
      ],
      "text/plain": [
       "                                rmse\n",
       "CatBoostRegressor          17.387642\n",
       "RandomForestRegressor      26.932943\n",
       "LinearRegression\"           28.55241\n",
       "rolling_mean_trend\"        54.423829\n",
       "rolling_weighted_average\"  56.322731"
      ]
     },
     "execution_count": 47,
     "metadata": {},
     "output_type": "execute_result"
    }
   ],
   "source": [
    "df_result.sort_values(by='rmse')"
   ]
  },
  {
   "cell_type": "markdown",
   "metadata": {},
   "source": [
    "И так лучше всех себя показали модели - CatBoostRegressor, RandomForestRegressor, LinearRegression. Я пердлагаю остановится на CatBoostRegressor и проверить на тестовой выборке."
   ]
  },
  {
   "cell_type": "markdown",
   "metadata": {
    "id": "DcmJIflCnRhe"
   },
   "source": [
    "## Тестирование"
   ]
  },
  {
   "cell_type": "code",
   "execution_count": 48,
   "metadata": {},
   "outputs": [],
   "source": [
    "import catboost as cb\n",
    "#Обучаю модель на оптимальных гиперпараметрах\n",
    "cb_model = cb.CatBoostRegressor(learning_rate=cb_params['learning_rate'],\n",
    "                                depth=cb_params['depth'])\n",
    "\n",
    "cb_model.fit(features_train, target_train, verbose=False)\n",
    "cb_model_predictions = cb_model.predict(features_test)"
   ]
  },
  {
   "cell_type": "code",
   "execution_count": 49,
   "metadata": {
    "id": "2QRrT_cFnRhe"
   },
   "outputs": [
    {
     "name": "stdout",
     "output_type": "stream",
     "text": [
      "RMSE модели CatBoostRegressor: 41.52053437596481\n"
     ]
    }
   ],
   "source": [
    "print('RMSE модели CatBoostRegressor:', RMSE(target_test, cb_model_predictions))"
   ]
  },
  {
   "cell_type": "code",
   "execution_count": 50,
   "metadata": {},
   "outputs": [],
   "source": [
    "model_data = pd.DataFrame({\"target\":target_test, \"predict\":cb_model_predictions})"
   ]
  },
  {
   "cell_type": "code",
   "execution_count": 51,
   "metadata": {},
   "outputs": [
    {
     "data": {
      "image/png": "[encoded data removed]",
      "text/plain": [
       "<Figure size 1080x360 with 1 Axes>"
      ]
     },
     "metadata": {
      "needs_background": "light"
     },
     "output_type": "display_data"
    }
   ],
   "source": [
    "model_data.plot(figsize=(15, 5))\n",
    "plt.title('График зависимости количества заказов от даты на всей тестовой выборке')\n",
    "plt.ylabel(\"Количество заказов\")\n",
    "plt.xlabel(\"Дата\")\n",
    "plt.show()"
   ]
  },
  {
   "cell_type": "code",
   "execution_count": 52,
   "metadata": {},
   "outputs": [
    {
     "data": {
      "image/png": "[encoded data removed]",
      "text/plain": [
       "<Figure size 1080x360 with 1 Axes>"
      ]
     },
     "metadata": {
      "needs_background": "light"
     },
     "output_type": "display_data"
    }
   ],
   "source": [
    "model_data['2018-08-20':'2018-08-21'].plot(figsize=(15, 5))\n",
    "plt.title('График зависимости количества заказов от даты на одном дне')\n",
    "plt.ylabel(\"Количество заказов\")\n",
    "plt.xlabel(\"Дата\")\n",
    "plt.show()\n",
    "plt.show()"
   ]
  },
  {
   "cell_type": "markdown",
   "metadata": {},
   "source": [
    "На тестовой выборке лучше Catboost выдал RMSE = 17, в то время как на трейне RMSE = 41, что соответсвует условию задачи."
   ]
  },
  {
   "cell_type": "markdown",
   "metadata": {},
   "source": [
    "## Вывод"
   ]
  },
  {
   "cell_type": "markdown",
   "metadata": {},
   "source": [
    "- За время наблюдений наметился определенный тренд на общее увеличение заказов такси, которое скорее всего вызвано ростом компании.\n",
    "\n",
    "- Число заказов в течение недели и дня не постоянно имеются временные промежутки роста числа заказов и спада.\n",
    "\n",
    "- По результатм работы лучше всех себя показала модель - CatBoostRegressor с RMSE = 8.25 что соответсвует условию."
   ]
  }
 ],
 "metadata": {
  "ExecuteTimeLog": [
   {
    "duration": 2075,
    "start_time": "2022-08-31T15:13:19.437Z"
   },
   {
    "duration": 1881,
    "start_time": "2022-08-31T15:14:32.271Z"
   },
   {
    "duration": 0,
    "start_time": "2022-08-31T15:14:34.155Z"
   },
   {
    "duration": 0,
    "start_time": "2022-08-31T15:14:34.156Z"
   },
   {
    "duration": 0,
    "start_time": "2022-08-31T15:14:34.157Z"
   },
   {
    "duration": 0,
    "start_time": "2022-08-31T15:14:34.158Z"
   },
   {
    "duration": 0,
    "start_time": "2022-08-31T15:14:34.159Z"
   },
   {
    "duration": 0,
    "start_time": "2022-08-31T15:14:34.160Z"
   },
   {
    "duration": 0,
    "start_time": "2022-08-31T15:14:34.161Z"
   },
   {
    "duration": 0,
    "start_time": "2022-08-31T15:14:34.162Z"
   },
   {
    "duration": 1,
    "start_time": "2022-08-31T15:14:34.163Z"
   },
   {
    "duration": 0,
    "start_time": "2022-08-31T15:14:34.165Z"
   },
   {
    "duration": 0,
    "start_time": "2022-08-31T15:14:34.166Z"
   },
   {
    "duration": 0,
    "start_time": "2022-08-31T15:14:34.167Z"
   },
   {
    "duration": 0,
    "start_time": "2022-08-31T15:14:34.168Z"
   },
   {
    "duration": 0,
    "start_time": "2022-08-31T15:14:34.169Z"
   },
   {
    "duration": 0,
    "start_time": "2022-08-31T15:14:34.171Z"
   },
   {
    "duration": 1,
    "start_time": "2022-08-31T15:14:34.191Z"
   },
   {
    "duration": 0,
    "start_time": "2022-08-31T15:14:34.193Z"
   },
   {
    "duration": 0,
    "start_time": "2022-08-31T15:14:34.194Z"
   },
   {
    "duration": 0,
    "start_time": "2022-08-31T15:14:34.194Z"
   },
   {
    "duration": 0,
    "start_time": "2022-08-31T15:14:34.195Z"
   },
   {
    "duration": 0,
    "start_time": "2022-08-31T15:14:34.196Z"
   },
   {
    "duration": 0,
    "start_time": "2022-08-31T15:14:34.197Z"
   },
   {
    "duration": 0,
    "start_time": "2022-08-31T15:14:34.198Z"
   },
   {
    "duration": 0,
    "start_time": "2022-08-31T15:14:34.199Z"
   },
   {
    "duration": 0,
    "start_time": "2022-08-31T15:14:34.200Z"
   },
   {
    "duration": 0,
    "start_time": "2022-08-31T15:14:34.201Z"
   },
   {
    "duration": 0,
    "start_time": "2022-08-31T15:14:34.203Z"
   },
   {
    "duration": 0,
    "start_time": "2022-08-31T15:14:34.204Z"
   },
   {
    "duration": 0,
    "start_time": "2022-08-31T15:14:34.205Z"
   },
   {
    "duration": 0,
    "start_time": "2022-08-31T15:14:34.206Z"
   },
   {
    "duration": 0,
    "start_time": "2022-08-31T15:14:34.207Z"
   },
   {
    "duration": 0,
    "start_time": "2022-08-31T15:14:34.208Z"
   },
   {
    "duration": 0,
    "start_time": "2022-08-31T15:14:34.209Z"
   },
   {
    "duration": 0,
    "start_time": "2022-08-31T15:14:34.210Z"
   },
   {
    "duration": 0,
    "start_time": "2022-08-31T15:14:34.211Z"
   },
   {
    "duration": 0,
    "start_time": "2022-08-31T15:14:34.212Z"
   },
   {
    "duration": 0,
    "start_time": "2022-08-31T15:14:34.214Z"
   },
   {
    "duration": 0,
    "start_time": "2022-08-31T15:14:34.215Z"
   },
   {
    "duration": 0,
    "start_time": "2022-08-31T15:14:34.216Z"
   },
   {
    "duration": 0,
    "start_time": "2022-08-31T15:14:34.217Z"
   },
   {
    "duration": 0,
    "start_time": "2022-08-31T15:14:34.219Z"
   },
   {
    "duration": 0,
    "start_time": "2022-08-31T15:14:34.220Z"
   },
   {
    "duration": 0,
    "start_time": "2022-08-31T15:14:34.222Z"
   },
   {
    "duration": 0,
    "start_time": "2022-08-31T15:14:34.224Z"
   },
   {
    "duration": 0,
    "start_time": "2022-08-31T15:14:34.225Z"
   },
   {
    "duration": 0,
    "start_time": "2022-08-31T15:14:34.227Z"
   },
   {
    "duration": 0,
    "start_time": "2022-08-31T15:14:34.228Z"
   },
   {
    "duration": 0,
    "start_time": "2022-08-31T15:14:34.229Z"
   },
   {
    "duration": 0,
    "start_time": "2022-08-31T15:14:34.231Z"
   },
   {
    "duration": 0,
    "start_time": "2022-08-31T15:14:34.232Z"
   },
   {
    "duration": 0,
    "start_time": "2022-08-31T15:14:34.233Z"
   },
   {
    "duration": 0,
    "start_time": "2022-08-31T15:14:34.234Z"
   },
   {
    "duration": 1,
    "start_time": "2022-08-31T15:14:34.234Z"
   },
   {
    "duration": 1,
    "start_time": "2022-08-31T15:14:34.235Z"
   },
   {
    "duration": 0,
    "start_time": "2022-08-31T15:14:34.236Z"
   },
   {
    "duration": 0,
    "start_time": "2022-08-31T15:14:34.295Z"
   },
   {
    "duration": 0,
    "start_time": "2022-08-31T15:14:34.296Z"
   },
   {
    "duration": 0,
    "start_time": "2022-08-31T15:14:34.299Z"
   },
   {
    "duration": 0,
    "start_time": "2022-08-31T15:14:34.300Z"
   },
   {
    "duration": 0,
    "start_time": "2022-08-31T15:14:34.301Z"
   },
   {
    "duration": 1778,
    "start_time": "2022-08-31T16:49:20.362Z"
   },
   {
    "duration": 0,
    "start_time": "2022-08-31T16:49:22.145Z"
   },
   {
    "duration": 0,
    "start_time": "2022-08-31T16:49:22.146Z"
   },
   {
    "duration": 0,
    "start_time": "2022-08-31T16:49:22.147Z"
   },
   {
    "duration": 0,
    "start_time": "2022-08-31T16:49:22.149Z"
   },
   {
    "duration": 0,
    "start_time": "2022-08-31T16:49:22.150Z"
   },
   {
    "duration": 0,
    "start_time": "2022-08-31T16:49:22.151Z"
   },
   {
    "duration": 0,
    "start_time": "2022-08-31T16:49:22.151Z"
   },
   {
    "duration": 0,
    "start_time": "2022-08-31T16:49:22.152Z"
   },
   {
    "duration": 0,
    "start_time": "2022-08-31T16:49:22.153Z"
   },
   {
    "duration": 0,
    "start_time": "2022-08-31T16:49:22.154Z"
   },
   {
    "duration": 0,
    "start_time": "2022-08-31T16:49:22.155Z"
   },
   {
    "duration": 0,
    "start_time": "2022-08-31T16:49:22.156Z"
   },
   {
    "duration": 0,
    "start_time": "2022-08-31T16:49:22.157Z"
   },
   {
    "duration": 0,
    "start_time": "2022-08-31T16:49:22.158Z"
   },
   {
    "duration": 0,
    "start_time": "2022-08-31T16:49:22.159Z"
   },
   {
    "duration": 0,
    "start_time": "2022-08-31T16:49:22.160Z"
   },
   {
    "duration": 0,
    "start_time": "2022-08-31T16:49:22.161Z"
   },
   {
    "duration": 0,
    "start_time": "2022-08-31T16:49:22.162Z"
   },
   {
    "duration": 0,
    "start_time": "2022-08-31T16:49:22.163Z"
   },
   {
    "duration": 0,
    "start_time": "2022-08-31T16:49:22.164Z"
   },
   {
    "duration": 0,
    "start_time": "2022-08-31T16:49:22.165Z"
   },
   {
    "duration": 0,
    "start_time": "2022-08-31T16:49:22.166Z"
   },
   {
    "duration": 0,
    "start_time": "2022-08-31T16:49:22.167Z"
   },
   {
    "duration": 0,
    "start_time": "2022-08-31T16:49:22.168Z"
   },
   {
    "duration": 0,
    "start_time": "2022-08-31T16:49:22.169Z"
   },
   {
    "duration": 0,
    "start_time": "2022-08-31T16:49:22.170Z"
   },
   {
    "duration": 0,
    "start_time": "2022-08-31T16:49:22.171Z"
   },
   {
    "duration": 0,
    "start_time": "2022-08-31T16:49:22.172Z"
   },
   {
    "duration": 0,
    "start_time": "2022-08-31T16:49:22.173Z"
   },
   {
    "duration": 0,
    "start_time": "2022-08-31T16:49:22.200Z"
   },
   {
    "duration": 0,
    "start_time": "2022-08-31T16:49:22.201Z"
   },
   {
    "duration": 0,
    "start_time": "2022-08-31T16:49:22.202Z"
   },
   {
    "duration": 0,
    "start_time": "2022-08-31T16:49:22.204Z"
   },
   {
    "duration": 0,
    "start_time": "2022-08-31T16:49:22.204Z"
   },
   {
    "duration": 0,
    "start_time": "2022-08-31T16:49:22.205Z"
   },
   {
    "duration": 0,
    "start_time": "2022-08-31T16:49:22.206Z"
   },
   {
    "duration": 0,
    "start_time": "2022-08-31T16:49:22.207Z"
   },
   {
    "duration": 0,
    "start_time": "2022-08-31T16:49:22.208Z"
   },
   {
    "duration": 0,
    "start_time": "2022-08-31T16:49:22.209Z"
   },
   {
    "duration": 0,
    "start_time": "2022-08-31T16:49:22.210Z"
   },
   {
    "duration": 0,
    "start_time": "2022-08-31T16:49:22.211Z"
   },
   {
    "duration": 0,
    "start_time": "2022-08-31T16:49:22.212Z"
   },
   {
    "duration": 0,
    "start_time": "2022-08-31T16:49:22.214Z"
   },
   {
    "duration": 0,
    "start_time": "2022-08-31T16:49:22.214Z"
   },
   {
    "duration": 0,
    "start_time": "2022-08-31T16:49:22.215Z"
   },
   {
    "duration": 0,
    "start_time": "2022-08-31T16:49:22.216Z"
   },
   {
    "duration": 0,
    "start_time": "2022-08-31T16:49:22.217Z"
   },
   {
    "duration": 0,
    "start_time": "2022-08-31T16:49:22.218Z"
   },
   {
    "duration": 0,
    "start_time": "2022-08-31T16:49:22.219Z"
   },
   {
    "duration": 0,
    "start_time": "2022-08-31T16:49:22.220Z"
   },
   {
    "duration": 0,
    "start_time": "2022-08-31T16:49:22.221Z"
   },
   {
    "duration": 0,
    "start_time": "2022-08-31T16:49:22.222Z"
   },
   {
    "duration": 0,
    "start_time": "2022-08-31T16:49:22.223Z"
   },
   {
    "duration": 0,
    "start_time": "2022-08-31T16:49:22.224Z"
   },
   {
    "duration": 0,
    "start_time": "2022-08-31T16:49:22.226Z"
   },
   {
    "duration": 0,
    "start_time": "2022-08-31T16:49:22.227Z"
   },
   {
    "duration": 0,
    "start_time": "2022-08-31T16:49:22.228Z"
   },
   {
    "duration": 0,
    "start_time": "2022-08-31T16:49:22.229Z"
   },
   {
    "duration": 0,
    "start_time": "2022-08-31T16:49:22.230Z"
   },
   {
    "duration": 0,
    "start_time": "2022-08-31T16:49:22.231Z"
   },
   {
    "duration": 216,
    "start_time": "2022-08-31T16:49:34.285Z"
   },
   {
    "duration": 28,
    "start_time": "2022-08-31T16:49:49.905Z"
   },
   {
    "duration": 1101,
    "start_time": "2022-08-31T16:49:52.293Z"
   },
   {
    "duration": 4,
    "start_time": "2022-08-31T16:50:06.185Z"
   },
   {
    "duration": 857,
    "start_time": "2022-08-31T16:50:07.663Z"
   },
   {
    "duration": 797,
    "start_time": "2022-08-31T16:50:13.824Z"
   },
   {
    "duration": 16,
    "start_time": "2022-08-31T16:50:16.275Z"
   },
   {
    "duration": 4,
    "start_time": "2022-08-31T16:50:17.282Z"
   },
   {
    "duration": 113,
    "start_time": "2022-08-31T16:50:18.490Z"
   },
   {
    "duration": 12,
    "start_time": "2022-08-31T16:50:19.529Z"
   },
   {
    "duration": 19081,
    "start_time": "2022-08-31T16:52:12.934Z"
   },
   {
    "duration": 321,
    "start_time": "2022-08-31T16:53:33.809Z"
   },
   {
    "duration": 6496,
    "start_time": "2022-08-31T16:53:40.056Z"
   },
   {
    "duration": 1525,
    "start_time": "2022-08-31T16:55:00.743Z"
   },
   {
    "duration": 807,
    "start_time": "2022-08-31T16:55:02.270Z"
   },
   {
    "duration": 22,
    "start_time": "2022-08-31T16:55:03.079Z"
   },
   {
    "duration": 4,
    "start_time": "2022-08-31T16:55:03.103Z"
   },
   {
    "duration": 125,
    "start_time": "2022-08-31T16:55:03.109Z"
   },
   {
    "duration": 114,
    "start_time": "2022-08-31T16:55:03.236Z"
   },
   {
    "duration": 0,
    "start_time": "2022-08-31T16:55:03.353Z"
   },
   {
    "duration": 0,
    "start_time": "2022-08-31T16:55:03.354Z"
   },
   {
    "duration": 0,
    "start_time": "2022-08-31T16:55:03.356Z"
   },
   {
    "duration": 0,
    "start_time": "2022-08-31T16:55:03.357Z"
   },
   {
    "duration": 0,
    "start_time": "2022-08-31T16:55:03.358Z"
   },
   {
    "duration": 0,
    "start_time": "2022-08-31T16:55:03.358Z"
   },
   {
    "duration": 0,
    "start_time": "2022-08-31T16:55:03.359Z"
   },
   {
    "duration": 0,
    "start_time": "2022-08-31T16:55:03.360Z"
   },
   {
    "duration": 0,
    "start_time": "2022-08-31T16:55:03.361Z"
   },
   {
    "duration": 0,
    "start_time": "2022-08-31T16:55:03.362Z"
   },
   {
    "duration": 0,
    "start_time": "2022-08-31T16:55:03.363Z"
   },
   {
    "duration": 0,
    "start_time": "2022-08-31T16:55:03.364Z"
   },
   {
    "duration": 0,
    "start_time": "2022-08-31T16:55:03.365Z"
   },
   {
    "duration": 0,
    "start_time": "2022-08-31T16:55:03.366Z"
   },
   {
    "duration": 0,
    "start_time": "2022-08-31T16:55:03.367Z"
   },
   {
    "duration": 0,
    "start_time": "2022-08-31T16:55:03.368Z"
   },
   {
    "duration": 0,
    "start_time": "2022-08-31T16:55:03.368Z"
   },
   {
    "duration": 0,
    "start_time": "2022-08-31T16:55:03.369Z"
   },
   {
    "duration": 0,
    "start_time": "2022-08-31T16:55:03.370Z"
   },
   {
    "duration": 0,
    "start_time": "2022-08-31T16:55:03.400Z"
   },
   {
    "duration": 0,
    "start_time": "2022-08-31T16:55:03.402Z"
   },
   {
    "duration": 0,
    "start_time": "2022-08-31T16:55:03.402Z"
   },
   {
    "duration": 0,
    "start_time": "2022-08-31T16:55:03.403Z"
   },
   {
    "duration": 0,
    "start_time": "2022-08-31T16:55:03.404Z"
   },
   {
    "duration": 0,
    "start_time": "2022-08-31T16:55:03.405Z"
   },
   {
    "duration": 0,
    "start_time": "2022-08-31T16:55:03.406Z"
   },
   {
    "duration": 0,
    "start_time": "2022-08-31T16:55:03.407Z"
   },
   {
    "duration": 0,
    "start_time": "2022-08-31T16:55:03.408Z"
   },
   {
    "duration": 1,
    "start_time": "2022-08-31T16:55:03.408Z"
   },
   {
    "duration": 0,
    "start_time": "2022-08-31T16:55:03.409Z"
   },
   {
    "duration": 0,
    "start_time": "2022-08-31T16:55:03.410Z"
   },
   {
    "duration": 0,
    "start_time": "2022-08-31T16:55:03.411Z"
   },
   {
    "duration": 0,
    "start_time": "2022-08-31T16:55:03.412Z"
   },
   {
    "duration": 0,
    "start_time": "2022-08-31T16:55:03.413Z"
   },
   {
    "duration": 1,
    "start_time": "2022-08-31T16:55:03.413Z"
   },
   {
    "duration": 0,
    "start_time": "2022-08-31T16:55:03.415Z"
   },
   {
    "duration": 0,
    "start_time": "2022-08-31T16:55:03.415Z"
   },
   {
    "duration": 0,
    "start_time": "2022-08-31T16:55:03.416Z"
   },
   {
    "duration": 0,
    "start_time": "2022-08-31T16:55:03.417Z"
   },
   {
    "duration": 0,
    "start_time": "2022-08-31T16:55:03.418Z"
   },
   {
    "duration": 0,
    "start_time": "2022-08-31T16:55:03.419Z"
   },
   {
    "duration": 0,
    "start_time": "2022-08-31T16:55:03.420Z"
   },
   {
    "duration": 0,
    "start_time": "2022-08-31T16:55:03.421Z"
   },
   {
    "duration": 0,
    "start_time": "2022-08-31T16:55:03.422Z"
   },
   {
    "duration": 80,
    "start_time": "2022-08-31T17:00:01.211Z"
   },
   {
    "duration": 1284,
    "start_time": "2022-08-31T17:00:18.367Z"
   },
   {
    "duration": 3,
    "start_time": "2022-08-31T17:00:28.750Z"
   },
   {
    "duration": 881,
    "start_time": "2022-08-31T17:00:30.377Z"
   },
   {
    "duration": 14,
    "start_time": "2022-08-31T17:00:31.891Z"
   },
   {
    "duration": 4,
    "start_time": "2022-08-31T17:00:32.640Z"
   },
   {
    "duration": 119,
    "start_time": "2022-08-31T17:00:33.855Z"
   },
   {
    "duration": 1375,
    "start_time": "2022-08-31T17:00:35.032Z"
   },
   {
    "duration": 213,
    "start_time": "2022-08-31T17:01:07.562Z"
   },
   {
    "duration": 8,
    "start_time": "2022-08-31T17:01:08.307Z"
   },
   {
    "duration": 5,
    "start_time": "2022-08-31T17:01:09.592Z"
   },
   {
    "duration": 13,
    "start_time": "2022-08-31T17:01:10.209Z"
   },
   {
    "duration": 9,
    "start_time": "2022-08-31T17:01:11.194Z"
   },
   {
    "duration": 6,
    "start_time": "2022-08-31T17:01:12.842Z"
   },
   {
    "duration": 3,
    "start_time": "2022-08-31T17:01:17.681Z"
   },
   {
    "duration": 11,
    "start_time": "2022-08-31T17:01:18.435Z"
   },
   {
    "duration": 7,
    "start_time": "2022-08-31T17:01:18.787Z"
   },
   {
    "duration": 5,
    "start_time": "2022-08-31T17:01:19.849Z"
   },
   {
    "duration": 4,
    "start_time": "2022-08-31T17:01:20.505Z"
   },
   {
    "duration": 275,
    "start_time": "2022-08-31T17:01:21.834Z"
   },
   {
    "duration": 9,
    "start_time": "2022-08-31T17:01:23.276Z"
   },
   {
    "duration": 155,
    "start_time": "2022-08-31T17:01:23.537Z"
   },
   {
    "duration": 12,
    "start_time": "2022-08-31T17:01:24.010Z"
   },
   {
    "duration": 266,
    "start_time": "2022-08-31T17:01:24.249Z"
   },
   {
    "duration": 7,
    "start_time": "2022-08-31T17:01:24.865Z"
   },
   {
    "duration": 1416,
    "start_time": "2022-08-31T17:01:35.200Z"
   },
   {
    "duration": 73,
    "start_time": "2022-08-31T17:01:36.617Z"
   },
   {
    "duration": 11,
    "start_time": "2022-08-31T17:01:36.692Z"
   },
   {
    "duration": 4,
    "start_time": "2022-08-31T17:01:36.706Z"
   },
   {
    "duration": 14,
    "start_time": "2022-08-31T17:01:36.711Z"
   },
   {
    "duration": 9,
    "start_time": "2022-08-31T17:01:36.726Z"
   },
   {
    "duration": 13,
    "start_time": "2022-08-31T17:01:36.736Z"
   },
   {
    "duration": 10,
    "start_time": "2022-08-31T17:01:36.750Z"
   },
   {
    "duration": 16,
    "start_time": "2022-08-31T17:01:36.761Z"
   },
   {
    "duration": 22,
    "start_time": "2022-08-31T17:01:36.779Z"
   },
   {
    "duration": 8,
    "start_time": "2022-08-31T17:01:36.803Z"
   },
   {
    "duration": 6,
    "start_time": "2022-08-31T17:01:36.813Z"
   },
   {
    "duration": 304,
    "start_time": "2022-08-31T17:01:36.821Z"
   },
   {
    "duration": 7,
    "start_time": "2022-08-31T17:01:37.127Z"
   },
   {
    "duration": 168,
    "start_time": "2022-08-31T17:01:37.136Z"
   },
   {
    "duration": 11,
    "start_time": "2022-08-31T17:01:37.305Z"
   },
   {
    "duration": 357,
    "start_time": "2022-08-31T17:01:37.318Z"
   },
   {
    "duration": 6,
    "start_time": "2022-08-31T17:01:37.677Z"
   },
   {
    "duration": 8,
    "start_time": "2022-08-31T17:01:37.684Z"
   },
   {
    "duration": 209,
    "start_time": "2022-08-31T17:01:37.693Z"
   },
   {
    "duration": 234,
    "start_time": "2022-08-31T17:01:37.904Z"
   },
   {
    "duration": 236,
    "start_time": "2022-08-31T17:01:38.141Z"
   },
   {
    "duration": 9,
    "start_time": "2022-08-31T17:01:38.378Z"
   },
   {
    "duration": 19,
    "start_time": "2022-08-31T17:01:38.388Z"
   },
   {
    "duration": 242,
    "start_time": "2022-08-31T17:01:38.409Z"
   },
   {
    "duration": 13,
    "start_time": "2022-08-31T17:01:38.653Z"
   },
   {
    "duration": 204,
    "start_time": "2022-08-31T17:01:38.667Z"
   },
   {
    "duration": 219,
    "start_time": "2022-08-31T17:01:38.874Z"
   },
   {
    "duration": 10,
    "start_time": "2022-08-31T17:01:39.094Z"
   },
   {
    "duration": 8,
    "start_time": "2022-08-31T17:01:39.106Z"
   },
   {
    "duration": 9,
    "start_time": "2022-08-31T17:01:39.115Z"
   },
   {
    "duration": 6,
    "start_time": "2022-08-31T17:01:39.126Z"
   },
   {
    "duration": 12,
    "start_time": "2022-08-31T17:01:39.134Z"
   },
   {
    "duration": 6,
    "start_time": "2022-08-31T17:01:39.148Z"
   },
   {
    "duration": 6,
    "start_time": "2022-08-31T17:01:39.155Z"
   },
   {
    "duration": 17,
    "start_time": "2022-08-31T17:01:39.162Z"
   },
   {
    "duration": 8,
    "start_time": "2022-08-31T17:01:39.200Z"
   },
   {
    "duration": 72,
    "start_time": "2022-08-31T17:01:39.210Z"
   },
   {
    "duration": 23,
    "start_time": "2022-08-31T17:01:39.283Z"
   },
   {
    "duration": 77,
    "start_time": "2022-08-31T17:01:39.308Z"
   },
   {
    "duration": 24,
    "start_time": "2022-08-31T17:01:39.387Z"
   },
   {
    "duration": 38,
    "start_time": "2022-08-31T17:01:39.414Z"
   },
   {
    "duration": 15,
    "start_time": "2022-08-31T17:01:39.454Z"
   },
   {
    "duration": 831,
    "start_time": "2022-08-31T17:01:39.471Z"
   },
   {
    "duration": 2801,
    "start_time": "2022-08-31T17:01:40.304Z"
   },
   {
    "duration": 16,
    "start_time": "2022-08-31T17:01:43.106Z"
   },
   {
    "duration": 189805,
    "start_time": "2022-08-31T17:01:43.124Z"
   },
   {
    "duration": 28,
    "start_time": "2022-08-31T17:04:52.931Z"
   },
   {
    "duration": 6,
    "start_time": "2022-08-31T17:04:52.961Z"
   },
   {
    "duration": 5,
    "start_time": "2022-08-31T17:04:52.969Z"
   },
   {
    "duration": 12,
    "start_time": "2022-08-31T17:04:52.976Z"
   },
   {
    "duration": 1732,
    "start_time": "2022-08-31T17:10:08.546Z"
   },
   {
    "duration": 113,
    "start_time": "2022-08-31T17:10:10.281Z"
   },
   {
    "duration": 14,
    "start_time": "2022-08-31T17:10:10.396Z"
   },
   {
    "duration": 12,
    "start_time": "2022-08-31T17:10:10.412Z"
   },
   {
    "duration": 17,
    "start_time": "2022-08-31T17:10:10.426Z"
   },
   {
    "duration": 8,
    "start_time": "2022-08-31T17:10:10.445Z"
   },
   {
    "duration": 13,
    "start_time": "2022-08-31T17:10:10.455Z"
   },
   {
    "duration": 12,
    "start_time": "2022-08-31T17:10:10.470Z"
   },
   {
    "duration": 26,
    "start_time": "2022-08-31T17:10:10.484Z"
   },
   {
    "duration": 7,
    "start_time": "2022-08-31T17:10:10.513Z"
   },
   {
    "duration": 3,
    "start_time": "2022-08-31T17:10:10.522Z"
   },
   {
    "duration": 12,
    "start_time": "2022-08-31T17:10:10.527Z"
   },
   {
    "duration": 335,
    "start_time": "2022-08-31T17:10:10.540Z"
   },
   {
    "duration": 8,
    "start_time": "2022-08-31T17:10:10.878Z"
   },
   {
    "duration": 190,
    "start_time": "2022-08-31T17:10:10.888Z"
   },
   {
    "duration": 20,
    "start_time": "2022-08-31T17:10:11.080Z"
   },
   {
    "duration": 397,
    "start_time": "2022-08-31T17:10:11.102Z"
   },
   {
    "duration": 8,
    "start_time": "2022-08-31T17:10:11.501Z"
   },
   {
    "duration": 15,
    "start_time": "2022-08-31T17:10:11.511Z"
   },
   {
    "duration": 251,
    "start_time": "2022-08-31T17:10:11.528Z"
   },
   {
    "duration": 239,
    "start_time": "2022-08-31T17:10:11.782Z"
   },
   {
    "duration": 242,
    "start_time": "2022-08-31T17:10:12.023Z"
   },
   {
    "duration": 9,
    "start_time": "2022-08-31T17:10:12.267Z"
   },
   {
    "duration": 25,
    "start_time": "2022-08-31T17:10:12.278Z"
   },
   {
    "duration": 250,
    "start_time": "2022-08-31T17:10:12.305Z"
   },
   {
    "duration": 15,
    "start_time": "2022-08-31T17:10:12.557Z"
   },
   {
    "duration": 242,
    "start_time": "2022-08-31T17:10:12.574Z"
   },
   {
    "duration": 217,
    "start_time": "2022-08-31T17:10:12.820Z"
   },
   {
    "duration": 8,
    "start_time": "2022-08-31T17:10:13.039Z"
   },
   {
    "duration": 16,
    "start_time": "2022-08-31T17:10:13.049Z"
   },
   {
    "duration": 35,
    "start_time": "2022-08-31T17:10:13.067Z"
   },
   {
    "duration": 20,
    "start_time": "2022-08-31T17:10:13.104Z"
   },
   {
    "duration": 29,
    "start_time": "2022-08-31T17:10:13.126Z"
   },
   {
    "duration": 21,
    "start_time": "2022-08-31T17:10:13.157Z"
   },
   {
    "duration": 20,
    "start_time": "2022-08-31T17:10:13.180Z"
   },
   {
    "duration": 34,
    "start_time": "2022-08-31T17:10:13.203Z"
   },
   {
    "duration": 20,
    "start_time": "2022-08-31T17:10:13.239Z"
   },
   {
    "duration": 23,
    "start_time": "2022-08-31T17:10:13.261Z"
   },
   {
    "duration": 14,
    "start_time": "2022-08-31T17:10:13.286Z"
   },
   {
    "duration": 76,
    "start_time": "2022-08-31T17:10:13.303Z"
   },
   {
    "duration": 27,
    "start_time": "2022-08-31T17:10:13.381Z"
   },
   {
    "duration": 35,
    "start_time": "2022-08-31T17:10:13.409Z"
   },
   {
    "duration": 9,
    "start_time": "2022-08-31T17:10:13.446Z"
   },
   {
    "duration": 652,
    "start_time": "2022-08-31T17:10:13.457Z"
   },
   {
    "duration": 2563,
    "start_time": "2022-08-31T17:10:14.201Z"
   },
   {
    "duration": 12,
    "start_time": "2022-08-31T17:10:16.766Z"
   },
   {
    "duration": 184964,
    "start_time": "2022-08-31T17:10:16.780Z"
   },
   {
    "duration": 29,
    "start_time": "2022-08-31T17:13:21.745Z"
   },
   {
    "duration": 6,
    "start_time": "2022-08-31T17:13:21.776Z"
   },
   {
    "duration": 10,
    "start_time": "2022-08-31T17:13:21.784Z"
   },
   {
    "duration": 5,
    "start_time": "2022-08-31T17:13:21.795Z"
   },
   {
    "duration": 25,
    "start_time": "2022-08-31T17:24:40.154Z"
   },
   {
    "duration": 176,
    "start_time": "2022-08-31T17:24:42.134Z"
   },
   {
    "duration": 10,
    "start_time": "2022-08-31T17:24:42.312Z"
   },
   {
    "duration": 4,
    "start_time": "2022-08-31T17:24:42.412Z"
   },
   {
    "duration": 13,
    "start_time": "2022-08-31T17:24:43.990Z"
   },
   {
    "duration": 9,
    "start_time": "2022-08-31T17:24:47.736Z"
   },
   {
    "duration": 1717,
    "start_time": "2022-08-31T17:59:15.792Z"
   },
   {
    "duration": 81,
    "start_time": "2022-08-31T17:59:17.511Z"
   },
   {
    "duration": 10,
    "start_time": "2022-08-31T17:59:17.593Z"
   },
   {
    "duration": 8,
    "start_time": "2022-08-31T17:59:17.605Z"
   },
   {
    "duration": 16,
    "start_time": "2022-08-31T17:59:17.614Z"
   },
   {
    "duration": 9,
    "start_time": "2022-08-31T17:59:17.632Z"
   },
   {
    "duration": 20,
    "start_time": "2022-08-31T17:59:17.643Z"
   },
   {
    "duration": 8,
    "start_time": "2022-08-31T17:59:17.664Z"
   },
   {
    "duration": 54,
    "start_time": "2022-08-31T17:59:17.674Z"
   },
   {
    "duration": 23,
    "start_time": "2022-08-31T17:59:17.731Z"
   },
   {
    "duration": 9,
    "start_time": "2022-08-31T17:59:17.756Z"
   },
   {
    "duration": 13,
    "start_time": "2022-08-31T17:59:17.767Z"
   },
   {
    "duration": 318,
    "start_time": "2022-08-31T17:59:17.781Z"
   },
   {
    "duration": 10,
    "start_time": "2022-08-31T17:59:18.102Z"
   },
   {
    "duration": 180,
    "start_time": "2022-08-31T17:59:18.114Z"
   },
   {
    "duration": 12,
    "start_time": "2022-08-31T17:59:18.296Z"
   },
   {
    "duration": 362,
    "start_time": "2022-08-31T17:59:18.311Z"
   },
   {
    "duration": 7,
    "start_time": "2022-08-31T17:59:18.675Z"
   },
   {
    "duration": 7,
    "start_time": "2022-08-31T17:59:18.691Z"
   },
   {
    "duration": 233,
    "start_time": "2022-08-31T17:59:18.700Z"
   },
   {
    "duration": 253,
    "start_time": "2022-08-31T17:59:18.934Z"
   },
   {
    "duration": 242,
    "start_time": "2022-08-31T17:59:19.189Z"
   },
   {
    "duration": 9,
    "start_time": "2022-08-31T17:59:19.432Z"
   },
   {
    "duration": 22,
    "start_time": "2022-08-31T17:59:19.442Z"
   },
   {
    "duration": 275,
    "start_time": "2022-08-31T17:59:19.466Z"
   },
   {
    "duration": 15,
    "start_time": "2022-08-31T17:59:19.743Z"
   },
   {
    "duration": 243,
    "start_time": "2022-08-31T17:59:19.760Z"
   },
   {
    "duration": 225,
    "start_time": "2022-08-31T17:59:20.007Z"
   },
   {
    "duration": 10,
    "start_time": "2022-08-31T17:59:20.234Z"
   },
   {
    "duration": 15,
    "start_time": "2022-08-31T17:59:20.245Z"
   },
   {
    "duration": 29,
    "start_time": "2022-08-31T17:59:20.262Z"
   },
   {
    "duration": 30,
    "start_time": "2022-08-31T17:59:20.293Z"
   },
   {
    "duration": 26,
    "start_time": "2022-08-31T17:59:20.325Z"
   },
   {
    "duration": 15,
    "start_time": "2022-08-31T17:59:20.353Z"
   },
   {
    "duration": 18,
    "start_time": "2022-08-31T17:59:20.369Z"
   },
   {
    "duration": 50,
    "start_time": "2022-08-31T17:59:20.388Z"
   },
   {
    "duration": 30,
    "start_time": "2022-08-31T17:59:20.440Z"
   },
   {
    "duration": 30,
    "start_time": "2022-08-31T17:59:20.472Z"
   },
   {
    "duration": 20,
    "start_time": "2022-08-31T17:59:20.504Z"
   },
   {
    "duration": 59,
    "start_time": "2022-08-31T17:59:20.526Z"
   },
   {
    "duration": 25,
    "start_time": "2022-08-31T17:59:20.587Z"
   },
   {
    "duration": 21,
    "start_time": "2022-08-31T17:59:20.614Z"
   },
   {
    "duration": 5,
    "start_time": "2022-08-31T17:59:20.637Z"
   },
   {
    "duration": 651,
    "start_time": "2022-08-31T17:59:20.643Z"
   },
   {
    "duration": 3033,
    "start_time": "2022-08-31T17:59:21.391Z"
   },
   {
    "duration": 16,
    "start_time": "2022-08-31T17:59:24.426Z"
   },
   {
    "duration": 196852,
    "start_time": "2022-08-31T17:59:24.444Z"
   },
   {
    "duration": 32,
    "start_time": "2022-08-31T18:02:41.298Z"
   },
   {
    "duration": 7,
    "start_time": "2022-08-31T18:02:41.332Z"
   },
   {
    "duration": 29,
    "start_time": "2022-08-31T18:02:41.341Z"
   },
   {
    "duration": 17,
    "start_time": "2022-08-31T18:02:41.371Z"
   },
   {
    "duration": 90,
    "start_time": "2022-08-31T19:24:29.891Z"
   },
   {
    "duration": 73,
    "start_time": "2022-08-31T19:24:34.538Z"
   },
   {
    "duration": 1760,
    "start_time": "2022-08-31T19:24:41.967Z"
   },
   {
    "duration": 185,
    "start_time": "2022-08-31T19:24:43.731Z"
   },
   {
    "duration": 13,
    "start_time": "2022-08-31T19:24:43.918Z"
   },
   {
    "duration": 6,
    "start_time": "2022-08-31T19:24:43.933Z"
   },
   {
    "duration": 18,
    "start_time": "2022-08-31T19:24:44.626Z"
   },
   {
    "duration": 15,
    "start_time": "2022-08-31T19:24:45.653Z"
   },
   {
    "duration": 8,
    "start_time": "2022-08-31T19:24:47.044Z"
   },
   {
    "duration": 5,
    "start_time": "2022-08-31T19:24:48.070Z"
   },
   {
    "duration": 16,
    "start_time": "2022-08-31T19:24:50.306Z"
   },
   {
    "duration": 8,
    "start_time": "2022-08-31T19:25:23.930Z"
   },
   {
    "duration": 4,
    "start_time": "2022-08-31T19:25:25.054Z"
   },
   {
    "duration": 6,
    "start_time": "2022-08-31T19:25:25.785Z"
   },
   {
    "duration": 296,
    "start_time": "2022-08-31T19:25:27.731Z"
   },
   {
    "duration": 103,
    "start_time": "2022-08-31T19:25:30.748Z"
   },
   {
    "duration": 25,
    "start_time": "2022-08-31T19:26:00.986Z"
   },
   {
    "duration": 12,
    "start_time": "2022-08-31T19:26:08.567Z"
   },
   {
    "duration": 12,
    "start_time": "2022-08-31T19:26:15.141Z"
   },
   {
    "duration": 220,
    "start_time": "2022-08-31T19:26:16.804Z"
   },
   {
    "duration": 1446,
    "start_time": "2022-08-31T19:26:32.142Z"
   },
   {
    "duration": 0,
    "start_time": "2022-08-31T19:26:33.590Z"
   },
   {
    "duration": 7,
    "start_time": "2022-08-31T19:27:03.959Z"
   },
   {
    "duration": 200,
    "start_time": "2022-08-31T19:27:05.404Z"
   },
   {
    "duration": 13,
    "start_time": "2022-08-31T19:27:10.714Z"
   },
   {
    "duration": 422,
    "start_time": "2022-08-31T19:27:12.965Z"
   },
   {
    "duration": 8,
    "start_time": "2022-08-31T19:27:35.162Z"
   },
   {
    "duration": 373,
    "start_time": "2022-08-31T19:27:35.998Z"
   },
   {
    "duration": 8,
    "start_time": "2022-08-31T19:27:55.627Z"
   },
   {
    "duration": 9,
    "start_time": "2022-08-31T19:27:56.177Z"
   },
   {
    "duration": 234,
    "start_time": "2022-08-31T19:27:56.745Z"
   },
   {
    "duration": 308,
    "start_time": "2022-08-31T19:28:00.448Z"
   },
   {
    "duration": 348,
    "start_time": "2022-08-31T19:28:05.029Z"
   },
   {
    "duration": 10,
    "start_time": "2022-08-31T19:28:11.432Z"
   },
   {
    "duration": 10,
    "start_time": "2022-08-31T19:28:12.138Z"
   },
   {
    "duration": 234,
    "start_time": "2022-08-31T19:28:12.464Z"
   },
   {
    "duration": 422,
    "start_time": "2022-08-31T19:28:33.898Z"
   },
   {
    "duration": 9,
    "start_time": "2022-08-31T19:29:05.413Z"
   },
   {
    "duration": 329,
    "start_time": "2022-08-31T19:29:06.018Z"
   },
   {
    "duration": 8,
    "start_time": "2022-08-31T19:29:10.304Z"
   },
   {
    "duration": 8,
    "start_time": "2022-08-31T19:29:10.884Z"
   },
   {
    "duration": 224,
    "start_time": "2022-08-31T19:29:11.404Z"
   },
   {
    "duration": 371,
    "start_time": "2022-08-31T19:29:13.049Z"
   },
   {
    "duration": 244,
    "start_time": "2022-08-31T19:29:14.975Z"
   },
   {
    "duration": 8,
    "start_time": "2022-08-31T19:29:19.492Z"
   },
   {
    "duration": 10,
    "start_time": "2022-08-31T19:29:22.320Z"
   },
   {
    "duration": 293,
    "start_time": "2022-08-31T19:29:22.659Z"
   },
   {
    "duration": 424,
    "start_time": "2022-08-31T19:29:25.981Z"
   },
   {
    "duration": 4,
    "start_time": "2022-08-31T19:39:13.062Z"
   },
   {
    "duration": 1582,
    "start_time": "2022-08-31T19:40:15.787Z"
   },
   {
    "duration": 72,
    "start_time": "2022-08-31T19:40:17.370Z"
   },
   {
    "duration": 12,
    "start_time": "2022-08-31T19:40:17.444Z"
   },
   {
    "duration": 5,
    "start_time": "2022-08-31T19:40:17.458Z"
   },
   {
    "duration": 16,
    "start_time": "2022-08-31T19:40:17.465Z"
   },
   {
    "duration": 10,
    "start_time": "2022-08-31T19:40:17.483Z"
   },
   {
    "duration": 9,
    "start_time": "2022-08-31T19:40:17.495Z"
   },
   {
    "duration": 4,
    "start_time": "2022-08-31T19:40:17.506Z"
   },
   {
    "duration": 14,
    "start_time": "2022-08-31T19:40:17.511Z"
   },
   {
    "duration": 7,
    "start_time": "2022-08-31T19:40:17.528Z"
   },
   {
    "duration": 5,
    "start_time": "2022-08-31T19:40:17.537Z"
   },
   {
    "duration": 42,
    "start_time": "2022-08-31T19:40:17.544Z"
   },
   {
    "duration": 323,
    "start_time": "2022-08-31T19:40:17.588Z"
   },
   {
    "duration": 9,
    "start_time": "2022-08-31T19:40:17.912Z"
   },
   {
    "duration": 209,
    "start_time": "2022-08-31T19:40:17.923Z"
   },
   {
    "duration": 14,
    "start_time": "2022-08-31T19:40:18.134Z"
   },
   {
    "duration": 437,
    "start_time": "2022-08-31T19:40:18.150Z"
   },
   {
    "duration": 9,
    "start_time": "2022-08-31T19:40:18.588Z"
   },
   {
    "duration": 12,
    "start_time": "2022-08-31T19:40:18.598Z"
   },
   {
    "duration": 248,
    "start_time": "2022-08-31T19:40:18.612Z"
   },
   {
    "duration": 309,
    "start_time": "2022-08-31T19:40:18.862Z"
   },
   {
    "duration": 272,
    "start_time": "2022-08-31T19:40:19.173Z"
   },
   {
    "duration": 9,
    "start_time": "2022-08-31T19:40:19.447Z"
   },
   {
    "duration": 9,
    "start_time": "2022-08-31T19:40:19.458Z"
   },
   {
    "duration": 272,
    "start_time": "2022-08-31T19:40:19.486Z"
   },
   {
    "duration": 561,
    "start_time": "2022-08-31T19:40:19.759Z"
   },
   {
    "duration": 9,
    "start_time": "2022-08-31T19:40:20.321Z"
   },
   {
    "duration": 4,
    "start_time": "2022-08-31T19:40:20.333Z"
   },
   {
    "duration": 5,
    "start_time": "2022-08-31T19:40:20.338Z"
   },
   {
    "duration": 8,
    "start_time": "2022-08-31T19:40:20.345Z"
   },
   {
    "duration": 37,
    "start_time": "2022-08-31T19:40:20.355Z"
   },
   {
    "duration": 12,
    "start_time": "2022-08-31T19:40:20.394Z"
   },
   {
    "duration": 5,
    "start_time": "2022-08-31T19:40:20.407Z"
   },
   {
    "duration": 16,
    "start_time": "2022-08-31T19:40:20.414Z"
   },
   {
    "duration": 12,
    "start_time": "2022-08-31T19:40:20.432Z"
   },
   {
    "duration": 5,
    "start_time": "2022-08-31T19:40:20.447Z"
   },
   {
    "duration": 37,
    "start_time": "2022-08-31T19:40:20.453Z"
   },
   {
    "duration": 46,
    "start_time": "2022-08-31T19:40:20.492Z"
   },
   {
    "duration": 26,
    "start_time": "2022-08-31T19:40:20.540Z"
   },
   {
    "duration": 21,
    "start_time": "2022-08-31T19:40:20.586Z"
   },
   {
    "duration": 5,
    "start_time": "2022-08-31T19:40:20.609Z"
   },
   {
    "duration": 870,
    "start_time": "2022-08-31T19:40:20.615Z"
   },
   {
    "duration": 3011,
    "start_time": "2022-08-31T19:40:21.488Z"
   },
   {
    "duration": 20,
    "start_time": "2022-08-31T19:40:24.502Z"
   },
   {
    "duration": 196533,
    "start_time": "2022-08-31T19:40:24.524Z"
   },
   {
    "duration": 30,
    "start_time": "2022-08-31T19:43:41.059Z"
   },
   {
    "duration": 8,
    "start_time": "2022-08-31T19:43:41.091Z"
   },
   {
    "duration": 12,
    "start_time": "2022-08-31T19:43:41.101Z"
   },
   {
    "duration": 7,
    "start_time": "2022-08-31T19:43:41.115Z"
   },
   {
    "duration": 8079,
    "start_time": "2022-09-01T14:52:10.934Z"
   },
   {
    "duration": 804,
    "start_time": "2022-09-01T14:52:19.017Z"
   },
   {
    "duration": 116,
    "start_time": "2022-09-01T14:52:19.913Z"
   },
   {
    "duration": 187,
    "start_time": "2022-09-01T14:52:20.031Z"
   },
   {
    "duration": 209,
    "start_time": "2022-09-01T14:52:20.220Z"
   },
   {
    "duration": 91,
    "start_time": "2022-09-01T14:52:20.434Z"
   },
   {
    "duration": 187,
    "start_time": "2022-09-01T14:52:20.530Z"
   },
   {
    "duration": 291,
    "start_time": "2022-09-01T14:52:20.722Z"
   },
   {
    "duration": 502,
    "start_time": "2022-09-01T14:52:21.019Z"
   },
   {
    "duration": 196,
    "start_time": "2022-09-01T14:52:21.525Z"
   },
   {
    "duration": 394,
    "start_time": "2022-09-01T14:52:21.722Z"
   },
   {
    "duration": 393,
    "start_time": "2022-09-01T14:52:22.118Z"
   },
   {
    "duration": 2806,
    "start_time": "2022-09-01T14:52:22.512Z"
   },
   {
    "duration": 94,
    "start_time": "2022-09-01T14:52:25.323Z"
   },
   {
    "duration": 1418,
    "start_time": "2022-09-01T14:52:25.424Z"
   },
   {
    "duration": 101,
    "start_time": "2022-09-01T14:52:26.917Z"
   },
   {
    "duration": 3300,
    "start_time": "2022-09-01T14:52:27.021Z"
   },
   {
    "duration": 14,
    "start_time": "2022-09-01T14:52:30.323Z"
   },
   {
    "duration": 312,
    "start_time": "2022-09-01T14:52:30.411Z"
   },
   {
    "duration": 2308,
    "start_time": "2022-09-01T14:52:30.725Z"
   },
   {
    "duration": 2090,
    "start_time": "2022-09-01T14:52:33.038Z"
   },
   {
    "duration": 1590,
    "start_time": "2022-09-01T14:52:35.135Z"
   },
   {
    "duration": 91,
    "start_time": "2022-09-01T14:52:36.734Z"
   },
   {
    "duration": 308,
    "start_time": "2022-09-01T14:52:36.827Z"
   },
   {
    "duration": 2587,
    "start_time": "2022-09-01T14:52:37.138Z"
   },
   {
    "duration": 2708,
    "start_time": "2022-09-01T14:52:39.733Z"
   },
   {
    "duration": 15,
    "start_time": "2022-09-01T14:52:42.515Z"
   },
   {
    "duration": 376,
    "start_time": "2022-09-01T14:52:42.535Z"
   },
   {
    "duration": 504,
    "start_time": "2022-09-01T14:52:42.913Z"
   },
   {
    "duration": 94,
    "start_time": "2022-09-01T14:52:43.418Z"
   },
   {
    "duration": 507,
    "start_time": "2022-09-01T14:52:43.513Z"
   },
   {
    "duration": 394,
    "start_time": "2022-09-01T14:52:44.024Z"
   },
   {
    "duration": 297,
    "start_time": "2022-09-01T14:52:44.420Z"
   },
   {
    "duration": 504,
    "start_time": "2022-09-01T14:52:44.719Z"
   },
   {
    "duration": 488,
    "start_time": "2022-09-01T14:52:45.229Z"
   },
   {
    "duration": 502,
    "start_time": "2022-09-01T14:52:45.719Z"
   },
   {
    "duration": 296,
    "start_time": "2022-09-01T14:52:46.223Z"
   },
   {
    "duration": 716,
    "start_time": "2022-09-01T14:52:46.520Z"
   },
   {
    "duration": 298,
    "start_time": "2022-09-01T14:52:47.319Z"
   },
   {
    "duration": 392,
    "start_time": "2022-09-01T14:52:47.619Z"
   },
   {
    "duration": 11,
    "start_time": "2022-09-01T14:52:48.020Z"
   },
   {
    "duration": 1896,
    "start_time": "2022-09-01T14:52:48.032Z"
   },
   {
    "duration": 23591,
    "start_time": "2022-09-01T14:52:50.029Z"
   },
   {
    "duration": 180,
    "start_time": "2022-09-01T14:53:13.637Z"
   },
   {
    "duration": 51,
    "start_time": "2022-09-01T16:34:53.495Z"
   },
   {
    "duration": 1539,
    "start_time": "2022-09-01T16:35:03.446Z"
   },
   {
    "duration": 143,
    "start_time": "2022-09-01T16:35:05.421Z"
   },
   {
    "duration": 10,
    "start_time": "2022-09-01T16:35:05.821Z"
   },
   {
    "duration": 3,
    "start_time": "2022-09-01T16:35:06.152Z"
   },
   {
    "duration": 11,
    "start_time": "2022-09-01T16:35:06.846Z"
   },
   {
    "duration": 9,
    "start_time": "2022-09-01T16:35:07.364Z"
   },
   {
    "duration": 5,
    "start_time": "2022-09-01T16:35:08.013Z"
   },
   {
    "duration": 3,
    "start_time": "2022-09-01T16:35:08.549Z"
   },
   {
    "duration": 9,
    "start_time": "2022-09-01T16:35:09.095Z"
   },
   {
    "duration": 5,
    "start_time": "2022-09-01T16:35:09.286Z"
   },
   {
    "duration": 4,
    "start_time": "2022-09-01T16:35:09.708Z"
   },
   {
    "duration": 4,
    "start_time": "2022-09-01T16:35:10.253Z"
   },
   {
    "duration": 288,
    "start_time": "2022-09-01T16:35:11.629Z"
   },
   {
    "duration": 9,
    "start_time": "2022-09-01T16:35:13.659Z"
   },
   {
    "duration": 222,
    "start_time": "2022-09-01T16:35:15.950Z"
   },
   {
    "duration": 168,
    "start_time": "2022-09-01T16:35:26.247Z"
   },
   {
    "duration": 13,
    "start_time": "2022-09-01T16:35:38.852Z"
   },
   {
    "duration": 8,
    "start_time": "2022-09-01T16:35:46.431Z"
   },
   {
    "duration": 388,
    "start_time": "2022-09-01T16:35:50.753Z"
   },
   {
    "duration": 10,
    "start_time": "2022-09-01T16:36:15.503Z"
   },
   {
    "duration": 20,
    "start_time": "2022-09-01T16:36:19.367Z"
   },
   {
    "duration": 7,
    "start_time": "2022-09-01T16:36:39.906Z"
   },
   {
    "duration": 8,
    "start_time": "2022-09-01T16:36:42.031Z"
   },
   {
    "duration": 228,
    "start_time": "2022-09-01T16:36:44.837Z"
   },
   {
    "duration": 248,
    "start_time": "2022-09-01T16:36:47.922Z"
   },
   {
    "duration": 231,
    "start_time": "2022-09-01T16:36:52.018Z"
   },
   {
    "duration": 7,
    "start_time": "2022-09-01T16:37:05.407Z"
   },
   {
    "duration": 8,
    "start_time": "2022-09-01T16:37:05.921Z"
   },
   {
    "duration": 216,
    "start_time": "2022-09-01T16:37:06.463Z"
   },
   {
    "duration": 410,
    "start_time": "2022-09-01T16:37:09.438Z"
   },
   {
    "duration": 6,
    "start_time": "2022-09-01T16:37:17.233Z"
   },
   {
    "duration": 2,
    "start_time": "2022-09-01T16:37:17.774Z"
   },
   {
    "duration": 3,
    "start_time": "2022-09-01T16:37:18.507Z"
   },
   {
    "duration": 2,
    "start_time": "2022-09-01T16:37:25.578Z"
   },
   {
    "duration": 17,
    "start_time": "2022-09-01T16:37:42.491Z"
   },
   {
    "duration": 7,
    "start_time": "2022-09-01T16:37:57.368Z"
   },
   {
    "duration": 7,
    "start_time": "2022-09-01T16:38:00.318Z"
   },
   {
    "duration": 10,
    "start_time": "2022-09-01T16:38:07.013Z"
   },
   {
    "duration": 10,
    "start_time": "2022-09-01T16:38:11.331Z"
   },
   {
    "duration": 9,
    "start_time": "2022-09-01T16:38:27.896Z"
   },
   {
    "duration": 11,
    "start_time": "2022-09-01T16:38:41.110Z"
   },
   {
    "duration": 9,
    "start_time": "2022-09-01T16:39:16.663Z"
   },
   {
    "duration": 10,
    "start_time": "2022-09-01T16:39:24.748Z"
   },
   {
    "duration": 2,
    "start_time": "2022-09-01T16:39:51.077Z"
   },
   {
    "duration": 9,
    "start_time": "2022-09-01T16:39:54.469Z"
   },
   {
    "duration": 6,
    "start_time": "2022-09-01T16:39:57.483Z"
   },
   {
    "duration": 10,
    "start_time": "2022-09-01T16:40:39.667Z"
   },
   {
    "duration": 10,
    "start_time": "2022-09-01T16:41:18.433Z"
   },
   {
    "duration": 10,
    "start_time": "2022-09-01T16:41:46.347Z"
   },
   {
    "duration": 8,
    "start_time": "2022-09-01T16:42:20.731Z"
   },
   {
    "duration": 10,
    "start_time": "2022-09-01T16:42:26.855Z"
   },
   {
    "duration": 7,
    "start_time": "2022-09-01T16:43:00.530Z"
   },
   {
    "duration": 6,
    "start_time": "2022-09-01T16:43:02.430Z"
   },
   {
    "duration": 7,
    "start_time": "2022-09-01T16:43:42.049Z"
   },
   {
    "duration": 6,
    "start_time": "2022-09-01T16:43:43.851Z"
   },
   {
    "duration": 10,
    "start_time": "2022-09-01T16:44:18.046Z"
   },
   {
    "duration": 3,
    "start_time": "2022-09-01T16:44:22.310Z"
   },
   {
    "duration": 11,
    "start_time": "2022-09-01T16:44:22.827Z"
   },
   {
    "duration": 7,
    "start_time": "2022-09-01T16:44:24.235Z"
   },
   {
    "duration": 2,
    "start_time": "2022-09-01T16:44:34.293Z"
   },
   {
    "duration": 5,
    "start_time": "2022-09-01T16:44:34.934Z"
   },
   {
    "duration": 30,
    "start_time": "2022-09-01T16:44:43.959Z"
   },
   {
    "duration": 29,
    "start_time": "2022-09-01T16:45:00.488Z"
   },
   {
    "duration": 22,
    "start_time": "2022-09-01T16:45:07.436Z"
   },
   {
    "duration": 20,
    "start_time": "2022-09-01T16:45:37.171Z"
   },
   {
    "duration": 16,
    "start_time": "2022-09-01T16:45:38.806Z"
   },
   {
    "duration": 4,
    "start_time": "2022-09-01T16:45:40.624Z"
   },
   {
    "duration": 12,
    "start_time": "2022-09-01T16:45:54.264Z"
   },
   {
    "duration": 4,
    "start_time": "2022-09-01T16:46:00.631Z"
   },
   {
    "duration": 359,
    "start_time": "2022-09-01T16:46:07.644Z"
   },
   {
    "duration": 983,
    "start_time": "2022-09-01T16:46:11.905Z"
   },
   {
    "duration": 9,
    "start_time": "2022-09-01T16:46:15.967Z"
   },
   {
    "duration": 273580,
    "start_time": "2022-09-01T16:46:19.658Z"
   },
   {
    "duration": 10,
    "start_time": "2022-09-01T16:50:53.240Z"
   },
   {
    "duration": 6,
    "start_time": "2022-09-01T16:50:53.252Z"
   },
   {
    "duration": 7,
    "start_time": "2022-09-01T16:50:53.259Z"
   },
   {
    "duration": 4,
    "start_time": "2022-09-01T16:50:53.267Z"
   },
   {
    "duration": 4,
    "start_time": "2022-09-01T16:54:40.071Z"
   },
   {
    "duration": 3,
    "start_time": "2022-09-01T16:54:40.482Z"
   },
   {
    "duration": 4,
    "start_time": "2022-09-01T16:55:16.150Z"
   },
   {
    "duration": 4,
    "start_time": "2022-09-01T16:55:16.498Z"
   },
   {
    "duration": 26,
    "start_time": "2022-09-01T16:56:14.309Z"
   },
   {
    "duration": 6,
    "start_time": "2022-09-01T16:56:24.547Z"
   },
   {
    "duration": 4,
    "start_time": "2022-09-01T16:56:25.711Z"
   },
   {
    "duration": 8,
    "start_time": "2022-09-01T16:58:14.364Z"
   },
   {
    "duration": 8,
    "start_time": "2022-09-01T16:58:31.726Z"
   },
   {
    "duration": 4,
    "start_time": "2022-09-01T16:59:08.961Z"
   },
   {
    "duration": 10,
    "start_time": "2022-09-01T16:59:29.305Z"
   },
   {
    "duration": 11,
    "start_time": "2022-09-01T16:59:58.505Z"
   },
   {
    "duration": 9,
    "start_time": "2022-09-01T17:00:03.504Z"
   },
   {
    "duration": 8,
    "start_time": "2022-09-01T17:00:28.421Z"
   },
   {
    "duration": 10,
    "start_time": "2022-09-01T17:00:29.645Z"
   },
   {
    "duration": 12,
    "start_time": "2022-09-01T17:00:39.347Z"
   },
   {
    "duration": 6,
    "start_time": "2022-09-01T17:00:46.556Z"
   },
   {
    "duration": 5,
    "start_time": "2022-09-01T17:00:52.571Z"
   },
   {
    "duration": 4,
    "start_time": "2022-09-01T17:00:53.164Z"
   },
   {
    "duration": 11,
    "start_time": "2022-09-01T17:03:55.461Z"
   },
   {
    "duration": 1394,
    "start_time": "2022-09-01T17:04:09.062Z"
   },
   {
    "duration": 260,
    "start_time": "2022-09-01T17:04:10.458Z"
   },
   {
    "duration": 13,
    "start_time": "2022-09-01T17:04:10.719Z"
   },
   {
    "duration": 4,
    "start_time": "2022-09-01T17:04:10.734Z"
   },
   {
    "duration": 14,
    "start_time": "2022-09-01T17:04:10.740Z"
   },
   {
    "duration": 8,
    "start_time": "2022-09-01T17:04:10.755Z"
   },
   {
    "duration": 6,
    "start_time": "2022-09-01T17:04:10.764Z"
   },
   {
    "duration": 28,
    "start_time": "2022-09-01T17:04:10.771Z"
   },
   {
    "duration": 10,
    "start_time": "2022-09-01T17:04:10.801Z"
   },
   {
    "duration": 5,
    "start_time": "2022-09-01T17:04:10.813Z"
   },
   {
    "duration": 3,
    "start_time": "2022-09-01T17:04:10.820Z"
   },
   {
    "duration": 5,
    "start_time": "2022-09-01T17:04:10.825Z"
   },
   {
    "duration": 306,
    "start_time": "2022-09-01T17:04:10.832Z"
   },
   {
    "duration": 8,
    "start_time": "2022-09-01T17:04:11.140Z"
   },
   {
    "duration": 193,
    "start_time": "2022-09-01T17:04:11.149Z"
   },
   {
    "duration": 10,
    "start_time": "2022-09-01T17:04:11.343Z"
   },
   {
    "duration": 378,
    "start_time": "2022-09-01T17:04:11.355Z"
   },
   {
    "duration": 6,
    "start_time": "2022-09-01T17:04:11.735Z"
   },
   {
    "duration": 6,
    "start_time": "2022-09-01T17:04:11.742Z"
   },
   {
    "duration": 224,
    "start_time": "2022-09-01T17:04:11.750Z"
   },
   {
    "duration": 256,
    "start_time": "2022-09-01T17:04:11.976Z"
   },
   {
    "duration": 229,
    "start_time": "2022-09-01T17:04:12.234Z"
   },
   {
    "duration": 7,
    "start_time": "2022-09-01T17:04:12.464Z"
   },
   {
    "duration": 7,
    "start_time": "2022-09-01T17:04:12.472Z"
   },
   {
    "duration": 238,
    "start_time": "2022-09-01T17:04:12.481Z"
   },
   {
    "duration": 432,
    "start_time": "2022-09-01T17:04:12.722Z"
   },
   {
    "duration": 7,
    "start_time": "2022-09-01T17:04:13.155Z"
   },
   {
    "duration": 3,
    "start_time": "2022-09-01T17:04:13.165Z"
   },
   {
    "duration": 4,
    "start_time": "2022-09-01T17:04:13.169Z"
   },
   {
    "duration": 4,
    "start_time": "2022-09-01T17:04:13.174Z"
   },
   {
    "duration": 22,
    "start_time": "2022-09-01T17:04:13.180Z"
   },
   {
    "duration": 6,
    "start_time": "2022-09-01T17:04:13.203Z"
   },
   {
    "duration": 3,
    "start_time": "2022-09-01T17:04:13.211Z"
   },
   {
    "duration": 13,
    "start_time": "2022-09-01T17:04:13.215Z"
   },
   {
    "duration": 7,
    "start_time": "2022-09-01T17:04:13.229Z"
   },
   {
    "duration": 4,
    "start_time": "2022-09-01T17:04:13.238Z"
   },
   {
    "duration": 5,
    "start_time": "2022-09-01T17:04:13.243Z"
   },
   {
    "duration": 49,
    "start_time": "2022-09-01T17:04:13.249Z"
   },
   {
    "duration": 23,
    "start_time": "2022-09-01T17:04:13.300Z"
   },
   {
    "duration": 11,
    "start_time": "2022-09-01T17:04:13.325Z"
   },
   {
    "duration": 4,
    "start_time": "2022-09-01T17:04:13.338Z"
   },
   {
    "duration": 354,
    "start_time": "2022-09-01T17:04:13.344Z"
   },
   {
    "duration": 1103,
    "start_time": "2022-09-01T17:04:13.700Z"
   },
   {
    "duration": 10,
    "start_time": "2022-09-01T17:04:14.805Z"
   },
   {
    "duration": 273528,
    "start_time": "2022-09-01T17:04:14.816Z"
   },
   {
    "duration": 12,
    "start_time": "2022-09-01T17:08:48.346Z"
   },
   {
    "duration": 22,
    "start_time": "2022-09-01T17:08:48.359Z"
   },
   {
    "duration": 144,
    "start_time": "2022-09-01T17:08:48.383Z"
   },
   {
    "duration": 0,
    "start_time": "2022-09-01T17:08:48.528Z"
   },
   {
    "duration": 0,
    "start_time": "2022-09-01T17:08:48.529Z"
   },
   {
    "duration": 10,
    "start_time": "2022-09-01T17:10:41.736Z"
   },
   {
    "duration": 10,
    "start_time": "2022-09-01T17:11:27.151Z"
   },
   {
    "duration": 10,
    "start_time": "2022-09-01T17:11:42.130Z"
   },
   {
    "duration": 10,
    "start_time": "2022-09-01T17:11:49.253Z"
   },
   {
    "duration": 5,
    "start_time": "2022-09-01T17:12:00.144Z"
   },
   {
    "duration": 269044,
    "start_time": "2022-09-01T17:12:14.584Z"
   },
   {
    "duration": 10,
    "start_time": "2022-09-01T17:16:43.630Z"
   },
   {
    "duration": 7,
    "start_time": "2022-09-01T17:16:43.641Z"
   },
   {
    "duration": 3156,
    "start_time": "2022-09-01T17:16:43.649Z"
   },
   {
    "duration": 3,
    "start_time": "2022-09-01T17:16:46.806Z"
   },
   {
    "duration": 6,
    "start_time": "2022-09-01T17:16:46.811Z"
   },
   {
    "duration": 618,
    "start_time": "2022-09-01T17:22:21.552Z"
   },
   {
    "duration": 3103,
    "start_time": "2022-09-01T17:23:17.682Z"
   },
   {
    "duration": 3208,
    "start_time": "2022-09-01T17:23:47.990Z"
   },
   {
    "duration": 3,
    "start_time": "2022-09-01T17:23:51.200Z"
   },
   {
    "duration": 4,
    "start_time": "2022-09-01T17:23:51.240Z"
   },
   {
    "duration": 3229,
    "start_time": "2022-09-01T17:26:10.274Z"
   },
   {
    "duration": 3,
    "start_time": "2022-09-01T17:26:16.634Z"
   },
   {
    "duration": 4,
    "start_time": "2022-09-01T17:26:17.274Z"
   },
   {
    "duration": 4,
    "start_time": "2022-09-01T17:27:21.006Z"
   },
   {
    "duration": 8,
    "start_time": "2022-09-01T18:58:17.906Z"
   },
   {
    "duration": 48,
    "start_time": "2022-09-01T18:58:19.612Z"
   },
   {
    "duration": 1766,
    "start_time": "2022-09-01T18:58:29.192Z"
   },
   {
    "duration": 137,
    "start_time": "2022-09-01T18:58:30.961Z"
   },
   {
    "duration": 18,
    "start_time": "2022-09-01T18:58:31.101Z"
   },
   {
    "duration": 28,
    "start_time": "2022-09-01T18:58:31.123Z"
   },
   {
    "duration": 55,
    "start_time": "2022-09-01T18:58:31.155Z"
   },
   {
    "duration": 30,
    "start_time": "2022-09-01T18:58:31.212Z"
   },
   {
    "duration": 45,
    "start_time": "2022-09-01T18:58:31.244Z"
   },
   {
    "duration": 20,
    "start_time": "2022-09-01T18:58:31.292Z"
   },
   {
    "duration": 34,
    "start_time": "2022-09-01T18:58:31.314Z"
   },
   {
    "duration": 34,
    "start_time": "2022-09-01T18:58:31.350Z"
   },
   {
    "duration": 18,
    "start_time": "2022-09-01T18:58:31.386Z"
   },
   {
    "duration": 41,
    "start_time": "2022-09-01T18:58:31.407Z"
   },
   {
    "duration": 332,
    "start_time": "2022-09-01T18:58:31.450Z"
   },
   {
    "duration": 23,
    "start_time": "2022-09-01T18:58:31.785Z"
   },
   {
    "duration": 218,
    "start_time": "2022-09-01T18:58:31.810Z"
   },
   {
    "duration": 11,
    "start_time": "2022-09-01T18:58:32.030Z"
   },
   {
    "duration": 450,
    "start_time": "2022-09-01T18:58:32.043Z"
   },
   {
    "duration": 10,
    "start_time": "2022-09-01T18:58:32.496Z"
   },
   {
    "duration": 11,
    "start_time": "2022-09-01T18:58:32.508Z"
   },
   {
    "duration": 262,
    "start_time": "2022-09-01T18:58:32.522Z"
   },
   {
    "duration": 316,
    "start_time": "2022-09-01T18:58:32.788Z"
   },
   {
    "duration": 281,
    "start_time": "2022-09-01T18:58:33.106Z"
   },
   {
    "duration": 18,
    "start_time": "2022-09-01T18:58:33.388Z"
   },
   {
    "duration": 13,
    "start_time": "2022-09-01T18:58:33.408Z"
   },
   {
    "duration": 287,
    "start_time": "2022-09-01T18:58:33.423Z"
   },
   {
    "duration": 560,
    "start_time": "2022-09-01T18:58:33.712Z"
   },
   {
    "duration": 8,
    "start_time": "2022-09-01T18:58:34.274Z"
   },
   {
    "duration": 25,
    "start_time": "2022-09-01T18:58:34.284Z"
   },
   {
    "duration": 10,
    "start_time": "2022-09-01T18:58:34.310Z"
   },
   {
    "duration": 11,
    "start_time": "2022-09-01T18:58:34.322Z"
   },
   {
    "duration": 21,
    "start_time": "2022-09-01T18:58:34.335Z"
   },
   {
    "duration": 14,
    "start_time": "2022-09-01T18:58:34.358Z"
   },
   {
    "duration": 9,
    "start_time": "2022-09-01T18:58:34.375Z"
   },
   {
    "duration": 24,
    "start_time": "2022-09-01T18:58:34.386Z"
   },
   {
    "duration": 37,
    "start_time": "2022-09-01T18:58:34.412Z"
   },
   {
    "duration": 19,
    "start_time": "2022-09-01T18:58:34.451Z"
   },
   {
    "duration": 11,
    "start_time": "2022-09-01T18:58:34.472Z"
   },
   {
    "duration": 32,
    "start_time": "2022-09-01T18:58:34.486Z"
   },
   {
    "duration": 34,
    "start_time": "2022-09-01T18:58:34.520Z"
   },
   {
    "duration": 24,
    "start_time": "2022-09-01T18:58:34.556Z"
   },
   {
    "duration": 21,
    "start_time": "2022-09-01T18:58:34.585Z"
   },
   {
    "duration": 296,
    "start_time": "2022-09-01T18:58:34.608Z"
   },
   {
    "duration": 1146,
    "start_time": "2022-09-01T18:58:34.906Z"
   },
   {
    "duration": 13,
    "start_time": "2022-09-01T18:58:36.053Z"
   },
   {
    "duration": 328119,
    "start_time": "2022-09-01T18:58:36.068Z"
   },
   {
    "duration": 13,
    "start_time": "2022-09-01T19:04:04.189Z"
   },
   {
    "duration": 9,
    "start_time": "2022-09-01T19:04:04.203Z"
   },
   {
    "duration": 3644,
    "start_time": "2022-09-01T19:04:04.214Z"
   },
   {
    "duration": 3,
    "start_time": "2022-09-01T19:04:07.860Z"
   },
   {
    "duration": 10,
    "start_time": "2022-09-01T19:04:07.864Z"
   },
   {
    "duration": 19,
    "start_time": "2022-09-01T19:04:07.875Z"
   },
   {
    "duration": 4,
    "start_time": "2022-09-01T19:09:47.881Z"
   },
   {
    "duration": 9,
    "start_time": "2022-09-01T19:10:07.508Z"
   },
   {
    "duration": 138,
    "start_time": "2022-09-01T19:10:58.364Z"
   },
   {
    "duration": 23,
    "start_time": "2022-09-01T19:11:49.967Z"
   },
   {
    "duration": 39,
    "start_time": "2022-09-01T19:11:50.842Z"
   },
   {
    "duration": 9,
    "start_time": "2022-09-01T19:12:19.584Z"
   },
   {
    "duration": 22,
    "start_time": "2022-09-01T19:13:25.453Z"
   },
   {
    "duration": 45,
    "start_time": "2022-09-01T19:13:26.449Z"
   },
   {
    "duration": 13,
    "start_time": "2022-09-01T19:13:27.980Z"
   },
   {
    "duration": 5,
    "start_time": "2022-09-01T19:13:29.069Z"
   },
   {
    "duration": 597,
    "start_time": "2022-09-01T19:13:29.907Z"
   },
   {
    "duration": 1154,
    "start_time": "2022-09-01T19:13:37.095Z"
   },
   {
    "duration": 13,
    "start_time": "2022-09-01T19:13:40.239Z"
   },
   {
    "duration": 4156,
    "start_time": "2022-09-01T19:13:48.988Z"
   },
   {
    "duration": 3,
    "start_time": "2022-09-01T19:13:56.893Z"
   },
   {
    "duration": 5,
    "start_time": "2022-09-01T19:13:57.381Z"
   },
   {
    "duration": 125,
    "start_time": "2022-09-01T19:14:04.586Z"
   },
   {
    "duration": 14,
    "start_time": "2022-09-01T19:14:21.931Z"
   },
   {
    "duration": 28,
    "start_time": "2022-09-01T19:14:22.628Z"
   },
   {
    "duration": 18,
    "start_time": "2022-09-01T19:14:25.353Z"
   },
   {
    "duration": 5,
    "start_time": "2022-09-01T19:14:26.640Z"
   },
   {
    "duration": 424,
    "start_time": "2022-09-01T19:14:29.895Z"
   },
   {
    "duration": 1011,
    "start_time": "2022-09-01T19:14:36.925Z"
   },
   {
    "duration": 12,
    "start_time": "2022-09-01T19:14:39.841Z"
   },
   {
    "duration": 128,
    "start_time": "2022-09-01T19:15:21.476Z"
   },
   {
    "duration": 5,
    "start_time": "2022-09-01T19:16:19.903Z"
   },
   {
    "duration": 4052,
    "start_time": "2022-09-01T19:16:38.215Z"
   },
   {
    "duration": 4,
    "start_time": "2022-09-01T19:16:43.349Z"
   },
   {
    "duration": 5,
    "start_time": "2022-09-01T19:16:43.775Z"
   },
   {
    "duration": 122,
    "start_time": "2022-09-01T19:16:51.351Z"
   },
   {
    "duration": 4137,
    "start_time": "2022-09-01T19:17:47.795Z"
   },
   {
    "duration": 35,
    "start_time": "2022-09-01T19:17:57.342Z"
   },
   {
    "duration": 4,
    "start_time": "2022-09-01T19:18:07.743Z"
   },
   {
    "duration": 7,
    "start_time": "2022-09-01T19:18:08.424Z"
   },
   {
    "duration": 14,
    "start_time": "2022-09-01T19:18:47.597Z"
   },
   {
    "duration": 11,
    "start_time": "2022-09-01T19:18:57.159Z"
   },
   {
    "duration": 346307,
    "start_time": "2022-09-01T19:19:14.017Z"
   },
   {
    "duration": 4108,
    "start_time": "2022-09-01T19:25:00.326Z"
   },
   {
    "duration": 4,
    "start_time": "2022-09-01T19:25:04.436Z"
   },
   {
    "duration": 27,
    "start_time": "2022-09-01T19:25:04.442Z"
   },
   {
    "duration": 10,
    "start_time": "2022-09-01T19:25:04.471Z"
   },
   {
    "duration": 5,
    "start_time": "2022-09-01T19:25:11.592Z"
   },
   {
    "duration": 4,
    "start_time": "2022-09-01T19:25:14.926Z"
   },
   {
    "duration": 6,
    "start_time": "2022-09-01T19:27:06.854Z"
   },
   {
    "duration": 394,
    "start_time": "2022-09-01T19:27:59.539Z"
   },
   {
    "duration": 3,
    "start_time": "2022-09-01T19:28:42.396Z"
   },
   {
    "duration": 266,
    "start_time": "2022-09-01T19:29:00.860Z"
   },
   {
    "duration": 397,
    "start_time": "2022-09-01T19:29:42.168Z"
   },
   {
    "duration": 157,
    "start_time": "2022-09-01T19:29:50.332Z"
   },
   {
    "duration": 9,
    "start_time": "2022-09-01T19:30:04.945Z"
   },
   {
    "duration": 9,
    "start_time": "2022-09-01T19:30:12.607Z"
   },
   {
    "duration": 9,
    "start_time": "2022-09-01T19:30:19.149Z"
   },
   {
    "duration": 9,
    "start_time": "2022-09-01T19:30:31.471Z"
   },
   {
    "duration": 15,
    "start_time": "2022-09-01T19:30:38.492Z"
   },
   {
    "duration": 178,
    "start_time": "2022-09-01T19:30:57.670Z"
   },
   {
    "duration": 246,
    "start_time": "2022-09-01T19:31:06.088Z"
   },
   {
    "duration": 242,
    "start_time": "2022-09-01T19:31:17.661Z"
   },
   {
    "duration": 190,
    "start_time": "2022-09-01T19:31:34.419Z"
   },
   {
    "duration": 268,
    "start_time": "2022-09-01T19:32:01.549Z"
   },
   {
    "duration": 269,
    "start_time": "2022-09-01T19:32:50.706Z"
   },
   {
    "duration": 371,
    "start_time": "2022-09-01T19:32:56.497Z"
   },
   {
    "duration": 300,
    "start_time": "2022-09-01T19:33:36.937Z"
   },
   {
    "duration": 222,
    "start_time": "2022-09-01T19:33:47.493Z"
   },
   {
    "duration": 225,
    "start_time": "2022-09-01T19:34:04.280Z"
   },
   {
    "duration": 1518,
    "start_time": "2022-09-01T19:37:05.882Z"
   },
   {
    "duration": 66,
    "start_time": "2022-09-01T19:37:07.402Z"
   },
   {
    "duration": 12,
    "start_time": "2022-09-01T19:37:07.470Z"
   },
   {
    "duration": 11,
    "start_time": "2022-09-01T19:37:07.484Z"
   },
   {
    "duration": 19,
    "start_time": "2022-09-01T19:37:07.497Z"
   },
   {
    "duration": 10,
    "start_time": "2022-09-01T19:37:07.517Z"
   },
   {
    "duration": 21,
    "start_time": "2022-09-01T19:37:07.529Z"
   },
   {
    "duration": 6,
    "start_time": "2022-09-01T19:37:07.551Z"
   },
   {
    "duration": 16,
    "start_time": "2022-09-01T19:37:07.558Z"
   },
   {
    "duration": 7,
    "start_time": "2022-09-01T19:37:07.576Z"
   },
   {
    "duration": 13,
    "start_time": "2022-09-01T19:37:07.584Z"
   },
   {
    "duration": 8,
    "start_time": "2022-09-01T19:37:07.599Z"
   },
   {
    "duration": 326,
    "start_time": "2022-09-01T19:37:07.608Z"
   },
   {
    "duration": 9,
    "start_time": "2022-09-01T19:37:07.936Z"
   },
   {
    "duration": 207,
    "start_time": "2022-09-01T19:37:07.946Z"
   },
   {
    "duration": 12,
    "start_time": "2022-09-01T19:37:08.155Z"
   },
   {
    "duration": 457,
    "start_time": "2022-09-01T19:37:08.168Z"
   },
   {
    "duration": 9,
    "start_time": "2022-09-01T19:37:08.627Z"
   },
   {
    "duration": 9,
    "start_time": "2022-09-01T19:37:08.638Z"
   },
   {
    "duration": 256,
    "start_time": "2022-09-01T19:37:08.649Z"
   },
   {
    "duration": 331,
    "start_time": "2022-09-01T19:37:08.906Z"
   },
   {
    "duration": 278,
    "start_time": "2022-09-01T19:37:09.239Z"
   },
   {
    "duration": 9,
    "start_time": "2022-09-01T19:37:09.518Z"
   },
   {
    "duration": 9,
    "start_time": "2022-09-01T19:37:09.528Z"
   },
   {
    "duration": 290,
    "start_time": "2022-09-01T19:37:09.538Z"
   },
   {
    "duration": 520,
    "start_time": "2022-09-01T19:37:09.829Z"
   },
   {
    "duration": 9,
    "start_time": "2022-09-01T19:37:10.351Z"
   },
   {
    "duration": 3,
    "start_time": "2022-09-01T19:37:10.365Z"
   },
   {
    "duration": 5,
    "start_time": "2022-09-01T19:37:10.370Z"
   },
   {
    "duration": 26,
    "start_time": "2022-09-01T19:37:10.377Z"
   },
   {
    "duration": 17,
    "start_time": "2022-09-01T19:37:10.405Z"
   },
   {
    "duration": 22,
    "start_time": "2022-09-01T19:37:10.424Z"
   },
   {
    "duration": 18,
    "start_time": "2022-09-01T19:37:10.448Z"
   },
   {
    "duration": 25,
    "start_time": "2022-09-01T19:37:10.467Z"
   },
   {
    "duration": 13,
    "start_time": "2022-09-01T19:37:10.494Z"
   },
   {
    "duration": 7,
    "start_time": "2022-09-01T19:37:10.509Z"
   },
   {
    "duration": 7,
    "start_time": "2022-09-01T19:37:10.519Z"
   },
   {
    "duration": 30,
    "start_time": "2022-09-01T19:37:10.528Z"
   },
   {
    "duration": 44,
    "start_time": "2022-09-01T19:37:10.560Z"
   },
   {
    "duration": 12,
    "start_time": "2022-09-01T19:37:10.605Z"
   },
   {
    "duration": 4,
    "start_time": "2022-09-01T19:37:10.619Z"
   },
   {
    "duration": 484,
    "start_time": "2022-09-01T19:37:10.625Z"
   },
   {
    "duration": 1132,
    "start_time": "2022-09-01T19:37:11.111Z"
   },
   {
    "duration": 11,
    "start_time": "2022-09-01T19:37:12.245Z"
   },
   {
    "duration": 316636,
    "start_time": "2022-09-01T19:37:12.258Z"
   },
   {
    "duration": 14,
    "start_time": "2022-09-01T19:42:28.896Z"
   },
   {
    "duration": 9,
    "start_time": "2022-09-01T19:42:28.912Z"
   },
   {
    "duration": 3451,
    "start_time": "2022-09-01T19:42:28.923Z"
   },
   {
    "duration": 5,
    "start_time": "2022-09-01T19:42:32.376Z"
   },
   {
    "duration": 11,
    "start_time": "2022-09-01T19:42:32.383Z"
   },
   {
    "duration": 271,
    "start_time": "2022-09-01T19:42:32.396Z"
   },
   {
    "duration": 208,
    "start_time": "2022-09-01T19:42:32.669Z"
   },
   {
    "duration": 1738,
    "start_time": "2022-09-01T20:01:37.576Z"
   },
   {
    "duration": 184,
    "start_time": "2022-09-01T20:01:39.316Z"
   },
   {
    "duration": 11,
    "start_time": "2022-09-01T20:01:39.501Z"
   },
   {
    "duration": 4,
    "start_time": "2022-09-01T20:01:39.514Z"
   },
   {
    "duration": 22,
    "start_time": "2022-09-01T20:01:39.520Z"
   },
   {
    "duration": 8,
    "start_time": "2022-09-01T20:01:39.544Z"
   },
   {
    "duration": 8,
    "start_time": "2022-09-01T20:01:39.553Z"
   },
   {
    "duration": 6,
    "start_time": "2022-09-01T20:01:39.562Z"
   },
   {
    "duration": 16,
    "start_time": "2022-09-01T20:01:39.570Z"
   },
   {
    "duration": 5,
    "start_time": "2022-09-01T20:01:39.589Z"
   },
   {
    "duration": 4,
    "start_time": "2022-09-01T20:01:39.596Z"
   },
   {
    "duration": 9,
    "start_time": "2022-09-01T20:01:39.602Z"
   },
   {
    "duration": 304,
    "start_time": "2022-09-01T20:01:39.613Z"
   },
   {
    "duration": 12,
    "start_time": "2022-09-01T20:01:39.919Z"
   },
   {
    "duration": 207,
    "start_time": "2022-09-01T20:01:39.933Z"
   },
   {
    "duration": 15,
    "start_time": "2022-09-01T20:01:40.143Z"
   },
   {
    "duration": 518,
    "start_time": "2022-09-01T20:01:40.160Z"
   },
   {
    "duration": 8,
    "start_time": "2022-09-01T20:01:40.681Z"
   },
   {
    "duration": 26,
    "start_time": "2022-09-01T20:01:40.691Z"
   },
   {
    "duration": 287,
    "start_time": "2022-09-01T20:01:40.719Z"
   },
   {
    "duration": 298,
    "start_time": "2022-09-01T20:01:41.008Z"
   },
   {
    "duration": 255,
    "start_time": "2022-09-01T20:01:41.308Z"
   },
   {
    "duration": 11,
    "start_time": "2022-09-01T20:01:41.565Z"
   },
   {
    "duration": 39,
    "start_time": "2022-09-01T20:01:41.577Z"
   },
   {
    "duration": 299,
    "start_time": "2022-09-01T20:01:41.618Z"
   },
   {
    "duration": 457,
    "start_time": "2022-09-01T20:01:41.918Z"
   },
   {
    "duration": 11,
    "start_time": "2022-09-01T20:01:42.377Z"
   },
   {
    "duration": 4,
    "start_time": "2022-09-01T20:01:42.391Z"
   },
   {
    "duration": 13,
    "start_time": "2022-09-01T20:01:42.396Z"
   },
   {
    "duration": 5,
    "start_time": "2022-09-01T20:01:42.410Z"
   },
   {
    "duration": 10,
    "start_time": "2022-09-01T20:01:42.416Z"
   },
   {
    "duration": 7,
    "start_time": "2022-09-01T20:01:42.429Z"
   },
   {
    "duration": 3,
    "start_time": "2022-09-01T20:01:42.438Z"
   },
   {
    "duration": 22,
    "start_time": "2022-09-01T20:01:42.443Z"
   },
   {
    "duration": 6,
    "start_time": "2022-09-01T20:01:42.467Z"
   },
   {
    "duration": 3,
    "start_time": "2022-09-01T20:01:42.487Z"
   },
   {
    "duration": 5,
    "start_time": "2022-09-01T20:01:42.491Z"
   },
   {
    "duration": 30,
    "start_time": "2022-09-01T20:01:42.498Z"
   },
   {
    "duration": 24,
    "start_time": "2022-09-01T20:01:42.529Z"
   },
   {
    "duration": 12,
    "start_time": "2022-09-01T20:01:42.555Z"
   },
   {
    "duration": 3,
    "start_time": "2022-09-01T20:01:42.587Z"
   },
   {
    "duration": 595,
    "start_time": "2022-09-01T20:01:42.592Z"
   },
   {
    "duration": 900,
    "start_time": "2022-09-01T20:01:43.189Z"
   },
   {
    "duration": 9,
    "start_time": "2022-09-01T20:01:44.091Z"
   },
   {
    "duration": 284361,
    "start_time": "2022-09-01T20:01:44.102Z"
   },
   {
    "duration": 9,
    "start_time": "2022-09-01T20:06:28.465Z"
   },
   {
    "duration": 5,
    "start_time": "2022-09-01T20:06:28.476Z"
   },
   {
    "duration": 4509,
    "start_time": "2022-09-01T20:06:28.483Z"
   },
   {
    "duration": 4,
    "start_time": "2022-09-01T20:06:32.994Z"
   },
   {
    "duration": 9,
    "start_time": "2022-09-01T20:06:33.000Z"
   },
   {
    "duration": 229,
    "start_time": "2022-09-01T20:06:33.011Z"
   },
   {
    "duration": 190,
    "start_time": "2022-09-01T20:06:33.242Z"
   }
  ],
  "colab": {
   "collapsed_sections": [],
   "name": "time_prodjekt.ipynb",
   "provenance": []
  },
  "kernelspec": {
   "display_name": "Python 3 (ipykernel)",
   "language": "python",
   "name": "python3"
  },
  "language_info": {
   "codemirror_mode": {
    "name": "ipython",
    "version": 3
   },
   "file_extension": ".py",
   "mimetype": "text/x-python",
   "name": "python",
   "nbconvert_exporter": "python",
   "pygments_lexer": "ipython3",
   "version": "3.10.8"
  },
  "toc": {
   "base_numbering": 1,
   "nav_menu": {},
   "number_sections": true,
   "sideBar": true,
   "skip_h1_title": true,
   "title_cell": "Содержание",
   "title_sidebar": "Contents",
   "toc_cell": true,
   "toc_position": {
    "height": "calc(100% - 180px)",
    "left": "10px",
    "top": "150px",
    "width": "165px"
   },
   "toc_section_display": true,
   "toc_window_display": true
  },
  "varInspector": {
   "cols": {
    "lenName": 16,
    "lenType": 16,
    "lenVar": 40
   },
   "kernels_config": {
    "python": {
     "delete_cmd_postfix": "",
     "delete_cmd_prefix": "del ",
     "library": "var_list.py",
     "varRefreshCmd": "print(var_dic_list())"
    },
    "r": {
     "delete_cmd_postfix": ") ",
     "delete_cmd_prefix": "rm(",
     "library": "var_list.r",
     "varRefreshCmd": "cat(var_dic_list()) "
    }
   },
   "types_to_exclude": [
    "module",
    "function",
    "builtin_function_or_method",
    "instance",
    "_Feature"
   ],
   "window_display": false
  }
 },
 "nbformat": 4,
 "nbformat_minor": 4
}
